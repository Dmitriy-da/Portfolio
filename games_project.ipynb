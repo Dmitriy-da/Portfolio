{
 "cells": [
  {
   "cell_type": "markdown",
   "metadata": {},
   "source": [
    "<font face='Liberation serif' size=3>\n",
    "    \n",
    "**Привет, Дмитрий!** 👋\n",
    "\n",
    "Меня зовут Артем. Я старший аналитик заказчика и я буду проверять твой проект. В рамках корпоративной этики мы общаемся на «ты». Но если лучше на «Вы», то нужно обозначить это сразу.\n",
    " \n",
    "В тетрадке есть комментарии к проекту, они будут в отдельных ячейках Markdown.\n",
    " \n",
    "<div class=\"alert alert-danger\">\n",
    "\n",
    "**Артём:** ❌ Такой комментарий **нужно исправить** обязательно, он критически влияет на удачное выполнение проекта.\n",
    "\n",
    "</div>\n",
    "\n",
    "<div class=\"alert alert-warning\">\n",
    "\n",
    "**Артём:** 💡 Этот комментарий подскажет о небольших ошибках или неопитмальных решениях в проекте. \n",
    "</div>\n",
    "\n",
    "<div class=\"alert alert-success\">\n",
    "\n",
    "**Артём:** 👍 А это **самый главный комментарий**, значит все сделано хорошо. 😉\n",
    "\n",
    "</div>\n",
    "\n",
    "<div class=\"alert alert-info\">\n",
    "\n",
    "**Артём:** 💡 В таких комментариях я оставляю подсказки как сделать **твой проект ещё лучше**.\n",
    "\n",
    "</div>\n",
    "\n",
    "---\n",
    "\n",
    "**Распространенные ошибки**\n",
    "\n",
    "<div class=\"alert alert-danger\">\n",
    "\n",
    "**Артём:** ❌ Не перемещай и не удаляй мои комментарии. Лучше, чтобы твои ответы на мои комментарии шли по очереди, как сообщения в мессенджере. Это ускорит проверку.\n",
    "    \n",
    "</div>\n",
    "\n",
    "<div class=\"alert alert-danger\">\n",
    "\n",
    "**Артём:** ❌ Проверь проект на работоспособность перед отправкой на проверку. Это важный навык, который тебе пригодится как на собеседовании, при выполнении тестового задания, так и перед совещанием у руководства компании. Помни, ревьеры не вносят изменения в код, даже если это путь к датасету или ячейка в неверном формате (code/mardown).  \n",
    "    \n",
    "</div>\n",
    "\n",
    "<div class=\"alert alert-info\">\n",
    "\n",
    "**Артём:** 💡 Кстати, смотри как можно сделать, чтобы датасет грузился и локально, и в JupyterHub:\n",
    "\n",
    "```py\n",
    "try:\n",
    "    df = pd.read_csv('C:/Users/Student/Desktop/dataset.csv')\n",
    "except:\n",
    "    df = pd.read_csv('/datasets/dataset.csv')\n",
    "```\n",
    "    \n",
    "Используя эту конструкцию в будущих проектах, ты будешь спокойно отправлять проект на проверку зная, что он будет работать.\n",
    "    \n",
    "</div>\n",
    "\n",
    "<div class=\"alert alert-danger\">\n",
    "\n",
    "**Артём:** ❌ Проект должен быть структурирован. Где названия разделов и подразделов будут записаны в ячейках [Markdown](https://paulradzkov.com/2014/markdown_cheatsheet/?).\n",
    "    \n",
    "</div>\n",
    "\n",
    "<div class=\"alert alert-danger\">\n",
    "\n",
    "**Артём:** ❌ Если с твоим проектом будет знакомиться другой человек, например рекрутер или старший дата специалист, в нем должны быть описаны поставленные задачи, содержание датасета, промежуточные и финальные выводы. Как правило, заказчик читает только финальный вывод, поэтому важно добавить информацию о проведенном исследовании, применить форматирование текста, в общем, сделать красиво, чтобы было понятно, что проведено настоящее исследование и выводу можно верить. \n",
    "\n",
    "</div>  \n",
    "\n",
    "<div class=\"alert alert-warning\">\n",
    "    \n",
    "**Артём:** 💡 Длинный код и комментарии нужно переносить на новую строку. Согласись, коллеги не оценят, если им придется тратить время на пролистывание ячеек. Согласно международному стандарту [PEP8](https://www.python.org/dev/peps/pep-0008/) длина строки не должна превышать 79 символов.\n",
    "Вот как можно перенести код на новую строку:\n",
    "\n",
    "```py\n",
    "# Переносить можно код внутри скобки\n",
    "example = (2 *\n",
    "           2)\n",
    "```\n",
    "Конечно, я не считаю сколько символов в строке, главное, чтобы код или комментарий не ушел за пределы ячейки (зависит от разрешения экрана). Если ушел, то это желтый комментарий для каждой нечитаемой ячейки.\n",
    "    \n",
    "</div>\n",
    "\n",
    "<div class=\"alert alert-warning\">\n",
    "    \n",
    "**Артём:** 💡 Тимлид, старший дата специалист или ревьюер ценят твое и своё время, подсвечивай свои комментарии в ячейках Markdown. Шаблон я тебе оставил ниже. Подробнее про синтаксис Markdown, с примерами, можно почитать [здесь](https://paulradzkov.com/2014/markdown_cheatsheet/?).\n",
    "    \n",
    "</div>\n",
    "\n",
    "<div class=\"alert alert-success\">\n",
    "\n",
    "**Артём:** 👍 Буду рад, если воспользуешься моими советами. Они тебе помогут при трудоустройстве, например в [Яндексе](https://yandex.ru/jobs/pages/analytics_interview?ysclid=l84s63fs1g790141490), и при работе в команде. Если в ходе проведения исследования возникнут вопросы, не стесняйся задавай. 🙂\n",
    "</div>\n",
    "\n",
    "<div class=\"alert alert-info\">\n",
    "\n",
    "**Артём:** 🏁 [Итоги ревью здесь](#results)\n",
    "</div>\n",
    "\n",
    "\n",
    "**Поехали!** 🚀 👨‍🚀\n",
    "    <a id=\"start\"></a>"
   ]
  },
  {
   "cell_type": "markdown",
   "metadata": {},
   "source": [
    "<div style=\"background-color:black; color:#ffffff; text-align:center; padding:2%\">\n",
    "    \n",
    "**Имя:** Это шаблон для тебя. Такой комментарий можно быстро найти."
   ]
  },
  {
   "cell_type": "markdown",
   "metadata": {},
   "source": [
    "<div class=\"alert alert-success\">\n",
    "\n",
    "**Артём:** ❌ Добавь структуру проекта как в ТЗ.\n",
    "    \n",
    "```\n",
    "## Шаг 1. Откройте файл с данными и изучите общую информацию\n",
    "## Шаг 2. Подготовьте данные\n",
    "### Замените названия столбцов (приведите к нижнему регистру)\n",
    "### Преобразуйте данные в нужные типы\n",
    "### Опишите, в каких столбцах заменили тип данных и почему\n",
    "### Обработайте пропуски при необходимости\n",
    "### Объясните, почему заполнили пропуски определённым образом или почему не стали это делать\n",
    "### Опишите причины, которые могли привести к пропускам\n",
    "### Обратите внимание на аббревиатуру 'tbd' в столбце с оценкой пользователей, Отдельно разберите это значение и опишите, как его обработать\n",
    "### Посчитайте суммарные продажи во всех регионах и запишите их в отдельный столбец\n",
    "## Шаг 3. Проведите исследовательский анализ данных\n",
    "### Посмотрите, сколько игр выпускалось в разные годы\n",
    "### Важны ли данные за все периоды?\n",
    "### Посмотрите, как менялись продажи по платформам. \n",
    "### Выберите платформы с наибольшими суммарными продажами и постройте распределение по годам. \n",
    "### За какой характерный срок появляются новые и исчезают старые платформы?\n",
    "### Возьмите данные за соответствующий актуальный период. Актуальный период определите самостоятельно в результате исследования предыдущих вопросов. Основной фактор — эти данные помогут построить прогноз на 2017 год. **Не учитывайте в работе данные за предыдущие годы.**\n",
    "### Какие платформы лидируют по продажам, растут или падают? Выберите несколько потенциально прибыльных платформ.\n",
    "### Постройте график «ящик с усами» по глобальным продажам игр в разбивке по платформам. Опишите результат.\n",
    "### Посмотрите, как влияют на продажи внутри одной популярной платформы отзывы пользователей и критиков. Постройте диаграмму рассеяния и посчитайте корреляцию между отзывами и продажами. Сформулируйте выводы.\n",
    "### Соотнесите выводы с продажами игр на других платформах.\n",
    "### Посмотрите на общее распределение игр по жанрам. Что можно сказать о самых прибыльных жанрах? Выделяются ли жанры с высокими и низкими продажами?\n",
    "## Шаг 4. Составьте портрет пользователя каждого региона\n",
    "### Определите для пользователя каждого региона (NA, EU, JP):\n",
    "### Самые популярные платформы (топ-5). Опишите различия в долях продаж.\n",
    "### Самые популярные жанры (топ-5). Поясните разницу.\n",
    "### Влияет ли рейтинг ESRB на продажи в отдельном регионе?\n",
    "## 📊 Шаг 5. Проверьте гипотезы\n",
    "Задайте самостоятельно пороговое значение alpha.\n",
    "Поясните:\n",
    "Как вы сформулировали нулевую и альтернативную гипотезы;\n",
    "Какой критерий применили для проверки гипотез и почему.    \n",
    "### 📊 Средние пользовательские рейтинги платформ Xbox One и PC одинаковые;\n",
    "### 📊 Средние пользовательские рейтинги жанров Action (англ. «действие», экшен-игры) и Sports (англ. «спортивные соревнования») разные.\n",
    "\n",
    "## Шаг 6. Напишите общий вывод\n",
    "```\n",
    "    \n",
    "</div>\n",
    "<div class=\"alert alert-info\">\n",
    "\n",
    "#### **Артём:** 💡 Пример, как это делать, я тебе оставил в пятом шаге в тетрадке.   \n",
    "Посмотри в меню **Content** слева. Чтобы не перепутать твои и мои ячейки, я добавил эмоджи 📊.   \n",
    "Теперь он структурирован, тебе так нужно сделать в остальном проекте. \n",
    "</div> \n",
    "<div class=\"alert alert-success\">\n",
    "\n",
    "**Артём:** ❌ Структуры нужно добавить в сам проект, а не перед ним. Посмотри пример, который я тебе оставил в 5ом шаге.\n",
    "</div>\n",
    "<div class=\"alert alert-success\">\n",
    "\n",
    "**Артём:** 👍 Молодец.\n",
    "  \n",
    "</div> "
   ]
  },
  {
   "cell_type": "markdown",
   "metadata": {},
   "source": [
    "<div class=\"alert alert-success\">\n",
    "\n",
    "**Артём:** ❌ Добавь название и описание проекта.\n",
    "</div>\n",
    "<div class=\"alert alert-success\">\n",
    "\n",
    "**Артём:** 👍 Хорошо.\n",
    "  \n",
    "</div> "
   ]
  },
  {
   "cell_type": "markdown",
   "metadata": {},
   "source": [
    "## 📊 Шаг 1. Проверьте гипотезы\n",
    "Откройте файл с данными и изучите общую информацию"
   ]
  },
  {
   "cell_type": "markdown",
   "metadata": {},
   "source": [
    "<div style=\"background-color:green; color:#ffffff; text-align:center; padding:2%\">\n",
    "    \n",
    " Исследование рынка видеоигр. "
   ]
  },
  {
   "cell_type": "markdown",
   "metadata": {},
   "source": [
    "Перед нам данные о продаже игр, оценке критиков и пользователей, жанры и платформы. Нам необходимо определить закономерность, для того, чтобы сделать прогноз на следущий год. Это позволит продавцу сделать упор на более выгодные для него предложения. \n"
   ]
  },
  {
   "cell_type": "code",
   "execution_count": 1,
   "metadata": {},
   "outputs": [],
   "source": [
    "import pandas as pd\n",
    "import numpy as np\n",
    "import matplotlib.pyplot as plt\n",
    "from scipy import stats as st"
   ]
  },
  {
   "cell_type": "code",
   "execution_count": 2,
   "metadata": {},
   "outputs": [],
   "source": [
    "games = pd.read_csv('/datasets/games.csv')\n",
    "pd.set_option('display.max_columns', None)"
   ]
  },
  {
   "cell_type": "code",
   "execution_count": 3,
   "metadata": {},
   "outputs": [
    {
     "data": {
      "text/html": [
       "<div>\n",
       "<style scoped>\n",
       "    .dataframe tbody tr th:only-of-type {\n",
       "        vertical-align: middle;\n",
       "    }\n",
       "\n",
       "    .dataframe tbody tr th {\n",
       "        vertical-align: top;\n",
       "    }\n",
       "\n",
       "    .dataframe thead th {\n",
       "        text-align: right;\n",
       "    }\n",
       "</style>\n",
       "<table border=\"1\" class=\"dataframe\">\n",
       "  <thead>\n",
       "    <tr style=\"text-align: right;\">\n",
       "      <th></th>\n",
       "      <th>Name</th>\n",
       "      <th>Platform</th>\n",
       "      <th>Year_of_Release</th>\n",
       "      <th>Genre</th>\n",
       "      <th>NA_sales</th>\n",
       "      <th>EU_sales</th>\n",
       "      <th>JP_sales</th>\n",
       "      <th>Other_sales</th>\n",
       "      <th>Critic_Score</th>\n",
       "      <th>User_Score</th>\n",
       "      <th>Rating</th>\n",
       "    </tr>\n",
       "  </thead>\n",
       "  <tbody>\n",
       "    <tr>\n",
       "      <th>0</th>\n",
       "      <td>Wii Sports</td>\n",
       "      <td>Wii</td>\n",
       "      <td>2006.0</td>\n",
       "      <td>Sports</td>\n",
       "      <td>41.36</td>\n",
       "      <td>28.96</td>\n",
       "      <td>3.77</td>\n",
       "      <td>8.45</td>\n",
       "      <td>76.0</td>\n",
       "      <td>8</td>\n",
       "      <td>E</td>\n",
       "    </tr>\n",
       "    <tr>\n",
       "      <th>1</th>\n",
       "      <td>Super Mario Bros.</td>\n",
       "      <td>NES</td>\n",
       "      <td>1985.0</td>\n",
       "      <td>Platform</td>\n",
       "      <td>29.08</td>\n",
       "      <td>3.58</td>\n",
       "      <td>6.81</td>\n",
       "      <td>0.77</td>\n",
       "      <td>NaN</td>\n",
       "      <td>NaN</td>\n",
       "      <td>NaN</td>\n",
       "    </tr>\n",
       "    <tr>\n",
       "      <th>2</th>\n",
       "      <td>Mario Kart Wii</td>\n",
       "      <td>Wii</td>\n",
       "      <td>2008.0</td>\n",
       "      <td>Racing</td>\n",
       "      <td>15.68</td>\n",
       "      <td>12.76</td>\n",
       "      <td>3.79</td>\n",
       "      <td>3.29</td>\n",
       "      <td>82.0</td>\n",
       "      <td>8.3</td>\n",
       "      <td>E</td>\n",
       "    </tr>\n",
       "    <tr>\n",
       "      <th>3</th>\n",
       "      <td>Wii Sports Resort</td>\n",
       "      <td>Wii</td>\n",
       "      <td>2009.0</td>\n",
       "      <td>Sports</td>\n",
       "      <td>15.61</td>\n",
       "      <td>10.93</td>\n",
       "      <td>3.28</td>\n",
       "      <td>2.95</td>\n",
       "      <td>80.0</td>\n",
       "      <td>8</td>\n",
       "      <td>E</td>\n",
       "    </tr>\n",
       "    <tr>\n",
       "      <th>4</th>\n",
       "      <td>Pokemon Red/Pokemon Blue</td>\n",
       "      <td>GB</td>\n",
       "      <td>1996.0</td>\n",
       "      <td>Role-Playing</td>\n",
       "      <td>11.27</td>\n",
       "      <td>8.89</td>\n",
       "      <td>10.22</td>\n",
       "      <td>1.00</td>\n",
       "      <td>NaN</td>\n",
       "      <td>NaN</td>\n",
       "      <td>NaN</td>\n",
       "    </tr>\n",
       "  </tbody>\n",
       "</table>\n",
       "</div>"
      ],
      "text/plain": [
       "                       Name Platform  Year_of_Release         Genre  NA_sales  \\\n",
       "0                Wii Sports      Wii           2006.0        Sports     41.36   \n",
       "1         Super Mario Bros.      NES           1985.0      Platform     29.08   \n",
       "2            Mario Kart Wii      Wii           2008.0        Racing     15.68   \n",
       "3         Wii Sports Resort      Wii           2009.0        Sports     15.61   \n",
       "4  Pokemon Red/Pokemon Blue       GB           1996.0  Role-Playing     11.27   \n",
       "\n",
       "   EU_sales  JP_sales  Other_sales  Critic_Score User_Score Rating  \n",
       "0     28.96      3.77         8.45          76.0          8      E  \n",
       "1      3.58      6.81         0.77           NaN        NaN    NaN  \n",
       "2     12.76      3.79         3.29          82.0        8.3      E  \n",
       "3     10.93      3.28         2.95          80.0          8      E  \n",
       "4      8.89     10.22         1.00           NaN        NaN    NaN  "
      ]
     },
     "execution_count": 3,
     "metadata": {},
     "output_type": "execute_result"
    }
   ],
   "source": [
    "games.head()"
   ]
  },
  {
   "cell_type": "markdown",
   "metadata": {},
   "source": [
    "<div class=\"alert alert-success\">\n",
    "\n",
    "**Артём:** ❌ Загрузку библиотек, датасета и рабочий код лучше разделять на три разные ячейки. Это правило хорошего тона среди дата-специалистов на Python.\n",
    "    \n",
    "</div>\n",
    "<div class=\"alert alert-success\">\n",
    "\n",
    "**Артём:** 👍 Хорошо.\n",
    "  \n",
    "</div> "
   ]
  },
  {
   "cell_type": "markdown",
   "metadata": {},
   "source": [
    "Так, ну впервую очередь видим, что названия столбцов нужно сделать нижним регистром. "
   ]
  },
  {
   "cell_type": "markdown",
   "metadata": {},
   "source": [
    "## 📊 Шаг 2. Подготовьте данные\n"
   ]
  },
  {
   "cell_type": "markdown",
   "metadata": {},
   "source": [
    "### 📊 Замените названия столбцов (приведите к нижнему регистру);"
   ]
  },
  {
   "cell_type": "code",
   "execution_count": 4,
   "metadata": {},
   "outputs": [
    {
     "data": {
      "text/html": [
       "<div>\n",
       "<style scoped>\n",
       "    .dataframe tbody tr th:only-of-type {\n",
       "        vertical-align: middle;\n",
       "    }\n",
       "\n",
       "    .dataframe tbody tr th {\n",
       "        vertical-align: top;\n",
       "    }\n",
       "\n",
       "    .dataframe thead th {\n",
       "        text-align: right;\n",
       "    }\n",
       "</style>\n",
       "<table border=\"1\" class=\"dataframe\">\n",
       "  <thead>\n",
       "    <tr style=\"text-align: right;\">\n",
       "      <th></th>\n",
       "      <th>name</th>\n",
       "      <th>platform</th>\n",
       "      <th>year_of_release</th>\n",
       "      <th>genre</th>\n",
       "      <th>na_sales</th>\n",
       "      <th>eu_sales</th>\n",
       "      <th>jp_sales</th>\n",
       "      <th>other_sales</th>\n",
       "      <th>critic_score</th>\n",
       "      <th>user_score</th>\n",
       "      <th>rating</th>\n",
       "    </tr>\n",
       "  </thead>\n",
       "  <tbody>\n",
       "    <tr>\n",
       "      <th>0</th>\n",
       "      <td>Wii Sports</td>\n",
       "      <td>Wii</td>\n",
       "      <td>2006.0</td>\n",
       "      <td>Sports</td>\n",
       "      <td>41.36</td>\n",
       "      <td>28.96</td>\n",
       "      <td>3.77</td>\n",
       "      <td>8.45</td>\n",
       "      <td>76.0</td>\n",
       "      <td>8</td>\n",
       "      <td>E</td>\n",
       "    </tr>\n",
       "    <tr>\n",
       "      <th>1</th>\n",
       "      <td>Super Mario Bros.</td>\n",
       "      <td>NES</td>\n",
       "      <td>1985.0</td>\n",
       "      <td>Platform</td>\n",
       "      <td>29.08</td>\n",
       "      <td>3.58</td>\n",
       "      <td>6.81</td>\n",
       "      <td>0.77</td>\n",
       "      <td>NaN</td>\n",
       "      <td>NaN</td>\n",
       "      <td>NaN</td>\n",
       "    </tr>\n",
       "    <tr>\n",
       "      <th>2</th>\n",
       "      <td>Mario Kart Wii</td>\n",
       "      <td>Wii</td>\n",
       "      <td>2008.0</td>\n",
       "      <td>Racing</td>\n",
       "      <td>15.68</td>\n",
       "      <td>12.76</td>\n",
       "      <td>3.79</td>\n",
       "      <td>3.29</td>\n",
       "      <td>82.0</td>\n",
       "      <td>8.3</td>\n",
       "      <td>E</td>\n",
       "    </tr>\n",
       "    <tr>\n",
       "      <th>3</th>\n",
       "      <td>Wii Sports Resort</td>\n",
       "      <td>Wii</td>\n",
       "      <td>2009.0</td>\n",
       "      <td>Sports</td>\n",
       "      <td>15.61</td>\n",
       "      <td>10.93</td>\n",
       "      <td>3.28</td>\n",
       "      <td>2.95</td>\n",
       "      <td>80.0</td>\n",
       "      <td>8</td>\n",
       "      <td>E</td>\n",
       "    </tr>\n",
       "    <tr>\n",
       "      <th>4</th>\n",
       "      <td>Pokemon Red/Pokemon Blue</td>\n",
       "      <td>GB</td>\n",
       "      <td>1996.0</td>\n",
       "      <td>Role-Playing</td>\n",
       "      <td>11.27</td>\n",
       "      <td>8.89</td>\n",
       "      <td>10.22</td>\n",
       "      <td>1.00</td>\n",
       "      <td>NaN</td>\n",
       "      <td>NaN</td>\n",
       "      <td>NaN</td>\n",
       "    </tr>\n",
       "  </tbody>\n",
       "</table>\n",
       "</div>"
      ],
      "text/plain": [
       "                       name platform  year_of_release         genre  na_sales  \\\n",
       "0                Wii Sports      Wii           2006.0        Sports     41.36   \n",
       "1         Super Mario Bros.      NES           1985.0      Platform     29.08   \n",
       "2            Mario Kart Wii      Wii           2008.0        Racing     15.68   \n",
       "3         Wii Sports Resort      Wii           2009.0        Sports     15.61   \n",
       "4  Pokemon Red/Pokemon Blue       GB           1996.0  Role-Playing     11.27   \n",
       "\n",
       "   eu_sales  jp_sales  other_sales  critic_score user_score rating  \n",
       "0     28.96      3.77         8.45          76.0          8      E  \n",
       "1      3.58      6.81         0.77           NaN        NaN    NaN  \n",
       "2     12.76      3.79         3.29          82.0        8.3      E  \n",
       "3     10.93      3.28         2.95          80.0          8      E  \n",
       "4      8.89     10.22         1.00           NaN        NaN    NaN  "
      ]
     },
     "execution_count": 4,
     "metadata": {},
     "output_type": "execute_result"
    }
   ],
   "source": [
    "games.columns = games.columns.str.lower()\n",
    "games.head()"
   ]
  },
  {
   "cell_type": "markdown",
   "metadata": {},
   "source": [
    "<div class=\"alert alert-success\">\n",
    "\n",
    "**Артём:** 👍 Оптимальный метод.\n",
    "  \n",
    "</div> "
   ]
  },
  {
   "cell_type": "markdown",
   "metadata": {},
   "source": [
    "- Name — название игры\n",
    "- Platform — платформа\n",
    "- Year_of_Release — год выпуска\n",
    "- Genre — жанр игры\n",
    "- NA_sales — продажи в Северной Америке (миллионы проданных копий)\n",
    "- EU_sales — продажи в Европе (миллионы проданных копий)\n",
    "- JP_sales — продажи в Японии (миллионы проданных копий)\n",
    "- Other_sales — продажи в других странах (миллионы проданных копий)\n",
    "- Critic_Score — оценка критиков (максимум 100)\n",
    "- User_Score — оценка пользователей (максимум 10)\n",
    "- Rating — рейтинг от организации ESRB (англ. Entertainment Software Rating Board). Эта ассоциация определяет рейтинг компьютерных игр и присваивает им подходящую возрастную категорию."
   ]
  },
  {
   "cell_type": "markdown",
   "metadata": {},
   "source": [
    "<div class=\"alert alert-success\">\n",
    "\n",
    "**Артём:** 👍 Хорошо.\n",
    "  \n",
    "</div> "
   ]
  },
  {
   "cell_type": "code",
   "execution_count": 5,
   "metadata": {},
   "outputs": [
    {
     "name": "stdout",
     "output_type": "stream",
     "text": [
      "<class 'pandas.core.frame.DataFrame'>\n",
      "RangeIndex: 16715 entries, 0 to 16714\n",
      "Data columns (total 11 columns):\n",
      " #   Column           Non-Null Count  Dtype  \n",
      "---  ------           --------------  -----  \n",
      " 0   name             16713 non-null  object \n",
      " 1   platform         16715 non-null  object \n",
      " 2   year_of_release  16446 non-null  float64\n",
      " 3   genre            16713 non-null  object \n",
      " 4   na_sales         16715 non-null  float64\n",
      " 5   eu_sales         16715 non-null  float64\n",
      " 6   jp_sales         16715 non-null  float64\n",
      " 7   other_sales      16715 non-null  float64\n",
      " 8   critic_score     8137 non-null   float64\n",
      " 9   user_score       10014 non-null  object \n",
      " 10  rating           9949 non-null   object \n",
      "dtypes: float64(6), object(5)\n",
      "memory usage: 1.4+ MB\n"
     ]
    }
   ],
   "source": [
    "games.info()"
   ]
  },
  {
   "cell_type": "markdown",
   "metadata": {},
   "source": [
    "Ну тут видим, что надо поменять тип данных в столбцах с годом выпуска, оценке критикиов и игроков. Так же в стлбце name имеется 2 пропуска. Придется их удалить. \n",
    "в столбце с годом выпуска 269 пропусков. Данные строки так же можем удалить. "
   ]
  },
  {
   "cell_type": "markdown",
   "metadata": {},
   "source": [
    "<div class=\"alert alert-success\">\n",
    "\n",
    "**Артём:** 👍 Согласен.\n",
    "  \n",
    "</div> "
   ]
  },
  {
   "cell_type": "markdown",
   "metadata": {},
   "source": [
    "### 📊 Обработайте пропуски при необходимости:\n",
    "\n",
    "#### Объясните, почему заполнили пропуски определённым образом или почему не стали это делать;\n",
    "#### Опишите причины, которые могли привести к пропускам;\n",
    "#### Обратите внимание на аббревиатуру 'tbd' в столбце с оценкой пользователей. Отдельно разберите это значение и опишите, как его обработать;"
   ]
  },
  {
   "cell_type": "code",
   "execution_count": 6,
   "metadata": {},
   "outputs": [
    {
     "data": {
      "text/html": [
       "<div>\n",
       "<style scoped>\n",
       "    .dataframe tbody tr th:only-of-type {\n",
       "        vertical-align: middle;\n",
       "    }\n",
       "\n",
       "    .dataframe tbody tr th {\n",
       "        vertical-align: top;\n",
       "    }\n",
       "\n",
       "    .dataframe thead th {\n",
       "        text-align: right;\n",
       "    }\n",
       "</style>\n",
       "<table border=\"1\" class=\"dataframe\">\n",
       "  <thead>\n",
       "    <tr style=\"text-align: right;\">\n",
       "      <th></th>\n",
       "      <th>name</th>\n",
       "      <th>platform</th>\n",
       "      <th>year_of_release</th>\n",
       "      <th>genre</th>\n",
       "      <th>na_sales</th>\n",
       "      <th>eu_sales</th>\n",
       "      <th>jp_sales</th>\n",
       "      <th>other_sales</th>\n",
       "      <th>critic_score</th>\n",
       "      <th>user_score</th>\n",
       "      <th>rating</th>\n",
       "    </tr>\n",
       "  </thead>\n",
       "  <tbody>\n",
       "    <tr>\n",
       "      <th>659</th>\n",
       "      <td>NaN</td>\n",
       "      <td>GEN</td>\n",
       "      <td>1993.0</td>\n",
       "      <td>NaN</td>\n",
       "      <td>1.78</td>\n",
       "      <td>0.53</td>\n",
       "      <td>0.00</td>\n",
       "      <td>0.08</td>\n",
       "      <td>NaN</td>\n",
       "      <td>NaN</td>\n",
       "      <td>NaN</td>\n",
       "    </tr>\n",
       "    <tr>\n",
       "      <th>14244</th>\n",
       "      <td>NaN</td>\n",
       "      <td>GEN</td>\n",
       "      <td>1993.0</td>\n",
       "      <td>NaN</td>\n",
       "      <td>0.00</td>\n",
       "      <td>0.00</td>\n",
       "      <td>0.03</td>\n",
       "      <td>0.00</td>\n",
       "      <td>NaN</td>\n",
       "      <td>NaN</td>\n",
       "      <td>NaN</td>\n",
       "    </tr>\n",
       "  </tbody>\n",
       "</table>\n",
       "</div>"
      ],
      "text/plain": [
       "      name platform  year_of_release genre  na_sales  eu_sales  jp_sales  \\\n",
       "659    NaN      GEN           1993.0   NaN      1.78      0.53      0.00   \n",
       "14244  NaN      GEN           1993.0   NaN      0.00      0.00      0.03   \n",
       "\n",
       "       other_sales  critic_score user_score rating  \n",
       "659           0.08           NaN        NaN    NaN  \n",
       "14244         0.00           NaN        NaN    NaN  "
      ]
     },
     "execution_count": 6,
     "metadata": {},
     "output_type": "execute_result"
    }
   ],
   "source": [
    "games[games['name'].isna()]"
   ]
  },
  {
   "cell_type": "code",
   "execution_count": 7,
   "metadata": {},
   "outputs": [
    {
     "name": "stdout",
     "output_type": "stream",
     "text": [
      "<class 'pandas.core.frame.DataFrame'>\n",
      "RangeIndex: 16444 entries, 0 to 16443\n",
      "Data columns (total 11 columns):\n",
      " #   Column           Non-Null Count  Dtype  \n",
      "---  ------           --------------  -----  \n",
      " 0   name             16444 non-null  object \n",
      " 1   platform         16444 non-null  object \n",
      " 2   year_of_release  16444 non-null  float64\n",
      " 3   genre            16444 non-null  object \n",
      " 4   na_sales         16444 non-null  float64\n",
      " 5   eu_sales         16444 non-null  float64\n",
      " 6   jp_sales         16444 non-null  float64\n",
      " 7   other_sales      16444 non-null  float64\n",
      " 8   critic_score     7983 non-null   float64\n",
      " 9   user_score       9839 non-null   object \n",
      " 10  rating           9768 non-null   object \n",
      "dtypes: float64(6), object(5)\n",
      "memory usage: 1.4+ MB\n"
     ]
    }
   ],
   "source": [
    "games = games.dropna(subset = ['name'])\n",
    "games = games.dropna(subset = ['year_of_release']).reset_index(drop = True)\n",
    "games.info()"
   ]
  },
  {
   "cell_type": "code",
   "execution_count": 8,
   "metadata": {
    "scrolled": true
   },
   "outputs": [
    {
     "data": {
      "text/html": [
       "<div>\n",
       "<style scoped>\n",
       "    .dataframe tbody tr th:only-of-type {\n",
       "        vertical-align: middle;\n",
       "    }\n",
       "\n",
       "    .dataframe tbody tr th {\n",
       "        vertical-align: top;\n",
       "    }\n",
       "\n",
       "    .dataframe thead th {\n",
       "        text-align: right;\n",
       "    }\n",
       "</style>\n",
       "<table border=\"1\" class=\"dataframe\">\n",
       "  <thead>\n",
       "    <tr style=\"text-align: right;\">\n",
       "      <th></th>\n",
       "      <th>name</th>\n",
       "      <th>platform</th>\n",
       "      <th>year_of_release</th>\n",
       "      <th>genre</th>\n",
       "      <th>na_sales</th>\n",
       "      <th>eu_sales</th>\n",
       "      <th>jp_sales</th>\n",
       "      <th>other_sales</th>\n",
       "      <th>critic_score</th>\n",
       "      <th>user_score</th>\n",
       "      <th>rating</th>\n",
       "    </tr>\n",
       "  </thead>\n",
       "  <tbody>\n",
       "    <tr>\n",
       "      <th>10</th>\n",
       "      <td>Nintendogs</td>\n",
       "      <td>DS</td>\n",
       "      <td>2005.0</td>\n",
       "      <td>Simulation</td>\n",
       "      <td>9.05</td>\n",
       "      <td>10.95</td>\n",
       "      <td>1.93</td>\n",
       "      <td>2.74</td>\n",
       "      <td>NaN</td>\n",
       "      <td>NaN</td>\n",
       "      <td>NaN</td>\n",
       "    </tr>\n",
       "    <tr>\n",
       "      <th>4</th>\n",
       "      <td>Pokemon Red/Pokemon Blue</td>\n",
       "      <td>GB</td>\n",
       "      <td>1996.0</td>\n",
       "      <td>Role-Playing</td>\n",
       "      <td>11.27</td>\n",
       "      <td>8.89</td>\n",
       "      <td>10.22</td>\n",
       "      <td>1.00</td>\n",
       "      <td>NaN</td>\n",
       "      <td>NaN</td>\n",
       "      <td>NaN</td>\n",
       "    </tr>\n",
       "    <tr>\n",
       "      <th>12</th>\n",
       "      <td>Pokemon Gold/Pokemon Silver</td>\n",
       "      <td>GB</td>\n",
       "      <td>1999.0</td>\n",
       "      <td>Role-Playing</td>\n",
       "      <td>9.00</td>\n",
       "      <td>6.18</td>\n",
       "      <td>7.20</td>\n",
       "      <td>0.71</td>\n",
       "      <td>NaN</td>\n",
       "      <td>NaN</td>\n",
       "      <td>NaN</td>\n",
       "    </tr>\n",
       "    <tr>\n",
       "      <th>20</th>\n",
       "      <td>Pokemon Diamond/Pokemon Pearl</td>\n",
       "      <td>DS</td>\n",
       "      <td>2006.0</td>\n",
       "      <td>Role-Playing</td>\n",
       "      <td>6.38</td>\n",
       "      <td>4.46</td>\n",
       "      <td>6.04</td>\n",
       "      <td>1.36</td>\n",
       "      <td>NaN</td>\n",
       "      <td>NaN</td>\n",
       "      <td>NaN</td>\n",
       "    </tr>\n",
       "    <tr>\n",
       "      <th>18</th>\n",
       "      <td>Super Mario World</td>\n",
       "      <td>SNES</td>\n",
       "      <td>1990.0</td>\n",
       "      <td>Platform</td>\n",
       "      <td>12.78</td>\n",
       "      <td>3.75</td>\n",
       "      <td>3.54</td>\n",
       "      <td>0.55</td>\n",
       "      <td>NaN</td>\n",
       "      <td>NaN</td>\n",
       "      <td>NaN</td>\n",
       "    </tr>\n",
       "    <tr>\n",
       "      <th>1</th>\n",
       "      <td>Super Mario Bros.</td>\n",
       "      <td>NES</td>\n",
       "      <td>1985.0</td>\n",
       "      <td>Platform</td>\n",
       "      <td>29.08</td>\n",
       "      <td>3.58</td>\n",
       "      <td>6.81</td>\n",
       "      <td>0.77</td>\n",
       "      <td>NaN</td>\n",
       "      <td>NaN</td>\n",
       "      <td>NaN</td>\n",
       "    </tr>\n",
       "    <tr>\n",
       "      <th>22</th>\n",
       "      <td>Super Mario Bros. 3</td>\n",
       "      <td>NES</td>\n",
       "      <td>1988.0</td>\n",
       "      <td>Platform</td>\n",
       "      <td>9.54</td>\n",
       "      <td>3.44</td>\n",
       "      <td>3.84</td>\n",
       "      <td>0.46</td>\n",
       "      <td>NaN</td>\n",
       "      <td>NaN</td>\n",
       "      <td>NaN</td>\n",
       "    </tr>\n",
       "    <tr>\n",
       "      <th>21</th>\n",
       "      <td>Super Mario Land</td>\n",
       "      <td>GB</td>\n",
       "      <td>1989.0</td>\n",
       "      <td>Platform</td>\n",
       "      <td>10.83</td>\n",
       "      <td>2.71</td>\n",
       "      <td>4.18</td>\n",
       "      <td>0.42</td>\n",
       "      <td>NaN</td>\n",
       "      <td>NaN</td>\n",
       "      <td>NaN</td>\n",
       "    </tr>\n",
       "    <tr>\n",
       "      <th>5</th>\n",
       "      <td>Tetris</td>\n",
       "      <td>GB</td>\n",
       "      <td>1989.0</td>\n",
       "      <td>Puzzle</td>\n",
       "      <td>23.20</td>\n",
       "      <td>2.26</td>\n",
       "      <td>4.22</td>\n",
       "      <td>0.58</td>\n",
       "      <td>NaN</td>\n",
       "      <td>NaN</td>\n",
       "      <td>NaN</td>\n",
       "    </tr>\n",
       "    <tr>\n",
       "      <th>9</th>\n",
       "      <td>Duck Hunt</td>\n",
       "      <td>NES</td>\n",
       "      <td>1984.0</td>\n",
       "      <td>Shooter</td>\n",
       "      <td>26.93</td>\n",
       "      <td>0.63</td>\n",
       "      <td>0.28</td>\n",
       "      <td>0.47</td>\n",
       "      <td>NaN</td>\n",
       "      <td>NaN</td>\n",
       "      <td>NaN</td>\n",
       "    </tr>\n",
       "  </tbody>\n",
       "</table>\n",
       "</div>"
      ],
      "text/plain": [
       "                             name platform  year_of_release         genre  \\\n",
       "10                     Nintendogs       DS           2005.0    Simulation   \n",
       "4        Pokemon Red/Pokemon Blue       GB           1996.0  Role-Playing   \n",
       "12    Pokemon Gold/Pokemon Silver       GB           1999.0  Role-Playing   \n",
       "20  Pokemon Diamond/Pokemon Pearl       DS           2006.0  Role-Playing   \n",
       "18              Super Mario World     SNES           1990.0      Platform   \n",
       "1               Super Mario Bros.      NES           1985.0      Platform   \n",
       "22            Super Mario Bros. 3      NES           1988.0      Platform   \n",
       "21               Super Mario Land       GB           1989.0      Platform   \n",
       "5                          Tetris       GB           1989.0        Puzzle   \n",
       "9                       Duck Hunt      NES           1984.0       Shooter   \n",
       "\n",
       "    na_sales  eu_sales  jp_sales  other_sales  critic_score user_score rating  \n",
       "10      9.05     10.95      1.93         2.74           NaN        NaN    NaN  \n",
       "4      11.27      8.89     10.22         1.00           NaN        NaN    NaN  \n",
       "12      9.00      6.18      7.20         0.71           NaN        NaN    NaN  \n",
       "20      6.38      4.46      6.04         1.36           NaN        NaN    NaN  \n",
       "18     12.78      3.75      3.54         0.55           NaN        NaN    NaN  \n",
       "1      29.08      3.58      6.81         0.77           NaN        NaN    NaN  \n",
       "22      9.54      3.44      3.84         0.46           NaN        NaN    NaN  \n",
       "21     10.83      2.71      4.18         0.42           NaN        NaN    NaN  \n",
       "5      23.20      2.26      4.22         0.58           NaN        NaN    NaN  \n",
       "9      26.93      0.63      0.28         0.47           NaN        NaN    NaN  "
      ]
     },
     "execution_count": 8,
     "metadata": {},
     "output_type": "execute_result"
    }
   ],
   "source": [
    "games[games['critic_score'].isna()].head(10).sort_values(by = 'eu_sales', ascending = False)"
   ]
  },
  {
   "cell_type": "markdown",
   "metadata": {},
   "source": [
    "<div class=\"alert alert-info\">\n",
    "\n",
    "**Артём:** 💡 Когда мы проводим исследование, действительно иногда нужно выводить на экран большие объемы информации. Но когда работа сдается на проверку лучше сокращать вывод до пять-десяти строк.\n",
    "\n",
    "</div>\n",
    "<div class=\"alert alert-success\">\n",
    "\n",
    "**Артём:** 👍 Хорошо.\n",
    "  \n",
    "</div> "
   ]
  },
  {
   "cell_type": "markdown",
   "metadata": {},
   "source": [
    "Оставшиеся пропуски мы никак не можем заменить на среднее или медианное значения. В большинстве, где в столбце оценки критиков нет значения, в столбцах игроков и в столбце рейтинга так же нет значений. Вероятнее всего это связано с тем, что игры просто были не популярны и их не обозревали / оценивали. Хотя после сортировки по продажам в Европе я увидел фифу 12 и начал сомневаться, что игра не популярна. Скорее всего просто нет данных на некоторые игры. "
   ]
  },
  {
   "cell_type": "markdown",
   "metadata": {},
   "source": [
    "<div class=\"alert alert-success\">\n",
    "\n",
    "**Артём:** 👍 Верно\n",
    "  \n",
    "</div> "
   ]
  },
  {
   "cell_type": "code",
   "execution_count": 9,
   "metadata": {},
   "outputs": [
    {
     "data": {
      "text/plain": [
       "0"
      ]
     },
     "execution_count": 9,
     "metadata": {},
     "output_type": "execute_result"
    }
   ],
   "source": [
    "games.duplicated().sum()"
   ]
  },
  {
   "cell_type": "markdown",
   "metadata": {},
   "source": [
    "Явных дубликатов нет."
   ]
  },
  {
   "cell_type": "markdown",
   "metadata": {},
   "source": [
    "Далее разберемся с tbd в оценках пользователей. "
   ]
  },
  {
   "cell_type": "code",
   "execution_count": 10,
   "metadata": {},
   "outputs": [
    {
     "data": {
      "text/plain": [
       "tbd    2376\n",
       "7.8     322\n",
       "8       285\n",
       "8.2     276\n",
       "8.3     252\n",
       "       ... \n",
       "9.6       2\n",
       "0.3       2\n",
       "0.5       2\n",
       "0         1\n",
       "9.7       1\n",
       "Name: user_score, Length: 96, dtype: int64"
      ]
     },
     "execution_count": 10,
     "metadata": {},
     "output_type": "execute_result"
    }
   ],
   "source": [
    "games['user_score'].value_counts()"
   ]
  },
  {
   "cell_type": "markdown",
   "metadata": {},
   "source": [
    "Надпись tbd означает , что предстоит оценить. Получается , что еще 2376 строк у нас пропущенных данных в столбце с оценкой игроков. "
   ]
  },
  {
   "cell_type": "code",
   "execution_count": 11,
   "metadata": {},
   "outputs": [
    {
     "data": {
      "text/html": [
       "<div>\n",
       "<style scoped>\n",
       "    .dataframe tbody tr th:only-of-type {\n",
       "        vertical-align: middle;\n",
       "    }\n",
       "\n",
       "    .dataframe tbody tr th {\n",
       "        vertical-align: top;\n",
       "    }\n",
       "\n",
       "    .dataframe thead th {\n",
       "        text-align: right;\n",
       "    }\n",
       "</style>\n",
       "<table border=\"1\" class=\"dataframe\">\n",
       "  <thead>\n",
       "    <tr style=\"text-align: right;\">\n",
       "      <th></th>\n",
       "      <th>name</th>\n",
       "      <th>platform</th>\n",
       "      <th>year_of_release</th>\n",
       "      <th>genre</th>\n",
       "      <th>na_sales</th>\n",
       "      <th>eu_sales</th>\n",
       "      <th>jp_sales</th>\n",
       "      <th>other_sales</th>\n",
       "      <th>critic_score</th>\n",
       "      <th>user_score</th>\n",
       "      <th>rating</th>\n",
       "    </tr>\n",
       "  </thead>\n",
       "  <tbody>\n",
       "    <tr>\n",
       "      <th>119</th>\n",
       "      <td>Zumba Fitness</td>\n",
       "      <td>Wii</td>\n",
       "      <td>2010.0</td>\n",
       "      <td>Sports</td>\n",
       "      <td>3.45</td>\n",
       "      <td>2.59</td>\n",
       "      <td>0.0</td>\n",
       "      <td>0.66</td>\n",
       "      <td>NaN</td>\n",
       "      <td>tbd</td>\n",
       "      <td>E</td>\n",
       "    </tr>\n",
       "    <tr>\n",
       "      <th>300</th>\n",
       "      <td>Namco Museum: 50th Anniversary</td>\n",
       "      <td>PS2</td>\n",
       "      <td>2005.0</td>\n",
       "      <td>Misc</td>\n",
       "      <td>2.08</td>\n",
       "      <td>1.35</td>\n",
       "      <td>0.0</td>\n",
       "      <td>0.54</td>\n",
       "      <td>61.0</td>\n",
       "      <td>tbd</td>\n",
       "      <td>E10+</td>\n",
       "    </tr>\n",
       "    <tr>\n",
       "      <th>516</th>\n",
       "      <td>Zumba Fitness 2</td>\n",
       "      <td>Wii</td>\n",
       "      <td>2011.0</td>\n",
       "      <td>Sports</td>\n",
       "      <td>1.51</td>\n",
       "      <td>1.03</td>\n",
       "      <td>0.0</td>\n",
       "      <td>0.27</td>\n",
       "      <td>NaN</td>\n",
       "      <td>tbd</td>\n",
       "      <td>T</td>\n",
       "    </tr>\n",
       "    <tr>\n",
       "      <th>639</th>\n",
       "      <td>uDraw Studio</td>\n",
       "      <td>Wii</td>\n",
       "      <td>2010.0</td>\n",
       "      <td>Misc</td>\n",
       "      <td>1.65</td>\n",
       "      <td>0.57</td>\n",
       "      <td>0.0</td>\n",
       "      <td>0.20</td>\n",
       "      <td>71.0</td>\n",
       "      <td>tbd</td>\n",
       "      <td>E</td>\n",
       "    </tr>\n",
       "    <tr>\n",
       "      <th>709</th>\n",
       "      <td>Just Dance Kids</td>\n",
       "      <td>Wii</td>\n",
       "      <td>2010.0</td>\n",
       "      <td>Misc</td>\n",
       "      <td>1.52</td>\n",
       "      <td>0.54</td>\n",
       "      <td>0.0</td>\n",
       "      <td>0.18</td>\n",
       "      <td>NaN</td>\n",
       "      <td>tbd</td>\n",
       "      <td>E</td>\n",
       "    </tr>\n",
       "    <tr>\n",
       "      <th>...</th>\n",
       "      <td>...</td>\n",
       "      <td>...</td>\n",
       "      <td>...</td>\n",
       "      <td>...</td>\n",
       "      <td>...</td>\n",
       "      <td>...</td>\n",
       "      <td>...</td>\n",
       "      <td>...</td>\n",
       "      <td>...</td>\n",
       "      <td>...</td>\n",
       "      <td>...</td>\n",
       "    </tr>\n",
       "    <tr>\n",
       "      <th>16424</th>\n",
       "      <td>Planet Monsters</td>\n",
       "      <td>GBA</td>\n",
       "      <td>2001.0</td>\n",
       "      <td>Action</td>\n",
       "      <td>0.01</td>\n",
       "      <td>0.00</td>\n",
       "      <td>0.0</td>\n",
       "      <td>0.00</td>\n",
       "      <td>67.0</td>\n",
       "      <td>tbd</td>\n",
       "      <td>E</td>\n",
       "    </tr>\n",
       "    <tr>\n",
       "      <th>16426</th>\n",
       "      <td>Bust-A-Move 3000</td>\n",
       "      <td>GC</td>\n",
       "      <td>2003.0</td>\n",
       "      <td>Puzzle</td>\n",
       "      <td>0.01</td>\n",
       "      <td>0.00</td>\n",
       "      <td>0.0</td>\n",
       "      <td>0.00</td>\n",
       "      <td>53.0</td>\n",
       "      <td>tbd</td>\n",
       "      <td>E</td>\n",
       "    </tr>\n",
       "    <tr>\n",
       "      <th>16427</th>\n",
       "      <td>Mega Brain Boost</td>\n",
       "      <td>DS</td>\n",
       "      <td>2008.0</td>\n",
       "      <td>Puzzle</td>\n",
       "      <td>0.01</td>\n",
       "      <td>0.00</td>\n",
       "      <td>0.0</td>\n",
       "      <td>0.00</td>\n",
       "      <td>48.0</td>\n",
       "      <td>tbd</td>\n",
       "      <td>E</td>\n",
       "    </tr>\n",
       "    <tr>\n",
       "      <th>16433</th>\n",
       "      <td>Plushees</td>\n",
       "      <td>DS</td>\n",
       "      <td>2008.0</td>\n",
       "      <td>Simulation</td>\n",
       "      <td>0.01</td>\n",
       "      <td>0.00</td>\n",
       "      <td>0.0</td>\n",
       "      <td>0.00</td>\n",
       "      <td>NaN</td>\n",
       "      <td>tbd</td>\n",
       "      <td>E</td>\n",
       "    </tr>\n",
       "    <tr>\n",
       "      <th>16435</th>\n",
       "      <td>Men in Black II: Alien Escape</td>\n",
       "      <td>GC</td>\n",
       "      <td>2003.0</td>\n",
       "      <td>Shooter</td>\n",
       "      <td>0.01</td>\n",
       "      <td>0.00</td>\n",
       "      <td>0.0</td>\n",
       "      <td>0.00</td>\n",
       "      <td>NaN</td>\n",
       "      <td>tbd</td>\n",
       "      <td>T</td>\n",
       "    </tr>\n",
       "  </tbody>\n",
       "</table>\n",
       "<p>2376 rows × 11 columns</p>\n",
       "</div>"
      ],
      "text/plain": [
       "                                 name platform  year_of_release       genre  \\\n",
       "119                     Zumba Fitness      Wii           2010.0      Sports   \n",
       "300    Namco Museum: 50th Anniversary      PS2           2005.0        Misc   \n",
       "516                   Zumba Fitness 2      Wii           2011.0      Sports   \n",
       "639                      uDraw Studio      Wii           2010.0        Misc   \n",
       "709                   Just Dance Kids      Wii           2010.0        Misc   \n",
       "...                               ...      ...              ...         ...   \n",
       "16424                 Planet Monsters      GBA           2001.0      Action   \n",
       "16426                Bust-A-Move 3000       GC           2003.0      Puzzle   \n",
       "16427                Mega Brain Boost       DS           2008.0      Puzzle   \n",
       "16433                        Plushees       DS           2008.0  Simulation   \n",
       "16435   Men in Black II: Alien Escape       GC           2003.0     Shooter   \n",
       "\n",
       "       na_sales  eu_sales  jp_sales  other_sales  critic_score user_score  \\\n",
       "119        3.45      2.59       0.0         0.66           NaN        tbd   \n",
       "300        2.08      1.35       0.0         0.54          61.0        tbd   \n",
       "516        1.51      1.03       0.0         0.27           NaN        tbd   \n",
       "639        1.65      0.57       0.0         0.20          71.0        tbd   \n",
       "709        1.52      0.54       0.0         0.18           NaN        tbd   \n",
       "...         ...       ...       ...          ...           ...        ...   \n",
       "16424      0.01      0.00       0.0         0.00          67.0        tbd   \n",
       "16426      0.01      0.00       0.0         0.00          53.0        tbd   \n",
       "16427      0.01      0.00       0.0         0.00          48.0        tbd   \n",
       "16433      0.01      0.00       0.0         0.00           NaN        tbd   \n",
       "16435      0.01      0.00       0.0         0.00           NaN        tbd   \n",
       "\n",
       "      rating  \n",
       "119        E  \n",
       "300     E10+  \n",
       "516        T  \n",
       "639        E  \n",
       "709        E  \n",
       "...      ...  \n",
       "16424      E  \n",
       "16426      E  \n",
       "16427      E  \n",
       "16433      E  \n",
       "16435      T  \n",
       "\n",
       "[2376 rows x 11 columns]"
      ]
     },
     "execution_count": 11,
     "metadata": {},
     "output_type": "execute_result"
    }
   ],
   "source": [
    "games.query('user_score == \"tbd\"')"
   ]
  },
  {
   "cell_type": "markdown",
   "metadata": {},
   "source": [
    "Опять же странно, что в данных с играми, которым более 20 лет нет оценки игроков и она не определена за столько времени. "
   ]
  },
  {
   "cell_type": "markdown",
   "metadata": {},
   "source": [
    "<div class=\"alert alert-success\">\n",
    "\n",
    "**Артём:** 👍 Система была введена в 2004 году, если я ничего не путаю.\n",
    "  \n",
    "</div> "
   ]
  },
  {
   "cell_type": "markdown",
   "metadata": {},
   "source": [
    "Так как у нас не подходящий тип данных в столбце рейтинга, то нам необходимо будет заменить TBD на nan, чтобы мы могла заполнить пропуски и задать другой тип данных. "
   ]
  },
  {
   "cell_type": "markdown",
   "metadata": {},
   "source": [
    "<div class=\"alert alert-success\">\n",
    "\n",
    "**Артём:** 👍 Правильно\n",
    "  \n",
    "</div> "
   ]
  },
  {
   "cell_type": "markdown",
   "metadata": {},
   "source": [
    "### 📊 Преобразуйте данные в нужные типы. Опишите, в каких столбцах заменили тип данных и почему;"
   ]
  },
  {
   "cell_type": "code",
   "execution_count": 12,
   "metadata": {},
   "outputs": [],
   "source": [
    "games.loc[games['user_score'] == 'tbd', 'user_score'] = float('nan')"
   ]
  },
  {
   "cell_type": "code",
   "execution_count": 13,
   "metadata": {},
   "outputs": [
    {
     "name": "stdout",
     "output_type": "stream",
     "text": [
      "<class 'pandas.core.frame.DataFrame'>\n",
      "RangeIndex: 16444 entries, 0 to 16443\n",
      "Data columns (total 11 columns):\n",
      " #   Column           Non-Null Count  Dtype  \n",
      "---  ------           --------------  -----  \n",
      " 0   name             16444 non-null  object \n",
      " 1   platform         16444 non-null  object \n",
      " 2   year_of_release  16444 non-null  float64\n",
      " 3   genre            16444 non-null  object \n",
      " 4   na_sales         16444 non-null  float64\n",
      " 5   eu_sales         16444 non-null  float64\n",
      " 6   jp_sales         16444 non-null  float64\n",
      " 7   other_sales      16444 non-null  float64\n",
      " 8   critic_score     7983 non-null   float64\n",
      " 9   user_score       7463 non-null   float64\n",
      " 10  rating           9768 non-null   object \n",
      "dtypes: float64(7), object(4)\n",
      "memory usage: 1.4+ MB\n"
     ]
    }
   ],
   "source": [
    "games['user_score'].unique()\n",
    "games['user_score'] = games['user_score'].astype('float')\n",
    "games.info()"
   ]
  },
  {
   "cell_type": "code",
   "execution_count": 14,
   "metadata": {},
   "outputs": [
    {
     "data": {
      "text/plain": [
       "array(['E', nan, 'M', 'T', 'E10+', 'K-A', 'AO', 'EC', 'RP'], dtype=object)"
      ]
     },
     "execution_count": 14,
     "metadata": {},
     "output_type": "execute_result"
    }
   ],
   "source": [
    "games['rating'].unique()"
   ]
  },
  {
   "cell_type": "markdown",
   "metadata": {},
   "source": [
    "Погуглив на просторах интернета увидел, что К-А сейчас уже не используют. И как я понял его заменили на Еvryone), вроде от 6 лет и старше. "
   ]
  },
  {
   "cell_type": "markdown",
   "metadata": {},
   "source": [
    "<div class=\"alert alert-success\">\n",
    "\n",
    "**Артём:** 👍 Отлично\n",
    "  \n",
    "</div> "
   ]
  },
  {
   "cell_type": "code",
   "execution_count": 15,
   "metadata": {},
   "outputs": [],
   "source": [
    "games.loc[games['rating'] == 'K-A' , 'rating'] = 'E'\n"
   ]
  },
  {
   "cell_type": "code",
   "execution_count": 16,
   "metadata": {},
   "outputs": [
    {
     "data": {
      "text/plain": [
       "E       3924\n",
       "T       2905\n",
       "M       1536\n",
       "E10+    1393\n",
       "EC         8\n",
       "AO         1\n",
       "RP         1\n",
       "Name: rating, dtype: int64"
      ]
     },
     "execution_count": 16,
     "metadata": {},
     "output_type": "execute_result"
    }
   ],
   "source": [
    "games['rating'].value_counts()"
   ]
  },
  {
   "cell_type": "markdown",
   "metadata": {},
   "source": [
    "Получается больше всего рейтинга Е. В основном делают игры для 6+))"
   ]
  },
  {
   "cell_type": "markdown",
   "metadata": {},
   "source": [
    "### 📊 Посчитайте суммарные продажи во всех регионах и запишите их в отдельный столбец."
   ]
  },
  {
   "cell_type": "code",
   "execution_count": 17,
   "metadata": {},
   "outputs": [
    {
     "data": {
      "text/html": [
       "<div>\n",
       "<style scoped>\n",
       "    .dataframe tbody tr th:only-of-type {\n",
       "        vertical-align: middle;\n",
       "    }\n",
       "\n",
       "    .dataframe tbody tr th {\n",
       "        vertical-align: top;\n",
       "    }\n",
       "\n",
       "    .dataframe thead th {\n",
       "        text-align: right;\n",
       "    }\n",
       "</style>\n",
       "<table border=\"1\" class=\"dataframe\">\n",
       "  <thead>\n",
       "    <tr style=\"text-align: right;\">\n",
       "      <th></th>\n",
       "      <th>name</th>\n",
       "      <th>platform</th>\n",
       "      <th>year_of_release</th>\n",
       "      <th>genre</th>\n",
       "      <th>na_sales</th>\n",
       "      <th>eu_sales</th>\n",
       "      <th>jp_sales</th>\n",
       "      <th>other_sales</th>\n",
       "      <th>critic_score</th>\n",
       "      <th>user_score</th>\n",
       "      <th>rating</th>\n",
       "      <th>total_sales</th>\n",
       "    </tr>\n",
       "  </thead>\n",
       "  <tbody>\n",
       "    <tr>\n",
       "      <th>0</th>\n",
       "      <td>Wii Sports</td>\n",
       "      <td>Wii</td>\n",
       "      <td>2006.0</td>\n",
       "      <td>Sports</td>\n",
       "      <td>41.36</td>\n",
       "      <td>28.96</td>\n",
       "      <td>3.77</td>\n",
       "      <td>8.45</td>\n",
       "      <td>76.0</td>\n",
       "      <td>8.0</td>\n",
       "      <td>E</td>\n",
       "      <td>82.54</td>\n",
       "    </tr>\n",
       "    <tr>\n",
       "      <th>1</th>\n",
       "      <td>Super Mario Bros.</td>\n",
       "      <td>NES</td>\n",
       "      <td>1985.0</td>\n",
       "      <td>Platform</td>\n",
       "      <td>29.08</td>\n",
       "      <td>3.58</td>\n",
       "      <td>6.81</td>\n",
       "      <td>0.77</td>\n",
       "      <td>NaN</td>\n",
       "      <td>NaN</td>\n",
       "      <td>NaN</td>\n",
       "      <td>40.24</td>\n",
       "    </tr>\n",
       "    <tr>\n",
       "      <th>2</th>\n",
       "      <td>Mario Kart Wii</td>\n",
       "      <td>Wii</td>\n",
       "      <td>2008.0</td>\n",
       "      <td>Racing</td>\n",
       "      <td>15.68</td>\n",
       "      <td>12.76</td>\n",
       "      <td>3.79</td>\n",
       "      <td>3.29</td>\n",
       "      <td>82.0</td>\n",
       "      <td>8.3</td>\n",
       "      <td>E</td>\n",
       "      <td>35.52</td>\n",
       "    </tr>\n",
       "    <tr>\n",
       "      <th>3</th>\n",
       "      <td>Wii Sports Resort</td>\n",
       "      <td>Wii</td>\n",
       "      <td>2009.0</td>\n",
       "      <td>Sports</td>\n",
       "      <td>15.61</td>\n",
       "      <td>10.93</td>\n",
       "      <td>3.28</td>\n",
       "      <td>2.95</td>\n",
       "      <td>80.0</td>\n",
       "      <td>8.0</td>\n",
       "      <td>E</td>\n",
       "      <td>32.77</td>\n",
       "    </tr>\n",
       "    <tr>\n",
       "      <th>4</th>\n",
       "      <td>Pokemon Red/Pokemon Blue</td>\n",
       "      <td>GB</td>\n",
       "      <td>1996.0</td>\n",
       "      <td>Role-Playing</td>\n",
       "      <td>11.27</td>\n",
       "      <td>8.89</td>\n",
       "      <td>10.22</td>\n",
       "      <td>1.00</td>\n",
       "      <td>NaN</td>\n",
       "      <td>NaN</td>\n",
       "      <td>NaN</td>\n",
       "      <td>31.38</td>\n",
       "    </tr>\n",
       "  </tbody>\n",
       "</table>\n",
       "</div>"
      ],
      "text/plain": [
       "                       name platform  year_of_release         genre  na_sales  \\\n",
       "0                Wii Sports      Wii           2006.0        Sports     41.36   \n",
       "1         Super Mario Bros.      NES           1985.0      Platform     29.08   \n",
       "2            Mario Kart Wii      Wii           2008.0        Racing     15.68   \n",
       "3         Wii Sports Resort      Wii           2009.0        Sports     15.61   \n",
       "4  Pokemon Red/Pokemon Blue       GB           1996.0  Role-Playing     11.27   \n",
       "\n",
       "   eu_sales  jp_sales  other_sales  critic_score  user_score rating  \\\n",
       "0     28.96      3.77         8.45          76.0         8.0      E   \n",
       "1      3.58      6.81         0.77           NaN         NaN    NaN   \n",
       "2     12.76      3.79         3.29          82.0         8.3      E   \n",
       "3     10.93      3.28         2.95          80.0         8.0      E   \n",
       "4      8.89     10.22         1.00           NaN         NaN    NaN   \n",
       "\n",
       "   total_sales  \n",
       "0        82.54  \n",
       "1        40.24  \n",
       "2        35.52  \n",
       "3        32.77  \n",
       "4        31.38  "
      ]
     },
     "execution_count": 17,
     "metadata": {},
     "output_type": "execute_result"
    }
   ],
   "source": [
    "games['total_sales'] = games['na_sales'] + games['eu_sales'] + games['jp_sales'] + games['other_sales']\n",
    "games.head()"
   ]
  },
  {
   "cell_type": "markdown",
   "metadata": {},
   "source": [
    "<div class=\"alert alert-info\">\n",
    "\n",
    "**Артём:** 💡 Есть еще такой способ:\n",
    "       \n",
    "```py\n",
    "df[['column_1','column_2','column_3', 'column_4']].sum(axis = 1)\n",
    "```\n",
    "\n",
    "</div>"
   ]
  },
  {
   "cell_type": "markdown",
   "metadata": {},
   "source": [
    " ## 📊 Шаг 3.  Проведите исследовательский анализ данных"
   ]
  },
  {
   "cell_type": "code",
   "execution_count": 18,
   "metadata": {},
   "outputs": [
    {
     "data": {
      "text/html": [
       "<div>\n",
       "<style scoped>\n",
       "    .dataframe tbody tr th:only-of-type {\n",
       "        vertical-align: middle;\n",
       "    }\n",
       "\n",
       "    .dataframe tbody tr th {\n",
       "        vertical-align: top;\n",
       "    }\n",
       "\n",
       "    .dataframe thead th {\n",
       "        text-align: right;\n",
       "    }\n",
       "</style>\n",
       "<table border=\"1\" class=\"dataframe\">\n",
       "  <thead>\n",
       "    <tr style=\"text-align: right;\">\n",
       "      <th></th>\n",
       "      <th>year_of_release</th>\n",
       "      <th>na_sales</th>\n",
       "      <th>eu_sales</th>\n",
       "      <th>jp_sales</th>\n",
       "      <th>other_sales</th>\n",
       "      <th>critic_score</th>\n",
       "      <th>user_score</th>\n",
       "      <th>total_sales</th>\n",
       "    </tr>\n",
       "  </thead>\n",
       "  <tbody>\n",
       "    <tr>\n",
       "      <th>count</th>\n",
       "      <td>16444.000000</td>\n",
       "      <td>16444.000000</td>\n",
       "      <td>16444.000000</td>\n",
       "      <td>16444.000000</td>\n",
       "      <td>16444.000000</td>\n",
       "      <td>7983.000000</td>\n",
       "      <td>7463.000000</td>\n",
       "      <td>16444.000000</td>\n",
       "    </tr>\n",
       "    <tr>\n",
       "      <th>mean</th>\n",
       "      <td>2006.486256</td>\n",
       "      <td>0.264012</td>\n",
       "      <td>0.145930</td>\n",
       "      <td>0.078487</td>\n",
       "      <td>0.047594</td>\n",
       "      <td>68.994363</td>\n",
       "      <td>7.126330</td>\n",
       "      <td>0.536023</td>\n",
       "    </tr>\n",
       "    <tr>\n",
       "      <th>std</th>\n",
       "      <td>5.875525</td>\n",
       "      <td>0.818378</td>\n",
       "      <td>0.506716</td>\n",
       "      <td>0.311100</td>\n",
       "      <td>0.188005</td>\n",
       "      <td>13.920060</td>\n",
       "      <td>1.499447</td>\n",
       "      <td>1.558786</td>\n",
       "    </tr>\n",
       "    <tr>\n",
       "      <th>min</th>\n",
       "      <td>1980.000000</td>\n",
       "      <td>0.000000</td>\n",
       "      <td>0.000000</td>\n",
       "      <td>0.000000</td>\n",
       "      <td>0.000000</td>\n",
       "      <td>13.000000</td>\n",
       "      <td>0.000000</td>\n",
       "      <td>0.000000</td>\n",
       "    </tr>\n",
       "    <tr>\n",
       "      <th>25%</th>\n",
       "      <td>2003.000000</td>\n",
       "      <td>0.000000</td>\n",
       "      <td>0.000000</td>\n",
       "      <td>0.000000</td>\n",
       "      <td>0.000000</td>\n",
       "      <td>60.000000</td>\n",
       "      <td>6.400000</td>\n",
       "      <td>0.060000</td>\n",
       "    </tr>\n",
       "    <tr>\n",
       "      <th>50%</th>\n",
       "      <td>2007.000000</td>\n",
       "      <td>0.080000</td>\n",
       "      <td>0.020000</td>\n",
       "      <td>0.000000</td>\n",
       "      <td>0.010000</td>\n",
       "      <td>71.000000</td>\n",
       "      <td>7.500000</td>\n",
       "      <td>0.170000</td>\n",
       "    </tr>\n",
       "    <tr>\n",
       "      <th>75%</th>\n",
       "      <td>2010.000000</td>\n",
       "      <td>0.240000</td>\n",
       "      <td>0.110000</td>\n",
       "      <td>0.040000</td>\n",
       "      <td>0.030000</td>\n",
       "      <td>79.000000</td>\n",
       "      <td>8.200000</td>\n",
       "      <td>0.470000</td>\n",
       "    </tr>\n",
       "    <tr>\n",
       "      <th>max</th>\n",
       "      <td>2016.000000</td>\n",
       "      <td>41.360000</td>\n",
       "      <td>28.960000</td>\n",
       "      <td>10.220000</td>\n",
       "      <td>10.570000</td>\n",
       "      <td>98.000000</td>\n",
       "      <td>9.700000</td>\n",
       "      <td>82.540000</td>\n",
       "    </tr>\n",
       "  </tbody>\n",
       "</table>\n",
       "</div>"
      ],
      "text/plain": [
       "       year_of_release      na_sales      eu_sales      jp_sales  \\\n",
       "count     16444.000000  16444.000000  16444.000000  16444.000000   \n",
       "mean       2006.486256      0.264012      0.145930      0.078487   \n",
       "std           5.875525      0.818378      0.506716      0.311100   \n",
       "min        1980.000000      0.000000      0.000000      0.000000   \n",
       "25%        2003.000000      0.000000      0.000000      0.000000   \n",
       "50%        2007.000000      0.080000      0.020000      0.000000   \n",
       "75%        2010.000000      0.240000      0.110000      0.040000   \n",
       "max        2016.000000     41.360000     28.960000     10.220000   \n",
       "\n",
       "        other_sales  critic_score   user_score   total_sales  \n",
       "count  16444.000000   7983.000000  7463.000000  16444.000000  \n",
       "mean       0.047594     68.994363     7.126330      0.536023  \n",
       "std        0.188005     13.920060     1.499447      1.558786  \n",
       "min        0.000000     13.000000     0.000000      0.000000  \n",
       "25%        0.000000     60.000000     6.400000      0.060000  \n",
       "50%        0.010000     71.000000     7.500000      0.170000  \n",
       "75%        0.030000     79.000000     8.200000      0.470000  \n",
       "max       10.570000     98.000000     9.700000     82.540000  "
      ]
     },
     "execution_count": 18,
     "metadata": {},
     "output_type": "execute_result"
    }
   ],
   "source": [
    "games.describe()"
   ]
  },
  {
   "cell_type": "code",
   "execution_count": 19,
   "metadata": {
    "scrolled": true
   },
   "outputs": [
    {
     "data": {
      "text/html": [
       "<div>\n",
       "<style scoped>\n",
       "    .dataframe tbody tr th:only-of-type {\n",
       "        vertical-align: middle;\n",
       "    }\n",
       "\n",
       "    .dataframe tbody tr th {\n",
       "        vertical-align: top;\n",
       "    }\n",
       "\n",
       "    .dataframe thead th {\n",
       "        text-align: right;\n",
       "    }\n",
       "</style>\n",
       "<table border=\"1\" class=\"dataframe\">\n",
       "  <thead>\n",
       "    <tr style=\"text-align: right;\">\n",
       "      <th></th>\n",
       "      <th>name</th>\n",
       "      <th>platform</th>\n",
       "      <th>year_of_release</th>\n",
       "      <th>genre</th>\n",
       "      <th>na_sales</th>\n",
       "      <th>eu_sales</th>\n",
       "      <th>jp_sales</th>\n",
       "      <th>other_sales</th>\n",
       "      <th>critic_score</th>\n",
       "      <th>user_score</th>\n",
       "      <th>rating</th>\n",
       "      <th>total_sales</th>\n",
       "    </tr>\n",
       "  </thead>\n",
       "  <tbody>\n",
       "    <tr>\n",
       "      <th>0</th>\n",
       "      <td>Wii Sports</td>\n",
       "      <td>Wii</td>\n",
       "      <td>2006.0</td>\n",
       "      <td>Sports</td>\n",
       "      <td>41.36</td>\n",
       "      <td>28.96</td>\n",
       "      <td>3.77</td>\n",
       "      <td>8.45</td>\n",
       "      <td>76.0</td>\n",
       "      <td>8.0</td>\n",
       "      <td>E</td>\n",
       "      <td>82.54</td>\n",
       "    </tr>\n",
       "    <tr>\n",
       "      <th>1</th>\n",
       "      <td>Super Mario Bros.</td>\n",
       "      <td>NES</td>\n",
       "      <td>1985.0</td>\n",
       "      <td>Platform</td>\n",
       "      <td>29.08</td>\n",
       "      <td>3.58</td>\n",
       "      <td>6.81</td>\n",
       "      <td>0.77</td>\n",
       "      <td>NaN</td>\n",
       "      <td>NaN</td>\n",
       "      <td>NaN</td>\n",
       "      <td>40.24</td>\n",
       "    </tr>\n",
       "    <tr>\n",
       "      <th>2</th>\n",
       "      <td>Mario Kart Wii</td>\n",
       "      <td>Wii</td>\n",
       "      <td>2008.0</td>\n",
       "      <td>Racing</td>\n",
       "      <td>15.68</td>\n",
       "      <td>12.76</td>\n",
       "      <td>3.79</td>\n",
       "      <td>3.29</td>\n",
       "      <td>82.0</td>\n",
       "      <td>8.3</td>\n",
       "      <td>E</td>\n",
       "      <td>35.52</td>\n",
       "    </tr>\n",
       "    <tr>\n",
       "      <th>3</th>\n",
       "      <td>Wii Sports Resort</td>\n",
       "      <td>Wii</td>\n",
       "      <td>2009.0</td>\n",
       "      <td>Sports</td>\n",
       "      <td>15.61</td>\n",
       "      <td>10.93</td>\n",
       "      <td>3.28</td>\n",
       "      <td>2.95</td>\n",
       "      <td>80.0</td>\n",
       "      <td>8.0</td>\n",
       "      <td>E</td>\n",
       "      <td>32.77</td>\n",
       "    </tr>\n",
       "    <tr>\n",
       "      <th>4</th>\n",
       "      <td>Pokemon Red/Pokemon Blue</td>\n",
       "      <td>GB</td>\n",
       "      <td>1996.0</td>\n",
       "      <td>Role-Playing</td>\n",
       "      <td>11.27</td>\n",
       "      <td>8.89</td>\n",
       "      <td>10.22</td>\n",
       "      <td>1.00</td>\n",
       "      <td>NaN</td>\n",
       "      <td>NaN</td>\n",
       "      <td>NaN</td>\n",
       "      <td>31.38</td>\n",
       "    </tr>\n",
       "    <tr>\n",
       "      <th>5</th>\n",
       "      <td>Tetris</td>\n",
       "      <td>GB</td>\n",
       "      <td>1989.0</td>\n",
       "      <td>Puzzle</td>\n",
       "      <td>23.20</td>\n",
       "      <td>2.26</td>\n",
       "      <td>4.22</td>\n",
       "      <td>0.58</td>\n",
       "      <td>NaN</td>\n",
       "      <td>NaN</td>\n",
       "      <td>NaN</td>\n",
       "      <td>30.26</td>\n",
       "    </tr>\n",
       "    <tr>\n",
       "      <th>6</th>\n",
       "      <td>New Super Mario Bros.</td>\n",
       "      <td>DS</td>\n",
       "      <td>2006.0</td>\n",
       "      <td>Platform</td>\n",
       "      <td>11.28</td>\n",
       "      <td>9.14</td>\n",
       "      <td>6.50</td>\n",
       "      <td>2.88</td>\n",
       "      <td>89.0</td>\n",
       "      <td>8.5</td>\n",
       "      <td>E</td>\n",
       "      <td>29.80</td>\n",
       "    </tr>\n",
       "    <tr>\n",
       "      <th>7</th>\n",
       "      <td>Wii Play</td>\n",
       "      <td>Wii</td>\n",
       "      <td>2006.0</td>\n",
       "      <td>Misc</td>\n",
       "      <td>13.96</td>\n",
       "      <td>9.18</td>\n",
       "      <td>2.93</td>\n",
       "      <td>2.84</td>\n",
       "      <td>58.0</td>\n",
       "      <td>6.6</td>\n",
       "      <td>E</td>\n",
       "      <td>28.91</td>\n",
       "    </tr>\n",
       "    <tr>\n",
       "      <th>8</th>\n",
       "      <td>New Super Mario Bros. Wii</td>\n",
       "      <td>Wii</td>\n",
       "      <td>2009.0</td>\n",
       "      <td>Platform</td>\n",
       "      <td>14.44</td>\n",
       "      <td>6.94</td>\n",
       "      <td>4.70</td>\n",
       "      <td>2.24</td>\n",
       "      <td>87.0</td>\n",
       "      <td>8.4</td>\n",
       "      <td>E</td>\n",
       "      <td>28.32</td>\n",
       "    </tr>\n",
       "    <tr>\n",
       "      <th>9</th>\n",
       "      <td>Duck Hunt</td>\n",
       "      <td>NES</td>\n",
       "      <td>1984.0</td>\n",
       "      <td>Shooter</td>\n",
       "      <td>26.93</td>\n",
       "      <td>0.63</td>\n",
       "      <td>0.28</td>\n",
       "      <td>0.47</td>\n",
       "      <td>NaN</td>\n",
       "      <td>NaN</td>\n",
       "      <td>NaN</td>\n",
       "      <td>28.31</td>\n",
       "    </tr>\n",
       "    <tr>\n",
       "      <th>10</th>\n",
       "      <td>Nintendogs</td>\n",
       "      <td>DS</td>\n",
       "      <td>2005.0</td>\n",
       "      <td>Simulation</td>\n",
       "      <td>9.05</td>\n",
       "      <td>10.95</td>\n",
       "      <td>1.93</td>\n",
       "      <td>2.74</td>\n",
       "      <td>NaN</td>\n",
       "      <td>NaN</td>\n",
       "      <td>NaN</td>\n",
       "      <td>24.67</td>\n",
       "    </tr>\n",
       "    <tr>\n",
       "      <th>11</th>\n",
       "      <td>Mario Kart DS</td>\n",
       "      <td>DS</td>\n",
       "      <td>2005.0</td>\n",
       "      <td>Racing</td>\n",
       "      <td>9.71</td>\n",
       "      <td>7.47</td>\n",
       "      <td>4.13</td>\n",
       "      <td>1.90</td>\n",
       "      <td>91.0</td>\n",
       "      <td>8.6</td>\n",
       "      <td>E</td>\n",
       "      <td>23.21</td>\n",
       "    </tr>\n",
       "    <tr>\n",
       "      <th>12</th>\n",
       "      <td>Pokemon Gold/Pokemon Silver</td>\n",
       "      <td>GB</td>\n",
       "      <td>1999.0</td>\n",
       "      <td>Role-Playing</td>\n",
       "      <td>9.00</td>\n",
       "      <td>6.18</td>\n",
       "      <td>7.20</td>\n",
       "      <td>0.71</td>\n",
       "      <td>NaN</td>\n",
       "      <td>NaN</td>\n",
       "      <td>NaN</td>\n",
       "      <td>23.09</td>\n",
       "    </tr>\n",
       "    <tr>\n",
       "      <th>13</th>\n",
       "      <td>Wii Fit</td>\n",
       "      <td>Wii</td>\n",
       "      <td>2007.0</td>\n",
       "      <td>Sports</td>\n",
       "      <td>8.92</td>\n",
       "      <td>8.03</td>\n",
       "      <td>3.60</td>\n",
       "      <td>2.15</td>\n",
       "      <td>80.0</td>\n",
       "      <td>7.7</td>\n",
       "      <td>E</td>\n",
       "      <td>22.70</td>\n",
       "    </tr>\n",
       "    <tr>\n",
       "      <th>14</th>\n",
       "      <td>Kinect Adventures!</td>\n",
       "      <td>X360</td>\n",
       "      <td>2010.0</td>\n",
       "      <td>Misc</td>\n",
       "      <td>15.00</td>\n",
       "      <td>4.89</td>\n",
       "      <td>0.24</td>\n",
       "      <td>1.69</td>\n",
       "      <td>61.0</td>\n",
       "      <td>6.3</td>\n",
       "      <td>E</td>\n",
       "      <td>21.82</td>\n",
       "    </tr>\n",
       "    <tr>\n",
       "      <th>15</th>\n",
       "      <td>Wii Fit Plus</td>\n",
       "      <td>Wii</td>\n",
       "      <td>2009.0</td>\n",
       "      <td>Sports</td>\n",
       "      <td>9.01</td>\n",
       "      <td>8.49</td>\n",
       "      <td>2.53</td>\n",
       "      <td>1.77</td>\n",
       "      <td>80.0</td>\n",
       "      <td>7.4</td>\n",
       "      <td>E</td>\n",
       "      <td>21.80</td>\n",
       "    </tr>\n",
       "    <tr>\n",
       "      <th>16</th>\n",
       "      <td>Grand Theft Auto V</td>\n",
       "      <td>PS3</td>\n",
       "      <td>2013.0</td>\n",
       "      <td>Action</td>\n",
       "      <td>7.02</td>\n",
       "      <td>9.09</td>\n",
       "      <td>0.98</td>\n",
       "      <td>3.96</td>\n",
       "      <td>97.0</td>\n",
       "      <td>8.2</td>\n",
       "      <td>M</td>\n",
       "      <td>21.05</td>\n",
       "    </tr>\n",
       "    <tr>\n",
       "      <th>17</th>\n",
       "      <td>Grand Theft Auto: San Andreas</td>\n",
       "      <td>PS2</td>\n",
       "      <td>2004.0</td>\n",
       "      <td>Action</td>\n",
       "      <td>9.43</td>\n",
       "      <td>0.40</td>\n",
       "      <td>0.41</td>\n",
       "      <td>10.57</td>\n",
       "      <td>95.0</td>\n",
       "      <td>9.0</td>\n",
       "      <td>M</td>\n",
       "      <td>20.81</td>\n",
       "    </tr>\n",
       "    <tr>\n",
       "      <th>18</th>\n",
       "      <td>Super Mario World</td>\n",
       "      <td>SNES</td>\n",
       "      <td>1990.0</td>\n",
       "      <td>Platform</td>\n",
       "      <td>12.78</td>\n",
       "      <td>3.75</td>\n",
       "      <td>3.54</td>\n",
       "      <td>0.55</td>\n",
       "      <td>NaN</td>\n",
       "      <td>NaN</td>\n",
       "      <td>NaN</td>\n",
       "      <td>20.62</td>\n",
       "    </tr>\n",
       "    <tr>\n",
       "      <th>19</th>\n",
       "      <td>Brain Age: Train Your Brain in Minutes a Day</td>\n",
       "      <td>DS</td>\n",
       "      <td>2005.0</td>\n",
       "      <td>Misc</td>\n",
       "      <td>4.74</td>\n",
       "      <td>9.20</td>\n",
       "      <td>4.16</td>\n",
       "      <td>2.04</td>\n",
       "      <td>77.0</td>\n",
       "      <td>7.9</td>\n",
       "      <td>E</td>\n",
       "      <td>20.14</td>\n",
       "    </tr>\n",
       "  </tbody>\n",
       "</table>\n",
       "</div>"
      ],
      "text/plain": [
       "                                            name platform  year_of_release  \\\n",
       "0                                     Wii Sports      Wii           2006.0   \n",
       "1                              Super Mario Bros.      NES           1985.0   \n",
       "2                                 Mario Kart Wii      Wii           2008.0   \n",
       "3                              Wii Sports Resort      Wii           2009.0   \n",
       "4                       Pokemon Red/Pokemon Blue       GB           1996.0   \n",
       "5                                         Tetris       GB           1989.0   \n",
       "6                          New Super Mario Bros.       DS           2006.0   \n",
       "7                                       Wii Play      Wii           2006.0   \n",
       "8                      New Super Mario Bros. Wii      Wii           2009.0   \n",
       "9                                      Duck Hunt      NES           1984.0   \n",
       "10                                    Nintendogs       DS           2005.0   \n",
       "11                                 Mario Kart DS       DS           2005.0   \n",
       "12                   Pokemon Gold/Pokemon Silver       GB           1999.0   \n",
       "13                                       Wii Fit      Wii           2007.0   \n",
       "14                            Kinect Adventures!     X360           2010.0   \n",
       "15                                  Wii Fit Plus      Wii           2009.0   \n",
       "16                            Grand Theft Auto V      PS3           2013.0   \n",
       "17                 Grand Theft Auto: San Andreas      PS2           2004.0   \n",
       "18                             Super Mario World     SNES           1990.0   \n",
       "19  Brain Age: Train Your Brain in Minutes a Day       DS           2005.0   \n",
       "\n",
       "           genre  na_sales  eu_sales  jp_sales  other_sales  critic_score  \\\n",
       "0         Sports     41.36     28.96      3.77         8.45          76.0   \n",
       "1       Platform     29.08      3.58      6.81         0.77           NaN   \n",
       "2         Racing     15.68     12.76      3.79         3.29          82.0   \n",
       "3         Sports     15.61     10.93      3.28         2.95          80.0   \n",
       "4   Role-Playing     11.27      8.89     10.22         1.00           NaN   \n",
       "5         Puzzle     23.20      2.26      4.22         0.58           NaN   \n",
       "6       Platform     11.28      9.14      6.50         2.88          89.0   \n",
       "7           Misc     13.96      9.18      2.93         2.84          58.0   \n",
       "8       Platform     14.44      6.94      4.70         2.24          87.0   \n",
       "9        Shooter     26.93      0.63      0.28         0.47           NaN   \n",
       "10    Simulation      9.05     10.95      1.93         2.74           NaN   \n",
       "11        Racing      9.71      7.47      4.13         1.90          91.0   \n",
       "12  Role-Playing      9.00      6.18      7.20         0.71           NaN   \n",
       "13        Sports      8.92      8.03      3.60         2.15          80.0   \n",
       "14          Misc     15.00      4.89      0.24         1.69          61.0   \n",
       "15        Sports      9.01      8.49      2.53         1.77          80.0   \n",
       "16        Action      7.02      9.09      0.98         3.96          97.0   \n",
       "17        Action      9.43      0.40      0.41        10.57          95.0   \n",
       "18      Platform     12.78      3.75      3.54         0.55           NaN   \n",
       "19          Misc      4.74      9.20      4.16         2.04          77.0   \n",
       "\n",
       "    user_score rating  total_sales  \n",
       "0          8.0      E        82.54  \n",
       "1          NaN    NaN        40.24  \n",
       "2          8.3      E        35.52  \n",
       "3          8.0      E        32.77  \n",
       "4          NaN    NaN        31.38  \n",
       "5          NaN    NaN        30.26  \n",
       "6          8.5      E        29.80  \n",
       "7          6.6      E        28.91  \n",
       "8          8.4      E        28.32  \n",
       "9          NaN    NaN        28.31  \n",
       "10         NaN    NaN        24.67  \n",
       "11         8.6      E        23.21  \n",
       "12         NaN    NaN        23.09  \n",
       "13         7.7      E        22.70  \n",
       "14         6.3      E        21.82  \n",
       "15         7.4      E        21.80  \n",
       "16         8.2      M        21.05  \n",
       "17         9.0      M        20.81  \n",
       "18         NaN    NaN        20.62  \n",
       "19         7.9      E        20.14  "
      ]
     },
     "execution_count": 19,
     "metadata": {},
     "output_type": "execute_result"
    }
   ],
   "source": [
    "games.sort_values(by = 'total_sales', ascending = False).head(20)"
   ]
  },
  {
   "cell_type": "code",
   "execution_count": 20,
   "metadata": {},
   "outputs": [
    {
     "data": {
      "text/plain": [
       "count    16444.000000\n",
       "mean         0.536023\n",
       "std          1.558786\n",
       "min          0.000000\n",
       "25%          0.060000\n",
       "50%          0.170000\n",
       "75%          0.470000\n",
       "max         82.540000\n",
       "Name: total_sales, dtype: float64"
      ]
     },
     "execution_count": 20,
     "metadata": {},
     "output_type": "execute_result"
    },
    {
     "data": {
      "image/png": "[encoded data removed]",
      "text/plain": [
       "<Figure size 432x432 with 1 Axes>"
      ]
     },
     "metadata": {
      "needs_background": "light"
     },
     "output_type": "display_data"
    }
   ],
   "source": [
    "games.plot(y = 'total_sales', kind = 'hist', bins = 10, grid = True, figsize = (6,6), range = (20,83))\n",
    "games['total_sales'].describe()"
   ]
  },
  {
   "cell_type": "markdown",
   "metadata": {},
   "source": [
    "По проведенным выше исследованиям мы видели, что есть очень сильно выбивающиеся значения и минимальное значения 0. Убрал значения, которые равны 0. Вернул обратно топ игр, у которых больше всего продаж. "
   ]
  },
  {
   "cell_type": "markdown",
   "metadata": {},
   "source": [
    "# Можешь, пожалуйста, объяснить про аномалии? В прошлом проекте про продажу квартир мы убирали слишком большие значения, тк они влияют на среднее и медиану. Там была квартира за 763млн рублей, говорили убирать. Но такое же тоже бывает, что квартира столько стоит. Как понять, убирать их или нет? тут тоже есть выбивающиеся, причем намного. "
   ]
  },
  {
   "cell_type": "markdown",
   "metadata": {},
   "source": [
    "<div class=\"alert alert-success\">\n",
    "\n",
    "**Артём:** 👍 Смотри, в прошлом проекте заказчик сам попросил убрать выбивающиеся значения, его интересовали типовые квартиры. В этом проекте про это не говорится, поэтому рекордные продажи нужно оставить.\n",
    "  \n",
    "</div> \n",
    "<div class=\"alert alert-success\">\n",
    "\n",
    "**Артём:** 👍 Надеюсь ответил тебе на вопрос.\n",
    "  \n",
    "</div> "
   ]
  },
  {
   "cell_type": "code",
   "execution_count": 21,
   "metadata": {},
   "outputs": [],
   "source": [
    "games = games.query('total_sales > 0').copy() "
   ]
  },
  {
   "cell_type": "code",
   "execution_count": 22,
   "metadata": {},
   "outputs": [
    {
     "data": {
      "text/plain": [
       "count    16442.000000\n",
       "mean         0.536089\n",
       "std          1.558869\n",
       "min          0.010000\n",
       "25%          0.060000\n",
       "50%          0.170000\n",
       "75%          0.470000\n",
       "max         82.540000\n",
       "Name: total_sales, dtype: float64"
      ]
     },
     "execution_count": 22,
     "metadata": {},
     "output_type": "execute_result"
    },
    {
     "data": {
      "image/png": "[encoded data removed]",
      "text/plain": [
       "<Figure size 432x432 with 1 Axes>"
      ]
     },
     "metadata": {
      "needs_background": "light"
     },
     "output_type": "display_data"
    }
   ],
   "source": [
    "games.plot(y = 'total_sales', kind = 'hist', bins = 10, grid = True, figsize = (6,6), range = (0,15))\n",
    "games['total_sales'].describe()"
   ]
  },
  {
   "cell_type": "markdown",
   "metadata": {},
   "source": [
    "<div class=\"alert alert-success\">\n",
    "\n",
    "**Артём:** ❌ Представь, ты приходишь и говоришь заказчику, что самые топовые продажи - это аномалии и на них смотреть не нужно, что их нужно удалить. =)\n",
    "\n",
    "</div>\n",
    "<div class=\"alert alert-success\">\n",
    "\n",
    "**Артём:** 👍 Принято.\n",
    "  \n",
    "</div> "
   ]
  },
  {
   "cell_type": "code",
   "execution_count": 23,
   "metadata": {},
   "outputs": [
    {
     "data": {
      "text/plain": [
       "count    16442.000000\n",
       "mean         0.536089\n",
       "std          1.558869\n",
       "min          0.010000\n",
       "25%          0.060000\n",
       "50%          0.170000\n",
       "75%          0.470000\n",
       "max         82.540000\n",
       "Name: total_sales, dtype: float64"
      ]
     },
     "execution_count": 23,
     "metadata": {},
     "output_type": "execute_result"
    }
   ],
   "source": [
    "games['total_sales'].describe()"
   ]
  },
  {
   "cell_type": "code",
   "execution_count": 24,
   "metadata": {},
   "outputs": [
    {
     "data": {
      "text/html": [
       "<div>\n",
       "<style scoped>\n",
       "    .dataframe tbody tr th:only-of-type {\n",
       "        vertical-align: middle;\n",
       "    }\n",
       "\n",
       "    .dataframe tbody tr th {\n",
       "        vertical-align: top;\n",
       "    }\n",
       "\n",
       "    .dataframe thead th {\n",
       "        text-align: right;\n",
       "    }\n",
       "</style>\n",
       "<table border=\"1\" class=\"dataframe\">\n",
       "  <thead>\n",
       "    <tr style=\"text-align: right;\">\n",
       "      <th></th>\n",
       "      <th>name</th>\n",
       "      <th>platform</th>\n",
       "      <th>year_of_release</th>\n",
       "      <th>genre</th>\n",
       "      <th>na_sales</th>\n",
       "      <th>eu_sales</th>\n",
       "      <th>jp_sales</th>\n",
       "      <th>other_sales</th>\n",
       "      <th>critic_score</th>\n",
       "      <th>user_score</th>\n",
       "      <th>rating</th>\n",
       "      <th>total_sales</th>\n",
       "    </tr>\n",
       "  </thead>\n",
       "  <tbody>\n",
       "    <tr>\n",
       "      <th>0</th>\n",
       "      <td>Wii Sports</td>\n",
       "      <td>Wii</td>\n",
       "      <td>2006</td>\n",
       "      <td>Sports</td>\n",
       "      <td>41.36</td>\n",
       "      <td>28.96</td>\n",
       "      <td>3.77</td>\n",
       "      <td>8.45</td>\n",
       "      <td>76.0</td>\n",
       "      <td>8.0</td>\n",
       "      <td>E</td>\n",
       "      <td>82.54</td>\n",
       "    </tr>\n",
       "    <tr>\n",
       "      <th>1</th>\n",
       "      <td>Super Mario Bros.</td>\n",
       "      <td>NES</td>\n",
       "      <td>1985</td>\n",
       "      <td>Platform</td>\n",
       "      <td>29.08</td>\n",
       "      <td>3.58</td>\n",
       "      <td>6.81</td>\n",
       "      <td>0.77</td>\n",
       "      <td>NaN</td>\n",
       "      <td>NaN</td>\n",
       "      <td>NaN</td>\n",
       "      <td>40.24</td>\n",
       "    </tr>\n",
       "    <tr>\n",
       "      <th>2</th>\n",
       "      <td>Mario Kart Wii</td>\n",
       "      <td>Wii</td>\n",
       "      <td>2008</td>\n",
       "      <td>Racing</td>\n",
       "      <td>15.68</td>\n",
       "      <td>12.76</td>\n",
       "      <td>3.79</td>\n",
       "      <td>3.29</td>\n",
       "      <td>82.0</td>\n",
       "      <td>8.3</td>\n",
       "      <td>E</td>\n",
       "      <td>35.52</td>\n",
       "    </tr>\n",
       "    <tr>\n",
       "      <th>3</th>\n",
       "      <td>Wii Sports Resort</td>\n",
       "      <td>Wii</td>\n",
       "      <td>2009</td>\n",
       "      <td>Sports</td>\n",
       "      <td>15.61</td>\n",
       "      <td>10.93</td>\n",
       "      <td>3.28</td>\n",
       "      <td>2.95</td>\n",
       "      <td>80.0</td>\n",
       "      <td>8.0</td>\n",
       "      <td>E</td>\n",
       "      <td>32.77</td>\n",
       "    </tr>\n",
       "    <tr>\n",
       "      <th>4</th>\n",
       "      <td>Pokemon Red/Pokemon Blue</td>\n",
       "      <td>GB</td>\n",
       "      <td>1996</td>\n",
       "      <td>Role-Playing</td>\n",
       "      <td>11.27</td>\n",
       "      <td>8.89</td>\n",
       "      <td>10.22</td>\n",
       "      <td>1.00</td>\n",
       "      <td>NaN</td>\n",
       "      <td>NaN</td>\n",
       "      <td>NaN</td>\n",
       "      <td>31.38</td>\n",
       "    </tr>\n",
       "  </tbody>\n",
       "</table>\n",
       "</div>"
      ],
      "text/plain": [
       "                       name platform  year_of_release         genre  na_sales  \\\n",
       "0                Wii Sports      Wii             2006        Sports     41.36   \n",
       "1         Super Mario Bros.      NES             1985      Platform     29.08   \n",
       "2            Mario Kart Wii      Wii             2008        Racing     15.68   \n",
       "3         Wii Sports Resort      Wii             2009        Sports     15.61   \n",
       "4  Pokemon Red/Pokemon Blue       GB             1996  Role-Playing     11.27   \n",
       "\n",
       "   eu_sales  jp_sales  other_sales  critic_score  user_score rating  \\\n",
       "0     28.96      3.77         8.45          76.0         8.0      E   \n",
       "1      3.58      6.81         0.77           NaN         NaN    NaN   \n",
       "2     12.76      3.79         3.29          82.0         8.3      E   \n",
       "3     10.93      3.28         2.95          80.0         8.0      E   \n",
       "4      8.89     10.22         1.00           NaN         NaN    NaN   \n",
       "\n",
       "   total_sales  \n",
       "0        82.54  \n",
       "1        40.24  \n",
       "2        35.52  \n",
       "3        32.77  \n",
       "4        31.38  "
      ]
     },
     "execution_count": 24,
     "metadata": {},
     "output_type": "execute_result"
    }
   ],
   "source": [
    "games['year_of_release'] = games['year_of_release'].astype('int')\n",
    "games.head()"
   ]
  },
  {
   "cell_type": "markdown",
   "metadata": {},
   "source": [
    "<div class=\"alert alert-info\">\n",
    "\n",
    "**Артём:** 💡 Копию датафрейма лучше сделать так, чтобы не изменить первоначальный датафрейм. Для этого в конце пишем `.copy()`:\n",
    "\n",
    "```py\n",
    "df_2 = df.loc[df['column'] >= value].copy()\n",
    "```\n",
    "\n",
    "</div>\n",
    "<div class=\"alert alert-info\">\n",
    "\n",
    "#### **Артём:** 💡 Подскажу, в 21 ячейке нужно было подставить `copy()`.\n",
    "  \n",
    "</div> "
   ]
  },
  {
   "cell_type": "markdown",
   "metadata": {},
   "source": [
    "<div class=\"alert alert-success\">\n",
    "\n",
    "**Артём:** 👍 Хорошо.\n",
    "  \n",
    "</div> "
   ]
  },
  {
   "cell_type": "markdown",
   "metadata": {},
   "source": [
    " ### 📊 Посмотрите, сколько игр выпускалось в разные годы. Важны ли данные за все периоды?"
   ]
  },
  {
   "cell_type": "code",
   "execution_count": 25,
   "metadata": {},
   "outputs": [
    {
     "data": {
      "text/plain": [
       "2009    1426\n",
       "2008    1425\n",
       "2010    1255\n",
       "2007    1197\n",
       "2011    1136\n",
       "2006    1006\n",
       "2005     939\n",
       "2002     829\n",
       "2003     775\n",
       "2004     762\n",
       "2012     653\n",
       "2015     606\n",
       "2014     581\n",
       "2013     544\n",
       "2016     502\n",
       "2001     482\n",
       "1998     379\n",
       "2000     350\n",
       "1999     338\n",
       "1997     289\n",
       "1996     263\n",
       "1995     219\n",
       "1994     121\n",
       "1993      60\n",
       "1981      46\n",
       "1992      43\n",
       "1991      41\n",
       "1982      36\n",
       "1986      21\n",
       "1983      17\n",
       "1989      17\n",
       "1990      16\n",
       "1987      16\n",
       "1988      15\n",
       "1985      14\n",
       "1984      14\n",
       "1980       9\n",
       "Name: year_of_release, dtype: int64"
      ]
     },
     "execution_count": 25,
     "metadata": {},
     "output_type": "execute_result"
    }
   ],
   "source": [
    "games['year_of_release'].value_counts(ascending = False)"
   ]
  },
  {
   "cell_type": "code",
   "execution_count": 26,
   "metadata": {},
   "outputs": [
    {
     "data": {
      "image/png": "[encoded data removed]",
      "text/plain": [
       "<Figure size 432x288 with 1 Axes>"
      ]
     },
     "metadata": {
      "needs_background": "light"
     },
     "output_type": "display_data"
    }
   ],
   "source": [
    "plt.plot(games.groupby('year_of_release')['name'].count(), label='Выпуск игр')\n",
    "plt.plot(games.groupby('year_of_release')['total_sales'].sum(), label='Продажи')\n",
    "plt.legend()\n",
    "plt.xlabel('Год выпуска')\n",
    "plt.ylabel('Кол-во выпущенных игр')\n",
    "plt.show()"
   ]
  },
  {
   "cell_type": "markdown",
   "metadata": {},
   "source": [
    "По графику видно, что после 93 года игры начали расцветать! Стали больше выпускать, больше людей стали их покупать. Пик по выпуску и продаже игр пришелся на 2008-2010 года!"
   ]
  },
  {
   "cell_type": "markdown",
   "metadata": {},
   "source": [
    "<div class=\"alert alert-success\">\n",
    "\n",
    "**Артём:** 👍 Отлично.\n",
    "  \n",
    "</div> "
   ]
  },
  {
   "cell_type": "markdown",
   "metadata": {},
   "source": [
    "### 📊 Посмотрите, как менялись продажи по платформам. Выберите платформы с наибольшими суммарными продажами и постройте распределение по годам. За какой характерный срок появляются новые и исчезают старые платформы?"
   ]
  },
  {
   "cell_type": "raw",
   "metadata": {},
   "source": [
    "def platform_group(platform):\n",
    "    mobile = ['GB', 'DS', 'GBA', '3DS', 'PSP', 'PSV', 'GG']\n",
    "    stationary = ['Wii', 'NES', 'X360', 'PS3', 'PS2', 'SNES', 'PS4', 'N64', 'PS', 'XB', '2600', 'XOne',\n",
    "       'WiiU', 'GC', 'GEN', 'DC', 'SAT', 'SCD', 'WS', 'NG', 'TG16','3DO', 'PCFX']\n",
    "    if platform in mobile:\n",
    "        platform_group = 'mobile'\n",
    "    if platform in stationary:\n",
    "        platform_group = 'stationary' \n",
    "    if platform == 'PC':\n",
    "        platform_group = 'PC'\n",
    "    return platform_group\n",
    "games['platform_group'] = games['platform'].apply(platform_group)\n",
    "games.head()"
   ]
  },
  {
   "cell_type": "code",
   "execution_count": 27,
   "metadata": {},
   "outputs": [],
   "source": [
    "# Коррекитровка ревьюера.\n",
    "def platform_group(platform):\n",
    "    mobile = ['GB', 'DS', 'GBA', '3DS', 'PSP', 'PSV', 'GG']\n",
    "    stationary = ['Wii', 'NES', 'X360', 'PS3', 'PS2', 'SNES', 'PS4', 'N64', 'PS', 'XB', '2600', 'XOne',\n",
    "       'WiiU', 'GC', 'GEN', 'DC', 'SAT', 'SCD', 'WS', 'NG', 'TG16','3DO', 'PCFX']\n",
    "    if platform in mobile:\n",
    "        platform_group = 'mobile'\n",
    "    if platform in stationary:\n",
    "        platform_group = 'stationary' \n",
    "    if platform == 'PC':\n",
    "        platform_group = 'PC'\n",
    "    return platform_group"
   ]
  },
  {
   "cell_type": "code",
   "execution_count": 28,
   "metadata": {},
   "outputs": [
    {
     "data": {
      "text/html": [
       "<div>\n",
       "<style scoped>\n",
       "    .dataframe tbody tr th:only-of-type {\n",
       "        vertical-align: middle;\n",
       "    }\n",
       "\n",
       "    .dataframe tbody tr th {\n",
       "        vertical-align: top;\n",
       "    }\n",
       "\n",
       "    .dataframe thead th {\n",
       "        text-align: right;\n",
       "    }\n",
       "</style>\n",
       "<table border=\"1\" class=\"dataframe\">\n",
       "  <thead>\n",
       "    <tr style=\"text-align: right;\">\n",
       "      <th></th>\n",
       "      <th>name</th>\n",
       "      <th>platform</th>\n",
       "      <th>year_of_release</th>\n",
       "      <th>genre</th>\n",
       "      <th>na_sales</th>\n",
       "      <th>eu_sales</th>\n",
       "      <th>jp_sales</th>\n",
       "      <th>other_sales</th>\n",
       "      <th>critic_score</th>\n",
       "      <th>user_score</th>\n",
       "      <th>rating</th>\n",
       "      <th>total_sales</th>\n",
       "      <th>platform_group</th>\n",
       "    </tr>\n",
       "  </thead>\n",
       "  <tbody>\n",
       "    <tr>\n",
       "      <th>0</th>\n",
       "      <td>Wii Sports</td>\n",
       "      <td>Wii</td>\n",
       "      <td>2006</td>\n",
       "      <td>Sports</td>\n",
       "      <td>41.36</td>\n",
       "      <td>28.96</td>\n",
       "      <td>3.77</td>\n",
       "      <td>8.45</td>\n",
       "      <td>76.0</td>\n",
       "      <td>8.0</td>\n",
       "      <td>E</td>\n",
       "      <td>82.54</td>\n",
       "      <td>stationary</td>\n",
       "    </tr>\n",
       "    <tr>\n",
       "      <th>1</th>\n",
       "      <td>Super Mario Bros.</td>\n",
       "      <td>NES</td>\n",
       "      <td>1985</td>\n",
       "      <td>Platform</td>\n",
       "      <td>29.08</td>\n",
       "      <td>3.58</td>\n",
       "      <td>6.81</td>\n",
       "      <td>0.77</td>\n",
       "      <td>NaN</td>\n",
       "      <td>NaN</td>\n",
       "      <td>NaN</td>\n",
       "      <td>40.24</td>\n",
       "      <td>stationary</td>\n",
       "    </tr>\n",
       "    <tr>\n",
       "      <th>2</th>\n",
       "      <td>Mario Kart Wii</td>\n",
       "      <td>Wii</td>\n",
       "      <td>2008</td>\n",
       "      <td>Racing</td>\n",
       "      <td>15.68</td>\n",
       "      <td>12.76</td>\n",
       "      <td>3.79</td>\n",
       "      <td>3.29</td>\n",
       "      <td>82.0</td>\n",
       "      <td>8.3</td>\n",
       "      <td>E</td>\n",
       "      <td>35.52</td>\n",
       "      <td>stationary</td>\n",
       "    </tr>\n",
       "    <tr>\n",
       "      <th>3</th>\n",
       "      <td>Wii Sports Resort</td>\n",
       "      <td>Wii</td>\n",
       "      <td>2009</td>\n",
       "      <td>Sports</td>\n",
       "      <td>15.61</td>\n",
       "      <td>10.93</td>\n",
       "      <td>3.28</td>\n",
       "      <td>2.95</td>\n",
       "      <td>80.0</td>\n",
       "      <td>8.0</td>\n",
       "      <td>E</td>\n",
       "      <td>32.77</td>\n",
       "      <td>stationary</td>\n",
       "    </tr>\n",
       "    <tr>\n",
       "      <th>4</th>\n",
       "      <td>Pokemon Red/Pokemon Blue</td>\n",
       "      <td>GB</td>\n",
       "      <td>1996</td>\n",
       "      <td>Role-Playing</td>\n",
       "      <td>11.27</td>\n",
       "      <td>8.89</td>\n",
       "      <td>10.22</td>\n",
       "      <td>1.00</td>\n",
       "      <td>NaN</td>\n",
       "      <td>NaN</td>\n",
       "      <td>NaN</td>\n",
       "      <td>31.38</td>\n",
       "      <td>mobile</td>\n",
       "    </tr>\n",
       "  </tbody>\n",
       "</table>\n",
       "</div>"
      ],
      "text/plain": [
       "                       name platform  year_of_release         genre  na_sales  \\\n",
       "0                Wii Sports      Wii             2006        Sports     41.36   \n",
       "1         Super Mario Bros.      NES             1985      Platform     29.08   \n",
       "2            Mario Kart Wii      Wii             2008        Racing     15.68   \n",
       "3         Wii Sports Resort      Wii             2009        Sports     15.61   \n",
       "4  Pokemon Red/Pokemon Blue       GB             1996  Role-Playing     11.27   \n",
       "\n",
       "   eu_sales  jp_sales  other_sales  critic_score  user_score rating  \\\n",
       "0     28.96      3.77         8.45          76.0         8.0      E   \n",
       "1      3.58      6.81         0.77           NaN         NaN    NaN   \n",
       "2     12.76      3.79         3.29          82.0         8.3      E   \n",
       "3     10.93      3.28         2.95          80.0         8.0      E   \n",
       "4      8.89     10.22         1.00           NaN         NaN    NaN   \n",
       "\n",
       "   total_sales platform_group  \n",
       "0        82.54     stationary  \n",
       "1        40.24     stationary  \n",
       "2        35.52     stationary  \n",
       "3        32.77     stationary  \n",
       "4        31.38         mobile  "
      ]
     },
     "execution_count": 28,
     "metadata": {},
     "output_type": "execute_result"
    }
   ],
   "source": [
    "# Коррекитровка ревьюера.\n",
    "games['platform_group'] = games['platform'].apply(platform_group)\n",
    "games.head()"
   ]
  },
  {
   "cell_type": "markdown",
   "metadata": {},
   "source": [
    "<div class=\"alert alert-success\">\n",
    "\n",
    "**Артём:** ❌ Функции лучше писать в отдельных ячейках. Одна ячейка - одна функция.\n",
    "    \n",
    "</div>"
   ]
  },
  {
   "cell_type": "markdown",
   "metadata": {},
   "source": [
    "<div style=\"background-color:green; color:#ffffff; text-align:center; padding:2%\">\n",
    "    \n",
    "Почему - то когда начинаю разбивать то выдает ошибку и пишет local variable 'platform_group' referenced before assignment. Подскажи, пожалуйста, что ты тут имеешь в виду и как это красиво сделать. ("
   ]
  },
  {
   "cell_type": "markdown",
   "metadata": {},
   "source": [
    "<div class=\"alert alert-success\">\n",
    "\n",
    "#### **Артём:** 👍 Очень заметный коммент, глаза чуть не вытекли 😁. Крайне редко вношу изменения в код студентов, но ошибки о которой ты говоришь здесь нет. А вот \"A value is trying to be set on a copy of a slice from a DataFrame.\" есть. Подсказка уже была на прошлой итерации, сейчас добавли более явную.\n",
    "  \n",
    "</div> "
   ]
  },
  {
   "cell_type": "markdown",
   "metadata": {},
   "source": [
    "<div style=\"background-color:orange; color:#ffffff; text-align:center; padding:2%\">\n",
    "    \n",
    "Изначально тебя не так понял. Ты написал \"одна ячейка - одна функция\". Я и подумал, что надо разбивать функцию на отдельные ячйеки. Условно 1 ячейка - там функция для стационарных, 2 ячейка - для мобильных. Но потом подумал, что тогда нет смысла в функци. А оказывается надо было просто определение функции и ее вызов разбить по ячейкам. И я это понял только после твоей 3 проверки)). "
   ]
  },
  {
   "cell_type": "code",
   "execution_count": 29,
   "metadata": {},
   "outputs": [
    {
     "data": {
      "text/plain": [
       "stationary    10321\n",
       "mobile         5164\n",
       "PC              957\n",
       "Name: platform_group, dtype: int64"
      ]
     },
     "execution_count": 29,
     "metadata": {},
     "output_type": "execute_result"
    }
   ],
   "source": [
    "games['platform_group'].value_counts()"
   ]
  },
  {
   "cell_type": "markdown",
   "metadata": {},
   "source": [
    "Приставки захватывают мир!"
   ]
  },
  {
   "cell_type": "markdown",
   "metadata": {},
   "source": [
    "<div class=\"alert alert-success\">\n",
    "\n",
    "**Артём:** 😁\n",
    "  \n",
    "</div> "
   ]
  },
  {
   "cell_type": "code",
   "execution_count": 30,
   "metadata": {},
   "outputs": [
    {
     "data": {
      "image/png": "[encoded data removed]",
      "text/plain": [
       "<Figure size 1152x576 with 1 Axes>"
      ]
     },
     "metadata": {
      "needs_background": "light"
     },
     "output_type": "display_data"
    }
   ],
   "source": [
    "platform_group_pivot = games.pivot_table(index = 'platform_group', values = 'name',\n",
    "                                         columns = 'year_of_release', aggfunc = 'count').T\n",
    "plt.figure(figsize=(16, 8))\n",
    "plt.plot(platform_group_pivot['PC'], marker ='o', label = 'PC', color = 'red')\n",
    "plt.plot(platform_group_pivot['mobile'], marker ='o', label='mobile', color = 'darkblue')\n",
    "plt.plot(platform_group_pivot['stationary'], marker ='o', label='stationary', color = 'lightgreen')\n",
    "plt.xlabel('Годы')\n",
    "plt.ylabel('Кол-во игр')\n",
    "plt.grid()\n",
    "plt.legend(loc='upper left')\n",
    "plt.show()"
   ]
  },
  {
   "cell_type": "markdown",
   "metadata": {},
   "source": [
    "С помощью .T сделали транспонирование (вроде так называется) , поменяли местами название столбцов и строк, чтобы построить график. Опять же По графику видно, что до 94 года минимальное количество игр выходило. Думаю, что те данные уже не особо актуальные и их можно отбросить. Лидером в соотношении года/выпуска игр являются приставки. Хоть 2004-2006 был для них небольшой провал, но все равно не утратили свое лидерство на рынке. "
   ]
  },
  {
   "cell_type": "markdown",
   "metadata": {},
   "source": [
    "<div class=\"alert alert-success\">\n",
    "\n",
    "**Артём:** 👍 Отлично.\n",
    "  \n",
    "</div> "
   ]
  },
  {
   "cell_type": "markdown",
   "metadata": {},
   "source": [
    "### 📊 Возьмите данные за соответствующий актуальный период. Актуальный период определите самостоятельно в результате исследования предыдущих вопросов. Основной фактор — эти данные помогут построить прогноз на 2017 год."
   ]
  },
  {
   "cell_type": "markdown",
   "metadata": {},
   "source": [
    "Сделаем таблицу более акутального периода. Игры выпущенные после 2012 года. "
   ]
  },
  {
   "cell_type": "markdown",
   "metadata": {},
   "source": [
    "<div class=\"alert alert-danger\">\n",
    "\n",
    "#### **Артём:** ❌ Cмотри - это слишком большой интервал для актуального периода. Так в исследование попадут неактуальные тренды и Стримчик может понести убытки. Смотри, у нас есть две новых платформы, обе вышли в 2013 году. Значит если мы возьмем, например 2012 год, то у старых платформ будет фора в год, и по результатам исследования у них будут продажи лучше, чем у новых платформ. Поэтому я тебе рекомендую провести исследование с 2013 года.\n",
    "    \n",
    "* `platform_actual`    \n",
    "</div>"
   ]
  },
  {
   "cell_type": "code",
   "execution_count": 31,
   "metadata": {},
   "outputs": [
    {
     "name": "stdout",
     "output_type": "stream",
     "text": [
      "<class 'pandas.core.frame.DataFrame'>\n",
      "Int64Index: 2233 entries, 16 to 16443\n",
      "Data columns (total 13 columns):\n",
      " #   Column           Non-Null Count  Dtype  \n",
      "---  ------           --------------  -----  \n",
      " 0   name             2233 non-null   object \n",
      " 1   platform         2233 non-null   object \n",
      " 2   year_of_release  2233 non-null   int64  \n",
      " 3   genre            2233 non-null   object \n",
      " 4   na_sales         2233 non-null   float64\n",
      " 5   eu_sales         2233 non-null   float64\n",
      " 6   jp_sales         2233 non-null   float64\n",
      " 7   other_sales      2233 non-null   float64\n",
      " 8   critic_score     991 non-null    float64\n",
      " 9   user_score       1192 non-null   float64\n",
      " 10  rating           1256 non-null   object \n",
      " 11  total_sales      2233 non-null   float64\n",
      " 12  platform_group   2233 non-null   object \n",
      "dtypes: float64(7), int64(1), object(5)\n",
      "memory usage: 244.2+ KB\n"
     ]
    }
   ],
   "source": [
    "games_after12 = games[games['year_of_release'] > 2012]\n",
    "games_after12.info()"
   ]
  },
  {
   "cell_type": "code",
   "execution_count": 32,
   "metadata": {},
   "outputs": [
    {
     "data": {
      "text/plain": [
       "PS4     392\n",
       "PSV     358\n",
       "PS3     345\n",
       "3DS     303\n",
       "XOne    247\n",
       "PC      189\n",
       "X360    186\n",
       "WiiU    115\n",
       "PSP      67\n",
       "Wii      23\n",
       "DS        8\n",
       "Name: platform, dtype: int64"
      ]
     },
     "execution_count": 32,
     "metadata": {},
     "output_type": "execute_result"
    }
   ],
   "source": [
    "games_after12['platform'].value_counts()"
   ]
  },
  {
   "cell_type": "code",
   "execution_count": 33,
   "metadata": {
    "scrolled": true
   },
   "outputs": [
    {
     "data": {
      "text/html": [
       "<div>\n",
       "<style scoped>\n",
       "    .dataframe tbody tr th:only-of-type {\n",
       "        vertical-align: middle;\n",
       "    }\n",
       "\n",
       "    .dataframe tbody tr th {\n",
       "        vertical-align: top;\n",
       "    }\n",
       "\n",
       "    .dataframe thead th {\n",
       "        text-align: right;\n",
       "    }\n",
       "</style>\n",
       "<table border=\"1\" class=\"dataframe\">\n",
       "  <thead>\n",
       "    <tr style=\"text-align: right;\">\n",
       "      <th>index</th>\n",
       "      <th>level_0</th>\n",
       "      <th>index</th>\n",
       "      <th>platform</th>\n",
       "      <th>2013</th>\n",
       "      <th>2014</th>\n",
       "      <th>2015</th>\n",
       "      <th>2016</th>\n",
       "      <th>All</th>\n",
       "    </tr>\n",
       "  </thead>\n",
       "  <tbody>\n",
       "    <tr>\n",
       "      <th>0</th>\n",
       "      <td>8</td>\n",
       "      <td>11</td>\n",
       "      <td>All</td>\n",
       "      <td>544</td>\n",
       "      <td>581</td>\n",
       "      <td>606</td>\n",
       "      <td>502</td>\n",
       "      <td>2233</td>\n",
       "    </tr>\n",
       "    <tr>\n",
       "      <th>1</th>\n",
       "      <td>3</td>\n",
       "      <td>4</td>\n",
       "      <td>PS4</td>\n",
       "      <td>16</td>\n",
       "      <td>75</td>\n",
       "      <td>137</td>\n",
       "      <td>164</td>\n",
       "      <td>392</td>\n",
       "    </tr>\n",
       "    <tr>\n",
       "      <th>2</th>\n",
       "      <td>4</td>\n",
       "      <td>6</td>\n",
       "      <td>PSV</td>\n",
       "      <td>63</td>\n",
       "      <td>100</td>\n",
       "      <td>110</td>\n",
       "      <td>85</td>\n",
       "      <td>358</td>\n",
       "    </tr>\n",
       "    <tr>\n",
       "      <th>3</th>\n",
       "      <td>2</td>\n",
       "      <td>3</td>\n",
       "      <td>PS3</td>\n",
       "      <td>126</td>\n",
       "      <td>108</td>\n",
       "      <td>73</td>\n",
       "      <td>38</td>\n",
       "      <td>345</td>\n",
       "    </tr>\n",
       "    <tr>\n",
       "      <th>4</th>\n",
       "      <td>0</td>\n",
       "      <td>0</td>\n",
       "      <td>3DS</td>\n",
       "      <td>91</td>\n",
       "      <td>80</td>\n",
       "      <td>86</td>\n",
       "      <td>46</td>\n",
       "      <td>303</td>\n",
       "    </tr>\n",
       "    <tr>\n",
       "      <th>5</th>\n",
       "      <td>7</td>\n",
       "      <td>10</td>\n",
       "      <td>XOne</td>\n",
       "      <td>19</td>\n",
       "      <td>61</td>\n",
       "      <td>80</td>\n",
       "      <td>87</td>\n",
       "      <td>247</td>\n",
       "    </tr>\n",
       "    <tr>\n",
       "      <th>6</th>\n",
       "      <td>1</td>\n",
       "      <td>2</td>\n",
       "      <td>PC</td>\n",
       "      <td>38</td>\n",
       "      <td>47</td>\n",
       "      <td>50</td>\n",
       "      <td>54</td>\n",
       "      <td>189</td>\n",
       "    </tr>\n",
       "    <tr>\n",
       "      <th>7</th>\n",
       "      <td>6</td>\n",
       "      <td>9</td>\n",
       "      <td>X360</td>\n",
       "      <td>75</td>\n",
       "      <td>63</td>\n",
       "      <td>35</td>\n",
       "      <td>13</td>\n",
       "      <td>186</td>\n",
       "    </tr>\n",
       "    <tr>\n",
       "      <th>8</th>\n",
       "      <td>5</td>\n",
       "      <td>8</td>\n",
       "      <td>WiiU</td>\n",
       "      <td>42</td>\n",
       "      <td>31</td>\n",
       "      <td>28</td>\n",
       "      <td>14</td>\n",
       "      <td>115</td>\n",
       "    </tr>\n",
       "  </tbody>\n",
       "</table>\n",
       "</div>"
      ],
      "text/plain": [
       "index  level_0  index platform  2013  2014  2015  2016   All\n",
       "0            8     11      All   544   581   606   502  2233\n",
       "1            3      4      PS4    16    75   137   164   392\n",
       "2            4      6      PSV    63   100   110    85   358\n",
       "3            2      3      PS3   126   108    73    38   345\n",
       "4            0      0      3DS    91    80    86    46   303\n",
       "5            7     10     XOne    19    61    80    87   247\n",
       "6            1      2       PC    38    47    50    54   189\n",
       "7            6      9     X360    75    63    35    13   186\n",
       "8            5      8     WiiU    42    31    28    14   115"
      ]
     },
     "execution_count": 33,
     "metadata": {},
     "output_type": "execute_result"
    }
   ],
   "source": [
    "platform_releases = games_after12.pivot_table(index='platform', \n",
    "                                      values='total_sales', \n",
    "                                      columns = 'year_of_release', \n",
    "                                      aggfunc = 'count', \n",
    "                                      fill_value=0, \n",
    "                                      margins=True).reset_index()\n",
    "\n",
    "platform_releases = platform_releases.rename_axis('index',  axis=\"columns\")\n",
    "platform_releases = platform_releases.query('All >100').reset_index().sort_values(\n",
    "    by = 'All', ascending = False).reset_index()\n",
    "platform_releases\n",
    "\n"
   ]
  },
  {
   "cell_type": "markdown",
   "metadata": {},
   "source": [
    "<div class=\"alert alert-success\">\n",
    "\n",
    "**Артём:** ❌ Лучше добавить визуализацию, это можно сделать с помощью цикла и вывести график по каждой платформе отдельно.\n",
    "\n",
    "</div>"
   ]
  },
  {
   "cell_type": "code",
   "execution_count": 34,
   "metadata": {
    "scrolled": false
   },
   "outputs": [
    {
     "data": {
      "image/png": "[encoded data removed]",
      "text/plain": [
       "<Figure size 432x288 with 1 Axes>"
      ]
     },
     "metadata": {
      "needs_background": "light"
     },
     "output_type": "display_data"
    },
    {
     "data": {
      "image/png": "[encoded data removed]",
      "text/plain": [
       "<Figure size 432x288 with 1 Axes>"
      ]
     },
     "metadata": {
      "needs_background": "light"
     },
     "output_type": "display_data"
    },
    {
     "data": {
      "image/png": "[encoded data removed]",
      "text/plain": [
       "<Figure size 432x288 with 1 Axes>"
      ]
     },
     "metadata": {
      "needs_background": "light"
     },
     "output_type": "display_data"
    },
    {
     "data": {
      "image/png": "[encoded data removed]",
      "text/plain": [
       "<Figure size 432x288 with 1 Axes>"
      ]
     },
     "metadata": {
      "needs_background": "light"
     },
     "output_type": "display_data"
    },
    {
     "data": {
      "image/png": "[encoded data removed]",
      "text/plain": [
       "<Figure size 432x288 with 1 Axes>"
      ]
     },
     "metadata": {
      "needs_background": "light"
     },
     "output_type": "display_data"
    },
    {
     "data": {
      "image/png": "[encoded data removed]",
      "text/plain": [
       "<Figure size 432x288 with 1 Axes>"
      ]
     },
     "metadata": {
      "needs_background": "light"
     },
     "output_type": "display_data"
    },
    {
     "data": {
      "image/png": "[encoded data removed]",
      "text/plain": [
       "<Figure size 432x288 with 1 Axes>"
      ]
     },
     "metadata": {
      "needs_background": "light"
     },
     "output_type": "display_data"
    },
    {
     "data": {
      "image/png": "[encoded data removed]",
      "text/plain": [
       "<Figure size 432x288 with 1 Axes>"
      ]
     },
     "metadata": {
      "needs_background": "light"
     },
     "output_type": "display_data"
    },
    {
     "data": {
      "image/png": "[encoded data removed]",
      "text/plain": [
       "<Figure size 432x288 with 1 Axes>"
      ]
     },
     "metadata": {
      "needs_background": "light"
     },
     "output_type": "display_data"
    }
   ],
   "source": [
    "col_list = platform_releases.columns[4:-1]\n",
    "for idx, row in platform_releases.iterrows():\n",
    "    plt.plot(row[col_list])\n",
    "    plt.xlabel('Годы')\n",
    "    plt.ylabel('Кол-во игр')\n",
    "    plt.title(row['platform'])\n",
    "    plt.grid()\n",
    "    plt.show()"
   ]
  },
  {
   "cell_type": "markdown",
   "metadata": {},
   "source": [
    "Не разобрался, как сделать с циклом..., но сделал подругому"
   ]
  },
  {
   "cell_type": "markdown",
   "metadata": {},
   "source": [
    "<div class=\"alert alert-success\">\n",
    "\n",
    "**Артём:** ❌ Сделал бы без цикла, хотя на сборном проекте важно уметь использовать циклы в работе. График, который ты построил выше подходят для непрерывных событий, и в нашем случае не подходит. Построй лучше столбчатые диаграммы.\n",
    "    \n",
    "</div>\n",
    "<div class=\"alert alert-info\">\n",
    "    \n",
    "#### **Артём:** 💡 Ты молодец, все отлично сделал через цикл. Но как понять о какой платформе идет речь на ней? Добавь названия платформы на график.\n",
    "    \n",
    "</div>"
   ]
  },
  {
   "cell_type": "markdown",
   "metadata": {},
   "source": [
    "забыл сделать это.  исправил сейчас"
   ]
  },
  {
   "cell_type": "markdown",
   "metadata": {},
   "source": [
    "Разобрался и сделал циклом. "
   ]
  },
  {
   "cell_type": "markdown",
   "metadata": {},
   "source": [
    "По таблице видно, что по выходу игр с 2013 года лидируют  PSV, PS4, PS3. Это связано с тем, что первые две платформы новые и  на них выходит много игр. Растут релизы только у PS4 и XOne. На все остальные платформы выходит все меньше и меньше игр. "
   ]
  },
  {
   "cell_type": "markdown",
   "metadata": {},
   "source": [
    "Построим таблицу с глобыльными продажами по платформам. "
   ]
  },
  {
   "cell_type": "code",
   "execution_count": 35,
   "metadata": {
    "scrolled": true
   },
   "outputs": [
    {
     "data": {
      "text/html": [
       "<div>\n",
       "<style scoped>\n",
       "    .dataframe tbody tr th:only-of-type {\n",
       "        vertical-align: middle;\n",
       "    }\n",
       "\n",
       "    .dataframe tbody tr th {\n",
       "        vertical-align: top;\n",
       "    }\n",
       "\n",
       "    .dataframe thead th {\n",
       "        text-align: right;\n",
       "    }\n",
       "</style>\n",
       "<table border=\"1\" class=\"dataframe\">\n",
       "  <thead>\n",
       "    <tr style=\"text-align: right;\">\n",
       "      <th>year_of_release</th>\n",
       "      <th>level_0</th>\n",
       "      <th>index</th>\n",
       "      <th>platform</th>\n",
       "      <th>2013</th>\n",
       "      <th>2014</th>\n",
       "      <th>2015</th>\n",
       "      <th>2016</th>\n",
       "      <th>All</th>\n",
       "    </tr>\n",
       "  </thead>\n",
       "  <tbody>\n",
       "    <tr>\n",
       "      <th>0</th>\n",
       "      <td>9</td>\n",
       "      <td>11</td>\n",
       "      <td>All</td>\n",
       "      <td>361.24</td>\n",
       "      <td>331.53</td>\n",
       "      <td>267.98</td>\n",
       "      <td>129.94</td>\n",
       "      <td>1090.69</td>\n",
       "    </tr>\n",
       "    <tr>\n",
       "      <th>1</th>\n",
       "      <td>3</td>\n",
       "      <td>4</td>\n",
       "      <td>PS4</td>\n",
       "      <td>25.99</td>\n",
       "      <td>100.00</td>\n",
       "      <td>118.90</td>\n",
       "      <td>69.25</td>\n",
       "      <td>314.14</td>\n",
       "    </tr>\n",
       "    <tr>\n",
       "      <th>2</th>\n",
       "      <td>2</td>\n",
       "      <td>3</td>\n",
       "      <td>PS3</td>\n",
       "      <td>113.25</td>\n",
       "      <td>47.76</td>\n",
       "      <td>16.82</td>\n",
       "      <td>3.60</td>\n",
       "      <td>181.43</td>\n",
       "    </tr>\n",
       "    <tr>\n",
       "      <th>3</th>\n",
       "      <td>8</td>\n",
       "      <td>10</td>\n",
       "      <td>XOne</td>\n",
       "      <td>18.96</td>\n",
       "      <td>54.07</td>\n",
       "      <td>60.14</td>\n",
       "      <td>26.15</td>\n",
       "      <td>159.32</td>\n",
       "    </tr>\n",
       "    <tr>\n",
       "      <th>4</th>\n",
       "      <td>0</td>\n",
       "      <td>0</td>\n",
       "      <td>3DS</td>\n",
       "      <td>56.57</td>\n",
       "      <td>43.76</td>\n",
       "      <td>27.78</td>\n",
       "      <td>15.14</td>\n",
       "      <td>143.25</td>\n",
       "    </tr>\n",
       "    <tr>\n",
       "      <th>5</th>\n",
       "      <td>7</td>\n",
       "      <td>9</td>\n",
       "      <td>X360</td>\n",
       "      <td>88.58</td>\n",
       "      <td>34.74</td>\n",
       "      <td>11.96</td>\n",
       "      <td>1.52</td>\n",
       "      <td>136.80</td>\n",
       "    </tr>\n",
       "    <tr>\n",
       "      <th>6</th>\n",
       "      <td>6</td>\n",
       "      <td>8</td>\n",
       "      <td>WiiU</td>\n",
       "      <td>21.65</td>\n",
       "      <td>22.03</td>\n",
       "      <td>16.35</td>\n",
       "      <td>4.60</td>\n",
       "      <td>64.63</td>\n",
       "    </tr>\n",
       "    <tr>\n",
       "      <th>7</th>\n",
       "      <td>1</td>\n",
       "      <td>2</td>\n",
       "      <td>PC</td>\n",
       "      <td>12.38</td>\n",
       "      <td>13.28</td>\n",
       "      <td>8.52</td>\n",
       "      <td>5.25</td>\n",
       "      <td>39.43</td>\n",
       "    </tr>\n",
       "    <tr>\n",
       "      <th>8</th>\n",
       "      <td>4</td>\n",
       "      <td>6</td>\n",
       "      <td>PSV</td>\n",
       "      <td>10.59</td>\n",
       "      <td>11.90</td>\n",
       "      <td>6.25</td>\n",
       "      <td>4.25</td>\n",
       "      <td>32.99</td>\n",
       "    </tr>\n",
       "    <tr>\n",
       "      <th>9</th>\n",
       "      <td>5</td>\n",
       "      <td>7</td>\n",
       "      <td>Wii</td>\n",
       "      <td>8.59</td>\n",
       "      <td>3.75</td>\n",
       "      <td>1.14</td>\n",
       "      <td>0.18</td>\n",
       "      <td>13.66</td>\n",
       "    </tr>\n",
       "  </tbody>\n",
       "</table>\n",
       "</div>"
      ],
      "text/plain": [
       "year_of_release  level_0  index platform    2013    2014    2015    2016  \\\n",
       "0                      9     11      All  361.24  331.53  267.98  129.94   \n",
       "1                      3      4      PS4   25.99  100.00  118.90   69.25   \n",
       "2                      2      3      PS3  113.25   47.76   16.82    3.60   \n",
       "3                      8     10     XOne   18.96   54.07   60.14   26.15   \n",
       "4                      0      0      3DS   56.57   43.76   27.78   15.14   \n",
       "5                      7      9     X360   88.58   34.74   11.96    1.52   \n",
       "6                      6      8     WiiU   21.65   22.03   16.35    4.60   \n",
       "7                      1      2       PC   12.38   13.28    8.52    5.25   \n",
       "8                      4      6      PSV   10.59   11.90    6.25    4.25   \n",
       "9                      5      7      Wii    8.59    3.75    1.14    0.18   \n",
       "\n",
       "year_of_release      All  \n",
       "0                1090.69  \n",
       "1                 314.14  \n",
       "2                 181.43  \n",
       "3                 159.32  \n",
       "4                 143.25  \n",
       "5                 136.80  \n",
       "6                  64.63  \n",
       "7                  39.43  \n",
       "8                  32.99  \n",
       "9                  13.66  "
      ]
     },
     "execution_count": 35,
     "metadata": {},
     "output_type": "execute_result"
    }
   ],
   "source": [
    " global_sales = games_after12.pivot_table(index='platform', \n",
    "                                      values='total_sales', \n",
    "                                      columns = 'year_of_release', \n",
    "                                      aggfunc = 'sum', \n",
    "                                      fill_value=0, \n",
    "                                      margins=True).reset_index()\n",
    "global_sales = global_sales.query('All >10').reset_index().sort_values(by = 'All', ascending = False).reset_index()\n",
    "global_sales"
   ]
  },
  {
   "cell_type": "markdown",
   "metadata": {},
   "source": [
    "### 📊 Какие платформы лидируют по продажам, растут или падают? Выберите несколько потенциально прибыльных платформ."
   ]
  },
  {
   "cell_type": "code",
   "execution_count": 36,
   "metadata": {},
   "outputs": [
    {
     "data": {
      "text/html": [
       "<div>\n",
       "<style scoped>\n",
       "    .dataframe tbody tr th:only-of-type {\n",
       "        vertical-align: middle;\n",
       "    }\n",
       "\n",
       "    .dataframe tbody tr th {\n",
       "        vertical-align: top;\n",
       "    }\n",
       "\n",
       "    .dataframe thead th {\n",
       "        text-align: right;\n",
       "    }\n",
       "</style>\n",
       "<table border=\"1\" class=\"dataframe\">\n",
       "  <thead>\n",
       "    <tr style=\"text-align: right;\">\n",
       "      <th>year_of_release</th>\n",
       "      <th>platform</th>\n",
       "      <th>All</th>\n",
       "    </tr>\n",
       "  </thead>\n",
       "  <tbody>\n",
       "    <tr>\n",
       "      <th>0</th>\n",
       "      <td>All</td>\n",
       "      <td>1090.69</td>\n",
       "    </tr>\n",
       "    <tr>\n",
       "      <th>1</th>\n",
       "      <td>PS4</td>\n",
       "      <td>314.14</td>\n",
       "    </tr>\n",
       "    <tr>\n",
       "      <th>2</th>\n",
       "      <td>PS3</td>\n",
       "      <td>181.43</td>\n",
       "    </tr>\n",
       "    <tr>\n",
       "      <th>3</th>\n",
       "      <td>XOne</td>\n",
       "      <td>159.32</td>\n",
       "    </tr>\n",
       "    <tr>\n",
       "      <th>4</th>\n",
       "      <td>3DS</td>\n",
       "      <td>143.25</td>\n",
       "    </tr>\n",
       "    <tr>\n",
       "      <th>5</th>\n",
       "      <td>X360</td>\n",
       "      <td>136.80</td>\n",
       "    </tr>\n",
       "    <tr>\n",
       "      <th>6</th>\n",
       "      <td>WiiU</td>\n",
       "      <td>64.63</td>\n",
       "    </tr>\n",
       "    <tr>\n",
       "      <th>7</th>\n",
       "      <td>PC</td>\n",
       "      <td>39.43</td>\n",
       "    </tr>\n",
       "    <tr>\n",
       "      <th>8</th>\n",
       "      <td>PSV</td>\n",
       "      <td>32.99</td>\n",
       "    </tr>\n",
       "    <tr>\n",
       "      <th>9</th>\n",
       "      <td>Wii</td>\n",
       "      <td>13.66</td>\n",
       "    </tr>\n",
       "  </tbody>\n",
       "</table>\n",
       "</div>"
      ],
      "text/plain": [
       "year_of_release platform      All\n",
       "0                    All  1090.69\n",
       "1                    PS4   314.14\n",
       "2                    PS3   181.43\n",
       "3                   XOne   159.32\n",
       "4                    3DS   143.25\n",
       "5                   X360   136.80\n",
       "6                   WiiU    64.63\n",
       "7                     PC    39.43\n",
       "8                    PSV    32.99\n",
       "9                    Wii    13.66"
      ]
     },
     "execution_count": 36,
     "metadata": {},
     "output_type": "execute_result"
    }
   ],
   "source": [
    "global_sales_top = global_sales.sort_values(by= 'All', ascending = False)[['platform', 'All']]\n",
    "global_sales_top.head(10)\n",
    "\n"
   ]
  },
  {
   "cell_type": "markdown",
   "metadata": {},
   "source": [
    "<div class=\"alert alert-success\">\n",
    "\n",
    "**Артём:** ❌ После изменения периода на актуальный согласно ТЗ нужно ответить на вопросы \"Какие платформы лидируют по продажам, растут или падают? Выберите несколько потенциально прибыльных платформ.\"\n",
    "\n",
    "</div>\n",
    "<div class=\"alert alert-danger\">\n",
    "\n",
    "#### **Артём:** ❌ Рассмотри данные с 2013 года. \n",
    "    \n",
    "* `platform_actual`\n",
    "\n",
    "</div>"
   ]
  },
  {
   "cell_type": "markdown",
   "metadata": {},
   "source": [
    "За выбранный период лидиируют ps4, ps3 и xone. На актулаьный период по продажам лидируют PS4, PS 3 , XOne. PS 3 находится в топ3, но мне кажется, что нет смысла на нее делать ставки, тк в 2013 вышла PS4. А входит в топ за счет своих продаж до выхода более новой версии. Я думаю, что потеницальные платформы - это PS4 и Xbox One"
   ]
  },
  {
   "cell_type": "markdown",
   "metadata": {},
   "source": [
    "### 📊 Постройте график «ящик с усами» по глобальным продажам игр в разбивке по платформам. Опишите результат."
   ]
  },
  {
   "cell_type": "code",
   "execution_count": 37,
   "metadata": {},
   "outputs": [
    {
     "data": {
      "text/plain": [
       "Text(0.5, 1.0, 'Диаграммы размаха по продажам на актуальных платформах')"
      ]
     },
     "execution_count": 37,
     "metadata": {},
     "output_type": "execute_result"
    },
    {
     "data": {
      "image/png": "[encoded data removed]",
      "text/plain": [
       "<Figure size 1080x1080 with 1 Axes>"
      ]
     },
     "metadata": {
      "needs_background": "light"
     },
     "output_type": "display_data"
    }
   ],
   "source": [
    "actual_platforms = [\"PS4\", \"PSV\", \"XOne\", \"PC\", \"3DS\"]\n",
    "platform_actual = games.query('year_of_release > 2012')\n",
    "(platform_actual.query('platform in @actual_platforms')[['platform', 'name', \n",
    "                                                      'total_sales']].boxplot(column = 'total_sales', by = 'platform',\n",
    "                                                                             figsize = (15,15)))\n",
    "plt.ylabel('Количество проданных копий в миллионах')\n",
    "plt.title('Диаграммы размаха по продажам на актуальных платформах')"
   ]
  },
  {
   "cell_type": "markdown",
   "metadata": {},
   "source": [
    "Лидером продаж является PS4, размах самый большой, есть игры, которые продавались более 12млн копий. ПК - это самая не популярная, но стабильна платформа, размах у нее самый маленьий, особо больших продаж каких либо игр не наблюдается. У 3DS маленький ящик, но очень много выбросов. Следсвтенно большая часть проданных игр делается на продажах этих популярных игр. У Xbox One достаточно большой ящик и нет особо игр, которые выделяются по продажам. У Xbox One покупают много игр в большом количестве. "
   ]
  },
  {
   "cell_type": "markdown",
   "metadata": {},
   "source": [
    "<div class=\"alert alert-success\">\n",
    "\n",
    "**Артём:** 👍 Хорошо.\n",
    "  \n",
    "</div> "
   ]
  },
  {
   "cell_type": "markdown",
   "metadata": {},
   "source": [
    "### 📊 Посмотрите, как влияют на продажи внутри одной популярной платформы отзывы пользователей и критиков. Постройте диаграмму рассеяния и посчитайте корреляцию между отзывами и продажами. Сформулируйте выводы.\n",
    "Для этого я возьму  отдельную платформу и посмотрю на корреляцию и зависимость между отзывами и продажами. Выбрал я PS4. "
   ]
  },
  {
   "cell_type": "code",
   "execution_count": 38,
   "metadata": {},
   "outputs": [
    {
     "name": "stdout",
     "output_type": "stream",
     "text": [
      "Корреляция между оценкой критиков и продажами: 0.41\n",
      "Корреляция между оценкой пользователей и продажами: -0.032\n",
      "Корреляция между оценками критиков и пользователей: 0.56\n"
     ]
    }
   ],
   "source": [
    "\n",
    "games_corr = platform_actual.query('platform == \"PS4\"') # отберем данные\n",
    "\n",
    "print(f'Корреляция между оценкой критиков и продажами: {games_corr.critic_score.corr(games_corr.total_sales):.2}')\n",
    "print(f'Корреляция между оценкой пользователей и продажами: {games_corr.user_score.corr(games_corr.total_sales):.2}')\n",
    "print(f'Корреляция между оценками критиков и пользователей: {games_corr.critic_score.corr(games_corr.user_score):.2}')"
   ]
  },
  {
   "cell_type": "code",
   "execution_count": 39,
   "metadata": {},
   "outputs": [
    {
     "data": {
      "image/png": "[encoded data removed]",
      "text/plain": [
       "<Figure size 720x360 with 2 Axes>"
      ]
     },
     "metadata": {
      "needs_background": "light"
     },
     "output_type": "display_data"
    }
   ],
   "source": [
    "games_corr.plot.scatter('critic_score',  'total_sales', figsize=(10, 5), alpha=0.9, c='critic_score', cmap = 'Accent')\n",
    "plt.xlabel('critic_score')\n",
    "plt.ylabel('sales')\n",
    "plt.title('Влияние оценок критиков на уровень продаж')\n",
    "plt.show()"
   ]
  },
  {
   "cell_type": "code",
   "execution_count": 40,
   "metadata": {},
   "outputs": [
    {
     "data": {
      "image/png": "[encoded data removed]",
      "text/plain": [
       "<Figure size 720x360 with 2 Axes>"
      ]
     },
     "metadata": {
      "needs_background": "light"
     },
     "output_type": "display_data"
    }
   ],
   "source": [
    "games_corr.plot.scatter('user_score',  'total_sales', figsize=(10, 5), alpha=0.9, c='user_score', cmap = 'Accent')\n",
    "plt.xlabel('user_score')\n",
    "plt.ylabel('sales')\n",
    "plt.title('Влияние оценок пользователей на уровень продаж')\n",
    "plt.show()"
   ]
  },
  {
   "cell_type": "markdown",
   "metadata": {},
   "source": [
    "По диаграмме рассеивания платформы PS4 видно, что корреляция между оценкой критиков (0.41) и продажами есть. В целом - это очевидно, что зависимость от оценки критиков и продаж должна быть. Влияние оценок пользователей имеет обратную корреляцию и зависимость у них слабая. Так же заметно, что у критиков некоторые игры имеют высокую оценку, а у пользователей эта оценка ниже. \n",
    "\n",
    "В обще при прогнозе продаж на следующий год можно полагаться на оценку критиков!"
   ]
  },
  {
   "cell_type": "markdown",
   "metadata": {},
   "source": [
    "<div class=\"alert alert-info\">\n",
    "\n",
    "**Артём:** 💡 Если корреляция меньше 0.25 то можно смело утверждать, что ее нет. Если меньше 0.5 - слабо выраженная.\n",
    "\n",
    "</div>"
   ]
  },
  {
   "cell_type": "markdown",
   "metadata": {},
   "source": [
    "<div class=\"alert alert-success\">\n",
    "\n",
    "**Артём:** ❌ Не выполнен шаг «Соотнесите выводы с продажами игр на других платформах».\n",
    "\n",
    "</div>\n",
    "<div class=\"alert alert-success\">\n",
    "\n",
    "**Артём:** 👍 Хорошо.\n",
    "  \n",
    "</div> "
   ]
  },
  {
   "cell_type": "markdown",
   "metadata": {},
   "source": [
    "### 📊 Соотнесите выводы с продажами игр на других платформах."
   ]
  },
  {
   "cell_type": "code",
   "execution_count": 41,
   "metadata": {},
   "outputs": [
    {
     "name": "stdout",
     "output_type": "stream",
     "text": [
      "Корреляция между оценкой критиков и продажами: 0.35\n",
      "Корреляция между оценкой пользователей и продажами: 0.22\n",
      "Корреляция между оценками критиков и пользователей: 0.75\n"
     ]
    }
   ],
   "source": [
    "games_corr_3DS = games.query('platform == \"3DS\"') # отберем данные\n",
    "\n",
    "print(f'Корреляция между оценкой критиков и продажами: {games_corr_3DS.critic_score.corr(games_corr_3DS.total_sales):.2}')\n",
    "print(f'Корреляция между оценкой пользователей и продажами: {games_corr_3DS.user_score.corr(games_corr_3DS.total_sales):.2}')\n",
    "print(f'Корреляция между оценками критиков и пользователей: {games_corr_3DS.critic_score.corr(games_corr_3DS.user_score):.2}')\n",
    "\n"
   ]
  },
  {
   "cell_type": "code",
   "execution_count": 42,
   "metadata": {},
   "outputs": [
    {
     "name": "stdout",
     "output_type": "stream",
     "text": [
      "Корреляция между оценкой критиков и продажами: 0.42\n",
      "Корреляция между оценкой пользователей и продажами: -0.069\n",
      "Корреляция между оценками критиков и пользователей: 0.47\n"
     ]
    }
   ],
   "source": [
    "games_corr_XOne = games.query('platform == \"XOne\"') # отберем данные\n",
    "\n",
    "print(f'Корреляция между оценкой критиков и продажами: {games_corr_XOne.critic_score.corr(games_corr_XOne.total_sales):.2}')\n",
    "print(f'Корреляция между оценкой пользователей и продажами: {games_corr_XOne.user_score.corr(games_corr_XOne.total_sales):.2}')\n",
    "print(f'Корреляция между оценками критиков и пользователей: {games_corr_XOne.critic_score.corr(games_corr_XOne.user_score):.2}')\n",
    "\n"
   ]
  },
  {
   "cell_type": "markdown",
   "metadata": {},
   "source": [
    "<div class=\"alert alert-success\">\n",
    "\n",
    "**Артём:** ❌ Подскажи, почему выше ты выбрал перспективные платформы, а смотришь устаревшие?\n",
    "\n",
    "</div>\n",
    "<div class=\"alert alert-success\">\n",
    "\n",
    "**Артём:** 👍 Првильно.\n",
    "  \n",
    "</div> "
   ]
  },
  {
   "cell_type": "markdown",
   "metadata": {},
   "source": [
    "Думал, что можно брать любые платформы и смотреть зависимость между ним. Сейчас исправил и взял перспективные)"
   ]
  },
  {
   "cell_type": "markdown",
   "metadata": {},
   "source": [
    "Значения конечно везде разные, но есть общий фактор. Оценки критиков больше  коррелириуют с продажами. Следовательно при покупке игры большинство оюдей посмотрят на оценку критика, нежели пользовательскую. "
   ]
  },
  {
   "cell_type": "markdown",
   "metadata": {},
   "source": [
    "### 📊 Посмотрите на общее распределение игр по жанрам. Что можно сказать о самых прибыльных жанрах? Выделяются ли жанры с высокими и низкими продажами? "
   ]
  },
  {
   "cell_type": "code",
   "execution_count": 43,
   "metadata": {},
   "outputs": [
    {
     "data": {
      "text/html": [
       "<div>\n",
       "<style scoped>\n",
       "    .dataframe tbody tr th:only-of-type {\n",
       "        vertical-align: middle;\n",
       "    }\n",
       "\n",
       "    .dataframe tbody tr th {\n",
       "        vertical-align: top;\n",
       "    }\n",
       "\n",
       "    .dataframe thead th {\n",
       "        text-align: right;\n",
       "    }\n",
       "</style>\n",
       "<table border=\"1\" class=\"dataframe\">\n",
       "  <thead>\n",
       "    <tr style=\"text-align: right;\">\n",
       "      <th>year_of_release</th>\n",
       "      <th>2013</th>\n",
       "      <th>2014</th>\n",
       "      <th>2015</th>\n",
       "      <th>2016</th>\n",
       "    </tr>\n",
       "    <tr>\n",
       "      <th>genre</th>\n",
       "      <th></th>\n",
       "      <th></th>\n",
       "      <th></th>\n",
       "      <th></th>\n",
       "    </tr>\n",
       "  </thead>\n",
       "  <tbody>\n",
       "    <tr>\n",
       "      <th>Action</th>\n",
       "      <td>0.200</td>\n",
       "      <td>0.205</td>\n",
       "      <td>0.070</td>\n",
       "      <td>0.050</td>\n",
       "    </tr>\n",
       "    <tr>\n",
       "      <th>Adventure</th>\n",
       "      <td>0.025</td>\n",
       "      <td>0.040</td>\n",
       "      <td>0.030</td>\n",
       "      <td>0.020</td>\n",
       "    </tr>\n",
       "    <tr>\n",
       "      <th>Fighting</th>\n",
       "      <td>0.155</td>\n",
       "      <td>0.130</td>\n",
       "      <td>0.100</td>\n",
       "      <td>0.085</td>\n",
       "    </tr>\n",
       "    <tr>\n",
       "      <th>Misc</th>\n",
       "      <td>0.175</td>\n",
       "      <td>0.160</td>\n",
       "      <td>0.190</td>\n",
       "      <td>0.040</td>\n",
       "    </tr>\n",
       "    <tr>\n",
       "      <th>Platform</th>\n",
       "      <td>0.385</td>\n",
       "      <td>0.830</td>\n",
       "      <td>0.100</td>\n",
       "      <td>0.100</td>\n",
       "    </tr>\n",
       "    <tr>\n",
       "      <th>Puzzle</th>\n",
       "      <td>0.100</td>\n",
       "      <td>0.050</td>\n",
       "      <td>0.045</td>\n",
       "      <td>0.010</td>\n",
       "    </tr>\n",
       "    <tr>\n",
       "      <th>Racing</th>\n",
       "      <td>0.340</td>\n",
       "      <td>0.170</td>\n",
       "      <td>0.150</td>\n",
       "      <td>0.050</td>\n",
       "    </tr>\n",
       "    <tr>\n",
       "      <th>Role-Playing</th>\n",
       "      <td>0.180</td>\n",
       "      <td>0.110</td>\n",
       "      <td>0.105</td>\n",
       "      <td>0.120</td>\n",
       "    </tr>\n",
       "    <tr>\n",
       "      <th>Shooter</th>\n",
       "      <td>0.340</td>\n",
       "      <td>0.660</td>\n",
       "      <td>0.925</td>\n",
       "      <td>0.240</td>\n",
       "    </tr>\n",
       "    <tr>\n",
       "      <th>Simulation</th>\n",
       "      <td>0.105</td>\n",
       "      <td>0.120</td>\n",
       "      <td>0.200</td>\n",
       "      <td>0.025</td>\n",
       "    </tr>\n",
       "    <tr>\n",
       "      <th>Sports</th>\n",
       "      <td>0.370</td>\n",
       "      <td>0.460</td>\n",
       "      <td>0.120</td>\n",
       "      <td>0.120</td>\n",
       "    </tr>\n",
       "    <tr>\n",
       "      <th>Strategy</th>\n",
       "      <td>0.190</td>\n",
       "      <td>0.060</td>\n",
       "      <td>0.045</td>\n",
       "      <td>0.060</td>\n",
       "    </tr>\n",
       "  </tbody>\n",
       "</table>\n",
       "</div>"
      ],
      "text/plain": [
       "year_of_release   2013   2014   2015   2016\n",
       "genre                                      \n",
       "Action           0.200  0.205  0.070  0.050\n",
       "Adventure        0.025  0.040  0.030  0.020\n",
       "Fighting         0.155  0.130  0.100  0.085\n",
       "Misc             0.175  0.160  0.190  0.040\n",
       "Platform         0.385  0.830  0.100  0.100\n",
       "Puzzle           0.100  0.050  0.045  0.010\n",
       "Racing           0.340  0.170  0.150  0.050\n",
       "Role-Playing     0.180  0.110  0.105  0.120\n",
       "Shooter          0.340  0.660  0.925  0.240\n",
       "Simulation       0.105  0.120  0.200  0.025\n",
       "Sports           0.370  0.460  0.120  0.120\n",
       "Strategy         0.190  0.060  0.045  0.060"
      ]
     },
     "execution_count": 43,
     "metadata": {},
     "output_type": "execute_result"
    }
   ],
   "source": [
    "genre_sales = platform_actual.pivot_table(index = 'genre', values = 'total_sales', columns = 'year_of_release', aggfunc = 'median')\n",
    "\n",
    "genre_sales\n",
    "\n"
   ]
  },
  {
   "cell_type": "markdown",
   "metadata": {},
   "source": [
    "По распределению видно, что самые популярные жанры на протяжении 4 лет - спортивные, шутеры, гонки, платформенные игры. Их покупают больше всего. "
   ]
  },
  {
   "cell_type": "markdown",
   "metadata": {},
   "source": [
    "<div class=\"alert alert-success\">\n",
    "\n",
    "**Артём:** ❌ Общие продажи - плохая метрика для поиска наиболее прибыльного жанра. За высокими показателями общих продаж может скрываться множество мелких игр с низкими продажами. Или 2-3 звезды и куча провалов. Лучше найти жанр, где игры стабильно приносят высокий доход - для этого стоит рассмотреть средние или медианные продажи.\n",
    "\n",
    "</div>\n",
    "<div class=\"alert alert-success\">\n",
    "\n",
    "**Артём:** 👍 Хорошо. Лучше отсортировать в порядке убывания суммарных продаж за период.\n",
    "</div>"
   ]
  },
  {
   "cell_type": "markdown",
   "metadata": {},
   "source": [
    "## 📊 Шаг 4. Составьте портрет пользователя каждого региона"
   ]
  },
  {
   "cell_type": "markdown",
   "metadata": {},
   "source": [
    "### 📊 Определите для пользователя каждого региона (NA, EU, JP):\n",
    "#### Самые популярные платформы (топ-5). Опишите различия в долях продаж.\n"
   ]
  },
  {
   "cell_type": "code",
   "execution_count": 44,
   "metadata": {},
   "outputs": [
    {
     "data": {
      "text/html": [
       "<div>\n",
       "<style scoped>\n",
       "    .dataframe tbody tr th:only-of-type {\n",
       "        vertical-align: middle;\n",
       "    }\n",
       "\n",
       "    .dataframe tbody tr th {\n",
       "        vertical-align: top;\n",
       "    }\n",
       "\n",
       "    .dataframe thead th {\n",
       "        text-align: right;\n",
       "    }\n",
       "</style>\n",
       "<table border=\"1\" class=\"dataframe\">\n",
       "  <thead>\n",
       "    <tr style=\"text-align: right;\">\n",
       "      <th></th>\n",
       "      <th>na_sales</th>\n",
       "    </tr>\n",
       "    <tr>\n",
       "      <th>platform</th>\n",
       "      <th></th>\n",
       "    </tr>\n",
       "  </thead>\n",
       "  <tbody>\n",
       "    <tr>\n",
       "      <th>3DS</th>\n",
       "      <td>38.20</td>\n",
       "    </tr>\n",
       "    <tr>\n",
       "      <th>PS3</th>\n",
       "      <td>63.50</td>\n",
       "    </tr>\n",
       "    <tr>\n",
       "      <th>X360</th>\n",
       "      <td>81.66</td>\n",
       "    </tr>\n",
       "    <tr>\n",
       "      <th>XOne</th>\n",
       "      <td>93.12</td>\n",
       "    </tr>\n",
       "    <tr>\n",
       "      <th>PS4</th>\n",
       "      <td>108.74</td>\n",
       "    </tr>\n",
       "  </tbody>\n",
       "</table>\n",
       "</div>"
      ],
      "text/plain": [
       "          na_sales\n",
       "platform          \n",
       "3DS          38.20\n",
       "PS3          63.50\n",
       "X360         81.66\n",
       "XOne         93.12\n",
       "PS4         108.74"
      ]
     },
     "execution_count": 44,
     "metadata": {},
     "output_type": "execute_result"
    }
   ],
   "source": [
    "popular_platf_na = platform_actual.pivot_table(index = 'platform', values = 'na_sales',\n",
    "                                     aggfunc = 'sum')\n",
    "popular_platf_na = popular_platf_na.sort_values(by = 'na_sales', ascending = 'False')\n",
    "popular_platf_na = popular_platf_na.tail(5)\n",
    "popular_platf_na"
   ]
  },
  {
   "cell_type": "code",
   "execution_count": 45,
   "metadata": {},
   "outputs": [
    {
     "data": {
      "text/html": [
       "<div>\n",
       "<style scoped>\n",
       "    .dataframe tbody tr th:only-of-type {\n",
       "        vertical-align: middle;\n",
       "    }\n",
       "\n",
       "    .dataframe tbody tr th {\n",
       "        vertical-align: top;\n",
       "    }\n",
       "\n",
       "    .dataframe thead th {\n",
       "        text-align: right;\n",
       "    }\n",
       "</style>\n",
       "<table border=\"1\" class=\"dataframe\">\n",
       "  <thead>\n",
       "    <tr style=\"text-align: right;\">\n",
       "      <th></th>\n",
       "      <th>eu_sales</th>\n",
       "    </tr>\n",
       "    <tr>\n",
       "      <th>platform</th>\n",
       "      <th></th>\n",
       "    </tr>\n",
       "  </thead>\n",
       "  <tbody>\n",
       "    <tr>\n",
       "      <th>3DS</th>\n",
       "      <td>30.96</td>\n",
       "    </tr>\n",
       "    <tr>\n",
       "      <th>X360</th>\n",
       "      <td>42.52</td>\n",
       "    </tr>\n",
       "    <tr>\n",
       "      <th>XOne</th>\n",
       "      <td>51.59</td>\n",
       "    </tr>\n",
       "    <tr>\n",
       "      <th>PS3</th>\n",
       "      <td>67.81</td>\n",
       "    </tr>\n",
       "    <tr>\n",
       "      <th>PS4</th>\n",
       "      <td>141.09</td>\n",
       "    </tr>\n",
       "  </tbody>\n",
       "</table>\n",
       "</div>"
      ],
      "text/plain": [
       "          eu_sales\n",
       "platform          \n",
       "3DS          30.96\n",
       "X360         42.52\n",
       "XOne         51.59\n",
       "PS3          67.81\n",
       "PS4         141.09"
      ]
     },
     "execution_count": 45,
     "metadata": {},
     "output_type": "execute_result"
    }
   ],
   "source": [
    "popular_platf_eu = platform_actual.pivot_table(index = 'platform', values = 'eu_sales',\n",
    "                                     aggfunc = 'sum')\n",
    "popular_platf_eu = popular_platf_eu.sort_values(by = 'eu_sales')\n",
    "popular_platf_eu = popular_platf_eu.tail(5)\n",
    "popular_platf_eu"
   ]
  },
  {
   "cell_type": "markdown",
   "metadata": {},
   "source": [
    "# "
   ]
  },
  {
   "cell_type": "code",
   "execution_count": 46,
   "metadata": {},
   "outputs": [
    {
     "data": {
      "text/html": [
       "<div>\n",
       "<style scoped>\n",
       "    .dataframe tbody tr th:only-of-type {\n",
       "        vertical-align: middle;\n",
       "    }\n",
       "\n",
       "    .dataframe tbody tr th {\n",
       "        vertical-align: top;\n",
       "    }\n",
       "\n",
       "    .dataframe thead th {\n",
       "        text-align: right;\n",
       "    }\n",
       "</style>\n",
       "<table border=\"1\" class=\"dataframe\">\n",
       "  <thead>\n",
       "    <tr style=\"text-align: right;\">\n",
       "      <th></th>\n",
       "      <th>jp_sales</th>\n",
       "    </tr>\n",
       "    <tr>\n",
       "      <th>platform</th>\n",
       "      <th></th>\n",
       "    </tr>\n",
       "  </thead>\n",
       "  <tbody>\n",
       "    <tr>\n",
       "      <th>WiiU</th>\n",
       "      <td>10.88</td>\n",
       "    </tr>\n",
       "    <tr>\n",
       "      <th>PS4</th>\n",
       "      <td>15.96</td>\n",
       "    </tr>\n",
       "    <tr>\n",
       "      <th>PSV</th>\n",
       "      <td>18.59</td>\n",
       "    </tr>\n",
       "    <tr>\n",
       "      <th>PS3</th>\n",
       "      <td>23.35</td>\n",
       "    </tr>\n",
       "    <tr>\n",
       "      <th>3DS</th>\n",
       "      <td>67.81</td>\n",
       "    </tr>\n",
       "  </tbody>\n",
       "</table>\n",
       "</div>"
      ],
      "text/plain": [
       "          jp_sales\n",
       "platform          \n",
       "WiiU         10.88\n",
       "PS4          15.96\n",
       "PSV          18.59\n",
       "PS3          23.35\n",
       "3DS          67.81"
      ]
     },
     "execution_count": 46,
     "metadata": {},
     "output_type": "execute_result"
    }
   ],
   "source": [
    "popular_platf_jp = platform_actual.pivot_table(index = 'platform', values = 'jp_sales',\n",
    "                                     aggfunc = 'sum')\n",
    "popular_platf_jp = popular_platf_jp.sort_values(by = 'jp_sales')\n",
    "popular_platf_jp = popular_platf_jp.tail(5)\n",
    "popular_platf_jp"
   ]
  },
  {
   "cell_type": "markdown",
   "metadata": {},
   "source": [
    "Для европы и северной Америки топ 5 платформ одинаковый. Разный порядок, но и там и там 4 из 5 - это стационарная приставка. В Японии совершенно другой топ. Тут больше предпочитают переносные приставки. "
   ]
  },
  {
   "cell_type": "markdown",
   "metadata": {},
   "source": [
    "<div class=\"alert alert-success\">\n",
    "\n",
    "**Артём:** 👍 Принято. Хотя заказчик спрашивал не про стационарные приставки или нет, а просил их перечислить.\n",
    "  \n",
    "</div> "
   ]
  },
  {
   "cell_type": "markdown",
   "metadata": {},
   "source": [
    "### 📊 Определите для пользователя каждого региона (NA, EU, JP):\n",
    "#### Самые популярные жанры (топ-5). Поясните разницу."
   ]
  },
  {
   "cell_type": "code",
   "execution_count": 47,
   "metadata": {},
   "outputs": [
    {
     "data": {
      "text/html": [
       "<div>\n",
       "<style scoped>\n",
       "    .dataframe tbody tr th:only-of-type {\n",
       "        vertical-align: middle;\n",
       "    }\n",
       "\n",
       "    .dataframe tbody tr th {\n",
       "        vertical-align: top;\n",
       "    }\n",
       "\n",
       "    .dataframe thead th {\n",
       "        text-align: right;\n",
       "    }\n",
       "</style>\n",
       "<table border=\"1\" class=\"dataframe\">\n",
       "  <thead>\n",
       "    <tr style=\"text-align: right;\">\n",
       "      <th></th>\n",
       "      <th>na_sales</th>\n",
       "    </tr>\n",
       "    <tr>\n",
       "      <th>genre</th>\n",
       "      <th></th>\n",
       "    </tr>\n",
       "  </thead>\n",
       "  <tbody>\n",
       "    <tr>\n",
       "      <th>Misc</th>\n",
       "      <td>27.49</td>\n",
       "    </tr>\n",
       "    <tr>\n",
       "      <th>Role-Playing</th>\n",
       "      <td>46.40</td>\n",
       "    </tr>\n",
       "    <tr>\n",
       "      <th>Sports</th>\n",
       "      <td>65.27</td>\n",
       "    </tr>\n",
       "    <tr>\n",
       "      <th>Shooter</th>\n",
       "      <td>109.74</td>\n",
       "    </tr>\n",
       "    <tr>\n",
       "      <th>Action</th>\n",
       "      <td>126.05</td>\n",
       "    </tr>\n",
       "  </tbody>\n",
       "</table>\n",
       "</div>"
      ],
      "text/plain": [
       "              na_sales\n",
       "genre                 \n",
       "Misc             27.49\n",
       "Role-Playing     46.40\n",
       "Sports           65.27\n",
       "Shooter         109.74\n",
       "Action          126.05"
      ]
     },
     "execution_count": 47,
     "metadata": {},
     "output_type": "execute_result"
    }
   ],
   "source": [
    "popular_platf_na = platform_actual.pivot_table(index = 'genre', values = 'na_sales',\n",
    "                                     aggfunc = 'sum')\n",
    "popular_platf_na = popular_platf_na.sort_values(by = 'na_sales', ascending = 'True')\n",
    "popular_platf_na = popular_platf_na.tail(5)\n",
    "popular_platf_na"
   ]
  },
  {
   "cell_type": "code",
   "execution_count": 48,
   "metadata": {},
   "outputs": [
    {
     "data": {
      "text/html": [
       "<div>\n",
       "<style scoped>\n",
       "    .dataframe tbody tr th:only-of-type {\n",
       "        vertical-align: middle;\n",
       "    }\n",
       "\n",
       "    .dataframe tbody tr th {\n",
       "        vertical-align: top;\n",
       "    }\n",
       "\n",
       "    .dataframe thead th {\n",
       "        text-align: right;\n",
       "    }\n",
       "</style>\n",
       "<table border=\"1\" class=\"dataframe\">\n",
       "  <thead>\n",
       "    <tr style=\"text-align: right;\">\n",
       "      <th></th>\n",
       "      <th>eu_sales</th>\n",
       "    </tr>\n",
       "    <tr>\n",
       "      <th>genre</th>\n",
       "      <th></th>\n",
       "    </tr>\n",
       "  </thead>\n",
       "  <tbody>\n",
       "    <tr>\n",
       "      <th>Racing</th>\n",
       "      <td>20.19</td>\n",
       "    </tr>\n",
       "    <tr>\n",
       "      <th>Role-Playing</th>\n",
       "      <td>36.97</td>\n",
       "    </tr>\n",
       "    <tr>\n",
       "      <th>Sports</th>\n",
       "      <td>60.52</td>\n",
       "    </tr>\n",
       "    <tr>\n",
       "      <th>Shooter</th>\n",
       "      <td>87.86</td>\n",
       "    </tr>\n",
       "    <tr>\n",
       "      <th>Action</th>\n",
       "      <td>118.13</td>\n",
       "    </tr>\n",
       "  </tbody>\n",
       "</table>\n",
       "</div>"
      ],
      "text/plain": [
       "              eu_sales\n",
       "genre                 \n",
       "Racing           20.19\n",
       "Role-Playing     36.97\n",
       "Sports           60.52\n",
       "Shooter          87.86\n",
       "Action          118.13"
      ]
     },
     "execution_count": 48,
     "metadata": {},
     "output_type": "execute_result"
    }
   ],
   "source": [
    "popular_platf_eu = platform_actual.pivot_table(index = 'genre', values = 'eu_sales',\n",
    "                                     aggfunc = 'sum')\n",
    "popular_platf_eu = popular_platf_eu.sort_values(by = 'eu_sales', ascending = 'False')\n",
    "popular_platf_eu = popular_platf_eu.tail(5)\n",
    "popular_platf_eu"
   ]
  },
  {
   "cell_type": "code",
   "execution_count": 49,
   "metadata": {
    "scrolled": true
   },
   "outputs": [
    {
     "data": {
      "text/html": [
       "<div>\n",
       "<style scoped>\n",
       "    .dataframe tbody tr th:only-of-type {\n",
       "        vertical-align: middle;\n",
       "    }\n",
       "\n",
       "    .dataframe tbody tr th {\n",
       "        vertical-align: top;\n",
       "    }\n",
       "\n",
       "    .dataframe thead th {\n",
       "        text-align: right;\n",
       "    }\n",
       "</style>\n",
       "<table border=\"1\" class=\"dataframe\">\n",
       "  <thead>\n",
       "    <tr style=\"text-align: right;\">\n",
       "      <th></th>\n",
       "      <th>jp_sales</th>\n",
       "    </tr>\n",
       "    <tr>\n",
       "      <th>genre</th>\n",
       "      <th></th>\n",
       "    </tr>\n",
       "  </thead>\n",
       "  <tbody>\n",
       "    <tr>\n",
       "      <th>Shooter</th>\n",
       "      <td>6.61</td>\n",
       "    </tr>\n",
       "    <tr>\n",
       "      <th>Fighting</th>\n",
       "      <td>7.65</td>\n",
       "    </tr>\n",
       "    <tr>\n",
       "      <th>Misc</th>\n",
       "      <td>9.20</td>\n",
       "    </tr>\n",
       "    <tr>\n",
       "      <th>Action</th>\n",
       "      <td>40.49</td>\n",
       "    </tr>\n",
       "    <tr>\n",
       "      <th>Role-Playing</th>\n",
       "      <td>51.04</td>\n",
       "    </tr>\n",
       "  </tbody>\n",
       "</table>\n",
       "</div>"
      ],
      "text/plain": [
       "              jp_sales\n",
       "genre                 \n",
       "Shooter           6.61\n",
       "Fighting          7.65\n",
       "Misc              9.20\n",
       "Action           40.49\n",
       "Role-Playing     51.04"
      ]
     },
     "execution_count": 49,
     "metadata": {},
     "output_type": "execute_result"
    }
   ],
   "source": [
    "popular_platf_jp = platform_actual.pivot_table(index = 'genre', values = 'jp_sales',\n",
    "                                     aggfunc = 'sum')\n",
    "popular_platf_jp = popular_platf_jp.sort_values(by = 'jp_sales', ascending = 'False')\n",
    "popular_platf_jp = popular_platf_jp.tail(5)\n",
    "popular_platf_jp"
   ]
  },
  {
   "cell_type": "markdown",
   "metadata": {},
   "source": [
    "Опять же в Европе и Северной Америке 4 из 5 жанра сходятся. Различие только в 1 жанре (гонки в европе и Misc в СА). В Японии на 1 месте популярности - ролевые (скорее всего связано с аниме)) "
   ]
  },
  {
   "cell_type": "markdown",
   "metadata": {},
   "source": [
    "<div class=\"alert alert-danger\">\n",
    "\n",
    "**Артём:** ❌ На первом месте не гонки.\n",
    "    \n",
    "</div>\n",
    "<div class=\"alert alert-success\">\n",
    "\n",
    "**Артём:** 👍 Возможно и аниме).\n",
    "</div>"
   ]
  },
  {
   "cell_type": "markdown",
   "metadata": {},
   "source": [
    "### 📊 Определите для пользователя каждого региона (NA, EU, JP):\n",
    "#### Влияет ли рейтинг ESRB на продажи в отдельном регионе? "
   ]
  },
  {
   "cell_type": "code",
   "execution_count": 50,
   "metadata": {},
   "outputs": [
    {
     "data": {
      "image/png": "[encoded data removed]",
      "text/plain": [
       "<Figure size 1080x360 with 1 Axes>"
      ]
     },
     "metadata": {
      "needs_background": "light"
     },
     "output_type": "display_data"
    }
   ],
   "source": [
    "rating_sale = platform_actual.pivot_table(index = 'rating', values = ['na_sales', 'eu_sales', 'jp_sales'], aggfunc = 'mean')\n",
    "rating_sale.plot(kind = 'bar', figsize = (15,5));\n"
   ]
  },
  {
   "cell_type": "markdown",
   "metadata": {},
   "source": [
    "<div class=\"alert alert-info\">\n",
    "\n",
    "**Артём:** 💡 Чтобы не выводить `<...>` можно поставить в конце строки `;`.\n",
    "    \n",
    "</div>\n",
    "<div class=\"alert alert-success\">\n",
    "\n",
    "**Артём:** 👍 Хорошо.\n",
    "</div>"
   ]
  },
  {
   "cell_type": "markdown",
   "metadata": {},
   "source": [
    "В Европе и Северной Америке большинство игр имеют схожий рейтинг. Больше всего игр продается в рейтинге М, который подходит для лиц старше 17 лет. Следом идет рейтинг Е, который подходит для лиц от 3 лет. В Японии слишком маленькое значения. Там либо много пропущенных значений, либо такого рейтинга вовсе нет. \n",
    "Понятно, что Рейтинг М самый популярный, тк большинство популярных игр и имеют такой рейтинг(GTA , Call of duty и др)"
   ]
  },
  {
   "cell_type": "markdown",
   "metadata": {},
   "source": [
    "\tE - Для детей младшего возраста. Подходит для детей от 3 лет, неприемлемое содержание отсутствует. Примеры: Дора Исследовательница, Сказки Дракона.\n",
    "    \n",
    "    E10+ - Подходит для лиц старше 10 лет. Игра может содержать умеренные формы насилия, а некоторые сцены могут пугать детей. Примеры: Minecraft Dungeons, Растения против зомби.\n",
    "    \n",
    "    M - Подходит для лиц старше 17 лет. Этот рейтинг используется, когда насилие становится реалистичным и похожим на реальную жизнь. Также может присутствовать ненормативная лексика, употребление табака, алкоголя или запрещенных наркотиков. Примеры: Ark: Survival Evolved, Destiny 2.\n",
    "    \n",
    "    T - Подходит для лиц старше 13 лет. Игра может содержать более реалистичные и натуралистические сцены насилия. Примеры: Fortnite, Sims 4."
   ]
  },
  {
   "cell_type": "markdown",
   "metadata": {},
   "source": [
    "<div class=\"alert alert-success\">\n",
    "\n",
    "**Артём:** 👍 Хорошо.\n",
    "  \n",
    "</div> "
   ]
  },
  {
   "cell_type": "markdown",
   "metadata": {},
   "source": [
    "Вывод таков, что ествественно местоположение влияет как на жанр игры, так и на платформы, на которых в них играют. В СА и Европе данные схожи, там любят играть на стационарных приставках (шутеры, экшны и спортивные жанры). В то время, как в Японии все отличается. Там больше людей любят переносные приставки и играют на них в ролевые и экшн жанры. "
   ]
  },
  {
   "cell_type": "markdown",
   "metadata": {},
   "source": [
    "## 📊 Шаг 5. Проверьте гипотезы\n",
    "Задайте самостоятельно пороговое значение alpha.\n",
    "Поясните:\n",
    "Как вы сформулировали нулевую и альтернативную гипотезы;\n",
    "Какой критерий применили для проверки гипотез и почему.    "
   ]
  },
  {
   "cell_type": "markdown",
   "metadata": {},
   "source": [
    "#  Проверьте гипотезы"
   ]
  },
  {
   "cell_type": "markdown",
   "metadata": {},
   "source": [
    "### 📊 Средние пользовательские рейтинги платформ Xbox One и PC одинаковые;"
   ]
  },
  {
   "cell_type": "markdown",
   "metadata": {},
   "source": [
    "- Средние пользовательские рейтинги платформ Xbox One и PC одинаковые;\n",
    "- Средние пользовательские рейтинги жанров Action (англ. «действие», экшен-игры) и Sports (англ. «спортивные соревнования») разные."
   ]
  },
  {
   "cell_type": "markdown",
   "metadata": {},
   "source": [
    "<div class=\"alert alert-success\">\n",
    "\n",
    "**Артём:** 👍 Гипотезы сформулированы верно.\n",
    "\n",
    "</div>"
   ]
  },
  {
   "cell_type": "markdown",
   "metadata": {},
   "source": [
    "Проверим нулевую гипотезу, что средние пользовательские рейтинги Xbox One и PC одинаковые. Значение критического уровня вероятности примем 5%."
   ]
  },
  {
   "cell_type": "code",
   "execution_count": 51,
   "metadata": {},
   "outputs": [
    {
     "name": "stdout",
     "output_type": "stream",
     "text": [
      "p-значение 0.14012658403611647\n",
      "Не получилось отвергнуть нулевую гипотезу\n"
     ]
    }
   ],
   "source": [
    "alpha = .05\n",
    "results = st.ttest_ind(\n",
    "    platform_actual[(platform_actual.platform == \"XOne\") & (platform_actual.user_score)]['user_score'], \n",
    "    platform_actual[(platform_actual.platform == \"PC\") & (platform_actual.user_score)]['user_score']\n",
    ")\n",
    "print('p-значение',results.pvalue)\n",
    "\n",
    "if results.pvalue < alpha:\n",
    "    print('Отвергаем нулевую гипотезу')\n",
    "else:\n",
    "    print('Не получилось отвергнуть нулевую гипотезу')"
   ]
  },
  {
   "cell_type": "markdown",
   "metadata": {},
   "source": [
    "<div class=\"alert alert-success\">\n",
    "\n",
    "**Артём:** 👍 Правильно.\n",
    "\n",
    "</div>"
   ]
  },
  {
   "cell_type": "markdown",
   "metadata": {},
   "source": [
    "Так как не получилось отвергнуть нулевую гипотезу, то получается, что действительно рейтинги пользоветелй ПК и Xbox One одинаковы. "
   ]
  },
  {
   "cell_type": "markdown",
   "metadata": {},
   "source": [
    "### 📊 Средние пользовательские рейтинги жанров Action (англ. «действие», экшен-игры) и Sports (англ. «спортивные соревнования») разные."
   ]
  },
  {
   "cell_type": "markdown",
   "metadata": {},
   "source": [
    "Проверим нулевую гипотезу, что средние пользовательские оценки жанров Спорт и Экшн равные. \n",
    "Значение критического уровня вероятности примем 5%.\n"
   ]
  },
  {
   "cell_type": "markdown",
   "metadata": {},
   "source": [
    "<div class=\"alert alert-success\">\n",
    "\n",
    "**Артём:** ❌ Нулевая гипотеза «равны», а альтернативная «различаются». Именно в такой последовательности.\n",
    "\n",
    "</div>\n",
    "<div class=\"alert alert-success\">\n",
    "\n",
    "**Артём:** 👍 Теперь правильно.\n",
    "</div>"
   ]
  },
  {
   "cell_type": "code",
   "execution_count": 52,
   "metadata": {},
   "outputs": [
    {
     "name": "stdout",
     "output_type": "stream",
     "text": [
      "p-значение 1.0517832389140023e-27\n",
      "Отвергаем нулевую гипотезу\n"
     ]
    }
   ],
   "source": [
    "alpha = .05\n",
    "results = st.ttest_ind(\n",
    "    platform_actual[(platform_actual.genre == \"Action\") & (platform_actual.user_score)]['user_score'], \n",
    "    platform_actual[(platform_actual.genre == \"Sports\") & (platform_actual.user_score)]['user_score']\n",
    ")\n",
    "print('p-значение',results.pvalue)\n",
    "\n",
    "if results.pvalue < alpha:\n",
    "    print('Отвергаем нулевую гипотезу')\n",
    "else:\n",
    "    print('Не получилось отвергнуть нулевую гипотезу')"
   ]
  },
  {
   "cell_type": "markdown",
   "metadata": {},
   "source": [
    "Так как гипотеза нулевая отвергнута, то получается, что средние пользовательские рейтинги жанров Спорт и Экшн отличаются. "
   ]
  },
  {
   "cell_type": "markdown",
   "metadata": {},
   "source": [
    "# Выводы"
   ]
  },
  {
   "cell_type": "markdown",
   "metadata": {},
   "source": [
    "Мы изучили данный нам ДатаФрейм об видеоиграх с 1980 по 2016 год на стационарных приставках, переносных приставках и персональных компьютерах.\n",
    "В ходе подготовки данных мы привели названия столбцов к единому регистру, преобразовали столбцы к нужным типам данных, обработали пропуски в столбцах. Сделали отдельный столбец по общим продажам из разных регионов.\n",
    "\n",
    "В исследовательском анализе мы выявили, что пик выпуска игр пришелся на 2008-2010 года. До 1994 года выходило менее 100 игр, а после 1994 пошел рост и выпускали уже более 100 игр в год.\n",
    "\n",
    "После 1994 года начали гораздо больше выпускать игры на стационарные приставки. Рост был до 2008 года, а позже выпуск игр пошел на спад.\n",
    "\n",
    "Игры на персональный компьютер выпускались равномерно и плавно. Пик был в 2011 году.\n",
    "\n",
    "Рост выпуска игр на переносные приставки начался в 2000-х годах. Пик так же был в 2008 году. После 2008 количество выпущенных игр пошло на спад.\n",
    "\n",
    "По данным на актуальный период с 2001 года видно, что по выходу игр лидируют PS2, DS, PS3. Это связано с тем, что данные платформы устаревшие и раньше на них выходило много игр. Растут релизы только у PS4 и XOne , тк в те года это были новые приставки и на них выходило много игр. На PC игры выходят стабильно, но сильного роста не наблюдается. На все остальные платформы выходит все меньше и меньше игр.\n",
    "\n",
    "Далее построили график \"ящик с усами\" по глобальным продажам по топ актуальным платформам. Лидером продаж является PS4, размах самый большой, есть игры, которые продавались более 12млн копий. ПК - это самая не популярная, но стабильна платформа, размах у нее самый маленький, особо больших продаж каких либо игр не наблюдается. У 3DS маленький ящик, но очень много выбросов. Следственно большая часть проданных игр делается на продажах этих популярных игр. У Xbox One достаточно большой ящик и нет особо игр, которые выделяются по продажам. У Xbox One покупают много игр в большом количестве.\n",
    "\n",
    "По диаграмме рассеивания видно, что корреляция между оценкой критиков ( и продажами есть. В целом - это очевидно, что зависимость от оценки критиков и продаж должна быть. Влияние оценок пользователей имеет обратную корреляцию и зависимость у них слабая. Так же заметно, что у критиков некоторые игры имеют высокую оценку, а у пользователей эта оценка ниже.\n",
    "\n",
    "По распределению жанров игр мы видим, что самые популярные жанры - экшн, шутеры, ролевые и спортивные игры.\n",
    "\n",
    "Самые популярные платформы для игры в СА и Европе - это стационарные приставки (Xbox, PS4, PS3). Для Японии так же популярны стационарные приставки, но и переносными приставками так же пользуются(3DS, PSV).\n",
    "\n",
    "По жанрам опять же в СА и Европе сходятся почти все жанры. В основном это экшн, шутер и спорт. В Японии другие взгляды на игры (ролевые, экшн).\n",
    "\n",
    "По рейтингу в Европе и Северной Америке большинство игр имеют схожий рейтинг. Больше всего игр продается в рейтинге М, который подходит для лиц старше 17 лет. Следом идет рейтинг Е, который подходит для лиц от 3 лет. В Японии слишком маленькое значения. Там либо много пропущенных значений, либо такого рейтинга вовсе нет. Понятно, что Рейтинг М самый популярный, тк большинство популярных игр и имеют такой рейтинг(GTA , Call of duty и др).\n",
    "\n",
    "В общем выбор жанра игр, количество продаж и выбор платформы зависят от местоположения. Причем СА и Европа схожи, а Япония заметно отличается от них.\n",
    "\n",
    "Перспективные платформы - PS4,Xone.  На них точно стоит сделать акцент и вы не ошибетесь. "
   ]
  },
  {
   "cell_type": "markdown",
   "metadata": {},
   "source": [
    "<div class=\"alert alert-success\">\n",
    "\n",
    "**Артём:** 👍 Хороший вывод. Аккуратно, последовательно, приятно читать.\n",
    "\n",
    "</div>\n",
    "\n",
    "<div class=\"alert alert-success\">\n",
    "\n",
    "**Артём:** ❌ Не забудь его скорректировать с учетом новых данных.\n",
    "\n",
    "</div>\n",
    "<div class=\"alert alert-success\">\n",
    "\n",
    "**Артём:** 👍 Принято.\n",
    "\n",
    "</div>"
   ]
  },
  {
   "cell_type": "markdown",
   "metadata": {},
   "source": [
    "## 🏁 Итоги ревью\n",
    "<a id=\"results\"></a>\n",
    "[В начало](#start)\n",
    "\n",
    "<div class=\"alert alert-danger\">\n",
    "\n",
    "**Артём:** ❌ Дмитрий, спасибо за работу. Осталось исправить несколько комментариев и можно идти к заказчику. Молодец! 👍\n",
    "    \n",
    "Для удобства, комментарии которые нужно скорректировать я добавил в меню **Contents** слева.\n",
    "    \n",
    "Жду новую версию проекта. 🙂\n",
    "\n",
    "</div>\n",
    "11"
   ]
  },
  {
   "cell_type": "markdown",
   "metadata": {},
   "source": [
    "<div class=\"alert alert-danger\">\n",
    "\n",
    "**Артём:** ❌ Дмитрий, осталось исправить 6 комментариев и проект можно принять.\n",
    "    \n",
    "Для удобства, комментарии которые нужно скорректировать я добавил в меню **Contents** слева.\n",
    "    \n",
    "Жду новую версию проекта. 🙂\n",
    "\n",
    "</div>"
   ]
  },
  {
   "cell_type": "markdown",
   "metadata": {},
   "source": [
    "<div class=\"alert alert-danger\">\n",
    "\n",
    "**Артём:** ❌ Дмитрий, у тебя путанница с актуальным периодом. Подсказки отавил.\n",
    "    \n",
    "Для удобства, комментарии которые нужно скорректировать я добавил в меню **Contents** слева.\n",
    "    \n",
    "Жду новую версию проекта. 🙂\n",
    "\n",
    "</div>"
   ]
  },
  {
   "cell_type": "code",
   "execution_count": null,
   "metadata": {},
   "outputs": [],
   "source": []
  }
 ],
 "metadata": {
  "ExecuteTimeLog": [
   {
    "duration": 1511,
    "start_time": "2023-04-20T17:42:22.023Z"
   },
   {
    "duration": 1205,
    "start_time": "2023-04-20T17:46:11.504Z"
   },
   {
    "duration": 14,
    "start_time": "2023-04-20T17:46:27.366Z"
   },
   {
    "duration": 291,
    "start_time": "2023-04-20T17:47:42.771Z"
   },
   {
    "duration": 4,
    "start_time": "2023-04-20T17:48:01.762Z"
   },
   {
    "duration": 15,
    "start_time": "2023-04-20T17:48:12.649Z"
   },
   {
    "duration": 17,
    "start_time": "2023-04-20T17:49:44.973Z"
   },
   {
    "duration": 23,
    "start_time": "2023-04-20T18:01:49.025Z"
   },
   {
    "duration": 22,
    "start_time": "2023-04-20T18:01:58.116Z"
   },
   {
    "duration": 7,
    "start_time": "2023-04-20T18:02:16.661Z"
   },
   {
    "duration": 37,
    "start_time": "2023-04-20T18:02:42.905Z"
   },
   {
    "duration": 23,
    "start_time": "2023-04-20T18:03:08.597Z"
   },
   {
    "duration": 1522,
    "start_time": "2023-04-20T18:06:09.321Z"
   },
   {
    "duration": 28,
    "start_time": "2023-04-20T18:06:28.610Z"
   },
   {
    "duration": 32,
    "start_time": "2023-04-20T18:09:43.708Z"
   },
   {
    "duration": 49,
    "start_time": "2023-04-20T18:12:54.601Z"
   },
   {
    "duration": 39,
    "start_time": "2023-04-20T18:13:16.451Z"
   },
   {
    "duration": 937,
    "start_time": "2023-04-20T18:13:26.493Z"
   },
   {
    "duration": 24,
    "start_time": "2023-04-20T18:13:27.433Z"
   },
   {
    "duration": 35,
    "start_time": "2023-04-20T18:13:27.460Z"
   },
   {
    "duration": 148,
    "start_time": "2023-04-20T18:13:27.498Z"
   },
   {
    "duration": 26,
    "start_time": "2023-04-20T18:16:54.982Z"
   },
   {
    "duration": 68,
    "start_time": "2023-04-20T20:23:27.804Z"
   },
   {
    "duration": 1049,
    "start_time": "2023-04-20T20:23:37.487Z"
   },
   {
    "duration": 17,
    "start_time": "2023-04-20T20:23:38.538Z"
   },
   {
    "duration": 17,
    "start_time": "2023-04-20T20:23:38.556Z"
   },
   {
    "duration": 14,
    "start_time": "2023-04-20T20:23:38.576Z"
   },
   {
    "duration": 11,
    "start_time": "2023-04-20T20:25:29.233Z"
   },
   {
    "duration": 10,
    "start_time": "2023-04-20T20:25:33.391Z"
   },
   {
    "duration": 25,
    "start_time": "2023-04-20T20:25:43.919Z"
   },
   {
    "duration": 70,
    "start_time": "2023-04-20T20:27:57.133Z"
   },
   {
    "duration": 16,
    "start_time": "2023-04-20T20:29:00.748Z"
   },
   {
    "duration": 18,
    "start_time": "2023-04-20T20:29:13.794Z"
   },
   {
    "duration": 16,
    "start_time": "2023-04-20T20:29:27.389Z"
   },
   {
    "duration": 19,
    "start_time": "2023-04-20T20:29:48.966Z"
   },
   {
    "duration": 19,
    "start_time": "2023-04-20T20:31:08.001Z"
   },
   {
    "duration": 8,
    "start_time": "2023-04-20T20:34:08.463Z"
   },
   {
    "duration": 8,
    "start_time": "2023-04-20T20:34:26.242Z"
   },
   {
    "duration": 637,
    "start_time": "2023-04-20T20:34:35.112Z"
   },
   {
    "duration": 13,
    "start_time": "2023-04-20T20:34:35.751Z"
   },
   {
    "duration": 21,
    "start_time": "2023-04-20T20:34:35.766Z"
   },
   {
    "duration": 13,
    "start_time": "2023-04-20T20:34:35.789Z"
   },
   {
    "duration": 39,
    "start_time": "2023-04-20T20:34:35.804Z"
   },
   {
    "duration": 26,
    "start_time": "2023-04-20T20:35:40.552Z"
   },
   {
    "duration": 23,
    "start_time": "2023-04-20T20:36:15.365Z"
   },
   {
    "duration": 9,
    "start_time": "2023-04-20T20:36:32.442Z"
   },
   {
    "duration": 87,
    "start_time": "2023-04-20T20:36:53.866Z"
   },
   {
    "duration": 21,
    "start_time": "2023-04-20T20:37:27.826Z"
   },
   {
    "duration": 21,
    "start_time": "2023-04-20T20:37:33.549Z"
   },
   {
    "duration": 41,
    "start_time": "2023-04-20T20:37:36.192Z"
   },
   {
    "duration": 42,
    "start_time": "2023-04-20T20:41:39.093Z"
   },
   {
    "duration": 30,
    "start_time": "2023-04-20T20:41:51.990Z"
   },
   {
    "duration": 30,
    "start_time": "2023-04-20T20:42:01.202Z"
   },
   {
    "duration": 22,
    "start_time": "2023-04-20T21:30:25.284Z"
   },
   {
    "duration": 5,
    "start_time": "2023-04-20T21:32:01.482Z"
   },
   {
    "duration": 7,
    "start_time": "2023-04-20T21:32:20.778Z"
   },
   {
    "duration": 23,
    "start_time": "2023-04-20T21:35:02.330Z"
   },
   {
    "duration": 89,
    "start_time": "2023-04-20T21:41:35.155Z"
   },
   {
    "duration": 12,
    "start_time": "2023-04-20T21:41:42.787Z"
   },
   {
    "duration": 28,
    "start_time": "2023-04-20T21:41:51.352Z"
   },
   {
    "duration": 7,
    "start_time": "2023-04-20T21:42:09.733Z"
   },
   {
    "duration": 15,
    "start_time": "2023-04-20T21:43:03.592Z"
   },
   {
    "duration": 6,
    "start_time": "2023-04-20T21:44:02.711Z"
   },
   {
    "duration": 5,
    "start_time": "2023-04-20T21:44:10.289Z"
   },
   {
    "duration": 19,
    "start_time": "2023-04-20T21:44:23.588Z"
   },
   {
    "duration": 1461,
    "start_time": "2023-04-21T06:30:16.542Z"
   },
   {
    "duration": 22,
    "start_time": "2023-04-21T06:30:18.005Z"
   },
   {
    "duration": 21,
    "start_time": "2023-04-21T06:30:18.029Z"
   },
   {
    "duration": 13,
    "start_time": "2023-04-21T06:30:18.052Z"
   },
   {
    "duration": 20,
    "start_time": "2023-04-21T06:30:18.067Z"
   },
   {
    "duration": 43,
    "start_time": "2023-04-21T06:30:18.115Z"
   },
   {
    "duration": 14,
    "start_time": "2023-04-21T06:30:18.160Z"
   },
   {
    "duration": 7,
    "start_time": "2023-04-21T06:30:18.176Z"
   },
   {
    "duration": 54,
    "start_time": "2023-04-21T06:30:18.184Z"
   },
   {
    "duration": 17,
    "start_time": "2023-04-21T06:30:18.240Z"
   },
   {
    "duration": 5,
    "start_time": "2023-04-21T06:32:39.432Z"
   },
   {
    "duration": 4,
    "start_time": "2023-04-21T06:32:43.748Z"
   },
   {
    "duration": 7,
    "start_time": "2023-04-21T06:32:59.766Z"
   },
   {
    "duration": 73,
    "start_time": "2023-04-21T06:33:13.630Z"
   },
   {
    "duration": 18,
    "start_time": "2023-04-21T06:33:37.013Z"
   },
   {
    "duration": 42,
    "start_time": "2023-04-21T06:34:09.442Z"
   },
   {
    "duration": 8,
    "start_time": "2023-04-21T06:34:22.682Z"
   },
   {
    "duration": 6,
    "start_time": "2023-04-21T06:34:31.127Z"
   },
   {
    "duration": 6,
    "start_time": "2023-04-21T06:35:17.951Z"
   },
   {
    "duration": 16,
    "start_time": "2023-04-21T06:35:29.154Z"
   },
   {
    "duration": 8,
    "start_time": "2023-04-21T06:35:40.138Z"
   },
   {
    "duration": 4,
    "start_time": "2023-04-21T06:35:47.261Z"
   },
   {
    "duration": 6,
    "start_time": "2023-04-21T06:36:15.878Z"
   },
   {
    "duration": 14,
    "start_time": "2023-04-21T06:40:31.355Z"
   },
   {
    "duration": 1433,
    "start_time": "2023-04-21T06:46:14.875Z"
   },
   {
    "duration": 5,
    "start_time": "2023-04-21T06:47:27.557Z"
   },
   {
    "duration": 5,
    "start_time": "2023-04-21T06:47:36.734Z"
   },
   {
    "duration": 7,
    "start_time": "2023-04-21T06:49:47.278Z"
   },
   {
    "duration": 1308,
    "start_time": "2023-04-21T06:54:59.009Z"
   },
   {
    "duration": 8,
    "start_time": "2023-04-21T06:55:13.111Z"
   },
   {
    "duration": 18,
    "start_time": "2023-04-21T06:55:25.227Z"
   },
   {
    "duration": 5,
    "start_time": "2023-04-21T06:55:38.606Z"
   },
   {
    "duration": 24,
    "start_time": "2023-04-21T06:55:48.845Z"
   },
   {
    "duration": 37,
    "start_time": "2023-04-21T06:56:12.324Z"
   },
   {
    "duration": 11,
    "start_time": "2023-04-21T06:57:18.444Z"
   },
   {
    "duration": 1147,
    "start_time": "2023-04-21T06:57:22.848Z"
   },
   {
    "duration": 337,
    "start_time": "2023-04-21T07:00:27.078Z"
   },
   {
    "duration": 331,
    "start_time": "2023-04-21T07:00:47.032Z"
   },
   {
    "duration": 310,
    "start_time": "2023-04-21T07:00:54.325Z"
   },
   {
    "duration": 196,
    "start_time": "2023-04-21T07:02:03.420Z"
   },
   {
    "duration": 168,
    "start_time": "2023-04-21T07:02:23.635Z"
   },
   {
    "duration": 193,
    "start_time": "2023-04-21T07:02:34.609Z"
   },
   {
    "duration": 163,
    "start_time": "2023-04-21T07:03:47.224Z"
   },
   {
    "duration": 244,
    "start_time": "2023-04-21T07:03:59.357Z"
   },
   {
    "duration": 150,
    "start_time": "2023-04-21T07:04:10.715Z"
   },
   {
    "duration": 165,
    "start_time": "2023-04-21T07:04:15.277Z"
   },
   {
    "duration": 183,
    "start_time": "2023-04-21T07:04:20.623Z"
   },
   {
    "duration": 190,
    "start_time": "2023-04-21T07:04:28.317Z"
   },
   {
    "duration": 174,
    "start_time": "2023-04-21T07:04:50.217Z"
   },
   {
    "duration": 176,
    "start_time": "2023-04-21T07:04:59.415Z"
   },
   {
    "duration": 164,
    "start_time": "2023-04-21T07:05:09.530Z"
   },
   {
    "duration": 19,
    "start_time": "2023-04-21T07:06:17.124Z"
   },
   {
    "duration": 5,
    "start_time": "2023-04-21T07:11:37.549Z"
   },
   {
    "duration": 818,
    "start_time": "2023-04-21T07:11:51.111Z"
   },
   {
    "duration": 16,
    "start_time": "2023-04-21T07:11:51.932Z"
   },
   {
    "duration": 26,
    "start_time": "2023-04-21T07:11:51.950Z"
   },
   {
    "duration": 14,
    "start_time": "2023-04-21T07:11:51.978Z"
   },
   {
    "duration": 40,
    "start_time": "2023-04-21T07:11:51.994Z"
   },
   {
    "duration": 36,
    "start_time": "2023-04-21T07:11:52.036Z"
   },
   {
    "duration": 14,
    "start_time": "2023-04-21T07:11:52.074Z"
   },
   {
    "duration": 29,
    "start_time": "2023-04-21T07:11:52.089Z"
   },
   {
    "duration": 30,
    "start_time": "2023-04-21T07:11:52.120Z"
   },
   {
    "duration": 6,
    "start_time": "2023-04-21T07:11:52.155Z"
   },
   {
    "duration": 26,
    "start_time": "2023-04-21T07:11:52.164Z"
   },
   {
    "duration": 38,
    "start_time": "2023-04-21T07:11:52.192Z"
   },
   {
    "duration": 9,
    "start_time": "2023-04-21T07:11:52.232Z"
   },
   {
    "duration": 20,
    "start_time": "2023-04-21T07:11:52.243Z"
   },
   {
    "duration": 31,
    "start_time": "2023-04-21T07:11:52.265Z"
   },
   {
    "duration": 43,
    "start_time": "2023-04-21T07:11:52.298Z"
   },
   {
    "duration": 6,
    "start_time": "2023-04-21T07:11:52.343Z"
   },
   {
    "duration": 110,
    "start_time": "2023-04-21T07:11:52.350Z"
   },
   {
    "duration": 0,
    "start_time": "2023-04-21T07:11:52.462Z"
   },
   {
    "duration": 0,
    "start_time": "2023-04-21T07:11:52.463Z"
   },
   {
    "duration": 0,
    "start_time": "2023-04-21T07:11:52.464Z"
   },
   {
    "duration": 14,
    "start_time": "2023-04-21T07:12:24.835Z"
   },
   {
    "duration": 810,
    "start_time": "2023-04-21T07:12:51.238Z"
   },
   {
    "duration": 16,
    "start_time": "2023-04-21T07:12:52.050Z"
   },
   {
    "duration": 14,
    "start_time": "2023-04-21T07:12:52.071Z"
   },
   {
    "duration": 39,
    "start_time": "2023-04-21T07:12:52.087Z"
   },
   {
    "duration": 28,
    "start_time": "2023-04-21T07:12:52.132Z"
   },
   {
    "duration": 53,
    "start_time": "2023-04-21T07:12:52.161Z"
   },
   {
    "duration": 24,
    "start_time": "2023-04-21T07:12:52.220Z"
   },
   {
    "duration": 7,
    "start_time": "2023-04-21T07:12:52.246Z"
   },
   {
    "duration": 31,
    "start_time": "2023-04-21T07:12:52.256Z"
   },
   {
    "duration": 5,
    "start_time": "2023-04-21T07:12:52.289Z"
   },
   {
    "duration": 44,
    "start_time": "2023-04-21T07:12:52.295Z"
   },
   {
    "duration": 6,
    "start_time": "2023-04-21T07:12:52.342Z"
   },
   {
    "duration": 7,
    "start_time": "2023-04-21T07:12:52.349Z"
   },
   {
    "duration": 9,
    "start_time": "2023-04-21T07:12:52.358Z"
   },
   {
    "duration": 45,
    "start_time": "2023-04-21T07:12:52.368Z"
   },
   {
    "duration": 42,
    "start_time": "2023-04-21T07:12:52.415Z"
   },
   {
    "duration": 241,
    "start_time": "2023-04-21T07:12:52.459Z"
   },
   {
    "duration": 249,
    "start_time": "2023-04-21T07:12:52.702Z"
   },
   {
    "duration": 20,
    "start_time": "2023-04-21T07:12:52.953Z"
   },
   {
    "duration": 118,
    "start_time": "2023-04-21T07:12:52.975Z"
   },
   {
    "duration": 70,
    "start_time": "2023-04-21T07:13:41.716Z"
   },
   {
    "duration": 6,
    "start_time": "2023-04-21T07:13:52.574Z"
   },
   {
    "duration": 17,
    "start_time": "2023-04-21T07:14:03.840Z"
   },
   {
    "duration": 12,
    "start_time": "2023-04-21T07:16:15.065Z"
   },
   {
    "duration": 12,
    "start_time": "2023-04-21T07:16:22.204Z"
   },
   {
    "duration": 11,
    "start_time": "2023-04-21T07:18:04.509Z"
   },
   {
    "duration": 774,
    "start_time": "2023-04-21T07:18:14.519Z"
   },
   {
    "duration": 15,
    "start_time": "2023-04-21T07:18:15.295Z"
   },
   {
    "duration": 23,
    "start_time": "2023-04-21T07:18:15.312Z"
   },
   {
    "duration": 15,
    "start_time": "2023-04-21T07:18:15.337Z"
   },
   {
    "duration": 23,
    "start_time": "2023-04-21T07:18:15.354Z"
   },
   {
    "duration": 55,
    "start_time": "2023-04-21T07:18:15.379Z"
   },
   {
    "duration": 15,
    "start_time": "2023-04-21T07:18:15.437Z"
   },
   {
    "duration": 8,
    "start_time": "2023-04-21T07:18:15.454Z"
   },
   {
    "duration": 49,
    "start_time": "2023-04-21T07:18:15.464Z"
   },
   {
    "duration": 5,
    "start_time": "2023-04-21T07:18:15.515Z"
   },
   {
    "duration": 19,
    "start_time": "2023-04-21T07:18:15.522Z"
   },
   {
    "duration": 5,
    "start_time": "2023-04-21T07:18:15.543Z"
   },
   {
    "duration": 16,
    "start_time": "2023-04-21T07:18:15.549Z"
   },
   {
    "duration": 13,
    "start_time": "2023-04-21T07:18:15.567Z"
   },
   {
    "duration": 38,
    "start_time": "2023-04-21T07:18:15.581Z"
   },
   {
    "duration": 42,
    "start_time": "2023-04-21T07:18:15.621Z"
   },
   {
    "duration": 218,
    "start_time": "2023-04-21T07:18:15.665Z"
   },
   {
    "duration": 165,
    "start_time": "2023-04-21T07:18:15.885Z"
   },
   {
    "duration": 18,
    "start_time": "2023-04-21T07:18:16.052Z"
   },
   {
    "duration": 16,
    "start_time": "2023-04-21T07:18:16.072Z"
   },
   {
    "duration": 74,
    "start_time": "2023-04-21T07:18:59.381Z"
   },
   {
    "duration": 24,
    "start_time": "2023-04-21T07:19:04.404Z"
   },
   {
    "duration": 701,
    "start_time": "2023-04-21T07:19:16.047Z"
   },
   {
    "duration": 13,
    "start_time": "2023-04-21T07:19:16.751Z"
   },
   {
    "duration": 35,
    "start_time": "2023-04-21T07:19:16.766Z"
   },
   {
    "duration": 33,
    "start_time": "2023-04-21T07:19:16.803Z"
   },
   {
    "duration": 26,
    "start_time": "2023-04-21T07:19:16.838Z"
   },
   {
    "duration": 32,
    "start_time": "2023-04-21T07:19:16.865Z"
   },
   {
    "duration": 29,
    "start_time": "2023-04-21T07:19:16.899Z"
   },
   {
    "duration": 7,
    "start_time": "2023-04-21T07:19:16.931Z"
   },
   {
    "duration": 24,
    "start_time": "2023-04-21T07:19:16.939Z"
   },
   {
    "duration": 5,
    "start_time": "2023-04-21T07:19:16.964Z"
   },
   {
    "duration": 22,
    "start_time": "2023-04-21T07:19:16.971Z"
   },
   {
    "duration": 23,
    "start_time": "2023-04-21T07:19:16.995Z"
   },
   {
    "duration": 6,
    "start_time": "2023-04-21T07:19:17.021Z"
   },
   {
    "duration": 13,
    "start_time": "2023-04-21T07:19:17.029Z"
   },
   {
    "duration": 38,
    "start_time": "2023-04-21T07:19:17.043Z"
   },
   {
    "duration": 42,
    "start_time": "2023-04-21T07:19:17.084Z"
   },
   {
    "duration": 243,
    "start_time": "2023-04-21T07:19:17.128Z"
   },
   {
    "duration": 182,
    "start_time": "2023-04-21T07:19:17.372Z"
   },
   {
    "duration": 18,
    "start_time": "2023-04-21T07:19:17.556Z"
   },
   {
    "duration": 18,
    "start_time": "2023-04-21T07:19:17.575Z"
   },
   {
    "duration": 20,
    "start_time": "2023-04-21T07:20:09.639Z"
   },
   {
    "duration": 707,
    "start_time": "2023-04-21T07:20:16.830Z"
   },
   {
    "duration": 14,
    "start_time": "2023-04-21T07:20:17.539Z"
   },
   {
    "duration": 21,
    "start_time": "2023-04-21T07:20:17.555Z"
   },
   {
    "duration": 13,
    "start_time": "2023-04-21T07:20:17.579Z"
   },
   {
    "duration": 38,
    "start_time": "2023-04-21T07:20:17.594Z"
   },
   {
    "duration": 31,
    "start_time": "2023-04-21T07:20:17.634Z"
   },
   {
    "duration": 17,
    "start_time": "2023-04-21T07:20:17.667Z"
   },
   {
    "duration": 32,
    "start_time": "2023-04-21T07:20:17.685Z"
   },
   {
    "duration": 43,
    "start_time": "2023-04-21T07:20:17.718Z"
   },
   {
    "duration": 19,
    "start_time": "2023-04-21T07:20:17.764Z"
   },
   {
    "duration": 53,
    "start_time": "2023-04-21T07:20:17.785Z"
   },
   {
    "duration": 5,
    "start_time": "2023-04-21T07:20:17.840Z"
   },
   {
    "duration": 30,
    "start_time": "2023-04-21T07:20:17.846Z"
   },
   {
    "duration": 10,
    "start_time": "2023-04-21T07:20:17.878Z"
   },
   {
    "duration": 37,
    "start_time": "2023-04-21T07:20:17.889Z"
   },
   {
    "duration": 36,
    "start_time": "2023-04-21T07:20:17.928Z"
   },
   {
    "duration": 205,
    "start_time": "2023-04-21T07:20:17.966Z"
   },
   {
    "duration": 162,
    "start_time": "2023-04-21T07:20:18.173Z"
   },
   {
    "duration": 18,
    "start_time": "2023-04-21T07:20:18.336Z"
   },
   {
    "duration": 22,
    "start_time": "2023-04-21T07:20:18.356Z"
   },
   {
    "duration": 9,
    "start_time": "2023-04-21T07:21:24.107Z"
   },
   {
    "duration": 19,
    "start_time": "2023-04-21T07:22:01.918Z"
   },
   {
    "duration": 9,
    "start_time": "2023-04-21T07:22:06.806Z"
   },
   {
    "duration": 100,
    "start_time": "2023-04-21T07:24:23.227Z"
   },
   {
    "duration": 11,
    "start_time": "2023-04-21T07:24:35.413Z"
   },
   {
    "duration": 28,
    "start_time": "2023-04-21T07:24:43.861Z"
   },
   {
    "duration": 8,
    "start_time": "2023-04-21T07:25:06.496Z"
   },
   {
    "duration": 7,
    "start_time": "2023-04-21T07:25:24.605Z"
   },
   {
    "duration": 10,
    "start_time": "2023-04-21T07:25:45.219Z"
   },
   {
    "duration": 14,
    "start_time": "2023-04-21T07:26:11.497Z"
   },
   {
    "duration": 746,
    "start_time": "2023-04-21T07:26:25.607Z"
   },
   {
    "duration": 13,
    "start_time": "2023-04-21T07:26:26.355Z"
   },
   {
    "duration": 15,
    "start_time": "2023-04-21T07:26:26.370Z"
   },
   {
    "duration": 29,
    "start_time": "2023-04-21T07:26:26.387Z"
   },
   {
    "duration": 22,
    "start_time": "2023-04-21T07:26:26.419Z"
   },
   {
    "duration": 30,
    "start_time": "2023-04-21T07:26:26.443Z"
   },
   {
    "duration": 38,
    "start_time": "2023-04-21T07:26:26.474Z"
   },
   {
    "duration": 7,
    "start_time": "2023-04-21T07:26:26.514Z"
   },
   {
    "duration": 46,
    "start_time": "2023-04-21T07:26:26.523Z"
   },
   {
    "duration": 5,
    "start_time": "2023-04-21T07:26:26.571Z"
   },
   {
    "duration": 19,
    "start_time": "2023-04-21T07:26:26.577Z"
   },
   {
    "duration": 5,
    "start_time": "2023-04-21T07:26:26.598Z"
   },
   {
    "duration": 7,
    "start_time": "2023-04-21T07:26:26.614Z"
   },
   {
    "duration": 7,
    "start_time": "2023-04-21T07:26:26.624Z"
   },
   {
    "duration": 17,
    "start_time": "2023-04-21T07:26:26.633Z"
   },
   {
    "duration": 41,
    "start_time": "2023-04-21T07:26:26.652Z"
   },
   {
    "duration": 32,
    "start_time": "2023-04-21T07:26:26.694Z"
   },
   {
    "duration": 217,
    "start_time": "2023-04-21T07:26:26.728Z"
   },
   {
    "duration": 169,
    "start_time": "2023-04-21T07:26:26.947Z"
   },
   {
    "duration": 18,
    "start_time": "2023-04-21T07:26:27.119Z"
   },
   {
    "duration": 20,
    "start_time": "2023-04-21T07:26:27.139Z"
   },
   {
    "duration": 9,
    "start_time": "2023-04-21T07:26:27.161Z"
   },
   {
    "duration": 11,
    "start_time": "2023-04-21T07:26:55.957Z"
   },
   {
    "duration": 14,
    "start_time": "2023-04-21T07:27:05.571Z"
   },
   {
    "duration": 832,
    "start_time": "2023-04-21T07:27:17.225Z"
   },
   {
    "duration": 14,
    "start_time": "2023-04-21T07:27:18.059Z"
   },
   {
    "duration": 26,
    "start_time": "2023-04-21T07:27:18.075Z"
   },
   {
    "duration": 36,
    "start_time": "2023-04-21T07:27:18.103Z"
   },
   {
    "duration": 26,
    "start_time": "2023-04-21T07:27:18.144Z"
   },
   {
    "duration": 34,
    "start_time": "2023-04-21T07:27:18.172Z"
   },
   {
    "duration": 20,
    "start_time": "2023-04-21T07:27:18.213Z"
   },
   {
    "duration": 7,
    "start_time": "2023-04-21T07:27:18.235Z"
   },
   {
    "duration": 23,
    "start_time": "2023-04-21T07:27:18.244Z"
   },
   {
    "duration": 5,
    "start_time": "2023-04-21T07:27:18.269Z"
   },
   {
    "duration": 56,
    "start_time": "2023-04-21T07:27:18.276Z"
   },
   {
    "duration": 15,
    "start_time": "2023-04-21T07:27:18.334Z"
   },
   {
    "duration": 6,
    "start_time": "2023-04-21T07:27:18.352Z"
   },
   {
    "duration": 9,
    "start_time": "2023-04-21T07:27:18.360Z"
   },
   {
    "duration": 22,
    "start_time": "2023-04-21T07:27:18.371Z"
   },
   {
    "duration": 48,
    "start_time": "2023-04-21T07:27:18.395Z"
   },
   {
    "duration": 21,
    "start_time": "2023-04-21T07:27:18.445Z"
   },
   {
    "duration": 236,
    "start_time": "2023-04-21T07:27:18.468Z"
   },
   {
    "duration": 221,
    "start_time": "2023-04-21T07:27:18.706Z"
   },
   {
    "duration": 25,
    "start_time": "2023-04-21T07:27:18.929Z"
   },
   {
    "duration": 26,
    "start_time": "2023-04-21T07:27:18.956Z"
   },
   {
    "duration": 32,
    "start_time": "2023-04-21T07:27:18.984Z"
   },
   {
    "duration": 29,
    "start_time": "2023-04-21T07:28:01.510Z"
   },
   {
    "duration": 752,
    "start_time": "2023-04-21T07:28:17.026Z"
   },
   {
    "duration": 15,
    "start_time": "2023-04-21T07:28:17.780Z"
   },
   {
    "duration": 26,
    "start_time": "2023-04-21T07:28:17.797Z"
   },
   {
    "duration": 14,
    "start_time": "2023-04-21T07:28:17.829Z"
   },
   {
    "duration": 35,
    "start_time": "2023-04-21T07:28:17.845Z"
   },
   {
    "duration": 45,
    "start_time": "2023-04-21T07:28:17.882Z"
   },
   {
    "duration": 25,
    "start_time": "2023-04-21T07:28:17.930Z"
   },
   {
    "duration": 7,
    "start_time": "2023-04-21T07:28:17.956Z"
   },
   {
    "duration": 34,
    "start_time": "2023-04-21T07:28:17.965Z"
   },
   {
    "duration": 5,
    "start_time": "2023-04-21T07:28:18.003Z"
   },
   {
    "duration": 36,
    "start_time": "2023-04-21T07:28:18.010Z"
   },
   {
    "duration": 5,
    "start_time": "2023-04-21T07:28:18.048Z"
   },
   {
    "duration": 15,
    "start_time": "2023-04-21T07:28:18.055Z"
   },
   {
    "duration": 18,
    "start_time": "2023-04-21T07:28:18.071Z"
   },
   {
    "duration": 26,
    "start_time": "2023-04-21T07:28:18.090Z"
   },
   {
    "duration": 41,
    "start_time": "2023-04-21T07:28:18.122Z"
   },
   {
    "duration": 20,
    "start_time": "2023-04-21T07:28:18.164Z"
   },
   {
    "duration": 229,
    "start_time": "2023-04-21T07:28:18.185Z"
   },
   {
    "duration": 170,
    "start_time": "2023-04-21T07:28:18.418Z"
   },
   {
    "duration": 39,
    "start_time": "2023-04-21T07:28:18.589Z"
   },
   {
    "duration": 20,
    "start_time": "2023-04-21T07:28:18.631Z"
   },
   {
    "duration": 10,
    "start_time": "2023-04-21T07:28:18.652Z"
   },
   {
    "duration": 175,
    "start_time": "2023-04-21T07:29:13.975Z"
   },
   {
    "duration": 781,
    "start_time": "2023-04-21T07:29:36.802Z"
   },
   {
    "duration": 14,
    "start_time": "2023-04-21T07:29:37.586Z"
   },
   {
    "duration": 22,
    "start_time": "2023-04-21T07:29:37.602Z"
   },
   {
    "duration": 14,
    "start_time": "2023-04-21T07:29:37.628Z"
   },
   {
    "duration": 23,
    "start_time": "2023-04-21T07:29:37.644Z"
   },
   {
    "duration": 51,
    "start_time": "2023-04-21T07:29:37.668Z"
   },
   {
    "duration": 16,
    "start_time": "2023-04-21T07:29:37.720Z"
   },
   {
    "duration": 7,
    "start_time": "2023-04-21T07:29:37.737Z"
   },
   {
    "duration": 24,
    "start_time": "2023-04-21T07:29:37.746Z"
   },
   {
    "duration": 5,
    "start_time": "2023-04-21T07:29:37.772Z"
   },
   {
    "duration": 51,
    "start_time": "2023-04-21T07:29:37.779Z"
   },
   {
    "duration": 5,
    "start_time": "2023-04-21T07:29:37.831Z"
   },
   {
    "duration": 5,
    "start_time": "2023-04-21T07:29:37.838Z"
   },
   {
    "duration": 6,
    "start_time": "2023-04-21T07:29:37.846Z"
   },
   {
    "duration": 18,
    "start_time": "2023-04-21T07:29:37.854Z"
   },
   {
    "duration": 78,
    "start_time": "2023-04-21T07:29:37.873Z"
   },
   {
    "duration": 20,
    "start_time": "2023-04-21T07:29:37.952Z"
   },
   {
    "duration": 198,
    "start_time": "2023-04-21T07:29:37.974Z"
   },
   {
    "duration": 194,
    "start_time": "2023-04-21T07:29:38.174Z"
   },
   {
    "duration": 18,
    "start_time": "2023-04-21T07:29:38.370Z"
   },
   {
    "duration": 47,
    "start_time": "2023-04-21T07:29:38.390Z"
   },
   {
    "duration": 9,
    "start_time": "2023-04-21T07:29:38.439Z"
   },
   {
    "duration": 786,
    "start_time": "2023-04-21T07:31:18.180Z"
   },
   {
    "duration": 18,
    "start_time": "2023-04-21T07:31:18.968Z"
   },
   {
    "duration": 32,
    "start_time": "2023-04-21T07:31:18.988Z"
   },
   {
    "duration": 23,
    "start_time": "2023-04-21T07:31:19.029Z"
   },
   {
    "duration": 39,
    "start_time": "2023-04-21T07:31:19.054Z"
   },
   {
    "duration": 55,
    "start_time": "2023-04-21T07:31:19.096Z"
   },
   {
    "duration": 18,
    "start_time": "2023-04-21T07:31:19.153Z"
   },
   {
    "duration": 10,
    "start_time": "2023-04-21T07:31:19.173Z"
   },
   {
    "duration": 69,
    "start_time": "2023-04-21T07:31:19.185Z"
   },
   {
    "duration": 6,
    "start_time": "2023-04-21T07:31:19.256Z"
   },
   {
    "duration": 31,
    "start_time": "2023-04-21T07:31:19.264Z"
   },
   {
    "duration": 5,
    "start_time": "2023-04-21T07:31:19.297Z"
   },
   {
    "duration": 11,
    "start_time": "2023-04-21T07:31:19.303Z"
   },
   {
    "duration": 15,
    "start_time": "2023-04-21T07:31:19.316Z"
   },
   {
    "duration": 17,
    "start_time": "2023-04-21T07:31:19.333Z"
   },
   {
    "duration": 37,
    "start_time": "2023-04-21T07:31:19.351Z"
   },
   {
    "duration": 48,
    "start_time": "2023-04-21T07:31:19.389Z"
   },
   {
    "duration": 188,
    "start_time": "2023-04-21T07:31:19.439Z"
   },
   {
    "duration": 197,
    "start_time": "2023-04-21T07:31:19.629Z"
   },
   {
    "duration": 21,
    "start_time": "2023-04-21T07:31:19.828Z"
   },
   {
    "duration": 20,
    "start_time": "2023-04-21T07:31:19.850Z"
   },
   {
    "duration": 8,
    "start_time": "2023-04-21T07:31:19.872Z"
   },
   {
    "duration": 804,
    "start_time": "2023-04-21T07:37:53.380Z"
   },
   {
    "duration": 14,
    "start_time": "2023-04-21T07:37:54.186Z"
   },
   {
    "duration": 17,
    "start_time": "2023-04-21T07:37:54.202Z"
   },
   {
    "duration": 15,
    "start_time": "2023-04-21T07:37:54.221Z"
   },
   {
    "duration": 30,
    "start_time": "2023-04-21T07:37:54.238Z"
   },
   {
    "duration": 51,
    "start_time": "2023-04-21T07:37:54.269Z"
   },
   {
    "duration": 15,
    "start_time": "2023-04-21T07:37:54.322Z"
   },
   {
    "duration": 14,
    "start_time": "2023-04-21T07:37:54.338Z"
   },
   {
    "duration": 28,
    "start_time": "2023-04-21T07:37:54.353Z"
   },
   {
    "duration": 5,
    "start_time": "2023-04-21T07:37:54.383Z"
   },
   {
    "duration": 20,
    "start_time": "2023-04-21T07:37:54.412Z"
   },
   {
    "duration": 6,
    "start_time": "2023-04-21T07:37:54.434Z"
   },
   {
    "duration": 36,
    "start_time": "2023-04-21T07:37:54.442Z"
   },
   {
    "duration": 34,
    "start_time": "2023-04-21T07:37:54.481Z"
   },
   {
    "duration": 36,
    "start_time": "2023-04-21T07:37:54.518Z"
   },
   {
    "duration": 41,
    "start_time": "2023-04-21T07:37:54.556Z"
   },
   {
    "duration": 48,
    "start_time": "2023-04-21T07:37:54.599Z"
   },
   {
    "duration": 35,
    "start_time": "2023-04-21T07:37:54.649Z"
   },
   {
    "duration": 227,
    "start_time": "2023-04-21T07:37:54.686Z"
   },
   {
    "duration": 211,
    "start_time": "2023-04-21T07:37:54.916Z"
   },
   {
    "duration": 21,
    "start_time": "2023-04-21T07:37:55.129Z"
   },
   {
    "duration": 10,
    "start_time": "2023-04-21T07:37:55.152Z"
   },
   {
    "duration": 178,
    "start_time": "2023-04-21T07:38:39.314Z"
   },
   {
    "duration": 150,
    "start_time": "2023-04-21T07:38:59.441Z"
   },
   {
    "duration": 234,
    "start_time": "2023-04-21T07:39:07.198Z"
   },
   {
    "duration": 88,
    "start_time": "2023-04-21T07:45:14.191Z"
   },
   {
    "duration": 25,
    "start_time": "2023-04-21T07:46:06.031Z"
   },
   {
    "duration": 728,
    "start_time": "2023-04-21T07:46:19.726Z"
   },
   {
    "duration": 15,
    "start_time": "2023-04-21T07:46:20.456Z"
   },
   {
    "duration": 15,
    "start_time": "2023-04-21T07:46:20.473Z"
   },
   {
    "duration": 35,
    "start_time": "2023-04-21T07:46:20.490Z"
   },
   {
    "duration": 24,
    "start_time": "2023-04-21T07:46:20.528Z"
   },
   {
    "duration": 42,
    "start_time": "2023-04-21T07:46:20.554Z"
   },
   {
    "duration": 23,
    "start_time": "2023-04-21T07:46:20.598Z"
   },
   {
    "duration": 7,
    "start_time": "2023-04-21T07:46:20.623Z"
   },
   {
    "duration": 27,
    "start_time": "2023-04-21T07:46:20.631Z"
   },
   {
    "duration": 6,
    "start_time": "2023-04-21T07:46:20.660Z"
   },
   {
    "duration": 28,
    "start_time": "2023-04-21T07:46:20.667Z"
   },
   {
    "duration": 5,
    "start_time": "2023-04-21T07:46:20.712Z"
   },
   {
    "duration": 7,
    "start_time": "2023-04-21T07:46:20.719Z"
   },
   {
    "duration": 8,
    "start_time": "2023-04-21T07:46:20.728Z"
   },
   {
    "duration": 29,
    "start_time": "2023-04-21T07:46:20.738Z"
   },
   {
    "duration": 53,
    "start_time": "2023-04-21T07:46:20.768Z"
   },
   {
    "duration": 26,
    "start_time": "2023-04-21T07:46:20.822Z"
   },
   {
    "duration": 25,
    "start_time": "2023-04-21T07:46:20.850Z"
   },
   {
    "duration": 201,
    "start_time": "2023-04-21T07:46:20.876Z"
   },
   {
    "duration": 187,
    "start_time": "2023-04-21T07:46:21.079Z"
   },
   {
    "duration": 20,
    "start_time": "2023-04-21T07:46:21.268Z"
   },
   {
    "duration": 27,
    "start_time": "2023-04-21T07:46:21.289Z"
   },
   {
    "duration": 87,
    "start_time": "2023-04-21T07:46:52.311Z"
   },
   {
    "duration": 687,
    "start_time": "2023-04-21T07:47:16.345Z"
   },
   {
    "duration": 15,
    "start_time": "2023-04-21T07:47:17.034Z"
   },
   {
    "duration": 19,
    "start_time": "2023-04-21T07:47:17.051Z"
   },
   {
    "duration": 14,
    "start_time": "2023-04-21T07:47:17.072Z"
   },
   {
    "duration": 40,
    "start_time": "2023-04-21T07:47:17.088Z"
   },
   {
    "duration": 33,
    "start_time": "2023-04-21T07:47:17.130Z"
   },
   {
    "duration": 16,
    "start_time": "2023-04-21T07:47:17.165Z"
   },
   {
    "duration": 32,
    "start_time": "2023-04-21T07:47:17.183Z"
   },
   {
    "duration": 43,
    "start_time": "2023-04-21T07:47:17.218Z"
   },
   {
    "duration": 5,
    "start_time": "2023-04-21T07:47:17.263Z"
   },
   {
    "duration": 42,
    "start_time": "2023-04-21T07:47:17.270Z"
   },
   {
    "duration": 14,
    "start_time": "2023-04-21T07:47:17.314Z"
   },
   {
    "duration": 12,
    "start_time": "2023-04-21T07:47:17.330Z"
   },
   {
    "duration": 27,
    "start_time": "2023-04-21T07:47:17.345Z"
   },
   {
    "duration": 24,
    "start_time": "2023-04-21T07:47:17.374Z"
   },
   {
    "duration": 56,
    "start_time": "2023-04-21T07:47:17.399Z"
   },
   {
    "duration": 27,
    "start_time": "2023-04-21T07:47:17.457Z"
   },
   {
    "duration": 40,
    "start_time": "2023-04-21T07:47:17.486Z"
   },
   {
    "duration": 194,
    "start_time": "2023-04-21T07:47:17.528Z"
   },
   {
    "duration": 181,
    "start_time": "2023-04-21T07:47:17.723Z"
   },
   {
    "duration": 25,
    "start_time": "2023-04-21T07:47:17.905Z"
   },
   {
    "duration": 8,
    "start_time": "2023-04-21T07:47:17.932Z"
   },
   {
    "duration": 4,
    "start_time": "2023-04-21T07:48:01.305Z"
   },
   {
    "duration": 17,
    "start_time": "2023-04-21T07:48:15.335Z"
   },
   {
    "duration": 14,
    "start_time": "2023-04-21T07:48:33.985Z"
   },
   {
    "duration": 5,
    "start_time": "2023-04-21T08:07:48.209Z"
   },
   {
    "duration": 133,
    "start_time": "2023-04-21T08:17:41.462Z"
   },
   {
    "duration": 164,
    "start_time": "2023-04-21T08:18:33.503Z"
   },
   {
    "duration": 194,
    "start_time": "2023-04-21T08:18:42.099Z"
   },
   {
    "duration": 192,
    "start_time": "2023-04-21T08:19:13.800Z"
   },
   {
    "duration": 172,
    "start_time": "2023-04-21T08:20:09.808Z"
   },
   {
    "duration": 167,
    "start_time": "2023-04-21T08:20:15.352Z"
   },
   {
    "duration": 166,
    "start_time": "2023-04-21T08:57:50.129Z"
   },
   {
    "duration": 146,
    "start_time": "2023-04-21T08:58:27.951Z"
   },
   {
    "duration": 175,
    "start_time": "2023-04-21T08:58:31.227Z"
   },
   {
    "duration": 7,
    "start_time": "2023-04-21T08:59:55.992Z"
   },
   {
    "duration": 8,
    "start_time": "2023-04-21T09:00:00.493Z"
   },
   {
    "duration": 8,
    "start_time": "2023-04-21T09:11:24.492Z"
   },
   {
    "duration": 8,
    "start_time": "2023-04-21T09:12:01.142Z"
   },
   {
    "duration": 24,
    "start_time": "2023-04-21T09:16:08.189Z"
   },
   {
    "duration": 32,
    "start_time": "2023-04-21T09:21:28.590Z"
   },
   {
    "duration": 29,
    "start_time": "2023-04-21T09:22:24.102Z"
   },
   {
    "duration": 32,
    "start_time": "2023-04-21T09:22:52.345Z"
   },
   {
    "duration": 42,
    "start_time": "2023-04-21T09:23:04.678Z"
   },
   {
    "duration": 774,
    "start_time": "2023-04-21T09:23:11.838Z"
   },
   {
    "duration": 17,
    "start_time": "2023-04-21T09:23:12.614Z"
   },
   {
    "duration": 26,
    "start_time": "2023-04-21T09:23:12.632Z"
   },
   {
    "duration": 26,
    "start_time": "2023-04-21T09:23:12.661Z"
   },
   {
    "duration": 39,
    "start_time": "2023-04-21T09:23:12.690Z"
   },
   {
    "duration": 37,
    "start_time": "2023-04-21T09:23:12.730Z"
   },
   {
    "duration": 18,
    "start_time": "2023-04-21T09:23:12.769Z"
   },
   {
    "duration": 10,
    "start_time": "2023-04-21T09:23:12.813Z"
   },
   {
    "duration": 36,
    "start_time": "2023-04-21T09:23:12.826Z"
   },
   {
    "duration": 9,
    "start_time": "2023-04-21T09:23:12.865Z"
   },
   {
    "duration": 35,
    "start_time": "2023-04-21T09:23:12.877Z"
   },
   {
    "duration": 11,
    "start_time": "2023-04-21T09:23:12.914Z"
   },
   {
    "duration": 6,
    "start_time": "2023-04-21T09:23:12.927Z"
   },
   {
    "duration": 8,
    "start_time": "2023-04-21T09:23:12.938Z"
   },
   {
    "duration": 22,
    "start_time": "2023-04-21T09:23:12.948Z"
   },
   {
    "duration": 79,
    "start_time": "2023-04-21T09:23:12.972Z"
   },
   {
    "duration": 26,
    "start_time": "2023-04-21T09:23:13.053Z"
   },
   {
    "duration": 48,
    "start_time": "2023-04-21T09:23:13.081Z"
   },
   {
    "duration": 233,
    "start_time": "2023-04-21T09:23:13.131Z"
   },
   {
    "duration": 210,
    "start_time": "2023-04-21T09:23:13.366Z"
   },
   {
    "duration": 35,
    "start_time": "2023-04-21T09:23:13.577Z"
   },
   {
    "duration": 16,
    "start_time": "2023-04-21T09:23:13.614Z"
   },
   {
    "duration": 19,
    "start_time": "2023-04-21T09:23:13.632Z"
   },
   {
    "duration": 8,
    "start_time": "2023-04-21T09:23:13.653Z"
   },
   {
    "duration": 253,
    "start_time": "2023-04-21T09:23:13.663Z"
   },
   {
    "duration": 0,
    "start_time": "2023-04-21T09:23:13.918Z"
   },
   {
    "duration": 0,
    "start_time": "2023-04-21T09:23:13.920Z"
   },
   {
    "duration": 30,
    "start_time": "2023-04-21T09:23:22.982Z"
   },
   {
    "duration": 45,
    "start_time": "2023-04-21T09:23:34.609Z"
   },
   {
    "duration": 337,
    "start_time": "2023-04-21T09:24:21.322Z"
   },
   {
    "duration": 367,
    "start_time": "2023-04-21T09:25:01.586Z"
   },
   {
    "duration": 31,
    "start_time": "2023-04-21T09:27:14.907Z"
   },
   {
    "duration": 42,
    "start_time": "2023-04-21T09:28:29.016Z"
   },
   {
    "duration": 39,
    "start_time": "2023-04-21T09:28:37.862Z"
   },
   {
    "duration": 43,
    "start_time": "2023-04-21T09:29:10.585Z"
   },
   {
    "duration": 172,
    "start_time": "2023-04-21T09:29:36.922Z"
   },
   {
    "duration": 50,
    "start_time": "2023-04-21T09:30:44.239Z"
   },
   {
    "duration": 31,
    "start_time": "2023-04-21T09:31:03.439Z"
   },
   {
    "duration": 8,
    "start_time": "2023-04-21T09:31:17.705Z"
   },
   {
    "duration": 36,
    "start_time": "2023-04-21T09:36:31.573Z"
   },
   {
    "duration": 926,
    "start_time": "2023-04-21T11:51:25.756Z"
   },
   {
    "duration": 769,
    "start_time": "2023-04-21T11:52:09.978Z"
   },
   {
    "duration": 14,
    "start_time": "2023-04-21T11:52:10.749Z"
   },
   {
    "duration": 31,
    "start_time": "2023-04-21T11:52:10.764Z"
   },
   {
    "duration": 19,
    "start_time": "2023-04-21T11:52:10.797Z"
   },
   {
    "duration": 51,
    "start_time": "2023-04-21T11:52:10.818Z"
   },
   {
    "duration": 34,
    "start_time": "2023-04-21T11:52:10.871Z"
   },
   {
    "duration": 16,
    "start_time": "2023-04-21T11:52:10.906Z"
   },
   {
    "duration": 18,
    "start_time": "2023-04-21T11:52:10.924Z"
   },
   {
    "duration": 36,
    "start_time": "2023-04-21T11:52:10.944Z"
   },
   {
    "duration": 5,
    "start_time": "2023-04-21T11:52:10.983Z"
   },
   {
    "duration": 47,
    "start_time": "2023-04-21T11:52:10.990Z"
   },
   {
    "duration": 9,
    "start_time": "2023-04-21T11:52:11.039Z"
   },
   {
    "duration": 10,
    "start_time": "2023-04-21T11:52:11.050Z"
   },
   {
    "duration": 26,
    "start_time": "2023-04-21T11:52:11.061Z"
   },
   {
    "duration": 23,
    "start_time": "2023-04-21T11:52:11.089Z"
   },
   {
    "duration": 38,
    "start_time": "2023-04-21T11:52:11.114Z"
   },
   {
    "duration": 26,
    "start_time": "2023-04-21T11:52:11.154Z"
   },
   {
    "duration": 49,
    "start_time": "2023-04-21T11:52:11.181Z"
   },
   {
    "duration": 199,
    "start_time": "2023-04-21T11:52:11.231Z"
   },
   {
    "duration": 202,
    "start_time": "2023-04-21T11:52:11.431Z"
   },
   {
    "duration": 21,
    "start_time": "2023-04-21T11:52:11.635Z"
   },
   {
    "duration": 8,
    "start_time": "2023-04-21T11:52:11.658Z"
   },
   {
    "duration": 17,
    "start_time": "2023-04-21T11:52:11.667Z"
   },
   {
    "duration": 31,
    "start_time": "2023-04-21T11:52:11.685Z"
   },
   {
    "duration": 183,
    "start_time": "2023-04-21T11:52:11.717Z"
   },
   {
    "duration": 35,
    "start_time": "2023-04-21T11:52:11.901Z"
   },
   {
    "duration": 9,
    "start_time": "2023-04-21T11:52:11.938Z"
   },
   {
    "duration": 37,
    "start_time": "2023-04-21T11:52:11.950Z"
   },
   {
    "duration": 1145,
    "start_time": "2023-04-21T11:52:11.988Z"
   },
   {
    "duration": 902,
    "start_time": "2023-04-21T11:53:10.754Z"
   },
   {
    "duration": 846,
    "start_time": "2023-04-21T11:54:49.154Z"
   },
   {
    "duration": 992,
    "start_time": "2023-04-21T11:55:13.292Z"
   },
   {
    "duration": 957,
    "start_time": "2023-04-21T11:55:38.981Z"
   },
   {
    "duration": 917,
    "start_time": "2023-04-21T11:56:34.529Z"
   },
   {
    "duration": 965,
    "start_time": "2023-04-21T11:56:55.349Z"
   },
   {
    "duration": 887,
    "start_time": "2023-04-21T11:57:52.342Z"
   },
   {
    "duration": 35,
    "start_time": "2023-04-21T11:58:47.838Z"
   },
   {
    "duration": 90,
    "start_time": "2023-04-21T11:59:20.811Z"
   },
   {
    "duration": 961,
    "start_time": "2023-04-21T11:59:43.657Z"
   },
   {
    "duration": 985,
    "start_time": "2023-04-21T11:59:59.461Z"
   },
   {
    "duration": 875,
    "start_time": "2023-04-21T12:00:13.593Z"
   },
   {
    "duration": 880,
    "start_time": "2023-04-21T12:01:34.912Z"
   },
   {
    "duration": 986,
    "start_time": "2023-04-21T12:02:13.407Z"
   },
   {
    "duration": 224,
    "start_time": "2023-04-21T12:02:36.977Z"
   },
   {
    "duration": 15,
    "start_time": "2023-04-21T12:03:39.654Z"
   },
   {
    "duration": 35,
    "start_time": "2023-04-21T12:03:53.837Z"
   },
   {
    "duration": 22,
    "start_time": "2023-04-21T12:04:11.173Z"
   },
   {
    "duration": 26,
    "start_time": "2023-04-21T12:04:21.535Z"
   },
   {
    "duration": 15,
    "start_time": "2023-04-21T12:13:39.451Z"
   },
   {
    "duration": 14,
    "start_time": "2023-04-21T12:13:58.147Z"
   },
   {
    "duration": 33,
    "start_time": "2023-04-21T12:14:21.162Z"
   },
   {
    "duration": 607,
    "start_time": "2023-04-21T12:26:13.377Z"
   },
   {
    "duration": 28,
    "start_time": "2023-04-21T12:26:33.274Z"
   },
   {
    "duration": 34,
    "start_time": "2023-04-21T12:28:51.676Z"
   },
   {
    "duration": 33,
    "start_time": "2023-04-21T12:28:59.802Z"
   },
   {
    "duration": 247,
    "start_time": "2023-04-21T12:30:59.680Z"
   },
   {
    "duration": 271,
    "start_time": "2023-04-21T12:31:50.860Z"
   },
   {
    "duration": 1053,
    "start_time": "2023-04-21T12:32:02.948Z"
   },
   {
    "duration": 241,
    "start_time": "2023-04-21T12:32:46.535Z"
   },
   {
    "duration": 39,
    "start_time": "2023-04-21T12:33:22.002Z"
   },
   {
    "duration": 41,
    "start_time": "2023-04-21T12:33:35.966Z"
   },
   {
    "duration": 324,
    "start_time": "2023-04-21T12:35:03.253Z"
   },
   {
    "duration": 246,
    "start_time": "2023-04-21T12:42:33.077Z"
   },
   {
    "duration": 245,
    "start_time": "2023-04-21T12:42:57.457Z"
   },
   {
    "duration": 227,
    "start_time": "2023-04-21T12:43:07.579Z"
   },
   {
    "duration": 236,
    "start_time": "2023-04-21T12:43:19.478Z"
   },
   {
    "duration": 327,
    "start_time": "2023-04-21T12:43:38.598Z"
   },
   {
    "duration": 212,
    "start_time": "2023-04-21T12:45:43.011Z"
   },
   {
    "duration": 229,
    "start_time": "2023-04-21T12:45:57.345Z"
   },
   {
    "duration": 358,
    "start_time": "2023-04-21T12:46:08.931Z"
   },
   {
    "duration": 236,
    "start_time": "2023-04-21T12:46:22.942Z"
   },
   {
    "duration": 28,
    "start_time": "2023-04-21T12:52:58.955Z"
   },
   {
    "duration": 8,
    "start_time": "2023-04-21T12:53:17.342Z"
   },
   {
    "duration": 23,
    "start_time": "2023-04-21T12:53:28.500Z"
   },
   {
    "duration": 10,
    "start_time": "2023-04-21T12:54:04.410Z"
   },
   {
    "duration": 760,
    "start_time": "2023-04-21T12:54:20.073Z"
   },
   {
    "duration": 16,
    "start_time": "2023-04-21T12:54:20.835Z"
   },
   {
    "duration": 22,
    "start_time": "2023-04-21T12:54:20.852Z"
   },
   {
    "duration": 39,
    "start_time": "2023-04-21T12:54:20.876Z"
   },
   {
    "duration": 33,
    "start_time": "2023-04-21T12:54:20.919Z"
   },
   {
    "duration": 32,
    "start_time": "2023-04-21T12:54:20.955Z"
   },
   {
    "duration": 47,
    "start_time": "2023-04-21T12:54:20.989Z"
   },
   {
    "duration": 7,
    "start_time": "2023-04-21T12:54:21.038Z"
   },
   {
    "duration": 55,
    "start_time": "2023-04-21T12:54:21.047Z"
   },
   {
    "duration": 7,
    "start_time": "2023-04-21T12:54:21.104Z"
   },
   {
    "duration": 31,
    "start_time": "2023-04-21T12:54:21.114Z"
   },
   {
    "duration": 6,
    "start_time": "2023-04-21T12:54:21.146Z"
   },
   {
    "duration": 12,
    "start_time": "2023-04-21T12:54:21.154Z"
   },
   {
    "duration": 7,
    "start_time": "2023-04-21T12:54:21.169Z"
   },
   {
    "duration": 51,
    "start_time": "2023-04-21T12:54:21.178Z"
   },
   {
    "duration": 44,
    "start_time": "2023-04-21T12:54:21.232Z"
   },
   {
    "duration": 61,
    "start_time": "2023-04-21T12:54:21.278Z"
   },
   {
    "duration": 30,
    "start_time": "2023-04-21T12:54:21.342Z"
   },
   {
    "duration": 218,
    "start_time": "2023-04-21T12:54:21.373Z"
   },
   {
    "duration": 224,
    "start_time": "2023-04-21T12:54:21.593Z"
   },
   {
    "duration": 28,
    "start_time": "2023-04-21T12:54:21.821Z"
   },
   {
    "duration": 9,
    "start_time": "2023-04-21T12:54:21.850Z"
   },
   {
    "duration": 17,
    "start_time": "2023-04-21T12:54:21.861Z"
   },
   {
    "duration": 38,
    "start_time": "2023-04-21T12:54:21.880Z"
   },
   {
    "duration": 230,
    "start_time": "2023-04-21T12:54:21.920Z"
   },
   {
    "duration": 31,
    "start_time": "2023-04-21T12:54:22.152Z"
   },
   {
    "duration": 23,
    "start_time": "2023-04-21T12:54:22.185Z"
   },
   {
    "duration": 257,
    "start_time": "2023-04-21T12:54:22.209Z"
   },
   {
    "duration": 7,
    "start_time": "2023-04-21T12:54:22.467Z"
   },
   {
    "duration": 6,
    "start_time": "2023-04-21T12:57:13.504Z"
   },
   {
    "duration": 7,
    "start_time": "2023-04-21T12:57:17.044Z"
   },
   {
    "duration": 34,
    "start_time": "2023-04-21T12:57:26.185Z"
   },
   {
    "duration": 11,
    "start_time": "2023-04-21T13:05:24.634Z"
   },
   {
    "duration": 21,
    "start_time": "2023-04-21T13:05:28.576Z"
   },
   {
    "duration": 33,
    "start_time": "2023-04-21T13:05:47.805Z"
   },
   {
    "duration": 20,
    "start_time": "2023-04-21T13:05:59.957Z"
   },
   {
    "duration": 9,
    "start_time": "2023-04-21T13:06:38.874Z"
   },
   {
    "duration": 113,
    "start_time": "2023-04-21T13:09:11.397Z"
   },
   {
    "duration": 74,
    "start_time": "2023-04-21T13:09:21.369Z"
   },
   {
    "duration": 80,
    "start_time": "2023-04-21T13:09:38.867Z"
   },
   {
    "duration": 61,
    "start_time": "2023-04-21T13:09:46.302Z"
   },
   {
    "duration": 834,
    "start_time": "2023-04-21T13:10:37.590Z"
   },
   {
    "duration": 19,
    "start_time": "2023-04-21T13:10:38.427Z"
   },
   {
    "duration": 35,
    "start_time": "2023-04-21T13:10:38.448Z"
   },
   {
    "duration": 15,
    "start_time": "2023-04-21T13:10:38.485Z"
   },
   {
    "duration": 37,
    "start_time": "2023-04-21T13:10:38.502Z"
   },
   {
    "duration": 35,
    "start_time": "2023-04-21T13:10:38.541Z"
   },
   {
    "duration": 45,
    "start_time": "2023-04-21T13:10:38.578Z"
   },
   {
    "duration": 11,
    "start_time": "2023-04-21T13:10:38.626Z"
   },
   {
    "duration": 26,
    "start_time": "2023-04-21T13:10:38.639Z"
   },
   {
    "duration": 14,
    "start_time": "2023-04-21T13:10:38.668Z"
   },
   {
    "duration": 52,
    "start_time": "2023-04-21T13:10:38.684Z"
   },
   {
    "duration": 5,
    "start_time": "2023-04-21T13:10:38.738Z"
   },
   {
    "duration": 13,
    "start_time": "2023-04-21T13:10:38.746Z"
   },
   {
    "duration": 13,
    "start_time": "2023-04-21T13:10:38.761Z"
   },
   {
    "duration": 24,
    "start_time": "2023-04-21T13:10:38.776Z"
   },
   {
    "duration": 62,
    "start_time": "2023-04-21T13:10:38.802Z"
   },
   {
    "duration": 49,
    "start_time": "2023-04-21T13:10:38.866Z"
   },
   {
    "duration": 34,
    "start_time": "2023-04-21T13:10:38.924Z"
   },
   {
    "duration": 286,
    "start_time": "2023-04-21T13:10:38.960Z"
   },
   {
    "duration": 202,
    "start_time": "2023-04-21T13:10:39.248Z"
   },
   {
    "duration": 22,
    "start_time": "2023-04-21T13:10:39.452Z"
   },
   {
    "duration": 9,
    "start_time": "2023-04-21T13:10:39.476Z"
   },
   {
    "duration": 53,
    "start_time": "2023-04-21T13:10:39.486Z"
   },
   {
    "duration": 7,
    "start_time": "2023-04-21T13:10:39.541Z"
   },
   {
    "duration": 200,
    "start_time": "2023-04-21T13:10:39.550Z"
   },
   {
    "duration": 28,
    "start_time": "2023-04-21T13:10:39.752Z"
   },
   {
    "duration": 9,
    "start_time": "2023-04-21T13:10:39.781Z"
   },
   {
    "duration": 279,
    "start_time": "2023-04-21T13:10:39.811Z"
   },
   {
    "duration": 30,
    "start_time": "2023-04-21T13:10:40.091Z"
   },
   {
    "duration": 8,
    "start_time": "2023-04-21T13:10:40.123Z"
   },
   {
    "duration": 144,
    "start_time": "2023-04-21T13:10:40.134Z"
   },
   {
    "duration": 67,
    "start_time": "2023-04-21T13:11:48.377Z"
   },
   {
    "duration": 66,
    "start_time": "2023-04-21T13:11:51.524Z"
   },
   {
    "duration": 88,
    "start_time": "2023-04-21T13:12:30.862Z"
   },
   {
    "duration": 65,
    "start_time": "2023-04-21T13:12:44.650Z"
   },
   {
    "duration": 72,
    "start_time": "2023-04-21T13:13:04.496Z"
   },
   {
    "duration": 67,
    "start_time": "2023-04-21T13:13:27.695Z"
   },
   {
    "duration": 103,
    "start_time": "2023-04-21T13:13:38.445Z"
   },
   {
    "duration": 2152,
    "start_time": "2023-04-21T13:14:32.267Z"
   },
   {
    "duration": 71,
    "start_time": "2023-04-21T13:14:49.838Z"
   },
   {
    "duration": 1400,
    "start_time": "2023-04-21T13:16:01.929Z"
   },
   {
    "duration": 780,
    "start_time": "2023-04-21T13:16:23.809Z"
   },
   {
    "duration": 15,
    "start_time": "2023-04-21T13:16:24.592Z"
   },
   {
    "duration": 26,
    "start_time": "2023-04-21T13:16:24.608Z"
   },
   {
    "duration": 16,
    "start_time": "2023-04-21T13:16:24.636Z"
   },
   {
    "duration": 30,
    "start_time": "2023-04-21T13:16:24.653Z"
   },
   {
    "duration": 58,
    "start_time": "2023-04-21T13:16:24.684Z"
   },
   {
    "duration": 13,
    "start_time": "2023-04-21T13:16:24.743Z"
   },
   {
    "duration": 7,
    "start_time": "2023-04-21T13:16:24.758Z"
   },
   {
    "duration": 50,
    "start_time": "2023-04-21T13:16:24.767Z"
   },
   {
    "duration": 8,
    "start_time": "2023-04-21T13:16:24.822Z"
   },
   {
    "duration": 18,
    "start_time": "2023-04-21T13:16:24.833Z"
   },
   {
    "duration": 5,
    "start_time": "2023-04-21T13:16:24.852Z"
   },
   {
    "duration": 5,
    "start_time": "2023-04-21T13:16:24.859Z"
   },
   {
    "duration": 14,
    "start_time": "2023-04-21T13:16:24.865Z"
   },
   {
    "duration": 54,
    "start_time": "2023-04-21T13:16:24.881Z"
   },
   {
    "duration": 36,
    "start_time": "2023-04-21T13:16:24.937Z"
   },
   {
    "duration": 43,
    "start_time": "2023-04-21T13:16:24.975Z"
   },
   {
    "duration": 32,
    "start_time": "2023-04-21T13:16:25.020Z"
   },
   {
    "duration": 198,
    "start_time": "2023-04-21T13:16:25.054Z"
   },
   {
    "duration": 194,
    "start_time": "2023-04-21T13:16:25.253Z"
   },
   {
    "duration": 22,
    "start_time": "2023-04-21T13:16:25.448Z"
   },
   {
    "duration": 8,
    "start_time": "2023-04-21T13:16:25.472Z"
   },
   {
    "duration": 39,
    "start_time": "2023-04-21T13:16:25.481Z"
   },
   {
    "duration": 14,
    "start_time": "2023-04-21T13:16:25.522Z"
   },
   {
    "duration": 181,
    "start_time": "2023-04-21T13:16:25.541Z"
   },
   {
    "duration": 30,
    "start_time": "2023-04-21T13:16:25.723Z"
   },
   {
    "duration": 9,
    "start_time": "2023-04-21T13:16:25.755Z"
   },
   {
    "duration": 293,
    "start_time": "2023-04-21T13:16:25.767Z"
   },
   {
    "duration": 19,
    "start_time": "2023-04-21T13:16:26.062Z"
   },
   {
    "duration": 8,
    "start_time": "2023-04-21T13:16:26.082Z"
   },
   {
    "duration": 1524,
    "start_time": "2023-04-21T13:16:26.113Z"
   },
   {
    "duration": 85,
    "start_time": "2023-04-21T13:16:45.410Z"
   },
   {
    "duration": 58,
    "start_time": "2023-04-21T13:16:57.609Z"
   },
   {
    "duration": 75,
    "start_time": "2023-04-21T13:17:04.922Z"
   },
   {
    "duration": 266,
    "start_time": "2023-04-21T13:25:25.987Z"
   },
   {
    "duration": 78,
    "start_time": "2023-04-21T13:25:38.756Z"
   },
   {
    "duration": 72,
    "start_time": "2023-04-21T13:26:21.158Z"
   },
   {
    "duration": 78,
    "start_time": "2023-04-21T13:26:33.578Z"
   },
   {
    "duration": 1285,
    "start_time": "2023-04-21T13:31:16.313Z"
   },
   {
    "duration": 2430,
    "start_time": "2023-04-21T13:31:35.184Z"
   },
   {
    "duration": 16,
    "start_time": "2023-04-21T13:31:37.617Z"
   },
   {
    "duration": 18,
    "start_time": "2023-04-21T13:31:37.635Z"
   },
   {
    "duration": 16,
    "start_time": "2023-04-21T13:31:37.655Z"
   },
   {
    "duration": 60,
    "start_time": "2023-04-21T13:31:37.673Z"
   },
   {
    "duration": 42,
    "start_time": "2023-04-21T13:31:37.735Z"
   },
   {
    "duration": 48,
    "start_time": "2023-04-21T13:31:37.779Z"
   },
   {
    "duration": 10,
    "start_time": "2023-04-21T13:31:37.829Z"
   },
   {
    "duration": 26,
    "start_time": "2023-04-21T13:31:37.841Z"
   },
   {
    "duration": 5,
    "start_time": "2023-04-21T13:31:37.871Z"
   },
   {
    "duration": 46,
    "start_time": "2023-04-21T13:31:37.878Z"
   },
   {
    "duration": 5,
    "start_time": "2023-04-21T13:31:37.926Z"
   },
   {
    "duration": 5,
    "start_time": "2023-04-21T13:31:37.932Z"
   },
   {
    "duration": 9,
    "start_time": "2023-04-21T13:31:37.939Z"
   },
   {
    "duration": 18,
    "start_time": "2023-04-21T13:31:37.950Z"
   },
   {
    "duration": 73,
    "start_time": "2023-04-21T13:31:37.969Z"
   },
   {
    "duration": 26,
    "start_time": "2023-04-21T13:31:38.044Z"
   },
   {
    "duration": 40,
    "start_time": "2023-04-21T13:31:38.072Z"
   },
   {
    "duration": 228,
    "start_time": "2023-04-21T13:31:38.114Z"
   },
   {
    "duration": 192,
    "start_time": "2023-04-21T13:31:38.344Z"
   },
   {
    "duration": 25,
    "start_time": "2023-04-21T13:31:38.538Z"
   },
   {
    "duration": 13,
    "start_time": "2023-04-21T13:31:38.565Z"
   },
   {
    "duration": 52,
    "start_time": "2023-04-21T13:31:38.580Z"
   },
   {
    "duration": 7,
    "start_time": "2023-04-21T13:31:38.634Z"
   },
   {
    "duration": 277,
    "start_time": "2023-04-21T13:31:38.643Z"
   },
   {
    "duration": 46,
    "start_time": "2023-04-21T13:31:38.922Z"
   },
   {
    "duration": 18,
    "start_time": "2023-04-21T13:31:38.970Z"
   },
   {
    "duration": 352,
    "start_time": "2023-04-21T13:31:38.993Z"
   },
   {
    "duration": 28,
    "start_time": "2023-04-21T13:31:39.347Z"
   },
   {
    "duration": 9,
    "start_time": "2023-04-21T13:31:39.377Z"
   },
   {
    "duration": 1423,
    "start_time": "2023-04-21T13:31:39.411Z"
   },
   {
    "duration": 65,
    "start_time": "2023-04-21T13:32:01.301Z"
   },
   {
    "duration": 56,
    "start_time": "2023-04-21T13:33:38.105Z"
   },
   {
    "duration": 58,
    "start_time": "2023-04-21T13:33:52.309Z"
   },
   {
    "duration": 51,
    "start_time": "2023-04-21T13:33:58.014Z"
   },
   {
    "duration": 62,
    "start_time": "2023-04-21T13:34:19.174Z"
   },
   {
    "duration": 47,
    "start_time": "2023-04-21T13:34:23.075Z"
   },
   {
    "duration": 64,
    "start_time": "2023-04-21T13:34:26.369Z"
   },
   {
    "duration": 71,
    "start_time": "2023-04-21T14:20:16.402Z"
   },
   {
    "duration": 99,
    "start_time": "2023-04-21T14:20:26.640Z"
   },
   {
    "duration": 92,
    "start_time": "2023-04-21T14:23:59.475Z"
   },
   {
    "duration": 92,
    "start_time": "2023-04-21T14:24:47.547Z"
   },
   {
    "duration": 117,
    "start_time": "2023-04-21T14:24:53.186Z"
   },
   {
    "duration": 101,
    "start_time": "2023-04-21T14:25:11.600Z"
   },
   {
    "duration": 122,
    "start_time": "2023-04-21T14:25:28.860Z"
   },
   {
    "duration": 88,
    "start_time": "2023-04-21T14:26:48.666Z"
   },
   {
    "duration": 22,
    "start_time": "2023-04-21T14:29:40.759Z"
   },
   {
    "duration": 26,
    "start_time": "2023-04-21T14:30:02.451Z"
   },
   {
    "duration": 7,
    "start_time": "2023-04-21T14:30:19.047Z"
   },
   {
    "duration": 95,
    "start_time": "2023-04-21T14:31:11.647Z"
   },
   {
    "duration": 23,
    "start_time": "2023-04-21T14:34:21.401Z"
   },
   {
    "duration": 1518,
    "start_time": "2023-04-21T14:34:36.107Z"
   },
   {
    "duration": 5,
    "start_time": "2023-04-21T14:34:54.202Z"
   },
   {
    "duration": 8,
    "start_time": "2023-04-21T14:35:04.311Z"
   },
   {
    "duration": 10,
    "start_time": "2023-04-21T14:35:26.384Z"
   },
   {
    "duration": 10,
    "start_time": "2023-04-21T14:35:42.350Z"
   },
   {
    "duration": 10,
    "start_time": "2023-04-21T14:35:44.476Z"
   },
   {
    "duration": 770,
    "start_time": "2023-04-21T14:35:51.130Z"
   },
   {
    "duration": 20,
    "start_time": "2023-04-21T14:35:51.902Z"
   },
   {
    "duration": 18,
    "start_time": "2023-04-21T14:35:51.925Z"
   },
   {
    "duration": 15,
    "start_time": "2023-04-21T14:35:51.944Z"
   },
   {
    "duration": 28,
    "start_time": "2023-04-21T14:35:51.961Z"
   },
   {
    "duration": 57,
    "start_time": "2023-04-21T14:35:51.991Z"
   },
   {
    "duration": 15,
    "start_time": "2023-04-21T14:35:52.050Z"
   },
   {
    "duration": 8,
    "start_time": "2023-04-21T14:35:52.066Z"
   },
   {
    "duration": 61,
    "start_time": "2023-04-21T14:35:52.075Z"
   },
   {
    "duration": 6,
    "start_time": "2023-04-21T14:35:52.138Z"
   },
   {
    "duration": 27,
    "start_time": "2023-04-21T14:35:52.146Z"
   },
   {
    "duration": 20,
    "start_time": "2023-04-21T14:35:52.176Z"
   },
   {
    "duration": 21,
    "start_time": "2023-04-21T14:35:52.198Z"
   },
   {
    "duration": 11,
    "start_time": "2023-04-21T14:35:52.227Z"
   },
   {
    "duration": 53,
    "start_time": "2023-04-21T14:35:52.239Z"
   },
   {
    "duration": 54,
    "start_time": "2023-04-21T14:35:52.294Z"
   },
   {
    "duration": 27,
    "start_time": "2023-04-21T14:35:52.350Z"
   },
   {
    "duration": 50,
    "start_time": "2023-04-21T14:35:52.379Z"
   },
   {
    "duration": 210,
    "start_time": "2023-04-21T14:35:52.431Z"
   },
   {
    "duration": 218,
    "start_time": "2023-04-21T14:35:52.643Z"
   },
   {
    "duration": 24,
    "start_time": "2023-04-21T14:35:52.863Z"
   },
   {
    "duration": 28,
    "start_time": "2023-04-21T14:35:52.888Z"
   },
   {
    "duration": 21,
    "start_time": "2023-04-21T14:35:52.919Z"
   },
   {
    "duration": 7,
    "start_time": "2023-04-21T14:35:52.942Z"
   },
   {
    "duration": 199,
    "start_time": "2023-04-21T14:35:52.951Z"
   },
   {
    "duration": 30,
    "start_time": "2023-04-21T14:35:53.152Z"
   },
   {
    "duration": 29,
    "start_time": "2023-04-21T14:35:53.184Z"
   },
   {
    "duration": 266,
    "start_time": "2023-04-21T14:35:53.215Z"
   },
   {
    "duration": 35,
    "start_time": "2023-04-21T14:35:53.482Z"
   },
   {
    "duration": 8,
    "start_time": "2023-04-21T14:35:53.527Z"
   },
   {
    "duration": 139,
    "start_time": "2023-04-21T14:35:53.536Z"
   },
   {
    "duration": 157,
    "start_time": "2023-04-21T14:35:53.677Z"
   },
   {
    "duration": 13,
    "start_time": "2023-04-21T14:35:53.836Z"
   },
   {
    "duration": 10,
    "start_time": "2023-04-21T14:36:27.251Z"
   },
   {
    "duration": 10,
    "start_time": "2023-04-21T14:36:32.563Z"
   },
   {
    "duration": 512,
    "start_time": "2023-04-21T14:44:37.593Z"
   },
   {
    "duration": 11,
    "start_time": "2023-04-21T14:46:08.570Z"
   },
   {
    "duration": 37,
    "start_time": "2023-04-21T14:46:53.549Z"
   },
   {
    "duration": 10,
    "start_time": "2023-04-21T14:50:49.884Z"
   },
   {
    "duration": 35,
    "start_time": "2023-04-21T14:50:57.906Z"
   },
   {
    "duration": 6,
    "start_time": "2023-04-21T14:51:22.343Z"
   },
   {
    "duration": 17,
    "start_time": "2023-04-21T14:54:41.208Z"
   },
   {
    "duration": 250,
    "start_time": "2023-04-21T14:55:48.531Z"
   },
   {
    "duration": 222,
    "start_time": "2023-04-21T14:56:14.856Z"
   },
   {
    "duration": 343,
    "start_time": "2023-04-21T14:58:01.444Z"
   },
   {
    "duration": 282,
    "start_time": "2023-04-21T14:58:14.804Z"
   },
   {
    "duration": 9,
    "start_time": "2023-04-21T14:59:42.168Z"
   },
   {
    "duration": 40,
    "start_time": "2023-04-21T15:00:43.782Z"
   },
   {
    "duration": 48,
    "start_time": "2023-04-21T15:01:33.829Z"
   },
   {
    "duration": 7,
    "start_time": "2023-04-21T15:06:44.680Z"
   },
   {
    "duration": 44,
    "start_time": "2023-04-21T15:06:47.702Z"
   },
   {
    "duration": 336,
    "start_time": "2023-04-21T15:08:01.836Z"
   },
   {
    "duration": 324,
    "start_time": "2023-04-21T15:08:19.349Z"
   },
   {
    "duration": 314,
    "start_time": "2023-04-21T15:08:32.126Z"
   },
   {
    "duration": 51,
    "start_time": "2023-04-21T17:16:57.438Z"
   },
   {
    "duration": 7,
    "start_time": "2023-04-21T17:17:13.749Z"
   },
   {
    "duration": 1010,
    "start_time": "2023-04-21T17:17:21.702Z"
   },
   {
    "duration": 16,
    "start_time": "2023-04-21T17:17:22.714Z"
   },
   {
    "duration": 36,
    "start_time": "2023-04-21T17:17:22.732Z"
   },
   {
    "duration": 42,
    "start_time": "2023-04-21T17:17:22.773Z"
   },
   {
    "duration": 65,
    "start_time": "2023-04-21T17:17:22.817Z"
   },
   {
    "duration": 35,
    "start_time": "2023-04-21T17:17:22.884Z"
   },
   {
    "duration": 15,
    "start_time": "2023-04-21T17:17:22.921Z"
   },
   {
    "duration": 8,
    "start_time": "2023-04-21T17:17:22.938Z"
   },
   {
    "duration": 42,
    "start_time": "2023-04-21T17:17:22.948Z"
   },
   {
    "duration": 5,
    "start_time": "2023-04-21T17:17:22.994Z"
   },
   {
    "duration": 37,
    "start_time": "2023-04-21T17:17:23.001Z"
   },
   {
    "duration": 29,
    "start_time": "2023-04-21T17:17:23.040Z"
   },
   {
    "duration": 21,
    "start_time": "2023-04-21T17:17:23.070Z"
   },
   {
    "duration": 16,
    "start_time": "2023-04-21T17:17:23.093Z"
   },
   {
    "duration": 58,
    "start_time": "2023-04-21T17:17:23.111Z"
   },
   {
    "duration": 52,
    "start_time": "2023-04-21T17:17:23.170Z"
   },
   {
    "duration": 27,
    "start_time": "2023-04-21T17:17:23.225Z"
   },
   {
    "duration": 47,
    "start_time": "2023-04-21T17:17:23.254Z"
   },
   {
    "duration": 199,
    "start_time": "2023-04-21T17:17:23.304Z"
   },
   {
    "duration": 211,
    "start_time": "2023-04-21T17:17:23.505Z"
   },
   {
    "duration": 21,
    "start_time": "2023-04-21T17:17:23.718Z"
   },
   {
    "duration": 8,
    "start_time": "2023-04-21T17:17:23.741Z"
   },
   {
    "duration": 45,
    "start_time": "2023-04-21T17:17:23.751Z"
   },
   {
    "duration": 7,
    "start_time": "2023-04-21T17:17:23.798Z"
   },
   {
    "duration": 204,
    "start_time": "2023-04-21T17:17:23.807Z"
   },
   {
    "duration": 44,
    "start_time": "2023-04-21T17:17:24.013Z"
   },
   {
    "duration": 7,
    "start_time": "2023-04-21T17:17:24.059Z"
   },
   {
    "duration": 276,
    "start_time": "2023-04-21T17:17:24.087Z"
   },
   {
    "duration": 34,
    "start_time": "2023-04-21T17:17:24.365Z"
   },
   {
    "duration": 9,
    "start_time": "2023-04-21T17:17:24.402Z"
   },
   {
    "duration": 170,
    "start_time": "2023-04-21T17:17:24.412Z"
   },
   {
    "duration": 109,
    "start_time": "2023-04-21T17:17:24.584Z"
   },
   {
    "duration": 11,
    "start_time": "2023-04-21T17:17:24.695Z"
   },
   {
    "duration": 360,
    "start_time": "2023-04-21T17:17:24.709Z"
   },
   {
    "duration": 16,
    "start_time": "2023-04-21T17:17:25.071Z"
   },
   {
    "duration": 251,
    "start_time": "2023-04-21T17:20:11.662Z"
   },
   {
    "duration": 233,
    "start_time": "2023-04-21T17:20:55.840Z"
   },
   {
    "duration": 257,
    "start_time": "2023-04-21T17:21:17.913Z"
   },
   {
    "duration": 232,
    "start_time": "2023-04-21T17:42:44.137Z"
   },
   {
    "duration": 231,
    "start_time": "2023-04-21T17:42:46.603Z"
   },
   {
    "duration": 225,
    "start_time": "2023-04-21T17:44:27.593Z"
   },
   {
    "duration": 218,
    "start_time": "2023-04-21T17:44:39.154Z"
   },
   {
    "duration": 236,
    "start_time": "2023-04-21T17:45:08.483Z"
   },
   {
    "duration": 222,
    "start_time": "2023-04-21T17:45:38.910Z"
   },
   {
    "duration": 318,
    "start_time": "2023-04-21T17:45:59.210Z"
   },
   {
    "duration": 221,
    "start_time": "2023-04-21T17:46:03.244Z"
   },
   {
    "duration": 218,
    "start_time": "2023-04-21T17:46:08.084Z"
   },
   {
    "duration": 225,
    "start_time": "2023-04-21T17:46:16.243Z"
   },
   {
    "duration": 136,
    "start_time": "2023-04-21T17:52:56.546Z"
   },
   {
    "duration": 257,
    "start_time": "2023-04-21T17:53:15.668Z"
   },
   {
    "duration": 233,
    "start_time": "2023-04-21T17:53:23.694Z"
   },
   {
    "duration": 234,
    "start_time": "2023-04-21T17:54:02.393Z"
   },
   {
    "duration": 12,
    "start_time": "2023-04-21T18:23:54.945Z"
   },
   {
    "duration": 20,
    "start_time": "2023-04-21T18:24:00.079Z"
   },
   {
    "duration": 20,
    "start_time": "2023-04-21T18:24:29.810Z"
   },
   {
    "duration": 664,
    "start_time": "2023-04-21T18:26:54.765Z"
   },
   {
    "duration": 712,
    "start_time": "2023-04-21T18:27:31.036Z"
   },
   {
    "duration": 575,
    "start_time": "2023-04-21T18:28:55.781Z"
   },
   {
    "duration": 8,
    "start_time": "2023-04-21T18:29:17.729Z"
   },
   {
    "duration": 15,
    "start_time": "2023-04-21T18:29:46.726Z"
   },
   {
    "duration": 22,
    "start_time": "2023-04-21T18:30:00.256Z"
   },
   {
    "duration": 9,
    "start_time": "2023-04-21T18:35:59.949Z"
   },
   {
    "duration": 3,
    "start_time": "2023-04-21T18:36:05.024Z"
   },
   {
    "duration": 5,
    "start_time": "2023-04-21T18:36:09.939Z"
   },
   {
    "duration": 10,
    "start_time": "2023-04-21T18:36:21.403Z"
   },
   {
    "duration": 7,
    "start_time": "2023-04-21T18:36:56.720Z"
   },
   {
    "duration": 8,
    "start_time": "2023-04-21T18:37:04.746Z"
   },
   {
    "duration": 7,
    "start_time": "2023-04-21T18:37:16.439Z"
   },
   {
    "duration": 7,
    "start_time": "2023-04-21T18:37:36.830Z"
   },
   {
    "duration": 10,
    "start_time": "2023-04-21T18:40:50.346Z"
   },
   {
    "duration": 16,
    "start_time": "2023-04-21T18:40:55.941Z"
   },
   {
    "duration": 10,
    "start_time": "2023-04-21T18:43:36.269Z"
   },
   {
    "duration": 15,
    "start_time": "2023-04-21T18:43:41.360Z"
   },
   {
    "duration": 14,
    "start_time": "2023-04-21T18:44:36.272Z"
   },
   {
    "duration": 8,
    "start_time": "2023-04-21T18:47:23.267Z"
   },
   {
    "duration": 13,
    "start_time": "2023-04-21T18:47:29.168Z"
   },
   {
    "duration": 17,
    "start_time": "2023-04-21T18:48:23.800Z"
   },
   {
    "duration": 16,
    "start_time": "2023-04-21T18:50:11.026Z"
   },
   {
    "duration": 15,
    "start_time": "2023-04-21T18:50:23.086Z"
   },
   {
    "duration": 51,
    "start_time": "2023-04-21T18:51:24.982Z"
   },
   {
    "duration": 23,
    "start_time": "2023-04-21T18:51:41.173Z"
   },
   {
    "duration": 16,
    "start_time": "2023-04-21T18:51:48.288Z"
   },
   {
    "duration": 16,
    "start_time": "2023-04-21T18:51:55.963Z"
   },
   {
    "duration": 21,
    "start_time": "2023-04-21T18:52:00.344Z"
   },
   {
    "duration": 18,
    "start_time": "2023-04-21T18:52:11.276Z"
   },
   {
    "duration": 14,
    "start_time": "2023-04-21T18:52:12.724Z"
   },
   {
    "duration": 727,
    "start_time": "2023-04-21T18:52:21.111Z"
   },
   {
    "duration": 14,
    "start_time": "2023-04-21T18:52:21.840Z"
   },
   {
    "duration": 26,
    "start_time": "2023-04-21T18:52:21.855Z"
   },
   {
    "duration": 37,
    "start_time": "2023-04-21T18:52:21.883Z"
   },
   {
    "duration": 51,
    "start_time": "2023-04-21T18:52:21.922Z"
   },
   {
    "duration": 32,
    "start_time": "2023-04-21T18:52:21.975Z"
   },
   {
    "duration": 15,
    "start_time": "2023-04-21T18:52:22.009Z"
   },
   {
    "duration": 7,
    "start_time": "2023-04-21T18:52:22.026Z"
   },
   {
    "duration": 44,
    "start_time": "2023-04-21T18:52:22.035Z"
   },
   {
    "duration": 5,
    "start_time": "2023-04-21T18:52:22.088Z"
   },
   {
    "duration": 48,
    "start_time": "2023-04-21T18:52:22.095Z"
   },
   {
    "duration": 5,
    "start_time": "2023-04-21T18:52:22.145Z"
   },
   {
    "duration": 47,
    "start_time": "2023-04-21T18:52:22.151Z"
   },
   {
    "duration": 13,
    "start_time": "2023-04-21T18:52:22.200Z"
   },
   {
    "duration": 26,
    "start_time": "2023-04-21T18:52:22.215Z"
   },
   {
    "duration": 36,
    "start_time": "2023-04-21T18:52:22.243Z"
   },
   {
    "duration": 28,
    "start_time": "2023-04-21T18:52:22.281Z"
   },
   {
    "duration": 26,
    "start_time": "2023-04-21T18:52:22.311Z"
   },
   {
    "duration": 204,
    "start_time": "2023-04-21T18:52:22.339Z"
   },
   {
    "duration": 185,
    "start_time": "2023-04-21T18:52:22.544Z"
   },
   {
    "duration": 20,
    "start_time": "2023-04-21T18:52:22.731Z"
   },
   {
    "duration": 31,
    "start_time": "2023-04-21T18:52:22.753Z"
   },
   {
    "duration": 26,
    "start_time": "2023-04-21T18:52:22.786Z"
   },
   {
    "duration": 18,
    "start_time": "2023-04-21T18:52:22.814Z"
   },
   {
    "duration": 186,
    "start_time": "2023-04-21T18:52:22.834Z"
   },
   {
    "duration": 30,
    "start_time": "2023-04-21T18:52:23.022Z"
   },
   {
    "duration": 30,
    "start_time": "2023-04-21T18:52:23.054Z"
   },
   {
    "duration": 253,
    "start_time": "2023-04-21T18:52:23.089Z"
   },
   {
    "duration": 19,
    "start_time": "2023-04-21T18:52:23.344Z"
   },
   {
    "duration": 23,
    "start_time": "2023-04-21T18:52:23.365Z"
   },
   {
    "duration": 129,
    "start_time": "2023-04-21T18:52:23.391Z"
   },
   {
    "duration": 97,
    "start_time": "2023-04-21T18:52:23.522Z"
   },
   {
    "duration": 12,
    "start_time": "2023-04-21T18:52:23.622Z"
   },
   {
    "duration": 291,
    "start_time": "2023-04-21T18:52:23.636Z"
   },
   {
    "duration": 10,
    "start_time": "2023-04-21T18:52:23.930Z"
   },
   {
    "duration": 250,
    "start_time": "2023-04-21T18:52:23.942Z"
   },
   {
    "duration": 245,
    "start_time": "2023-04-21T18:52:24.194Z"
   },
   {
    "duration": 21,
    "start_time": "2023-04-21T18:52:24.441Z"
   },
   {
    "duration": 45,
    "start_time": "2023-04-21T18:52:24.464Z"
   },
   {
    "duration": 30,
    "start_time": "2023-04-21T18:52:24.511Z"
   },
   {
    "duration": 40,
    "start_time": "2023-04-21T18:52:24.543Z"
   },
   {
    "duration": 38,
    "start_time": "2023-04-21T18:52:24.584Z"
   },
   {
    "duration": 16,
    "start_time": "2023-04-21T18:52:30.137Z"
   },
   {
    "duration": 17,
    "start_time": "2023-04-21T18:52:55.115Z"
   },
   {
    "duration": 11,
    "start_time": "2023-04-21T18:53:06.469Z"
   },
   {
    "duration": 17,
    "start_time": "2023-04-21T18:53:10.028Z"
   },
   {
    "duration": 771,
    "start_time": "2023-04-21T18:53:15.967Z"
   },
   {
    "duration": 17,
    "start_time": "2023-04-21T18:53:16.740Z"
   },
   {
    "duration": 57,
    "start_time": "2023-04-21T18:53:16.758Z"
   },
   {
    "duration": 22,
    "start_time": "2023-04-21T18:53:16.818Z"
   },
   {
    "duration": 30,
    "start_time": "2023-04-21T18:53:16.842Z"
   },
   {
    "duration": 49,
    "start_time": "2023-04-21T18:53:16.874Z"
   },
   {
    "duration": 16,
    "start_time": "2023-04-21T18:53:16.924Z"
   },
   {
    "duration": 7,
    "start_time": "2023-04-21T18:53:16.941Z"
   },
   {
    "duration": 48,
    "start_time": "2023-04-21T18:53:16.950Z"
   },
   {
    "duration": 7,
    "start_time": "2023-04-21T18:53:17.002Z"
   },
   {
    "duration": 29,
    "start_time": "2023-04-21T18:53:17.011Z"
   },
   {
    "duration": 8,
    "start_time": "2023-04-21T18:53:17.042Z"
   },
   {
    "duration": 20,
    "start_time": "2023-04-21T18:53:17.052Z"
   },
   {
    "duration": 20,
    "start_time": "2023-04-21T18:53:17.074Z"
   },
   {
    "duration": 28,
    "start_time": "2023-04-21T18:53:17.097Z"
   },
   {
    "duration": 39,
    "start_time": "2023-04-21T18:53:17.127Z"
   },
   {
    "duration": 43,
    "start_time": "2023-04-21T18:53:17.168Z"
   },
   {
    "duration": 26,
    "start_time": "2023-04-21T18:53:17.213Z"
   },
   {
    "duration": 207,
    "start_time": "2023-04-21T18:53:17.240Z"
   },
   {
    "duration": 204,
    "start_time": "2023-04-21T18:53:17.449Z"
   },
   {
    "duration": 34,
    "start_time": "2023-04-21T18:53:17.655Z"
   },
   {
    "duration": 9,
    "start_time": "2023-04-21T18:53:17.691Z"
   },
   {
    "duration": 16,
    "start_time": "2023-04-21T18:53:17.702Z"
   },
   {
    "duration": 10,
    "start_time": "2023-04-21T18:53:17.720Z"
   },
   {
    "duration": 200,
    "start_time": "2023-04-21T18:53:17.731Z"
   },
   {
    "duration": 32,
    "start_time": "2023-04-21T18:53:17.933Z"
   },
   {
    "duration": 29,
    "start_time": "2023-04-21T18:53:17.967Z"
   },
   {
    "duration": 252,
    "start_time": "2023-04-21T18:53:17.999Z"
   },
   {
    "duration": 19,
    "start_time": "2023-04-21T18:53:18.252Z"
   },
   {
    "duration": 18,
    "start_time": "2023-04-21T18:53:18.273Z"
   },
   {
    "duration": 140,
    "start_time": "2023-04-21T18:53:18.292Z"
   },
   {
    "duration": 98,
    "start_time": "2023-04-21T18:53:18.433Z"
   },
   {
    "duration": 11,
    "start_time": "2023-04-21T18:53:18.533Z"
   },
   {
    "duration": 306,
    "start_time": "2023-04-21T18:53:18.547Z"
   },
   {
    "duration": 11,
    "start_time": "2023-04-21T18:53:18.855Z"
   },
   {
    "duration": 248,
    "start_time": "2023-04-21T18:53:18.868Z"
   },
   {
    "duration": 246,
    "start_time": "2023-04-21T18:53:19.118Z"
   },
   {
    "duration": 28,
    "start_time": "2023-04-21T18:53:19.366Z"
   },
   {
    "duration": 17,
    "start_time": "2023-04-21T18:53:19.396Z"
   },
   {
    "duration": 25,
    "start_time": "2023-04-21T18:53:19.415Z"
   },
   {
    "duration": 30,
    "start_time": "2023-04-21T18:53:19.441Z"
   },
   {
    "duration": 49,
    "start_time": "2023-04-21T18:53:19.472Z"
   },
   {
    "duration": 17,
    "start_time": "2023-04-21T18:53:40.877Z"
   },
   {
    "duration": 15,
    "start_time": "2023-04-21T18:54:00.086Z"
   },
   {
    "duration": 16,
    "start_time": "2023-04-21T18:54:02.984Z"
   },
   {
    "duration": 88,
    "start_time": "2023-04-21T18:54:15.519Z"
   },
   {
    "duration": 15,
    "start_time": "2023-04-21T18:54:21.158Z"
   },
   {
    "duration": 17,
    "start_time": "2023-04-21T18:54:35.362Z"
   },
   {
    "duration": 15,
    "start_time": "2023-04-21T18:54:49.824Z"
   },
   {
    "duration": 17,
    "start_time": "2023-04-21T18:54:53.455Z"
   },
   {
    "duration": 17,
    "start_time": "2023-04-21T18:54:57.045Z"
   },
   {
    "duration": 768,
    "start_time": "2023-04-21T18:55:07.791Z"
   },
   {
    "duration": 15,
    "start_time": "2023-04-21T18:55:08.561Z"
   },
   {
    "duration": 32,
    "start_time": "2023-04-21T18:55:08.577Z"
   },
   {
    "duration": 23,
    "start_time": "2023-04-21T18:55:08.611Z"
   },
   {
    "duration": 32,
    "start_time": "2023-04-21T18:55:08.636Z"
   },
   {
    "duration": 32,
    "start_time": "2023-04-21T18:55:08.670Z"
   },
   {
    "duration": 14,
    "start_time": "2023-04-21T18:55:08.704Z"
   },
   {
    "duration": 7,
    "start_time": "2023-04-21T18:55:08.720Z"
   },
   {
    "duration": 42,
    "start_time": "2023-04-21T18:55:08.729Z"
   },
   {
    "duration": 17,
    "start_time": "2023-04-21T18:55:08.774Z"
   },
   {
    "duration": 21,
    "start_time": "2023-04-21T18:55:08.793Z"
   },
   {
    "duration": 7,
    "start_time": "2023-04-21T18:55:08.816Z"
   },
   {
    "duration": 8,
    "start_time": "2023-04-21T18:55:08.825Z"
   },
   {
    "duration": 9,
    "start_time": "2023-04-21T18:55:08.835Z"
   },
   {
    "duration": 41,
    "start_time": "2023-04-21T18:55:08.846Z"
   },
   {
    "duration": 39,
    "start_time": "2023-04-21T18:55:08.889Z"
   },
   {
    "duration": 27,
    "start_time": "2023-04-21T18:55:08.930Z"
   },
   {
    "duration": 49,
    "start_time": "2023-04-21T18:55:08.959Z"
   },
   {
    "duration": 200,
    "start_time": "2023-04-21T18:55:09.010Z"
   },
   {
    "duration": 205,
    "start_time": "2023-04-21T18:55:09.212Z"
   },
   {
    "duration": 23,
    "start_time": "2023-04-21T18:55:09.419Z"
   },
   {
    "duration": 10,
    "start_time": "2023-04-21T18:55:09.444Z"
   },
   {
    "duration": 46,
    "start_time": "2023-04-21T18:55:09.456Z"
   },
   {
    "duration": 7,
    "start_time": "2023-04-21T18:55:09.504Z"
   },
   {
    "duration": 190,
    "start_time": "2023-04-21T18:55:09.512Z"
   },
   {
    "duration": 30,
    "start_time": "2023-04-21T18:55:09.704Z"
   },
   {
    "duration": 7,
    "start_time": "2023-04-21T18:55:09.736Z"
   },
   {
    "duration": 264,
    "start_time": "2023-04-21T18:55:09.746Z"
   },
   {
    "duration": 18,
    "start_time": "2023-04-21T18:55:10.012Z"
   },
   {
    "duration": 7,
    "start_time": "2023-04-21T18:55:10.032Z"
   },
   {
    "duration": 140,
    "start_time": "2023-04-21T18:55:10.041Z"
   },
   {
    "duration": 100,
    "start_time": "2023-04-21T18:55:10.188Z"
   },
   {
    "duration": 12,
    "start_time": "2023-04-21T18:55:10.290Z"
   },
   {
    "duration": 481,
    "start_time": "2023-04-21T18:55:10.303Z"
   },
   {
    "duration": 12,
    "start_time": "2023-04-21T18:55:10.787Z"
   },
   {
    "duration": 240,
    "start_time": "2023-04-21T18:55:10.801Z"
   },
   {
    "duration": 277,
    "start_time": "2023-04-21T18:55:11.043Z"
   },
   {
    "duration": 22,
    "start_time": "2023-04-21T18:55:11.322Z"
   },
   {
    "duration": 19,
    "start_time": "2023-04-21T18:55:11.346Z"
   },
   {
    "duration": 28,
    "start_time": "2023-04-21T18:55:11.367Z"
   },
   {
    "duration": 43,
    "start_time": "2023-04-21T18:55:11.397Z"
   },
   {
    "duration": 31,
    "start_time": "2023-04-21T18:55:11.442Z"
   },
   {
    "duration": 11,
    "start_time": "2023-04-21T18:56:23.389Z"
   },
   {
    "duration": 20,
    "start_time": "2023-04-21T18:56:27.572Z"
   },
   {
    "duration": 17,
    "start_time": "2023-04-21T18:56:32.593Z"
   },
   {
    "duration": 15,
    "start_time": "2023-04-21T18:56:33.687Z"
   },
   {
    "duration": 96,
    "start_time": "2023-04-21T18:57:19.658Z"
   },
   {
    "duration": 16,
    "start_time": "2023-04-21T18:57:27.334Z"
   },
   {
    "duration": 21,
    "start_time": "2023-04-21T18:57:34.048Z"
   },
   {
    "duration": 21,
    "start_time": "2023-04-21T18:57:43.630Z"
   },
   {
    "duration": 21,
    "start_time": "2023-04-21T18:57:58.986Z"
   },
   {
    "duration": 22,
    "start_time": "2023-04-21T18:58:03.886Z"
   },
   {
    "duration": 20,
    "start_time": "2023-04-21T18:58:06.872Z"
   },
   {
    "duration": 20,
    "start_time": "2023-04-21T18:58:47.075Z"
   },
   {
    "duration": 19,
    "start_time": "2023-04-21T19:01:51.152Z"
   },
   {
    "duration": 4,
    "start_time": "2023-04-21T19:03:44.544Z"
   },
   {
    "duration": 7,
    "start_time": "2023-04-21T19:03:50.451Z"
   },
   {
    "duration": 9,
    "start_time": "2023-04-21T19:04:07.570Z"
   },
   {
    "duration": 16,
    "start_time": "2023-04-21T19:04:29.827Z"
   },
   {
    "duration": 20,
    "start_time": "2023-04-21T19:04:36.584Z"
   },
   {
    "duration": 20,
    "start_time": "2023-04-21T19:04:41.839Z"
   },
   {
    "duration": 14,
    "start_time": "2023-04-21T19:10:12.479Z"
   },
   {
    "duration": 21,
    "start_time": "2023-04-21T19:10:40.381Z"
   },
   {
    "duration": 19,
    "start_time": "2023-04-21T19:11:28.533Z"
   },
   {
    "duration": 762,
    "start_time": "2023-04-21T19:11:58.847Z"
   },
   {
    "duration": 16,
    "start_time": "2023-04-21T19:11:59.611Z"
   },
   {
    "duration": 33,
    "start_time": "2023-04-21T19:11:59.629Z"
   },
   {
    "duration": 15,
    "start_time": "2023-04-21T19:11:59.664Z"
   },
   {
    "duration": 34,
    "start_time": "2023-04-21T19:11:59.680Z"
   },
   {
    "duration": 33,
    "start_time": "2023-04-21T19:11:59.716Z"
   },
   {
    "duration": 37,
    "start_time": "2023-04-21T19:11:59.751Z"
   },
   {
    "duration": 9,
    "start_time": "2023-04-21T19:11:59.790Z"
   },
   {
    "duration": 27,
    "start_time": "2023-04-21T19:11:59.801Z"
   },
   {
    "duration": 7,
    "start_time": "2023-04-21T19:11:59.831Z"
   },
   {
    "duration": 36,
    "start_time": "2023-04-21T19:11:59.840Z"
   },
   {
    "duration": 5,
    "start_time": "2023-04-21T19:11:59.887Z"
   },
   {
    "duration": 24,
    "start_time": "2023-04-21T19:11:59.894Z"
   },
   {
    "duration": 19,
    "start_time": "2023-04-21T19:11:59.920Z"
   },
   {
    "duration": 36,
    "start_time": "2023-04-21T19:11:59.941Z"
   },
   {
    "duration": 42,
    "start_time": "2023-04-21T19:11:59.979Z"
   },
   {
    "duration": 28,
    "start_time": "2023-04-21T19:12:00.023Z"
   },
   {
    "duration": 55,
    "start_time": "2023-04-21T19:12:00.053Z"
   },
   {
    "duration": 224,
    "start_time": "2023-04-21T19:12:00.110Z"
   },
   {
    "duration": 238,
    "start_time": "2023-04-21T19:12:00.336Z"
   },
   {
    "duration": 37,
    "start_time": "2023-04-21T19:12:00.576Z"
   },
   {
    "duration": 29,
    "start_time": "2023-04-21T19:12:00.616Z"
   },
   {
    "duration": 46,
    "start_time": "2023-04-21T19:12:00.647Z"
   },
   {
    "duration": 44,
    "start_time": "2023-04-21T19:12:00.696Z"
   },
   {
    "duration": 258,
    "start_time": "2023-04-21T19:12:00.742Z"
   },
   {
    "duration": 32,
    "start_time": "2023-04-21T19:12:01.002Z"
   },
   {
    "duration": 36,
    "start_time": "2023-04-21T19:12:01.036Z"
   },
   {
    "duration": 341,
    "start_time": "2023-04-21T19:12:01.076Z"
   },
   {
    "duration": 26,
    "start_time": "2023-04-21T19:12:01.419Z"
   },
   {
    "duration": 14,
    "start_time": "2023-04-21T19:12:01.447Z"
   },
   {
    "duration": 151,
    "start_time": "2023-04-21T19:12:01.463Z"
   },
   {
    "duration": 102,
    "start_time": "2023-04-21T19:12:01.616Z"
   },
   {
    "duration": 11,
    "start_time": "2023-04-21T19:12:01.719Z"
   },
   {
    "duration": 330,
    "start_time": "2023-04-21T19:12:01.732Z"
   },
   {
    "duration": 11,
    "start_time": "2023-04-21T19:12:02.063Z"
   },
   {
    "duration": 264,
    "start_time": "2023-04-21T19:12:02.088Z"
   },
   {
    "duration": 247,
    "start_time": "2023-04-21T19:12:02.354Z"
   },
   {
    "duration": 22,
    "start_time": "2023-04-21T19:12:02.602Z"
   },
   {
    "duration": 28,
    "start_time": "2023-04-21T19:12:02.626Z"
   },
   {
    "duration": 33,
    "start_time": "2023-04-21T19:12:02.655Z"
   },
   {
    "duration": 30,
    "start_time": "2023-04-21T19:12:02.690Z"
   },
   {
    "duration": 16,
    "start_time": "2023-04-21T19:12:02.722Z"
   },
   {
    "duration": 26,
    "start_time": "2023-04-21T19:12:02.740Z"
   },
   {
    "duration": 20,
    "start_time": "2023-04-21T19:12:02.768Z"
   },
   {
    "duration": 16,
    "start_time": "2023-04-21T19:12:25.971Z"
   },
   {
    "duration": 17,
    "start_time": "2023-04-21T19:12:36.043Z"
   },
   {
    "duration": 16,
    "start_time": "2023-04-21T19:12:37.588Z"
   },
   {
    "duration": 25,
    "start_time": "2023-04-21T19:12:40.640Z"
   },
   {
    "duration": 21,
    "start_time": "2023-04-21T19:13:32.741Z"
   },
   {
    "duration": 16,
    "start_time": "2023-04-21T19:13:42.658Z"
   },
   {
    "duration": 16,
    "start_time": "2023-04-21T19:13:51.733Z"
   },
   {
    "duration": 19,
    "start_time": "2023-04-21T19:14:47.967Z"
   },
   {
    "duration": 20,
    "start_time": "2023-04-21T19:15:34.254Z"
   },
   {
    "duration": 17,
    "start_time": "2023-04-21T19:16:32.992Z"
   },
   {
    "duration": 16,
    "start_time": "2023-04-21T19:16:34.241Z"
   },
   {
    "duration": 17,
    "start_time": "2023-04-21T19:16:34.887Z"
   },
   {
    "duration": 44,
    "start_time": "2023-04-21T21:36:49.778Z"
   },
   {
    "duration": 775,
    "start_time": "2023-04-21T21:36:57.323Z"
   },
   {
    "duration": 12,
    "start_time": "2023-04-21T21:36:58.100Z"
   },
   {
    "duration": 17,
    "start_time": "2023-04-21T21:36:58.113Z"
   },
   {
    "duration": 10,
    "start_time": "2023-04-21T21:36:58.131Z"
   },
   {
    "duration": 19,
    "start_time": "2023-04-21T21:36:58.143Z"
   },
   {
    "duration": 33,
    "start_time": "2023-04-21T21:36:58.163Z"
   },
   {
    "duration": 12,
    "start_time": "2023-04-21T21:36:58.197Z"
   },
   {
    "duration": 6,
    "start_time": "2023-04-21T21:36:58.210Z"
   },
   {
    "duration": 19,
    "start_time": "2023-04-21T21:36:58.218Z"
   },
   {
    "duration": 4,
    "start_time": "2023-04-21T21:36:58.239Z"
   },
   {
    "duration": 41,
    "start_time": "2023-04-21T21:36:58.244Z"
   },
   {
    "duration": 4,
    "start_time": "2023-04-21T21:36:58.287Z"
   },
   {
    "duration": 13,
    "start_time": "2023-04-21T21:36:58.292Z"
   },
   {
    "duration": 7,
    "start_time": "2023-04-21T21:36:58.306Z"
   },
   {
    "duration": 14,
    "start_time": "2023-04-21T21:36:58.315Z"
   },
   {
    "duration": 26,
    "start_time": "2023-04-21T21:36:58.330Z"
   },
   {
    "duration": 19,
    "start_time": "2023-04-21T21:36:58.371Z"
   },
   {
    "duration": 20,
    "start_time": "2023-04-21T21:36:58.391Z"
   },
   {
    "duration": 152,
    "start_time": "2023-04-21T21:36:58.412Z"
   },
   {
    "duration": 149,
    "start_time": "2023-04-21T21:36:58.571Z"
   },
   {
    "duration": 17,
    "start_time": "2023-04-21T21:36:58.722Z"
   },
   {
    "duration": 7,
    "start_time": "2023-04-21T21:36:58.741Z"
   },
   {
    "duration": 33,
    "start_time": "2023-04-21T21:36:58.750Z"
   },
   {
    "duration": 6,
    "start_time": "2023-04-21T21:36:58.784Z"
   },
   {
    "duration": 142,
    "start_time": "2023-04-21T21:36:58.791Z"
   },
   {
    "duration": 22,
    "start_time": "2023-04-21T21:36:58.935Z"
   },
   {
    "duration": 14,
    "start_time": "2023-04-21T21:36:58.959Z"
   },
   {
    "duration": 198,
    "start_time": "2023-04-21T21:36:58.975Z"
   },
   {
    "duration": 14,
    "start_time": "2023-04-21T21:36:59.174Z"
   },
   {
    "duration": 5,
    "start_time": "2023-04-21T21:36:59.190Z"
   },
   {
    "duration": 111,
    "start_time": "2023-04-21T21:36:59.196Z"
   },
   {
    "duration": 77,
    "start_time": "2023-04-21T21:36:59.308Z"
   },
   {
    "duration": 8,
    "start_time": "2023-04-21T21:36:59.386Z"
   },
   {
    "duration": 237,
    "start_time": "2023-04-21T21:36:59.395Z"
   },
   {
    "duration": 7,
    "start_time": "2023-04-21T21:36:59.634Z"
   },
   {
    "duration": 182,
    "start_time": "2023-04-21T21:36:59.642Z"
   },
   {
    "duration": 179,
    "start_time": "2023-04-21T21:36:59.826Z"
   },
   {
    "duration": 18,
    "start_time": "2023-04-21T21:37:00.007Z"
   },
   {
    "duration": 26,
    "start_time": "2023-04-21T21:37:00.026Z"
   },
   {
    "duration": 14,
    "start_time": "2023-04-21T21:37:00.053Z"
   },
   {
    "duration": 11,
    "start_time": "2023-04-21T21:37:00.072Z"
   },
   {
    "duration": 32,
    "start_time": "2023-04-21T21:37:00.085Z"
   },
   {
    "duration": 12,
    "start_time": "2023-04-21T21:37:00.118Z"
   },
   {
    "duration": 11,
    "start_time": "2023-04-21T21:37:00.132Z"
   },
   {
    "duration": 89,
    "start_time": "2023-04-21T21:37:00.145Z"
   },
   {
    "duration": 9,
    "start_time": "2023-04-21T21:37:11.327Z"
   },
   {
    "duration": 14,
    "start_time": "2023-04-21T21:37:18.191Z"
   },
   {
    "duration": 13,
    "start_time": "2023-04-21T21:37:35.577Z"
   },
   {
    "duration": 13,
    "start_time": "2023-04-21T21:39:02.071Z"
   },
   {
    "duration": 15,
    "start_time": "2023-04-21T21:39:23.328Z"
   },
   {
    "duration": 160,
    "start_time": "2023-04-21T21:39:48.799Z"
   },
   {
    "duration": 188,
    "start_time": "2023-04-21T21:40:19.058Z"
   },
   {
    "duration": 14,
    "start_time": "2023-04-21T21:41:21.492Z"
   },
   {
    "duration": 12,
    "start_time": "2023-04-21T21:41:44.333Z"
   },
   {
    "duration": 12,
    "start_time": "2023-04-21T21:41:53.320Z"
   },
   {
    "duration": 13,
    "start_time": "2023-04-21T21:42:14.872Z"
   },
   {
    "duration": 13,
    "start_time": "2023-04-21T21:42:21.288Z"
   },
   {
    "duration": 11,
    "start_time": "2023-04-21T21:42:25.501Z"
   },
   {
    "duration": 138,
    "start_time": "2023-04-21T21:44:59.348Z"
   },
   {
    "duration": 2,
    "start_time": "2023-04-21T22:00:02.373Z"
   },
   {
    "duration": 9,
    "start_time": "2023-04-21T22:01:51.362Z"
   },
   {
    "duration": 7,
    "start_time": "2023-04-21T22:04:24.378Z"
   },
   {
    "duration": 705,
    "start_time": "2023-04-21T22:05:19.854Z"
   },
   {
    "duration": 0,
    "start_time": "2023-04-21T22:05:20.562Z"
   },
   {
    "duration": 0,
    "start_time": "2023-04-21T22:05:20.563Z"
   },
   {
    "duration": 0,
    "start_time": "2023-04-21T22:05:20.564Z"
   },
   {
    "duration": 0,
    "start_time": "2023-04-21T22:05:20.565Z"
   },
   {
    "duration": 0,
    "start_time": "2023-04-21T22:05:20.572Z"
   },
   {
    "duration": 0,
    "start_time": "2023-04-21T22:05:20.573Z"
   },
   {
    "duration": 0,
    "start_time": "2023-04-21T22:05:20.574Z"
   },
   {
    "duration": 0,
    "start_time": "2023-04-21T22:05:20.575Z"
   },
   {
    "duration": 0,
    "start_time": "2023-04-21T22:05:20.575Z"
   },
   {
    "duration": 0,
    "start_time": "2023-04-21T22:05:20.576Z"
   },
   {
    "duration": 0,
    "start_time": "2023-04-21T22:05:20.577Z"
   },
   {
    "duration": 0,
    "start_time": "2023-04-21T22:05:20.578Z"
   },
   {
    "duration": 0,
    "start_time": "2023-04-21T22:05:20.579Z"
   },
   {
    "duration": 0,
    "start_time": "2023-04-21T22:05:20.579Z"
   },
   {
    "duration": 0,
    "start_time": "2023-04-21T22:05:20.580Z"
   },
   {
    "duration": 0,
    "start_time": "2023-04-21T22:05:20.581Z"
   },
   {
    "duration": 0,
    "start_time": "2023-04-21T22:05:20.582Z"
   },
   {
    "duration": 0,
    "start_time": "2023-04-21T22:05:20.582Z"
   },
   {
    "duration": 0,
    "start_time": "2023-04-21T22:05:20.583Z"
   },
   {
    "duration": 0,
    "start_time": "2023-04-21T22:05:20.584Z"
   },
   {
    "duration": 0,
    "start_time": "2023-04-21T22:05:20.584Z"
   },
   {
    "duration": 0,
    "start_time": "2023-04-21T22:05:20.585Z"
   },
   {
    "duration": 0,
    "start_time": "2023-04-21T22:05:20.586Z"
   },
   {
    "duration": 0,
    "start_time": "2023-04-21T22:05:20.588Z"
   },
   {
    "duration": 0,
    "start_time": "2023-04-21T22:05:20.589Z"
   },
   {
    "duration": 0,
    "start_time": "2023-04-21T22:05:20.590Z"
   },
   {
    "duration": 0,
    "start_time": "2023-04-21T22:05:20.592Z"
   },
   {
    "duration": 0,
    "start_time": "2023-04-21T22:05:20.593Z"
   },
   {
    "duration": 0,
    "start_time": "2023-04-21T22:05:20.594Z"
   },
   {
    "duration": 0,
    "start_time": "2023-04-21T22:05:20.595Z"
   },
   {
    "duration": 0,
    "start_time": "2023-04-21T22:05:20.597Z"
   },
   {
    "duration": 0,
    "start_time": "2023-04-21T22:05:20.599Z"
   },
   {
    "duration": 0,
    "start_time": "2023-04-21T22:05:20.600Z"
   },
   {
    "duration": 0,
    "start_time": "2023-04-21T22:05:20.601Z"
   },
   {
    "duration": 0,
    "start_time": "2023-04-21T22:05:20.602Z"
   },
   {
    "duration": 0,
    "start_time": "2023-04-21T22:05:20.603Z"
   },
   {
    "duration": 0,
    "start_time": "2023-04-21T22:05:20.604Z"
   },
   {
    "duration": 0,
    "start_time": "2023-04-21T22:05:20.605Z"
   },
   {
    "duration": 0,
    "start_time": "2023-04-21T22:05:20.606Z"
   },
   {
    "duration": 0,
    "start_time": "2023-04-21T22:05:20.607Z"
   },
   {
    "duration": 0,
    "start_time": "2023-04-21T22:05:20.608Z"
   },
   {
    "duration": 0,
    "start_time": "2023-04-21T22:05:20.609Z"
   },
   {
    "duration": 0,
    "start_time": "2023-04-21T22:05:20.610Z"
   },
   {
    "duration": 0,
    "start_time": "2023-04-21T22:05:20.611Z"
   },
   {
    "duration": 0,
    "start_time": "2023-04-21T22:05:20.612Z"
   },
   {
    "duration": 9,
    "start_time": "2023-04-21T22:05:29.499Z"
   },
   {
    "duration": 1114,
    "start_time": "2023-04-21T22:05:49.053Z"
   },
   {
    "duration": 12,
    "start_time": "2023-04-21T22:05:50.168Z"
   },
   {
    "duration": 14,
    "start_time": "2023-04-21T22:05:50.182Z"
   },
   {
    "duration": 10,
    "start_time": "2023-04-21T22:05:50.198Z"
   },
   {
    "duration": 31,
    "start_time": "2023-04-21T22:05:50.209Z"
   },
   {
    "duration": 38,
    "start_time": "2023-04-21T22:05:50.241Z"
   },
   {
    "duration": 13,
    "start_time": "2023-04-21T22:05:50.280Z"
   },
   {
    "duration": 11,
    "start_time": "2023-04-21T22:05:50.294Z"
   },
   {
    "duration": 22,
    "start_time": "2023-04-21T22:05:50.307Z"
   },
   {
    "duration": 4,
    "start_time": "2023-04-21T22:05:50.331Z"
   },
   {
    "duration": 18,
    "start_time": "2023-04-21T22:05:50.336Z"
   },
   {
    "duration": 17,
    "start_time": "2023-04-21T22:05:50.355Z"
   },
   {
    "duration": 4,
    "start_time": "2023-04-21T22:05:50.373Z"
   },
   {
    "duration": 10,
    "start_time": "2023-04-21T22:05:50.378Z"
   },
   {
    "duration": 19,
    "start_time": "2023-04-21T22:05:50.389Z"
   },
   {
    "duration": 31,
    "start_time": "2023-04-21T22:05:50.410Z"
   },
   {
    "duration": 35,
    "start_time": "2023-04-21T22:05:50.442Z"
   },
   {
    "duration": 20,
    "start_time": "2023-04-21T22:05:50.479Z"
   },
   {
    "duration": 156,
    "start_time": "2023-04-21T22:05:50.501Z"
   },
   {
    "duration": 153,
    "start_time": "2023-04-21T22:05:50.658Z"
   },
   {
    "duration": 17,
    "start_time": "2023-04-21T22:05:50.813Z"
   },
   {
    "duration": 6,
    "start_time": "2023-04-21T22:05:50.831Z"
   },
   {
    "duration": 12,
    "start_time": "2023-04-21T22:05:50.839Z"
   },
   {
    "duration": 4,
    "start_time": "2023-04-21T22:05:50.871Z"
   },
   {
    "duration": 144,
    "start_time": "2023-04-21T22:05:50.877Z"
   },
   {
    "duration": 24,
    "start_time": "2023-04-21T22:05:51.022Z"
   },
   {
    "duration": 32,
    "start_time": "2023-04-21T22:05:51.048Z"
   },
   {
    "duration": 204,
    "start_time": "2023-04-21T22:05:51.083Z"
   },
   {
    "duration": 14,
    "start_time": "2023-04-21T22:05:51.289Z"
   },
   {
    "duration": 12,
    "start_time": "2023-04-21T22:05:51.304Z"
   },
   {
    "duration": 62,
    "start_time": "2023-04-21T22:05:51.318Z"
   },
   {
    "duration": 67,
    "start_time": "2023-04-21T22:05:51.381Z"
   },
   {
    "duration": 16,
    "start_time": "2023-04-21T22:05:51.450Z"
   },
   {
    "duration": 249,
    "start_time": "2023-04-21T22:05:51.472Z"
   },
   {
    "duration": 8,
    "start_time": "2023-04-21T22:05:51.722Z"
   },
   {
    "duration": 193,
    "start_time": "2023-04-21T22:05:51.732Z"
   },
   {
    "duration": 185,
    "start_time": "2023-04-21T22:05:51.926Z"
   },
   {
    "duration": 19,
    "start_time": "2023-04-21T22:05:52.113Z"
   },
   {
    "duration": 40,
    "start_time": "2023-04-21T22:05:52.134Z"
   },
   {
    "duration": 33,
    "start_time": "2023-04-21T22:05:52.176Z"
   },
   {
    "duration": 11,
    "start_time": "2023-04-21T22:05:52.211Z"
   },
   {
    "duration": 22,
    "start_time": "2023-04-21T22:05:52.224Z"
   },
   {
    "duration": 43,
    "start_time": "2023-04-21T22:05:52.248Z"
   },
   {
    "duration": 47,
    "start_time": "2023-04-21T22:05:52.293Z"
   },
   {
    "duration": 170,
    "start_time": "2023-04-21T22:05:52.342Z"
   },
   {
    "duration": 8,
    "start_time": "2023-04-21T22:05:52.514Z"
   },
   {
    "duration": 9,
    "start_time": "2023-04-21T22:08:38.471Z"
   },
   {
    "duration": 8,
    "start_time": "2023-04-21T22:14:22.342Z"
   },
   {
    "duration": 17,
    "start_time": "2023-04-21T22:27:30.827Z"
   },
   {
    "duration": 6,
    "start_time": "2023-04-21T22:27:36.168Z"
   },
   {
    "duration": 109,
    "start_time": "2023-04-21T22:27:39.319Z"
   },
   {
    "duration": 1086,
    "start_time": "2023-04-21T22:27:55.959Z"
   },
   {
    "duration": 11,
    "start_time": "2023-04-21T22:27:57.048Z"
   },
   {
    "duration": 14,
    "start_time": "2023-04-21T22:27:57.061Z"
   },
   {
    "duration": 11,
    "start_time": "2023-04-21T22:27:57.077Z"
   },
   {
    "duration": 21,
    "start_time": "2023-04-21T22:27:57.090Z"
   },
   {
    "duration": 62,
    "start_time": "2023-04-21T22:27:57.113Z"
   },
   {
    "duration": 13,
    "start_time": "2023-04-21T22:27:57.176Z"
   },
   {
    "duration": 6,
    "start_time": "2023-04-21T22:27:57.190Z"
   },
   {
    "duration": 19,
    "start_time": "2023-04-21T22:27:57.198Z"
   },
   {
    "duration": 4,
    "start_time": "2023-04-21T22:27:57.219Z"
   },
   {
    "duration": 20,
    "start_time": "2023-04-21T22:27:57.224Z"
   },
   {
    "duration": 27,
    "start_time": "2023-04-21T22:27:57.246Z"
   },
   {
    "duration": 7,
    "start_time": "2023-04-21T22:27:57.275Z"
   },
   {
    "duration": 25,
    "start_time": "2023-04-21T22:27:57.283Z"
   },
   {
    "duration": 26,
    "start_time": "2023-04-21T22:27:57.310Z"
   },
   {
    "duration": 33,
    "start_time": "2023-04-21T22:27:57.337Z"
   },
   {
    "duration": 22,
    "start_time": "2023-04-21T22:27:57.372Z"
   },
   {
    "duration": 27,
    "start_time": "2023-04-21T22:27:57.396Z"
   },
   {
    "duration": 163,
    "start_time": "2023-04-21T22:27:57.424Z"
   },
   {
    "duration": 147,
    "start_time": "2023-04-21T22:27:57.589Z"
   },
   {
    "duration": 17,
    "start_time": "2023-04-21T22:27:57.738Z"
   },
   {
    "duration": 21,
    "start_time": "2023-04-21T22:27:57.756Z"
   },
   {
    "duration": 12,
    "start_time": "2023-04-21T22:27:57.778Z"
   },
   {
    "duration": 5,
    "start_time": "2023-04-21T22:27:57.791Z"
   },
   {
    "duration": 152,
    "start_time": "2023-04-21T22:27:57.797Z"
   },
   {
    "duration": 32,
    "start_time": "2023-04-21T22:27:57.950Z"
   },
   {
    "duration": 5,
    "start_time": "2023-04-21T22:27:57.983Z"
   },
   {
    "duration": 213,
    "start_time": "2023-04-21T22:27:57.991Z"
   },
   {
    "duration": 13,
    "start_time": "2023-04-21T22:27:58.206Z"
   },
   {
    "duration": 5,
    "start_time": "2023-04-21T22:27:58.221Z"
   },
   {
    "duration": 63,
    "start_time": "2023-04-21T22:27:58.227Z"
   },
   {
    "duration": 56,
    "start_time": "2023-04-21T22:27:58.291Z"
   },
   {
    "duration": 8,
    "start_time": "2023-04-21T22:27:58.348Z"
   },
   {
    "duration": 256,
    "start_time": "2023-04-21T22:27:58.357Z"
   },
   {
    "duration": 7,
    "start_time": "2023-04-21T22:27:58.614Z"
   },
   {
    "duration": 186,
    "start_time": "2023-04-21T22:27:58.622Z"
   },
   {
    "duration": 177,
    "start_time": "2023-04-21T22:27:58.809Z"
   },
   {
    "duration": 16,
    "start_time": "2023-04-21T22:27:58.988Z"
   },
   {
    "duration": 10,
    "start_time": "2023-04-21T22:27:59.006Z"
   },
   {
    "duration": 14,
    "start_time": "2023-04-21T22:27:59.018Z"
   },
   {
    "duration": 17,
    "start_time": "2023-04-21T22:27:59.033Z"
   },
   {
    "duration": 35,
    "start_time": "2023-04-21T22:27:59.051Z"
   },
   {
    "duration": 14,
    "start_time": "2023-04-21T22:27:59.088Z"
   },
   {
    "duration": 14,
    "start_time": "2023-04-21T22:27:59.103Z"
   },
   {
    "duration": 159,
    "start_time": "2023-04-21T22:27:59.118Z"
   },
   {
    "duration": 7,
    "start_time": "2023-04-21T22:27:59.278Z"
   },
   {
    "duration": 11,
    "start_time": "2023-04-21T22:27:59.287Z"
   },
   {
    "duration": 121,
    "start_time": "2023-04-21T22:30:14.569Z"
   },
   {
    "duration": 1098,
    "start_time": "2023-04-21T22:30:30.071Z"
   },
   {
    "duration": 13,
    "start_time": "2023-04-21T22:30:31.171Z"
   },
   {
    "duration": 111,
    "start_time": "2023-04-21T22:30:31.185Z"
   },
   {
    "duration": 174,
    "start_time": "2023-04-21T22:30:31.298Z"
   },
   {
    "duration": 199,
    "start_time": "2023-04-21T22:30:31.474Z"
   },
   {
    "duration": 93,
    "start_time": "2023-04-21T22:30:31.675Z"
   },
   {
    "duration": 19,
    "start_time": "2023-04-21T22:30:31.770Z"
   },
   {
    "duration": 75,
    "start_time": "2023-04-21T22:30:31.792Z"
   },
   {
    "duration": 99,
    "start_time": "2023-04-21T22:30:31.869Z"
   },
   {
    "duration": 21,
    "start_time": "2023-04-21T22:30:31.970Z"
   },
   {
    "duration": 57,
    "start_time": "2023-04-21T22:30:31.993Z"
   },
   {
    "duration": 47,
    "start_time": "2023-04-21T22:30:32.052Z"
   },
   {
    "duration": 47,
    "start_time": "2023-04-21T22:30:32.101Z"
   },
   {
    "duration": 34,
    "start_time": "2023-04-21T22:30:32.149Z"
   },
   {
    "duration": 39,
    "start_time": "2023-04-21T22:30:32.185Z"
   },
   {
    "duration": 37,
    "start_time": "2023-04-21T22:30:32.226Z"
   },
   {
    "duration": 26,
    "start_time": "2023-04-21T22:30:32.264Z"
   },
   {
    "duration": 22,
    "start_time": "2023-04-21T22:30:32.291Z"
   },
   {
    "duration": 171,
    "start_time": "2023-04-21T22:30:32.314Z"
   },
   {
    "duration": 181,
    "start_time": "2023-04-21T22:30:32.486Z"
   },
   {
    "duration": 18,
    "start_time": "2023-04-21T22:30:32.671Z"
   },
   {
    "duration": 7,
    "start_time": "2023-04-21T22:30:32.690Z"
   },
   {
    "duration": 28,
    "start_time": "2023-04-21T22:30:32.699Z"
   },
   {
    "duration": 6,
    "start_time": "2023-04-21T22:30:32.728Z"
   },
   {
    "duration": 164,
    "start_time": "2023-04-21T22:30:32.735Z"
   },
   {
    "duration": 27,
    "start_time": "2023-04-21T22:30:32.901Z"
   },
   {
    "duration": 33,
    "start_time": "2023-04-21T22:30:32.931Z"
   },
   {
    "duration": 225,
    "start_time": "2023-04-21T22:30:32.967Z"
   },
   {
    "duration": 17,
    "start_time": "2023-04-21T22:30:33.194Z"
   },
   {
    "duration": 7,
    "start_time": "2023-04-21T22:30:33.212Z"
   },
   {
    "duration": 71,
    "start_time": "2023-04-21T22:30:33.221Z"
   },
   {
    "duration": 84,
    "start_time": "2023-04-21T22:30:33.294Z"
   },
   {
    "duration": 9,
    "start_time": "2023-04-21T22:30:33.380Z"
   },
   {
    "duration": 260,
    "start_time": "2023-04-21T22:30:33.391Z"
   },
   {
    "duration": 8,
    "start_time": "2023-04-21T22:30:33.653Z"
   },
   {
    "duration": 203,
    "start_time": "2023-04-21T22:30:33.673Z"
   },
   {
    "duration": 232,
    "start_time": "2023-04-21T22:30:33.879Z"
   },
   {
    "duration": 21,
    "start_time": "2023-04-21T22:30:34.113Z"
   },
   {
    "duration": 15,
    "start_time": "2023-04-21T22:30:34.136Z"
   },
   {
    "duration": 35,
    "start_time": "2023-04-21T22:30:34.152Z"
   },
   {
    "duration": 29,
    "start_time": "2023-04-21T22:30:34.188Z"
   },
   {
    "duration": 15,
    "start_time": "2023-04-21T22:30:34.219Z"
   },
   {
    "duration": 31,
    "start_time": "2023-04-21T22:30:34.236Z"
   },
   {
    "duration": 26,
    "start_time": "2023-04-21T22:30:34.268Z"
   },
   {
    "duration": 158,
    "start_time": "2023-04-21T22:30:34.296Z"
   },
   {
    "duration": 8,
    "start_time": "2023-04-21T22:30:34.456Z"
   },
   {
    "duration": 15,
    "start_time": "2023-04-21T22:30:34.466Z"
   },
   {
    "duration": 1059,
    "start_time": "2023-04-21T22:45:42.111Z"
   },
   {
    "duration": 12,
    "start_time": "2023-04-21T22:45:43.172Z"
   },
   {
    "duration": 26,
    "start_time": "2023-04-21T22:45:43.185Z"
   },
   {
    "duration": 31,
    "start_time": "2023-04-21T22:45:43.212Z"
   },
   {
    "duration": 37,
    "start_time": "2023-04-21T22:45:43.244Z"
   },
   {
    "duration": 28,
    "start_time": "2023-04-21T22:45:43.283Z"
   },
   {
    "duration": 17,
    "start_time": "2023-04-21T22:45:43.313Z"
   },
   {
    "duration": 6,
    "start_time": "2023-04-21T22:45:43.331Z"
   },
   {
    "duration": 39,
    "start_time": "2023-04-21T22:45:43.339Z"
   },
   {
    "duration": 4,
    "start_time": "2023-04-21T22:45:43.381Z"
   },
   {
    "duration": 15,
    "start_time": "2023-04-21T22:45:43.387Z"
   },
   {
    "duration": 5,
    "start_time": "2023-04-21T22:45:43.403Z"
   },
   {
    "duration": 5,
    "start_time": "2023-04-21T22:45:43.409Z"
   },
   {
    "duration": 7,
    "start_time": "2023-04-21T22:45:43.415Z"
   },
   {
    "duration": 13,
    "start_time": "2023-04-21T22:45:43.424Z"
   },
   {
    "duration": 54,
    "start_time": "2023-04-21T22:45:43.439Z"
   },
   {
    "duration": 22,
    "start_time": "2023-04-21T22:45:43.494Z"
   },
   {
    "duration": 19,
    "start_time": "2023-04-21T22:45:43.518Z"
   },
   {
    "duration": 162,
    "start_time": "2023-04-21T22:45:43.539Z"
   },
   {
    "duration": 158,
    "start_time": "2023-04-21T22:45:43.702Z"
   },
   {
    "duration": 24,
    "start_time": "2023-04-21T22:45:43.861Z"
   },
   {
    "duration": 8,
    "start_time": "2023-04-21T22:45:43.887Z"
   },
   {
    "duration": 14,
    "start_time": "2023-04-21T22:45:43.897Z"
   },
   {
    "duration": 6,
    "start_time": "2023-04-21T22:45:43.913Z"
   },
   {
    "duration": 163,
    "start_time": "2023-04-21T22:45:43.920Z"
   },
   {
    "duration": 24,
    "start_time": "2023-04-21T22:45:44.085Z"
   },
   {
    "duration": 16,
    "start_time": "2023-04-21T22:45:44.110Z"
   },
   {
    "duration": 216,
    "start_time": "2023-04-21T22:45:44.129Z"
   },
   {
    "duration": 13,
    "start_time": "2023-04-21T22:45:44.346Z"
   },
   {
    "duration": 13,
    "start_time": "2023-04-21T22:45:44.360Z"
   },
   {
    "duration": 48,
    "start_time": "2023-04-21T22:45:44.374Z"
   },
   {
    "duration": 70,
    "start_time": "2023-04-21T22:45:44.424Z"
   },
   {
    "duration": 8,
    "start_time": "2023-04-21T22:45:44.495Z"
   },
   {
    "duration": 237,
    "start_time": "2023-04-21T22:45:44.504Z"
   },
   {
    "duration": 7,
    "start_time": "2023-04-21T22:45:44.742Z"
   },
   {
    "duration": 195,
    "start_time": "2023-04-21T22:45:44.750Z"
   },
   {
    "duration": 185,
    "start_time": "2023-04-21T22:45:44.947Z"
   },
   {
    "duration": 17,
    "start_time": "2023-04-21T22:45:45.133Z"
   },
   {
    "duration": 21,
    "start_time": "2023-04-21T22:45:45.152Z"
   },
   {
    "duration": 11,
    "start_time": "2023-04-21T22:45:45.175Z"
   },
   {
    "duration": 13,
    "start_time": "2023-04-21T22:45:45.188Z"
   },
   {
    "duration": 24,
    "start_time": "2023-04-21T22:45:45.202Z"
   },
   {
    "duration": 19,
    "start_time": "2023-04-21T22:45:45.228Z"
   },
   {
    "duration": 27,
    "start_time": "2023-04-21T22:45:45.248Z"
   },
   {
    "duration": 161,
    "start_time": "2023-04-21T22:45:45.277Z"
   },
   {
    "duration": 8,
    "start_time": "2023-04-21T22:45:45.439Z"
   },
   {
    "duration": 11,
    "start_time": "2023-04-21T22:45:45.449Z"
   },
   {
    "duration": 1395,
    "start_time": "2023-04-22T17:33:07.310Z"
   },
   {
    "duration": 25,
    "start_time": "2023-04-22T17:33:08.708Z"
   },
   {
    "duration": 57,
    "start_time": "2023-04-22T17:33:08.735Z"
   },
   {
    "duration": 62,
    "start_time": "2023-04-22T17:33:08.797Z"
   },
   {
    "duration": 50,
    "start_time": "2023-04-22T17:33:08.863Z"
   },
   {
    "duration": 59,
    "start_time": "2023-04-22T17:33:08.916Z"
   },
   {
    "duration": 35,
    "start_time": "2023-04-22T17:33:08.977Z"
   },
   {
    "duration": 10,
    "start_time": "2023-04-22T17:33:09.016Z"
   },
   {
    "duration": 81,
    "start_time": "2023-04-22T17:33:09.028Z"
   },
   {
    "duration": 12,
    "start_time": "2023-04-22T17:33:09.119Z"
   },
   {
    "duration": 34,
    "start_time": "2023-04-22T17:33:09.135Z"
   },
   {
    "duration": 8,
    "start_time": "2023-04-22T17:33:09.172Z"
   },
   {
    "duration": 13,
    "start_time": "2023-04-22T17:33:09.183Z"
   },
   {
    "duration": 29,
    "start_time": "2023-04-22T17:33:09.202Z"
   },
   {
    "duration": 24,
    "start_time": "2023-04-22T17:33:09.233Z"
   },
   {
    "duration": 51,
    "start_time": "2023-04-22T17:33:09.259Z"
   },
   {
    "duration": 41,
    "start_time": "2023-04-22T17:33:09.313Z"
   },
   {
    "duration": 65,
    "start_time": "2023-04-22T17:33:09.356Z"
   },
   {
    "duration": 259,
    "start_time": "2023-04-22T17:33:09.423Z"
   },
   {
    "duration": 233,
    "start_time": "2023-04-22T17:33:09.684Z"
   },
   {
    "duration": 31,
    "start_time": "2023-04-22T17:33:09.919Z"
   },
   {
    "duration": 13,
    "start_time": "2023-04-22T17:33:09.953Z"
   },
   {
    "duration": 30,
    "start_time": "2023-04-22T17:33:09.990Z"
   },
   {
    "duration": 10,
    "start_time": "2023-04-22T17:33:10.022Z"
   },
   {
    "duration": 221,
    "start_time": "2023-04-22T17:33:10.035Z"
   },
   {
    "duration": 52,
    "start_time": "2023-04-22T17:33:10.259Z"
   },
   {
    "duration": 24,
    "start_time": "2023-04-22T17:33:10.313Z"
   },
   {
    "duration": 390,
    "start_time": "2023-04-22T17:33:10.339Z"
   },
   {
    "duration": 28,
    "start_time": "2023-04-22T17:33:10.732Z"
   },
   {
    "duration": 28,
    "start_time": "2023-04-22T17:33:10.763Z"
   },
   {
    "duration": 108,
    "start_time": "2023-04-22T17:33:10.793Z"
   },
   {
    "duration": 133,
    "start_time": "2023-04-22T17:33:10.903Z"
   },
   {
    "duration": 19,
    "start_time": "2023-04-22T17:33:11.039Z"
   },
   {
    "duration": 373,
    "start_time": "2023-04-22T17:33:11.061Z"
   },
   {
    "duration": 12,
    "start_time": "2023-04-22T17:33:11.436Z"
   },
   {
    "duration": 286,
    "start_time": "2023-04-22T17:33:11.450Z"
   },
   {
    "duration": 287,
    "start_time": "2023-04-22T17:33:11.739Z"
   },
   {
    "duration": 25,
    "start_time": "2023-04-22T17:33:12.029Z"
   },
   {
    "duration": 49,
    "start_time": "2023-04-22T17:33:12.057Z"
   },
   {
    "duration": 24,
    "start_time": "2023-04-22T17:33:12.110Z"
   },
   {
    "duration": 32,
    "start_time": "2023-04-22T17:33:12.140Z"
   },
   {
    "duration": 37,
    "start_time": "2023-04-22T17:33:12.175Z"
   },
   {
    "duration": 28,
    "start_time": "2023-04-22T17:33:12.215Z"
   },
   {
    "duration": 34,
    "start_time": "2023-04-22T17:33:12.245Z"
   },
   {
    "duration": 251,
    "start_time": "2023-04-22T17:33:12.282Z"
   },
   {
    "duration": 12,
    "start_time": "2023-04-22T17:33:12.535Z"
   },
   {
    "duration": 16,
    "start_time": "2023-04-22T17:33:12.550Z"
   },
   {
    "duration": 87,
    "start_time": "2023-04-22T17:58:59.465Z"
   },
   {
    "duration": 38,
    "start_time": "2023-04-22T18:08:53.459Z"
   },
   {
    "duration": 9,
    "start_time": "2023-04-22T18:09:10.562Z"
   },
   {
    "duration": 1372,
    "start_time": "2023-04-22T18:09:45.009Z"
   },
   {
    "duration": 31,
    "start_time": "2023-04-22T18:09:46.383Z"
   },
   {
    "duration": 27,
    "start_time": "2023-04-22T18:09:46.416Z"
   },
   {
    "duration": 23,
    "start_time": "2023-04-22T18:09:46.446Z"
   },
   {
    "duration": 76,
    "start_time": "2023-04-22T18:09:46.472Z"
   },
   {
    "duration": 54,
    "start_time": "2023-04-22T18:09:46.551Z"
   },
   {
    "duration": 25,
    "start_time": "2023-04-22T18:09:46.607Z"
   },
   {
    "duration": 9,
    "start_time": "2023-04-22T18:09:46.634Z"
   },
   {
    "duration": 67,
    "start_time": "2023-04-22T18:09:46.645Z"
   },
   {
    "duration": 7,
    "start_time": "2023-04-22T18:09:46.715Z"
   },
   {
    "duration": 22,
    "start_time": "2023-04-22T18:09:46.726Z"
   },
   {
    "duration": 6,
    "start_time": "2023-04-22T18:09:46.750Z"
   },
   {
    "duration": 35,
    "start_time": "2023-04-22T18:09:46.758Z"
   },
   {
    "duration": 48,
    "start_time": "2023-04-22T18:09:46.795Z"
   },
   {
    "duration": 71,
    "start_time": "2023-04-22T18:09:46.845Z"
   },
   {
    "duration": 62,
    "start_time": "2023-04-22T18:09:46.918Z"
   },
   {
    "duration": 37,
    "start_time": "2023-04-22T18:09:46.985Z"
   },
   {
    "duration": 48,
    "start_time": "2023-04-22T18:09:47.026Z"
   },
   {
    "duration": 305,
    "start_time": "2023-04-22T18:09:47.089Z"
   },
   {
    "duration": 216,
    "start_time": "2023-04-22T18:09:47.405Z"
   },
   {
    "duration": 22,
    "start_time": "2023-04-22T18:09:47.623Z"
   },
   {
    "duration": 17,
    "start_time": "2023-04-22T18:09:47.647Z"
   },
   {
    "duration": 28,
    "start_time": "2023-04-22T18:09:47.690Z"
   },
   {
    "duration": 21,
    "start_time": "2023-04-22T18:09:47.721Z"
   },
   {
    "duration": 233,
    "start_time": "2023-04-22T18:09:47.744Z"
   },
   {
    "duration": 59,
    "start_time": "2023-04-22T18:09:47.979Z"
   },
   {
    "duration": 10,
    "start_time": "2023-04-22T18:09:48.041Z"
   },
   {
    "duration": 362,
    "start_time": "2023-04-22T18:09:48.055Z"
   },
   {
    "duration": 28,
    "start_time": "2023-04-22T18:09:48.420Z"
   },
   {
    "duration": 12,
    "start_time": "2023-04-22T18:09:48.451Z"
   },
   {
    "duration": 92,
    "start_time": "2023-04-22T18:09:48.465Z"
   },
   {
    "duration": 119,
    "start_time": "2023-04-22T18:09:48.559Z"
   },
   {
    "duration": 17,
    "start_time": "2023-04-22T18:09:48.680Z"
   },
   {
    "duration": 417,
    "start_time": "2023-04-22T18:09:48.700Z"
   },
   {
    "duration": 14,
    "start_time": "2023-04-22T18:09:49.124Z"
   },
   {
    "duration": 348,
    "start_time": "2023-04-22T18:09:49.140Z"
   },
   {
    "duration": 269,
    "start_time": "2023-04-22T18:09:49.498Z"
   },
   {
    "duration": 36,
    "start_time": "2023-04-22T18:09:49.769Z"
   },
   {
    "duration": 24,
    "start_time": "2023-04-22T18:09:49.807Z"
   },
   {
    "duration": 28,
    "start_time": "2023-04-22T18:09:49.833Z"
   },
   {
    "duration": 16,
    "start_time": "2023-04-22T18:09:49.863Z"
   },
   {
    "duration": 56,
    "start_time": "2023-04-22T18:09:49.887Z"
   },
   {
    "duration": 18,
    "start_time": "2023-04-22T18:09:49.945Z"
   },
   {
    "duration": 17,
    "start_time": "2023-04-22T18:09:49.965Z"
   },
   {
    "duration": 268,
    "start_time": "2023-04-22T18:09:49.984Z"
   },
   {
    "duration": 10,
    "start_time": "2023-04-22T18:09:50.255Z"
   },
   {
    "duration": 31,
    "start_time": "2023-04-22T18:09:50.267Z"
   },
   {
    "duration": 1562,
    "start_time": "2023-04-22T18:18:04.367Z"
   },
   {
    "duration": 17,
    "start_time": "2023-04-22T18:18:05.932Z"
   },
   {
    "duration": 20,
    "start_time": "2023-04-22T18:18:05.951Z"
   },
   {
    "duration": 40,
    "start_time": "2023-04-22T18:18:05.974Z"
   },
   {
    "duration": 30,
    "start_time": "2023-04-22T18:18:06.018Z"
   },
   {
    "duration": 59,
    "start_time": "2023-04-22T18:18:06.050Z"
   },
   {
    "duration": 17,
    "start_time": "2023-04-22T18:18:06.111Z"
   },
   {
    "duration": 11,
    "start_time": "2023-04-22T18:18:06.130Z"
   },
   {
    "duration": 38,
    "start_time": "2023-04-22T18:18:06.188Z"
   },
   {
    "duration": 6,
    "start_time": "2023-04-22T18:18:06.228Z"
   },
   {
    "duration": 29,
    "start_time": "2023-04-22T18:18:06.293Z"
   },
   {
    "duration": 10,
    "start_time": "2023-04-22T18:18:06.324Z"
   },
   {
    "duration": 64,
    "start_time": "2023-04-22T18:18:06.336Z"
   },
   {
    "duration": 27,
    "start_time": "2023-04-22T18:18:06.407Z"
   },
   {
    "duration": 73,
    "start_time": "2023-04-22T18:18:06.436Z"
   },
   {
    "duration": 97,
    "start_time": "2023-04-22T18:18:06.514Z"
   },
   {
    "duration": 100,
    "start_time": "2023-04-22T18:18:06.615Z"
   },
   {
    "duration": 103,
    "start_time": "2023-04-22T18:18:06.717Z"
   },
   {
    "duration": 587,
    "start_time": "2023-04-22T18:18:06.823Z"
   },
   {
    "duration": 603,
    "start_time": "2023-04-22T18:18:07.413Z"
   },
   {
    "duration": 81,
    "start_time": "2023-04-22T18:18:08.022Z"
   },
   {
    "duration": 15,
    "start_time": "2023-04-22T18:18:08.108Z"
   },
   {
    "duration": 92,
    "start_time": "2023-04-22T18:18:08.125Z"
   },
   {
    "duration": 8,
    "start_time": "2023-04-22T18:18:08.219Z"
   },
   {
    "duration": 605,
    "start_time": "2023-04-22T18:18:08.228Z"
   },
   {
    "duration": 100,
    "start_time": "2023-04-22T18:18:08.836Z"
   },
   {
    "duration": 22,
    "start_time": "2023-04-22T18:18:08.988Z"
   },
   {
    "duration": 336,
    "start_time": "2023-04-22T18:18:09.021Z"
   },
   {
    "duration": 39,
    "start_time": "2023-04-22T18:18:09.359Z"
   },
   {
    "duration": 10,
    "start_time": "2023-04-22T18:18:09.402Z"
   },
   {
    "duration": 116,
    "start_time": "2023-04-22T18:18:09.414Z"
   },
   {
    "duration": 101,
    "start_time": "2023-04-22T18:18:09.532Z"
   },
   {
    "duration": 13,
    "start_time": "2023-04-22T18:18:09.636Z"
   },
   {
    "duration": 357,
    "start_time": "2023-04-22T18:18:09.651Z"
   },
   {
    "duration": 11,
    "start_time": "2023-04-22T18:18:10.009Z"
   },
   {
    "duration": 344,
    "start_time": "2023-04-22T18:18:10.022Z"
   },
   {
    "duration": 321,
    "start_time": "2023-04-22T18:18:10.369Z"
   },
   {
    "duration": 34,
    "start_time": "2023-04-22T18:18:10.692Z"
   },
   {
    "duration": 50,
    "start_time": "2023-04-22T18:18:10.728Z"
   },
   {
    "duration": 214,
    "start_time": "2023-04-22T18:18:10.783Z"
   },
   {
    "duration": 34,
    "start_time": "2023-04-22T18:18:11.003Z"
   },
   {
    "duration": 20,
    "start_time": "2023-04-22T18:18:11.038Z"
   },
   {
    "duration": 40,
    "start_time": "2023-04-22T18:18:11.060Z"
   },
   {
    "duration": 41,
    "start_time": "2023-04-22T18:18:11.103Z"
   },
   {
    "duration": 267,
    "start_time": "2023-04-22T18:18:11.146Z"
   },
   {
    "duration": 14,
    "start_time": "2023-04-22T18:18:11.415Z"
   },
   {
    "duration": 13,
    "start_time": "2023-04-22T18:18:11.432Z"
   },
   {
    "duration": 166,
    "start_time": "2023-04-23T08:45:34.367Z"
   },
   {
    "duration": 1433,
    "start_time": "2023-04-23T08:50:07.710Z"
   },
   {
    "duration": 107,
    "start_time": "2023-04-23T08:50:09.145Z"
   },
   {
    "duration": 19,
    "start_time": "2023-04-23T08:50:09.644Z"
   },
   {
    "duration": 2063,
    "start_time": "2023-04-23T08:50:32.630Z"
   },
   {
    "duration": 1158,
    "start_time": "2023-04-23T08:50:47.737Z"
   },
   {
    "duration": 57,
    "start_time": "2023-04-23T08:50:48.897Z"
   },
   {
    "duration": 19,
    "start_time": "2023-04-23T08:50:48.956Z"
   },
   {
    "duration": 33,
    "start_time": "2023-04-23T08:50:48.978Z"
   },
   {
    "duration": 28,
    "start_time": "2023-04-23T08:50:49.013Z"
   },
   {
    "duration": 33,
    "start_time": "2023-04-23T08:50:49.043Z"
   },
   {
    "duration": 43,
    "start_time": "2023-04-23T08:50:49.078Z"
   },
   {
    "duration": 21,
    "start_time": "2023-04-23T08:50:49.124Z"
   },
   {
    "duration": 23,
    "start_time": "2023-04-23T08:50:49.147Z"
   },
   {
    "duration": 16,
    "start_time": "2023-04-23T08:50:49.174Z"
   },
   {
    "duration": 40,
    "start_time": "2023-04-23T08:50:49.191Z"
   },
   {
    "duration": 7,
    "start_time": "2023-04-23T08:50:49.233Z"
   },
   {
    "duration": 54,
    "start_time": "2023-04-23T08:50:49.242Z"
   },
   {
    "duration": 7,
    "start_time": "2023-04-23T08:50:49.298Z"
   },
   {
    "duration": 13,
    "start_time": "2023-04-23T08:50:49.307Z"
   },
   {
    "duration": 20,
    "start_time": "2023-04-23T08:50:49.321Z"
   },
   {
    "duration": 31,
    "start_time": "2023-04-23T08:50:49.343Z"
   },
   {
    "duration": 45,
    "start_time": "2023-04-23T08:50:49.376Z"
   },
   {
    "duration": 27,
    "start_time": "2023-04-23T08:50:49.423Z"
   },
   {
    "duration": 26,
    "start_time": "2023-04-23T08:50:49.452Z"
   },
   {
    "duration": 215,
    "start_time": "2023-04-23T08:50:49.480Z"
   },
   {
    "duration": 187,
    "start_time": "2023-04-23T08:50:49.697Z"
   },
   {
    "duration": 20,
    "start_time": "2023-04-23T08:50:49.886Z"
   },
   {
    "duration": 9,
    "start_time": "2023-04-23T08:50:49.917Z"
   },
   {
    "duration": 26,
    "start_time": "2023-04-23T08:50:49.927Z"
   },
   {
    "duration": 16,
    "start_time": "2023-04-23T08:50:49.955Z"
   },
   {
    "duration": 189,
    "start_time": "2023-04-23T08:50:49.973Z"
   },
   {
    "duration": 30,
    "start_time": "2023-04-23T08:50:50.165Z"
   },
   {
    "duration": 25,
    "start_time": "2023-04-23T08:50:50.196Z"
   },
   {
    "duration": 259,
    "start_time": "2023-04-23T08:50:50.223Z"
   },
   {
    "duration": 17,
    "start_time": "2023-04-23T08:50:50.483Z"
   },
   {
    "duration": 38,
    "start_time": "2023-04-23T08:50:50.501Z"
   },
   {
    "duration": 117,
    "start_time": "2023-04-23T08:50:50.541Z"
   },
   {
    "duration": 99,
    "start_time": "2023-04-23T08:50:50.660Z"
   },
   {
    "duration": 11,
    "start_time": "2023-04-23T08:50:50.761Z"
   },
   {
    "duration": 293,
    "start_time": "2023-04-23T08:50:50.773Z"
   },
   {
    "duration": 10,
    "start_time": "2023-04-23T08:50:51.069Z"
   },
   {
    "duration": 258,
    "start_time": "2023-04-23T08:50:51.081Z"
   },
   {
    "duration": 233,
    "start_time": "2023-04-23T08:50:51.341Z"
   },
   {
    "duration": 21,
    "start_time": "2023-04-23T08:50:51.575Z"
   },
   {
    "duration": 31,
    "start_time": "2023-04-23T08:50:51.598Z"
   },
   {
    "duration": 47,
    "start_time": "2023-04-23T08:50:51.630Z"
   },
   {
    "duration": 40,
    "start_time": "2023-04-23T08:50:51.678Z"
   },
   {
    "duration": 50,
    "start_time": "2023-04-23T08:50:51.720Z"
   },
   {
    "duration": 53,
    "start_time": "2023-04-23T08:50:51.771Z"
   },
   {
    "duration": 33,
    "start_time": "2023-04-23T08:50:51.825Z"
   },
   {
    "duration": 222,
    "start_time": "2023-04-23T08:50:51.860Z"
   },
   {
    "duration": 10,
    "start_time": "2023-04-23T08:50:52.084Z"
   },
   {
    "duration": 37,
    "start_time": "2023-04-23T08:50:52.096Z"
   },
   {
    "duration": 20,
    "start_time": "2023-04-23T08:52:31.329Z"
   },
   {
    "duration": 105,
    "start_time": "2023-04-23T08:54:19.689Z"
   },
   {
    "duration": 17,
    "start_time": "2023-04-23T08:55:24.370Z"
   },
   {
    "duration": 19,
    "start_time": "2023-04-23T08:55:56.670Z"
   },
   {
    "duration": 1107,
    "start_time": "2023-04-23T08:59:25.274Z"
   },
   {
    "duration": 56,
    "start_time": "2023-04-23T08:59:26.383Z"
   },
   {
    "duration": 20,
    "start_time": "2023-04-23T08:59:26.441Z"
   },
   {
    "duration": 43,
    "start_time": "2023-04-23T08:59:26.463Z"
   },
   {
    "duration": 26,
    "start_time": "2023-04-23T08:59:26.508Z"
   },
   {
    "duration": 21,
    "start_time": "2023-04-23T08:59:26.536Z"
   },
   {
    "duration": 39,
    "start_time": "2023-04-23T08:59:26.559Z"
   },
   {
    "duration": 27,
    "start_time": "2023-04-23T08:59:26.600Z"
   },
   {
    "duration": 40,
    "start_time": "2023-04-23T08:59:26.628Z"
   },
   {
    "duration": 14,
    "start_time": "2023-04-23T08:59:26.671Z"
   },
   {
    "duration": 58,
    "start_time": "2023-04-23T08:59:26.686Z"
   },
   {
    "duration": 24,
    "start_time": "2023-04-23T08:59:26.746Z"
   },
   {
    "duration": 94,
    "start_time": "2023-04-23T08:59:26.772Z"
   },
   {
    "duration": 9,
    "start_time": "2023-04-23T08:59:26.867Z"
   },
   {
    "duration": 17,
    "start_time": "2023-04-23T08:59:26.877Z"
   },
   {
    "duration": 16,
    "start_time": "2023-04-23T08:59:26.896Z"
   },
   {
    "duration": 37,
    "start_time": "2023-04-23T08:59:26.913Z"
   },
   {
    "duration": 55,
    "start_time": "2023-04-23T08:59:26.952Z"
   },
   {
    "duration": 26,
    "start_time": "2023-04-23T08:59:27.008Z"
   },
   {
    "duration": 197,
    "start_time": "2023-04-23T08:59:27.036Z"
   },
   {
    "duration": 199,
    "start_time": "2023-04-23T08:59:27.235Z"
   },
   {
    "duration": 9,
    "start_time": "2023-04-23T08:59:27.436Z"
   },
   {
    "duration": 35,
    "start_time": "2023-04-23T08:59:27.447Z"
   },
   {
    "duration": 19,
    "start_time": "2023-04-23T08:59:27.484Z"
   },
   {
    "duration": 191,
    "start_time": "2023-04-23T08:59:27.505Z"
   },
   {
    "duration": 34,
    "start_time": "2023-04-23T08:59:27.698Z"
   },
   {
    "duration": 20,
    "start_time": "2023-04-23T08:59:27.734Z"
   },
   {
    "duration": 275,
    "start_time": "2023-04-23T08:59:27.758Z"
   },
   {
    "duration": 16,
    "start_time": "2023-04-23T08:59:28.035Z"
   },
   {
    "duration": 28,
    "start_time": "2023-04-23T08:59:28.052Z"
   },
   {
    "duration": 78,
    "start_time": "2023-04-23T08:59:28.081Z"
   },
   {
    "duration": 70,
    "start_time": "2023-04-23T08:59:28.160Z"
   },
   {
    "duration": 10,
    "start_time": "2023-04-23T08:59:28.231Z"
   },
   {
    "duration": 306,
    "start_time": "2023-04-23T08:59:28.243Z"
   },
   {
    "duration": 10,
    "start_time": "2023-04-23T08:59:28.550Z"
   },
   {
    "duration": 256,
    "start_time": "2023-04-23T08:59:28.561Z"
   },
   {
    "duration": 235,
    "start_time": "2023-04-23T08:59:28.819Z"
   },
   {
    "duration": 23,
    "start_time": "2023-04-23T08:59:29.056Z"
   },
   {
    "duration": 48,
    "start_time": "2023-04-23T08:59:29.081Z"
   },
   {
    "duration": 96,
    "start_time": "2023-04-23T08:59:29.131Z"
   },
   {
    "duration": 54,
    "start_time": "2023-04-23T08:59:29.229Z"
   },
   {
    "duration": 39,
    "start_time": "2023-04-23T08:59:29.284Z"
   },
   {
    "duration": 45,
    "start_time": "2023-04-23T08:59:29.325Z"
   },
   {
    "duration": 52,
    "start_time": "2023-04-23T08:59:29.372Z"
   },
   {
    "duration": 220,
    "start_time": "2023-04-23T08:59:29.426Z"
   },
   {
    "duration": 8,
    "start_time": "2023-04-23T08:59:29.648Z"
   },
   {
    "duration": 35,
    "start_time": "2023-04-23T08:59:29.658Z"
   },
   {
    "duration": 7,
    "start_time": "2023-04-23T09:00:22.737Z"
   },
   {
    "duration": 311,
    "start_time": "2023-04-23T09:00:25.955Z"
   },
   {
    "duration": 1181,
    "start_time": "2023-04-23T09:04:19.211Z"
   },
   {
    "duration": 55,
    "start_time": "2023-04-23T09:04:20.394Z"
   },
   {
    "duration": 22,
    "start_time": "2023-04-23T09:04:20.451Z"
   },
   {
    "duration": 32,
    "start_time": "2023-04-23T09:04:20.475Z"
   },
   {
    "duration": 36,
    "start_time": "2023-04-23T09:04:20.509Z"
   },
   {
    "duration": 25,
    "start_time": "2023-04-23T09:04:20.547Z"
   },
   {
    "duration": 30,
    "start_time": "2023-04-23T09:04:20.573Z"
   },
   {
    "duration": 18,
    "start_time": "2023-04-23T09:04:20.605Z"
   },
   {
    "duration": 15,
    "start_time": "2023-04-23T09:04:20.624Z"
   },
   {
    "duration": 22,
    "start_time": "2023-04-23T09:04:20.642Z"
   },
   {
    "duration": 62,
    "start_time": "2023-04-23T09:04:20.666Z"
   },
   {
    "duration": 11,
    "start_time": "2023-04-23T09:04:20.730Z"
   },
   {
    "duration": 43,
    "start_time": "2023-04-23T09:04:20.743Z"
   },
   {
    "duration": 25,
    "start_time": "2023-04-23T09:04:20.788Z"
   },
   {
    "duration": 80,
    "start_time": "2023-04-23T09:04:20.815Z"
   },
   {
    "duration": 32,
    "start_time": "2023-04-23T09:04:20.897Z"
   },
   {
    "duration": 33,
    "start_time": "2023-04-23T09:04:20.930Z"
   },
   {
    "duration": 48,
    "start_time": "2023-04-23T09:04:20.966Z"
   },
   {
    "duration": 27,
    "start_time": "2023-04-23T09:04:21.016Z"
   },
   {
    "duration": 200,
    "start_time": "2023-04-23T09:04:21.046Z"
   },
   {
    "duration": 8,
    "start_time": "2023-04-23T09:04:21.248Z"
   },
   {
    "duration": 228,
    "start_time": "2023-04-23T09:04:21.257Z"
   },
   {
    "duration": 10,
    "start_time": "2023-04-23T09:04:21.488Z"
   },
   {
    "duration": 52,
    "start_time": "2023-04-23T09:04:21.499Z"
   },
   {
    "duration": 34,
    "start_time": "2023-04-23T09:04:21.553Z"
   },
   {
    "duration": 195,
    "start_time": "2023-04-23T09:04:21.589Z"
   },
   {
    "duration": 36,
    "start_time": "2023-04-23T09:04:21.786Z"
   },
   {
    "duration": 44,
    "start_time": "2023-04-23T09:04:21.826Z"
   },
   {
    "duration": 290,
    "start_time": "2023-04-23T09:04:21.872Z"
   },
   {
    "duration": 16,
    "start_time": "2023-04-23T09:04:22.164Z"
   },
   {
    "duration": 23,
    "start_time": "2023-04-23T09:04:22.182Z"
   },
   {
    "duration": 101,
    "start_time": "2023-04-23T09:04:22.207Z"
   },
   {
    "duration": 74,
    "start_time": "2023-04-23T09:04:22.310Z"
   },
   {
    "duration": 15,
    "start_time": "2023-04-23T09:04:22.403Z"
   },
   {
    "duration": 347,
    "start_time": "2023-04-23T09:04:22.420Z"
   },
   {
    "duration": 9,
    "start_time": "2023-04-23T09:04:22.769Z"
   },
   {
    "duration": 247,
    "start_time": "2023-04-23T09:04:22.780Z"
   },
   {
    "duration": 249,
    "start_time": "2023-04-23T09:04:23.028Z"
   },
   {
    "duration": 20,
    "start_time": "2023-04-23T09:04:23.279Z"
   },
   {
    "duration": 28,
    "start_time": "2023-04-23T09:04:23.300Z"
   },
   {
    "duration": 27,
    "start_time": "2023-04-23T09:04:23.330Z"
   },
   {
    "duration": 21,
    "start_time": "2023-04-23T09:04:23.359Z"
   },
   {
    "duration": 16,
    "start_time": "2023-04-23T09:04:23.382Z"
   },
   {
    "duration": 14,
    "start_time": "2023-04-23T09:04:23.417Z"
   },
   {
    "duration": 13,
    "start_time": "2023-04-23T09:04:23.433Z"
   },
   {
    "duration": 209,
    "start_time": "2023-04-23T09:04:23.448Z"
   },
   {
    "duration": 9,
    "start_time": "2023-04-23T09:04:23.659Z"
   },
   {
    "duration": 12,
    "start_time": "2023-04-23T09:04:23.669Z"
   },
   {
    "duration": 23,
    "start_time": "2023-04-23T09:04:42.500Z"
   },
   {
    "duration": 1145,
    "start_time": "2023-04-23T09:05:18.133Z"
   },
   {
    "duration": 55,
    "start_time": "2023-04-23T09:05:19.280Z"
   },
   {
    "duration": 20,
    "start_time": "2023-04-23T09:05:19.336Z"
   },
   {
    "duration": 70,
    "start_time": "2023-04-23T09:05:19.358Z"
   },
   {
    "duration": 42,
    "start_time": "2023-04-23T09:05:19.430Z"
   },
   {
    "duration": 38,
    "start_time": "2023-04-23T09:05:19.473Z"
   },
   {
    "duration": 50,
    "start_time": "2023-04-23T09:05:19.512Z"
   },
   {
    "duration": 18,
    "start_time": "2023-04-23T09:05:19.563Z"
   },
   {
    "duration": 27,
    "start_time": "2023-04-23T09:05:19.583Z"
   },
   {
    "duration": 9,
    "start_time": "2023-04-23T09:05:19.612Z"
   },
   {
    "duration": 36,
    "start_time": "2023-04-23T09:05:19.622Z"
   },
   {
    "duration": 5,
    "start_time": "2023-04-23T09:05:19.660Z"
   },
   {
    "duration": 37,
    "start_time": "2023-04-23T09:05:19.667Z"
   },
   {
    "duration": 44,
    "start_time": "2023-04-23T09:05:19.706Z"
   },
   {
    "duration": 19,
    "start_time": "2023-04-23T09:05:19.751Z"
   },
   {
    "duration": 36,
    "start_time": "2023-04-23T09:05:19.772Z"
   },
   {
    "duration": 28,
    "start_time": "2023-04-23T09:05:19.810Z"
   },
   {
    "duration": 57,
    "start_time": "2023-04-23T09:05:19.840Z"
   },
   {
    "duration": 26,
    "start_time": "2023-04-23T09:05:19.899Z"
   },
   {
    "duration": 186,
    "start_time": "2023-04-23T09:05:19.926Z"
   },
   {
    "duration": 10,
    "start_time": "2023-04-23T09:05:20.114Z"
   },
   {
    "duration": 196,
    "start_time": "2023-04-23T09:05:20.125Z"
   },
   {
    "duration": 10,
    "start_time": "2023-04-23T09:05:20.322Z"
   },
   {
    "duration": 35,
    "start_time": "2023-04-23T09:05:20.333Z"
   },
   {
    "duration": 11,
    "start_time": "2023-04-23T09:05:20.369Z"
   },
   {
    "duration": 177,
    "start_time": "2023-04-23T09:05:20.382Z"
   },
   {
    "duration": 30,
    "start_time": "2023-04-23T09:05:20.562Z"
   },
   {
    "duration": 25,
    "start_time": "2023-04-23T09:05:20.596Z"
   },
   {
    "duration": 258,
    "start_time": "2023-04-23T09:05:20.622Z"
   },
   {
    "duration": 17,
    "start_time": "2023-04-23T09:05:20.881Z"
   },
   {
    "duration": 34,
    "start_time": "2023-04-23T09:05:20.900Z"
   },
   {
    "duration": 82,
    "start_time": "2023-04-23T09:05:20.936Z"
   },
   {
    "duration": 70,
    "start_time": "2023-04-23T09:05:21.021Z"
   },
   {
    "duration": 10,
    "start_time": "2023-04-23T09:05:21.093Z"
   },
   {
    "duration": 312,
    "start_time": "2023-04-23T09:05:21.105Z"
   },
   {
    "duration": 11,
    "start_time": "2023-04-23T09:05:21.419Z"
   },
   {
    "duration": 247,
    "start_time": "2023-04-23T09:05:21.432Z"
   },
   {
    "duration": 259,
    "start_time": "2023-04-23T09:05:21.681Z"
   },
   {
    "duration": 25,
    "start_time": "2023-04-23T09:05:21.943Z"
   },
   {
    "duration": 32,
    "start_time": "2023-04-23T09:05:21.970Z"
   },
   {
    "duration": 63,
    "start_time": "2023-04-23T09:05:22.004Z"
   },
   {
    "duration": 66,
    "start_time": "2023-04-23T09:05:22.069Z"
   },
   {
    "duration": 21,
    "start_time": "2023-04-23T09:05:22.137Z"
   },
   {
    "duration": 37,
    "start_time": "2023-04-23T09:05:22.160Z"
   },
   {
    "duration": 28,
    "start_time": "2023-04-23T09:05:22.198Z"
   },
   {
    "duration": 194,
    "start_time": "2023-04-23T09:05:22.228Z"
   },
   {
    "duration": 13,
    "start_time": "2023-04-23T09:05:22.424Z"
   },
   {
    "duration": 39,
    "start_time": "2023-04-23T09:05:22.439Z"
   },
   {
    "duration": 4,
    "start_time": "2023-04-23T09:06:59.905Z"
   },
   {
    "duration": 4,
    "start_time": "2023-04-23T09:07:01.759Z"
   },
   {
    "duration": 24,
    "start_time": "2023-04-23T09:07:14.048Z"
   },
   {
    "duration": 1123,
    "start_time": "2023-04-23T09:07:35.563Z"
   },
   {
    "duration": 56,
    "start_time": "2023-04-23T09:07:36.688Z"
   },
   {
    "duration": 19,
    "start_time": "2023-04-23T09:07:36.746Z"
   },
   {
    "duration": 21,
    "start_time": "2023-04-23T09:07:36.767Z"
   },
   {
    "duration": 38,
    "start_time": "2023-04-23T09:07:36.790Z"
   },
   {
    "duration": 19,
    "start_time": "2023-04-23T09:07:36.829Z"
   },
   {
    "duration": 48,
    "start_time": "2023-04-23T09:07:36.850Z"
   },
   {
    "duration": 18,
    "start_time": "2023-04-23T09:07:36.900Z"
   },
   {
    "duration": 16,
    "start_time": "2023-04-23T09:07:36.920Z"
   },
   {
    "duration": 8,
    "start_time": "2023-04-23T09:07:36.940Z"
   },
   {
    "duration": 34,
    "start_time": "2023-04-23T09:07:36.950Z"
   },
   {
    "duration": 6,
    "start_time": "2023-04-23T09:07:36.986Z"
   },
   {
    "duration": 49,
    "start_time": "2023-04-23T09:07:36.993Z"
   },
   {
    "duration": 11,
    "start_time": "2023-04-23T09:07:37.043Z"
   },
   {
    "duration": 17,
    "start_time": "2023-04-23T09:07:37.055Z"
   },
   {
    "duration": 28,
    "start_time": "2023-04-23T09:07:37.074Z"
   },
   {
    "duration": 87,
    "start_time": "2023-04-23T09:07:37.104Z"
   },
   {
    "duration": 51,
    "start_time": "2023-04-23T09:07:37.193Z"
   },
   {
    "duration": 24,
    "start_time": "2023-04-23T09:07:37.246Z"
   },
   {
    "duration": 197,
    "start_time": "2023-04-23T09:07:37.271Z"
   },
   {
    "duration": 8,
    "start_time": "2023-04-23T09:07:37.470Z"
   },
   {
    "duration": 203,
    "start_time": "2023-04-23T09:07:37.480Z"
   },
   {
    "duration": 9,
    "start_time": "2023-04-23T09:07:37.685Z"
   },
   {
    "duration": 29,
    "start_time": "2023-04-23T09:07:37.696Z"
   },
   {
    "duration": 10,
    "start_time": "2023-04-23T09:07:37.727Z"
   },
   {
    "duration": 184,
    "start_time": "2023-04-23T09:07:37.739Z"
   },
   {
    "duration": 3,
    "start_time": "2023-04-23T09:07:37.926Z"
   },
   {
    "duration": 18,
    "start_time": "2023-04-23T09:07:37.933Z"
   },
   {
    "duration": 34,
    "start_time": "2023-04-23T09:07:37.953Z"
   },
   {
    "duration": 329,
    "start_time": "2023-04-23T09:07:37.989Z"
   },
   {
    "duration": 0,
    "start_time": "2023-04-23T09:07:38.320Z"
   },
   {
    "duration": 0,
    "start_time": "2023-04-23T09:07:38.321Z"
   },
   {
    "duration": 0,
    "start_time": "2023-04-23T09:07:38.323Z"
   },
   {
    "duration": 0,
    "start_time": "2023-04-23T09:07:38.324Z"
   },
   {
    "duration": 0,
    "start_time": "2023-04-23T09:07:38.325Z"
   },
   {
    "duration": 0,
    "start_time": "2023-04-23T09:07:38.326Z"
   },
   {
    "duration": 0,
    "start_time": "2023-04-23T09:07:38.327Z"
   },
   {
    "duration": 0,
    "start_time": "2023-04-23T09:07:38.328Z"
   },
   {
    "duration": 0,
    "start_time": "2023-04-23T09:07:38.329Z"
   },
   {
    "duration": 0,
    "start_time": "2023-04-23T09:07:38.330Z"
   },
   {
    "duration": 0,
    "start_time": "2023-04-23T09:07:38.332Z"
   },
   {
    "duration": 0,
    "start_time": "2023-04-23T09:07:38.333Z"
   },
   {
    "duration": 0,
    "start_time": "2023-04-23T09:07:38.333Z"
   },
   {
    "duration": 0,
    "start_time": "2023-04-23T09:07:38.334Z"
   },
   {
    "duration": 0,
    "start_time": "2023-04-23T09:07:38.336Z"
   },
   {
    "duration": 0,
    "start_time": "2023-04-23T09:07:38.337Z"
   },
   {
    "duration": 0,
    "start_time": "2023-04-23T09:07:38.338Z"
   },
   {
    "duration": 0,
    "start_time": "2023-04-23T09:07:38.339Z"
   },
   {
    "duration": 0,
    "start_time": "2023-04-23T09:07:38.340Z"
   },
   {
    "duration": 0,
    "start_time": "2023-04-23T09:07:38.341Z"
   },
   {
    "duration": 0,
    "start_time": "2023-04-23T09:07:38.342Z"
   },
   {
    "duration": 16,
    "start_time": "2023-04-23T09:08:43.327Z"
   },
   {
    "duration": 14,
    "start_time": "2023-04-23T09:08:45.348Z"
   },
   {
    "duration": 257,
    "start_time": "2023-04-23T09:08:53.536Z"
   },
   {
    "duration": 216,
    "start_time": "2023-04-23T09:08:54.029Z"
   },
   {
    "duration": 29,
    "start_time": "2023-04-23T09:10:47.446Z"
   },
   {
    "duration": 28,
    "start_time": "2023-04-23T09:11:23.039Z"
   },
   {
    "duration": 28,
    "start_time": "2023-04-23T09:11:55.458Z"
   },
   {
    "duration": 592,
    "start_time": "2023-04-23T09:12:29.868Z"
   },
   {
    "duration": 26,
    "start_time": "2023-04-23T09:12:49.245Z"
   },
   {
    "duration": 37,
    "start_time": "2023-04-23T09:13:11.888Z"
   },
   {
    "duration": 25,
    "start_time": "2023-04-23T09:13:40.657Z"
   },
   {
    "duration": 29,
    "start_time": "2023-04-23T09:14:11.000Z"
   },
   {
    "duration": 7,
    "start_time": "2023-04-23T09:17:56.662Z"
   },
   {
    "duration": 243,
    "start_time": "2023-04-23T09:20:20.356Z"
   },
   {
    "duration": 227,
    "start_time": "2023-04-23T09:20:35.018Z"
   },
   {
    "duration": 24,
    "start_time": "2023-04-23T09:20:43.357Z"
   },
   {
    "duration": 221,
    "start_time": "2023-04-23T09:21:24.740Z"
   },
   {
    "duration": 220,
    "start_time": "2023-04-23T09:21:29.058Z"
   },
   {
    "duration": 31,
    "start_time": "2023-04-23T09:21:58.916Z"
   },
   {
    "duration": 28,
    "start_time": "2023-04-23T09:22:03.299Z"
   },
   {
    "duration": 28,
    "start_time": "2023-04-23T09:22:08.706Z"
   },
   {
    "duration": 1104,
    "start_time": "2023-04-23T09:22:23.588Z"
   },
   {
    "duration": 55,
    "start_time": "2023-04-23T09:22:24.694Z"
   },
   {
    "duration": 20,
    "start_time": "2023-04-23T09:22:24.751Z"
   },
   {
    "duration": 35,
    "start_time": "2023-04-23T09:22:24.773Z"
   },
   {
    "duration": 31,
    "start_time": "2023-04-23T09:22:24.810Z"
   },
   {
    "duration": 19,
    "start_time": "2023-04-23T09:22:24.843Z"
   },
   {
    "duration": 27,
    "start_time": "2023-04-23T09:22:24.864Z"
   },
   {
    "duration": 35,
    "start_time": "2023-04-23T09:22:24.893Z"
   },
   {
    "duration": 16,
    "start_time": "2023-04-23T09:22:24.930Z"
   },
   {
    "duration": 7,
    "start_time": "2023-04-23T09:22:24.951Z"
   },
   {
    "duration": 62,
    "start_time": "2023-04-23T09:22:24.959Z"
   },
   {
    "duration": 5,
    "start_time": "2023-04-23T09:22:25.023Z"
   },
   {
    "duration": 61,
    "start_time": "2023-04-23T09:22:25.029Z"
   },
   {
    "duration": 17,
    "start_time": "2023-04-23T09:22:25.092Z"
   },
   {
    "duration": 53,
    "start_time": "2023-04-23T09:22:25.110Z"
   },
   {
    "duration": 26,
    "start_time": "2023-04-23T09:22:25.166Z"
   },
   {
    "duration": 35,
    "start_time": "2023-04-23T09:22:25.195Z"
   },
   {
    "duration": 40,
    "start_time": "2023-04-23T09:22:25.232Z"
   },
   {
    "duration": 25,
    "start_time": "2023-04-23T09:22:25.274Z"
   },
   {
    "duration": 216,
    "start_time": "2023-04-23T09:22:25.317Z"
   },
   {
    "duration": 8,
    "start_time": "2023-04-23T09:22:25.535Z"
   },
   {
    "duration": 242,
    "start_time": "2023-04-23T09:22:25.545Z"
   },
   {
    "duration": 9,
    "start_time": "2023-04-23T09:22:25.789Z"
   },
   {
    "duration": 36,
    "start_time": "2023-04-23T09:22:25.800Z"
   },
   {
    "duration": 7,
    "start_time": "2023-04-23T09:22:25.838Z"
   },
   {
    "duration": 205,
    "start_time": "2023-04-23T09:22:25.847Z"
   },
   {
    "duration": 476,
    "start_time": "2023-04-23T09:22:26.054Z"
   },
   {
    "duration": 0,
    "start_time": "2023-04-23T09:22:26.534Z"
   },
   {
    "duration": 0,
    "start_time": "2023-04-23T09:22:26.536Z"
   },
   {
    "duration": 0,
    "start_time": "2023-04-23T09:22:26.537Z"
   },
   {
    "duration": 0,
    "start_time": "2023-04-23T09:22:26.538Z"
   },
   {
    "duration": 0,
    "start_time": "2023-04-23T09:22:26.539Z"
   },
   {
    "duration": 0,
    "start_time": "2023-04-23T09:22:26.541Z"
   },
   {
    "duration": 0,
    "start_time": "2023-04-23T09:22:26.543Z"
   },
   {
    "duration": 0,
    "start_time": "2023-04-23T09:22:26.544Z"
   },
   {
    "duration": 0,
    "start_time": "2023-04-23T09:22:26.546Z"
   },
   {
    "duration": 0,
    "start_time": "2023-04-23T09:22:26.547Z"
   },
   {
    "duration": 0,
    "start_time": "2023-04-23T09:22:26.548Z"
   },
   {
    "duration": 0,
    "start_time": "2023-04-23T09:22:26.550Z"
   },
   {
    "duration": 0,
    "start_time": "2023-04-23T09:22:26.552Z"
   },
   {
    "duration": 0,
    "start_time": "2023-04-23T09:22:26.554Z"
   },
   {
    "duration": 0,
    "start_time": "2023-04-23T09:22:26.555Z"
   },
   {
    "duration": 0,
    "start_time": "2023-04-23T09:22:26.556Z"
   },
   {
    "duration": 0,
    "start_time": "2023-04-23T09:22:26.558Z"
   },
   {
    "duration": 0,
    "start_time": "2023-04-23T09:22:26.559Z"
   },
   {
    "duration": 0,
    "start_time": "2023-04-23T09:22:26.560Z"
   },
   {
    "duration": 0,
    "start_time": "2023-04-23T09:22:26.561Z"
   },
   {
    "duration": 0,
    "start_time": "2023-04-23T09:22:26.563Z"
   },
   {
    "duration": 0,
    "start_time": "2023-04-23T09:22:26.563Z"
   },
   {
    "duration": 0,
    "start_time": "2023-04-23T09:22:26.565Z"
   },
   {
    "duration": 4,
    "start_time": "2023-04-23T09:24:33.259Z"
   },
   {
    "duration": 3,
    "start_time": "2023-04-23T09:25:09.109Z"
   },
   {
    "duration": 4,
    "start_time": "2023-04-23T09:25:10.028Z"
   },
   {
    "duration": 251,
    "start_time": "2023-04-23T09:25:10.403Z"
   },
   {
    "duration": 51,
    "start_time": "2023-04-23T09:25:10.844Z"
   },
   {
    "duration": 4,
    "start_time": "2023-04-23T09:25:26.339Z"
   },
   {
    "duration": 48,
    "start_time": "2023-04-23T09:25:27.242Z"
   },
   {
    "duration": 3,
    "start_time": "2023-04-23T09:25:38.274Z"
   },
   {
    "duration": 64,
    "start_time": "2023-04-23T09:25:39.249Z"
   },
   {
    "duration": 194,
    "start_time": "2023-04-23T09:25:42.648Z"
   },
   {
    "duration": 12,
    "start_time": "2023-04-23T09:26:45.676Z"
   },
   {
    "duration": 3,
    "start_time": "2023-04-23T09:26:57.101Z"
   },
   {
    "duration": 3,
    "start_time": "2023-04-23T09:27:05.308Z"
   },
   {
    "duration": 4,
    "start_time": "2023-04-23T09:27:07.704Z"
   },
   {
    "duration": 3,
    "start_time": "2023-04-23T09:27:08.101Z"
   },
   {
    "duration": 3,
    "start_time": "2023-04-23T09:27:09.158Z"
   },
   {
    "duration": 203,
    "start_time": "2023-04-23T09:27:09.959Z"
   },
   {
    "duration": 5,
    "start_time": "2023-04-23T09:27:48.709Z"
   },
   {
    "duration": 3,
    "start_time": "2023-04-23T09:27:49.379Z"
   },
   {
    "duration": 3,
    "start_time": "2023-04-23T09:27:49.669Z"
   },
   {
    "duration": 220,
    "start_time": "2023-04-23T09:27:50.300Z"
   },
   {
    "duration": 223,
    "start_time": "2023-04-23T09:28:18.938Z"
   },
   {
    "duration": 4,
    "start_time": "2023-04-23T09:28:27.400Z"
   },
   {
    "duration": 3,
    "start_time": "2023-04-23T09:28:27.801Z"
   },
   {
    "duration": 241,
    "start_time": "2023-04-23T09:28:29.100Z"
   },
   {
    "duration": 4,
    "start_time": "2023-04-23T09:30:35.859Z"
   },
   {
    "duration": 235,
    "start_time": "2023-04-23T09:30:36.993Z"
   },
   {
    "duration": 30,
    "start_time": "2023-04-23T09:31:08.094Z"
   },
   {
    "duration": 1116,
    "start_time": "2023-04-23T09:32:37.569Z"
   },
   {
    "duration": 56,
    "start_time": "2023-04-23T09:32:38.687Z"
   },
   {
    "duration": 20,
    "start_time": "2023-04-23T09:32:38.745Z"
   },
   {
    "duration": 25,
    "start_time": "2023-04-23T09:32:38.767Z"
   },
   {
    "duration": 29,
    "start_time": "2023-04-23T09:32:38.794Z"
   },
   {
    "duration": 19,
    "start_time": "2023-04-23T09:32:38.825Z"
   },
   {
    "duration": 36,
    "start_time": "2023-04-23T09:32:38.846Z"
   },
   {
    "duration": 19,
    "start_time": "2023-04-23T09:32:38.884Z"
   },
   {
    "duration": 26,
    "start_time": "2023-04-23T09:32:38.904Z"
   },
   {
    "duration": 7,
    "start_time": "2023-04-23T09:32:38.933Z"
   },
   {
    "duration": 39,
    "start_time": "2023-04-23T09:32:38.941Z"
   },
   {
    "duration": 6,
    "start_time": "2023-04-23T09:32:38.981Z"
   },
   {
    "duration": 34,
    "start_time": "2023-04-23T09:32:38.988Z"
   },
   {
    "duration": 5,
    "start_time": "2023-04-23T09:32:39.024Z"
   },
   {
    "duration": 11,
    "start_time": "2023-04-23T09:32:39.031Z"
   },
   {
    "duration": 16,
    "start_time": "2023-04-23T09:32:39.043Z"
   },
   {
    "duration": 41,
    "start_time": "2023-04-23T09:32:39.061Z"
   },
   {
    "duration": 42,
    "start_time": "2023-04-23T09:32:39.104Z"
   },
   {
    "duration": 26,
    "start_time": "2023-04-23T09:32:39.148Z"
   },
   {
    "duration": 191,
    "start_time": "2023-04-23T09:32:39.176Z"
   },
   {
    "duration": 8,
    "start_time": "2023-04-23T09:32:39.369Z"
   },
   {
    "duration": 200,
    "start_time": "2023-04-23T09:32:39.379Z"
   },
   {
    "duration": 8,
    "start_time": "2023-04-23T09:32:39.580Z"
   },
   {
    "duration": 31,
    "start_time": "2023-04-23T09:32:39.590Z"
   },
   {
    "duration": 5,
    "start_time": "2023-04-23T09:32:39.622Z"
   },
   {
    "duration": 173,
    "start_time": "2023-04-23T09:32:39.629Z"
   },
   {
    "duration": 33,
    "start_time": "2023-04-23T09:32:39.804Z"
   },
   {
    "duration": 7,
    "start_time": "2023-04-23T09:32:39.840Z"
   },
   {
    "duration": 253,
    "start_time": "2023-04-23T09:32:39.848Z"
   },
   {
    "duration": 27,
    "start_time": "2023-04-23T09:32:40.102Z"
   },
   {
    "duration": 12,
    "start_time": "2023-04-23T09:32:40.131Z"
   },
   {
    "duration": 76,
    "start_time": "2023-04-23T09:32:40.144Z"
   },
   {
    "duration": 72,
    "start_time": "2023-04-23T09:32:40.221Z"
   },
   {
    "duration": 28,
    "start_time": "2023-04-23T09:32:40.295Z"
   },
   {
    "duration": 301,
    "start_time": "2023-04-23T09:32:40.325Z"
   },
   {
    "duration": 8,
    "start_time": "2023-04-23T09:32:40.628Z"
   },
   {
    "duration": 295,
    "start_time": "2023-04-23T09:32:40.638Z"
   },
   {
    "duration": 231,
    "start_time": "2023-04-23T09:32:40.935Z"
   },
   {
    "duration": 24,
    "start_time": "2023-04-23T09:32:41.169Z"
   },
   {
    "duration": 34,
    "start_time": "2023-04-23T09:32:41.196Z"
   },
   {
    "duration": 14,
    "start_time": "2023-04-23T09:32:41.231Z"
   },
   {
    "duration": 16,
    "start_time": "2023-04-23T09:32:41.246Z"
   },
   {
    "duration": 13,
    "start_time": "2023-04-23T09:32:41.264Z"
   },
   {
    "duration": 39,
    "start_time": "2023-04-23T09:32:41.279Z"
   },
   {
    "duration": 15,
    "start_time": "2023-04-23T09:32:41.320Z"
   },
   {
    "duration": 189,
    "start_time": "2023-04-23T09:32:41.336Z"
   },
   {
    "duration": 9,
    "start_time": "2023-04-23T09:32:41.526Z"
   },
   {
    "duration": 11,
    "start_time": "2023-04-23T09:32:41.537Z"
   },
   {
    "duration": 294,
    "start_time": "2023-04-23T09:40:12.540Z"
   },
   {
    "duration": 163,
    "start_time": "2023-04-23T09:41:37.423Z"
   },
   {
    "duration": 59,
    "start_time": "2023-04-23T09:41:51.201Z"
   },
   {
    "duration": 223,
    "start_time": "2023-04-23T09:43:31.160Z"
   },
   {
    "duration": 12,
    "start_time": "2023-04-23T09:46:27.608Z"
   },
   {
    "duration": 12,
    "start_time": "2023-04-23T09:46:48.938Z"
   },
   {
    "duration": 13,
    "start_time": "2023-04-23T09:47:01.109Z"
   },
   {
    "duration": 154,
    "start_time": "2023-04-23T09:47:08.275Z"
   },
   {
    "duration": 376,
    "start_time": "2023-04-23T09:53:52.557Z"
   },
   {
    "duration": 56,
    "start_time": "2023-04-23T09:55:08.179Z"
   },
   {
    "duration": 10,
    "start_time": "2023-04-23T09:59:18.279Z"
   },
   {
    "duration": 11,
    "start_time": "2023-04-23T09:59:28.750Z"
   },
   {
    "duration": 4,
    "start_time": "2023-04-23T10:02:48.113Z"
   },
   {
    "duration": 5,
    "start_time": "2023-04-23T10:02:52.569Z"
   },
   {
    "duration": 809,
    "start_time": "2023-04-23T10:02:54.732Z"
   },
   {
    "duration": 14,
    "start_time": "2023-04-23T10:03:08.568Z"
   },
   {
    "duration": 14,
    "start_time": "2023-04-23T10:03:33.080Z"
   },
   {
    "duration": 862,
    "start_time": "2023-04-23T10:03:49.349Z"
   },
   {
    "duration": 1045,
    "start_time": "2023-04-23T10:03:57.654Z"
   },
   {
    "duration": 56,
    "start_time": "2023-04-23T10:03:58.701Z"
   },
   {
    "duration": 19,
    "start_time": "2023-04-23T10:03:58.759Z"
   },
   {
    "duration": 18,
    "start_time": "2023-04-23T10:03:58.780Z"
   },
   {
    "duration": 28,
    "start_time": "2023-04-23T10:03:58.800Z"
   },
   {
    "duration": 26,
    "start_time": "2023-04-23T10:03:58.829Z"
   },
   {
    "duration": 42,
    "start_time": "2023-04-23T10:03:58.856Z"
   },
   {
    "duration": 18,
    "start_time": "2023-04-23T10:03:58.899Z"
   },
   {
    "duration": 13,
    "start_time": "2023-04-23T10:03:58.919Z"
   },
   {
    "duration": 28,
    "start_time": "2023-04-23T10:03:58.935Z"
   },
   {
    "duration": 36,
    "start_time": "2023-04-23T10:03:58.965Z"
   },
   {
    "duration": 5,
    "start_time": "2023-04-23T10:03:59.002Z"
   },
   {
    "duration": 21,
    "start_time": "2023-04-23T10:03:59.008Z"
   },
   {
    "duration": 5,
    "start_time": "2023-04-23T10:03:59.031Z"
   },
   {
    "duration": 9,
    "start_time": "2023-04-23T10:03:59.037Z"
   },
   {
    "duration": 19,
    "start_time": "2023-04-23T10:03:59.048Z"
   },
   {
    "duration": 20,
    "start_time": "2023-04-23T10:03:59.068Z"
   },
   {
    "duration": 41,
    "start_time": "2023-04-23T10:03:59.089Z"
   },
   {
    "duration": 23,
    "start_time": "2023-04-23T10:03:59.132Z"
   },
   {
    "duration": 188,
    "start_time": "2023-04-23T10:03:59.157Z"
   },
   {
    "duration": 7,
    "start_time": "2023-04-23T10:03:59.346Z"
   },
   {
    "duration": 180,
    "start_time": "2023-04-23T10:03:59.354Z"
   },
   {
    "duration": 9,
    "start_time": "2023-04-23T10:03:59.535Z"
   },
   {
    "duration": 32,
    "start_time": "2023-04-23T10:03:59.545Z"
   },
   {
    "duration": 5,
    "start_time": "2023-04-23T10:03:59.579Z"
   },
   {
    "duration": 180,
    "start_time": "2023-04-23T10:03:59.586Z"
   },
   {
    "duration": 26,
    "start_time": "2023-04-23T10:03:59.767Z"
   },
   {
    "duration": 105,
    "start_time": "2023-04-23T10:03:59.796Z"
   },
   {
    "duration": 281,
    "start_time": "2023-04-23T10:03:59.903Z"
   },
   {
    "duration": 15,
    "start_time": "2023-04-23T10:04:00.186Z"
   },
   {
    "duration": 44,
    "start_time": "2023-04-23T10:04:00.202Z"
   },
   {
    "duration": 117,
    "start_time": "2023-04-23T10:04:00.248Z"
   },
   {
    "duration": 14,
    "start_time": "2023-04-23T10:04:00.367Z"
   },
   {
    "duration": 107,
    "start_time": "2023-04-23T10:04:00.383Z"
   },
   {
    "duration": 11,
    "start_time": "2023-04-23T10:04:00.491Z"
   },
   {
    "duration": 323,
    "start_time": "2023-04-23T10:04:00.504Z"
   },
   {
    "duration": 9,
    "start_time": "2023-04-23T10:04:00.829Z"
   },
   {
    "duration": 241,
    "start_time": "2023-04-23T10:04:00.839Z"
   },
   {
    "duration": 245,
    "start_time": "2023-04-23T10:04:01.082Z"
   },
   {
    "duration": 21,
    "start_time": "2023-04-23T10:04:01.328Z"
   },
   {
    "duration": 36,
    "start_time": "2023-04-23T10:04:01.351Z"
   },
   {
    "duration": 41,
    "start_time": "2023-04-23T10:04:01.389Z"
   },
   {
    "duration": 68,
    "start_time": "2023-04-23T10:04:01.431Z"
   },
   {
    "duration": 37,
    "start_time": "2023-04-23T10:04:01.501Z"
   },
   {
    "duration": 77,
    "start_time": "2023-04-23T10:04:01.540Z"
   },
   {
    "duration": 68,
    "start_time": "2023-04-23T10:04:01.619Z"
   },
   {
    "duration": 261,
    "start_time": "2023-04-23T10:04:01.689Z"
   },
   {
    "duration": 10,
    "start_time": "2023-04-23T10:04:01.952Z"
   },
   {
    "duration": 29,
    "start_time": "2023-04-23T10:04:01.964Z"
   },
   {
    "duration": 875,
    "start_time": "2023-04-23T10:05:32.060Z"
   },
   {
    "duration": 291,
    "start_time": "2023-04-23T10:06:34.820Z"
   },
   {
    "duration": 196,
    "start_time": "2023-04-23T10:06:56.201Z"
   },
   {
    "duration": 160,
    "start_time": "2023-04-23T10:07:36.168Z"
   },
   {
    "duration": 54,
    "start_time": "2023-04-23T10:07:53.548Z"
   },
   {
    "duration": 207,
    "start_time": "2023-04-23T10:08:01.303Z"
   },
   {
    "duration": 197,
    "start_time": "2023-04-23T10:13:31.913Z"
   },
   {
    "duration": 5,
    "start_time": "2023-04-23T10:13:37.748Z"
   },
   {
    "duration": 13,
    "start_time": "2023-04-23T10:13:56.725Z"
   },
   {
    "duration": 12,
    "start_time": "2023-04-23T10:14:32.020Z"
   },
   {
    "duration": 209,
    "start_time": "2023-04-23T10:15:34.728Z"
   },
   {
    "duration": 207,
    "start_time": "2023-04-23T10:15:39.672Z"
   },
   {
    "duration": 787,
    "start_time": "2023-04-23T10:15:57.647Z"
   },
   {
    "duration": 233,
    "start_time": "2023-04-23T10:16:36.911Z"
   },
   {
    "duration": 18,
    "start_time": "2023-04-23T10:20:43.922Z"
   },
   {
    "duration": 221,
    "start_time": "2023-04-23T10:20:51.468Z"
   },
   {
    "duration": 13,
    "start_time": "2023-04-23T10:22:29.802Z"
   },
   {
    "duration": 9,
    "start_time": "2023-04-23T10:22:36.661Z"
   },
   {
    "duration": 44,
    "start_time": "2023-04-23T10:22:41.680Z"
   },
   {
    "duration": 225,
    "start_time": "2023-04-23T10:22:43.921Z"
   },
   {
    "duration": 11,
    "start_time": "2023-04-23T10:22:44.459Z"
   },
   {
    "duration": 130,
    "start_time": "2023-04-23T10:22:53.759Z"
   },
   {
    "duration": 10,
    "start_time": "2023-04-23T10:22:57.152Z"
   },
   {
    "duration": 256,
    "start_time": "2023-04-23T10:23:00.269Z"
   },
   {
    "duration": 1149,
    "start_time": "2023-04-23T10:24:30.369Z"
   },
   {
    "duration": 58,
    "start_time": "2023-04-23T10:24:31.520Z"
   },
   {
    "duration": 38,
    "start_time": "2023-04-23T10:24:31.580Z"
   },
   {
    "duration": 49,
    "start_time": "2023-04-23T10:24:31.619Z"
   },
   {
    "duration": 54,
    "start_time": "2023-04-23T10:24:31.670Z"
   },
   {
    "duration": 113,
    "start_time": "2023-04-23T10:24:31.725Z"
   },
   {
    "duration": 68,
    "start_time": "2023-04-23T10:24:31.840Z"
   },
   {
    "duration": 37,
    "start_time": "2023-04-23T10:24:31.910Z"
   },
   {
    "duration": 59,
    "start_time": "2023-04-23T10:24:31.948Z"
   },
   {
    "duration": 58,
    "start_time": "2023-04-23T10:24:32.009Z"
   },
   {
    "duration": 56,
    "start_time": "2023-04-23T10:24:32.069Z"
   },
   {
    "duration": 20,
    "start_time": "2023-04-23T10:24:32.127Z"
   },
   {
    "duration": 47,
    "start_time": "2023-04-23T10:24:32.148Z"
   },
   {
    "duration": 32,
    "start_time": "2023-04-23T10:24:32.199Z"
   },
   {
    "duration": 32,
    "start_time": "2023-04-23T10:24:32.232Z"
   },
   {
    "duration": 47,
    "start_time": "2023-04-23T10:24:32.266Z"
   },
   {
    "duration": 74,
    "start_time": "2023-04-23T10:24:32.315Z"
   },
   {
    "duration": 53,
    "start_time": "2023-04-23T10:24:32.391Z"
   },
   {
    "duration": 29,
    "start_time": "2023-04-23T10:24:32.446Z"
   },
   {
    "duration": 216,
    "start_time": "2023-04-23T10:24:32.478Z"
   },
   {
    "duration": 7,
    "start_time": "2023-04-23T10:24:32.696Z"
   },
   {
    "duration": 214,
    "start_time": "2023-04-23T10:24:32.705Z"
   },
   {
    "duration": 10,
    "start_time": "2023-04-23T10:24:32.921Z"
   },
   {
    "duration": 60,
    "start_time": "2023-04-23T10:24:32.932Z"
   },
   {
    "duration": 46,
    "start_time": "2023-04-23T10:24:32.994Z"
   },
   {
    "duration": 185,
    "start_time": "2023-04-23T10:24:33.042Z"
   },
   {
    "duration": 30,
    "start_time": "2023-04-23T10:24:33.229Z"
   },
   {
    "duration": 23,
    "start_time": "2023-04-23T10:24:33.261Z"
   },
   {
    "duration": 243,
    "start_time": "2023-04-23T10:24:33.285Z"
   },
   {
    "duration": 14,
    "start_time": "2023-04-23T10:24:33.530Z"
   },
   {
    "duration": 21,
    "start_time": "2023-04-23T10:24:33.545Z"
   },
   {
    "duration": 79,
    "start_time": "2023-04-23T10:24:33.567Z"
   },
   {
    "duration": 46,
    "start_time": "2023-04-23T10:24:33.647Z"
   },
   {
    "duration": 24,
    "start_time": "2023-04-23T10:24:33.695Z"
   },
   {
    "duration": 272,
    "start_time": "2023-04-23T10:24:33.721Z"
   },
   {
    "duration": 9,
    "start_time": "2023-04-23T10:24:33.995Z"
   },
   {
    "duration": 236,
    "start_time": "2023-04-23T10:24:34.005Z"
   },
   {
    "duration": 234,
    "start_time": "2023-04-23T10:24:34.243Z"
   },
   {
    "duration": 20,
    "start_time": "2023-04-23T10:24:34.479Z"
   },
   {
    "duration": 31,
    "start_time": "2023-04-23T10:24:34.500Z"
   },
   {
    "duration": 16,
    "start_time": "2023-04-23T10:24:34.535Z"
   },
   {
    "duration": 19,
    "start_time": "2023-04-23T10:24:34.553Z"
   },
   {
    "duration": 36,
    "start_time": "2023-04-23T10:24:34.574Z"
   },
   {
    "duration": 35,
    "start_time": "2023-04-23T10:24:34.612Z"
   },
   {
    "duration": 36,
    "start_time": "2023-04-23T10:24:34.649Z"
   },
   {
    "duration": 174,
    "start_time": "2023-04-23T10:24:34.687Z"
   },
   {
    "duration": 9,
    "start_time": "2023-04-23T10:24:34.863Z"
   },
   {
    "duration": 78,
    "start_time": "2023-04-23T10:24:34.873Z"
   },
   {
    "duration": 15,
    "start_time": "2023-04-23T10:34:58.776Z"
   },
   {
    "duration": 17,
    "start_time": "2023-04-23T10:35:06.926Z"
   },
   {
    "duration": 7,
    "start_time": "2023-04-23T10:35:09.772Z"
   },
   {
    "duration": 129,
    "start_time": "2023-04-23T10:35:13.513Z"
   },
   {
    "duration": 60,
    "start_time": "2023-04-23T10:35:42.851Z"
   },
   {
    "duration": 10,
    "start_time": "2023-04-23T10:35:49.831Z"
   },
   {
    "duration": 47,
    "start_time": "2023-04-23T10:37:39.745Z"
   },
   {
    "duration": 37,
    "start_time": "2023-04-23T10:40:12.953Z"
   },
   {
    "duration": 134,
    "start_time": "2023-04-23T10:40:27.056Z"
   },
   {
    "duration": 48,
    "start_time": "2023-04-23T10:40:37.752Z"
   },
   {
    "duration": 49,
    "start_time": "2023-04-23T10:41:28.049Z"
   },
   {
    "duration": 48,
    "start_time": "2023-04-23T10:41:41.329Z"
   },
   {
    "duration": 148,
    "start_time": "2023-04-23T10:43:13.969Z"
   },
   {
    "duration": 809,
    "start_time": "2023-04-23T10:45:12.421Z"
   },
   {
    "duration": 1242,
    "start_time": "2023-04-23T10:45:32.069Z"
   },
   {
    "duration": 1357,
    "start_time": "2023-04-23T10:45:41.541Z"
   },
   {
    "duration": 242,
    "start_time": "2023-04-23T10:46:22.529Z"
   },
   {
    "duration": 217,
    "start_time": "2023-04-23T10:46:30.864Z"
   },
   {
    "duration": 13,
    "start_time": "2023-04-23T10:57:16.280Z"
   },
   {
    "duration": 20,
    "start_time": "2023-04-23T10:57:22.931Z"
   },
   {
    "duration": 13,
    "start_time": "2023-04-23T10:58:29.973Z"
   },
   {
    "duration": 1091,
    "start_time": "2023-04-23T10:58:45.305Z"
   },
   {
    "duration": 56,
    "start_time": "2023-04-23T10:58:46.398Z"
   },
   {
    "duration": 21,
    "start_time": "2023-04-23T10:58:46.456Z"
   },
   {
    "duration": 30,
    "start_time": "2023-04-23T10:58:46.480Z"
   },
   {
    "duration": 52,
    "start_time": "2023-04-23T10:58:46.512Z"
   },
   {
    "duration": 17,
    "start_time": "2023-04-23T10:58:46.566Z"
   },
   {
    "duration": 56,
    "start_time": "2023-04-23T10:58:46.585Z"
   },
   {
    "duration": 18,
    "start_time": "2023-04-23T10:58:46.643Z"
   },
   {
    "duration": 31,
    "start_time": "2023-04-23T10:58:46.663Z"
   },
   {
    "duration": 17,
    "start_time": "2023-04-23T10:58:46.697Z"
   },
   {
    "duration": 31,
    "start_time": "2023-04-23T10:58:46.716Z"
   },
   {
    "duration": 6,
    "start_time": "2023-04-23T10:58:46.749Z"
   },
   {
    "duration": 28,
    "start_time": "2023-04-23T10:58:46.756Z"
   },
   {
    "duration": 8,
    "start_time": "2023-04-23T10:58:46.785Z"
   },
   {
    "duration": 23,
    "start_time": "2023-04-23T10:58:46.795Z"
   },
   {
    "duration": 19,
    "start_time": "2023-04-23T10:58:46.820Z"
   },
   {
    "duration": 25,
    "start_time": "2023-04-23T10:58:46.841Z"
   },
   {
    "duration": 39,
    "start_time": "2023-04-23T10:58:46.868Z"
   },
   {
    "duration": 33,
    "start_time": "2023-04-23T10:58:46.908Z"
   },
   {
    "duration": 201,
    "start_time": "2023-04-23T10:58:46.942Z"
   },
   {
    "duration": 9,
    "start_time": "2023-04-23T10:58:47.145Z"
   },
   {
    "duration": 204,
    "start_time": "2023-04-23T10:58:47.156Z"
   },
   {
    "duration": 9,
    "start_time": "2023-04-23T10:58:47.362Z"
   },
   {
    "duration": 17,
    "start_time": "2023-04-23T10:58:47.373Z"
   },
   {
    "duration": 29,
    "start_time": "2023-04-23T10:58:47.392Z"
   },
   {
    "duration": 169,
    "start_time": "2023-04-23T10:58:47.422Z"
   },
   {
    "duration": 40,
    "start_time": "2023-04-23T10:58:47.593Z"
   },
   {
    "duration": 20,
    "start_time": "2023-04-23T10:58:47.636Z"
   },
   {
    "duration": 244,
    "start_time": "2023-04-23T10:58:47.658Z"
   },
   {
    "duration": 23,
    "start_time": "2023-04-23T10:58:47.903Z"
   },
   {
    "duration": 6,
    "start_time": "2023-04-23T10:58:47.928Z"
   },
   {
    "duration": 61,
    "start_time": "2023-04-23T10:58:47.935Z"
   },
   {
    "duration": 66,
    "start_time": "2023-04-23T10:58:47.997Z"
   },
   {
    "duration": 10,
    "start_time": "2023-04-23T10:58:48.064Z"
   },
   {
    "duration": 305,
    "start_time": "2023-04-23T10:58:48.076Z"
   },
   {
    "duration": 8,
    "start_time": "2023-04-23T10:58:48.383Z"
   },
   {
    "duration": 236,
    "start_time": "2023-04-23T10:58:48.393Z"
   },
   {
    "duration": 233,
    "start_time": "2023-04-23T10:58:48.631Z"
   },
   {
    "duration": 16,
    "start_time": "2023-04-23T10:58:48.866Z"
   },
   {
    "duration": 36,
    "start_time": "2023-04-23T10:58:48.883Z"
   },
   {
    "duration": 15,
    "start_time": "2023-04-23T10:58:48.920Z"
   },
   {
    "duration": 20,
    "start_time": "2023-04-23T10:58:48.936Z"
   },
   {
    "duration": 18,
    "start_time": "2023-04-23T10:58:48.958Z"
   },
   {
    "duration": 21,
    "start_time": "2023-04-23T10:58:48.978Z"
   },
   {
    "duration": 42,
    "start_time": "2023-04-23T10:58:49.001Z"
   },
   {
    "duration": 19,
    "start_time": "2023-04-23T10:58:49.045Z"
   },
   {
    "duration": 186,
    "start_time": "2023-04-23T10:58:49.066Z"
   },
   {
    "duration": 11,
    "start_time": "2023-04-23T10:58:49.254Z"
   },
   {
    "duration": 12,
    "start_time": "2023-04-23T10:58:49.267Z"
   },
   {
    "duration": 11,
    "start_time": "2023-04-23T11:02:44.844Z"
   },
   {
    "duration": 1188,
    "start_time": "2023-04-23T11:02:56.708Z"
   },
   {
    "duration": 55,
    "start_time": "2023-04-23T11:02:57.898Z"
   },
   {
    "duration": 19,
    "start_time": "2023-04-23T11:02:57.955Z"
   },
   {
    "duration": 19,
    "start_time": "2023-04-23T11:02:57.976Z"
   },
   {
    "duration": 29,
    "start_time": "2023-04-23T11:02:57.996Z"
   },
   {
    "duration": 13,
    "start_time": "2023-04-23T11:02:58.027Z"
   },
   {
    "duration": 25,
    "start_time": "2023-04-23T11:02:58.042Z"
   },
   {
    "duration": 19,
    "start_time": "2023-04-23T11:02:58.069Z"
   },
   {
    "duration": 40,
    "start_time": "2023-04-23T11:02:58.090Z"
   },
   {
    "duration": 9,
    "start_time": "2023-04-23T11:02:58.134Z"
   },
   {
    "duration": 29,
    "start_time": "2023-04-23T11:02:58.145Z"
   },
   {
    "duration": 6,
    "start_time": "2023-04-23T11:02:58.176Z"
   },
   {
    "duration": 45,
    "start_time": "2023-04-23T11:02:58.183Z"
   },
   {
    "duration": 6,
    "start_time": "2023-04-23T11:02:58.230Z"
   },
   {
    "duration": 10,
    "start_time": "2023-04-23T11:02:58.238Z"
   },
   {
    "duration": 20,
    "start_time": "2023-04-23T11:02:58.250Z"
   },
   {
    "duration": 24,
    "start_time": "2023-04-23T11:02:58.272Z"
   },
   {
    "duration": 50,
    "start_time": "2023-04-23T11:02:58.298Z"
   },
   {
    "duration": 27,
    "start_time": "2023-04-23T11:02:58.350Z"
   },
   {
    "duration": 206,
    "start_time": "2023-04-23T11:02:58.379Z"
   },
   {
    "duration": 9,
    "start_time": "2023-04-23T11:02:58.587Z"
   },
   {
    "duration": 207,
    "start_time": "2023-04-23T11:02:58.597Z"
   },
   {
    "duration": 17,
    "start_time": "2023-04-23T11:02:58.806Z"
   },
   {
    "duration": 38,
    "start_time": "2023-04-23T11:02:58.825Z"
   },
   {
    "duration": 24,
    "start_time": "2023-04-23T11:02:58.865Z"
   },
   {
    "duration": 185,
    "start_time": "2023-04-23T11:02:58.891Z"
   },
   {
    "duration": 39,
    "start_time": "2023-04-23T11:02:59.078Z"
   },
   {
    "duration": 7,
    "start_time": "2023-04-23T11:02:59.121Z"
   },
   {
    "duration": 248,
    "start_time": "2023-04-23T11:02:59.130Z"
   },
   {
    "duration": 15,
    "start_time": "2023-04-23T11:02:59.380Z"
   },
   {
    "duration": 23,
    "start_time": "2023-04-23T11:02:59.396Z"
   },
   {
    "duration": 60,
    "start_time": "2023-04-23T11:02:59.420Z"
   },
   {
    "duration": 67,
    "start_time": "2023-04-23T11:02:59.482Z"
   },
   {
    "duration": 11,
    "start_time": "2023-04-23T11:02:59.550Z"
   },
   {
    "duration": 293,
    "start_time": "2023-04-23T11:02:59.562Z"
   },
   {
    "duration": 9,
    "start_time": "2023-04-23T11:02:59.857Z"
   },
   {
    "duration": 284,
    "start_time": "2023-04-23T11:02:59.867Z"
   },
   {
    "duration": 220,
    "start_time": "2023-04-23T11:03:00.152Z"
   },
   {
    "duration": 16,
    "start_time": "2023-04-23T11:03:00.374Z"
   },
   {
    "duration": 62,
    "start_time": "2023-04-23T11:03:00.391Z"
   },
   {
    "duration": 68,
    "start_time": "2023-04-23T11:03:00.455Z"
   },
   {
    "duration": 36,
    "start_time": "2023-04-23T11:03:00.524Z"
   },
   {
    "duration": 103,
    "start_time": "2023-04-23T11:03:00.562Z"
   },
   {
    "duration": 46,
    "start_time": "2023-04-23T11:03:00.666Z"
   },
   {
    "duration": 55,
    "start_time": "2023-04-23T11:03:00.714Z"
   },
   {
    "duration": 49,
    "start_time": "2023-04-23T11:03:00.770Z"
   },
   {
    "duration": 57,
    "start_time": "2023-04-23T11:03:00.821Z"
   },
   {
    "duration": 195,
    "start_time": "2023-04-23T11:03:00.880Z"
   },
   {
    "duration": 8,
    "start_time": "2023-04-23T11:03:01.077Z"
   },
   {
    "duration": 80,
    "start_time": "2023-04-23T11:03:01.087Z"
   },
   {
    "duration": 11,
    "start_time": "2023-04-23T11:07:56.625Z"
   },
   {
    "duration": 17,
    "start_time": "2023-04-23T11:08:43.745Z"
   },
   {
    "duration": 17,
    "start_time": "2023-04-23T11:08:52.151Z"
   },
   {
    "duration": 1084,
    "start_time": "2023-04-23T11:09:02.809Z"
   },
   {
    "duration": 54,
    "start_time": "2023-04-23T11:09:03.895Z"
   },
   {
    "duration": 19,
    "start_time": "2023-04-23T11:09:03.951Z"
   },
   {
    "duration": 33,
    "start_time": "2023-04-23T11:09:03.972Z"
   },
   {
    "duration": 33,
    "start_time": "2023-04-23T11:09:04.007Z"
   },
   {
    "duration": 25,
    "start_time": "2023-04-23T11:09:04.042Z"
   },
   {
    "duration": 64,
    "start_time": "2023-04-23T11:09:04.069Z"
   },
   {
    "duration": 18,
    "start_time": "2023-04-23T11:09:04.134Z"
   },
   {
    "duration": 17,
    "start_time": "2023-04-23T11:09:04.154Z"
   },
   {
    "duration": 16,
    "start_time": "2023-04-23T11:09:04.172Z"
   },
   {
    "duration": 49,
    "start_time": "2023-04-23T11:09:04.190Z"
   },
   {
    "duration": 25,
    "start_time": "2023-04-23T11:09:04.241Z"
   },
   {
    "duration": 45,
    "start_time": "2023-04-23T11:09:04.268Z"
   },
   {
    "duration": 30,
    "start_time": "2023-04-23T11:09:04.317Z"
   },
   {
    "duration": 28,
    "start_time": "2023-04-23T11:09:04.349Z"
   },
   {
    "duration": 33,
    "start_time": "2023-04-23T11:09:04.378Z"
   },
   {
    "duration": 32,
    "start_time": "2023-04-23T11:09:04.413Z"
   },
   {
    "duration": 47,
    "start_time": "2023-04-23T11:09:04.447Z"
   },
   {
    "duration": 26,
    "start_time": "2023-04-23T11:09:04.496Z"
   },
   {
    "duration": 207,
    "start_time": "2023-04-23T11:09:04.523Z"
   },
   {
    "duration": 7,
    "start_time": "2023-04-23T11:09:04.731Z"
   },
   {
    "duration": 200,
    "start_time": "2023-04-23T11:09:04.740Z"
   },
   {
    "duration": 9,
    "start_time": "2023-04-23T11:09:04.942Z"
   },
   {
    "duration": 41,
    "start_time": "2023-04-23T11:09:04.952Z"
   },
   {
    "duration": 10,
    "start_time": "2023-04-23T11:09:04.995Z"
   },
   {
    "duration": 187,
    "start_time": "2023-04-23T11:09:05.007Z"
   },
   {
    "duration": 32,
    "start_time": "2023-04-23T11:09:05.197Z"
   },
   {
    "duration": 31,
    "start_time": "2023-04-23T11:09:05.231Z"
   },
   {
    "duration": 269,
    "start_time": "2023-04-23T11:09:05.264Z"
   },
   {
    "duration": 15,
    "start_time": "2023-04-23T11:09:05.535Z"
   },
   {
    "duration": 38,
    "start_time": "2023-04-23T11:09:05.552Z"
   },
   {
    "duration": 62,
    "start_time": "2023-04-23T11:09:05.591Z"
   },
   {
    "duration": 70,
    "start_time": "2023-04-23T11:09:05.655Z"
   },
   {
    "duration": 10,
    "start_time": "2023-04-23T11:09:05.727Z"
   },
   {
    "duration": 336,
    "start_time": "2023-04-23T11:09:05.739Z"
   },
   {
    "duration": 9,
    "start_time": "2023-04-23T11:09:06.077Z"
   },
   {
    "duration": 288,
    "start_time": "2023-04-23T11:09:06.088Z"
   },
   {
    "duration": 248,
    "start_time": "2023-04-23T11:09:06.378Z"
   },
   {
    "duration": 20,
    "start_time": "2023-04-23T11:09:06.628Z"
   },
   {
    "duration": 29,
    "start_time": "2023-04-23T11:09:06.650Z"
   },
   {
    "duration": 59,
    "start_time": "2023-04-23T11:09:06.683Z"
   },
   {
    "duration": 18,
    "start_time": "2023-04-23T11:09:06.744Z"
   },
   {
    "duration": 52,
    "start_time": "2023-04-23T11:09:06.764Z"
   },
   {
    "duration": 37,
    "start_time": "2023-04-23T11:09:06.818Z"
   },
   {
    "duration": 47,
    "start_time": "2023-04-23T11:09:06.857Z"
   },
   {
    "duration": 37,
    "start_time": "2023-04-23T11:09:06.905Z"
   },
   {
    "duration": 37,
    "start_time": "2023-04-23T11:09:06.943Z"
   },
   {
    "duration": 226,
    "start_time": "2023-04-23T11:09:06.982Z"
   },
   {
    "duration": 14,
    "start_time": "2023-04-23T11:09:07.209Z"
   },
   {
    "duration": 16,
    "start_time": "2023-04-23T11:09:07.224Z"
   },
   {
    "duration": 17,
    "start_time": "2023-04-23T11:11:54.117Z"
   },
   {
    "duration": 19,
    "start_time": "2023-04-23T11:12:27.449Z"
   },
   {
    "duration": 1185,
    "start_time": "2023-04-23T11:12:34.540Z"
   },
   {
    "duration": 57,
    "start_time": "2023-04-23T11:12:35.727Z"
   },
   {
    "duration": 19,
    "start_time": "2023-04-23T11:12:35.786Z"
   },
   {
    "duration": 45,
    "start_time": "2023-04-23T11:12:35.808Z"
   },
   {
    "duration": 46,
    "start_time": "2023-04-23T11:12:35.855Z"
   },
   {
    "duration": 37,
    "start_time": "2023-04-23T11:12:35.903Z"
   },
   {
    "duration": 36,
    "start_time": "2023-04-23T11:12:35.941Z"
   },
   {
    "duration": 17,
    "start_time": "2023-04-23T11:12:35.979Z"
   },
   {
    "duration": 21,
    "start_time": "2023-04-23T11:12:35.998Z"
   },
   {
    "duration": 8,
    "start_time": "2023-04-23T11:12:36.022Z"
   },
   {
    "duration": 35,
    "start_time": "2023-04-23T11:12:36.032Z"
   },
   {
    "duration": 5,
    "start_time": "2023-04-23T11:12:36.069Z"
   },
   {
    "duration": 34,
    "start_time": "2023-04-23T11:12:36.075Z"
   },
   {
    "duration": 9,
    "start_time": "2023-04-23T11:12:36.110Z"
   },
   {
    "duration": 15,
    "start_time": "2023-04-23T11:12:36.120Z"
   },
   {
    "duration": 23,
    "start_time": "2023-04-23T11:12:36.137Z"
   },
   {
    "duration": 25,
    "start_time": "2023-04-23T11:12:36.162Z"
   },
   {
    "duration": 39,
    "start_time": "2023-04-23T11:12:36.189Z"
   },
   {
    "duration": 26,
    "start_time": "2023-04-23T11:12:36.230Z"
   },
   {
    "duration": 212,
    "start_time": "2023-04-23T11:12:36.258Z"
   },
   {
    "duration": 8,
    "start_time": "2023-04-23T11:12:36.472Z"
   },
   {
    "duration": 201,
    "start_time": "2023-04-23T11:12:36.482Z"
   },
   {
    "duration": 8,
    "start_time": "2023-04-23T11:12:36.685Z"
   },
   {
    "duration": 36,
    "start_time": "2023-04-23T11:12:36.694Z"
   },
   {
    "duration": 7,
    "start_time": "2023-04-23T11:12:36.732Z"
   },
   {
    "duration": 184,
    "start_time": "2023-04-23T11:12:36.741Z"
   },
   {
    "duration": 30,
    "start_time": "2023-04-23T11:12:36.927Z"
   },
   {
    "duration": 15,
    "start_time": "2023-04-23T11:12:36.961Z"
   },
   {
    "duration": 270,
    "start_time": "2023-04-23T11:12:36.978Z"
   },
   {
    "duration": 17,
    "start_time": "2023-04-23T11:12:37.250Z"
   },
   {
    "duration": 7,
    "start_time": "2023-04-23T11:12:37.269Z"
   },
   {
    "duration": 79,
    "start_time": "2023-04-23T11:12:37.278Z"
   },
   {
    "duration": 64,
    "start_time": "2023-04-23T11:12:37.359Z"
   },
   {
    "duration": 11,
    "start_time": "2023-04-23T11:12:37.425Z"
   },
   {
    "duration": 290,
    "start_time": "2023-04-23T11:12:37.438Z"
   },
   {
    "duration": 9,
    "start_time": "2023-04-23T11:12:37.730Z"
   },
   {
    "duration": 246,
    "start_time": "2023-04-23T11:12:37.740Z"
   },
   {
    "duration": 242,
    "start_time": "2023-04-23T11:12:37.988Z"
   },
   {
    "duration": 17,
    "start_time": "2023-04-23T11:12:38.232Z"
   },
   {
    "duration": 6,
    "start_time": "2023-04-23T11:12:38.251Z"
   },
   {
    "duration": 27,
    "start_time": "2023-04-23T11:12:38.258Z"
   },
   {
    "duration": 44,
    "start_time": "2023-04-23T11:12:38.287Z"
   },
   {
    "duration": 27,
    "start_time": "2023-04-23T11:12:38.333Z"
   },
   {
    "duration": 16,
    "start_time": "2023-04-23T11:12:38.362Z"
   },
   {
    "duration": 43,
    "start_time": "2023-04-23T11:12:38.380Z"
   },
   {
    "duration": 29,
    "start_time": "2023-04-23T11:12:38.425Z"
   },
   {
    "duration": 39,
    "start_time": "2023-04-23T11:12:38.456Z"
   },
   {
    "duration": 205,
    "start_time": "2023-04-23T11:12:38.497Z"
   },
   {
    "duration": 15,
    "start_time": "2023-04-23T11:12:38.704Z"
   },
   {
    "duration": 45,
    "start_time": "2023-04-23T11:12:38.721Z"
   },
   {
    "duration": 14,
    "start_time": "2023-04-23T11:13:16.129Z"
   },
   {
    "duration": 13,
    "start_time": "2023-04-23T11:13:20.321Z"
   },
   {
    "duration": 1251,
    "start_time": "2023-04-23T11:13:42.851Z"
   },
   {
    "duration": 55,
    "start_time": "2023-04-23T11:13:44.104Z"
   },
   {
    "duration": 21,
    "start_time": "2023-04-23T11:13:44.161Z"
   },
   {
    "duration": 16,
    "start_time": "2023-04-23T11:13:44.183Z"
   },
   {
    "duration": 23,
    "start_time": "2023-04-23T11:13:44.201Z"
   },
   {
    "duration": 16,
    "start_time": "2023-04-23T11:13:44.226Z"
   },
   {
    "duration": 33,
    "start_time": "2023-04-23T11:13:44.243Z"
   },
   {
    "duration": 19,
    "start_time": "2023-04-23T11:13:44.277Z"
   },
   {
    "duration": 27,
    "start_time": "2023-04-23T11:13:44.297Z"
   },
   {
    "duration": 8,
    "start_time": "2023-04-23T11:13:44.326Z"
   },
   {
    "duration": 51,
    "start_time": "2023-04-23T11:13:44.336Z"
   },
   {
    "duration": 5,
    "start_time": "2023-04-23T11:13:44.389Z"
   },
   {
    "duration": 38,
    "start_time": "2023-04-23T11:13:44.396Z"
   },
   {
    "duration": 5,
    "start_time": "2023-04-23T11:13:44.437Z"
   },
   {
    "duration": 14,
    "start_time": "2023-04-23T11:13:44.444Z"
   },
   {
    "duration": 15,
    "start_time": "2023-04-23T11:13:44.460Z"
   },
   {
    "duration": 24,
    "start_time": "2023-04-23T11:13:44.477Z"
   },
   {
    "duration": 50,
    "start_time": "2023-04-23T11:13:44.503Z"
   },
   {
    "duration": 27,
    "start_time": "2023-04-23T11:13:44.555Z"
   },
   {
    "duration": 199,
    "start_time": "2023-04-23T11:13:44.584Z"
   },
   {
    "duration": 7,
    "start_time": "2023-04-23T11:13:44.784Z"
   },
   {
    "duration": 214,
    "start_time": "2023-04-23T11:13:44.793Z"
   },
   {
    "duration": 14,
    "start_time": "2023-04-23T11:13:45.008Z"
   },
   {
    "duration": 22,
    "start_time": "2023-04-23T11:13:45.024Z"
   },
   {
    "duration": 5,
    "start_time": "2023-04-23T11:13:45.047Z"
   },
   {
    "duration": 188,
    "start_time": "2023-04-23T11:13:45.054Z"
   },
   {
    "duration": 30,
    "start_time": "2023-04-23T11:13:45.243Z"
   },
   {
    "duration": 9,
    "start_time": "2023-04-23T11:13:45.274Z"
   },
   {
    "duration": 261,
    "start_time": "2023-04-23T11:13:45.285Z"
   },
   {
    "duration": 15,
    "start_time": "2023-04-23T11:13:45.547Z"
   },
   {
    "duration": 7,
    "start_time": "2023-04-23T11:13:45.564Z"
   },
   {
    "duration": 76,
    "start_time": "2023-04-23T11:13:45.572Z"
   },
   {
    "duration": 71,
    "start_time": "2023-04-23T11:13:45.650Z"
   },
   {
    "duration": 10,
    "start_time": "2023-04-23T11:13:45.723Z"
   },
   {
    "duration": 300,
    "start_time": "2023-04-23T11:13:45.735Z"
   },
   {
    "duration": 9,
    "start_time": "2023-04-23T11:13:46.037Z"
   },
   {
    "duration": 239,
    "start_time": "2023-04-23T11:13:46.048Z"
   },
   {
    "duration": 222,
    "start_time": "2023-04-23T11:13:46.289Z"
   },
   {
    "duration": 20,
    "start_time": "2023-04-23T11:13:46.513Z"
   },
   {
    "duration": 38,
    "start_time": "2023-04-23T11:13:46.535Z"
   },
   {
    "duration": 18,
    "start_time": "2023-04-23T11:13:46.577Z"
   },
   {
    "duration": 43,
    "start_time": "2023-04-23T11:13:46.597Z"
   },
   {
    "duration": 41,
    "start_time": "2023-04-23T11:13:46.643Z"
   },
   {
    "duration": 36,
    "start_time": "2023-04-23T11:13:46.685Z"
   },
   {
    "duration": 16,
    "start_time": "2023-04-23T11:13:46.723Z"
   },
   {
    "duration": 32,
    "start_time": "2023-04-23T11:13:46.741Z"
   },
   {
    "duration": 184,
    "start_time": "2023-04-23T11:13:46.775Z"
   },
   {
    "duration": 11,
    "start_time": "2023-04-23T11:13:46.961Z"
   },
   {
    "duration": 25,
    "start_time": "2023-04-23T11:13:46.975Z"
   },
   {
    "duration": 7,
    "start_time": "2023-04-23T11:15:24.649Z"
   },
   {
    "duration": 1134,
    "start_time": "2023-04-23T11:15:37.548Z"
   },
   {
    "duration": 56,
    "start_time": "2023-04-23T11:15:38.683Z"
   },
   {
    "duration": 19,
    "start_time": "2023-04-23T11:15:38.741Z"
   },
   {
    "duration": 25,
    "start_time": "2023-04-23T11:15:38.763Z"
   },
   {
    "duration": 29,
    "start_time": "2023-04-23T11:15:38.789Z"
   },
   {
    "duration": 14,
    "start_time": "2023-04-23T11:15:38.820Z"
   },
   {
    "duration": 36,
    "start_time": "2023-04-23T11:15:38.836Z"
   },
   {
    "duration": 19,
    "start_time": "2023-04-23T11:15:38.874Z"
   },
   {
    "duration": 49,
    "start_time": "2023-04-23T11:15:38.895Z"
   },
   {
    "duration": 8,
    "start_time": "2023-04-23T11:15:38.947Z"
   },
   {
    "duration": 36,
    "start_time": "2023-04-23T11:15:38.956Z"
   },
   {
    "duration": 6,
    "start_time": "2023-04-23T11:15:38.994Z"
   },
   {
    "duration": 26,
    "start_time": "2023-04-23T11:15:39.001Z"
   },
   {
    "duration": 15,
    "start_time": "2023-04-23T11:15:39.029Z"
   },
   {
    "duration": 14,
    "start_time": "2023-04-23T11:15:39.046Z"
   },
   {
    "duration": 12,
    "start_time": "2023-04-23T11:15:39.061Z"
   },
   {
    "duration": 49,
    "start_time": "2023-04-23T11:15:39.075Z"
   },
   {
    "duration": 47,
    "start_time": "2023-04-23T11:15:39.126Z"
   },
   {
    "duration": 44,
    "start_time": "2023-04-23T11:15:39.175Z"
   },
   {
    "duration": 190,
    "start_time": "2023-04-23T11:15:39.221Z"
   },
   {
    "duration": 8,
    "start_time": "2023-04-23T11:15:39.417Z"
   },
   {
    "duration": 194,
    "start_time": "2023-04-23T11:15:39.427Z"
   },
   {
    "duration": 7,
    "start_time": "2023-04-23T11:15:39.623Z"
   },
   {
    "duration": 19,
    "start_time": "2023-04-23T11:15:39.632Z"
   },
   {
    "duration": 5,
    "start_time": "2023-04-23T11:15:39.652Z"
   },
   {
    "duration": 178,
    "start_time": "2023-04-23T11:15:39.659Z"
   },
   {
    "duration": 28,
    "start_time": "2023-04-23T11:15:39.839Z"
   },
   {
    "duration": 17,
    "start_time": "2023-04-23T11:15:39.871Z"
   },
   {
    "duration": 248,
    "start_time": "2023-04-23T11:15:39.890Z"
   },
   {
    "duration": 16,
    "start_time": "2023-04-23T11:15:40.140Z"
   },
   {
    "duration": 17,
    "start_time": "2023-04-23T11:15:40.158Z"
   },
   {
    "duration": 85,
    "start_time": "2023-04-23T11:15:40.177Z"
   },
   {
    "duration": 67,
    "start_time": "2023-04-23T11:15:40.265Z"
   },
   {
    "duration": 10,
    "start_time": "2023-04-23T11:15:40.334Z"
   },
   {
    "duration": 293,
    "start_time": "2023-04-23T11:15:40.346Z"
   },
   {
    "duration": 10,
    "start_time": "2023-04-23T11:15:40.641Z"
   },
   {
    "duration": 241,
    "start_time": "2023-04-23T11:15:40.653Z"
   },
   {
    "duration": 225,
    "start_time": "2023-04-23T11:15:40.895Z"
   },
   {
    "duration": 9,
    "start_time": "2023-04-23T11:15:41.121Z"
   },
   {
    "duration": 28,
    "start_time": "2023-04-23T11:15:41.132Z"
   },
   {
    "duration": 14,
    "start_time": "2023-04-23T11:15:41.162Z"
   },
   {
    "duration": 16,
    "start_time": "2023-04-23T11:15:41.178Z"
   },
   {
    "duration": 13,
    "start_time": "2023-04-23T11:15:41.217Z"
   },
   {
    "duration": 17,
    "start_time": "2023-04-23T11:15:41.232Z"
   },
   {
    "duration": 13,
    "start_time": "2023-04-23T11:15:41.251Z"
   },
   {
    "duration": 34,
    "start_time": "2023-04-23T11:15:41.266Z"
   },
   {
    "duration": 202,
    "start_time": "2023-04-23T11:15:41.302Z"
   },
   {
    "duration": 13,
    "start_time": "2023-04-23T11:15:41.506Z"
   },
   {
    "duration": 10,
    "start_time": "2023-04-23T11:15:41.521Z"
   },
   {
    "duration": 63,
    "start_time": "2023-04-23T11:16:34.348Z"
   },
   {
    "duration": 58,
    "start_time": "2023-04-23T11:16:48.354Z"
   },
   {
    "duration": 105,
    "start_time": "2023-04-23T11:17:25.673Z"
   },
   {
    "duration": 9,
    "start_time": "2023-04-23T11:18:17.098Z"
   },
   {
    "duration": 1155,
    "start_time": "2023-04-23T11:18:23.740Z"
   },
   {
    "duration": 55,
    "start_time": "2023-04-23T11:18:24.897Z"
   },
   {
    "duration": 19,
    "start_time": "2023-04-23T11:18:24.954Z"
   },
   {
    "duration": 15,
    "start_time": "2023-04-23T11:18:24.976Z"
   },
   {
    "duration": 28,
    "start_time": "2023-04-23T11:18:24.993Z"
   },
   {
    "duration": 15,
    "start_time": "2023-04-23T11:18:25.022Z"
   },
   {
    "duration": 27,
    "start_time": "2023-04-23T11:18:25.038Z"
   },
   {
    "duration": 16,
    "start_time": "2023-04-23T11:18:25.067Z"
   },
   {
    "duration": 37,
    "start_time": "2023-04-23T11:18:25.084Z"
   },
   {
    "duration": 7,
    "start_time": "2023-04-23T11:18:25.123Z"
   },
   {
    "duration": 28,
    "start_time": "2023-04-23T11:18:25.132Z"
   },
   {
    "duration": 5,
    "start_time": "2023-04-23T11:18:25.162Z"
   },
   {
    "duration": 22,
    "start_time": "2023-04-23T11:18:25.169Z"
   },
   {
    "duration": 10,
    "start_time": "2023-04-23T11:18:25.193Z"
   },
   {
    "duration": 16,
    "start_time": "2023-04-23T11:18:25.204Z"
   },
   {
    "duration": 12,
    "start_time": "2023-04-23T11:18:25.221Z"
   },
   {
    "duration": 35,
    "start_time": "2023-04-23T11:18:25.234Z"
   },
   {
    "duration": 34,
    "start_time": "2023-04-23T11:18:25.271Z"
   },
   {
    "duration": 38,
    "start_time": "2023-04-23T11:18:25.306Z"
   },
   {
    "duration": 184,
    "start_time": "2023-04-23T11:18:25.346Z"
   },
   {
    "duration": 6,
    "start_time": "2023-04-23T11:18:25.532Z"
   },
   {
    "duration": 188,
    "start_time": "2023-04-23T11:18:25.539Z"
   },
   {
    "duration": 9,
    "start_time": "2023-04-23T11:18:25.729Z"
   },
   {
    "duration": 16,
    "start_time": "2023-04-23T11:18:25.739Z"
   },
   {
    "duration": 6,
    "start_time": "2023-04-23T11:18:25.757Z"
   },
   {
    "duration": 188,
    "start_time": "2023-04-23T11:18:25.764Z"
   },
   {
    "duration": 30,
    "start_time": "2023-04-23T11:18:25.954Z"
   },
   {
    "duration": 12,
    "start_time": "2023-04-23T11:18:25.987Z"
   },
   {
    "duration": 254,
    "start_time": "2023-04-23T11:18:26.001Z"
   },
   {
    "duration": 15,
    "start_time": "2023-04-23T11:18:26.257Z"
   },
   {
    "duration": 6,
    "start_time": "2023-04-23T11:18:26.274Z"
   },
   {
    "duration": 71,
    "start_time": "2023-04-23T11:18:26.282Z"
   },
   {
    "duration": 65,
    "start_time": "2023-04-23T11:18:26.355Z"
   },
   {
    "duration": 10,
    "start_time": "2023-04-23T11:18:26.422Z"
   },
   {
    "duration": 277,
    "start_time": "2023-04-23T11:18:26.433Z"
   },
   {
    "duration": 11,
    "start_time": "2023-04-23T11:18:26.712Z"
   },
   {
    "duration": 221,
    "start_time": "2023-04-23T11:18:26.724Z"
   },
   {
    "duration": 211,
    "start_time": "2023-04-23T11:18:26.947Z"
   },
   {
    "duration": 8,
    "start_time": "2023-04-23T11:18:27.160Z"
   },
   {
    "duration": 42,
    "start_time": "2023-04-23T11:18:27.169Z"
   },
   {
    "duration": 13,
    "start_time": "2023-04-23T11:18:27.213Z"
   },
   {
    "duration": 26,
    "start_time": "2023-04-23T11:18:27.228Z"
   },
   {
    "duration": 16,
    "start_time": "2023-04-23T11:18:27.256Z"
   },
   {
    "duration": 28,
    "start_time": "2023-04-23T11:18:27.274Z"
   },
   {
    "duration": 17,
    "start_time": "2023-04-23T11:18:27.304Z"
   },
   {
    "duration": 24,
    "start_time": "2023-04-23T11:18:27.322Z"
   },
   {
    "duration": 173,
    "start_time": "2023-04-23T11:18:27.348Z"
   },
   {
    "duration": 9,
    "start_time": "2023-04-23T11:18:27.523Z"
   },
   {
    "duration": 18,
    "start_time": "2023-04-23T11:18:27.534Z"
   },
   {
    "duration": 13,
    "start_time": "2023-04-23T11:18:55.998Z"
   },
   {
    "duration": 10,
    "start_time": "2023-04-23T11:19:53.968Z"
   },
   {
    "duration": 10,
    "start_time": "2023-04-23T11:20:07.849Z"
   },
   {
    "duration": 19,
    "start_time": "2023-04-23T11:25:50.673Z"
   },
   {
    "duration": 116,
    "start_time": "2023-04-23T11:27:30.951Z"
   },
   {
    "duration": 24,
    "start_time": "2023-04-23T11:28:00.962Z"
   },
   {
    "duration": 21,
    "start_time": "2023-04-23T11:28:26.042Z"
   },
   {
    "duration": 97,
    "start_time": "2023-04-23T11:28:54.525Z"
   },
   {
    "duration": 19,
    "start_time": "2023-04-23T11:29:08.811Z"
   },
   {
    "duration": 563,
    "start_time": "2023-04-23T11:38:20.821Z"
   },
   {
    "duration": 20,
    "start_time": "2023-04-23T11:39:33.951Z"
   },
   {
    "duration": 186,
    "start_time": "2023-04-23T11:43:48.018Z"
   },
   {
    "duration": 173,
    "start_time": "2023-04-23T11:43:59.152Z"
   },
   {
    "duration": 9,
    "start_time": "2023-04-23T11:51:34.382Z"
   },
   {
    "duration": 721,
    "start_time": "2023-04-23T11:54:58.215Z"
   },
   {
    "duration": 8,
    "start_time": "2023-04-23T11:55:40.355Z"
   },
   {
    "duration": 151,
    "start_time": "2023-04-23T11:57:37.632Z"
   },
   {
    "duration": 13,
    "start_time": "2023-04-23T11:57:54.917Z"
   },
   {
    "duration": 141,
    "start_time": "2023-04-23T11:58:12.132Z"
   },
   {
    "duration": 202,
    "start_time": "2023-04-23T11:58:51.723Z"
   },
   {
    "duration": 51,
    "start_time": "2023-04-23T12:01:59.624Z"
   },
   {
    "duration": 326,
    "start_time": "2023-04-23T12:02:27.023Z"
   },
   {
    "duration": 196,
    "start_time": "2023-04-23T12:02:51.720Z"
   },
   {
    "duration": 319,
    "start_time": "2023-04-23T12:02:55.029Z"
   },
   {
    "duration": 188,
    "start_time": "2023-04-23T12:03:16.781Z"
   },
   {
    "duration": 1157,
    "start_time": "2023-04-23T12:03:53.642Z"
   },
   {
    "duration": 57,
    "start_time": "2023-04-23T12:03:54.802Z"
   },
   {
    "duration": 19,
    "start_time": "2023-04-23T12:03:54.861Z"
   },
   {
    "duration": 34,
    "start_time": "2023-04-23T12:03:54.882Z"
   },
   {
    "duration": 22,
    "start_time": "2023-04-23T12:03:54.918Z"
   },
   {
    "duration": 16,
    "start_time": "2023-04-23T12:03:54.941Z"
   },
   {
    "duration": 36,
    "start_time": "2023-04-23T12:03:54.959Z"
   },
   {
    "duration": 17,
    "start_time": "2023-04-23T12:03:54.997Z"
   },
   {
    "duration": 14,
    "start_time": "2023-04-23T12:03:55.018Z"
   },
   {
    "duration": 12,
    "start_time": "2023-04-23T12:03:55.035Z"
   },
   {
    "duration": 32,
    "start_time": "2023-04-23T12:03:55.048Z"
   },
   {
    "duration": 6,
    "start_time": "2023-04-23T12:03:55.081Z"
   },
   {
    "duration": 37,
    "start_time": "2023-04-23T12:03:55.089Z"
   },
   {
    "duration": 5,
    "start_time": "2023-04-23T12:03:55.128Z"
   },
   {
    "duration": 18,
    "start_time": "2023-04-23T12:03:55.135Z"
   },
   {
    "duration": 22,
    "start_time": "2023-04-23T12:03:55.154Z"
   },
   {
    "duration": 30,
    "start_time": "2023-04-23T12:03:55.178Z"
   },
   {
    "duration": 40,
    "start_time": "2023-04-23T12:03:55.210Z"
   },
   {
    "duration": 27,
    "start_time": "2023-04-23T12:03:55.252Z"
   },
   {
    "duration": 201,
    "start_time": "2023-04-23T12:03:55.280Z"
   },
   {
    "duration": 7,
    "start_time": "2023-04-23T12:03:55.483Z"
   },
   {
    "duration": 200,
    "start_time": "2023-04-23T12:03:55.492Z"
   },
   {
    "duration": 9,
    "start_time": "2023-04-23T12:03:55.694Z"
   },
   {
    "duration": 30,
    "start_time": "2023-04-23T12:03:55.704Z"
   },
   {
    "duration": 6,
    "start_time": "2023-04-23T12:03:55.735Z"
   },
   {
    "duration": 191,
    "start_time": "2023-04-23T12:03:55.743Z"
   },
   {
    "duration": 31,
    "start_time": "2023-04-23T12:03:55.936Z"
   },
   {
    "duration": 21,
    "start_time": "2023-04-23T12:03:55.971Z"
   },
   {
    "duration": 249,
    "start_time": "2023-04-23T12:03:55.994Z"
   },
   {
    "duration": 16,
    "start_time": "2023-04-23T12:03:56.245Z"
   },
   {
    "duration": 7,
    "start_time": "2023-04-23T12:03:56.262Z"
   },
   {
    "duration": 75,
    "start_time": "2023-04-23T12:03:56.271Z"
   },
   {
    "duration": 197,
    "start_time": "2023-04-23T12:03:56.348Z"
   },
   {
    "duration": 59,
    "start_time": "2023-04-23T12:03:56.547Z"
   },
   {
    "duration": 10,
    "start_time": "2023-04-23T12:03:56.618Z"
   },
   {
    "duration": 315,
    "start_time": "2023-04-23T12:03:56.630Z"
   },
   {
    "duration": 9,
    "start_time": "2023-04-23T12:03:56.946Z"
   },
   {
    "duration": 242,
    "start_time": "2023-04-23T12:03:56.957Z"
   },
   {
    "duration": 222,
    "start_time": "2023-04-23T12:03:57.202Z"
   },
   {
    "duration": 10,
    "start_time": "2023-04-23T12:03:57.425Z"
   },
   {
    "duration": 14,
    "start_time": "2023-04-23T12:03:57.437Z"
   },
   {
    "duration": 29,
    "start_time": "2023-04-23T12:03:57.453Z"
   },
   {
    "duration": 14,
    "start_time": "2023-04-23T12:03:57.484Z"
   },
   {
    "duration": 40,
    "start_time": "2023-04-23T12:03:57.518Z"
   },
   {
    "duration": 24,
    "start_time": "2023-04-23T12:03:57.560Z"
   },
   {
    "duration": 34,
    "start_time": "2023-04-23T12:03:57.586Z"
   },
   {
    "duration": 36,
    "start_time": "2023-04-23T12:03:57.622Z"
   },
   {
    "duration": 28,
    "start_time": "2023-04-23T12:03:57.660Z"
   },
   {
    "duration": 194,
    "start_time": "2023-04-23T12:03:57.689Z"
   },
   {
    "duration": 10,
    "start_time": "2023-04-23T12:03:57.885Z"
   },
   {
    "duration": 31,
    "start_time": "2023-04-23T12:03:57.897Z"
   },
   {
    "duration": 1106,
    "start_time": "2023-04-23T12:06:29.814Z"
   },
   {
    "duration": 57,
    "start_time": "2023-04-23T12:06:30.923Z"
   },
   {
    "duration": 20,
    "start_time": "2023-04-23T12:06:30.982Z"
   },
   {
    "duration": 29,
    "start_time": "2023-04-23T12:06:31.003Z"
   },
   {
    "duration": 72,
    "start_time": "2023-04-23T12:06:31.034Z"
   },
   {
    "duration": 36,
    "start_time": "2023-04-23T12:06:31.107Z"
   },
   {
    "duration": 60,
    "start_time": "2023-04-23T12:06:31.145Z"
   },
   {
    "duration": 47,
    "start_time": "2023-04-23T12:06:31.207Z"
   },
   {
    "duration": 60,
    "start_time": "2023-04-23T12:06:31.256Z"
   },
   {
    "duration": 53,
    "start_time": "2023-04-23T12:06:31.318Z"
   },
   {
    "duration": 55,
    "start_time": "2023-04-23T12:06:31.372Z"
   },
   {
    "duration": 15,
    "start_time": "2023-04-23T12:06:31.429Z"
   },
   {
    "duration": 65,
    "start_time": "2023-04-23T12:06:31.446Z"
   },
   {
    "duration": 36,
    "start_time": "2023-04-23T12:06:31.515Z"
   },
   {
    "duration": 49,
    "start_time": "2023-04-23T12:06:31.553Z"
   },
   {
    "duration": 48,
    "start_time": "2023-04-23T12:06:31.604Z"
   },
   {
    "duration": 55,
    "start_time": "2023-04-23T12:06:31.654Z"
   },
   {
    "duration": 77,
    "start_time": "2023-04-23T12:06:31.710Z"
   },
   {
    "duration": 26,
    "start_time": "2023-04-23T12:06:31.788Z"
   },
   {
    "duration": 204,
    "start_time": "2023-04-23T12:06:31.815Z"
   },
   {
    "duration": 8,
    "start_time": "2023-04-23T12:06:32.021Z"
   },
   {
    "duration": 212,
    "start_time": "2023-04-23T12:06:32.031Z"
   },
   {
    "duration": 9,
    "start_time": "2023-04-23T12:06:32.244Z"
   },
   {
    "duration": 42,
    "start_time": "2023-04-23T12:06:32.255Z"
   },
   {
    "duration": 28,
    "start_time": "2023-04-23T12:06:32.299Z"
   },
   {
    "duration": 194,
    "start_time": "2023-04-23T12:06:32.329Z"
   },
   {
    "duration": 34,
    "start_time": "2023-04-23T12:06:32.525Z"
   },
   {
    "duration": 41,
    "start_time": "2023-04-23T12:06:32.561Z"
   },
   {
    "duration": 298,
    "start_time": "2023-04-23T12:06:32.604Z"
   },
   {
    "duration": 21,
    "start_time": "2023-04-23T12:06:32.904Z"
   },
   {
    "duration": 20,
    "start_time": "2023-04-23T12:06:32.927Z"
   },
   {
    "duration": 111,
    "start_time": "2023-04-23T12:06:32.948Z"
   },
   {
    "duration": 195,
    "start_time": "2023-04-23T12:06:33.061Z"
   },
   {
    "duration": 81,
    "start_time": "2023-04-23T12:06:33.258Z"
   },
   {
    "duration": 9,
    "start_time": "2023-04-23T12:06:33.341Z"
   },
   {
    "duration": 335,
    "start_time": "2023-04-23T12:06:33.352Z"
   },
   {
    "duration": 12,
    "start_time": "2023-04-23T12:06:33.688Z"
   },
   {
    "duration": 274,
    "start_time": "2023-04-23T12:06:33.702Z"
   },
   {
    "duration": 216,
    "start_time": "2023-04-23T12:06:33.978Z"
   },
   {
    "duration": 9,
    "start_time": "2023-04-23T12:06:34.195Z"
   },
   {
    "duration": 21,
    "start_time": "2023-04-23T12:06:34.219Z"
   },
   {
    "duration": 26,
    "start_time": "2023-04-23T12:06:34.242Z"
   },
   {
    "duration": 15,
    "start_time": "2023-04-23T12:06:34.270Z"
   },
   {
    "duration": 30,
    "start_time": "2023-04-23T12:06:34.287Z"
   },
   {
    "duration": 27,
    "start_time": "2023-04-23T12:06:34.319Z"
   },
   {
    "duration": 42,
    "start_time": "2023-04-23T12:06:34.348Z"
   },
   {
    "duration": 17,
    "start_time": "2023-04-23T12:06:34.391Z"
   },
   {
    "duration": 35,
    "start_time": "2023-04-23T12:06:34.409Z"
   },
   {
    "duration": 165,
    "start_time": "2023-04-23T12:06:34.445Z"
   },
   {
    "duration": 11,
    "start_time": "2023-04-23T12:06:34.612Z"
   },
   {
    "duration": 22,
    "start_time": "2023-04-23T12:06:34.625Z"
   },
   {
    "duration": 1124,
    "start_time": "2023-04-23T20:54:45.028Z"
   },
   {
    "duration": 53,
    "start_time": "2023-04-23T20:54:46.153Z"
   },
   {
    "duration": 16,
    "start_time": "2023-04-23T20:54:46.208Z"
   },
   {
    "duration": 12,
    "start_time": "2023-04-23T20:54:46.227Z"
   },
   {
    "duration": 16,
    "start_time": "2023-04-23T20:54:46.240Z"
   },
   {
    "duration": 18,
    "start_time": "2023-04-23T20:54:46.258Z"
   },
   {
    "duration": 39,
    "start_time": "2023-04-23T20:54:46.277Z"
   },
   {
    "duration": 17,
    "start_time": "2023-04-23T20:54:46.318Z"
   },
   {
    "duration": 15,
    "start_time": "2023-04-23T20:54:46.336Z"
   },
   {
    "duration": 7,
    "start_time": "2023-04-23T20:54:46.353Z"
   },
   {
    "duration": 27,
    "start_time": "2023-04-23T20:54:46.362Z"
   },
   {
    "duration": 10,
    "start_time": "2023-04-23T20:54:46.391Z"
   },
   {
    "duration": 18,
    "start_time": "2023-04-23T20:54:46.403Z"
   },
   {
    "duration": 4,
    "start_time": "2023-04-23T20:54:46.423Z"
   },
   {
    "duration": 21,
    "start_time": "2023-04-23T20:54:46.429Z"
   },
   {
    "duration": 6,
    "start_time": "2023-04-23T20:54:46.451Z"
   },
   {
    "duration": 19,
    "start_time": "2023-04-23T20:54:46.458Z"
   },
   {
    "duration": 31,
    "start_time": "2023-04-23T20:54:46.479Z"
   },
   {
    "duration": 43,
    "start_time": "2023-04-23T20:54:46.511Z"
   },
   {
    "duration": 162,
    "start_time": "2023-04-23T20:54:46.556Z"
   },
   {
    "duration": 7,
    "start_time": "2023-04-23T20:54:46.719Z"
   },
   {
    "duration": 176,
    "start_time": "2023-04-23T20:54:46.727Z"
   },
   {
    "duration": 9,
    "start_time": "2023-04-23T20:54:46.905Z"
   },
   {
    "duration": 20,
    "start_time": "2023-04-23T20:54:46.915Z"
   },
   {
    "duration": 6,
    "start_time": "2023-04-23T20:54:46.949Z"
   },
   {
    "duration": 161,
    "start_time": "2023-04-23T20:54:46.956Z"
   },
   {
    "duration": 35,
    "start_time": "2023-04-23T20:54:47.119Z"
   },
   {
    "duration": 6,
    "start_time": "2023-04-23T20:54:47.158Z"
   },
   {
    "duration": 219,
    "start_time": "2023-04-23T20:54:47.165Z"
   },
   {
    "duration": 21,
    "start_time": "2023-04-23T20:54:47.386Z"
   },
   {
    "duration": 8,
    "start_time": "2023-04-23T20:54:47.409Z"
   },
   {
    "duration": 72,
    "start_time": "2023-04-23T20:54:47.419Z"
   },
   {
    "duration": 168,
    "start_time": "2023-04-23T20:54:47.492Z"
   },
   {
    "duration": 52,
    "start_time": "2023-04-23T20:54:47.661Z"
   },
   {
    "duration": 9,
    "start_time": "2023-04-23T20:54:47.714Z"
   },
   {
    "duration": 282,
    "start_time": "2023-04-23T20:54:47.724Z"
   },
   {
    "duration": 9,
    "start_time": "2023-04-23T20:54:48.007Z"
   },
   {
    "duration": 206,
    "start_time": "2023-04-23T20:54:48.017Z"
   },
   {
    "duration": 205,
    "start_time": "2023-04-23T20:54:48.225Z"
   },
   {
    "duration": 18,
    "start_time": "2023-04-23T20:54:48.432Z"
   },
   {
    "duration": 7,
    "start_time": "2023-04-23T20:54:48.452Z"
   },
   {
    "duration": 19,
    "start_time": "2023-04-23T20:54:48.461Z"
   },
   {
    "duration": 12,
    "start_time": "2023-04-23T20:54:48.481Z"
   },
   {
    "duration": 16,
    "start_time": "2023-04-23T20:54:48.495Z"
   },
   {
    "duration": 41,
    "start_time": "2023-04-23T20:54:48.512Z"
   },
   {
    "duration": 13,
    "start_time": "2023-04-23T20:54:48.555Z"
   },
   {
    "duration": 16,
    "start_time": "2023-04-23T20:54:48.570Z"
   },
   {
    "duration": 13,
    "start_time": "2023-04-23T20:54:48.587Z"
   },
   {
    "duration": 197,
    "start_time": "2023-04-23T20:54:48.602Z"
   },
   {
    "duration": 10,
    "start_time": "2023-04-23T20:54:48.801Z"
   },
   {
    "duration": 30,
    "start_time": "2023-04-23T20:54:48.812Z"
   },
   {
    "duration": 169,
    "start_time": "2023-04-23T21:11:05.911Z"
   },
   {
    "duration": 45,
    "start_time": "2023-04-23T23:35:55.343Z"
   },
   {
    "duration": 1106,
    "start_time": "2023-04-23T23:36:06.294Z"
   },
   {
    "duration": 94,
    "start_time": "2023-04-23T23:36:07.402Z"
   },
   {
    "duration": 16,
    "start_time": "2023-04-23T23:36:07.497Z"
   },
   {
    "duration": 12,
    "start_time": "2023-04-23T23:36:07.515Z"
   },
   {
    "duration": 26,
    "start_time": "2023-04-23T23:36:07.528Z"
   },
   {
    "duration": 15,
    "start_time": "2023-04-23T23:36:07.555Z"
   },
   {
    "duration": 23,
    "start_time": "2023-04-23T23:36:07.571Z"
   },
   {
    "duration": 14,
    "start_time": "2023-04-23T23:36:07.595Z"
   },
   {
    "duration": 14,
    "start_time": "2023-04-23T23:36:07.610Z"
   },
   {
    "duration": 7,
    "start_time": "2023-04-23T23:36:07.626Z"
   },
   {
    "duration": 24,
    "start_time": "2023-04-23T23:36:07.635Z"
   },
   {
    "duration": 15,
    "start_time": "2023-04-23T23:36:07.661Z"
   },
   {
    "duration": 27,
    "start_time": "2023-04-23T23:36:07.677Z"
   },
   {
    "duration": 4,
    "start_time": "2023-04-23T23:36:07.705Z"
   },
   {
    "duration": 8,
    "start_time": "2023-04-23T23:36:07.711Z"
   },
   {
    "duration": 9,
    "start_time": "2023-04-23T23:36:07.720Z"
   },
   {
    "duration": 20,
    "start_time": "2023-04-23T23:36:07.730Z"
   },
   {
    "duration": 33,
    "start_time": "2023-04-23T23:36:07.752Z"
   },
   {
    "duration": 20,
    "start_time": "2023-04-23T23:36:07.786Z"
   },
   {
    "duration": 151,
    "start_time": "2023-04-23T23:36:07.807Z"
   },
   {
    "duration": 15,
    "start_time": "2023-04-23T23:36:07.959Z"
   },
   {
    "duration": 142,
    "start_time": "2023-04-23T23:36:07.975Z"
   },
   {
    "duration": 6,
    "start_time": "2023-04-23T23:36:08.118Z"
   },
   {
    "duration": 18,
    "start_time": "2023-04-23T23:36:08.125Z"
   },
   {
    "duration": 4,
    "start_time": "2023-04-23T23:36:08.144Z"
   },
   {
    "duration": 147,
    "start_time": "2023-04-23T23:36:08.150Z"
   },
   {
    "duration": 25,
    "start_time": "2023-04-23T23:36:08.298Z"
   },
   {
    "duration": 13,
    "start_time": "2023-04-23T23:36:08.326Z"
   },
   {
    "duration": 199,
    "start_time": "2023-04-23T23:36:08.340Z"
   },
   {
    "duration": 12,
    "start_time": "2023-04-23T23:36:08.540Z"
   },
   {
    "duration": 5,
    "start_time": "2023-04-23T23:36:08.553Z"
   },
   {
    "duration": 51,
    "start_time": "2023-04-23T23:36:08.559Z"
   },
   {
    "duration": 1190,
    "start_time": "2023-04-23T23:36:08.612Z"
   },
   {
    "duration": 147,
    "start_time": "2023-04-23T23:36:09.803Z"
   },
   {
    "duration": 58,
    "start_time": "2023-04-23T23:36:09.951Z"
   },
   {
    "duration": 9,
    "start_time": "2023-04-23T23:36:10.010Z"
   },
   {
    "duration": 247,
    "start_time": "2023-04-23T23:36:10.020Z"
   },
   {
    "duration": 9,
    "start_time": "2023-04-23T23:36:10.268Z"
   },
   {
    "duration": 194,
    "start_time": "2023-04-23T23:36:10.278Z"
   },
   {
    "duration": 228,
    "start_time": "2023-04-23T23:36:10.473Z"
   },
   {
    "duration": 8,
    "start_time": "2023-04-23T23:36:10.702Z"
   },
   {
    "duration": 28,
    "start_time": "2023-04-23T23:36:10.711Z"
   },
   {
    "duration": 28,
    "start_time": "2023-04-23T23:36:10.740Z"
   },
   {
    "duration": 35,
    "start_time": "2023-04-23T23:36:10.770Z"
   },
   {
    "duration": 13,
    "start_time": "2023-04-23T23:36:10.807Z"
   },
   {
    "duration": 21,
    "start_time": "2023-04-23T23:36:10.821Z"
   },
   {
    "duration": 14,
    "start_time": "2023-04-23T23:36:10.844Z"
   },
   {
    "duration": 17,
    "start_time": "2023-04-23T23:36:10.859Z"
   },
   {
    "duration": 22,
    "start_time": "2023-04-23T23:36:10.877Z"
   },
   {
    "duration": 133,
    "start_time": "2023-04-23T23:36:10.900Z"
   },
   {
    "duration": 8,
    "start_time": "2023-04-23T23:36:11.035Z"
   },
   {
    "duration": 18,
    "start_time": "2023-04-23T23:36:11.044Z"
   },
   {
    "duration": 1305,
    "start_time": "2023-04-23T23:38:38.222Z"
   },
   {
    "duration": 1368,
    "start_time": "2023-04-23T23:39:16.343Z"
   },
   {
    "duration": 1367,
    "start_time": "2023-04-23T23:39:34.954Z"
   },
   {
    "duration": 193,
    "start_time": "2023-04-23T23:49:13.379Z"
   },
   {
    "duration": 116,
    "start_time": "2023-04-23T23:49:31.153Z"
   },
   {
    "duration": 1523,
    "start_time": "2023-04-23T23:49:52.561Z"
   },
   {
    "duration": 184,
    "start_time": "2023-04-24T00:01:47.687Z"
   },
   {
    "duration": 1047,
    "start_time": "2023-04-24T00:01:55.832Z"
   },
   {
    "duration": 54,
    "start_time": "2023-04-24T00:01:56.880Z"
   },
   {
    "duration": 20,
    "start_time": "2023-04-24T00:01:56.936Z"
   },
   {
    "duration": 17,
    "start_time": "2023-04-24T00:01:56.965Z"
   },
   {
    "duration": 45,
    "start_time": "2023-04-24T00:01:56.984Z"
   },
   {
    "duration": 15,
    "start_time": "2023-04-24T00:01:57.031Z"
   },
   {
    "duration": 27,
    "start_time": "2023-04-24T00:01:57.048Z"
   },
   {
    "duration": 17,
    "start_time": "2023-04-24T00:01:57.077Z"
   },
   {
    "duration": 11,
    "start_time": "2023-04-24T00:01:57.096Z"
   },
   {
    "duration": 11,
    "start_time": "2023-04-24T00:01:57.110Z"
   },
   {
    "duration": 24,
    "start_time": "2023-04-24T00:01:57.122Z"
   },
   {
    "duration": 28,
    "start_time": "2023-04-24T00:01:57.148Z"
   },
   {
    "duration": 27,
    "start_time": "2023-04-24T00:01:57.178Z"
   },
   {
    "duration": 4,
    "start_time": "2023-04-24T00:01:57.207Z"
   },
   {
    "duration": 8,
    "start_time": "2023-04-24T00:01:57.213Z"
   },
   {
    "duration": 11,
    "start_time": "2023-04-24T00:01:57.223Z"
   },
   {
    "duration": 19,
    "start_time": "2023-04-24T00:01:57.235Z"
   },
   {
    "duration": 54,
    "start_time": "2023-04-24T00:01:57.255Z"
   },
   {
    "duration": 22,
    "start_time": "2023-04-24T00:01:57.310Z"
   },
   {
    "duration": 168,
    "start_time": "2023-04-24T00:01:57.333Z"
   },
   {
    "duration": 6,
    "start_time": "2023-04-24T00:01:57.502Z"
   },
   {
    "duration": 159,
    "start_time": "2023-04-24T00:01:57.510Z"
   },
   {
    "duration": 8,
    "start_time": "2023-04-24T00:01:57.671Z"
   },
   {
    "duration": 55,
    "start_time": "2023-04-24T00:01:57.680Z"
   },
   {
    "duration": 6,
    "start_time": "2023-04-24T00:01:57.737Z"
   },
   {
    "duration": 143,
    "start_time": "2023-04-24T00:01:57.746Z"
   },
   {
    "duration": 277,
    "start_time": "2023-04-24T00:01:57.891Z"
   },
   {
    "duration": 0,
    "start_time": "2023-04-24T00:01:58.171Z"
   },
   {
    "duration": 0,
    "start_time": "2023-04-24T00:01:58.173Z"
   },
   {
    "duration": 0,
    "start_time": "2023-04-24T00:01:58.174Z"
   },
   {
    "duration": 0,
    "start_time": "2023-04-24T00:01:58.175Z"
   },
   {
    "duration": 0,
    "start_time": "2023-04-24T00:01:58.177Z"
   },
   {
    "duration": 0,
    "start_time": "2023-04-24T00:01:58.178Z"
   },
   {
    "duration": 0,
    "start_time": "2023-04-24T00:01:58.179Z"
   },
   {
    "duration": 0,
    "start_time": "2023-04-24T00:01:58.180Z"
   },
   {
    "duration": 0,
    "start_time": "2023-04-24T00:01:58.181Z"
   },
   {
    "duration": 0,
    "start_time": "2023-04-24T00:01:58.182Z"
   },
   {
    "duration": 0,
    "start_time": "2023-04-24T00:01:58.183Z"
   },
   {
    "duration": 0,
    "start_time": "2023-04-24T00:01:58.184Z"
   },
   {
    "duration": 0,
    "start_time": "2023-04-24T00:01:58.185Z"
   },
   {
    "duration": 0,
    "start_time": "2023-04-24T00:01:58.186Z"
   },
   {
    "duration": 0,
    "start_time": "2023-04-24T00:01:58.187Z"
   },
   {
    "duration": 0,
    "start_time": "2023-04-24T00:01:58.188Z"
   },
   {
    "duration": 0,
    "start_time": "2023-04-24T00:01:58.189Z"
   },
   {
    "duration": 0,
    "start_time": "2023-04-24T00:01:58.191Z"
   },
   {
    "duration": 0,
    "start_time": "2023-04-24T00:01:58.191Z"
   },
   {
    "duration": 0,
    "start_time": "2023-04-24T00:01:58.192Z"
   },
   {
    "duration": 0,
    "start_time": "2023-04-24T00:01:58.194Z"
   },
   {
    "duration": 0,
    "start_time": "2023-04-24T00:01:58.195Z"
   },
   {
    "duration": 0,
    "start_time": "2023-04-24T00:01:58.196Z"
   },
   {
    "duration": 0,
    "start_time": "2023-04-24T00:01:58.197Z"
   },
   {
    "duration": 0,
    "start_time": "2023-04-24T00:01:58.198Z"
   },
   {
    "duration": 21,
    "start_time": "2023-04-24T00:02:07.826Z"
   },
   {
    "duration": 209,
    "start_time": "2023-04-24T00:02:41.664Z"
   },
   {
    "duration": 25,
    "start_time": "2023-04-24T00:02:44.655Z"
   },
   {
    "duration": 22,
    "start_time": "2023-04-24T00:03:28.204Z"
   },
   {
    "duration": 21,
    "start_time": "2023-04-24T00:03:52.390Z"
   },
   {
    "duration": 120,
    "start_time": "2023-04-24T00:04:09.682Z"
   },
   {
    "duration": 188,
    "start_time": "2023-04-24T00:04:14.688Z"
   },
   {
    "duration": 20,
    "start_time": "2023-04-24T00:04:19.131Z"
   },
   {
    "duration": 20,
    "start_time": "2023-04-24T00:04:26.246Z"
   },
   {
    "duration": 23,
    "start_time": "2023-04-24T00:04:27.428Z"
   },
   {
    "duration": 17,
    "start_time": "2023-04-24T00:05:03.892Z"
   },
   {
    "duration": 996,
    "start_time": "2023-04-24T00:05:10.972Z"
   },
   {
    "duration": 51,
    "start_time": "2023-04-24T00:05:11.970Z"
   },
   {
    "duration": 16,
    "start_time": "2023-04-24T00:05:12.022Z"
   },
   {
    "duration": 11,
    "start_time": "2023-04-24T00:05:12.039Z"
   },
   {
    "duration": 13,
    "start_time": "2023-04-24T00:05:12.053Z"
   },
   {
    "duration": 15,
    "start_time": "2023-04-24T00:05:12.067Z"
   },
   {
    "duration": 25,
    "start_time": "2023-04-24T00:05:12.083Z"
   },
   {
    "duration": 17,
    "start_time": "2023-04-24T00:05:12.109Z"
   },
   {
    "duration": 13,
    "start_time": "2023-04-24T00:05:12.127Z"
   },
   {
    "duration": 14,
    "start_time": "2023-04-24T00:05:12.142Z"
   },
   {
    "duration": 24,
    "start_time": "2023-04-24T00:05:12.158Z"
   },
   {
    "duration": 5,
    "start_time": "2023-04-24T00:05:12.184Z"
   },
   {
    "duration": 27,
    "start_time": "2023-04-24T00:05:12.190Z"
   },
   {
    "duration": 4,
    "start_time": "2023-04-24T00:05:12.220Z"
   },
   {
    "duration": 9,
    "start_time": "2023-04-24T00:05:12.226Z"
   },
   {
    "duration": 25,
    "start_time": "2023-04-24T00:05:12.236Z"
   },
   {
    "duration": 20,
    "start_time": "2023-04-24T00:05:12.262Z"
   },
   {
    "duration": 29,
    "start_time": "2023-04-24T00:05:12.283Z"
   },
   {
    "duration": 20,
    "start_time": "2023-04-24T00:05:12.314Z"
   },
   {
    "duration": 178,
    "start_time": "2023-04-24T00:05:12.335Z"
   },
   {
    "duration": 7,
    "start_time": "2023-04-24T00:05:12.514Z"
   },
   {
    "duration": 173,
    "start_time": "2023-04-24T00:05:12.523Z"
   },
   {
    "duration": 6,
    "start_time": "2023-04-24T00:05:12.698Z"
   },
   {
    "duration": 22,
    "start_time": "2023-04-24T00:05:12.706Z"
   },
   {
    "duration": 11,
    "start_time": "2023-04-24T00:05:12.729Z"
   },
   {
    "duration": 142,
    "start_time": "2023-04-24T00:05:12.741Z"
   },
   {
    "duration": 20,
    "start_time": "2023-04-24T00:05:12.884Z"
   },
   {
    "duration": 32,
    "start_time": "2023-04-24T00:05:12.906Z"
   },
   {
    "duration": 38,
    "start_time": "2023-04-24T00:05:12.940Z"
   },
   {
    "duration": 6,
    "start_time": "2023-04-24T00:05:12.979Z"
   },
   {
    "duration": 1032,
    "start_time": "2023-04-24T00:05:12.986Z"
   },
   {
    "duration": 0,
    "start_time": "2023-04-24T00:05:14.020Z"
   },
   {
    "duration": 0,
    "start_time": "2023-04-24T00:05:14.022Z"
   },
   {
    "duration": 0,
    "start_time": "2023-04-24T00:05:14.023Z"
   },
   {
    "duration": 0,
    "start_time": "2023-04-24T00:05:14.024Z"
   },
   {
    "duration": 0,
    "start_time": "2023-04-24T00:05:14.025Z"
   },
   {
    "duration": 0,
    "start_time": "2023-04-24T00:05:14.026Z"
   },
   {
    "duration": 0,
    "start_time": "2023-04-24T00:05:14.027Z"
   },
   {
    "duration": 0,
    "start_time": "2023-04-24T00:05:14.028Z"
   },
   {
    "duration": 0,
    "start_time": "2023-04-24T00:05:14.029Z"
   },
   {
    "duration": 0,
    "start_time": "2023-04-24T00:05:14.031Z"
   },
   {
    "duration": 0,
    "start_time": "2023-04-24T00:05:14.032Z"
   },
   {
    "duration": 0,
    "start_time": "2023-04-24T00:05:14.033Z"
   },
   {
    "duration": 0,
    "start_time": "2023-04-24T00:05:14.034Z"
   },
   {
    "duration": 0,
    "start_time": "2023-04-24T00:05:14.035Z"
   },
   {
    "duration": 0,
    "start_time": "2023-04-24T00:05:14.037Z"
   },
   {
    "duration": 0,
    "start_time": "2023-04-24T00:05:14.038Z"
   },
   {
    "duration": 0,
    "start_time": "2023-04-24T00:05:14.039Z"
   },
   {
    "duration": 0,
    "start_time": "2023-04-24T00:05:14.040Z"
   },
   {
    "duration": 0,
    "start_time": "2023-04-24T00:05:14.041Z"
   },
   {
    "duration": 0,
    "start_time": "2023-04-24T00:05:14.072Z"
   },
   {
    "duration": 0,
    "start_time": "2023-04-24T00:05:14.073Z"
   },
   {
    "duration": 0,
    "start_time": "2023-04-24T00:05:14.075Z"
   },
   {
    "duration": 0,
    "start_time": "2023-04-24T00:05:14.077Z"
   },
   {
    "duration": 48,
    "start_time": "2023-04-24T00:05:36.804Z"
   },
   {
    "duration": 27,
    "start_time": "2023-04-24T00:06:01.106Z"
   },
   {
    "duration": 14,
    "start_time": "2023-04-24T00:07:30.596Z"
   },
   {
    "duration": 1039,
    "start_time": "2023-04-24T00:09:15.976Z"
   },
   {
    "duration": 64,
    "start_time": "2023-04-24T00:09:17.016Z"
   },
   {
    "duration": 18,
    "start_time": "2023-04-24T00:09:17.082Z"
   },
   {
    "duration": 11,
    "start_time": "2023-04-24T00:09:17.102Z"
   },
   {
    "duration": 14,
    "start_time": "2023-04-24T00:09:17.115Z"
   },
   {
    "duration": 12,
    "start_time": "2023-04-24T00:09:17.130Z"
   },
   {
    "duration": 43,
    "start_time": "2023-04-24T00:09:17.143Z"
   },
   {
    "duration": 14,
    "start_time": "2023-04-24T00:09:17.188Z"
   },
   {
    "duration": 11,
    "start_time": "2023-04-24T00:09:17.204Z"
   },
   {
    "duration": 6,
    "start_time": "2023-04-24T00:09:17.217Z"
   },
   {
    "duration": 19,
    "start_time": "2023-04-24T00:09:17.224Z"
   },
   {
    "duration": 28,
    "start_time": "2023-04-24T00:09:17.245Z"
   },
   {
    "duration": 15,
    "start_time": "2023-04-24T00:09:17.275Z"
   },
   {
    "duration": 5,
    "start_time": "2023-04-24T00:09:17.293Z"
   },
   {
    "duration": 9,
    "start_time": "2023-04-24T00:09:17.299Z"
   },
   {
    "duration": 9,
    "start_time": "2023-04-24T00:09:17.309Z"
   },
   {
    "duration": 16,
    "start_time": "2023-04-24T00:09:17.319Z"
   },
   {
    "duration": 51,
    "start_time": "2023-04-24T00:09:17.337Z"
   },
   {
    "duration": 21,
    "start_time": "2023-04-24T00:09:17.389Z"
   },
   {
    "duration": 157,
    "start_time": "2023-04-24T00:09:17.411Z"
   },
   {
    "duration": 6,
    "start_time": "2023-04-24T00:09:17.571Z"
   },
   {
    "duration": 152,
    "start_time": "2023-04-24T00:09:17.578Z"
   },
   {
    "duration": 7,
    "start_time": "2023-04-24T00:09:17.731Z"
   },
   {
    "duration": 20,
    "start_time": "2023-04-24T00:09:17.740Z"
   },
   {
    "duration": 13,
    "start_time": "2023-04-24T00:09:17.761Z"
   },
   {
    "duration": 135,
    "start_time": "2023-04-24T00:09:17.775Z"
   },
   {
    "duration": 12,
    "start_time": "2023-04-24T00:09:17.911Z"
   },
   {
    "duration": 19,
    "start_time": "2023-04-24T00:09:17.924Z"
   },
   {
    "duration": 42,
    "start_time": "2023-04-24T00:09:17.945Z"
   },
   {
    "duration": 6,
    "start_time": "2023-04-24T00:09:17.989Z"
   },
   {
    "duration": 1175,
    "start_time": "2023-04-24T00:09:17.997Z"
   },
   {
    "duration": 0,
    "start_time": "2023-04-24T00:09:19.174Z"
   },
   {
    "duration": 0,
    "start_time": "2023-04-24T00:09:19.175Z"
   },
   {
    "duration": 0,
    "start_time": "2023-04-24T00:09:19.176Z"
   },
   {
    "duration": 0,
    "start_time": "2023-04-24T00:09:19.177Z"
   },
   {
    "duration": 0,
    "start_time": "2023-04-24T00:09:19.178Z"
   },
   {
    "duration": 0,
    "start_time": "2023-04-24T00:09:19.179Z"
   },
   {
    "duration": 0,
    "start_time": "2023-04-24T00:09:19.180Z"
   },
   {
    "duration": 0,
    "start_time": "2023-04-24T00:09:19.181Z"
   },
   {
    "duration": 0,
    "start_time": "2023-04-24T00:09:19.181Z"
   },
   {
    "duration": 0,
    "start_time": "2023-04-24T00:09:19.182Z"
   },
   {
    "duration": 0,
    "start_time": "2023-04-24T00:09:19.183Z"
   },
   {
    "duration": 0,
    "start_time": "2023-04-24T00:09:19.183Z"
   },
   {
    "duration": 0,
    "start_time": "2023-04-24T00:09:19.184Z"
   },
   {
    "duration": 0,
    "start_time": "2023-04-24T00:09:19.185Z"
   },
   {
    "duration": 0,
    "start_time": "2023-04-24T00:09:19.186Z"
   },
   {
    "duration": 0,
    "start_time": "2023-04-24T00:09:19.187Z"
   },
   {
    "duration": 0,
    "start_time": "2023-04-24T00:09:19.187Z"
   },
   {
    "duration": 0,
    "start_time": "2023-04-24T00:09:19.188Z"
   },
   {
    "duration": 0,
    "start_time": "2023-04-24T00:09:19.188Z"
   },
   {
    "duration": 0,
    "start_time": "2023-04-24T00:09:19.189Z"
   },
   {
    "duration": 0,
    "start_time": "2023-04-24T00:09:19.190Z"
   },
   {
    "duration": 0,
    "start_time": "2023-04-24T00:09:19.191Z"
   },
   {
    "duration": 0,
    "start_time": "2023-04-24T00:09:19.191Z"
   },
   {
    "duration": 21,
    "start_time": "2023-04-24T00:10:26.552Z"
   },
   {
    "duration": 1008,
    "start_time": "2023-04-24T00:10:42.282Z"
   },
   {
    "duration": 55,
    "start_time": "2023-04-24T00:10:43.292Z"
   },
   {
    "duration": 16,
    "start_time": "2023-04-24T00:10:43.348Z"
   },
   {
    "duration": 15,
    "start_time": "2023-04-24T00:10:43.366Z"
   },
   {
    "duration": 15,
    "start_time": "2023-04-24T00:10:43.383Z"
   },
   {
    "duration": 23,
    "start_time": "2023-04-24T00:10:43.400Z"
   },
   {
    "duration": 24,
    "start_time": "2023-04-24T00:10:43.424Z"
   },
   {
    "duration": 17,
    "start_time": "2023-04-24T00:10:43.449Z"
   },
   {
    "duration": 22,
    "start_time": "2023-04-24T00:10:43.467Z"
   },
   {
    "duration": 6,
    "start_time": "2023-04-24T00:10:43.491Z"
   },
   {
    "duration": 21,
    "start_time": "2023-04-24T00:10:43.498Z"
   },
   {
    "duration": 4,
    "start_time": "2023-04-24T00:10:43.520Z"
   },
   {
    "duration": 22,
    "start_time": "2023-04-24T00:10:43.526Z"
   },
   {
    "duration": 6,
    "start_time": "2023-04-24T00:10:43.549Z"
   },
   {
    "duration": 25,
    "start_time": "2023-04-24T00:10:43.556Z"
   },
   {
    "duration": 39,
    "start_time": "2023-04-24T00:10:43.583Z"
   },
   {
    "duration": 40,
    "start_time": "2023-04-24T00:10:43.623Z"
   },
   {
    "duration": 36,
    "start_time": "2023-04-24T00:10:43.664Z"
   },
   {
    "duration": 21,
    "start_time": "2023-04-24T00:10:43.701Z"
   },
   {
    "duration": 157,
    "start_time": "2023-04-24T00:10:43.724Z"
   },
   {
    "duration": 6,
    "start_time": "2023-04-24T00:10:43.882Z"
   },
   {
    "duration": 147,
    "start_time": "2023-04-24T00:10:43.889Z"
   },
   {
    "duration": 7,
    "start_time": "2023-04-24T00:10:44.037Z"
   },
   {
    "duration": 15,
    "start_time": "2023-04-24T00:10:44.045Z"
   },
   {
    "duration": 5,
    "start_time": "2023-04-24T00:10:44.071Z"
   },
   {
    "duration": 133,
    "start_time": "2023-04-24T00:10:44.077Z"
   },
   {
    "duration": 17,
    "start_time": "2023-04-24T00:10:44.211Z"
   },
   {
    "duration": 28,
    "start_time": "2023-04-24T00:10:44.231Z"
   },
   {
    "duration": 17,
    "start_time": "2023-04-24T00:10:44.260Z"
   },
   {
    "duration": 11,
    "start_time": "2023-04-24T00:10:44.278Z"
   },
   {
    "duration": 1741,
    "start_time": "2023-04-24T00:10:44.290Z"
   },
   {
    "duration": 0,
    "start_time": "2023-04-24T00:10:46.033Z"
   },
   {
    "duration": 0,
    "start_time": "2023-04-24T00:10:46.035Z"
   },
   {
    "duration": 0,
    "start_time": "2023-04-24T00:10:46.036Z"
   },
   {
    "duration": 0,
    "start_time": "2023-04-24T00:10:46.037Z"
   },
   {
    "duration": 0,
    "start_time": "2023-04-24T00:10:46.039Z"
   },
   {
    "duration": 0,
    "start_time": "2023-04-24T00:10:46.040Z"
   },
   {
    "duration": 0,
    "start_time": "2023-04-24T00:10:46.040Z"
   },
   {
    "duration": 0,
    "start_time": "2023-04-24T00:10:46.041Z"
   },
   {
    "duration": 0,
    "start_time": "2023-04-24T00:10:46.042Z"
   },
   {
    "duration": 0,
    "start_time": "2023-04-24T00:10:46.044Z"
   },
   {
    "duration": 0,
    "start_time": "2023-04-24T00:10:46.045Z"
   },
   {
    "duration": 0,
    "start_time": "2023-04-24T00:10:46.047Z"
   },
   {
    "duration": 0,
    "start_time": "2023-04-24T00:10:46.048Z"
   },
   {
    "duration": 0,
    "start_time": "2023-04-24T00:10:46.049Z"
   },
   {
    "duration": 0,
    "start_time": "2023-04-24T00:10:46.072Z"
   },
   {
    "duration": 0,
    "start_time": "2023-04-24T00:10:46.074Z"
   },
   {
    "duration": 0,
    "start_time": "2023-04-24T00:10:46.075Z"
   },
   {
    "duration": 0,
    "start_time": "2023-04-24T00:10:46.077Z"
   },
   {
    "duration": 0,
    "start_time": "2023-04-24T00:10:46.078Z"
   },
   {
    "duration": 0,
    "start_time": "2023-04-24T00:10:46.079Z"
   },
   {
    "duration": 0,
    "start_time": "2023-04-24T00:10:46.080Z"
   },
   {
    "duration": 0,
    "start_time": "2023-04-24T00:10:46.082Z"
   },
   {
    "duration": 0,
    "start_time": "2023-04-24T00:10:46.083Z"
   },
   {
    "duration": 18,
    "start_time": "2023-04-24T00:11:04.267Z"
   },
   {
    "duration": 21,
    "start_time": "2023-04-24T00:11:37.315Z"
   },
   {
    "duration": 20,
    "start_time": "2023-04-24T00:12:09.022Z"
   },
   {
    "duration": 14,
    "start_time": "2023-04-24T00:12:45.874Z"
   },
   {
    "duration": 27,
    "start_time": "2023-04-24T00:12:53.234Z"
   },
   {
    "duration": 13,
    "start_time": "2023-04-24T00:14:08.417Z"
   },
   {
    "duration": 14,
    "start_time": "2023-04-24T00:14:18.118Z"
   },
   {
    "duration": 31,
    "start_time": "2023-04-24T00:14:19.886Z"
   },
   {
    "duration": 1013,
    "start_time": "2023-04-24T00:14:35.868Z"
   },
   {
    "duration": 51,
    "start_time": "2023-04-24T00:14:36.883Z"
   },
   {
    "duration": 16,
    "start_time": "2023-04-24T00:14:36.935Z"
   },
   {
    "duration": 13,
    "start_time": "2023-04-24T00:14:36.953Z"
   },
   {
    "duration": 16,
    "start_time": "2023-04-24T00:14:36.968Z"
   },
   {
    "duration": 10,
    "start_time": "2023-04-24T00:14:36.985Z"
   },
   {
    "duration": 20,
    "start_time": "2023-04-24T00:14:36.997Z"
   },
   {
    "duration": 21,
    "start_time": "2023-04-24T00:14:37.019Z"
   },
   {
    "duration": 12,
    "start_time": "2023-04-24T00:14:37.041Z"
   },
   {
    "duration": 22,
    "start_time": "2023-04-24T00:14:37.054Z"
   },
   {
    "duration": 22,
    "start_time": "2023-04-24T00:14:37.077Z"
   },
   {
    "duration": 3,
    "start_time": "2023-04-24T00:14:37.100Z"
   },
   {
    "duration": 19,
    "start_time": "2023-04-24T00:14:37.105Z"
   },
   {
    "duration": 4,
    "start_time": "2023-04-24T00:14:37.127Z"
   },
   {
    "duration": 5,
    "start_time": "2023-04-24T00:14:37.132Z"
   },
   {
    "duration": 8,
    "start_time": "2023-04-24T00:14:37.139Z"
   },
   {
    "duration": 32,
    "start_time": "2023-04-24T00:14:37.148Z"
   },
   {
    "duration": 29,
    "start_time": "2023-04-24T00:14:37.181Z"
   },
   {
    "duration": 20,
    "start_time": "2023-04-24T00:14:37.211Z"
   },
   {
    "duration": 170,
    "start_time": "2023-04-24T00:14:37.232Z"
   },
   {
    "duration": 6,
    "start_time": "2023-04-24T00:14:37.403Z"
   },
   {
    "duration": 150,
    "start_time": "2023-04-24T00:14:37.410Z"
   },
   {
    "duration": 12,
    "start_time": "2023-04-24T00:14:37.562Z"
   },
   {
    "duration": 14,
    "start_time": "2023-04-24T00:14:37.575Z"
   },
   {
    "duration": 5,
    "start_time": "2023-04-24T00:14:37.591Z"
   },
   {
    "duration": 145,
    "start_time": "2023-04-24T00:14:37.597Z"
   },
   {
    "duration": 13,
    "start_time": "2023-04-24T00:14:37.744Z"
   },
   {
    "duration": 25,
    "start_time": "2023-04-24T00:14:37.758Z"
   },
   {
    "duration": 32,
    "start_time": "2023-04-24T00:14:37.785Z"
   },
   {
    "duration": 5,
    "start_time": "2023-04-24T00:14:37.819Z"
   },
   {
    "duration": 1449,
    "start_time": "2023-04-24T00:14:37.826Z"
   },
   {
    "duration": 0,
    "start_time": "2023-04-24T00:14:39.276Z"
   },
   {
    "duration": 0,
    "start_time": "2023-04-24T00:14:39.277Z"
   },
   {
    "duration": 0,
    "start_time": "2023-04-24T00:14:39.278Z"
   },
   {
    "duration": 0,
    "start_time": "2023-04-24T00:14:39.279Z"
   },
   {
    "duration": 0,
    "start_time": "2023-04-24T00:14:39.281Z"
   },
   {
    "duration": 0,
    "start_time": "2023-04-24T00:14:39.282Z"
   },
   {
    "duration": 0,
    "start_time": "2023-04-24T00:14:39.283Z"
   },
   {
    "duration": 0,
    "start_time": "2023-04-24T00:14:39.283Z"
   },
   {
    "duration": 0,
    "start_time": "2023-04-24T00:14:39.284Z"
   },
   {
    "duration": 0,
    "start_time": "2023-04-24T00:14:39.285Z"
   },
   {
    "duration": 0,
    "start_time": "2023-04-24T00:14:39.286Z"
   },
   {
    "duration": 0,
    "start_time": "2023-04-24T00:14:39.287Z"
   },
   {
    "duration": 0,
    "start_time": "2023-04-24T00:14:39.288Z"
   },
   {
    "duration": 0,
    "start_time": "2023-04-24T00:14:39.289Z"
   },
   {
    "duration": 0,
    "start_time": "2023-04-24T00:14:39.290Z"
   },
   {
    "duration": 0,
    "start_time": "2023-04-24T00:14:39.291Z"
   },
   {
    "duration": 0,
    "start_time": "2023-04-24T00:14:39.291Z"
   },
   {
    "duration": 0,
    "start_time": "2023-04-24T00:14:39.292Z"
   },
   {
    "duration": 0,
    "start_time": "2023-04-24T00:14:39.293Z"
   },
   {
    "duration": 0,
    "start_time": "2023-04-24T00:14:39.294Z"
   },
   {
    "duration": 0,
    "start_time": "2023-04-24T00:14:39.295Z"
   },
   {
    "duration": 0,
    "start_time": "2023-04-24T00:14:39.295Z"
   },
   {
    "duration": 0,
    "start_time": "2023-04-24T00:14:39.296Z"
   },
   {
    "duration": 14,
    "start_time": "2023-04-24T00:15:22.404Z"
   },
   {
    "duration": 986,
    "start_time": "2023-04-24T00:15:28.528Z"
   },
   {
    "duration": 53,
    "start_time": "2023-04-24T00:15:29.516Z"
   },
   {
    "duration": 19,
    "start_time": "2023-04-24T00:15:29.571Z"
   },
   {
    "duration": 13,
    "start_time": "2023-04-24T00:15:29.591Z"
   },
   {
    "duration": 14,
    "start_time": "2023-04-24T00:15:29.607Z"
   },
   {
    "duration": 13,
    "start_time": "2023-04-24T00:15:29.622Z"
   },
   {
    "duration": 52,
    "start_time": "2023-04-24T00:15:29.636Z"
   },
   {
    "duration": 15,
    "start_time": "2023-04-24T00:15:29.689Z"
   },
   {
    "duration": 12,
    "start_time": "2023-04-24T00:15:29.706Z"
   },
   {
    "duration": 6,
    "start_time": "2023-04-24T00:15:29.720Z"
   },
   {
    "duration": 31,
    "start_time": "2023-04-24T00:15:29.727Z"
   },
   {
    "duration": 4,
    "start_time": "2023-04-24T00:15:29.771Z"
   },
   {
    "duration": 22,
    "start_time": "2023-04-24T00:15:29.776Z"
   },
   {
    "duration": 4,
    "start_time": "2023-04-24T00:15:29.801Z"
   },
   {
    "duration": 5,
    "start_time": "2023-04-24T00:15:29.806Z"
   },
   {
    "duration": 23,
    "start_time": "2023-04-24T00:15:29.813Z"
   },
   {
    "duration": 32,
    "start_time": "2023-04-24T00:15:29.838Z"
   },
   {
    "duration": 41,
    "start_time": "2023-04-24T00:15:29.872Z"
   },
   {
    "duration": 21,
    "start_time": "2023-04-24T00:15:29.915Z"
   },
   {
    "duration": 163,
    "start_time": "2023-04-24T00:15:29.938Z"
   },
   {
    "duration": 7,
    "start_time": "2023-04-24T00:15:30.103Z"
   },
   {
    "duration": 179,
    "start_time": "2023-04-24T00:15:30.112Z"
   },
   {
    "duration": 9,
    "start_time": "2023-04-24T00:15:30.293Z"
   },
   {
    "duration": 43,
    "start_time": "2023-04-24T00:15:30.304Z"
   },
   {
    "duration": 29,
    "start_time": "2023-04-24T00:15:30.348Z"
   },
   {
    "duration": 177,
    "start_time": "2023-04-24T00:15:30.378Z"
   },
   {
    "duration": 20,
    "start_time": "2023-04-24T00:15:30.557Z"
   },
   {
    "duration": 26,
    "start_time": "2023-04-24T00:15:30.578Z"
   },
   {
    "duration": 40,
    "start_time": "2023-04-24T00:15:30.606Z"
   },
   {
    "duration": 1222,
    "start_time": "2023-04-24T00:15:30.648Z"
   },
   {
    "duration": 0,
    "start_time": "2023-04-24T00:15:31.871Z"
   },
   {
    "duration": 0,
    "start_time": "2023-04-24T00:15:31.873Z"
   },
   {
    "duration": 0,
    "start_time": "2023-04-24T00:15:31.874Z"
   },
   {
    "duration": 0,
    "start_time": "2023-04-24T00:15:31.875Z"
   },
   {
    "duration": 0,
    "start_time": "2023-04-24T00:15:31.875Z"
   },
   {
    "duration": 0,
    "start_time": "2023-04-24T00:15:31.876Z"
   },
   {
    "duration": 0,
    "start_time": "2023-04-24T00:15:31.877Z"
   },
   {
    "duration": 0,
    "start_time": "2023-04-24T00:15:31.878Z"
   },
   {
    "duration": 0,
    "start_time": "2023-04-24T00:15:31.878Z"
   },
   {
    "duration": 0,
    "start_time": "2023-04-24T00:15:31.879Z"
   },
   {
    "duration": 0,
    "start_time": "2023-04-24T00:15:31.881Z"
   },
   {
    "duration": 0,
    "start_time": "2023-04-24T00:15:31.882Z"
   },
   {
    "duration": 0,
    "start_time": "2023-04-24T00:15:31.883Z"
   },
   {
    "duration": 0,
    "start_time": "2023-04-24T00:15:31.883Z"
   },
   {
    "duration": 0,
    "start_time": "2023-04-24T00:15:31.884Z"
   },
   {
    "duration": 0,
    "start_time": "2023-04-24T00:15:31.886Z"
   },
   {
    "duration": 0,
    "start_time": "2023-04-24T00:15:31.886Z"
   },
   {
    "duration": 0,
    "start_time": "2023-04-24T00:15:31.887Z"
   },
   {
    "duration": 0,
    "start_time": "2023-04-24T00:15:31.888Z"
   },
   {
    "duration": 0,
    "start_time": "2023-04-24T00:15:31.889Z"
   },
   {
    "duration": 0,
    "start_time": "2023-04-24T00:15:31.890Z"
   },
   {
    "duration": 0,
    "start_time": "2023-04-24T00:15:31.890Z"
   },
   {
    "duration": 0,
    "start_time": "2023-04-24T00:15:31.892Z"
   },
   {
    "duration": 1,
    "start_time": "2023-04-24T00:15:31.892Z"
   },
   {
    "duration": 30,
    "start_time": "2023-04-24T00:15:41.911Z"
   },
   {
    "duration": 30,
    "start_time": "2023-04-24T00:16:41.924Z"
   },
   {
    "duration": 15,
    "start_time": "2023-04-24T00:17:42.693Z"
   },
   {
    "duration": 13,
    "start_time": "2023-04-24T00:17:48.820Z"
   },
   {
    "duration": 27,
    "start_time": "2023-04-24T00:17:49.506Z"
   },
   {
    "duration": 1017,
    "start_time": "2023-04-24T00:17:56.471Z"
   },
   {
    "duration": 50,
    "start_time": "2023-04-24T00:17:57.489Z"
   },
   {
    "duration": 15,
    "start_time": "2023-04-24T00:17:57.540Z"
   },
   {
    "duration": 11,
    "start_time": "2023-04-24T00:17:57.557Z"
   },
   {
    "duration": 14,
    "start_time": "2023-04-24T00:17:57.570Z"
   },
   {
    "duration": 11,
    "start_time": "2023-04-24T00:17:57.585Z"
   },
   {
    "duration": 22,
    "start_time": "2023-04-24T00:17:57.598Z"
   },
   {
    "duration": 14,
    "start_time": "2023-04-24T00:17:57.622Z"
   },
   {
    "duration": 16,
    "start_time": "2023-04-24T00:17:57.637Z"
   },
   {
    "duration": 19,
    "start_time": "2023-04-24T00:17:57.655Z"
   },
   {
    "duration": 20,
    "start_time": "2023-04-24T00:17:57.676Z"
   },
   {
    "duration": 4,
    "start_time": "2023-04-24T00:17:57.697Z"
   },
   {
    "duration": 15,
    "start_time": "2023-04-24T00:17:57.702Z"
   },
   {
    "duration": 4,
    "start_time": "2023-04-24T00:17:57.719Z"
   },
   {
    "duration": 11,
    "start_time": "2023-04-24T00:17:57.724Z"
   },
   {
    "duration": 6,
    "start_time": "2023-04-24T00:17:57.736Z"
   },
   {
    "duration": 32,
    "start_time": "2023-04-24T00:17:57.744Z"
   },
   {
    "duration": 27,
    "start_time": "2023-04-24T00:17:57.777Z"
   },
   {
    "duration": 19,
    "start_time": "2023-04-24T00:17:57.805Z"
   },
   {
    "duration": 157,
    "start_time": "2023-04-24T00:17:57.825Z"
   },
   {
    "duration": 6,
    "start_time": "2023-04-24T00:17:57.984Z"
   },
   {
    "duration": 152,
    "start_time": "2023-04-24T00:17:57.991Z"
   },
   {
    "duration": 7,
    "start_time": "2023-04-24T00:17:58.144Z"
   },
   {
    "duration": 23,
    "start_time": "2023-04-24T00:17:58.152Z"
   },
   {
    "duration": 4,
    "start_time": "2023-04-24T00:17:58.176Z"
   },
   {
    "duration": 137,
    "start_time": "2023-04-24T00:17:58.181Z"
   },
   {
    "duration": 12,
    "start_time": "2023-04-24T00:17:58.320Z"
   },
   {
    "duration": 13,
    "start_time": "2023-04-24T00:17:58.333Z"
   },
   {
    "duration": 44,
    "start_time": "2023-04-24T00:17:58.348Z"
   },
   {
    "duration": 5,
    "start_time": "2023-04-24T00:17:58.393Z"
   },
   {
    "duration": 944,
    "start_time": "2023-04-24T00:17:58.399Z"
   },
   {
    "duration": 0,
    "start_time": "2023-04-24T00:17:59.344Z"
   },
   {
    "duration": 0,
    "start_time": "2023-04-24T00:17:59.345Z"
   },
   {
    "duration": 0,
    "start_time": "2023-04-24T00:17:59.346Z"
   },
   {
    "duration": 0,
    "start_time": "2023-04-24T00:17:59.347Z"
   },
   {
    "duration": 0,
    "start_time": "2023-04-24T00:17:59.347Z"
   },
   {
    "duration": 0,
    "start_time": "2023-04-24T00:17:59.348Z"
   },
   {
    "duration": 0,
    "start_time": "2023-04-24T00:17:59.348Z"
   },
   {
    "duration": 0,
    "start_time": "2023-04-24T00:17:59.349Z"
   },
   {
    "duration": 0,
    "start_time": "2023-04-24T00:17:59.350Z"
   },
   {
    "duration": 0,
    "start_time": "2023-04-24T00:17:59.351Z"
   },
   {
    "duration": 0,
    "start_time": "2023-04-24T00:17:59.351Z"
   },
   {
    "duration": 0,
    "start_time": "2023-04-24T00:17:59.352Z"
   },
   {
    "duration": 0,
    "start_time": "2023-04-24T00:17:59.352Z"
   },
   {
    "duration": 0,
    "start_time": "2023-04-24T00:17:59.353Z"
   },
   {
    "duration": 0,
    "start_time": "2023-04-24T00:17:59.354Z"
   },
   {
    "duration": 0,
    "start_time": "2023-04-24T00:17:59.355Z"
   },
   {
    "duration": 0,
    "start_time": "2023-04-24T00:17:59.355Z"
   },
   {
    "duration": 0,
    "start_time": "2023-04-24T00:17:59.356Z"
   },
   {
    "duration": 0,
    "start_time": "2023-04-24T00:17:59.357Z"
   },
   {
    "duration": 0,
    "start_time": "2023-04-24T00:17:59.358Z"
   },
   {
    "duration": 0,
    "start_time": "2023-04-24T00:17:59.359Z"
   },
   {
    "duration": 0,
    "start_time": "2023-04-24T00:17:59.359Z"
   },
   {
    "duration": 0,
    "start_time": "2023-04-24T00:17:59.360Z"
   },
   {
    "duration": 10,
    "start_time": "2023-04-24T00:22:24.168Z"
   },
   {
    "duration": 11,
    "start_time": "2023-04-24T00:22:39.527Z"
   },
   {
    "duration": 14,
    "start_time": "2023-04-24T00:22:43.126Z"
   },
   {
    "duration": 1043,
    "start_time": "2023-04-24T00:22:58.654Z"
   },
   {
    "duration": 59,
    "start_time": "2023-04-24T00:22:59.699Z"
   },
   {
    "duration": 15,
    "start_time": "2023-04-24T00:22:59.760Z"
   },
   {
    "duration": 25,
    "start_time": "2023-04-24T00:22:59.777Z"
   },
   {
    "duration": 21,
    "start_time": "2023-04-24T00:22:59.803Z"
   },
   {
    "duration": 10,
    "start_time": "2023-04-24T00:22:59.826Z"
   },
   {
    "duration": 31,
    "start_time": "2023-04-24T00:22:59.838Z"
   },
   {
    "duration": 14,
    "start_time": "2023-04-24T00:22:59.870Z"
   },
   {
    "duration": 12,
    "start_time": "2023-04-24T00:22:59.886Z"
   },
   {
    "duration": 5,
    "start_time": "2023-04-24T00:22:59.901Z"
   },
   {
    "duration": 20,
    "start_time": "2023-04-24T00:22:59.907Z"
   },
   {
    "duration": 4,
    "start_time": "2023-04-24T00:22:59.928Z"
   },
   {
    "duration": 39,
    "start_time": "2023-04-24T00:22:59.933Z"
   },
   {
    "duration": 5,
    "start_time": "2023-04-24T00:22:59.973Z"
   },
   {
    "duration": 7,
    "start_time": "2023-04-24T00:22:59.979Z"
   },
   {
    "duration": 13,
    "start_time": "2023-04-24T00:22:59.987Z"
   },
   {
    "duration": 14,
    "start_time": "2023-04-24T00:23:00.001Z"
   },
   {
    "duration": 47,
    "start_time": "2023-04-24T00:23:00.017Z"
   },
   {
    "duration": 21,
    "start_time": "2023-04-24T00:23:00.066Z"
   },
   {
    "duration": 151,
    "start_time": "2023-04-24T00:23:00.089Z"
   },
   {
    "duration": 7,
    "start_time": "2023-04-24T00:23:00.241Z"
   },
   {
    "duration": 171,
    "start_time": "2023-04-24T00:23:00.249Z"
   },
   {
    "duration": 9,
    "start_time": "2023-04-24T00:23:00.421Z"
   },
   {
    "duration": 44,
    "start_time": "2023-04-24T00:23:00.431Z"
   },
   {
    "duration": 31,
    "start_time": "2023-04-24T00:23:00.477Z"
   },
   {
    "duration": 173,
    "start_time": "2023-04-24T00:23:00.510Z"
   },
   {
    "duration": 14,
    "start_time": "2023-04-24T00:23:00.685Z"
   },
   {
    "duration": 52,
    "start_time": "2023-04-24T00:23:00.701Z"
   },
   {
    "duration": 58,
    "start_time": "2023-04-24T00:23:00.754Z"
   },
   {
    "duration": 50,
    "start_time": "2023-04-24T00:23:00.814Z"
   },
   {
    "duration": 49,
    "start_time": "2023-04-24T00:23:00.866Z"
   },
   {
    "duration": 1151,
    "start_time": "2023-04-24T00:23:00.917Z"
   },
   {
    "duration": 0,
    "start_time": "2023-04-24T00:23:02.070Z"
   },
   {
    "duration": 0,
    "start_time": "2023-04-24T00:23:02.071Z"
   },
   {
    "duration": 0,
    "start_time": "2023-04-24T00:23:02.072Z"
   },
   {
    "duration": 0,
    "start_time": "2023-04-24T00:23:02.073Z"
   },
   {
    "duration": 0,
    "start_time": "2023-04-24T00:23:02.073Z"
   },
   {
    "duration": 0,
    "start_time": "2023-04-24T00:23:02.074Z"
   },
   {
    "duration": 0,
    "start_time": "2023-04-24T00:23:02.075Z"
   },
   {
    "duration": 0,
    "start_time": "2023-04-24T00:23:02.075Z"
   },
   {
    "duration": 0,
    "start_time": "2023-04-24T00:23:02.076Z"
   },
   {
    "duration": 0,
    "start_time": "2023-04-24T00:23:02.077Z"
   },
   {
    "duration": 0,
    "start_time": "2023-04-24T00:23:02.078Z"
   },
   {
    "duration": 0,
    "start_time": "2023-04-24T00:23:02.079Z"
   },
   {
    "duration": 0,
    "start_time": "2023-04-24T00:23:02.079Z"
   },
   {
    "duration": 0,
    "start_time": "2023-04-24T00:23:02.080Z"
   },
   {
    "duration": 0,
    "start_time": "2023-04-24T00:23:02.081Z"
   },
   {
    "duration": 0,
    "start_time": "2023-04-24T00:23:02.081Z"
   },
   {
    "duration": 0,
    "start_time": "2023-04-24T00:23:02.082Z"
   },
   {
    "duration": 0,
    "start_time": "2023-04-24T00:23:02.083Z"
   },
   {
    "duration": 0,
    "start_time": "2023-04-24T00:23:02.084Z"
   },
   {
    "duration": 0,
    "start_time": "2023-04-24T00:23:02.084Z"
   },
   {
    "duration": 0,
    "start_time": "2023-04-24T00:23:02.085Z"
   },
   {
    "duration": 0,
    "start_time": "2023-04-24T00:23:02.086Z"
   },
   {
    "duration": 0,
    "start_time": "2023-04-24T00:23:02.087Z"
   },
   {
    "duration": 26,
    "start_time": "2023-04-24T00:23:19.491Z"
   },
   {
    "duration": 25,
    "start_time": "2023-04-24T00:23:56.611Z"
   },
   {
    "duration": 985,
    "start_time": "2023-04-24T00:24:04.606Z"
   },
   {
    "duration": 50,
    "start_time": "2023-04-24T00:24:05.592Z"
   },
   {
    "duration": 15,
    "start_time": "2023-04-24T00:24:05.644Z"
   },
   {
    "duration": 19,
    "start_time": "2023-04-24T00:24:05.661Z"
   },
   {
    "duration": 17,
    "start_time": "2023-04-24T00:24:05.683Z"
   },
   {
    "duration": 23,
    "start_time": "2023-04-24T00:24:05.702Z"
   },
   {
    "duration": 30,
    "start_time": "2023-04-24T00:24:05.726Z"
   },
   {
    "duration": 16,
    "start_time": "2023-04-24T00:24:05.758Z"
   },
   {
    "duration": 19,
    "start_time": "2023-04-24T00:24:05.775Z"
   },
   {
    "duration": 6,
    "start_time": "2023-04-24T00:24:05.796Z"
   },
   {
    "duration": 26,
    "start_time": "2023-04-24T00:24:05.804Z"
   },
   {
    "duration": 5,
    "start_time": "2023-04-24T00:24:05.832Z"
   },
   {
    "duration": 25,
    "start_time": "2023-04-24T00:24:05.838Z"
   },
   {
    "duration": 7,
    "start_time": "2023-04-24T00:24:05.866Z"
   },
   {
    "duration": 5,
    "start_time": "2023-04-24T00:24:05.874Z"
   },
   {
    "duration": 14,
    "start_time": "2023-04-24T00:24:05.881Z"
   },
   {
    "duration": 19,
    "start_time": "2023-04-24T00:24:05.896Z"
   },
   {
    "duration": 45,
    "start_time": "2023-04-24T00:24:05.917Z"
   },
   {
    "duration": 27,
    "start_time": "2023-04-24T00:24:05.972Z"
   },
   {
    "duration": 184,
    "start_time": "2023-04-24T00:24:06.001Z"
   },
   {
    "duration": 6,
    "start_time": "2023-04-24T00:24:06.186Z"
   },
   {
    "duration": 167,
    "start_time": "2023-04-24T00:24:06.194Z"
   },
   {
    "duration": 14,
    "start_time": "2023-04-24T00:24:06.362Z"
   },
   {
    "duration": 13,
    "start_time": "2023-04-24T00:24:06.377Z"
   },
   {
    "duration": 5,
    "start_time": "2023-04-24T00:24:06.392Z"
   },
   {
    "duration": 144,
    "start_time": "2023-04-24T00:24:06.398Z"
   },
   {
    "duration": 33,
    "start_time": "2023-04-24T00:24:06.544Z"
   },
   {
    "duration": 1056,
    "start_time": "2023-04-24T00:24:06.579Z"
   },
   {
    "duration": 0,
    "start_time": "2023-04-24T00:24:07.637Z"
   },
   {
    "duration": 0,
    "start_time": "2023-04-24T00:24:07.639Z"
   },
   {
    "duration": 0,
    "start_time": "2023-04-24T00:24:07.639Z"
   },
   {
    "duration": 0,
    "start_time": "2023-04-24T00:24:07.640Z"
   },
   {
    "duration": 0,
    "start_time": "2023-04-24T00:24:07.641Z"
   },
   {
    "duration": 0,
    "start_time": "2023-04-24T00:24:07.642Z"
   },
   {
    "duration": 0,
    "start_time": "2023-04-24T00:24:07.643Z"
   },
   {
    "duration": 0,
    "start_time": "2023-04-24T00:24:07.644Z"
   },
   {
    "duration": 0,
    "start_time": "2023-04-24T00:24:07.644Z"
   },
   {
    "duration": 0,
    "start_time": "2023-04-24T00:24:07.645Z"
   },
   {
    "duration": 0,
    "start_time": "2023-04-24T00:24:07.646Z"
   },
   {
    "duration": 0,
    "start_time": "2023-04-24T00:24:07.647Z"
   },
   {
    "duration": 0,
    "start_time": "2023-04-24T00:24:07.647Z"
   },
   {
    "duration": 0,
    "start_time": "2023-04-24T00:24:07.648Z"
   },
   {
    "duration": 0,
    "start_time": "2023-04-24T00:24:07.649Z"
   },
   {
    "duration": 0,
    "start_time": "2023-04-24T00:24:07.650Z"
   },
   {
    "duration": 0,
    "start_time": "2023-04-24T00:24:07.651Z"
   },
   {
    "duration": 0,
    "start_time": "2023-04-24T00:24:07.652Z"
   },
   {
    "duration": 0,
    "start_time": "2023-04-24T00:24:07.653Z"
   },
   {
    "duration": 0,
    "start_time": "2023-04-24T00:24:07.654Z"
   },
   {
    "duration": 0,
    "start_time": "2023-04-24T00:24:07.654Z"
   },
   {
    "duration": 0,
    "start_time": "2023-04-24T00:24:07.655Z"
   },
   {
    "duration": 0,
    "start_time": "2023-04-24T00:24:07.656Z"
   },
   {
    "duration": 0,
    "start_time": "2023-04-24T00:24:07.656Z"
   },
   {
    "duration": 13,
    "start_time": "2023-04-24T00:24:28.108Z"
   },
   {
    "duration": 234,
    "start_time": "2023-04-24T00:24:49.838Z"
   },
   {
    "duration": 7,
    "start_time": "2023-04-24T00:24:50.352Z"
   },
   {
    "duration": 13,
    "start_time": "2023-04-24T00:25:18.907Z"
   },
   {
    "duration": 23,
    "start_time": "2023-04-24T00:25:39.903Z"
   },
   {
    "duration": 1067,
    "start_time": "2023-04-24T00:26:56.428Z"
   },
   {
    "duration": 53,
    "start_time": "2023-04-24T00:26:57.496Z"
   },
   {
    "duration": 18,
    "start_time": "2023-04-24T00:26:57.551Z"
   },
   {
    "duration": 12,
    "start_time": "2023-04-24T00:26:57.571Z"
   },
   {
    "duration": 28,
    "start_time": "2023-04-24T00:26:57.585Z"
   },
   {
    "duration": 14,
    "start_time": "2023-04-24T00:26:57.615Z"
   },
   {
    "duration": 30,
    "start_time": "2023-04-24T00:26:57.630Z"
   },
   {
    "duration": 21,
    "start_time": "2023-04-24T00:26:57.662Z"
   },
   {
    "duration": 13,
    "start_time": "2023-04-24T00:26:57.684Z"
   },
   {
    "duration": 6,
    "start_time": "2023-04-24T00:26:57.700Z"
   },
   {
    "duration": 27,
    "start_time": "2023-04-24T00:26:57.708Z"
   },
   {
    "duration": 4,
    "start_time": "2023-04-24T00:26:57.736Z"
   },
   {
    "duration": 45,
    "start_time": "2023-04-24T00:26:57.742Z"
   },
   {
    "duration": 32,
    "start_time": "2023-04-24T00:26:57.789Z"
   },
   {
    "duration": 6,
    "start_time": "2023-04-24T00:26:57.824Z"
   },
   {
    "duration": 13,
    "start_time": "2023-04-24T00:26:57.832Z"
   },
   {
    "duration": 30,
    "start_time": "2023-04-24T00:26:57.847Z"
   },
   {
    "duration": 36,
    "start_time": "2023-04-24T00:26:57.879Z"
   },
   {
    "duration": 22,
    "start_time": "2023-04-24T00:26:57.917Z"
   },
   {
    "duration": 175,
    "start_time": "2023-04-24T00:26:57.941Z"
   },
   {
    "duration": 7,
    "start_time": "2023-04-24T00:26:58.118Z"
   },
   {
    "duration": 173,
    "start_time": "2023-04-24T00:26:58.127Z"
   },
   {
    "duration": 7,
    "start_time": "2023-04-24T00:26:58.302Z"
   },
   {
    "duration": 17,
    "start_time": "2023-04-24T00:26:58.310Z"
   },
   {
    "duration": 6,
    "start_time": "2023-04-24T00:26:58.329Z"
   },
   {
    "duration": 168,
    "start_time": "2023-04-24T00:26:58.337Z"
   },
   {
    "duration": 26,
    "start_time": "2023-04-24T00:26:58.506Z"
   },
   {
    "duration": 1246,
    "start_time": "2023-04-24T00:26:58.536Z"
   },
   {
    "duration": 0,
    "start_time": "2023-04-24T00:26:59.784Z"
   },
   {
    "duration": 0,
    "start_time": "2023-04-24T00:26:59.785Z"
   },
   {
    "duration": 0,
    "start_time": "2023-04-24T00:26:59.787Z"
   },
   {
    "duration": 0,
    "start_time": "2023-04-24T00:26:59.788Z"
   },
   {
    "duration": 0,
    "start_time": "2023-04-24T00:26:59.789Z"
   },
   {
    "duration": 0,
    "start_time": "2023-04-24T00:26:59.791Z"
   },
   {
    "duration": 0,
    "start_time": "2023-04-24T00:26:59.792Z"
   },
   {
    "duration": 0,
    "start_time": "2023-04-24T00:26:59.793Z"
   },
   {
    "duration": 0,
    "start_time": "2023-04-24T00:26:59.794Z"
   },
   {
    "duration": 0,
    "start_time": "2023-04-24T00:26:59.795Z"
   },
   {
    "duration": 0,
    "start_time": "2023-04-24T00:26:59.796Z"
   },
   {
    "duration": 0,
    "start_time": "2023-04-24T00:26:59.798Z"
   },
   {
    "duration": 0,
    "start_time": "2023-04-24T00:26:59.799Z"
   },
   {
    "duration": 0,
    "start_time": "2023-04-24T00:26:59.800Z"
   },
   {
    "duration": 0,
    "start_time": "2023-04-24T00:26:59.801Z"
   },
   {
    "duration": 0,
    "start_time": "2023-04-24T00:26:59.803Z"
   },
   {
    "duration": 0,
    "start_time": "2023-04-24T00:26:59.805Z"
   },
   {
    "duration": 0,
    "start_time": "2023-04-24T00:26:59.806Z"
   },
   {
    "duration": 0,
    "start_time": "2023-04-24T00:26:59.807Z"
   },
   {
    "duration": 0,
    "start_time": "2023-04-24T00:26:59.808Z"
   },
   {
    "duration": 0,
    "start_time": "2023-04-24T00:26:59.810Z"
   },
   {
    "duration": 0,
    "start_time": "2023-04-24T00:26:59.811Z"
   },
   {
    "duration": 0,
    "start_time": "2023-04-24T00:26:59.812Z"
   },
   {
    "duration": 0,
    "start_time": "2023-04-24T00:26:59.814Z"
   },
   {
    "duration": 957,
    "start_time": "2023-04-24T00:27:39.436Z"
   },
   {
    "duration": 52,
    "start_time": "2023-04-24T00:27:40.395Z"
   },
   {
    "duration": 15,
    "start_time": "2023-04-24T00:27:40.449Z"
   },
   {
    "duration": 12,
    "start_time": "2023-04-24T00:27:40.465Z"
   },
   {
    "duration": 13,
    "start_time": "2023-04-24T00:27:40.478Z"
   },
   {
    "duration": 10,
    "start_time": "2023-04-24T00:27:40.493Z"
   },
   {
    "duration": 34,
    "start_time": "2023-04-24T00:27:40.504Z"
   },
   {
    "duration": 14,
    "start_time": "2023-04-24T00:27:40.540Z"
   },
   {
    "duration": 22,
    "start_time": "2023-04-24T00:27:40.555Z"
   },
   {
    "duration": 6,
    "start_time": "2023-04-24T00:27:40.579Z"
   },
   {
    "duration": 22,
    "start_time": "2023-04-24T00:27:40.586Z"
   },
   {
    "duration": 4,
    "start_time": "2023-04-24T00:27:40.609Z"
   },
   {
    "duration": 20,
    "start_time": "2023-04-24T00:27:40.614Z"
   },
   {
    "duration": 5,
    "start_time": "2023-04-24T00:27:40.636Z"
   },
   {
    "duration": 4,
    "start_time": "2023-04-24T00:27:40.672Z"
   },
   {
    "duration": 8,
    "start_time": "2023-04-24T00:27:40.678Z"
   },
   {
    "duration": 32,
    "start_time": "2023-04-24T00:27:40.687Z"
   },
   {
    "duration": 45,
    "start_time": "2023-04-24T00:27:40.720Z"
   },
   {
    "duration": 22,
    "start_time": "2023-04-24T00:27:40.767Z"
   },
   {
    "duration": 163,
    "start_time": "2023-04-24T00:27:40.791Z"
   },
   {
    "duration": 5,
    "start_time": "2023-04-24T00:27:40.956Z"
   },
   {
    "duration": 192,
    "start_time": "2023-04-24T00:27:40.963Z"
   },
   {
    "duration": 15,
    "start_time": "2023-04-24T00:27:41.157Z"
   },
   {
    "duration": 13,
    "start_time": "2023-04-24T00:27:41.174Z"
   },
   {
    "duration": 7,
    "start_time": "2023-04-24T00:27:41.188Z"
   },
   {
    "duration": 154,
    "start_time": "2023-04-24T00:27:41.196Z"
   },
   {
    "duration": 32,
    "start_time": "2023-04-24T00:27:41.352Z"
   },
   {
    "duration": 13,
    "start_time": "2023-04-24T00:27:41.390Z"
   },
   {
    "duration": 231,
    "start_time": "2023-04-24T00:27:41.405Z"
   },
   {
    "duration": 13,
    "start_time": "2023-04-24T00:27:41.638Z"
   },
   {
    "duration": 21,
    "start_time": "2023-04-24T00:27:41.653Z"
   },
   {
    "duration": 60,
    "start_time": "2023-04-24T00:27:41.675Z"
   },
   {
    "duration": 1447,
    "start_time": "2023-04-24T00:27:41.737Z"
   },
   {
    "duration": 169,
    "start_time": "2023-04-24T00:27:43.186Z"
   },
   {
    "duration": 52,
    "start_time": "2023-04-24T00:27:43.356Z"
   },
   {
    "duration": 8,
    "start_time": "2023-04-24T00:27:43.410Z"
   },
   {
    "duration": 255,
    "start_time": "2023-04-24T00:27:43.419Z"
   },
   {
    "duration": 8,
    "start_time": "2023-04-24T00:27:43.675Z"
   },
   {
    "duration": 183,
    "start_time": "2023-04-24T00:27:43.684Z"
   },
   {
    "duration": 236,
    "start_time": "2023-04-24T00:27:43.868Z"
   },
   {
    "duration": 7,
    "start_time": "2023-04-24T00:27:44.105Z"
   },
   {
    "duration": 10,
    "start_time": "2023-04-24T00:27:44.114Z"
   },
   {
    "duration": 17,
    "start_time": "2023-04-24T00:27:44.125Z"
   },
   {
    "duration": 31,
    "start_time": "2023-04-24T00:27:44.143Z"
   },
   {
    "duration": 19,
    "start_time": "2023-04-24T00:27:44.175Z"
   },
   {
    "duration": 11,
    "start_time": "2023-04-24T00:27:44.195Z"
   },
   {
    "duration": 17,
    "start_time": "2023-04-24T00:27:44.208Z"
   },
   {
    "duration": 36,
    "start_time": "2023-04-24T00:27:44.227Z"
   },
   {
    "duration": 12,
    "start_time": "2023-04-24T00:27:44.264Z"
   },
   {
    "duration": 143,
    "start_time": "2023-04-24T00:27:44.277Z"
   },
   {
    "duration": 8,
    "start_time": "2023-04-24T00:27:44.421Z"
   },
   {
    "duration": 8,
    "start_time": "2023-04-24T00:27:44.430Z"
   },
   {
    "duration": 11,
    "start_time": "2023-04-24T00:31:14.303Z"
   },
   {
    "duration": 110,
    "start_time": "2023-04-24T00:31:33.319Z"
   },
   {
    "duration": 8,
    "start_time": "2023-04-24T00:31:43.844Z"
   },
   {
    "duration": 9,
    "start_time": "2023-04-24T00:34:40.568Z"
   },
   {
    "duration": 980,
    "start_time": "2023-04-24T00:59:29.535Z"
   },
   {
    "duration": 53,
    "start_time": "2023-04-24T00:59:30.517Z"
   },
   {
    "duration": 18,
    "start_time": "2023-04-24T00:59:30.571Z"
   },
   {
    "duration": 50,
    "start_time": "2023-04-24T00:59:30.591Z"
   },
   {
    "duration": 50,
    "start_time": "2023-04-24T00:59:30.642Z"
   },
   {
    "duration": 29,
    "start_time": "2023-04-24T00:59:30.694Z"
   },
   {
    "duration": 56,
    "start_time": "2023-04-24T00:59:30.725Z"
   },
   {
    "duration": 22,
    "start_time": "2023-04-24T00:59:30.783Z"
   },
   {
    "duration": 23,
    "start_time": "2023-04-24T00:59:30.806Z"
   },
   {
    "duration": 20,
    "start_time": "2023-04-24T00:59:30.831Z"
   },
   {
    "duration": 64,
    "start_time": "2023-04-24T00:59:30.852Z"
   },
   {
    "duration": 14,
    "start_time": "2023-04-24T00:59:30.918Z"
   },
   {
    "duration": 52,
    "start_time": "2023-04-24T00:59:30.933Z"
   },
   {
    "duration": 59,
    "start_time": "2023-04-24T00:59:30.986Z"
   },
   {
    "duration": 38,
    "start_time": "2023-04-24T00:59:31.046Z"
   },
   {
    "duration": 45,
    "start_time": "2023-04-24T00:59:31.085Z"
   },
   {
    "duration": 38,
    "start_time": "2023-04-24T00:59:31.131Z"
   },
   {
    "duration": 48,
    "start_time": "2023-04-24T00:59:31.170Z"
   },
   {
    "duration": 20,
    "start_time": "2023-04-24T00:59:31.219Z"
   },
   {
    "duration": 161,
    "start_time": "2023-04-24T00:59:31.240Z"
   },
   {
    "duration": 5,
    "start_time": "2023-04-24T00:59:31.403Z"
   },
   {
    "duration": 160,
    "start_time": "2023-04-24T00:59:31.410Z"
   },
   {
    "duration": 7,
    "start_time": "2023-04-24T00:59:31.571Z"
   },
   {
    "duration": 45,
    "start_time": "2023-04-24T00:59:31.579Z"
   },
   {
    "duration": 35,
    "start_time": "2023-04-24T00:59:31.626Z"
   },
   {
    "duration": 197,
    "start_time": "2023-04-24T00:59:31.663Z"
   },
   {
    "duration": 25,
    "start_time": "2023-04-24T00:59:31.861Z"
   },
   {
    "duration": 15,
    "start_time": "2023-04-24T00:59:31.889Z"
   },
   {
    "duration": 213,
    "start_time": "2023-04-24T00:59:31.905Z"
   },
   {
    "duration": 12,
    "start_time": "2023-04-24T00:59:32.120Z"
   },
   {
    "duration": 44,
    "start_time": "2023-04-24T00:59:32.133Z"
   },
   {
    "duration": 46,
    "start_time": "2023-04-24T00:59:32.178Z"
   },
   {
    "duration": 1300,
    "start_time": "2023-04-24T00:59:32.226Z"
   },
   {
    "duration": 145,
    "start_time": "2023-04-24T00:59:33.528Z"
   },
   {
    "duration": 50,
    "start_time": "2023-04-24T00:59:33.675Z"
   },
   {
    "duration": 7,
    "start_time": "2023-04-24T00:59:33.727Z"
   },
   {
    "duration": 242,
    "start_time": "2023-04-24T00:59:33.736Z"
   },
   {
    "duration": 7,
    "start_time": "2023-04-24T00:59:33.980Z"
   },
   {
    "duration": 184,
    "start_time": "2023-04-24T00:59:33.988Z"
   },
   {
    "duration": 230,
    "start_time": "2023-04-24T00:59:34.173Z"
   },
   {
    "duration": 8,
    "start_time": "2023-04-24T00:59:34.404Z"
   },
   {
    "duration": 13,
    "start_time": "2023-04-24T00:59:34.413Z"
   },
   {
    "duration": 21,
    "start_time": "2023-04-24T00:59:34.428Z"
   },
   {
    "duration": 12,
    "start_time": "2023-04-24T00:59:34.450Z"
   },
   {
    "duration": 41,
    "start_time": "2023-04-24T00:59:34.463Z"
   },
   {
    "duration": 16,
    "start_time": "2023-04-24T00:59:34.505Z"
   },
   {
    "duration": 22,
    "start_time": "2023-04-24T00:59:34.522Z"
   },
   {
    "duration": 20,
    "start_time": "2023-04-24T00:59:34.545Z"
   },
   {
    "duration": 25,
    "start_time": "2023-04-24T00:59:34.566Z"
   },
   {
    "duration": 135,
    "start_time": "2023-04-24T00:59:34.593Z"
   },
   {
    "duration": 8,
    "start_time": "2023-04-24T00:59:34.730Z"
   },
   {
    "duration": 23,
    "start_time": "2023-04-24T00:59:34.739Z"
   },
   {
    "duration": 1199,
    "start_time": "2023-04-24T22:27:47.652Z"
   },
   {
    "duration": 59,
    "start_time": "2023-04-24T22:27:48.853Z"
   },
   {
    "duration": 21,
    "start_time": "2023-04-24T22:27:48.914Z"
   },
   {
    "duration": 16,
    "start_time": "2023-04-24T22:27:48.937Z"
   },
   {
    "duration": 35,
    "start_time": "2023-04-24T22:27:48.956Z"
   },
   {
    "duration": 30,
    "start_time": "2023-04-24T22:27:48.993Z"
   },
   {
    "duration": 31,
    "start_time": "2023-04-24T22:27:49.025Z"
   },
   {
    "duration": 29,
    "start_time": "2023-04-24T22:27:49.058Z"
   },
   {
    "duration": 18,
    "start_time": "2023-04-24T22:27:49.089Z"
   },
   {
    "duration": 9,
    "start_time": "2023-04-24T22:27:49.109Z"
   },
   {
    "duration": 40,
    "start_time": "2023-04-24T22:27:49.121Z"
   },
   {
    "duration": 6,
    "start_time": "2023-04-24T22:27:49.163Z"
   },
   {
    "duration": 21,
    "start_time": "2023-04-24T22:27:49.188Z"
   },
   {
    "duration": 14,
    "start_time": "2023-04-24T22:27:49.214Z"
   },
   {
    "duration": 8,
    "start_time": "2023-04-24T22:27:49.230Z"
   },
   {
    "duration": 15,
    "start_time": "2023-04-24T22:27:49.240Z"
   },
   {
    "duration": 31,
    "start_time": "2023-04-24T22:27:49.257Z"
   },
   {
    "duration": 37,
    "start_time": "2023-04-24T22:27:49.291Z"
   },
   {
    "duration": 25,
    "start_time": "2023-04-24T22:27:49.330Z"
   },
   {
    "duration": 205,
    "start_time": "2023-04-24T22:27:49.357Z"
   },
   {
    "duration": 7,
    "start_time": "2023-04-24T22:27:49.564Z"
   },
   {
    "duration": 204,
    "start_time": "2023-04-24T22:27:49.573Z"
   },
   {
    "duration": 15,
    "start_time": "2023-04-24T22:27:49.779Z"
   },
   {
    "duration": 21,
    "start_time": "2023-04-24T22:27:49.796Z"
   },
   {
    "duration": 11,
    "start_time": "2023-04-24T22:27:49.819Z"
   },
   {
    "duration": 190,
    "start_time": "2023-04-24T22:27:49.831Z"
   },
   {
    "duration": 30,
    "start_time": "2023-04-24T22:27:50.023Z"
   },
   {
    "duration": 13,
    "start_time": "2023-04-24T22:27:50.055Z"
   },
   {
    "duration": 257,
    "start_time": "2023-04-24T22:27:50.070Z"
   },
   {
    "duration": 15,
    "start_time": "2023-04-24T22:27:50.329Z"
   },
   {
    "duration": 7,
    "start_time": "2023-04-24T22:27:50.345Z"
   },
   {
    "duration": 84,
    "start_time": "2023-04-24T22:27:50.353Z"
   },
   {
    "duration": 1798,
    "start_time": "2023-04-24T22:27:50.440Z"
   },
   {
    "duration": 196,
    "start_time": "2023-04-24T22:27:52.239Z"
   },
   {
    "duration": 72,
    "start_time": "2023-04-24T22:27:52.437Z"
   },
   {
    "duration": 10,
    "start_time": "2023-04-24T22:27:52.511Z"
   },
   {
    "duration": 319,
    "start_time": "2023-04-24T22:27:52.523Z"
   },
   {
    "duration": 9,
    "start_time": "2023-04-24T22:27:52.844Z"
   },
   {
    "duration": 258,
    "start_time": "2023-04-24T22:27:52.855Z"
   },
   {
    "duration": 316,
    "start_time": "2023-04-24T22:27:53.115Z"
   },
   {
    "duration": 10,
    "start_time": "2023-04-24T22:27:53.436Z"
   },
   {
    "duration": 16,
    "start_time": "2023-04-24T22:27:53.448Z"
   },
   {
    "duration": 36,
    "start_time": "2023-04-24T22:27:53.466Z"
   },
   {
    "duration": 15,
    "start_time": "2023-04-24T22:27:53.504Z"
   },
   {
    "duration": 14,
    "start_time": "2023-04-24T22:27:53.521Z"
   },
   {
    "duration": 18,
    "start_time": "2023-04-24T22:27:53.537Z"
   },
   {
    "duration": 46,
    "start_time": "2023-04-24T22:27:53.556Z"
   },
   {
    "duration": 16,
    "start_time": "2023-04-24T22:27:53.604Z"
   },
   {
    "duration": 14,
    "start_time": "2023-04-24T22:27:53.622Z"
   },
   {
    "duration": 205,
    "start_time": "2023-04-24T22:27:53.638Z"
   },
   {
    "duration": 9,
    "start_time": "2023-04-24T22:27:53.844Z"
   },
   {
    "duration": 13,
    "start_time": "2023-04-24T22:27:53.855Z"
   },
   {
    "duration": 1166,
    "start_time": "2023-04-24T22:40:49.013Z"
   },
   {
    "duration": 58,
    "start_time": "2023-04-24T22:40:50.181Z"
   },
   {
    "duration": 20,
    "start_time": "2023-04-24T22:40:50.241Z"
   },
   {
    "duration": 17,
    "start_time": "2023-04-24T22:40:50.263Z"
   },
   {
    "duration": 18,
    "start_time": "2023-04-24T22:40:50.282Z"
   },
   {
    "duration": 14,
    "start_time": "2023-04-24T22:40:50.301Z"
   },
   {
    "duration": 29,
    "start_time": "2023-04-24T22:40:50.316Z"
   },
   {
    "duration": 18,
    "start_time": "2023-04-24T22:40:50.347Z"
   },
   {
    "duration": 33,
    "start_time": "2023-04-24T22:40:50.367Z"
   },
   {
    "duration": 7,
    "start_time": "2023-04-24T22:40:50.404Z"
   },
   {
    "duration": 33,
    "start_time": "2023-04-24T22:40:50.413Z"
   },
   {
    "duration": 7,
    "start_time": "2023-04-24T22:40:50.448Z"
   },
   {
    "duration": 45,
    "start_time": "2023-04-24T22:40:50.457Z"
   },
   {
    "duration": 11,
    "start_time": "2023-04-24T22:40:50.504Z"
   },
   {
    "duration": 12,
    "start_time": "2023-04-24T22:40:50.517Z"
   },
   {
    "duration": 14,
    "start_time": "2023-04-24T22:40:50.531Z"
   },
   {
    "duration": 44,
    "start_time": "2023-04-24T22:40:50.547Z"
   },
   {
    "duration": 53,
    "start_time": "2023-04-24T22:40:50.594Z"
   },
   {
    "duration": 46,
    "start_time": "2023-04-24T22:40:50.649Z"
   },
   {
    "duration": 206,
    "start_time": "2023-04-24T22:40:50.697Z"
   },
   {
    "duration": 7,
    "start_time": "2023-04-24T22:40:50.905Z"
   },
   {
    "duration": 192,
    "start_time": "2023-04-24T22:40:50.913Z"
   },
   {
    "duration": 9,
    "start_time": "2023-04-24T22:40:51.107Z"
   },
   {
    "duration": 52,
    "start_time": "2023-04-24T22:40:51.117Z"
   },
   {
    "duration": 11,
    "start_time": "2023-04-24T22:40:51.171Z"
   },
   {
    "duration": 182,
    "start_time": "2023-04-24T22:40:51.184Z"
   },
   {
    "duration": 6,
    "start_time": "2023-04-24T22:40:51.368Z"
   },
   {
    "duration": 27,
    "start_time": "2023-04-24T22:40:51.387Z"
   },
   {
    "duration": 31,
    "start_time": "2023-04-24T22:40:51.416Z"
   },
   {
    "duration": 272,
    "start_time": "2023-04-24T22:40:51.449Z"
   },
   {
    "duration": 15,
    "start_time": "2023-04-24T22:40:51.723Z"
   },
   {
    "duration": 6,
    "start_time": "2023-04-24T22:40:51.740Z"
   },
   {
    "duration": 68,
    "start_time": "2023-04-24T22:40:51.747Z"
   },
   {
    "duration": 1675,
    "start_time": "2023-04-24T22:40:51.817Z"
   },
   {
    "duration": 187,
    "start_time": "2023-04-24T22:40:53.493Z"
   },
   {
    "duration": 59,
    "start_time": "2023-04-24T22:40:53.687Z"
   },
   {
    "duration": 10,
    "start_time": "2023-04-24T22:40:53.748Z"
   },
   {
    "duration": 300,
    "start_time": "2023-04-24T22:40:53.759Z"
   },
   {
    "duration": 11,
    "start_time": "2023-04-24T22:40:54.061Z"
   },
   {
    "duration": 250,
    "start_time": "2023-04-24T22:40:54.074Z"
   },
   {
    "duration": 325,
    "start_time": "2023-04-24T22:40:54.325Z"
   },
   {
    "duration": 10,
    "start_time": "2023-04-24T22:40:54.652Z"
   },
   {
    "duration": 27,
    "start_time": "2023-04-24T22:40:54.664Z"
   },
   {
    "duration": 27,
    "start_time": "2023-04-24T22:40:54.694Z"
   },
   {
    "duration": 15,
    "start_time": "2023-04-24T22:40:54.723Z"
   },
   {
    "duration": 21,
    "start_time": "2023-04-24T22:40:54.740Z"
   },
   {
    "duration": 36,
    "start_time": "2023-04-24T22:40:54.762Z"
   },
   {
    "duration": 16,
    "start_time": "2023-04-24T22:40:54.800Z"
   },
   {
    "duration": 22,
    "start_time": "2023-04-24T22:40:54.817Z"
   },
   {
    "duration": 20,
    "start_time": "2023-04-24T22:40:54.840Z"
   },
   {
    "duration": 365,
    "start_time": "2023-04-24T22:40:54.862Z"
   },
   {
    "duration": 61,
    "start_time": "2023-04-24T22:40:55.229Z"
   },
   {
    "duration": 10,
    "start_time": "2023-04-24T22:40:55.292Z"
   },
   {
    "duration": 1187,
    "start_time": "2023-04-24T22:42:06.133Z"
   },
   {
    "duration": 55,
    "start_time": "2023-04-24T22:42:07.322Z"
   },
   {
    "duration": 22,
    "start_time": "2023-04-24T22:42:07.379Z"
   },
   {
    "duration": 25,
    "start_time": "2023-04-24T22:42:07.403Z"
   },
   {
    "duration": 22,
    "start_time": "2023-04-24T22:42:07.429Z"
   },
   {
    "duration": 14,
    "start_time": "2023-04-24T22:42:07.453Z"
   },
   {
    "duration": 35,
    "start_time": "2023-04-24T22:42:07.469Z"
   },
   {
    "duration": 18,
    "start_time": "2023-04-24T22:42:07.505Z"
   },
   {
    "duration": 15,
    "start_time": "2023-04-24T22:42:07.524Z"
   },
   {
    "duration": 7,
    "start_time": "2023-04-24T22:42:07.542Z"
   },
   {
    "duration": 48,
    "start_time": "2023-04-24T22:42:07.550Z"
   },
   {
    "duration": 5,
    "start_time": "2023-04-24T22:42:07.601Z"
   },
   {
    "duration": 21,
    "start_time": "2023-04-24T22:42:07.608Z"
   },
   {
    "duration": 5,
    "start_time": "2023-04-24T22:42:07.631Z"
   },
   {
    "duration": 9,
    "start_time": "2023-04-24T22:42:07.638Z"
   },
   {
    "duration": 39,
    "start_time": "2023-04-24T22:42:07.648Z"
   },
   {
    "duration": 17,
    "start_time": "2023-04-24T22:42:07.690Z"
   },
   {
    "duration": 39,
    "start_time": "2023-04-24T22:42:07.709Z"
   },
   {
    "duration": 47,
    "start_time": "2023-04-24T22:42:07.750Z"
   },
   {
    "duration": 195,
    "start_time": "2023-04-24T22:42:07.799Z"
   },
   {
    "duration": 10,
    "start_time": "2023-04-24T22:42:07.996Z"
   },
   {
    "duration": 201,
    "start_time": "2023-04-24T22:42:08.008Z"
   },
   {
    "duration": 8,
    "start_time": "2023-04-24T22:42:08.211Z"
   },
   {
    "duration": 19,
    "start_time": "2023-04-24T22:42:08.221Z"
   },
   {
    "duration": 6,
    "start_time": "2023-04-24T22:42:08.242Z"
   },
   {
    "duration": 201,
    "start_time": "2023-04-24T22:42:08.250Z"
   },
   {
    "duration": 4,
    "start_time": "2023-04-24T22:42:08.452Z"
   },
   {
    "duration": 40,
    "start_time": "2023-04-24T22:42:08.460Z"
   },
   {
    "duration": 11,
    "start_time": "2023-04-24T22:42:08.501Z"
   },
   {
    "duration": 245,
    "start_time": "2023-04-24T22:42:08.513Z"
   },
   {
    "duration": 33,
    "start_time": "2023-04-24T22:42:08.760Z"
   },
   {
    "duration": 33,
    "start_time": "2023-04-24T22:42:08.796Z"
   },
   {
    "duration": 58,
    "start_time": "2023-04-24T22:42:08.831Z"
   },
   {
    "duration": 1719,
    "start_time": "2023-04-24T22:42:08.891Z"
   },
   {
    "duration": 294,
    "start_time": "2023-04-24T22:42:10.612Z"
   },
   {
    "duration": 184,
    "start_time": "2023-04-24T22:42:10.908Z"
   },
   {
    "duration": 12,
    "start_time": "2023-04-24T22:42:11.094Z"
   },
   {
    "duration": 596,
    "start_time": "2023-04-24T22:42:11.107Z"
   },
   {
    "duration": 9,
    "start_time": "2023-04-24T22:42:11.705Z"
   },
   {
    "duration": 491,
    "start_time": "2023-04-24T22:42:11.715Z"
   },
   {
    "duration": 550,
    "start_time": "2023-04-24T22:42:12.208Z"
   },
   {
    "duration": 10,
    "start_time": "2023-04-24T22:42:12.760Z"
   },
   {
    "duration": 25,
    "start_time": "2023-04-24T22:42:12.772Z"
   },
   {
    "duration": 30,
    "start_time": "2023-04-24T22:42:12.799Z"
   },
   {
    "duration": 14,
    "start_time": "2023-04-24T22:42:12.830Z"
   },
   {
    "duration": 21,
    "start_time": "2023-04-24T22:42:12.845Z"
   },
   {
    "duration": 33,
    "start_time": "2023-04-24T22:42:12.867Z"
   },
   {
    "duration": 23,
    "start_time": "2023-04-24T22:42:12.902Z"
   },
   {
    "duration": 18,
    "start_time": "2023-04-24T22:42:12.927Z"
   },
   {
    "duration": 27,
    "start_time": "2023-04-24T22:42:12.947Z"
   },
   {
    "duration": 182,
    "start_time": "2023-04-24T22:42:12.975Z"
   },
   {
    "duration": 8,
    "start_time": "2023-04-24T22:42:13.159Z"
   },
   {
    "duration": 29,
    "start_time": "2023-04-24T22:42:13.169Z"
   },
   {
    "duration": 1139,
    "start_time": "2023-04-24T22:46:13.434Z"
   },
   {
    "duration": 60,
    "start_time": "2023-04-24T22:46:14.575Z"
   },
   {
    "duration": 21,
    "start_time": "2023-04-24T22:46:14.638Z"
   },
   {
    "duration": 28,
    "start_time": "2023-04-24T22:46:14.662Z"
   },
   {
    "duration": 22,
    "start_time": "2023-04-24T22:46:14.692Z"
   },
   {
    "duration": 18,
    "start_time": "2023-04-24T22:46:14.716Z"
   },
   {
    "duration": 40,
    "start_time": "2023-04-24T22:46:14.736Z"
   },
   {
    "duration": 27,
    "start_time": "2023-04-24T22:46:14.788Z"
   },
   {
    "duration": 29,
    "start_time": "2023-04-24T22:46:14.817Z"
   },
   {
    "duration": 18,
    "start_time": "2023-04-24T22:46:14.848Z"
   },
   {
    "duration": 39,
    "start_time": "2023-04-24T22:46:14.868Z"
   },
   {
    "duration": 6,
    "start_time": "2023-04-24T22:46:14.909Z"
   },
   {
    "duration": 42,
    "start_time": "2023-04-24T22:46:14.917Z"
   },
   {
    "duration": 6,
    "start_time": "2023-04-24T22:46:14.963Z"
   },
   {
    "duration": 17,
    "start_time": "2023-04-24T22:46:14.970Z"
   },
   {
    "duration": 15,
    "start_time": "2023-04-24T22:46:14.989Z"
   },
   {
    "duration": 43,
    "start_time": "2023-04-24T22:46:15.005Z"
   },
   {
    "duration": 57,
    "start_time": "2023-04-24T22:46:15.050Z"
   },
   {
    "duration": 28,
    "start_time": "2023-04-24T22:46:15.108Z"
   },
   {
    "duration": 219,
    "start_time": "2023-04-24T22:46:15.138Z"
   },
   {
    "duration": 11,
    "start_time": "2023-04-24T22:46:15.358Z"
   },
   {
    "duration": 203,
    "start_time": "2023-04-24T22:46:15.370Z"
   },
   {
    "duration": 16,
    "start_time": "2023-04-24T22:46:15.575Z"
   },
   {
    "duration": 33,
    "start_time": "2023-04-24T22:46:15.592Z"
   },
   {
    "duration": 16,
    "start_time": "2023-04-24T22:46:15.627Z"
   },
   {
    "duration": 193,
    "start_time": "2023-04-24T22:46:15.644Z"
   },
   {
    "duration": 4,
    "start_time": "2023-04-24T22:46:15.839Z"
   },
   {
    "duration": 53,
    "start_time": "2023-04-24T22:46:15.845Z"
   },
   {
    "duration": 7,
    "start_time": "2023-04-24T22:46:15.900Z"
   },
   {
    "duration": 265,
    "start_time": "2023-04-24T22:46:15.909Z"
   },
   {
    "duration": 21,
    "start_time": "2023-04-24T22:46:16.176Z"
   },
   {
    "duration": 16,
    "start_time": "2023-04-24T22:46:16.199Z"
   },
   {
    "duration": 75,
    "start_time": "2023-04-24T22:46:16.217Z"
   },
   {
    "duration": 1722,
    "start_time": "2023-04-24T22:46:16.293Z"
   },
   {
    "duration": 301,
    "start_time": "2023-04-24T22:46:18.017Z"
   },
   {
    "duration": 167,
    "start_time": "2023-04-24T22:46:18.320Z"
   },
   {
    "duration": 11,
    "start_time": "2023-04-24T22:46:18.489Z"
   },
   {
    "duration": 593,
    "start_time": "2023-04-24T22:46:18.502Z"
   },
   {
    "duration": 10,
    "start_time": "2023-04-24T22:46:19.097Z"
   },
   {
    "duration": 501,
    "start_time": "2023-04-24T22:46:19.109Z"
   },
   {
    "duration": 576,
    "start_time": "2023-04-24T22:46:19.614Z"
   },
   {
    "duration": 10,
    "start_time": "2023-04-24T22:46:20.192Z"
   },
   {
    "duration": 20,
    "start_time": "2023-04-24T22:46:20.204Z"
   },
   {
    "duration": 31,
    "start_time": "2023-04-24T22:46:20.225Z"
   },
   {
    "duration": 30,
    "start_time": "2023-04-24T22:46:20.258Z"
   },
   {
    "duration": 17,
    "start_time": "2023-04-24T22:46:20.291Z"
   },
   {
    "duration": 23,
    "start_time": "2023-04-24T22:46:20.310Z"
   },
   {
    "duration": 26,
    "start_time": "2023-04-24T22:46:20.335Z"
   },
   {
    "duration": 31,
    "start_time": "2023-04-24T22:46:20.364Z"
   },
   {
    "duration": 23,
    "start_time": "2023-04-24T22:46:20.397Z"
   },
   {
    "duration": 232,
    "start_time": "2023-04-24T22:46:20.422Z"
   },
   {
    "duration": 13,
    "start_time": "2023-04-24T22:46:20.656Z"
   },
   {
    "duration": 33,
    "start_time": "2023-04-24T22:46:20.671Z"
   },
   {
    "duration": 1134,
    "start_time": "2023-04-24T22:47:12.645Z"
   },
   {
    "duration": 58,
    "start_time": "2023-04-24T22:47:13.781Z"
   },
   {
    "duration": 21,
    "start_time": "2023-04-24T22:47:13.840Z"
   },
   {
    "duration": 36,
    "start_time": "2023-04-24T22:47:13.864Z"
   },
   {
    "duration": 32,
    "start_time": "2023-04-24T22:47:13.902Z"
   },
   {
    "duration": 22,
    "start_time": "2023-04-24T22:47:13.936Z"
   },
   {
    "duration": 42,
    "start_time": "2023-04-24T22:47:13.960Z"
   },
   {
    "duration": 20,
    "start_time": "2023-04-24T22:47:14.004Z"
   },
   {
    "duration": 26,
    "start_time": "2023-04-24T22:47:14.026Z"
   },
   {
    "duration": 35,
    "start_time": "2023-04-24T22:47:14.056Z"
   },
   {
    "duration": 271,
    "start_time": "2023-04-24T22:47:14.093Z"
   },
   {
    "duration": 34,
    "start_time": "2023-04-24T22:47:14.367Z"
   },
   {
    "duration": 60,
    "start_time": "2023-04-24T22:47:14.402Z"
   },
   {
    "duration": 8,
    "start_time": "2023-04-24T22:47:14.464Z"
   },
   {
    "duration": 21,
    "start_time": "2023-04-24T22:47:14.475Z"
   },
   {
    "duration": 21,
    "start_time": "2023-04-24T22:47:14.498Z"
   },
   {
    "duration": 40,
    "start_time": "2023-04-24T22:47:14.521Z"
   },
   {
    "duration": 39,
    "start_time": "2023-04-24T22:47:14.562Z"
   },
   {
    "duration": 27,
    "start_time": "2023-04-24T22:47:14.602Z"
   },
   {
    "duration": 215,
    "start_time": "2023-04-24T22:47:14.631Z"
   },
   {
    "duration": 8,
    "start_time": "2023-04-24T22:47:14.849Z"
   },
   {
    "duration": 219,
    "start_time": "2023-04-24T22:47:14.859Z"
   },
   {
    "duration": 15,
    "start_time": "2023-04-24T22:47:15.080Z"
   },
   {
    "duration": 26,
    "start_time": "2023-04-24T22:47:15.097Z"
   },
   {
    "duration": 9,
    "start_time": "2023-04-24T22:47:15.125Z"
   },
   {
    "duration": 210,
    "start_time": "2023-04-24T22:47:15.137Z"
   },
   {
    "duration": 6,
    "start_time": "2023-04-24T22:47:15.349Z"
   },
   {
    "duration": 41,
    "start_time": "2023-04-24T22:47:15.360Z"
   },
   {
    "duration": 8,
    "start_time": "2023-04-24T22:47:15.403Z"
   },
   {
    "duration": 272,
    "start_time": "2023-04-24T22:47:15.413Z"
   },
   {
    "duration": 17,
    "start_time": "2023-04-24T22:47:15.688Z"
   },
   {
    "duration": 27,
    "start_time": "2023-04-24T22:47:15.707Z"
   },
   {
    "duration": 85,
    "start_time": "2023-04-24T22:47:15.737Z"
   },
   {
    "duration": 1988,
    "start_time": "2023-04-24T22:47:15.824Z"
   },
   {
    "duration": 416,
    "start_time": "2023-04-24T22:47:17.814Z"
   },
   {
    "duration": 171,
    "start_time": "2023-04-24T22:47:18.232Z"
   },
   {
    "duration": 11,
    "start_time": "2023-04-24T22:47:18.405Z"
   },
   {
    "duration": 689,
    "start_time": "2023-04-24T22:47:18.418Z"
   },
   {
    "duration": 9,
    "start_time": "2023-04-24T22:47:19.109Z"
   },
   {
    "duration": 487,
    "start_time": "2023-04-24T22:47:19.120Z"
   },
   {
    "duration": 338,
    "start_time": "2023-04-24T22:47:19.609Z"
   },
   {
    "duration": 11,
    "start_time": "2023-04-24T22:47:19.949Z"
   },
   {
    "duration": 26,
    "start_time": "2023-04-24T22:47:19.962Z"
   },
   {
    "duration": 21,
    "start_time": "2023-04-24T22:47:19.990Z"
   },
   {
    "duration": 16,
    "start_time": "2023-04-24T22:47:20.013Z"
   },
   {
    "duration": 33,
    "start_time": "2023-04-24T22:47:20.031Z"
   },
   {
    "duration": 29,
    "start_time": "2023-04-24T22:47:20.065Z"
   },
   {
    "duration": 15,
    "start_time": "2023-04-24T22:47:20.096Z"
   },
   {
    "duration": 30,
    "start_time": "2023-04-24T22:47:20.112Z"
   },
   {
    "duration": 19,
    "start_time": "2023-04-24T22:47:20.143Z"
   },
   {
    "duration": 212,
    "start_time": "2023-04-24T22:47:20.163Z"
   },
   {
    "duration": 21,
    "start_time": "2023-04-24T22:47:20.376Z"
   },
   {
    "duration": 21,
    "start_time": "2023-04-24T22:47:20.399Z"
   },
   {
    "duration": 31,
    "start_time": "2023-04-24T23:05:47.768Z"
   },
   {
    "duration": 77,
    "start_time": "2023-04-25T08:15:00.066Z"
   },
   {
    "duration": 45,
    "start_time": "2023-04-25T08:15:27.676Z"
   },
   {
    "duration": 1229,
    "start_time": "2023-04-25T08:15:36.373Z"
   },
   {
    "duration": 104,
    "start_time": "2023-04-25T08:15:37.605Z"
   },
   {
    "duration": 20,
    "start_time": "2023-04-25T08:15:37.711Z"
   },
   {
    "duration": 26,
    "start_time": "2023-04-25T08:15:37.733Z"
   },
   {
    "duration": 31,
    "start_time": "2023-04-25T08:15:37.760Z"
   },
   {
    "duration": 18,
    "start_time": "2023-04-25T08:15:37.793Z"
   },
   {
    "duration": 33,
    "start_time": "2023-04-25T08:15:37.812Z"
   },
   {
    "duration": 17,
    "start_time": "2023-04-25T08:15:37.846Z"
   },
   {
    "duration": 31,
    "start_time": "2023-04-25T08:15:37.865Z"
   },
   {
    "duration": 7,
    "start_time": "2023-04-25T08:15:37.899Z"
   },
   {
    "duration": 59,
    "start_time": "2023-04-25T08:15:37.908Z"
   },
   {
    "duration": 13,
    "start_time": "2023-04-25T08:15:37.968Z"
   },
   {
    "duration": 30,
    "start_time": "2023-04-25T08:15:37.982Z"
   },
   {
    "duration": 27,
    "start_time": "2023-04-25T08:15:38.013Z"
   },
   {
    "duration": 28,
    "start_time": "2023-04-25T08:15:38.042Z"
   },
   {
    "duration": 42,
    "start_time": "2023-04-25T08:15:38.072Z"
   },
   {
    "duration": 30,
    "start_time": "2023-04-25T08:15:38.116Z"
   },
   {
    "duration": 55,
    "start_time": "2023-04-25T08:15:38.148Z"
   },
   {
    "duration": 23,
    "start_time": "2023-04-25T08:15:38.205Z"
   },
   {
    "duration": 188,
    "start_time": "2023-04-25T08:15:38.230Z"
   },
   {
    "duration": 9,
    "start_time": "2023-04-25T08:15:38.419Z"
   },
   {
    "duration": 194,
    "start_time": "2023-04-25T08:15:38.430Z"
   },
   {
    "duration": 8,
    "start_time": "2023-04-25T08:15:38.626Z"
   },
   {
    "duration": 31,
    "start_time": "2023-04-25T08:15:38.636Z"
   },
   {
    "duration": 9,
    "start_time": "2023-04-25T08:15:38.669Z"
   },
   {
    "duration": 183,
    "start_time": "2023-04-25T08:15:38.679Z"
   },
   {
    "duration": 4,
    "start_time": "2023-04-25T08:15:38.864Z"
   },
   {
    "duration": 51,
    "start_time": "2023-04-25T08:15:38.872Z"
   },
   {
    "duration": 31,
    "start_time": "2023-04-25T08:15:38.924Z"
   },
   {
    "duration": 242,
    "start_time": "2023-04-25T08:15:38.957Z"
   },
   {
    "duration": 15,
    "start_time": "2023-04-25T08:15:39.201Z"
   },
   {
    "duration": 23,
    "start_time": "2023-04-25T08:15:39.217Z"
   },
   {
    "duration": 69,
    "start_time": "2023-04-25T08:15:39.242Z"
   },
   {
    "duration": 1605,
    "start_time": "2023-04-25T08:15:39.313Z"
   },
   {
    "duration": 159,
    "start_time": "2023-04-25T08:15:40.919Z"
   },
   {
    "duration": 50,
    "start_time": "2023-04-25T08:15:41.080Z"
   },
   {
    "duration": 8,
    "start_time": "2023-04-25T08:15:41.131Z"
   },
   {
    "duration": 268,
    "start_time": "2023-04-25T08:15:41.140Z"
   },
   {
    "duration": 8,
    "start_time": "2023-04-25T08:15:41.410Z"
   },
   {
    "duration": 216,
    "start_time": "2023-04-25T08:15:41.419Z"
   },
   {
    "duration": 266,
    "start_time": "2023-04-25T08:15:41.636Z"
   },
   {
    "duration": 8,
    "start_time": "2023-04-25T08:15:41.904Z"
   },
   {
    "duration": 60,
    "start_time": "2023-04-25T08:15:41.914Z"
   },
   {
    "duration": 41,
    "start_time": "2023-04-25T08:15:41.976Z"
   },
   {
    "duration": 64,
    "start_time": "2023-04-25T08:15:42.018Z"
   },
   {
    "duration": 44,
    "start_time": "2023-04-25T08:15:42.084Z"
   },
   {
    "duration": 31,
    "start_time": "2023-04-25T08:15:42.129Z"
   },
   {
    "duration": 75,
    "start_time": "2023-04-25T08:15:42.161Z"
   },
   {
    "duration": 63,
    "start_time": "2023-04-25T08:15:42.237Z"
   },
   {
    "duration": 46,
    "start_time": "2023-04-25T08:15:42.301Z"
   },
   {
    "duration": 211,
    "start_time": "2023-04-25T08:15:42.348Z"
   },
   {
    "duration": 8,
    "start_time": "2023-04-25T08:15:42.561Z"
   },
   {
    "duration": 32,
    "start_time": "2023-04-25T08:15:42.570Z"
   },
   {
    "duration": 1008,
    "start_time": "2023-04-25T08:21:54.127Z"
   },
   {
    "duration": 63,
    "start_time": "2023-04-25T08:21:55.137Z"
   },
   {
    "duration": 24,
    "start_time": "2023-04-25T08:21:55.202Z"
   },
   {
    "duration": 23,
    "start_time": "2023-04-25T08:21:55.230Z"
   },
   {
    "duration": 37,
    "start_time": "2023-04-25T08:21:55.255Z"
   },
   {
    "duration": 15,
    "start_time": "2023-04-25T08:21:55.293Z"
   },
   {
    "duration": 34,
    "start_time": "2023-04-25T08:21:55.309Z"
   },
   {
    "duration": 16,
    "start_time": "2023-04-25T08:21:55.345Z"
   },
   {
    "duration": 27,
    "start_time": "2023-04-25T08:21:55.363Z"
   },
   {
    "duration": 29,
    "start_time": "2023-04-25T08:21:55.394Z"
   },
   {
    "duration": 58,
    "start_time": "2023-04-25T08:21:55.425Z"
   },
   {
    "duration": 15,
    "start_time": "2023-04-25T08:21:55.485Z"
   },
   {
    "duration": 47,
    "start_time": "2023-04-25T08:21:55.501Z"
   },
   {
    "duration": 35,
    "start_time": "2023-04-25T08:21:55.550Z"
   },
   {
    "duration": 47,
    "start_time": "2023-04-25T08:21:55.587Z"
   },
   {
    "duration": 37,
    "start_time": "2023-04-25T08:21:55.635Z"
   },
   {
    "duration": 42,
    "start_time": "2023-04-25T08:21:55.674Z"
   },
   {
    "duration": 65,
    "start_time": "2023-04-25T08:21:55.718Z"
   },
   {
    "duration": 22,
    "start_time": "2023-04-25T08:21:55.785Z"
   },
   {
    "duration": 188,
    "start_time": "2023-04-25T08:21:55.809Z"
   },
   {
    "duration": 8,
    "start_time": "2023-04-25T08:21:55.999Z"
   },
   {
    "duration": 180,
    "start_time": "2023-04-25T08:21:56.009Z"
   },
   {
    "duration": 7,
    "start_time": "2023-04-25T08:21:56.191Z"
   },
   {
    "duration": 46,
    "start_time": "2023-04-25T08:21:56.199Z"
   },
   {
    "duration": 15,
    "start_time": "2023-04-25T08:21:56.246Z"
   },
   {
    "duration": 154,
    "start_time": "2023-04-25T08:21:56.262Z"
   },
   {
    "duration": 4,
    "start_time": "2023-04-25T08:21:56.418Z"
   },
   {
    "duration": 37,
    "start_time": "2023-04-25T08:21:56.426Z"
   },
   {
    "duration": 23,
    "start_time": "2023-04-25T08:21:56.465Z"
   },
   {
    "duration": 218,
    "start_time": "2023-04-25T08:21:56.489Z"
   },
   {
    "duration": 12,
    "start_time": "2023-04-25T08:21:56.709Z"
   },
   {
    "duration": 11,
    "start_time": "2023-04-25T08:21:56.722Z"
   },
   {
    "duration": 50,
    "start_time": "2023-04-25T08:21:56.734Z"
   },
   {
    "duration": 1258,
    "start_time": "2023-04-25T08:21:56.786Z"
   },
   {
    "duration": 57,
    "start_time": "2023-04-25T08:21:58.046Z"
   },
   {
    "duration": 134,
    "start_time": "2023-04-25T08:21:58.105Z"
   },
   {
    "duration": 0,
    "start_time": "2023-04-25T08:21:58.241Z"
   },
   {
    "duration": 0,
    "start_time": "2023-04-25T08:21:58.242Z"
   },
   {
    "duration": 0,
    "start_time": "2023-04-25T08:21:58.243Z"
   },
   {
    "duration": 0,
    "start_time": "2023-04-25T08:21:58.244Z"
   },
   {
    "duration": 0,
    "start_time": "2023-04-25T08:21:58.245Z"
   },
   {
    "duration": 0,
    "start_time": "2023-04-25T08:21:58.247Z"
   },
   {
    "duration": 0,
    "start_time": "2023-04-25T08:21:58.247Z"
   },
   {
    "duration": 0,
    "start_time": "2023-04-25T08:21:58.248Z"
   },
   {
    "duration": 0,
    "start_time": "2023-04-25T08:21:58.249Z"
   },
   {
    "duration": 0,
    "start_time": "2023-04-25T08:21:58.250Z"
   },
   {
    "duration": 0,
    "start_time": "2023-04-25T08:21:58.251Z"
   },
   {
    "duration": 0,
    "start_time": "2023-04-25T08:21:58.252Z"
   },
   {
    "duration": 0,
    "start_time": "2023-04-25T08:21:58.253Z"
   },
   {
    "duration": 0,
    "start_time": "2023-04-25T08:21:58.255Z"
   },
   {
    "duration": 0,
    "start_time": "2023-04-25T08:21:58.256Z"
   },
   {
    "duration": 0,
    "start_time": "2023-04-25T08:21:58.257Z"
   },
   {
    "duration": 43,
    "start_time": "2023-04-25T08:28:53.726Z"
   },
   {
    "duration": 10,
    "start_time": "2023-04-25T08:29:19.851Z"
   },
   {
    "duration": 1043,
    "start_time": "2023-04-25T08:29:28.801Z"
   },
   {
    "duration": 68,
    "start_time": "2023-04-25T08:29:29.846Z"
   },
   {
    "duration": 18,
    "start_time": "2023-04-25T08:29:29.915Z"
   },
   {
    "duration": 26,
    "start_time": "2023-04-25T08:29:29.935Z"
   },
   {
    "duration": 42,
    "start_time": "2023-04-25T08:29:29.964Z"
   },
   {
    "duration": 56,
    "start_time": "2023-04-25T08:29:30.007Z"
   },
   {
    "duration": 57,
    "start_time": "2023-04-25T08:29:30.065Z"
   },
   {
    "duration": 17,
    "start_time": "2023-04-25T08:29:30.124Z"
   },
   {
    "duration": 14,
    "start_time": "2023-04-25T08:29:30.143Z"
   },
   {
    "duration": 19,
    "start_time": "2023-04-25T08:29:30.158Z"
   },
   {
    "duration": 38,
    "start_time": "2023-04-25T08:29:30.180Z"
   },
   {
    "duration": 10,
    "start_time": "2023-04-25T08:29:30.220Z"
   },
   {
    "duration": 39,
    "start_time": "2023-04-25T08:29:30.231Z"
   },
   {
    "duration": 8,
    "start_time": "2023-04-25T08:29:30.274Z"
   },
   {
    "duration": 28,
    "start_time": "2023-04-25T08:29:30.283Z"
   },
   {
    "duration": 20,
    "start_time": "2023-04-25T08:29:30.313Z"
   },
   {
    "duration": 36,
    "start_time": "2023-04-25T08:29:30.335Z"
   },
   {
    "duration": 55,
    "start_time": "2023-04-25T08:29:30.373Z"
   },
   {
    "duration": 31,
    "start_time": "2023-04-25T08:29:30.430Z"
   },
   {
    "duration": 202,
    "start_time": "2023-04-25T08:29:30.463Z"
   },
   {
    "duration": 17,
    "start_time": "2023-04-25T08:29:30.667Z"
   },
   {
    "duration": 244,
    "start_time": "2023-04-25T08:29:30.686Z"
   },
   {
    "duration": 9,
    "start_time": "2023-04-25T08:29:30.932Z"
   },
   {
    "duration": 78,
    "start_time": "2023-04-25T08:29:30.943Z"
   },
   {
    "duration": 35,
    "start_time": "2023-04-25T08:29:31.023Z"
   },
   {
    "duration": 206,
    "start_time": "2023-04-25T08:29:31.060Z"
   },
   {
    "duration": 4,
    "start_time": "2023-04-25T08:29:31.268Z"
   },
   {
    "duration": 56,
    "start_time": "2023-04-25T08:29:31.283Z"
   },
   {
    "duration": 49,
    "start_time": "2023-04-25T08:29:31.340Z"
   },
   {
    "duration": 339,
    "start_time": "2023-04-25T08:29:31.390Z"
   },
   {
    "duration": 11,
    "start_time": "2023-04-25T08:29:31.731Z"
   },
   {
    "duration": 129,
    "start_time": "2023-04-25T08:29:31.743Z"
   },
   {
    "duration": 57,
    "start_time": "2023-04-25T08:29:31.874Z"
   },
   {
    "duration": 1289,
    "start_time": "2023-04-25T08:29:31.933Z"
   },
   {
    "duration": 40,
    "start_time": "2023-04-25T08:29:33.223Z"
   },
   {
    "duration": 169,
    "start_time": "2023-04-25T08:29:33.265Z"
   },
   {
    "duration": 0,
    "start_time": "2023-04-25T08:29:33.436Z"
   },
   {
    "duration": 0,
    "start_time": "2023-04-25T08:29:33.437Z"
   },
   {
    "duration": 0,
    "start_time": "2023-04-25T08:29:33.438Z"
   },
   {
    "duration": 0,
    "start_time": "2023-04-25T08:29:33.440Z"
   },
   {
    "duration": 0,
    "start_time": "2023-04-25T08:29:33.441Z"
   },
   {
    "duration": 0,
    "start_time": "2023-04-25T08:29:33.442Z"
   },
   {
    "duration": 0,
    "start_time": "2023-04-25T08:29:33.443Z"
   },
   {
    "duration": 0,
    "start_time": "2023-04-25T08:29:33.444Z"
   },
   {
    "duration": 0,
    "start_time": "2023-04-25T08:29:33.445Z"
   },
   {
    "duration": 0,
    "start_time": "2023-04-25T08:29:33.447Z"
   },
   {
    "duration": 0,
    "start_time": "2023-04-25T08:29:33.448Z"
   },
   {
    "duration": 0,
    "start_time": "2023-04-25T08:29:33.448Z"
   },
   {
    "duration": 0,
    "start_time": "2023-04-25T08:29:33.449Z"
   },
   {
    "duration": 0,
    "start_time": "2023-04-25T08:29:33.450Z"
   },
   {
    "duration": 0,
    "start_time": "2023-04-25T08:29:33.451Z"
   },
   {
    "duration": 0,
    "start_time": "2023-04-25T08:29:33.453Z"
   },
   {
    "duration": 9,
    "start_time": "2023-04-25T08:29:58.255Z"
   },
   {
    "duration": 41,
    "start_time": "2023-04-25T08:44:56.998Z"
   },
   {
    "duration": 5,
    "start_time": "2023-04-25T08:45:54.090Z"
   },
   {
    "duration": 26,
    "start_time": "2023-04-25T08:45:54.698Z"
   },
   {
    "duration": 13,
    "start_time": "2023-04-25T08:50:52.600Z"
   },
   {
    "duration": 1340,
    "start_time": "2023-04-25T08:56:28.982Z"
   },
   {
    "duration": 193,
    "start_time": "2023-04-25T09:01:07.547Z"
   },
   {
    "duration": 50,
    "start_time": "2023-04-25T09:01:08.913Z"
   },
   {
    "duration": 4,
    "start_time": "2023-04-25T09:01:23.088Z"
   },
   {
    "duration": 12,
    "start_time": "2023-04-25T09:01:23.851Z"
   },
   {
    "duration": 1151,
    "start_time": "2023-04-25T09:08:10.826Z"
   },
   {
    "duration": 61,
    "start_time": "2023-04-25T09:08:11.979Z"
   },
   {
    "duration": 21,
    "start_time": "2023-04-25T09:08:12.042Z"
   },
   {
    "duration": 38,
    "start_time": "2023-04-25T09:08:12.065Z"
   },
   {
    "duration": 42,
    "start_time": "2023-04-25T09:08:12.105Z"
   },
   {
    "duration": 26,
    "start_time": "2023-04-25T09:08:12.149Z"
   },
   {
    "duration": 27,
    "start_time": "2023-04-25T09:08:12.176Z"
   },
   {
    "duration": 29,
    "start_time": "2023-04-25T09:08:12.205Z"
   },
   {
    "duration": 15,
    "start_time": "2023-04-25T09:08:12.236Z"
   },
   {
    "duration": 31,
    "start_time": "2023-04-25T09:08:12.253Z"
   },
   {
    "duration": 30,
    "start_time": "2023-04-25T09:08:12.286Z"
   },
   {
    "duration": 7,
    "start_time": "2023-04-25T09:08:12.318Z"
   },
   {
    "duration": 32,
    "start_time": "2023-04-25T09:08:12.326Z"
   },
   {
    "duration": 6,
    "start_time": "2023-04-25T09:08:12.359Z"
   },
   {
    "duration": 65,
    "start_time": "2023-04-25T09:08:12.384Z"
   },
   {
    "duration": 36,
    "start_time": "2023-04-25T09:08:12.451Z"
   },
   {
    "duration": 24,
    "start_time": "2023-04-25T09:08:12.488Z"
   },
   {
    "duration": 50,
    "start_time": "2023-04-25T09:08:12.513Z"
   },
   {
    "duration": 37,
    "start_time": "2023-04-25T09:08:12.565Z"
   },
   {
    "duration": 196,
    "start_time": "2023-04-25T09:08:12.604Z"
   },
   {
    "duration": 12,
    "start_time": "2023-04-25T09:08:12.802Z"
   },
   {
    "duration": 365,
    "start_time": "2023-04-25T09:08:12.816Z"
   },
   {
    "duration": 11,
    "start_time": "2023-04-25T09:08:13.184Z"
   },
   {
    "duration": 42,
    "start_time": "2023-04-25T09:08:13.196Z"
   },
   {
    "duration": 29,
    "start_time": "2023-04-25T09:08:13.240Z"
   },
   {
    "duration": 225,
    "start_time": "2023-04-25T09:08:13.270Z"
   },
   {
    "duration": 6,
    "start_time": "2023-04-25T09:08:13.497Z"
   },
   {
    "duration": 19,
    "start_time": "2023-04-25T09:08:13.507Z"
   },
   {
    "duration": 26,
    "start_time": "2023-04-25T09:08:13.528Z"
   },
   {
    "duration": 286,
    "start_time": "2023-04-25T09:08:13.556Z"
   },
   {
    "duration": 14,
    "start_time": "2023-04-25T09:08:13.844Z"
   },
   {
    "duration": 25,
    "start_time": "2023-04-25T09:08:13.859Z"
   },
   {
    "duration": 70,
    "start_time": "2023-04-25T09:08:13.886Z"
   },
   {
    "duration": 1576,
    "start_time": "2023-04-25T09:08:13.958Z"
   },
   {
    "duration": 48,
    "start_time": "2023-04-25T09:08:15.536Z"
   },
   {
    "duration": 14,
    "start_time": "2023-04-25T09:08:15.587Z"
   },
   {
    "duration": 315,
    "start_time": "2023-04-25T09:08:15.603Z"
   },
   {
    "duration": 8,
    "start_time": "2023-04-25T09:08:15.920Z"
   },
   {
    "duration": 251,
    "start_time": "2023-04-25T09:08:15.930Z"
   },
   {
    "duration": 233,
    "start_time": "2023-04-25T09:08:16.183Z"
   },
   {
    "duration": 9,
    "start_time": "2023-04-25T09:08:16.417Z"
   },
   {
    "duration": 15,
    "start_time": "2023-04-25T09:08:16.428Z"
   },
   {
    "duration": 25,
    "start_time": "2023-04-25T09:08:16.445Z"
   },
   {
    "duration": 20,
    "start_time": "2023-04-25T09:08:16.484Z"
   },
   {
    "duration": 29,
    "start_time": "2023-04-25T09:08:16.506Z"
   },
   {
    "duration": 41,
    "start_time": "2023-04-25T09:08:16.537Z"
   },
   {
    "duration": 36,
    "start_time": "2023-04-25T09:08:16.580Z"
   },
   {
    "duration": 30,
    "start_time": "2023-04-25T09:08:16.618Z"
   },
   {
    "duration": 13,
    "start_time": "2023-04-25T09:08:16.650Z"
   },
   {
    "duration": 183,
    "start_time": "2023-04-25T09:08:16.665Z"
   },
   {
    "duration": 8,
    "start_time": "2023-04-25T09:08:16.850Z"
   },
   {
    "duration": 48,
    "start_time": "2023-04-25T09:08:16.860Z"
   },
   {
    "duration": 1376,
    "start_time": "2023-04-25T09:11:55.898Z"
   },
   {
    "duration": 1506,
    "start_time": "2023-04-25T09:12:02.686Z"
   },
   {
    "duration": 22,
    "start_time": "2023-04-25T09:16:59.014Z"
   },
   {
    "duration": 1137,
    "start_time": "2023-04-25T09:17:06.617Z"
   },
   {
    "duration": 57,
    "start_time": "2023-04-25T09:17:07.756Z"
   },
   {
    "duration": 20,
    "start_time": "2023-04-25T09:17:07.814Z"
   },
   {
    "duration": 15,
    "start_time": "2023-04-25T09:17:07.837Z"
   },
   {
    "duration": 33,
    "start_time": "2023-04-25T09:17:07.854Z"
   },
   {
    "duration": 17,
    "start_time": "2023-04-25T09:17:07.889Z"
   },
   {
    "duration": 37,
    "start_time": "2023-04-25T09:17:07.908Z"
   },
   {
    "duration": 20,
    "start_time": "2023-04-25T09:17:07.947Z"
   },
   {
    "duration": 35,
    "start_time": "2023-04-25T09:17:07.969Z"
   },
   {
    "duration": 7,
    "start_time": "2023-04-25T09:17:08.008Z"
   },
   {
    "duration": 40,
    "start_time": "2023-04-25T09:17:08.017Z"
   },
   {
    "duration": 6,
    "start_time": "2023-04-25T09:17:08.059Z"
   },
   {
    "duration": 29,
    "start_time": "2023-04-25T09:17:08.068Z"
   },
   {
    "duration": 11,
    "start_time": "2023-04-25T09:17:08.099Z"
   },
   {
    "duration": 36,
    "start_time": "2023-04-25T09:17:08.112Z"
   },
   {
    "duration": 29,
    "start_time": "2023-04-25T09:17:08.149Z"
   },
   {
    "duration": 37,
    "start_time": "2023-04-25T09:17:08.179Z"
   },
   {
    "duration": 37,
    "start_time": "2023-04-25T09:17:08.218Z"
   },
   {
    "duration": 23,
    "start_time": "2023-04-25T09:17:08.256Z"
   },
   {
    "duration": 169,
    "start_time": "2023-04-25T09:17:08.280Z"
   },
   {
    "duration": 9,
    "start_time": "2023-04-25T09:17:08.450Z"
   },
   {
    "duration": 190,
    "start_time": "2023-04-25T09:17:08.460Z"
   },
   {
    "duration": 9,
    "start_time": "2023-04-25T09:17:08.652Z"
   },
   {
    "duration": 33,
    "start_time": "2023-04-25T09:17:08.662Z"
   },
   {
    "duration": 6,
    "start_time": "2023-04-25T09:17:08.697Z"
   },
   {
    "duration": 182,
    "start_time": "2023-04-25T09:17:08.704Z"
   },
   {
    "duration": 4,
    "start_time": "2023-04-25T09:17:08.888Z"
   },
   {
    "duration": 32,
    "start_time": "2023-04-25T09:17:08.896Z"
   },
   {
    "duration": 7,
    "start_time": "2023-04-25T09:17:08.930Z"
   },
   {
    "duration": 255,
    "start_time": "2023-04-25T09:17:08.939Z"
   },
   {
    "duration": 15,
    "start_time": "2023-04-25T09:17:09.196Z"
   },
   {
    "duration": 5,
    "start_time": "2023-04-25T09:17:09.212Z"
   },
   {
    "duration": 45,
    "start_time": "2023-04-25T09:17:09.219Z"
   },
   {
    "duration": 1354,
    "start_time": "2023-04-25T09:17:09.283Z"
   },
   {
    "duration": 63,
    "start_time": "2023-04-25T09:17:10.639Z"
   },
   {
    "duration": 10,
    "start_time": "2023-04-25T09:17:10.704Z"
   },
   {
    "duration": 301,
    "start_time": "2023-04-25T09:17:10.715Z"
   },
   {
    "duration": 11,
    "start_time": "2023-04-25T09:17:11.018Z"
   },
   {
    "duration": 255,
    "start_time": "2023-04-25T09:17:11.031Z"
   },
   {
    "duration": 242,
    "start_time": "2023-04-25T09:17:11.288Z"
   },
   {
    "duration": 10,
    "start_time": "2023-04-25T09:17:11.532Z"
   },
   {
    "duration": 11,
    "start_time": "2023-04-25T09:17:11.543Z"
   },
   {
    "duration": 42,
    "start_time": "2023-04-25T09:17:11.555Z"
   },
   {
    "duration": 14,
    "start_time": "2023-04-25T09:17:11.598Z"
   },
   {
    "duration": 16,
    "start_time": "2023-04-25T09:17:11.613Z"
   },
   {
    "duration": 35,
    "start_time": "2023-04-25T09:17:11.630Z"
   },
   {
    "duration": 18,
    "start_time": "2023-04-25T09:17:11.667Z"
   },
   {
    "duration": 14,
    "start_time": "2023-04-25T09:17:11.686Z"
   },
   {
    "duration": 19,
    "start_time": "2023-04-25T09:17:11.702Z"
   },
   {
    "duration": 189,
    "start_time": "2023-04-25T09:17:11.723Z"
   },
   {
    "duration": 10,
    "start_time": "2023-04-25T09:17:11.914Z"
   },
   {
    "duration": 12,
    "start_time": "2023-04-25T09:17:11.926Z"
   },
   {
    "duration": 1177,
    "start_time": "2024-07-22T16:53:42.565Z"
   },
   {
    "duration": 182,
    "start_time": "2024-07-22T16:53:43.749Z"
   },
   {
    "duration": 19,
    "start_time": "2024-07-22T16:53:43.932Z"
   },
   {
    "duration": 15,
    "start_time": "2024-07-22T16:53:43.952Z"
   },
   {
    "duration": 16,
    "start_time": "2024-07-22T16:53:43.969Z"
   },
   {
    "duration": 14,
    "start_time": "2024-07-22T16:53:43.987Z"
   },
   {
    "duration": 24,
    "start_time": "2024-07-22T16:53:44.003Z"
   },
   {
    "duration": 44,
    "start_time": "2024-07-22T16:53:44.029Z"
   },
   {
    "duration": 15,
    "start_time": "2024-07-22T16:53:44.074Z"
   },
   {
    "duration": 7,
    "start_time": "2024-07-22T16:53:44.091Z"
   },
   {
    "duration": 23,
    "start_time": "2024-07-22T16:53:44.100Z"
   },
   {
    "duration": 4,
    "start_time": "2024-07-22T16:53:44.125Z"
   },
   {
    "duration": 45,
    "start_time": "2024-07-22T16:53:44.131Z"
   },
   {
    "duration": 5,
    "start_time": "2024-07-22T16:53:44.178Z"
   },
   {
    "duration": 7,
    "start_time": "2024-07-22T16:53:44.185Z"
   },
   {
    "duration": 12,
    "start_time": "2024-07-22T16:53:44.194Z"
   },
   {
    "duration": 16,
    "start_time": "2024-07-22T16:53:44.207Z"
   },
   {
    "duration": 52,
    "start_time": "2024-07-22T16:53:44.225Z"
   },
   {
    "duration": 23,
    "start_time": "2024-07-22T16:53:44.279Z"
   },
   {
    "duration": 194,
    "start_time": "2024-07-22T16:53:44.304Z"
   },
   {
    "duration": 10,
    "start_time": "2024-07-22T16:53:44.500Z"
   },
   {
    "duration": 191,
    "start_time": "2024-07-22T16:53:44.511Z"
   },
   {
    "duration": 8,
    "start_time": "2024-07-22T16:53:44.704Z"
   },
   {
    "duration": 25,
    "start_time": "2024-07-22T16:53:44.714Z"
   },
   {
    "duration": 25,
    "start_time": "2024-07-22T16:53:44.741Z"
   },
   {
    "duration": 185,
    "start_time": "2024-07-22T16:53:44.768Z"
   },
   {
    "duration": 10,
    "start_time": "2024-07-22T16:53:44.955Z"
   },
   {
    "duration": 25,
    "start_time": "2024-07-22T16:53:44.969Z"
   },
   {
    "duration": 8,
    "start_time": "2024-07-22T16:53:44.996Z"
   },
   {
    "duration": 286,
    "start_time": "2024-07-22T16:53:45.006Z"
   },
   {
    "duration": 13,
    "start_time": "2024-07-22T16:53:45.294Z"
   },
   {
    "duration": 27,
    "start_time": "2024-07-22T16:53:45.309Z"
   },
   {
    "duration": 60,
    "start_time": "2024-07-22T16:53:45.337Z"
   },
   {
    "duration": 1456,
    "start_time": "2024-07-22T16:53:45.399Z"
   },
   {
    "duration": 44,
    "start_time": "2024-07-22T16:53:46.857Z"
   },
   {
    "duration": 9,
    "start_time": "2024-07-22T16:53:46.902Z"
   },
   {
    "duration": 299,
    "start_time": "2024-07-22T16:53:46.913Z"
   },
   {
    "duration": 9,
    "start_time": "2024-07-22T16:53:47.214Z"
   },
   {
    "duration": 219,
    "start_time": "2024-07-22T16:53:47.225Z"
   },
   {
    "duration": 219,
    "start_time": "2024-07-22T16:53:47.446Z"
   },
   {
    "duration": 8,
    "start_time": "2024-07-22T16:53:47.667Z"
   },
   {
    "duration": 12,
    "start_time": "2024-07-22T16:53:47.677Z"
   },
   {
    "duration": 19,
    "start_time": "2024-07-22T16:53:47.690Z"
   },
   {
    "duration": 14,
    "start_time": "2024-07-22T16:53:47.710Z"
   },
   {
    "duration": 45,
    "start_time": "2024-07-22T16:53:47.725Z"
   },
   {
    "duration": 15,
    "start_time": "2024-07-22T16:53:47.772Z"
   },
   {
    "duration": 14,
    "start_time": "2024-07-22T16:53:47.788Z"
   },
   {
    "duration": 14,
    "start_time": "2024-07-22T16:53:47.804Z"
   },
   {
    "duration": 46,
    "start_time": "2024-07-22T16:53:47.820Z"
   },
   {
    "duration": 175,
    "start_time": "2024-07-22T16:53:47.868Z"
   },
   {
    "duration": 21,
    "start_time": "2024-07-22T16:53:48.045Z"
   },
   {
    "duration": 11,
    "start_time": "2024-07-22T16:53:48.067Z"
   }
  ],
  "kernelspec": {
   "display_name": "Python 3 (ipykernel)",
   "language": "python",
   "name": "python3"
  },
  "language_info": {
   "codemirror_mode": {
    "name": "ipython",
    "version": 3
   },
   "file_extension": ".py",
   "mimetype": "text/x-python",
   "name": "python",
   "nbconvert_exporter": "python",
   "pygments_lexer": "ipython3",
   "version": "3.9.5"
  },
  "toc": {
   "base_numbering": 1,
   "nav_menu": {},
   "number_sections": true,
   "sideBar": true,
   "skip_h1_title": true,
   "title_cell": "Table of Contents",
   "title_sidebar": "Contents",
   "toc_cell": false,
   "toc_position": {
    "height": "calc(100% - 180px)",
    "left": "10px",
    "top": "150px",
    "width": "270.992px"
   },
   "toc_section_display": true,
   "toc_window_display": true
  }
 },
 "nbformat": 4,
 "nbformat_minor": 2
}
