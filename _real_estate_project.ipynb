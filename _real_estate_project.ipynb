{
 "cells": [
  {
   "cell_type": "markdown",
   "metadata": {},
   "source": [
    "<div style=\"border:solid green 3px; padding: 20px\">\n",
    "\n",
    "<b>Привет!</b>\n",
    "\n",
    "Меня зовут Сороколетов Илья и я буду проверять твой проект. \n",
    "\n",
    "Предлагаю общаться на «**ты**», но если тебе будет комфортнее общаться на «**вы**», то сообщи об этом в комментариях)\n",
    "\n",
    "\n",
    "Для твоего удобства, я буду выделять свои комментарии следующим образом:\n",
    "\n",
    "<div class=\"alert alert-danger\">\n",
    "<b>❌ Комментарий ревьюера v1:</b> Самые важные замечания. Они указывают на ключевые моменты, которые влияют на конечный результат проекта. </div>\n",
    "\n",
    "<div class=\"alert alert-warning\">\n",
    "<b>⚠️ Комментарий ревьюера v1:</b> Советы или замечания, которые помогут сделать твою работу лучше, но необязательны к выполнению.\n",
    "\n",
    "</div>\n",
    "\n",
    "<div class=\"alert alert-success\">\n",
    "<b>✔️ Комментарий ревьюера v1:</b> Так я выделяю все остальные комментарии.</div>\n",
    "\n",
    "\n",
    "Пометками <b>v1-v2-v3-...</b> я буду отмечать версию проверки. Так ты сможешь быстро найти мои новые комментарии.\n",
    "\n",
    "Давай работать над проектом в диалоге: если ты что-то меняешь в проекте по моим рекомендациям — пиши об этом. Выбери для своих комментариев какой-то заметный цвет, так мне будет легче отследить изменения, например вот так:\n",
    "    \n",
    "<div class=\"alert alert-info\">\n",
    "<b>Комментарий студента:</b>\n",
    "<br>\n",
    "</div>\n",
    "\n",
    "<b>Пожалуйста, не перемещай, не изменяй и не удаляй мои комментарии.</b> Если ты оставляешь свои комментарии, то делай это под моими, чтобы сообщения были расположены в хронологическом порядке. Всё это поможет выполнить повторную проверку твоего проекта быстрее. \n",
    "\n",
    "Перед отправкой работы я рекомендую нажимать Kernel -> Restart & Run All. Это перезапустит ядро и по очереди выполнит все ячейки. Так ты сможешь проверить, что всё работает корректно. Кнопка Kernel находится в панели сверху\n",
    "\n",
    "Обязательно задавай вопросы если они возникнут, а я перехожу к проверке)\n",
    "\n",
    "P.S. На всякий случай, я оставлю пустой шаблон для твоих комментариев ниже. Кликни два раза на мой комментарий, скопируй последние четыре строчки кода и вставляй их в пустую ячейку там, где ты хочешь оставить комментарий. Не забудь только перед этим сменить тип ячейки на Markdown. Быстро это можно сделать так: кликнуть на ячейку - нажать ESC - нажать M. \n",
    "    \n",
    "    \n",
    "<div class=\"alert alert-info\">\n",
    "<b>Комментарий студента:</b>\n",
    "<br>У меня главный вопрос по аномалиям. Как вот понять, 763млн за квартиру это выброс или нет? как их правильно убирать? ведь может быть и квартира за 763млн и 900 квадратных метров площадью. их отсеивать исходя от среднего и медианного значения? Объясни, пожалуйста. \n",
    "</div>"
   ]
  },
  {
   "cell_type": "markdown",
   "metadata": {},
   "source": [
    "<div class=\"alert alert-success\">\n",
    "<b>✔️ Комментарий ревьюера v2:</b>\n",
    "<br>Оставлю коммент в части проекта, где ты убираешь аномалии)\n",
    "</div>"
   ]
  },
  {
   "cell_type": "markdown",
   "metadata": {},
   "source": [
    "# Исследование объявлений о продаже квартир\n",
    "\n",
    "В вашем распоряжении данные сервиса Яндекс.Недвижимость — архив объявлений о продаже квартир в Санкт-Петербурге и соседних населённых пунктов за несколько лет. Нужно научиться определять рыночную стоимость объектов недвижимости. Ваша задача — установить параметры. Это позволит построить автоматизированную систему: она отследит аномалии и мошенническую деятельность. \n",
    "\n",
    "По каждой квартире на продажу доступны два вида данных. Первые вписаны пользователем, вторые — получены автоматически на основе картографических данных. Например, расстояние до центра, аэропорта, ближайшего парка и водоёма. "
   ]
  },
  {
   "cell_type": "markdown",
   "metadata": {},
   "source": [
    "### Откройте файл с данными и изучите общую информацию. "
   ]
  },
  {
   "cell_type": "code",
   "execution_count": 1,
   "metadata": {},
   "outputs": [],
   "source": [
    "import pandas as pd\n",
    "import matplotlib.pyplot as plt\n",
    "\n"
   ]
  },
  {
   "cell_type": "code",
   "execution_count": 2,
   "metadata": {},
   "outputs": [
    {
     "data": {
      "text/html": [
       "<div>\n",
       "<style scoped>\n",
       "    .dataframe tbody tr th:only-of-type {\n",
       "        vertical-align: middle;\n",
       "    }\n",
       "\n",
       "    .dataframe tbody tr th {\n",
       "        vertical-align: top;\n",
       "    }\n",
       "\n",
       "    .dataframe thead th {\n",
       "        text-align: right;\n",
       "    }\n",
       "</style>\n",
       "<table border=\"1\" class=\"dataframe\">\n",
       "  <thead>\n",
       "    <tr style=\"text-align: right;\">\n",
       "      <th></th>\n",
       "      <th>total_images</th>\n",
       "      <th>last_price</th>\n",
       "      <th>total_area</th>\n",
       "      <th>first_day_exposition</th>\n",
       "      <th>rooms</th>\n",
       "      <th>ceiling_height</th>\n",
       "      <th>floors_total</th>\n",
       "      <th>living_area</th>\n",
       "      <th>floor</th>\n",
       "      <th>is_apartment</th>\n",
       "      <th>studio</th>\n",
       "      <th>open_plan</th>\n",
       "      <th>kitchen_area</th>\n",
       "      <th>balcony</th>\n",
       "      <th>locality_name</th>\n",
       "      <th>airports_nearest</th>\n",
       "      <th>cityCenters_nearest</th>\n",
       "      <th>parks_around3000</th>\n",
       "      <th>parks_nearest</th>\n",
       "      <th>ponds_around3000</th>\n",
       "      <th>ponds_nearest</th>\n",
       "      <th>days_exposition</th>\n",
       "    </tr>\n",
       "  </thead>\n",
       "  <tbody>\n",
       "    <tr>\n",
       "      <th>0</th>\n",
       "      <td>20</td>\n",
       "      <td>13000000.0</td>\n",
       "      <td>108.00</td>\n",
       "      <td>2019-03-07T00:00:00</td>\n",
       "      <td>3</td>\n",
       "      <td>2.70</td>\n",
       "      <td>16.0</td>\n",
       "      <td>51.00</td>\n",
       "      <td>8</td>\n",
       "      <td>NaN</td>\n",
       "      <td>False</td>\n",
       "      <td>False</td>\n",
       "      <td>25.00</td>\n",
       "      <td>NaN</td>\n",
       "      <td>Санкт-Петербург</td>\n",
       "      <td>18863.0</td>\n",
       "      <td>16028.0</td>\n",
       "      <td>1.0</td>\n",
       "      <td>482.0</td>\n",
       "      <td>2.0</td>\n",
       "      <td>755.0</td>\n",
       "      <td>NaN</td>\n",
       "    </tr>\n",
       "    <tr>\n",
       "      <th>1</th>\n",
       "      <td>7</td>\n",
       "      <td>3350000.0</td>\n",
       "      <td>40.40</td>\n",
       "      <td>2018-12-04T00:00:00</td>\n",
       "      <td>1</td>\n",
       "      <td>NaN</td>\n",
       "      <td>11.0</td>\n",
       "      <td>18.60</td>\n",
       "      <td>1</td>\n",
       "      <td>NaN</td>\n",
       "      <td>False</td>\n",
       "      <td>False</td>\n",
       "      <td>11.00</td>\n",
       "      <td>2.0</td>\n",
       "      <td>посёлок Шушары</td>\n",
       "      <td>12817.0</td>\n",
       "      <td>18603.0</td>\n",
       "      <td>0.0</td>\n",
       "      <td>NaN</td>\n",
       "      <td>0.0</td>\n",
       "      <td>NaN</td>\n",
       "      <td>81.0</td>\n",
       "    </tr>\n",
       "    <tr>\n",
       "      <th>2</th>\n",
       "      <td>10</td>\n",
       "      <td>5196000.0</td>\n",
       "      <td>56.00</td>\n",
       "      <td>2015-08-20T00:00:00</td>\n",
       "      <td>2</td>\n",
       "      <td>NaN</td>\n",
       "      <td>5.0</td>\n",
       "      <td>34.30</td>\n",
       "      <td>4</td>\n",
       "      <td>NaN</td>\n",
       "      <td>False</td>\n",
       "      <td>False</td>\n",
       "      <td>8.30</td>\n",
       "      <td>0.0</td>\n",
       "      <td>Санкт-Петербург</td>\n",
       "      <td>21741.0</td>\n",
       "      <td>13933.0</td>\n",
       "      <td>1.0</td>\n",
       "      <td>90.0</td>\n",
       "      <td>2.0</td>\n",
       "      <td>574.0</td>\n",
       "      <td>558.0</td>\n",
       "    </tr>\n",
       "    <tr>\n",
       "      <th>3</th>\n",
       "      <td>0</td>\n",
       "      <td>64900000.0</td>\n",
       "      <td>159.00</td>\n",
       "      <td>2015-07-24T00:00:00</td>\n",
       "      <td>3</td>\n",
       "      <td>NaN</td>\n",
       "      <td>14.0</td>\n",
       "      <td>NaN</td>\n",
       "      <td>9</td>\n",
       "      <td>NaN</td>\n",
       "      <td>False</td>\n",
       "      <td>False</td>\n",
       "      <td>NaN</td>\n",
       "      <td>0.0</td>\n",
       "      <td>Санкт-Петербург</td>\n",
       "      <td>28098.0</td>\n",
       "      <td>6800.0</td>\n",
       "      <td>2.0</td>\n",
       "      <td>84.0</td>\n",
       "      <td>3.0</td>\n",
       "      <td>234.0</td>\n",
       "      <td>424.0</td>\n",
       "    </tr>\n",
       "    <tr>\n",
       "      <th>4</th>\n",
       "      <td>2</td>\n",
       "      <td>10000000.0</td>\n",
       "      <td>100.00</td>\n",
       "      <td>2018-06-19T00:00:00</td>\n",
       "      <td>2</td>\n",
       "      <td>3.03</td>\n",
       "      <td>14.0</td>\n",
       "      <td>32.00</td>\n",
       "      <td>13</td>\n",
       "      <td>NaN</td>\n",
       "      <td>False</td>\n",
       "      <td>False</td>\n",
       "      <td>41.00</td>\n",
       "      <td>NaN</td>\n",
       "      <td>Санкт-Петербург</td>\n",
       "      <td>31856.0</td>\n",
       "      <td>8098.0</td>\n",
       "      <td>2.0</td>\n",
       "      <td>112.0</td>\n",
       "      <td>1.0</td>\n",
       "      <td>48.0</td>\n",
       "      <td>121.0</td>\n",
       "    </tr>\n",
       "    <tr>\n",
       "      <th>5</th>\n",
       "      <td>10</td>\n",
       "      <td>2890000.0</td>\n",
       "      <td>30.40</td>\n",
       "      <td>2018-09-10T00:00:00</td>\n",
       "      <td>1</td>\n",
       "      <td>NaN</td>\n",
       "      <td>12.0</td>\n",
       "      <td>14.40</td>\n",
       "      <td>5</td>\n",
       "      <td>NaN</td>\n",
       "      <td>False</td>\n",
       "      <td>False</td>\n",
       "      <td>9.10</td>\n",
       "      <td>NaN</td>\n",
       "      <td>городской посёлок Янино-1</td>\n",
       "      <td>NaN</td>\n",
       "      <td>NaN</td>\n",
       "      <td>NaN</td>\n",
       "      <td>NaN</td>\n",
       "      <td>NaN</td>\n",
       "      <td>NaN</td>\n",
       "      <td>55.0</td>\n",
       "    </tr>\n",
       "    <tr>\n",
       "      <th>6</th>\n",
       "      <td>6</td>\n",
       "      <td>3700000.0</td>\n",
       "      <td>37.30</td>\n",
       "      <td>2017-11-02T00:00:00</td>\n",
       "      <td>1</td>\n",
       "      <td>NaN</td>\n",
       "      <td>26.0</td>\n",
       "      <td>10.60</td>\n",
       "      <td>6</td>\n",
       "      <td>NaN</td>\n",
       "      <td>False</td>\n",
       "      <td>False</td>\n",
       "      <td>14.40</td>\n",
       "      <td>1.0</td>\n",
       "      <td>посёлок Парголово</td>\n",
       "      <td>52996.0</td>\n",
       "      <td>19143.0</td>\n",
       "      <td>0.0</td>\n",
       "      <td>NaN</td>\n",
       "      <td>0.0</td>\n",
       "      <td>NaN</td>\n",
       "      <td>155.0</td>\n",
       "    </tr>\n",
       "    <tr>\n",
       "      <th>7</th>\n",
       "      <td>5</td>\n",
       "      <td>7915000.0</td>\n",
       "      <td>71.60</td>\n",
       "      <td>2019-04-18T00:00:00</td>\n",
       "      <td>2</td>\n",
       "      <td>NaN</td>\n",
       "      <td>24.0</td>\n",
       "      <td>NaN</td>\n",
       "      <td>22</td>\n",
       "      <td>NaN</td>\n",
       "      <td>False</td>\n",
       "      <td>False</td>\n",
       "      <td>18.90</td>\n",
       "      <td>2.0</td>\n",
       "      <td>Санкт-Петербург</td>\n",
       "      <td>23982.0</td>\n",
       "      <td>11634.0</td>\n",
       "      <td>0.0</td>\n",
       "      <td>NaN</td>\n",
       "      <td>0.0</td>\n",
       "      <td>NaN</td>\n",
       "      <td>NaN</td>\n",
       "    </tr>\n",
       "    <tr>\n",
       "      <th>8</th>\n",
       "      <td>20</td>\n",
       "      <td>2900000.0</td>\n",
       "      <td>33.16</td>\n",
       "      <td>2018-05-23T00:00:00</td>\n",
       "      <td>1</td>\n",
       "      <td>NaN</td>\n",
       "      <td>27.0</td>\n",
       "      <td>15.43</td>\n",
       "      <td>26</td>\n",
       "      <td>NaN</td>\n",
       "      <td>False</td>\n",
       "      <td>False</td>\n",
       "      <td>8.81</td>\n",
       "      <td>NaN</td>\n",
       "      <td>посёлок Мурино</td>\n",
       "      <td>NaN</td>\n",
       "      <td>NaN</td>\n",
       "      <td>NaN</td>\n",
       "      <td>NaN</td>\n",
       "      <td>NaN</td>\n",
       "      <td>NaN</td>\n",
       "      <td>189.0</td>\n",
       "    </tr>\n",
       "    <tr>\n",
       "      <th>9</th>\n",
       "      <td>18</td>\n",
       "      <td>5400000.0</td>\n",
       "      <td>61.00</td>\n",
       "      <td>2017-02-26T00:00:00</td>\n",
       "      <td>3</td>\n",
       "      <td>2.50</td>\n",
       "      <td>9.0</td>\n",
       "      <td>43.60</td>\n",
       "      <td>7</td>\n",
       "      <td>NaN</td>\n",
       "      <td>False</td>\n",
       "      <td>False</td>\n",
       "      <td>6.50</td>\n",
       "      <td>2.0</td>\n",
       "      <td>Санкт-Петербург</td>\n",
       "      <td>50898.0</td>\n",
       "      <td>15008.0</td>\n",
       "      <td>0.0</td>\n",
       "      <td>NaN</td>\n",
       "      <td>0.0</td>\n",
       "      <td>NaN</td>\n",
       "      <td>289.0</td>\n",
       "    </tr>\n",
       "    <tr>\n",
       "      <th>10</th>\n",
       "      <td>5</td>\n",
       "      <td>5050000.0</td>\n",
       "      <td>39.60</td>\n",
       "      <td>2017-11-16T00:00:00</td>\n",
       "      <td>1</td>\n",
       "      <td>2.67</td>\n",
       "      <td>12.0</td>\n",
       "      <td>20.30</td>\n",
       "      <td>3</td>\n",
       "      <td>NaN</td>\n",
       "      <td>False</td>\n",
       "      <td>False</td>\n",
       "      <td>8.50</td>\n",
       "      <td>NaN</td>\n",
       "      <td>Санкт-Петербург</td>\n",
       "      <td>38357.0</td>\n",
       "      <td>13878.0</td>\n",
       "      <td>1.0</td>\n",
       "      <td>310.0</td>\n",
       "      <td>2.0</td>\n",
       "      <td>553.0</td>\n",
       "      <td>137.0</td>\n",
       "    </tr>\n",
       "    <tr>\n",
       "      <th>11</th>\n",
       "      <td>9</td>\n",
       "      <td>3300000.0</td>\n",
       "      <td>44.00</td>\n",
       "      <td>2018-08-27T00:00:00</td>\n",
       "      <td>2</td>\n",
       "      <td>NaN</td>\n",
       "      <td>5.0</td>\n",
       "      <td>31.00</td>\n",
       "      <td>4</td>\n",
       "      <td>False</td>\n",
       "      <td>False</td>\n",
       "      <td>False</td>\n",
       "      <td>6.00</td>\n",
       "      <td>1.0</td>\n",
       "      <td>Ломоносов</td>\n",
       "      <td>48252.0</td>\n",
       "      <td>51677.0</td>\n",
       "      <td>0.0</td>\n",
       "      <td>NaN</td>\n",
       "      <td>0.0</td>\n",
       "      <td>NaN</td>\n",
       "      <td>7.0</td>\n",
       "    </tr>\n",
       "    <tr>\n",
       "      <th>12</th>\n",
       "      <td>10</td>\n",
       "      <td>3890000.0</td>\n",
       "      <td>54.00</td>\n",
       "      <td>2016-06-30T00:00:00</td>\n",
       "      <td>2</td>\n",
       "      <td>NaN</td>\n",
       "      <td>5.0</td>\n",
       "      <td>30.00</td>\n",
       "      <td>5</td>\n",
       "      <td>NaN</td>\n",
       "      <td>False</td>\n",
       "      <td>False</td>\n",
       "      <td>9.00</td>\n",
       "      <td>0.0</td>\n",
       "      <td>Сертолово</td>\n",
       "      <td>NaN</td>\n",
       "      <td>NaN</td>\n",
       "      <td>NaN</td>\n",
       "      <td>NaN</td>\n",
       "      <td>NaN</td>\n",
       "      <td>NaN</td>\n",
       "      <td>90.0</td>\n",
       "    </tr>\n",
       "    <tr>\n",
       "      <th>13</th>\n",
       "      <td>20</td>\n",
       "      <td>3550000.0</td>\n",
       "      <td>42.80</td>\n",
       "      <td>2017-07-01T00:00:00</td>\n",
       "      <td>2</td>\n",
       "      <td>2.56</td>\n",
       "      <td>5.0</td>\n",
       "      <td>27.00</td>\n",
       "      <td>5</td>\n",
       "      <td>NaN</td>\n",
       "      <td>False</td>\n",
       "      <td>False</td>\n",
       "      <td>5.20</td>\n",
       "      <td>1.0</td>\n",
       "      <td>Петергоф</td>\n",
       "      <td>37868.0</td>\n",
       "      <td>33058.0</td>\n",
       "      <td>1.0</td>\n",
       "      <td>294.0</td>\n",
       "      <td>3.0</td>\n",
       "      <td>298.0</td>\n",
       "      <td>366.0</td>\n",
       "    </tr>\n",
       "    <tr>\n",
       "      <th>14</th>\n",
       "      <td>1</td>\n",
       "      <td>4400000.0</td>\n",
       "      <td>36.00</td>\n",
       "      <td>2016-06-23T00:00:00</td>\n",
       "      <td>1</td>\n",
       "      <td>NaN</td>\n",
       "      <td>6.0</td>\n",
       "      <td>17.00</td>\n",
       "      <td>1</td>\n",
       "      <td>NaN</td>\n",
       "      <td>False</td>\n",
       "      <td>False</td>\n",
       "      <td>8.00</td>\n",
       "      <td>0.0</td>\n",
       "      <td>Пушкин</td>\n",
       "      <td>20782.0</td>\n",
       "      <td>30759.0</td>\n",
       "      <td>0.0</td>\n",
       "      <td>NaN</td>\n",
       "      <td>1.0</td>\n",
       "      <td>96.0</td>\n",
       "      <td>203.0</td>\n",
       "    </tr>\n",
       "    <tr>\n",
       "      <th>15</th>\n",
       "      <td>16</td>\n",
       "      <td>4650000.0</td>\n",
       "      <td>39.00</td>\n",
       "      <td>2017-11-18T00:00:00</td>\n",
       "      <td>1</td>\n",
       "      <td>NaN</td>\n",
       "      <td>14.0</td>\n",
       "      <td>20.50</td>\n",
       "      <td>5</td>\n",
       "      <td>NaN</td>\n",
       "      <td>False</td>\n",
       "      <td>False</td>\n",
       "      <td>7.60</td>\n",
       "      <td>1.0</td>\n",
       "      <td>Санкт-Петербург</td>\n",
       "      <td>12900.0</td>\n",
       "      <td>14259.0</td>\n",
       "      <td>1.0</td>\n",
       "      <td>590.0</td>\n",
       "      <td>1.0</td>\n",
       "      <td>296.0</td>\n",
       "      <td>19.0</td>\n",
       "    </tr>\n",
       "    <tr>\n",
       "      <th>16</th>\n",
       "      <td>11</td>\n",
       "      <td>6700000.0</td>\n",
       "      <td>82.00</td>\n",
       "      <td>2017-11-23T00:00:00</td>\n",
       "      <td>3</td>\n",
       "      <td>3.05</td>\n",
       "      <td>5.0</td>\n",
       "      <td>55.60</td>\n",
       "      <td>1</td>\n",
       "      <td>NaN</td>\n",
       "      <td>False</td>\n",
       "      <td>False</td>\n",
       "      <td>9.00</td>\n",
       "      <td>NaN</td>\n",
       "      <td>Санкт-Петербург</td>\n",
       "      <td>22108.0</td>\n",
       "      <td>10698.0</td>\n",
       "      <td>3.0</td>\n",
       "      <td>420.0</td>\n",
       "      <td>0.0</td>\n",
       "      <td>NaN</td>\n",
       "      <td>397.0</td>\n",
       "    </tr>\n",
       "    <tr>\n",
       "      <th>17</th>\n",
       "      <td>6</td>\n",
       "      <td>4180000.0</td>\n",
       "      <td>36.00</td>\n",
       "      <td>2016-09-09T00:00:00</td>\n",
       "      <td>1</td>\n",
       "      <td>NaN</td>\n",
       "      <td>17.0</td>\n",
       "      <td>16.50</td>\n",
       "      <td>7</td>\n",
       "      <td>NaN</td>\n",
       "      <td>False</td>\n",
       "      <td>False</td>\n",
       "      <td>11.00</td>\n",
       "      <td>1.0</td>\n",
       "      <td>Санкт-Петербург</td>\n",
       "      <td>33564.0</td>\n",
       "      <td>14616.0</td>\n",
       "      <td>0.0</td>\n",
       "      <td>NaN</td>\n",
       "      <td>1.0</td>\n",
       "      <td>859.0</td>\n",
       "      <td>571.0</td>\n",
       "    </tr>\n",
       "    <tr>\n",
       "      <th>18</th>\n",
       "      <td>8</td>\n",
       "      <td>3250000.0</td>\n",
       "      <td>31.00</td>\n",
       "      <td>2017-01-27T00:00:00</td>\n",
       "      <td>1</td>\n",
       "      <td>2.50</td>\n",
       "      <td>5.0</td>\n",
       "      <td>19.40</td>\n",
       "      <td>2</td>\n",
       "      <td>NaN</td>\n",
       "      <td>False</td>\n",
       "      <td>False</td>\n",
       "      <td>5.60</td>\n",
       "      <td>1.0</td>\n",
       "      <td>Санкт-Петербург</td>\n",
       "      <td>44060.0</td>\n",
       "      <td>10842.0</td>\n",
       "      <td>1.0</td>\n",
       "      <td>759.0</td>\n",
       "      <td>0.0</td>\n",
       "      <td>NaN</td>\n",
       "      <td>168.0</td>\n",
       "    </tr>\n",
       "    <tr>\n",
       "      <th>19</th>\n",
       "      <td>16</td>\n",
       "      <td>14200000.0</td>\n",
       "      <td>121.00</td>\n",
       "      <td>2019-01-09T00:00:00</td>\n",
       "      <td>3</td>\n",
       "      <td>2.75</td>\n",
       "      <td>16.0</td>\n",
       "      <td>76.00</td>\n",
       "      <td>8</td>\n",
       "      <td>NaN</td>\n",
       "      <td>False</td>\n",
       "      <td>False</td>\n",
       "      <td>12.00</td>\n",
       "      <td>NaN</td>\n",
       "      <td>Санкт-Петербург</td>\n",
       "      <td>38900.0</td>\n",
       "      <td>12843.0</td>\n",
       "      <td>0.0</td>\n",
       "      <td>NaN</td>\n",
       "      <td>0.0</td>\n",
       "      <td>NaN</td>\n",
       "      <td>97.0</td>\n",
       "    </tr>\n",
       "  </tbody>\n",
       "</table>\n",
       "</div>"
      ],
      "text/plain": [
       "    total_images  last_price  total_area first_day_exposition  rooms  \\\n",
       "0             20  13000000.0      108.00  2019-03-07T00:00:00      3   \n",
       "1              7   3350000.0       40.40  2018-12-04T00:00:00      1   \n",
       "2             10   5196000.0       56.00  2015-08-20T00:00:00      2   \n",
       "3              0  64900000.0      159.00  2015-07-24T00:00:00      3   \n",
       "4              2  10000000.0      100.00  2018-06-19T00:00:00      2   \n",
       "5             10   2890000.0       30.40  2018-09-10T00:00:00      1   \n",
       "6              6   3700000.0       37.30  2017-11-02T00:00:00      1   \n",
       "7              5   7915000.0       71.60  2019-04-18T00:00:00      2   \n",
       "8             20   2900000.0       33.16  2018-05-23T00:00:00      1   \n",
       "9             18   5400000.0       61.00  2017-02-26T00:00:00      3   \n",
       "10             5   5050000.0       39.60  2017-11-16T00:00:00      1   \n",
       "11             9   3300000.0       44.00  2018-08-27T00:00:00      2   \n",
       "12            10   3890000.0       54.00  2016-06-30T00:00:00      2   \n",
       "13            20   3550000.0       42.80  2017-07-01T00:00:00      2   \n",
       "14             1   4400000.0       36.00  2016-06-23T00:00:00      1   \n",
       "15            16   4650000.0       39.00  2017-11-18T00:00:00      1   \n",
       "16            11   6700000.0       82.00  2017-11-23T00:00:00      3   \n",
       "17             6   4180000.0       36.00  2016-09-09T00:00:00      1   \n",
       "18             8   3250000.0       31.00  2017-01-27T00:00:00      1   \n",
       "19            16  14200000.0      121.00  2019-01-09T00:00:00      3   \n",
       "\n",
       "    ceiling_height  floors_total  living_area  floor is_apartment  studio  \\\n",
       "0             2.70          16.0        51.00      8          NaN   False   \n",
       "1              NaN          11.0        18.60      1          NaN   False   \n",
       "2              NaN           5.0        34.30      4          NaN   False   \n",
       "3              NaN          14.0          NaN      9          NaN   False   \n",
       "4             3.03          14.0        32.00     13          NaN   False   \n",
       "5              NaN          12.0        14.40      5          NaN   False   \n",
       "6              NaN          26.0        10.60      6          NaN   False   \n",
       "7              NaN          24.0          NaN     22          NaN   False   \n",
       "8              NaN          27.0        15.43     26          NaN   False   \n",
       "9             2.50           9.0        43.60      7          NaN   False   \n",
       "10            2.67          12.0        20.30      3          NaN   False   \n",
       "11             NaN           5.0        31.00      4        False   False   \n",
       "12             NaN           5.0        30.00      5          NaN   False   \n",
       "13            2.56           5.0        27.00      5          NaN   False   \n",
       "14             NaN           6.0        17.00      1          NaN   False   \n",
       "15             NaN          14.0        20.50      5          NaN   False   \n",
       "16            3.05           5.0        55.60      1          NaN   False   \n",
       "17             NaN          17.0        16.50      7          NaN   False   \n",
       "18            2.50           5.0        19.40      2          NaN   False   \n",
       "19            2.75          16.0        76.00      8          NaN   False   \n",
       "\n",
       "    open_plan  kitchen_area  balcony              locality_name  \\\n",
       "0       False         25.00      NaN            Санкт-Петербург   \n",
       "1       False         11.00      2.0             посёлок Шушары   \n",
       "2       False          8.30      0.0            Санкт-Петербург   \n",
       "3       False           NaN      0.0            Санкт-Петербург   \n",
       "4       False         41.00      NaN            Санкт-Петербург   \n",
       "5       False          9.10      NaN  городской посёлок Янино-1   \n",
       "6       False         14.40      1.0          посёлок Парголово   \n",
       "7       False         18.90      2.0            Санкт-Петербург   \n",
       "8       False          8.81      NaN             посёлок Мурино   \n",
       "9       False          6.50      2.0            Санкт-Петербург   \n",
       "10      False          8.50      NaN            Санкт-Петербург   \n",
       "11      False          6.00      1.0                  Ломоносов   \n",
       "12      False          9.00      0.0                  Сертолово   \n",
       "13      False          5.20      1.0                   Петергоф   \n",
       "14      False          8.00      0.0                     Пушкин   \n",
       "15      False          7.60      1.0            Санкт-Петербург   \n",
       "16      False          9.00      NaN            Санкт-Петербург   \n",
       "17      False         11.00      1.0            Санкт-Петербург   \n",
       "18      False          5.60      1.0            Санкт-Петербург   \n",
       "19      False         12.00      NaN            Санкт-Петербург   \n",
       "\n",
       "    airports_nearest  cityCenters_nearest  parks_around3000  parks_nearest  \\\n",
       "0            18863.0              16028.0               1.0          482.0   \n",
       "1            12817.0              18603.0               0.0            NaN   \n",
       "2            21741.0              13933.0               1.0           90.0   \n",
       "3            28098.0               6800.0               2.0           84.0   \n",
       "4            31856.0               8098.0               2.0          112.0   \n",
       "5                NaN                  NaN               NaN            NaN   \n",
       "6            52996.0              19143.0               0.0            NaN   \n",
       "7            23982.0              11634.0               0.0            NaN   \n",
       "8                NaN                  NaN               NaN            NaN   \n",
       "9            50898.0              15008.0               0.0            NaN   \n",
       "10           38357.0              13878.0               1.0          310.0   \n",
       "11           48252.0              51677.0               0.0            NaN   \n",
       "12               NaN                  NaN               NaN            NaN   \n",
       "13           37868.0              33058.0               1.0          294.0   \n",
       "14           20782.0              30759.0               0.0            NaN   \n",
       "15           12900.0              14259.0               1.0          590.0   \n",
       "16           22108.0              10698.0               3.0          420.0   \n",
       "17           33564.0              14616.0               0.0            NaN   \n",
       "18           44060.0              10842.0               1.0          759.0   \n",
       "19           38900.0              12843.0               0.0            NaN   \n",
       "\n",
       "    ponds_around3000  ponds_nearest  days_exposition  \n",
       "0                2.0          755.0              NaN  \n",
       "1                0.0            NaN             81.0  \n",
       "2                2.0          574.0            558.0  \n",
       "3                3.0          234.0            424.0  \n",
       "4                1.0           48.0            121.0  \n",
       "5                NaN            NaN             55.0  \n",
       "6                0.0            NaN            155.0  \n",
       "7                0.0            NaN              NaN  \n",
       "8                NaN            NaN            189.0  \n",
       "9                0.0            NaN            289.0  \n",
       "10               2.0          553.0            137.0  \n",
       "11               0.0            NaN              7.0  \n",
       "12               NaN            NaN             90.0  \n",
       "13               3.0          298.0            366.0  \n",
       "14               1.0           96.0            203.0  \n",
       "15               1.0          296.0             19.0  \n",
       "16               0.0            NaN            397.0  \n",
       "17               1.0          859.0            571.0  \n",
       "18               0.0            NaN            168.0  \n",
       "19               0.0            NaN             97.0  "
      ]
     },
     "execution_count": 2,
     "metadata": {},
     "output_type": "execute_result"
    }
   ],
   "source": [
    "data = pd.read_csv('/datasets/real_estate_data.csv', sep = '\\t')\n",
    "pd.set_option('display.max_columns', None)\n",
    "data.head(20)"
   ]
  },
  {
   "cell_type": "code",
   "execution_count": 3,
   "metadata": {},
   "outputs": [
    {
     "data": {
      "text/plain": [
       "array([[<AxesSubplot:title={'center':'total_images'}>,\n",
       "        <AxesSubplot:title={'center':'last_price'}>,\n",
       "        <AxesSubplot:title={'center':'total_area'}>,\n",
       "        <AxesSubplot:title={'center':'rooms'}>],\n",
       "       [<AxesSubplot:title={'center':'ceiling_height'}>,\n",
       "        <AxesSubplot:title={'center':'floors_total'}>,\n",
       "        <AxesSubplot:title={'center':'living_area'}>,\n",
       "        <AxesSubplot:title={'center':'floor'}>],\n",
       "       [<AxesSubplot:title={'center':'kitchen_area'}>,\n",
       "        <AxesSubplot:title={'center':'balcony'}>,\n",
       "        <AxesSubplot:title={'center':'airports_nearest'}>,\n",
       "        <AxesSubplot:title={'center':'cityCenters_nearest'}>],\n",
       "       [<AxesSubplot:title={'center':'parks_around3000'}>,\n",
       "        <AxesSubplot:title={'center':'parks_nearest'}>,\n",
       "        <AxesSubplot:title={'center':'ponds_around3000'}>,\n",
       "        <AxesSubplot:title={'center':'ponds_nearest'}>],\n",
       "       [<AxesSubplot:title={'center':'days_exposition'}>, <AxesSubplot:>,\n",
       "        <AxesSubplot:>, <AxesSubplot:>]], dtype=object)"
      ]
     },
     "execution_count": 3,
     "metadata": {},
     "output_type": "execute_result"
    },
    {
     "data": {
      "image/png": "[encoded data removed]",
      "text/plain": [
       "<Figure size 1080x1440 with 20 Axes>"
      ]
     },
     "metadata": {
      "needs_background": "light"
     },
     "output_type": "display_data"
    }
   ],
   "source": [
    "data.hist(figsize=(15, 20))"
   ]
  },
  {
   "cell_type": "markdown",
   "metadata": {},
   "source": [
    "На первый взгляд у нас есть проблемы с некоторыми данными. Столбец с названиями поселков имеет дубликаты, большое количество пропусков в столбцах и непонятно большие значения. Так же есть столбцы с некорректным типом данных. В следующем разделе мы будем разбираться с ними и обрабатывать. \n"
   ]
  },
  {
   "cell_type": "markdown",
   "metadata": {},
   "source": [
    "<div class=\"alert alert-warning\">\n",
    "<b>⚠️ Комментарий ревьюера v1:</b> \n",
    "<br>Все библиотеки лучше импортировать отдельно в первой ячейке. Это позволит тебе в любой момент добавить ещё одну библиотеку без перезаписи переменных.\n",
    "</div>"
   ]
  },
  {
   "cell_type": "markdown",
   "metadata": {},
   "source": [
    "<div class=\"alert alert-warning\">\n",
    "<b>⚠️ Комментарий ревьюера v1:</b> \n",
    "<br>Обрати внимание, что часть столбцов заменилась на \"...\". Чтобы это исправить, нужно увеличить максимальное количество отображающихся столбцов командой\n",
    "\t\t\t\n",
    "\tpd.set_option('display.max_columns', None)\n",
    "</div>"
   ]
  },
  {
   "cell_type": "markdown",
   "metadata": {},
   "source": [
    "<div class=\"alert alert-danger\">\n",
    "<b>❌ Комментарий ревьюера v1:</b> \n",
    "<br>Здесь необходимо написать короткий вывод о проблемах с данными (пропуски, дубликаты, неверный тип данных, странные значения и т.д.)\n",
    "</div>"
   ]
  },
  {
   "cell_type": "markdown",
   "metadata": {},
   "source": [
    "<div class=\"alert alert-success\">\n",
    "<b>✔️ Комментарий ревьюера v2:</b>\n",
    "<br>Правка выполнена 👍\n",
    "</div>"
   ]
  },
  {
   "cell_type": "markdown",
   "metadata": {},
   "source": [
    "<div class=\"alert alert-danger\">\n",
    "<b>❌ Комментарий ревьюера v1:</b> \n",
    "<br>Не выполнено задание 1.3:   \n",
    "<br>Постройте общую гистограмму для всех столбцов таблицы. Например, для датафрейма data это можно сделать командой data.hist(figsize=(15, 20)).\n",
    "</div>"
   ]
  },
  {
   "cell_type": "markdown",
   "metadata": {},
   "source": [
    "<div class=\"alert alert-success\">\n",
    "<b>✔️ Комментарий ревьюера v2:</b> \n",
    "<br>Графики построено верно! \n",
    "</div>\n",
    "\t\t\t\t\t\t\t\t\t\t\t\t\t\t\t\n",
    "<div class=\"alert alert-warning\">\n",
    "<b>⚠️ Комментарий ревьюера v2:</b> \n",
    "<br>Если после кода вызывающего график добавить \";\", то мы избавимся от строчки над графиком)\n",
    "\n",
    "\tdata.hist(figsize=(15, 20));\n",
    "</div>"
   ]
  },
  {
   "cell_type": "markdown",
   "metadata": {},
   "source": [
    "### Предобработка данных"
   ]
  },
  {
   "cell_type": "markdown",
   "metadata": {},
   "source": [
    "Просмотрим тип данных в столбцах и количество ненулевых значений в них"
   ]
  },
  {
   "cell_type": "code",
   "execution_count": 4,
   "metadata": {},
   "outputs": [
    {
     "name": "stdout",
     "output_type": "stream",
     "text": [
      "<class 'pandas.core.frame.DataFrame'>\n",
      "RangeIndex: 23699 entries, 0 to 23698\n",
      "Data columns (total 22 columns):\n",
      " #   Column                Non-Null Count  Dtype  \n",
      "---  ------                --------------  -----  \n",
      " 0   total_images          23699 non-null  int64  \n",
      " 1   last_price            23699 non-null  float64\n",
      " 2   total_area            23699 non-null  float64\n",
      " 3   first_day_exposition  23699 non-null  object \n",
      " 4   rooms                 23699 non-null  int64  \n",
      " 5   ceiling_height        14504 non-null  float64\n",
      " 6   floors_total          23613 non-null  float64\n",
      " 7   living_area           21796 non-null  float64\n",
      " 8   floor                 23699 non-null  int64  \n",
      " 9   is_apartment          2775 non-null   object \n",
      " 10  studio                23699 non-null  bool   \n",
      " 11  open_plan             23699 non-null  bool   \n",
      " 12  kitchen_area          21421 non-null  float64\n",
      " 13  balcony               12180 non-null  float64\n",
      " 14  locality_name         23650 non-null  object \n",
      " 15  airports_nearest      18157 non-null  float64\n",
      " 16  cityCenters_nearest   18180 non-null  float64\n",
      " 17  parks_around3000      18181 non-null  float64\n",
      " 18  parks_nearest         8079 non-null   float64\n",
      " 19  ponds_around3000      18181 non-null  float64\n",
      " 20  ponds_nearest         9110 non-null   float64\n",
      " 21  days_exposition       20518 non-null  float64\n",
      "dtypes: bool(2), float64(14), int64(3), object(3)\n",
      "memory usage: 3.7+ MB\n"
     ]
    }
   ],
   "source": [
    "data.info()"
   ]
  },
  {
   "cell_type": "markdown",
   "metadata": {},
   "source": [
    "- is_apartment - должен быть булев типа\n",
    "- first_day_exposition - должен быть тип datetime\n",
    "- floors_total, balcony, parks_around3000, ponds_around3000, days_exposition - данные столбцы должны быть типа int, тк могут быть только целочисленными. "
   ]
  },
  {
   "cell_type": "code",
   "execution_count": null,
   "metadata": {},
   "outputs": [],
   "source": []
  },
  {
   "cell_type": "code",
   "execution_count": 5,
   "metadata": {
    "scrolled": true
   },
   "outputs": [
    {
     "data": {
      "text/plain": [
       "total_images                0\n",
       "last_price                  0\n",
       "total_area                  0\n",
       "first_day_exposition        0\n",
       "rooms                       0\n",
       "ceiling_height           9195\n",
       "floors_total               86\n",
       "living_area              1903\n",
       "floor                       0\n",
       "is_apartment            20924\n",
       "studio                      0\n",
       "open_plan                   0\n",
       "kitchen_area             2278\n",
       "balcony                 11519\n",
       "locality_name              49\n",
       "airports_nearest         5542\n",
       "cityCenters_nearest      5519\n",
       "parks_around3000         5518\n",
       "parks_nearest           15620\n",
       "ponds_around3000         5518\n",
       "ponds_nearest           14589\n",
       "days_exposition          3181\n",
       "dtype: int64"
      ]
     },
     "execution_count": 5,
     "metadata": {},
     "output_type": "execute_result"
    }
   ],
   "source": [
    "data.isna().sum()"
   ]
  },
  {
   "cell_type": "markdown",
   "metadata": {},
   "source": [
    "нашли количество пропусков по столбцам. в большинстве столбцов имеются пропуски. "
   ]
  },
  {
   "cell_type": "code",
   "execution_count": 6,
   "metadata": {},
   "outputs": [
    {
     "name": "stdout",
     "output_type": "stream",
     "text": [
      "<class 'pandas.core.frame.DataFrame'>\n",
      "RangeIndex: 23699 entries, 0 to 23698\n",
      "Data columns (total 22 columns):\n",
      " #   Column                Non-Null Count  Dtype         \n",
      "---  ------                --------------  -----         \n",
      " 0   total_images          23699 non-null  int64         \n",
      " 1   last_price            23699 non-null  float64       \n",
      " 2   total_area            23699 non-null  float64       \n",
      " 3   first_day_exposition  23699 non-null  datetime64[ns]\n",
      " 4   rooms                 23699 non-null  int64         \n",
      " 5   ceiling_height        23699 non-null  float64       \n",
      " 6   floors_total          23613 non-null  float64       \n",
      " 7   living_area           21796 non-null  float64       \n",
      " 8   floor                 23699 non-null  int64         \n",
      " 9   is_apartment          23699 non-null  bool          \n",
      " 10  studio                23699 non-null  bool          \n",
      " 11  open_plan             23699 non-null  bool          \n",
      " 12  kitchen_area          21421 non-null  float64       \n",
      " 13  balcony               23699 non-null  int64         \n",
      " 14  locality_name         23650 non-null  object        \n",
      " 15  airports_nearest      18157 non-null  float64       \n",
      " 16  cityCenters_nearest   18180 non-null  float64       \n",
      " 17  parks_around3000      18181 non-null  float64       \n",
      " 18  parks_nearest         8079 non-null   float64       \n",
      " 19  ponds_around3000      18181 non-null  float64       \n",
      " 20  ponds_nearest         9110 non-null   float64       \n",
      " 21  days_exposition       20518 non-null  float64       \n",
      "dtypes: bool(3), datetime64[ns](1), float64(13), int64(4), object(1)\n",
      "memory usage: 3.5+ MB\n"
     ]
    }
   ],
   "source": [
    "\n",
    "data['balcony'] = data['balcony'].fillna(0).astype('int') # заменим пропуски в столбце балконы, изменим тип на int\n",
    "data['is_apartment'] = data['is_apartment'].fillna(False).astype('bool') #изменим тип на int тк он задан по условию, пропущенные значения заменим на False, тк скорее всего эти данные собираются недавно\n",
    "data['first_day_exposition'] = pd.to_datetime(data['first_day_exposition'], format = '%Y-%m-%d') #изменим тип на datetime, и не будем указывать время, тк оно везде 00:00\n",
    "data['last_price'] = data['last_price'].astype('int') #тк платят целыми рублями\n",
    "data['last_price'] = data['last_price'] / 1000 # переведем стоимость квартир  в тысячи рублей, для удобства\n",
    "data['ceiling_height'] = data['ceiling_height'].fillna(data['ceiling_height'].median()) \n",
    "data.info()\n",
    " df.loc[df['user_score'] == 'tbd', 'user_score'] = float('nan')\n"
   ]
  },
  {
   "cell_type": "markdown",
   "metadata": {},
   "source": [
    "<div class=\"alert alert-warning\">\n",
    "<b>⚠️ Комментарий ревьюера v1:</b> \n",
    "<br>floors_total - если мы заполняем таким способом, то нужно делать проверку, а не превышает ли этаж, на котором квартира общую этажность? Можно заменить на этаж квартиры либо оставить как есть\n",
    "</div>"
   ]
  },
  {
   "cell_type": "markdown",
   "metadata": {},
   "source": [
    "<div class=\"alert alert-danger\">\n",
    "<b>❌ Комментарий ревьюера v1:</b> \n",
    "<br>Пропуски в столбцах с картографическими данными лучше не трогать. Заполняя их таким образом, ты проставляешь одинаковые расстояния до центра (парка, прудов, аэропорта) для разных квартир, хотя они могут быть расположены в разных частях города. Эти пропуски заполнять не нужно\n",
    "</div>"
   ]
  },
  {
   "cell_type": "markdown",
   "metadata": {},
   "source": [
    "<div class=\"alert alert-success\">\n",
    "<b>✔️ Комментарий ревьюера v2:</b>\n",
    "<br>Правка выполнена 👍\n",
    "</div>"
   ]
  },
  {
   "cell_type": "markdown",
   "metadata": {},
   "source": [
    "<div class=\"alert alert-danger\">\n",
    "<b>❌ Комментарий ревьюера v1:</b> \n",
    "<br>Давай ещё заполним пропуски в столбце с высотой потолков, тем более мы можем достаточно точно их восстановить так как основная часть данных в этом столбце находится в небольшом диапазоне.\n",
    "</div>"
   ]
  },
  {
   "cell_type": "markdown",
   "metadata": {},
   "source": [
    "<div class=\"alert alert-success\">\n",
    "<b>✔️ Комментарий ревьюера v2:</b>\n",
    "<br>Правка выполнена 👍\n",
    "</div>"
   ]
  },
  {
   "cell_type": "markdown",
   "metadata": {},
   "source": [
    "Найдем уникальные значения в столбце с названиями"
   ]
  },
  {
   "cell_type": "code",
   "execution_count": 7,
   "metadata": {},
   "outputs": [
    {
     "data": {
      "text/plain": [
       "Санкт-Петербург                                            15721\n",
       "посёлок Мурино                                               522\n",
       "посёлок Шушары                                               440\n",
       "Всеволожск                                                   398\n",
       "Пушкин                                                       369\n",
       "                                                           ...  \n",
       "деревня Тойворово                                              1\n",
       "поселок Рабитицы                                               1\n",
       "садоводческое некоммерческое товарищество Лесная Поляна        1\n",
       "деревня Хапо-Ое                                                1\n",
       "садовое товарищество Новая Ропша                               1\n",
       "Name: locality_name, Length: 364, dtype: int64"
      ]
     },
     "execution_count": 7,
     "metadata": {},
     "output_type": "execute_result"
    }
   ],
   "source": [
    "data['locality_name'].value_counts()\n"
   ]
  },
  {
   "cell_type": "code",
   "execution_count": 8,
   "metadata": {},
   "outputs": [
    {
     "data": {
      "text/plain": [
       "array(['Санкт-Петербург', 'поселок Шушары', 'городской поселок Янино-1',\n",
       "       'поселок Парголово', 'Мурино', 'Ломоносов', 'Сертолово',\n",
       "       'Петергоф', 'Пушкин', 'Кудрово', 'Коммунар', 'Колпино',\n",
       "       'поселок городского типа Красный Бор', 'Гатчина',\n",
       "       'деревня Федоровское', 'Выборг', 'Кронштадт', 'Кировск',\n",
       "       'деревня Новое Девяткино', 'поселок Металлострой',\n",
       "       'поселок городского типа Лебяжье',\n",
       "       'поселок городского типа Сиверский', 'поселок Молодцово',\n",
       "       'поселок городского типа Кузьмоловский',\n",
       "       'садовое товарищество Новая Ропша', 'Павловск',\n",
       "       'деревня Пикколово', 'Всеволожск', 'Волхов', 'Кингисепп',\n",
       "       'Приозерск', 'Сестрорецк', 'деревня Куттузи', 'поселок Аннино',\n",
       "       'поселок городского типа Ефимовский', 'поселок Плодовое',\n",
       "       'деревня Заклинье', 'поселок Торковичи', 'поселок Первомайское',\n",
       "       'Красное Село', 'поселок Понтонный', 'Сясьстрой', 'деревня Старая',\n",
       "       'деревня Лесколово', 'поселок Новый Свет', 'Сланцы',\n",
       "       'село Путилово', 'Ивангород', 'Шлиссельбург', 'Никольское',\n",
       "       'Зеленогорск', 'Сосновый Бор', 'деревня Оржицы',\n",
       "       'деревня Кальтино', 'поселок Романовка', 'поселок Бугры',\n",
       "       'поселок городского типа Рощино', 'Кириши', 'Луга', 'Волосово',\n",
       "       'Отрадное', 'село Павлово', 'поселок Оредеж', 'село Копорье',\n",
       "       'поселок Молодежное', 'Тихвин', 'поселок Победа', 'деревня Нурма',\n",
       "       'поселок городского типа Синявино', 'Тосно', 'поселок Стрельна',\n",
       "       'Бокситогорск', 'поселок Александровская', 'деревня Лопухинка',\n",
       "       'Пикалево', 'поселок Терволово',\n",
       "       'поселок городского типа Советский', 'Подпорожье',\n",
       "       'поселок Петровское', 'поселок городского типа Токсово',\n",
       "       'поселок Сельцо', 'поселок городского типа Вырица',\n",
       "       'деревня Кипень', 'деревня Келози', 'деревня Вартемяги',\n",
       "       'поселок Тельмана', 'поселок Севастьяново',\n",
       "       'городской поселок Большая Ижора', nan,\n",
       "       'городской поселок Павлово', 'деревня Агалатово',\n",
       "       'поселок Новогорелово', 'городской поселок Лесогорский',\n",
       "       'деревня Лаголово', 'поселок Цвелодубово',\n",
       "       'поселок городского типа Рахья', 'деревня Белогорка',\n",
       "       'поселок Заводской', 'городской поселок Новоселье',\n",
       "       'деревня Большие Колпаны', 'деревня Горбунки', 'деревня Батово',\n",
       "       'деревня Заневка', 'деревня Иссад', 'Приморск',\n",
       "       'городской поселок Федоровское', 'деревня Мистолово',\n",
       "       'Новая Ладога', 'поселок Зимитицы', 'поселок Барышево',\n",
       "       'деревня Разметелево', 'поселок городского типа имени Свердлова',\n",
       "       'деревня Пеники', 'Рябово', 'деревня Пудомяги',\n",
       "       'поселок станции Корнево', 'деревня Низино', 'деревня Бегуницы',\n",
       "       'поселок Поляны', 'городской поселок Мга', 'поселок Елизаветино',\n",
       "       'поселок городского типа Кузнечное', 'деревня Колтуши',\n",
       "       'поселок Запорожское', 'деревня Гостилицы',\n",
       "       'деревня Малое Карлино', 'поселок Мичуринское',\n",
       "       'поселок городского типа имени Морозова', 'поселок Песочный',\n",
       "       'поселок Сосново', 'деревня Аро', 'поселок Ильичево',\n",
       "       'поселок городского типа Тайцы', 'деревня Малое Верево',\n",
       "       'деревня Извара', 'поселок станции Вещево', 'село Паша',\n",
       "       'деревня Калитино', 'поселок городского типа Ульяновка',\n",
       "       'деревня Чудской Бор', 'поселок городского типа Дубровка',\n",
       "       'деревня Мины', 'поселок Войсковицы', 'деревня Коркино',\n",
       "       'поселок Ропша', 'поселок городского типа Приладожский',\n",
       "       'поселок Щеглово', 'поселок Гаврилово', 'Лодейное Поле',\n",
       "       'деревня Рабитицы', 'поселок городского типа Никольский',\n",
       "       'деревня Кузьмолово', 'деревня Малые Колпаны',\n",
       "       'поселок Петро-Славянка', 'городской поселок Назия',\n",
       "       'поселок Репино', 'поселок Углово', 'поселок Старая Малукса',\n",
       "       'садовое товарищество Рахья', 'деревня Меньково',\n",
       "       'деревня Старые Бегуницы', 'поселок Саперный', 'поселок Семрино',\n",
       "       'поселок Глажево', 'поселок Кобринское', 'деревня Гарболово',\n",
       "       'деревня Юкки', 'поселок станции Приветнинское',\n",
       "       'деревня Мануйлово', 'деревня Пчева', 'поселок Цвылево',\n",
       "       'поселок Мельниково', 'поселок Пудость', 'поселок Усть-Луга',\n",
       "       'Светогорск', 'Любань', 'поселок Селезнево', 'Каменногорск',\n",
       "       'деревня Кривко', 'поселок Глебычево', 'деревня Парицы',\n",
       "       'поселок Жилпоселок', 'поселок городского типа Мга',\n",
       "       'поселок Войскорово', 'село Никольское', 'поселок Стеклянный',\n",
       "       'поселок городского типа Важины', 'поселок Мыза-Ивановка',\n",
       "       'село Русско-Высоцкое', 'поселок городского типа Форносово',\n",
       "       'село Старая Ладога', 'поселок Житково',\n",
       "       'городской поселок Виллози', 'деревня Лампово',\n",
       "       'деревня Шпаньково', 'деревня Лаврики', 'поселок Сумино',\n",
       "       'поселок Возрождение', 'деревня Старосиверская',\n",
       "       'поселок Кикерино', 'деревня Старое Хинколово',\n",
       "       'поселок Пригородный', 'поселок Торфяное',\n",
       "       'городской поселок Будогощь', 'поселок Суходолье',\n",
       "       'поселок Красная Долина', 'деревня Хапо-Ое',\n",
       "       'поселок городского типа Дружная Горка', 'поселок Лисий Нос',\n",
       "       'деревня Яльгелево', 'село Рождествено', 'деревня Старополье',\n",
       "       'поселок Левашово', 'деревня Сяськелево', 'деревня Камышовка',\n",
       "       'садоводческое некоммерческое товарищество Лесная Поляна',\n",
       "       'деревня Хязельки', 'поселок Жилгородок',\n",
       "       'поселок городского типа Павлово', 'деревня Ялгино',\n",
       "       'поселок Новый Учхоз', 'городской поселок Рощино',\n",
       "       'поселок Гончарово', 'поселок Почап', 'поселок Саперное',\n",
       "       'поселок Платформа 69-й километр', 'поселок Каложицы',\n",
       "       'деревня Фалилеево', 'деревня Пельгора',\n",
       "       'поселок городского типа Лесогорский', 'деревня Торошковичи',\n",
       "       'поселок Белоостров', 'поселок Алексеевка', 'поселок Серебрянский',\n",
       "       'поселок Лукаши', 'деревня Щеглово', 'деревня Тарасово',\n",
       "       'поселок Кингисеппский',\n",
       "       'поселок при железнодорожной станции Вещево', 'поселок Ушаки',\n",
       "       'деревня Котлы', 'деревня Сижно', 'деревня Торосово',\n",
       "       'поселок Форт Красная Горка', 'деревня Новолисино',\n",
       "       'поселок станции Громово', 'деревня Глинка',\n",
       "       'поселок городского типа Назия', 'деревня Старая Пустошь',\n",
       "       'поселок Коммунары', 'поселок Починок',\n",
       "       'поселок городского типа Вознесенье', 'деревня Разбегаево',\n",
       "       'поселок Гладкое',\n",
       "       'поселок при железнодорожной станции Приветнинское',\n",
       "       'поселок Тесово-4', 'деревня Бор', 'поселок Коробицыно',\n",
       "       'деревня Большая Вруда', 'деревня Курковицы',\n",
       "       'городской поселок Советский', 'поселок Кобралово',\n",
       "       'деревня Суоранда', 'поселок городского типа Кондратьево',\n",
       "       'коттеджный поселок Счастье', 'поселок Любань', 'деревня Реброво',\n",
       "       'деревня Зимитицы', 'деревня Тойворово', 'поселок Семиозерье',\n",
       "       'поселок Лесное', 'поселок Совхозный', 'поселок Ленинское',\n",
       "       'поселок Суйда', 'деревня Нижние Осельки', 'поселок станции Свирь',\n",
       "       'поселок Перово', 'Высоцк', 'поселок Гарболово', 'село Шум',\n",
       "       'поселок Котельский', 'поселок станции Лужайка',\n",
       "       'деревня Большая Пустомержа', 'поселок Красносельское',\n",
       "       'деревня Вахнова Кара', 'деревня Пижма',\n",
       "       'коттеджный поселок Кивеннапа Север', 'поселок Ромашки',\n",
       "       'деревня Каськово', 'деревня Куровицы', 'поселок Плоское',\n",
       "       'поселок городского типа Большая Ижора', 'поселок Кирпичное',\n",
       "       'деревня Ям-Тесово', 'деревня Раздолье', 'деревня Терпилицы',\n",
       "       'поселок Шугозеро', 'деревня Ваганово', 'поселок Пушное',\n",
       "       'садовое товарищество Садко', 'поселок Усть-Ижора',\n",
       "       'деревня Выскатка', 'городской поселок Свирьстрой',\n",
       "       'поселок Громово', 'деревня Кисельня', 'деревня Трубников Бор',\n",
       "       'поселок Калитино', 'поселок Высокоключевой',\n",
       "       'садовое товарищество Приладожский',\n",
       "       'поселок Пансионат Зеленый Бор', 'деревня Ненимяки',\n",
       "       'деревня Снегиревка', 'деревня Рапполово', 'деревня Пустынка',\n",
       "       'поселок Рабитицы', 'деревня Большой Сабск', 'деревня Русско',\n",
       "       'деревня Лупполово', 'деревня Большое Рейзино',\n",
       "       'деревня Малая Романовка', 'поселок Дружноселье', 'поселок Пчевжа',\n",
       "       'поселок Володарское', 'деревня Нижняя',\n",
       "       'коттеджный поселок Лесное', 'деревня Тихковицы',\n",
       "       'деревня Борисова Грива', 'поселок Дзержинского'], dtype=object)"
      ]
     },
     "execution_count": 8,
     "metadata": {},
     "output_type": "execute_result"
    }
   ],
   "source": [
    "data['locality_name'] = data['locality_name'].str.replace('ё','е')\n",
    "data['locality_name'] = data['locality_name'].str.replace('поселок Мурино','Мурино')\n",
    "data['locality_name'] = data['locality_name'].str.replace('поселок городского типа Мурино','Мурино')\n",
    "data['locality_name'] = data['locality_name'].str.replace('деревня Мурино','Мурино')\n",
    "data['locality_name'] = data['locality_name'].str.replace('село Мурино','Мурино')\n",
    "data['locality_name'] = data['locality_name'].str.replace('поселок Кудрово','Кудрово')\n",
    "data['locality_name'] = data['locality_name'].str.replace('поселок городского типа Кудрово','Кудрово')\n",
    "data['locality_name'] = data['locality_name'].str.replace('деревня Кудрово','Кудрово')\n",
    "data['locality_name'] = data['locality_name'].str.replace('село Кудрово','Кудрово')\n",
    "data['locality_name'] = data['locality_name'].str.replace('поселок Рябово','Рябово')\n",
    "data['locality_name'] = data['locality_name'].str.replace('поселок городского типа Рябово','Рябово')\n",
    "data['locality_name'] = data['locality_name'].str.replace('деревня Рябово','Рябово')\n",
    "data['locality_name'] = data['locality_name'].str.replace('село Рябово','Рябово')\n",
    "data['locality_name'].unique()"
   ]
  },
  {
   "cell_type": "markdown",
   "metadata": {},
   "source": [
    "<div class=\"alert alert-success\">\n",
    "<b>✔️ Комментарий ревьюера v1:</b> \n",
    "<br>Супер! Здесь всё верно)\n",
    "</div>"
   ]
  },
  {
   "cell_type": "code",
   "execution_count": 9,
   "metadata": {
    "scrolled": true
   },
   "outputs": [
    {
     "data": {
      "text/html": [
       "<div>\n",
       "<style scoped>\n",
       "    .dataframe tbody tr th:only-of-type {\n",
       "        vertical-align: middle;\n",
       "    }\n",
       "\n",
       "    .dataframe tbody tr th {\n",
       "        vertical-align: top;\n",
       "    }\n",
       "\n",
       "    .dataframe thead th {\n",
       "        text-align: right;\n",
       "    }\n",
       "</style>\n",
       "<table border=\"1\" class=\"dataframe\">\n",
       "  <thead>\n",
       "    <tr style=\"text-align: right;\">\n",
       "      <th></th>\n",
       "      <th>total_images</th>\n",
       "      <th>last_price</th>\n",
       "      <th>total_area</th>\n",
       "      <th>rooms</th>\n",
       "      <th>ceiling_height</th>\n",
       "      <th>floors_total</th>\n",
       "      <th>living_area</th>\n",
       "      <th>floor</th>\n",
       "      <th>kitchen_area</th>\n",
       "      <th>balcony</th>\n",
       "      <th>airports_nearest</th>\n",
       "      <th>cityCenters_nearest</th>\n",
       "      <th>parks_around3000</th>\n",
       "      <th>parks_nearest</th>\n",
       "      <th>ponds_around3000</th>\n",
       "      <th>ponds_nearest</th>\n",
       "      <th>days_exposition</th>\n",
       "    </tr>\n",
       "  </thead>\n",
       "  <tbody>\n",
       "    <tr>\n",
       "      <th>count</th>\n",
       "      <td>23699.000000</td>\n",
       "      <td>23699.000000</td>\n",
       "      <td>23699.000000</td>\n",
       "      <td>23699.000000</td>\n",
       "      <td>23699.000000</td>\n",
       "      <td>23613.000000</td>\n",
       "      <td>21796.000000</td>\n",
       "      <td>23699.000000</td>\n",
       "      <td>21421.000000</td>\n",
       "      <td>23699.000000</td>\n",
       "      <td>18157.000000</td>\n",
       "      <td>18180.000000</td>\n",
       "      <td>18181.000000</td>\n",
       "      <td>8079.000000</td>\n",
       "      <td>18181.000000</td>\n",
       "      <td>9110.000000</td>\n",
       "      <td>20518.000000</td>\n",
       "    </tr>\n",
       "    <tr>\n",
       "      <th>mean</th>\n",
       "      <td>9.858475</td>\n",
       "      <td>6541.548772</td>\n",
       "      <td>60.348651</td>\n",
       "      <td>2.070636</td>\n",
       "      <td>2.724358</td>\n",
       "      <td>10.673824</td>\n",
       "      <td>34.457852</td>\n",
       "      <td>5.892358</td>\n",
       "      <td>10.569807</td>\n",
       "      <td>0.591080</td>\n",
       "      <td>28793.672193</td>\n",
       "      <td>14191.277833</td>\n",
       "      <td>0.611408</td>\n",
       "      <td>490.804555</td>\n",
       "      <td>0.770255</td>\n",
       "      <td>517.980900</td>\n",
       "      <td>180.888634</td>\n",
       "    </tr>\n",
       "    <tr>\n",
       "      <th>std</th>\n",
       "      <td>5.682529</td>\n",
       "      <td>10887.013268</td>\n",
       "      <td>35.654083</td>\n",
       "      <td>1.078405</td>\n",
       "      <td>0.988298</td>\n",
       "      <td>6.597173</td>\n",
       "      <td>22.030445</td>\n",
       "      <td>4.885249</td>\n",
       "      <td>5.905438</td>\n",
       "      <td>0.959298</td>\n",
       "      <td>12630.880622</td>\n",
       "      <td>8608.386210</td>\n",
       "      <td>0.802074</td>\n",
       "      <td>342.317995</td>\n",
       "      <td>0.938346</td>\n",
       "      <td>277.720643</td>\n",
       "      <td>219.727988</td>\n",
       "    </tr>\n",
       "    <tr>\n",
       "      <th>min</th>\n",
       "      <td>0.000000</td>\n",
       "      <td>12.190000</td>\n",
       "      <td>12.000000</td>\n",
       "      <td>0.000000</td>\n",
       "      <td>1.000000</td>\n",
       "      <td>1.000000</td>\n",
       "      <td>2.000000</td>\n",
       "      <td>1.000000</td>\n",
       "      <td>1.300000</td>\n",
       "      <td>0.000000</td>\n",
       "      <td>0.000000</td>\n",
       "      <td>181.000000</td>\n",
       "      <td>0.000000</td>\n",
       "      <td>1.000000</td>\n",
       "      <td>0.000000</td>\n",
       "      <td>13.000000</td>\n",
       "      <td>1.000000</td>\n",
       "    </tr>\n",
       "    <tr>\n",
       "      <th>25%</th>\n",
       "      <td>6.000000</td>\n",
       "      <td>3400.000000</td>\n",
       "      <td>40.000000</td>\n",
       "      <td>1.000000</td>\n",
       "      <td>2.600000</td>\n",
       "      <td>5.000000</td>\n",
       "      <td>18.600000</td>\n",
       "      <td>2.000000</td>\n",
       "      <td>7.000000</td>\n",
       "      <td>0.000000</td>\n",
       "      <td>18585.000000</td>\n",
       "      <td>9238.000000</td>\n",
       "      <td>0.000000</td>\n",
       "      <td>288.000000</td>\n",
       "      <td>0.000000</td>\n",
       "      <td>294.000000</td>\n",
       "      <td>45.000000</td>\n",
       "    </tr>\n",
       "    <tr>\n",
       "      <th>50%</th>\n",
       "      <td>9.000000</td>\n",
       "      <td>4650.000000</td>\n",
       "      <td>52.000000</td>\n",
       "      <td>2.000000</td>\n",
       "      <td>2.650000</td>\n",
       "      <td>9.000000</td>\n",
       "      <td>30.000000</td>\n",
       "      <td>4.000000</td>\n",
       "      <td>9.100000</td>\n",
       "      <td>0.000000</td>\n",
       "      <td>26726.000000</td>\n",
       "      <td>13098.500000</td>\n",
       "      <td>0.000000</td>\n",
       "      <td>455.000000</td>\n",
       "      <td>1.000000</td>\n",
       "      <td>502.000000</td>\n",
       "      <td>95.000000</td>\n",
       "    </tr>\n",
       "    <tr>\n",
       "      <th>75%</th>\n",
       "      <td>14.000000</td>\n",
       "      <td>6800.000000</td>\n",
       "      <td>69.900000</td>\n",
       "      <td>3.000000</td>\n",
       "      <td>2.700000</td>\n",
       "      <td>16.000000</td>\n",
       "      <td>42.300000</td>\n",
       "      <td>8.000000</td>\n",
       "      <td>12.000000</td>\n",
       "      <td>1.000000</td>\n",
       "      <td>37273.000000</td>\n",
       "      <td>16293.000000</td>\n",
       "      <td>1.000000</td>\n",
       "      <td>612.000000</td>\n",
       "      <td>1.000000</td>\n",
       "      <td>729.000000</td>\n",
       "      <td>232.000000</td>\n",
       "    </tr>\n",
       "    <tr>\n",
       "      <th>max</th>\n",
       "      <td>50.000000</td>\n",
       "      <td>763000.000000</td>\n",
       "      <td>900.000000</td>\n",
       "      <td>19.000000</td>\n",
       "      <td>100.000000</td>\n",
       "      <td>60.000000</td>\n",
       "      <td>409.700000</td>\n",
       "      <td>33.000000</td>\n",
       "      <td>112.000000</td>\n",
       "      <td>5.000000</td>\n",
       "      <td>84869.000000</td>\n",
       "      <td>65968.000000</td>\n",
       "      <td>3.000000</td>\n",
       "      <td>3190.000000</td>\n",
       "      <td>3.000000</td>\n",
       "      <td>1344.000000</td>\n",
       "      <td>1580.000000</td>\n",
       "    </tr>\n",
       "  </tbody>\n",
       "</table>\n",
       "</div>"
      ],
      "text/plain": [
       "       total_images     last_price    total_area         rooms  \\\n",
       "count  23699.000000   23699.000000  23699.000000  23699.000000   \n",
       "mean       9.858475    6541.548772     60.348651      2.070636   \n",
       "std        5.682529   10887.013268     35.654083      1.078405   \n",
       "min        0.000000      12.190000     12.000000      0.000000   \n",
       "25%        6.000000    3400.000000     40.000000      1.000000   \n",
       "50%        9.000000    4650.000000     52.000000      2.000000   \n",
       "75%       14.000000    6800.000000     69.900000      3.000000   \n",
       "max       50.000000  763000.000000    900.000000     19.000000   \n",
       "\n",
       "       ceiling_height  floors_total   living_area         floor  kitchen_area  \\\n",
       "count    23699.000000  23613.000000  21796.000000  23699.000000  21421.000000   \n",
       "mean         2.724358     10.673824     34.457852      5.892358     10.569807   \n",
       "std          0.988298      6.597173     22.030445      4.885249      5.905438   \n",
       "min          1.000000      1.000000      2.000000      1.000000      1.300000   \n",
       "25%          2.600000      5.000000     18.600000      2.000000      7.000000   \n",
       "50%          2.650000      9.000000     30.000000      4.000000      9.100000   \n",
       "75%          2.700000     16.000000     42.300000      8.000000     12.000000   \n",
       "max        100.000000     60.000000    409.700000     33.000000    112.000000   \n",
       "\n",
       "            balcony  airports_nearest  cityCenters_nearest  parks_around3000  \\\n",
       "count  23699.000000      18157.000000         18180.000000      18181.000000   \n",
       "mean       0.591080      28793.672193         14191.277833          0.611408   \n",
       "std        0.959298      12630.880622          8608.386210          0.802074   \n",
       "min        0.000000          0.000000           181.000000          0.000000   \n",
       "25%        0.000000      18585.000000          9238.000000          0.000000   \n",
       "50%        0.000000      26726.000000         13098.500000          0.000000   \n",
       "75%        1.000000      37273.000000         16293.000000          1.000000   \n",
       "max        5.000000      84869.000000         65968.000000          3.000000   \n",
       "\n",
       "       parks_nearest  ponds_around3000  ponds_nearest  days_exposition  \n",
       "count    8079.000000      18181.000000    9110.000000     20518.000000  \n",
       "mean      490.804555          0.770255     517.980900       180.888634  \n",
       "std       342.317995          0.938346     277.720643       219.727988  \n",
       "min         1.000000          0.000000      13.000000         1.000000  \n",
       "25%       288.000000          0.000000     294.000000        45.000000  \n",
       "50%       455.000000          1.000000     502.000000        95.000000  \n",
       "75%       612.000000          1.000000     729.000000       232.000000  \n",
       "max      3190.000000          3.000000    1344.000000      1580.000000  "
      ]
     },
     "execution_count": 9,
     "metadata": {},
     "output_type": "execute_result"
    }
   ],
   "source": [
    "data.describe()"
   ]
  },
  {
   "cell_type": "code",
   "execution_count": 10,
   "metadata": {},
   "outputs": [],
   "source": [
    "data.loc[(data['ceiling_height'] >= 10) , 'ceiling_height'] = data['ceiling_height'] / 10 # разделим значения, которые больше 10м на 10\n",
    "data.loc[data['studio'] == True, 'rooms'] = 0\n",
    "data.loc[data['studio'] == True, 'kitchen_area'] = 0\n"
   ]
  },
  {
   "cell_type": "code",
   "execution_count": 11,
   "metadata": {},
   "outputs": [
    {
     "name": "stdout",
     "output_type": "stream",
     "text": [
      "<class 'pandas.core.frame.DataFrame'>\n",
      "Int64Index: 23682 entries, 0 to 23698\n",
      "Data columns (total 22 columns):\n",
      " #   Column                Non-Null Count  Dtype         \n",
      "---  ------                --------------  -----         \n",
      " 0   total_images          23682 non-null  int64         \n",
      " 1   last_price            23682 non-null  float64       \n",
      " 2   total_area            23682 non-null  float64       \n",
      " 3   first_day_exposition  23682 non-null  datetime64[ns]\n",
      " 4   rooms                 23682 non-null  int64         \n",
      " 5   ceiling_height        23682 non-null  float64       \n",
      " 6   floors_total          23596 non-null  float64       \n",
      " 7   living_area           21781 non-null  float64       \n",
      " 8   floor                 23682 non-null  int64         \n",
      " 9   is_apartment          23682 non-null  bool          \n",
      " 10  studio                23682 non-null  bool          \n",
      " 11  open_plan             23682 non-null  bool          \n",
      " 12  kitchen_area          21556 non-null  float64       \n",
      " 13  balcony               23682 non-null  int64         \n",
      " 14  locality_name         23633 non-null  object        \n",
      " 15  airports_nearest      18140 non-null  float64       \n",
      " 16  cityCenters_nearest   18163 non-null  float64       \n",
      " 17  parks_around3000      18164 non-null  float64       \n",
      " 18  parks_nearest         8068 non-null   float64       \n",
      " 19  ponds_around3000      18164 non-null  float64       \n",
      " 20  ponds_nearest         9094 non-null   float64       \n",
      " 21  days_exposition       20503 non-null  float64       \n",
      "dtypes: bool(3), datetime64[ns](1), float64(13), int64(4), object(1)\n",
      "memory usage: 3.7+ MB\n"
     ]
    }
   ],
   "source": [
    "data = data[data.last_price < 150000] \n",
    "data['last_price'].sort_values(ascending = False).head(20) \n",
    "data.info()\n"
   ]
  },
  {
   "cell_type": "markdown",
   "metadata": {},
   "source": [
    "Тут как я понял мы можем избавиться от слишком больших значений. Следовательно я убрал значения стоимости более 150млн рублей. Получилось, что чисто на цене мы убрали 17 слишком больших значений"
   ]
  },
  {
   "cell_type": "code",
   "execution_count": 12,
   "metadata": {},
   "outputs": [
    {
     "name": "stdout",
     "output_type": "stream",
     "text": [
      "<class 'pandas.core.frame.DataFrame'>\n",
      "Int64Index: 23664 entries, 0 to 23698\n",
      "Data columns (total 22 columns):\n",
      " #   Column                Non-Null Count  Dtype         \n",
      "---  ------                --------------  -----         \n",
      " 0   total_images          23664 non-null  int64         \n",
      " 1   last_price            23664 non-null  float64       \n",
      " 2   total_area            23664 non-null  float64       \n",
      " 3   first_day_exposition  23664 non-null  datetime64[ns]\n",
      " 4   rooms                 23664 non-null  int64         \n",
      " 5   ceiling_height        23664 non-null  float64       \n",
      " 6   floors_total          23578 non-null  float64       \n",
      " 7   living_area           21764 non-null  float64       \n",
      " 8   floor                 23664 non-null  int64         \n",
      " 9   is_apartment          23664 non-null  bool          \n",
      " 10  studio                23664 non-null  bool          \n",
      " 11  open_plan             23664 non-null  bool          \n",
      " 12  kitchen_area          21539 non-null  float64       \n",
      " 13  balcony               23664 non-null  int64         \n",
      " 14  locality_name         23615 non-null  object        \n",
      " 15  airports_nearest      18122 non-null  float64       \n",
      " 16  cityCenters_nearest   18145 non-null  float64       \n",
      " 17  parks_around3000      18146 non-null  float64       \n",
      " 18  parks_nearest         8053 non-null   float64       \n",
      " 19  ponds_around3000      18146 non-null  float64       \n",
      " 20  ponds_nearest         9086 non-null   float64       \n",
      " 21  days_exposition       20491 non-null  float64       \n",
      "dtypes: bool(3), datetime64[ns](1), float64(13), int64(4), object(1)\n",
      "memory usage: 3.7+ MB\n"
     ]
    }
   ],
   "source": [
    "data = data[data.rooms < 9] \n",
    "data['rooms'].sort_values(ascending = False).head(20)\n",
    "data.info()"
   ]
  },
  {
   "cell_type": "markdown",
   "metadata": {},
   "source": [
    "аналогично убрал слишком большие значение. Оставил тольок значения меньше 9 комнат. убрал 18 строк. "
   ]
  },
  {
   "cell_type": "code",
   "execution_count": 13,
   "metadata": {},
   "outputs": [
    {
     "name": "stdout",
     "output_type": "stream",
     "text": [
      "<class 'pandas.core.frame.DataFrame'>\n",
      "Int64Index: 23572 entries, 0 to 23698\n",
      "Data columns (total 22 columns):\n",
      " #   Column                Non-Null Count  Dtype         \n",
      "---  ------                --------------  -----         \n",
      " 0   total_images          23572 non-null  int64         \n",
      " 1   last_price            23572 non-null  float64       \n",
      " 2   total_area            23572 non-null  float64       \n",
      " 3   first_day_exposition  23572 non-null  datetime64[ns]\n",
      " 4   rooms                 23572 non-null  int64         \n",
      " 5   ceiling_height        23572 non-null  float64       \n",
      " 6   floors_total          23487 non-null  float64       \n",
      " 7   living_area           21688 non-null  float64       \n",
      " 8   floor                 23572 non-null  int64         \n",
      " 9   is_apartment          23572 non-null  bool          \n",
      " 10  studio                23572 non-null  bool          \n",
      " 11  open_plan             23572 non-null  bool          \n",
      " 12  kitchen_area          21462 non-null  float64       \n",
      " 13  balcony               23572 non-null  int64         \n",
      " 14  locality_name         23523 non-null  object        \n",
      " 15  airports_nearest      18034 non-null  float64       \n",
      " 16  cityCenters_nearest   18055 non-null  float64       \n",
      " 17  parks_around3000      18056 non-null  float64       \n",
      " 18  parks_nearest         7998 non-null   float64       \n",
      " 19  ponds_around3000      18056 non-null  float64       \n",
      " 20  ponds_nearest         9025 non-null   float64       \n",
      " 21  days_exposition       20418 non-null  float64       \n",
      "dtypes: bool(3), datetime64[ns](1), float64(13), int64(4), object(1)\n",
      "memory usage: 3.7+ MB\n"
     ]
    }
   ],
   "source": [
    "data = data[data.total_area < 250] \n",
    "data['total_area'].sort_values(ascending = False).head(20)\n",
    "data.info()\n",
    "\n"
   ]
  },
  {
   "cell_type": "markdown",
   "metadata": {},
   "source": [
    "Тут оставил значения по площади меньше 250 квадратных метров. думаю, что 250 еще нормальное значение, выше уже перебор) Убрал 100 строк данным фильтром. Получается что отфильтровав значения площади квартиры, комнат и цены я убрал около 1 процента строк от общего количечства. "
   ]
  },
  {
   "cell_type": "markdown",
   "metadata": {},
   "source": [
    "<div class=\"alert alert-danger\">\n",
    "<b>❌ Комментарий ревьюера v1:</b> \n",
    "<br>Давай детальнее изучим аномалии в некоторых столбцах. Аномальное значение не значит, что оно нереальное или не может существовать. Это значит, что такое значение выделяется на общем фоне и встретить его большая редкость. Посмотри какие значения есть в столбцах со стоимостью квартиры, количеством комнат и общей площадью. Кажется, в них есть значения, которые сильно выделяются на общем фоне (слишком высокие). Не забудь проверить какое количество данных мы в итоге отбрасываем. Это количество не должно превышать 10% от изначального объёма данных. C этим может помочь следующий код\n",
    "\n",
    "\tnew_data.shape[0] / old_data.shape[0]\n",
    "</div>"
   ]
  },
  {
   "cell_type": "markdown",
   "metadata": {},
   "source": [
    "<div class=\"alert alert-success\">\n",
    "<b>✔️ Комментарий ревьюера v2:</b>\n",
    "<br>Ты всё сделал верно, но давай на всякий случай я покажу как правильно находить границу для аномальных значений. Давай разберём на примере общей площади (график ниже). На графике чётко видно, что после 200м квартир практически нет, а после 300 линии даже не видно. В данном случае аномальными значениями можно считать все квартиры больше 200-300м. Значит эти значения нужно отбросить. Удали аномалии в этих столбцах\n",
    "</div>\n"
   ]
  },
  {
   "cell_type": "code",
   "execution_count": 53,
   "metadata": {},
   "outputs": [
    {
     "data": {
      "image/png": "[encoded data removed]",
      "text/plain": [
       "<Figure size 432x288 with 1 Axes>"
      ]
     },
     "metadata": {
      "needs_background": "light"
     },
     "output_type": "display_data"
    }
   ],
   "source": [
    "#код ревьюера\n",
    "data2 = pd.read_csv('/datasets/real_estate_data.csv', sep='\\t')\n",
    "(data2['total_area']).hist(bins=30);"
   ]
  },
  {
   "cell_type": "markdown",
   "metadata": {},
   "source": [
    "### Посчитайте и добавьте в таблицу новые столбцы"
   ]
  },
  {
   "cell_type": "code",
   "execution_count": 14,
   "metadata": {},
   "outputs": [
    {
     "data": {
      "text/plain": [
       "0        120.370370\n",
       "1         82.920792\n",
       "2         92.785714\n",
       "3        408.176101\n",
       "4        100.000000\n",
       "            ...    \n",
       "23694     72.490845\n",
       "23695     52.542373\n",
       "23696     44.091711\n",
       "23697    149.511401\n",
       "23698     41.795666\n",
       "Name: cost_1m2, Length: 23572, dtype: float64"
      ]
     },
     "execution_count": 14,
     "metadata": {},
     "output_type": "execute_result"
    }
   ],
   "source": [
    "data['cost_1m2'] = data['last_price'] / data['total_area'] # цена за квадратный метр\n",
    "data['cost_1m2']"
   ]
  },
  {
   "cell_type": "code",
   "execution_count": 15,
   "metadata": {},
   "outputs": [
    {
     "data": {
      "text/html": [
       "<div>\n",
       "<style scoped>\n",
       "    .dataframe tbody tr th:only-of-type {\n",
       "        vertical-align: middle;\n",
       "    }\n",
       "\n",
       "    .dataframe tbody tr th {\n",
       "        vertical-align: top;\n",
       "    }\n",
       "\n",
       "    .dataframe thead th {\n",
       "        text-align: right;\n",
       "    }\n",
       "</style>\n",
       "<table border=\"1\" class=\"dataframe\">\n",
       "  <thead>\n",
       "    <tr style=\"text-align: right;\">\n",
       "      <th></th>\n",
       "      <th>total_images</th>\n",
       "      <th>last_price</th>\n",
       "      <th>total_area</th>\n",
       "      <th>first_day_exposition</th>\n",
       "      <th>rooms</th>\n",
       "      <th>ceiling_height</th>\n",
       "      <th>floors_total</th>\n",
       "      <th>living_area</th>\n",
       "      <th>floor</th>\n",
       "      <th>is_apartment</th>\n",
       "      <th>studio</th>\n",
       "      <th>open_plan</th>\n",
       "      <th>kitchen_area</th>\n",
       "      <th>balcony</th>\n",
       "      <th>locality_name</th>\n",
       "      <th>airports_nearest</th>\n",
       "      <th>cityCenters_nearest</th>\n",
       "      <th>parks_around3000</th>\n",
       "      <th>parks_nearest</th>\n",
       "      <th>ponds_around3000</th>\n",
       "      <th>ponds_nearest</th>\n",
       "      <th>days_exposition</th>\n",
       "      <th>cost_1m2</th>\n",
       "      <th>day_number</th>\n",
       "    </tr>\n",
       "  </thead>\n",
       "  <tbody>\n",
       "    <tr>\n",
       "      <th>0</th>\n",
       "      <td>20</td>\n",
       "      <td>13000.0</td>\n",
       "      <td>108.0</td>\n",
       "      <td>2019-03-07</td>\n",
       "      <td>3</td>\n",
       "      <td>2.70</td>\n",
       "      <td>16.0</td>\n",
       "      <td>51.0</td>\n",
       "      <td>8</td>\n",
       "      <td>False</td>\n",
       "      <td>False</td>\n",
       "      <td>False</td>\n",
       "      <td>25.0</td>\n",
       "      <td>0</td>\n",
       "      <td>Санкт-Петербург</td>\n",
       "      <td>18863.0</td>\n",
       "      <td>16028.0</td>\n",
       "      <td>1.0</td>\n",
       "      <td>482.0</td>\n",
       "      <td>2.0</td>\n",
       "      <td>755.0</td>\n",
       "      <td>NaN</td>\n",
       "      <td>120.370370</td>\n",
       "      <td>3</td>\n",
       "    </tr>\n",
       "    <tr>\n",
       "      <th>1</th>\n",
       "      <td>7</td>\n",
       "      <td>3350.0</td>\n",
       "      <td>40.4</td>\n",
       "      <td>2018-12-04</td>\n",
       "      <td>1</td>\n",
       "      <td>2.65</td>\n",
       "      <td>11.0</td>\n",
       "      <td>18.6</td>\n",
       "      <td>1</td>\n",
       "      <td>False</td>\n",
       "      <td>False</td>\n",
       "      <td>False</td>\n",
       "      <td>11.0</td>\n",
       "      <td>2</td>\n",
       "      <td>поселок Шушары</td>\n",
       "      <td>12817.0</td>\n",
       "      <td>18603.0</td>\n",
       "      <td>0.0</td>\n",
       "      <td>NaN</td>\n",
       "      <td>0.0</td>\n",
       "      <td>NaN</td>\n",
       "      <td>81.0</td>\n",
       "      <td>82.920792</td>\n",
       "      <td>1</td>\n",
       "    </tr>\n",
       "    <tr>\n",
       "      <th>2</th>\n",
       "      <td>10</td>\n",
       "      <td>5196.0</td>\n",
       "      <td>56.0</td>\n",
       "      <td>2015-08-20</td>\n",
       "      <td>2</td>\n",
       "      <td>2.65</td>\n",
       "      <td>5.0</td>\n",
       "      <td>34.3</td>\n",
       "      <td>4</td>\n",
       "      <td>False</td>\n",
       "      <td>False</td>\n",
       "      <td>False</td>\n",
       "      <td>8.3</td>\n",
       "      <td>0</td>\n",
       "      <td>Санкт-Петербург</td>\n",
       "      <td>21741.0</td>\n",
       "      <td>13933.0</td>\n",
       "      <td>1.0</td>\n",
       "      <td>90.0</td>\n",
       "      <td>2.0</td>\n",
       "      <td>574.0</td>\n",
       "      <td>558.0</td>\n",
       "      <td>92.785714</td>\n",
       "      <td>3</td>\n",
       "    </tr>\n",
       "    <tr>\n",
       "      <th>3</th>\n",
       "      <td>0</td>\n",
       "      <td>64900.0</td>\n",
       "      <td>159.0</td>\n",
       "      <td>2015-07-24</td>\n",
       "      <td>3</td>\n",
       "      <td>2.65</td>\n",
       "      <td>14.0</td>\n",
       "      <td>NaN</td>\n",
       "      <td>9</td>\n",
       "      <td>False</td>\n",
       "      <td>False</td>\n",
       "      <td>False</td>\n",
       "      <td>NaN</td>\n",
       "      <td>0</td>\n",
       "      <td>Санкт-Петербург</td>\n",
       "      <td>28098.0</td>\n",
       "      <td>6800.0</td>\n",
       "      <td>2.0</td>\n",
       "      <td>84.0</td>\n",
       "      <td>3.0</td>\n",
       "      <td>234.0</td>\n",
       "      <td>424.0</td>\n",
       "      <td>408.176101</td>\n",
       "      <td>4</td>\n",
       "    </tr>\n",
       "    <tr>\n",
       "      <th>4</th>\n",
       "      <td>2</td>\n",
       "      <td>10000.0</td>\n",
       "      <td>100.0</td>\n",
       "      <td>2018-06-19</td>\n",
       "      <td>2</td>\n",
       "      <td>3.03</td>\n",
       "      <td>14.0</td>\n",
       "      <td>32.0</td>\n",
       "      <td>13</td>\n",
       "      <td>False</td>\n",
       "      <td>False</td>\n",
       "      <td>False</td>\n",
       "      <td>41.0</td>\n",
       "      <td>0</td>\n",
       "      <td>Санкт-Петербург</td>\n",
       "      <td>31856.0</td>\n",
       "      <td>8098.0</td>\n",
       "      <td>2.0</td>\n",
       "      <td>112.0</td>\n",
       "      <td>1.0</td>\n",
       "      <td>48.0</td>\n",
       "      <td>121.0</td>\n",
       "      <td>100.000000</td>\n",
       "      <td>1</td>\n",
       "    </tr>\n",
       "  </tbody>\n",
       "</table>\n",
       "</div>"
      ],
      "text/plain": [
       "   total_images  last_price  total_area first_day_exposition  rooms  \\\n",
       "0            20     13000.0       108.0           2019-03-07      3   \n",
       "1             7      3350.0        40.4           2018-12-04      1   \n",
       "2            10      5196.0        56.0           2015-08-20      2   \n",
       "3             0     64900.0       159.0           2015-07-24      3   \n",
       "4             2     10000.0       100.0           2018-06-19      2   \n",
       "\n",
       "   ceiling_height  floors_total  living_area  floor  is_apartment  studio  \\\n",
       "0            2.70          16.0         51.0      8         False   False   \n",
       "1            2.65          11.0         18.6      1         False   False   \n",
       "2            2.65           5.0         34.3      4         False   False   \n",
       "3            2.65          14.0          NaN      9         False   False   \n",
       "4            3.03          14.0         32.0     13         False   False   \n",
       "\n",
       "   open_plan  kitchen_area  balcony    locality_name  airports_nearest  \\\n",
       "0      False          25.0        0  Санкт-Петербург           18863.0   \n",
       "1      False          11.0        2   поселок Шушары           12817.0   \n",
       "2      False           8.3        0  Санкт-Петербург           21741.0   \n",
       "3      False           NaN        0  Санкт-Петербург           28098.0   \n",
       "4      False          41.0        0  Санкт-Петербург           31856.0   \n",
       "\n",
       "   cityCenters_nearest  parks_around3000  parks_nearest  ponds_around3000  \\\n",
       "0              16028.0               1.0          482.0               2.0   \n",
       "1              18603.0               0.0            NaN               0.0   \n",
       "2              13933.0               1.0           90.0               2.0   \n",
       "3               6800.0               2.0           84.0               3.0   \n",
       "4               8098.0               2.0          112.0               1.0   \n",
       "\n",
       "   ponds_nearest  days_exposition    cost_1m2  day_number  \n",
       "0          755.0              NaN  120.370370           3  \n",
       "1            NaN             81.0   82.920792           1  \n",
       "2          574.0            558.0   92.785714           3  \n",
       "3          234.0            424.0  408.176101           4  \n",
       "4           48.0            121.0  100.000000           1  "
      ]
     },
     "execution_count": 15,
     "metadata": {},
     "output_type": "execute_result"
    }
   ],
   "source": [
    "data['day_number'] = data['first_day_exposition'].dt.weekday\n",
    "data.head()\n"
   ]
  },
  {
   "cell_type": "code",
   "execution_count": 16,
   "metadata": {},
   "outputs": [
    {
     "name": "stderr",
     "output_type": "stream",
     "text": [
      "/tmp/ipykernel_247/4282007182.py:1: FutureWarning: Series.dt.weekofyear and Series.dt.week have been deprecated.  Please use Series.dt.isocalendar().week instead.\n",
      "  data['week_number'] = data['first_day_exposition'].dt.week\n"
     ]
    },
    {
     "data": {
      "text/html": [
       "<div>\n",
       "<style scoped>\n",
       "    .dataframe tbody tr th:only-of-type {\n",
       "        vertical-align: middle;\n",
       "    }\n",
       "\n",
       "    .dataframe tbody tr th {\n",
       "        vertical-align: top;\n",
       "    }\n",
       "\n",
       "    .dataframe thead th {\n",
       "        text-align: right;\n",
       "    }\n",
       "</style>\n",
       "<table border=\"1\" class=\"dataframe\">\n",
       "  <thead>\n",
       "    <tr style=\"text-align: right;\">\n",
       "      <th></th>\n",
       "      <th>total_images</th>\n",
       "      <th>last_price</th>\n",
       "      <th>total_area</th>\n",
       "      <th>first_day_exposition</th>\n",
       "      <th>rooms</th>\n",
       "      <th>ceiling_height</th>\n",
       "      <th>floors_total</th>\n",
       "      <th>living_area</th>\n",
       "      <th>floor</th>\n",
       "      <th>is_apartment</th>\n",
       "      <th>studio</th>\n",
       "      <th>open_plan</th>\n",
       "      <th>kitchen_area</th>\n",
       "      <th>balcony</th>\n",
       "      <th>locality_name</th>\n",
       "      <th>airports_nearest</th>\n",
       "      <th>cityCenters_nearest</th>\n",
       "      <th>parks_around3000</th>\n",
       "      <th>parks_nearest</th>\n",
       "      <th>ponds_around3000</th>\n",
       "      <th>ponds_nearest</th>\n",
       "      <th>days_exposition</th>\n",
       "      <th>cost_1m2</th>\n",
       "      <th>day_number</th>\n",
       "      <th>week_number</th>\n",
       "    </tr>\n",
       "  </thead>\n",
       "  <tbody>\n",
       "    <tr>\n",
       "      <th>0</th>\n",
       "      <td>20</td>\n",
       "      <td>13000.0</td>\n",
       "      <td>108.0</td>\n",
       "      <td>2019-03-07</td>\n",
       "      <td>3</td>\n",
       "      <td>2.70</td>\n",
       "      <td>16.0</td>\n",
       "      <td>51.0</td>\n",
       "      <td>8</td>\n",
       "      <td>False</td>\n",
       "      <td>False</td>\n",
       "      <td>False</td>\n",
       "      <td>25.0</td>\n",
       "      <td>0</td>\n",
       "      <td>Санкт-Петербург</td>\n",
       "      <td>18863.0</td>\n",
       "      <td>16028.0</td>\n",
       "      <td>1.0</td>\n",
       "      <td>482.0</td>\n",
       "      <td>2.0</td>\n",
       "      <td>755.0</td>\n",
       "      <td>NaN</td>\n",
       "      <td>120.370370</td>\n",
       "      <td>3</td>\n",
       "      <td>10</td>\n",
       "    </tr>\n",
       "    <tr>\n",
       "      <th>1</th>\n",
       "      <td>7</td>\n",
       "      <td>3350.0</td>\n",
       "      <td>40.4</td>\n",
       "      <td>2018-12-04</td>\n",
       "      <td>1</td>\n",
       "      <td>2.65</td>\n",
       "      <td>11.0</td>\n",
       "      <td>18.6</td>\n",
       "      <td>1</td>\n",
       "      <td>False</td>\n",
       "      <td>False</td>\n",
       "      <td>False</td>\n",
       "      <td>11.0</td>\n",
       "      <td>2</td>\n",
       "      <td>поселок Шушары</td>\n",
       "      <td>12817.0</td>\n",
       "      <td>18603.0</td>\n",
       "      <td>0.0</td>\n",
       "      <td>NaN</td>\n",
       "      <td>0.0</td>\n",
       "      <td>NaN</td>\n",
       "      <td>81.0</td>\n",
       "      <td>82.920792</td>\n",
       "      <td>1</td>\n",
       "      <td>49</td>\n",
       "    </tr>\n",
       "    <tr>\n",
       "      <th>2</th>\n",
       "      <td>10</td>\n",
       "      <td>5196.0</td>\n",
       "      <td>56.0</td>\n",
       "      <td>2015-08-20</td>\n",
       "      <td>2</td>\n",
       "      <td>2.65</td>\n",
       "      <td>5.0</td>\n",
       "      <td>34.3</td>\n",
       "      <td>4</td>\n",
       "      <td>False</td>\n",
       "      <td>False</td>\n",
       "      <td>False</td>\n",
       "      <td>8.3</td>\n",
       "      <td>0</td>\n",
       "      <td>Санкт-Петербург</td>\n",
       "      <td>21741.0</td>\n",
       "      <td>13933.0</td>\n",
       "      <td>1.0</td>\n",
       "      <td>90.0</td>\n",
       "      <td>2.0</td>\n",
       "      <td>574.0</td>\n",
       "      <td>558.0</td>\n",
       "      <td>92.785714</td>\n",
       "      <td>3</td>\n",
       "      <td>34</td>\n",
       "    </tr>\n",
       "    <tr>\n",
       "      <th>3</th>\n",
       "      <td>0</td>\n",
       "      <td>64900.0</td>\n",
       "      <td>159.0</td>\n",
       "      <td>2015-07-24</td>\n",
       "      <td>3</td>\n",
       "      <td>2.65</td>\n",
       "      <td>14.0</td>\n",
       "      <td>NaN</td>\n",
       "      <td>9</td>\n",
       "      <td>False</td>\n",
       "      <td>False</td>\n",
       "      <td>False</td>\n",
       "      <td>NaN</td>\n",
       "      <td>0</td>\n",
       "      <td>Санкт-Петербург</td>\n",
       "      <td>28098.0</td>\n",
       "      <td>6800.0</td>\n",
       "      <td>2.0</td>\n",
       "      <td>84.0</td>\n",
       "      <td>3.0</td>\n",
       "      <td>234.0</td>\n",
       "      <td>424.0</td>\n",
       "      <td>408.176101</td>\n",
       "      <td>4</td>\n",
       "      <td>30</td>\n",
       "    </tr>\n",
       "    <tr>\n",
       "      <th>4</th>\n",
       "      <td>2</td>\n",
       "      <td>10000.0</td>\n",
       "      <td>100.0</td>\n",
       "      <td>2018-06-19</td>\n",
       "      <td>2</td>\n",
       "      <td>3.03</td>\n",
       "      <td>14.0</td>\n",
       "      <td>32.0</td>\n",
       "      <td>13</td>\n",
       "      <td>False</td>\n",
       "      <td>False</td>\n",
       "      <td>False</td>\n",
       "      <td>41.0</td>\n",
       "      <td>0</td>\n",
       "      <td>Санкт-Петербург</td>\n",
       "      <td>31856.0</td>\n",
       "      <td>8098.0</td>\n",
       "      <td>2.0</td>\n",
       "      <td>112.0</td>\n",
       "      <td>1.0</td>\n",
       "      <td>48.0</td>\n",
       "      <td>121.0</td>\n",
       "      <td>100.000000</td>\n",
       "      <td>1</td>\n",
       "      <td>25</td>\n",
       "    </tr>\n",
       "  </tbody>\n",
       "</table>\n",
       "</div>"
      ],
      "text/plain": [
       "   total_images  last_price  total_area first_day_exposition  rooms  \\\n",
       "0            20     13000.0       108.0           2019-03-07      3   \n",
       "1             7      3350.0        40.4           2018-12-04      1   \n",
       "2            10      5196.0        56.0           2015-08-20      2   \n",
       "3             0     64900.0       159.0           2015-07-24      3   \n",
       "4             2     10000.0       100.0           2018-06-19      2   \n",
       "\n",
       "   ceiling_height  floors_total  living_area  floor  is_apartment  studio  \\\n",
       "0            2.70          16.0         51.0      8         False   False   \n",
       "1            2.65          11.0         18.6      1         False   False   \n",
       "2            2.65           5.0         34.3      4         False   False   \n",
       "3            2.65          14.0          NaN      9         False   False   \n",
       "4            3.03          14.0         32.0     13         False   False   \n",
       "\n",
       "   open_plan  kitchen_area  balcony    locality_name  airports_nearest  \\\n",
       "0      False          25.0        0  Санкт-Петербург           18863.0   \n",
       "1      False          11.0        2   поселок Шушары           12817.0   \n",
       "2      False           8.3        0  Санкт-Петербург           21741.0   \n",
       "3      False           NaN        0  Санкт-Петербург           28098.0   \n",
       "4      False          41.0        0  Санкт-Петербург           31856.0   \n",
       "\n",
       "   cityCenters_nearest  parks_around3000  parks_nearest  ponds_around3000  \\\n",
       "0              16028.0               1.0          482.0               2.0   \n",
       "1              18603.0               0.0            NaN               0.0   \n",
       "2              13933.0               1.0           90.0               2.0   \n",
       "3               6800.0               2.0           84.0               3.0   \n",
       "4               8098.0               2.0          112.0               1.0   \n",
       "\n",
       "   ponds_nearest  days_exposition    cost_1m2  day_number  week_number  \n",
       "0          755.0              NaN  120.370370           3           10  \n",
       "1            NaN             81.0   82.920792           1           49  \n",
       "2          574.0            558.0   92.785714           3           34  \n",
       "3          234.0            424.0  408.176101           4           30  \n",
       "4           48.0            121.0  100.000000           1           25  "
      ]
     },
     "execution_count": 16,
     "metadata": {},
     "output_type": "execute_result"
    }
   ],
   "source": [
    "data['week_number'] = data['first_day_exposition'].dt.week\n",
    "data.head()"
   ]
  },
  {
   "cell_type": "code",
   "execution_count": 17,
   "metadata": {},
   "outputs": [
    {
     "data": {
      "text/html": [
       "<div>\n",
       "<style scoped>\n",
       "    .dataframe tbody tr th:only-of-type {\n",
       "        vertical-align: middle;\n",
       "    }\n",
       "\n",
       "    .dataframe tbody tr th {\n",
       "        vertical-align: top;\n",
       "    }\n",
       "\n",
       "    .dataframe thead th {\n",
       "        text-align: right;\n",
       "    }\n",
       "</style>\n",
       "<table border=\"1\" class=\"dataframe\">\n",
       "  <thead>\n",
       "    <tr style=\"text-align: right;\">\n",
       "      <th></th>\n",
       "      <th>total_images</th>\n",
       "      <th>last_price</th>\n",
       "      <th>total_area</th>\n",
       "      <th>first_day_exposition</th>\n",
       "      <th>rooms</th>\n",
       "      <th>ceiling_height</th>\n",
       "      <th>floors_total</th>\n",
       "      <th>living_area</th>\n",
       "      <th>floor</th>\n",
       "      <th>is_apartment</th>\n",
       "      <th>studio</th>\n",
       "      <th>open_plan</th>\n",
       "      <th>kitchen_area</th>\n",
       "      <th>balcony</th>\n",
       "      <th>locality_name</th>\n",
       "      <th>airports_nearest</th>\n",
       "      <th>cityCenters_nearest</th>\n",
       "      <th>parks_around3000</th>\n",
       "      <th>parks_nearest</th>\n",
       "      <th>ponds_around3000</th>\n",
       "      <th>ponds_nearest</th>\n",
       "      <th>days_exposition</th>\n",
       "      <th>cost_1m2</th>\n",
       "      <th>day_number</th>\n",
       "      <th>week_number</th>\n",
       "      <th>month_number</th>\n",
       "    </tr>\n",
       "  </thead>\n",
       "  <tbody>\n",
       "    <tr>\n",
       "      <th>0</th>\n",
       "      <td>20</td>\n",
       "      <td>13000.0</td>\n",
       "      <td>108.0</td>\n",
       "      <td>2019-03-07</td>\n",
       "      <td>3</td>\n",
       "      <td>2.70</td>\n",
       "      <td>16.0</td>\n",
       "      <td>51.0</td>\n",
       "      <td>8</td>\n",
       "      <td>False</td>\n",
       "      <td>False</td>\n",
       "      <td>False</td>\n",
       "      <td>25.0</td>\n",
       "      <td>0</td>\n",
       "      <td>Санкт-Петербург</td>\n",
       "      <td>18863.0</td>\n",
       "      <td>16028.0</td>\n",
       "      <td>1.0</td>\n",
       "      <td>482.0</td>\n",
       "      <td>2.0</td>\n",
       "      <td>755.0</td>\n",
       "      <td>NaN</td>\n",
       "      <td>120.370370</td>\n",
       "      <td>3</td>\n",
       "      <td>10</td>\n",
       "      <td>3</td>\n",
       "    </tr>\n",
       "    <tr>\n",
       "      <th>1</th>\n",
       "      <td>7</td>\n",
       "      <td>3350.0</td>\n",
       "      <td>40.4</td>\n",
       "      <td>2018-12-04</td>\n",
       "      <td>1</td>\n",
       "      <td>2.65</td>\n",
       "      <td>11.0</td>\n",
       "      <td>18.6</td>\n",
       "      <td>1</td>\n",
       "      <td>False</td>\n",
       "      <td>False</td>\n",
       "      <td>False</td>\n",
       "      <td>11.0</td>\n",
       "      <td>2</td>\n",
       "      <td>поселок Шушары</td>\n",
       "      <td>12817.0</td>\n",
       "      <td>18603.0</td>\n",
       "      <td>0.0</td>\n",
       "      <td>NaN</td>\n",
       "      <td>0.0</td>\n",
       "      <td>NaN</td>\n",
       "      <td>81.0</td>\n",
       "      <td>82.920792</td>\n",
       "      <td>1</td>\n",
       "      <td>49</td>\n",
       "      <td>12</td>\n",
       "    </tr>\n",
       "    <tr>\n",
       "      <th>2</th>\n",
       "      <td>10</td>\n",
       "      <td>5196.0</td>\n",
       "      <td>56.0</td>\n",
       "      <td>2015-08-20</td>\n",
       "      <td>2</td>\n",
       "      <td>2.65</td>\n",
       "      <td>5.0</td>\n",
       "      <td>34.3</td>\n",
       "      <td>4</td>\n",
       "      <td>False</td>\n",
       "      <td>False</td>\n",
       "      <td>False</td>\n",
       "      <td>8.3</td>\n",
       "      <td>0</td>\n",
       "      <td>Санкт-Петербург</td>\n",
       "      <td>21741.0</td>\n",
       "      <td>13933.0</td>\n",
       "      <td>1.0</td>\n",
       "      <td>90.0</td>\n",
       "      <td>2.0</td>\n",
       "      <td>574.0</td>\n",
       "      <td>558.0</td>\n",
       "      <td>92.785714</td>\n",
       "      <td>3</td>\n",
       "      <td>34</td>\n",
       "      <td>8</td>\n",
       "    </tr>\n",
       "    <tr>\n",
       "      <th>3</th>\n",
       "      <td>0</td>\n",
       "      <td>64900.0</td>\n",
       "      <td>159.0</td>\n",
       "      <td>2015-07-24</td>\n",
       "      <td>3</td>\n",
       "      <td>2.65</td>\n",
       "      <td>14.0</td>\n",
       "      <td>NaN</td>\n",
       "      <td>9</td>\n",
       "      <td>False</td>\n",
       "      <td>False</td>\n",
       "      <td>False</td>\n",
       "      <td>NaN</td>\n",
       "      <td>0</td>\n",
       "      <td>Санкт-Петербург</td>\n",
       "      <td>28098.0</td>\n",
       "      <td>6800.0</td>\n",
       "      <td>2.0</td>\n",
       "      <td>84.0</td>\n",
       "      <td>3.0</td>\n",
       "      <td>234.0</td>\n",
       "      <td>424.0</td>\n",
       "      <td>408.176101</td>\n",
       "      <td>4</td>\n",
       "      <td>30</td>\n",
       "      <td>7</td>\n",
       "    </tr>\n",
       "    <tr>\n",
       "      <th>4</th>\n",
       "      <td>2</td>\n",
       "      <td>10000.0</td>\n",
       "      <td>100.0</td>\n",
       "      <td>2018-06-19</td>\n",
       "      <td>2</td>\n",
       "      <td>3.03</td>\n",
       "      <td>14.0</td>\n",
       "      <td>32.0</td>\n",
       "      <td>13</td>\n",
       "      <td>False</td>\n",
       "      <td>False</td>\n",
       "      <td>False</td>\n",
       "      <td>41.0</td>\n",
       "      <td>0</td>\n",
       "      <td>Санкт-Петербург</td>\n",
       "      <td>31856.0</td>\n",
       "      <td>8098.0</td>\n",
       "      <td>2.0</td>\n",
       "      <td>112.0</td>\n",
       "      <td>1.0</td>\n",
       "      <td>48.0</td>\n",
       "      <td>121.0</td>\n",
       "      <td>100.000000</td>\n",
       "      <td>1</td>\n",
       "      <td>25</td>\n",
       "      <td>6</td>\n",
       "    </tr>\n",
       "  </tbody>\n",
       "</table>\n",
       "</div>"
      ],
      "text/plain": [
       "   total_images  last_price  total_area first_day_exposition  rooms  \\\n",
       "0            20     13000.0       108.0           2019-03-07      3   \n",
       "1             7      3350.0        40.4           2018-12-04      1   \n",
       "2            10      5196.0        56.0           2015-08-20      2   \n",
       "3             0     64900.0       159.0           2015-07-24      3   \n",
       "4             2     10000.0       100.0           2018-06-19      2   \n",
       "\n",
       "   ceiling_height  floors_total  living_area  floor  is_apartment  studio  \\\n",
       "0            2.70          16.0         51.0      8         False   False   \n",
       "1            2.65          11.0         18.6      1         False   False   \n",
       "2            2.65           5.0         34.3      4         False   False   \n",
       "3            2.65          14.0          NaN      9         False   False   \n",
       "4            3.03          14.0         32.0     13         False   False   \n",
       "\n",
       "   open_plan  kitchen_area  balcony    locality_name  airports_nearest  \\\n",
       "0      False          25.0        0  Санкт-Петербург           18863.0   \n",
       "1      False          11.0        2   поселок Шушары           12817.0   \n",
       "2      False           8.3        0  Санкт-Петербург           21741.0   \n",
       "3      False           NaN        0  Санкт-Петербург           28098.0   \n",
       "4      False          41.0        0  Санкт-Петербург           31856.0   \n",
       "\n",
       "   cityCenters_nearest  parks_around3000  parks_nearest  ponds_around3000  \\\n",
       "0              16028.0               1.0          482.0               2.0   \n",
       "1              18603.0               0.0            NaN               0.0   \n",
       "2              13933.0               1.0           90.0               2.0   \n",
       "3               6800.0               2.0           84.0               3.0   \n",
       "4               8098.0               2.0          112.0               1.0   \n",
       "\n",
       "   ponds_nearest  days_exposition    cost_1m2  day_number  week_number  \\\n",
       "0          755.0              NaN  120.370370           3           10   \n",
       "1            NaN             81.0   82.920792           1           49   \n",
       "2          574.0            558.0   92.785714           3           34   \n",
       "3          234.0            424.0  408.176101           4           30   \n",
       "4           48.0            121.0  100.000000           1           25   \n",
       "\n",
       "   month_number  \n",
       "0             3  \n",
       "1            12  \n",
       "2             8  \n",
       "3             7  \n",
       "4             6  "
      ]
     },
     "execution_count": 17,
     "metadata": {},
     "output_type": "execute_result"
    }
   ],
   "source": [
    "data['month_number'] = data['first_day_exposition'].dt.month\n",
    "data.head()\n"
   ]
  },
  {
   "cell_type": "code",
   "execution_count": 18,
   "metadata": {},
   "outputs": [
    {
     "data": {
      "text/html": [
       "<div>\n",
       "<style scoped>\n",
       "    .dataframe tbody tr th:only-of-type {\n",
       "        vertical-align: middle;\n",
       "    }\n",
       "\n",
       "    .dataframe tbody tr th {\n",
       "        vertical-align: top;\n",
       "    }\n",
       "\n",
       "    .dataframe thead th {\n",
       "        text-align: right;\n",
       "    }\n",
       "</style>\n",
       "<table border=\"1\" class=\"dataframe\">\n",
       "  <thead>\n",
       "    <tr style=\"text-align: right;\">\n",
       "      <th></th>\n",
       "      <th>total_images</th>\n",
       "      <th>last_price</th>\n",
       "      <th>total_area</th>\n",
       "      <th>first_day_exposition</th>\n",
       "      <th>rooms</th>\n",
       "      <th>ceiling_height</th>\n",
       "      <th>floors_total</th>\n",
       "      <th>living_area</th>\n",
       "      <th>floor</th>\n",
       "      <th>is_apartment</th>\n",
       "      <th>studio</th>\n",
       "      <th>open_plan</th>\n",
       "      <th>kitchen_area</th>\n",
       "      <th>balcony</th>\n",
       "      <th>locality_name</th>\n",
       "      <th>airports_nearest</th>\n",
       "      <th>cityCenters_nearest</th>\n",
       "      <th>parks_around3000</th>\n",
       "      <th>parks_nearest</th>\n",
       "      <th>ponds_around3000</th>\n",
       "      <th>ponds_nearest</th>\n",
       "      <th>days_exposition</th>\n",
       "      <th>cost_1m2</th>\n",
       "      <th>day_number</th>\n",
       "      <th>week_number</th>\n",
       "      <th>month_number</th>\n",
       "      <th>year_number</th>\n",
       "    </tr>\n",
       "  </thead>\n",
       "  <tbody>\n",
       "    <tr>\n",
       "      <th>0</th>\n",
       "      <td>20</td>\n",
       "      <td>13000.0</td>\n",
       "      <td>108.0</td>\n",
       "      <td>2019-03-07</td>\n",
       "      <td>3</td>\n",
       "      <td>2.70</td>\n",
       "      <td>16.0</td>\n",
       "      <td>51.0</td>\n",
       "      <td>8</td>\n",
       "      <td>False</td>\n",
       "      <td>False</td>\n",
       "      <td>False</td>\n",
       "      <td>25.0</td>\n",
       "      <td>0</td>\n",
       "      <td>Санкт-Петербург</td>\n",
       "      <td>18863.0</td>\n",
       "      <td>16028.0</td>\n",
       "      <td>1.0</td>\n",
       "      <td>482.0</td>\n",
       "      <td>2.0</td>\n",
       "      <td>755.0</td>\n",
       "      <td>NaN</td>\n",
       "      <td>120.370370</td>\n",
       "      <td>3</td>\n",
       "      <td>10</td>\n",
       "      <td>3</td>\n",
       "      <td>2019</td>\n",
       "    </tr>\n",
       "    <tr>\n",
       "      <th>1</th>\n",
       "      <td>7</td>\n",
       "      <td>3350.0</td>\n",
       "      <td>40.4</td>\n",
       "      <td>2018-12-04</td>\n",
       "      <td>1</td>\n",
       "      <td>2.65</td>\n",
       "      <td>11.0</td>\n",
       "      <td>18.6</td>\n",
       "      <td>1</td>\n",
       "      <td>False</td>\n",
       "      <td>False</td>\n",
       "      <td>False</td>\n",
       "      <td>11.0</td>\n",
       "      <td>2</td>\n",
       "      <td>поселок Шушары</td>\n",
       "      <td>12817.0</td>\n",
       "      <td>18603.0</td>\n",
       "      <td>0.0</td>\n",
       "      <td>NaN</td>\n",
       "      <td>0.0</td>\n",
       "      <td>NaN</td>\n",
       "      <td>81.0</td>\n",
       "      <td>82.920792</td>\n",
       "      <td>1</td>\n",
       "      <td>49</td>\n",
       "      <td>12</td>\n",
       "      <td>2018</td>\n",
       "    </tr>\n",
       "    <tr>\n",
       "      <th>2</th>\n",
       "      <td>10</td>\n",
       "      <td>5196.0</td>\n",
       "      <td>56.0</td>\n",
       "      <td>2015-08-20</td>\n",
       "      <td>2</td>\n",
       "      <td>2.65</td>\n",
       "      <td>5.0</td>\n",
       "      <td>34.3</td>\n",
       "      <td>4</td>\n",
       "      <td>False</td>\n",
       "      <td>False</td>\n",
       "      <td>False</td>\n",
       "      <td>8.3</td>\n",
       "      <td>0</td>\n",
       "      <td>Санкт-Петербург</td>\n",
       "      <td>21741.0</td>\n",
       "      <td>13933.0</td>\n",
       "      <td>1.0</td>\n",
       "      <td>90.0</td>\n",
       "      <td>2.0</td>\n",
       "      <td>574.0</td>\n",
       "      <td>558.0</td>\n",
       "      <td>92.785714</td>\n",
       "      <td>3</td>\n",
       "      <td>34</td>\n",
       "      <td>8</td>\n",
       "      <td>2015</td>\n",
       "    </tr>\n",
       "    <tr>\n",
       "      <th>3</th>\n",
       "      <td>0</td>\n",
       "      <td>64900.0</td>\n",
       "      <td>159.0</td>\n",
       "      <td>2015-07-24</td>\n",
       "      <td>3</td>\n",
       "      <td>2.65</td>\n",
       "      <td>14.0</td>\n",
       "      <td>NaN</td>\n",
       "      <td>9</td>\n",
       "      <td>False</td>\n",
       "      <td>False</td>\n",
       "      <td>False</td>\n",
       "      <td>NaN</td>\n",
       "      <td>0</td>\n",
       "      <td>Санкт-Петербург</td>\n",
       "      <td>28098.0</td>\n",
       "      <td>6800.0</td>\n",
       "      <td>2.0</td>\n",
       "      <td>84.0</td>\n",
       "      <td>3.0</td>\n",
       "      <td>234.0</td>\n",
       "      <td>424.0</td>\n",
       "      <td>408.176101</td>\n",
       "      <td>4</td>\n",
       "      <td>30</td>\n",
       "      <td>7</td>\n",
       "      <td>2015</td>\n",
       "    </tr>\n",
       "    <tr>\n",
       "      <th>4</th>\n",
       "      <td>2</td>\n",
       "      <td>10000.0</td>\n",
       "      <td>100.0</td>\n",
       "      <td>2018-06-19</td>\n",
       "      <td>2</td>\n",
       "      <td>3.03</td>\n",
       "      <td>14.0</td>\n",
       "      <td>32.0</td>\n",
       "      <td>13</td>\n",
       "      <td>False</td>\n",
       "      <td>False</td>\n",
       "      <td>False</td>\n",
       "      <td>41.0</td>\n",
       "      <td>0</td>\n",
       "      <td>Санкт-Петербург</td>\n",
       "      <td>31856.0</td>\n",
       "      <td>8098.0</td>\n",
       "      <td>2.0</td>\n",
       "      <td>112.0</td>\n",
       "      <td>1.0</td>\n",
       "      <td>48.0</td>\n",
       "      <td>121.0</td>\n",
       "      <td>100.000000</td>\n",
       "      <td>1</td>\n",
       "      <td>25</td>\n",
       "      <td>6</td>\n",
       "      <td>2018</td>\n",
       "    </tr>\n",
       "  </tbody>\n",
       "</table>\n",
       "</div>"
      ],
      "text/plain": [
       "   total_images  last_price  total_area first_day_exposition  rooms  \\\n",
       "0            20     13000.0       108.0           2019-03-07      3   \n",
       "1             7      3350.0        40.4           2018-12-04      1   \n",
       "2            10      5196.0        56.0           2015-08-20      2   \n",
       "3             0     64900.0       159.0           2015-07-24      3   \n",
       "4             2     10000.0       100.0           2018-06-19      2   \n",
       "\n",
       "   ceiling_height  floors_total  living_area  floor  is_apartment  studio  \\\n",
       "0            2.70          16.0         51.0      8         False   False   \n",
       "1            2.65          11.0         18.6      1         False   False   \n",
       "2            2.65           5.0         34.3      4         False   False   \n",
       "3            2.65          14.0          NaN      9         False   False   \n",
       "4            3.03          14.0         32.0     13         False   False   \n",
       "\n",
       "   open_plan  kitchen_area  balcony    locality_name  airports_nearest  \\\n",
       "0      False          25.0        0  Санкт-Петербург           18863.0   \n",
       "1      False          11.0        2   поселок Шушары           12817.0   \n",
       "2      False           8.3        0  Санкт-Петербург           21741.0   \n",
       "3      False           NaN        0  Санкт-Петербург           28098.0   \n",
       "4      False          41.0        0  Санкт-Петербург           31856.0   \n",
       "\n",
       "   cityCenters_nearest  parks_around3000  parks_nearest  ponds_around3000  \\\n",
       "0              16028.0               1.0          482.0               2.0   \n",
       "1              18603.0               0.0            NaN               0.0   \n",
       "2              13933.0               1.0           90.0               2.0   \n",
       "3               6800.0               2.0           84.0               3.0   \n",
       "4               8098.0               2.0          112.0               1.0   \n",
       "\n",
       "   ponds_nearest  days_exposition    cost_1m2  day_number  week_number  \\\n",
       "0          755.0              NaN  120.370370           3           10   \n",
       "1            NaN             81.0   82.920792           1           49   \n",
       "2          574.0            558.0   92.785714           3           34   \n",
       "3          234.0            424.0  408.176101           4           30   \n",
       "4           48.0            121.0  100.000000           1           25   \n",
       "\n",
       "   month_number  year_number  \n",
       "0             3         2019  \n",
       "1            12         2018  \n",
       "2             8         2015  \n",
       "3             7         2015  \n",
       "4             6         2018  "
      ]
     },
     "execution_count": 18,
     "metadata": {},
     "output_type": "execute_result"
    }
   ],
   "source": [
    "data['year_number'] = data['first_day_exposition'].dt.year\n",
    "data.head()"
   ]
  },
  {
   "cell_type": "code",
   "execution_count": null,
   "metadata": {},
   "outputs": [],
   "source": []
  },
  {
   "cell_type": "code",
   "execution_count": 19,
   "metadata": {},
   "outputs": [
    {
     "data": {
      "text/html": [
       "<div>\n",
       "<style scoped>\n",
       "    .dataframe tbody tr th:only-of-type {\n",
       "        vertical-align: middle;\n",
       "    }\n",
       "\n",
       "    .dataframe tbody tr th {\n",
       "        vertical-align: top;\n",
       "    }\n",
       "\n",
       "    .dataframe thead th {\n",
       "        text-align: right;\n",
       "    }\n",
       "</style>\n",
       "<table border=\"1\" class=\"dataframe\">\n",
       "  <thead>\n",
       "    <tr style=\"text-align: right;\">\n",
       "      <th></th>\n",
       "      <th>total_images</th>\n",
       "      <th>last_price</th>\n",
       "      <th>total_area</th>\n",
       "      <th>first_day_exposition</th>\n",
       "      <th>rooms</th>\n",
       "      <th>ceiling_height</th>\n",
       "      <th>floors_total</th>\n",
       "      <th>living_area</th>\n",
       "      <th>floor</th>\n",
       "      <th>is_apartment</th>\n",
       "      <th>studio</th>\n",
       "      <th>open_plan</th>\n",
       "      <th>kitchen_area</th>\n",
       "      <th>balcony</th>\n",
       "      <th>locality_name</th>\n",
       "      <th>airports_nearest</th>\n",
       "      <th>cityCenters_nearest</th>\n",
       "      <th>parks_around3000</th>\n",
       "      <th>parks_nearest</th>\n",
       "      <th>ponds_around3000</th>\n",
       "      <th>ponds_nearest</th>\n",
       "      <th>days_exposition</th>\n",
       "      <th>cost_1m2</th>\n",
       "      <th>day_number</th>\n",
       "      <th>week_number</th>\n",
       "      <th>month_number</th>\n",
       "      <th>year_number</th>\n",
       "      <th>floor_number</th>\n",
       "    </tr>\n",
       "  </thead>\n",
       "  <tbody>\n",
       "    <tr>\n",
       "      <th>0</th>\n",
       "      <td>20</td>\n",
       "      <td>13000.0</td>\n",
       "      <td>108.0</td>\n",
       "      <td>2019-03-07</td>\n",
       "      <td>3</td>\n",
       "      <td>2.70</td>\n",
       "      <td>16.0</td>\n",
       "      <td>51.0</td>\n",
       "      <td>8</td>\n",
       "      <td>False</td>\n",
       "      <td>False</td>\n",
       "      <td>False</td>\n",
       "      <td>25.0</td>\n",
       "      <td>0</td>\n",
       "      <td>Санкт-Петербург</td>\n",
       "      <td>18863.0</td>\n",
       "      <td>16028.0</td>\n",
       "      <td>1.0</td>\n",
       "      <td>482.0</td>\n",
       "      <td>2.0</td>\n",
       "      <td>755.0</td>\n",
       "      <td>NaN</td>\n",
       "      <td>120.370370</td>\n",
       "      <td>3</td>\n",
       "      <td>10</td>\n",
       "      <td>3</td>\n",
       "      <td>2019</td>\n",
       "      <td>другой</td>\n",
       "    </tr>\n",
       "    <tr>\n",
       "      <th>1</th>\n",
       "      <td>7</td>\n",
       "      <td>3350.0</td>\n",
       "      <td>40.4</td>\n",
       "      <td>2018-12-04</td>\n",
       "      <td>1</td>\n",
       "      <td>2.65</td>\n",
       "      <td>11.0</td>\n",
       "      <td>18.6</td>\n",
       "      <td>1</td>\n",
       "      <td>False</td>\n",
       "      <td>False</td>\n",
       "      <td>False</td>\n",
       "      <td>11.0</td>\n",
       "      <td>2</td>\n",
       "      <td>поселок Шушары</td>\n",
       "      <td>12817.0</td>\n",
       "      <td>18603.0</td>\n",
       "      <td>0.0</td>\n",
       "      <td>NaN</td>\n",
       "      <td>0.0</td>\n",
       "      <td>NaN</td>\n",
       "      <td>81.0</td>\n",
       "      <td>82.920792</td>\n",
       "      <td>1</td>\n",
       "      <td>49</td>\n",
       "      <td>12</td>\n",
       "      <td>2018</td>\n",
       "      <td>первый</td>\n",
       "    </tr>\n",
       "    <tr>\n",
       "      <th>2</th>\n",
       "      <td>10</td>\n",
       "      <td>5196.0</td>\n",
       "      <td>56.0</td>\n",
       "      <td>2015-08-20</td>\n",
       "      <td>2</td>\n",
       "      <td>2.65</td>\n",
       "      <td>5.0</td>\n",
       "      <td>34.3</td>\n",
       "      <td>4</td>\n",
       "      <td>False</td>\n",
       "      <td>False</td>\n",
       "      <td>False</td>\n",
       "      <td>8.3</td>\n",
       "      <td>0</td>\n",
       "      <td>Санкт-Петербург</td>\n",
       "      <td>21741.0</td>\n",
       "      <td>13933.0</td>\n",
       "      <td>1.0</td>\n",
       "      <td>90.0</td>\n",
       "      <td>2.0</td>\n",
       "      <td>574.0</td>\n",
       "      <td>558.0</td>\n",
       "      <td>92.785714</td>\n",
       "      <td>3</td>\n",
       "      <td>34</td>\n",
       "      <td>8</td>\n",
       "      <td>2015</td>\n",
       "      <td>другой</td>\n",
       "    </tr>\n",
       "    <tr>\n",
       "      <th>3</th>\n",
       "      <td>0</td>\n",
       "      <td>64900.0</td>\n",
       "      <td>159.0</td>\n",
       "      <td>2015-07-24</td>\n",
       "      <td>3</td>\n",
       "      <td>2.65</td>\n",
       "      <td>14.0</td>\n",
       "      <td>NaN</td>\n",
       "      <td>9</td>\n",
       "      <td>False</td>\n",
       "      <td>False</td>\n",
       "      <td>False</td>\n",
       "      <td>NaN</td>\n",
       "      <td>0</td>\n",
       "      <td>Санкт-Петербург</td>\n",
       "      <td>28098.0</td>\n",
       "      <td>6800.0</td>\n",
       "      <td>2.0</td>\n",
       "      <td>84.0</td>\n",
       "      <td>3.0</td>\n",
       "      <td>234.0</td>\n",
       "      <td>424.0</td>\n",
       "      <td>408.176101</td>\n",
       "      <td>4</td>\n",
       "      <td>30</td>\n",
       "      <td>7</td>\n",
       "      <td>2015</td>\n",
       "      <td>другой</td>\n",
       "    </tr>\n",
       "    <tr>\n",
       "      <th>4</th>\n",
       "      <td>2</td>\n",
       "      <td>10000.0</td>\n",
       "      <td>100.0</td>\n",
       "      <td>2018-06-19</td>\n",
       "      <td>2</td>\n",
       "      <td>3.03</td>\n",
       "      <td>14.0</td>\n",
       "      <td>32.0</td>\n",
       "      <td>13</td>\n",
       "      <td>False</td>\n",
       "      <td>False</td>\n",
       "      <td>False</td>\n",
       "      <td>41.0</td>\n",
       "      <td>0</td>\n",
       "      <td>Санкт-Петербург</td>\n",
       "      <td>31856.0</td>\n",
       "      <td>8098.0</td>\n",
       "      <td>2.0</td>\n",
       "      <td>112.0</td>\n",
       "      <td>1.0</td>\n",
       "      <td>48.0</td>\n",
       "      <td>121.0</td>\n",
       "      <td>100.000000</td>\n",
       "      <td>1</td>\n",
       "      <td>25</td>\n",
       "      <td>6</td>\n",
       "      <td>2018</td>\n",
       "      <td>другой</td>\n",
       "    </tr>\n",
       "  </tbody>\n",
       "</table>\n",
       "</div>"
      ],
      "text/plain": [
       "   total_images  last_price  total_area first_day_exposition  rooms  \\\n",
       "0            20     13000.0       108.0           2019-03-07      3   \n",
       "1             7      3350.0        40.4           2018-12-04      1   \n",
       "2            10      5196.0        56.0           2015-08-20      2   \n",
       "3             0     64900.0       159.0           2015-07-24      3   \n",
       "4             2     10000.0       100.0           2018-06-19      2   \n",
       "\n",
       "   ceiling_height  floors_total  living_area  floor  is_apartment  studio  \\\n",
       "0            2.70          16.0         51.0      8         False   False   \n",
       "1            2.65          11.0         18.6      1         False   False   \n",
       "2            2.65           5.0         34.3      4         False   False   \n",
       "3            2.65          14.0          NaN      9         False   False   \n",
       "4            3.03          14.0         32.0     13         False   False   \n",
       "\n",
       "   open_plan  kitchen_area  balcony    locality_name  airports_nearest  \\\n",
       "0      False          25.0        0  Санкт-Петербург           18863.0   \n",
       "1      False          11.0        2   поселок Шушары           12817.0   \n",
       "2      False           8.3        0  Санкт-Петербург           21741.0   \n",
       "3      False           NaN        0  Санкт-Петербург           28098.0   \n",
       "4      False          41.0        0  Санкт-Петербург           31856.0   \n",
       "\n",
       "   cityCenters_nearest  parks_around3000  parks_nearest  ponds_around3000  \\\n",
       "0              16028.0               1.0          482.0               2.0   \n",
       "1              18603.0               0.0            NaN               0.0   \n",
       "2              13933.0               1.0           90.0               2.0   \n",
       "3               6800.0               2.0           84.0               3.0   \n",
       "4               8098.0               2.0          112.0               1.0   \n",
       "\n",
       "   ponds_nearest  days_exposition    cost_1m2  day_number  week_number  \\\n",
       "0          755.0              NaN  120.370370           3           10   \n",
       "1            NaN             81.0   82.920792           1           49   \n",
       "2          574.0            558.0   92.785714           3           34   \n",
       "3          234.0            424.0  408.176101           4           30   \n",
       "4           48.0            121.0  100.000000           1           25   \n",
       "\n",
       "   month_number  year_number floor_number  \n",
       "0             3         2019       другой  \n",
       "1            12         2018       первый  \n",
       "2             8         2015       другой  \n",
       "3             7         2015       другой  \n",
       "4             6         2018       другой  "
      ]
     },
     "execution_count": 19,
     "metadata": {},
     "output_type": "execute_result"
    }
   ],
   "source": [
    "def floor_number(row):\n",
    "    if row['floor'] == 1:\n",
    "        return 'первый'\n",
    "    elif row['floor'] == row['floors_total']:\n",
    "        return 'последний'\n",
    "    else:\n",
    "        return 'другой'\n",
    "data['floor_number'] = data[['floor', 'floors_total']].apply(floor_number, axis = 1)\n",
    "data.head()\n"
   ]
  },
  {
   "cell_type": "code",
   "execution_count": 20,
   "metadata": {},
   "outputs": [
    {
     "data": {
      "text/plain": [
       "0     16.0\n",
       "1     19.0\n",
       "2     14.0\n",
       "3      7.0\n",
       "4      8.0\n",
       "5      NaN\n",
       "6     19.0\n",
       "7     12.0\n",
       "8      NaN\n",
       "9     15.0\n",
       "10    14.0\n",
       "11    52.0\n",
       "12     NaN\n",
       "13    33.0\n",
       "14    31.0\n",
       "15    14.0\n",
       "16    11.0\n",
       "17    15.0\n",
       "18    11.0\n",
       "19    13.0\n",
       "Name: cityCentr_km, dtype: float64"
      ]
     },
     "execution_count": 20,
     "metadata": {},
     "output_type": "execute_result"
    }
   ],
   "source": [
    "data['cityCentr_km'] = round(data['cityCenters_nearest'] / 1000)\n",
    "data['cityCentr_km'].head(20)\n",
    "\n",
    "results = st.ttest_ind(\n",
    "    platform_actual[(platform_actual.platform == \"XOne\") & (platform_actual.user_score]['user_score'], \n",
    "    platform_actual[(platform_actual.platform == \"PC\") & (platform_actual.user_score]['user_score']\n",
    ")"
   ]
  },
  {
   "cell_type": "markdown",
   "metadata": {},
   "source": [
    "<div class=\"alert alert-success\">\n",
    "<b>✔️ Комментарий ревьюера v1:</b> \n",
    "<br>Все необходимые колонки добавлены. Идём дальше)\n",
    "</div>"
   ]
  },
  {
   "cell_type": "markdown",
   "metadata": {},
   "source": [
    "### Проведите исследовательский анализ данных"
   ]
  },
  {
   "cell_type": "code",
   "execution_count": 21,
   "metadata": {},
   "outputs": [
    {
     "data": {
      "text/plain": [
       "count    23572.000000\n",
       "mean        58.880627\n",
       "std         28.581084\n",
       "min         12.000000\n",
       "25%         40.000000\n",
       "50%         52.000000\n",
       "75%         69.000000\n",
       "max        249.700000\n",
       "Name: total_area, dtype: float64"
      ]
     },
     "execution_count": 21,
     "metadata": {},
     "output_type": "execute_result"
    },
    {
     "data": {
      "image/png": "[encoded data removed]",
      "text/plain": [
       "<Figure size 216x432 with 1 Axes>"
      ]
     },
     "metadata": {
      "needs_background": "light"
     },
     "output_type": "display_data"
    }
   ],
   "source": [
    "data.plot(y = 'total_area', kind = 'hist', bins = 100, grid = True, figsize = (3,6), range = (0,100))\n",
    "data['total_area'].describe()\n",
    "\n",
    "\n"
   ]
  },
  {
   "cell_type": "markdown",
   "metadata": {},
   "source": [
    "В принципе неплохие данные. Малое количество вбросов или неккоректных данных. Они не особо влияют на распределение. Средяя площадь - 58 квадратных метров, а медианное значение - 52. "
   ]
  },
  {
   "cell_type": "code",
   "execution_count": 22,
   "metadata": {},
   "outputs": [
    {
     "data": {
      "text/plain": [
       "count    21688.000000\n",
       "mean        33.697230\n",
       "std         18.718728\n",
       "min          2.000000\n",
       "25%         18.600000\n",
       "50%         30.000000\n",
       "75%         42.000000\n",
       "max        200.000000\n",
       "Name: living_area, dtype: float64"
      ]
     },
     "execution_count": 22,
     "metadata": {},
     "output_type": "execute_result"
    },
    {
     "data": {
      "image/png": "[encoded data removed]",
      "text/plain": [
       "<Figure size 216x432 with 1 Axes>"
      ]
     },
     "metadata": {
      "needs_background": "light"
     },
     "output_type": "display_data"
    }
   ],
   "source": [
    "data.plot(y = 'living_area', kind = 'hist', bins = 100, grid = True, figsize = (3,6), range = (0,50))\n",
    "data['living_area'].describe()\n"
   ]
  },
  {
   "cell_type": "markdown",
   "metadata": {},
   "source": [
    "Убрав значения аномальные, у нас чуть изменилась средняя площадь. Но с другой стороны есть вероятность, что это не вбросы, а элитное жилье с большой площадью. Данные так же нормальные, средняя площадь 33, медианное значение 30. "
   ]
  },
  {
   "cell_type": "code",
   "execution_count": 23,
   "metadata": {},
   "outputs": [
    {
     "data": {
      "text/plain": [
       "count    21462.000000\n",
       "mean        10.382512\n",
       "std          5.590492\n",
       "min          0.000000\n",
       "25%          7.000000\n",
       "50%          9.000000\n",
       "75%         12.000000\n",
       "max        107.000000\n",
       "Name: kitchen_area, dtype: float64"
      ]
     },
     "execution_count": 23,
     "metadata": {},
     "output_type": "execute_result"
    },
    {
     "data": {
      "image/png": "[encoded data removed]",
      "text/plain": [
       "<Figure size 432x432 with 1 Axes>"
      ]
     },
     "metadata": {
      "needs_background": "light"
     },
     "output_type": "display_data"
    }
   ],
   "source": [
    "data.plot(y = 'kitchen_area', kind = 'hist', bins = 100, grid = True, figsize = (6,6), range = (0,20))\n",
    "data['kitchen_area'].describe()"
   ]
  },
  {
   "cell_type": "markdown",
   "metadata": {},
   "source": [
    "тут видим минимальное значение равное 0. Это квартиры студии, в которых нет кухни, тем самым площадь кухни равна 0. Среднее и медианное значение равно 10 и 9 квадратных метров соотвественно. Опять же есть выбросы в 90-112 квадратных метров. Так же думаю, что это вполне возможно в каких-либо элитных ЖК, либо старых домах. Есть так же веротность, что имеются квартиры с верандами (как мангальные зоны на улице) , выходящими на улицу. Они так же могут считаться как доп квадратные метры к кухне. "
   ]
  },
  {
   "cell_type": "code",
   "execution_count": 24,
   "metadata": {},
   "outputs": [
    {
     "data": {
      "text/plain": [
       "count     23572.000000\n",
       "mean       6139.879701\n",
       "std        6231.683068\n",
       "min          12.190000\n",
       "25%        3400.000000\n",
       "50%        4600.000000\n",
       "75%        6700.000000\n",
       "max      140000.000000\n",
       "Name: last_price, dtype: float64"
      ]
     },
     "execution_count": 24,
     "metadata": {},
     "output_type": "execute_result"
    },
    {
     "data": {
      "image/png": "[encoded data removed]",
      "text/plain": [
       "<Figure size 432x432 with 1 Axes>"
      ]
     },
     "metadata": {
      "needs_background": "light"
     },
     "output_type": "display_data"
    }
   ],
   "source": [
    "data.plot(y = 'last_price', kind = 'hist', bins = 100, grid = True, figsize = (6,6), range = (4000,7700))\n",
    "data['last_price'].describe()"
   ]
  },
  {
   "cell_type": "markdown",
   "metadata": {},
   "source": [
    "<div class=\"alert alert-warning\">\n",
    "<b>⚠️ Комментарий ревьюера v1:</b> \n",
    "<br>Тут можно было бы делить сразу на 1млн)\n",
    "</div>"
   ]
  },
  {
   "cell_type": "markdown",
   "metadata": {},
   "source": [
    "Тут уже разница между медианным и средним значением велика из-за выбивающихся значений в 36+млн. Тут очевидно, что такие будут, тк близость к центру, количество комнат и тд. влияют на стоимость. "
   ]
  },
  {
   "cell_type": "code",
   "execution_count": 25,
   "metadata": {},
   "outputs": [
    {
     "data": {
      "text/plain": [
       "count    23572.000000\n",
       "mean         2.047811\n",
       "std          1.017915\n",
       "min          0.000000\n",
       "25%          1.000000\n",
       "50%          2.000000\n",
       "75%          3.000000\n",
       "max          8.000000\n",
       "Name: rooms, dtype: float64"
      ]
     },
     "execution_count": 25,
     "metadata": {},
     "output_type": "execute_result"
    },
    {
     "data": {
      "image/png": "[encoded data removed]",
      "text/plain": [
       "<Figure size 432x432 with 1 Axes>"
      ]
     },
     "metadata": {
      "needs_background": "light"
     },
     "output_type": "display_data"
    }
   ],
   "source": [
    "data.plot(y = 'rooms', kind = 'hist', bins = 100, grid = True, figsize = (6,6), range = (0,8))\n",
    "data['rooms'].describe()"
   ]
  },
  {
   "cell_type": "markdown",
   "metadata": {},
   "source": [
    "Распределение так же вполне ожидаемо. Среднее и медианное значение = 2 комнаты. Есть выбивающиеся единичные  значения , где количество комнат более 10 ( но мы их убрали). "
   ]
  },
  {
   "cell_type": "code",
   "execution_count": 26,
   "metadata": {},
   "outputs": [
    {
     "data": {
      "text/plain": [
       "count    23572.000000\n",
       "mean         2.695277\n",
       "std          0.231544\n",
       "min          1.000000\n",
       "25%          2.600000\n",
       "50%          2.650000\n",
       "75%          2.700000\n",
       "max         10.000000\n",
       "Name: ceiling_height, dtype: float64"
      ]
     },
     "execution_count": 26,
     "metadata": {},
     "output_type": "execute_result"
    },
    {
     "data": {
      "image/png": "[encoded data removed]",
      "text/plain": [
       "<Figure size 432x432 with 1 Axes>"
      ]
     },
     "metadata": {
      "needs_background": "light"
     },
     "output_type": "display_data"
    }
   ],
   "source": [
    "data.plot(y = 'ceiling_height', kind = 'hist', bins = 100, grid = True, figsize = (6,6), range = (2,4))\n",
    "data['ceiling_height'].describe()\n"
   ]
  },
  {
   "cell_type": "code",
   "execution_count": 27,
   "metadata": {
    "scrolled": true
   },
   "outputs": [
    {
     "data": {
      "text/html": [
       "<div>\n",
       "<style scoped>\n",
       "    .dataframe tbody tr th:only-of-type {\n",
       "        vertical-align: middle;\n",
       "    }\n",
       "\n",
       "    .dataframe tbody tr th {\n",
       "        vertical-align: top;\n",
       "    }\n",
       "\n",
       "    .dataframe thead th {\n",
       "        text-align: right;\n",
       "    }\n",
       "</style>\n",
       "<table border=\"1\" class=\"dataframe\">\n",
       "  <thead>\n",
       "    <tr style=\"text-align: right;\">\n",
       "      <th></th>\n",
       "      <th>total_images</th>\n",
       "      <th>last_price</th>\n",
       "      <th>total_area</th>\n",
       "      <th>first_day_exposition</th>\n",
       "      <th>rooms</th>\n",
       "      <th>ceiling_height</th>\n",
       "      <th>floors_total</th>\n",
       "      <th>living_area</th>\n",
       "      <th>floor</th>\n",
       "      <th>is_apartment</th>\n",
       "      <th>studio</th>\n",
       "      <th>open_plan</th>\n",
       "      <th>kitchen_area</th>\n",
       "      <th>balcony</th>\n",
       "      <th>locality_name</th>\n",
       "      <th>airports_nearest</th>\n",
       "      <th>cityCenters_nearest</th>\n",
       "      <th>parks_around3000</th>\n",
       "      <th>parks_nearest</th>\n",
       "      <th>ponds_around3000</th>\n",
       "      <th>ponds_nearest</th>\n",
       "      <th>days_exposition</th>\n",
       "      <th>cost_1m2</th>\n",
       "      <th>day_number</th>\n",
       "      <th>week_number</th>\n",
       "      <th>month_number</th>\n",
       "      <th>year_number</th>\n",
       "      <th>floor_number</th>\n",
       "      <th>cityCentr_km</th>\n",
       "    </tr>\n",
       "  </thead>\n",
       "  <tbody>\n",
       "    <tr>\n",
       "      <th>22869</th>\n",
       "      <td>0</td>\n",
       "      <td>15000.0</td>\n",
       "      <td>25.0</td>\n",
       "      <td>2018-07-25</td>\n",
       "      <td>1</td>\n",
       "      <td>10.0</td>\n",
       "      <td>5.0</td>\n",
       "      <td>14.0</td>\n",
       "      <td>5</td>\n",
       "      <td>True</td>\n",
       "      <td>False</td>\n",
       "      <td>False</td>\n",
       "      <td>11.0</td>\n",
       "      <td>5</td>\n",
       "      <td>Санкт-Петербург</td>\n",
       "      <td>34963.0</td>\n",
       "      <td>8283.0</td>\n",
       "      <td>1.0</td>\n",
       "      <td>223.0</td>\n",
       "      <td>3.0</td>\n",
       "      <td>30.0</td>\n",
       "      <td>19.0</td>\n",
       "      <td>600.0</td>\n",
       "      <td>2</td>\n",
       "      <td>30</td>\n",
       "      <td>7</td>\n",
       "      <td>2018</td>\n",
       "      <td>последний</td>\n",
       "      <td>8.0</td>\n",
       "    </tr>\n",
       "  </tbody>\n",
       "</table>\n",
       "</div>"
      ],
      "text/plain": [
       "       total_images  last_price  total_area first_day_exposition  rooms  \\\n",
       "22869             0     15000.0        25.0           2018-07-25      1   \n",
       "\n",
       "       ceiling_height  floors_total  living_area  floor  is_apartment  studio  \\\n",
       "22869            10.0           5.0         14.0      5          True   False   \n",
       "\n",
       "       open_plan  kitchen_area  balcony    locality_name  airports_nearest  \\\n",
       "22869      False          11.0        5  Санкт-Петербург           34963.0   \n",
       "\n",
       "       cityCenters_nearest  parks_around3000  parks_nearest  ponds_around3000  \\\n",
       "22869               8283.0               1.0          223.0               3.0   \n",
       "\n",
       "       ponds_nearest  days_exposition  cost_1m2  day_number  week_number  \\\n",
       "22869           30.0             19.0     600.0           2           30   \n",
       "\n",
       "       month_number  year_number floor_number  cityCentr_km  \n",
       "22869             7         2018    последний           8.0  "
      ]
     },
     "execution_count": 27,
     "metadata": {},
     "output_type": "execute_result"
    }
   ],
   "source": [
    "data.query('ceiling_height == 10')"
   ]
  },
  {
   "cell_type": "markdown",
   "metadata": {},
   "source": [
    "Выбросы имеются, но не влияют на данные. Средняя 2.69, медианное значение 2.65. Есть показатели высоты потолка 10м, вполне возможно что здания под какие-то музеи, коммерческая недвижимость. "
   ]
  },
  {
   "cell_type": "code",
   "execution_count": 28,
   "metadata": {},
   "outputs": [
    {
     "data": {
      "text/plain": [
       "count    23572.000000\n",
       "mean         5.895512\n",
       "std          4.889321\n",
       "min          1.000000\n",
       "25%          2.000000\n",
       "50%          4.000000\n",
       "75%          8.000000\n",
       "max         33.000000\n",
       "Name: floor, dtype: float64"
      ]
     },
     "execution_count": 28,
     "metadata": {},
     "output_type": "execute_result"
    },
    {
     "data": {
      "image/png": "[encoded data removed]",
      "text/plain": [
       "<Figure size 432x432 with 1 Axes>"
      ]
     },
     "metadata": {
      "needs_background": "light"
     },
     "output_type": "display_data"
    }
   ],
   "source": [
    "data.plot(y = 'floor', kind = 'hist', bins = 100, grid = True, figsize = (6,6), range = (1,24))\n",
    "data['floor'].describe()\n"
   ]
  },
  {
   "cell_type": "code",
   "execution_count": 29,
   "metadata": {},
   "outputs": [
    {
     "data": {
      "text/plain": [
       "60.0       1\n",
       "33.0       1\n",
       "37.0       1\n",
       "29.0       1\n",
       "34.0       1\n",
       "52.0       1\n",
       "36.0       3\n",
       "28.0      21\n",
       "35.0      24\n",
       "1.0       25\n",
       "26.0     124\n",
       "21.0     158\n",
       "27.0     164\n",
       "11.0     203\n",
       "13.0     228\n",
       "20.0     269\n",
       "22.0     286\n",
       "19.0     338\n",
       "23.0     352\n",
       "15.0     365\n",
       "2.0      379\n",
       "8.0      381\n",
       "24.0     469\n",
       "18.0     504\n",
       "14.0     553\n",
       "7.0      578\n",
       "3.0      655\n",
       "17.0     829\n",
       "6.0      893\n",
       "25.0    1074\n",
       "10.0    1173\n",
       "4.0     1183\n",
       "12.0    1359\n",
       "16.0    1375\n",
       "9.0     3756\n",
       "5.0     5760\n",
       "Name: floors_total, dtype: int64"
      ]
     },
     "execution_count": 29,
     "metadata": {},
     "output_type": "execute_result"
    }
   ],
   "source": [
    "data['floors_total'].value_counts(ascending = True)"
   ]
  },
  {
   "cell_type": "markdown",
   "metadata": {},
   "source": [
    "По гистограмме видим, что преобладают 1-4 этажи. Это свяазанно с тем, что преобладают пятиэтажки (основываясь на данные выше). "
   ]
  },
  {
   "cell_type": "code",
   "execution_count": 30,
   "metadata": {},
   "outputs": [
    {
     "data": {
      "text/plain": [
       "другой       17375\n",
       "последний     3289\n",
       "первый        2908\n",
       "Name: floor_number, dtype: int64"
      ]
     },
     "execution_count": 30,
     "metadata": {},
     "output_type": "execute_result"
    }
   ],
   "source": [
    "data['floor_number'].value_counts()\n"
   ]
  },
  {
   "cell_type": "markdown",
   "metadata": {},
   "source": [
    "Ну тут из данный можно понять, что люди не берут 1 и последний этаж. Думаю это аргументируется тем, что на 1 этаже все видно через окна, а последний этаж - это плохо, когда допустим выключается лифт. + люди думаю на старость. На последнем этаже будет тяжело жить в старости"
   ]
  },
  {
   "cell_type": "code",
   "execution_count": 31,
   "metadata": {
    "scrolled": false
   },
   "outputs": [
    {
     "data": {
      "text/plain": [
       "count    23487.000000\n",
       "mean        10.695278\n",
       "std          6.601432\n",
       "min          1.000000\n",
       "25%          5.000000\n",
       "50%          9.000000\n",
       "75%         16.000000\n",
       "max         60.000000\n",
       "Name: floors_total, dtype: float64"
      ]
     },
     "execution_count": 31,
     "metadata": {},
     "output_type": "execute_result"
    },
    {
     "data": {
      "image/png": "[encoded data removed]",
      "text/plain": [
       "<Figure size 432x432 with 1 Axes>"
      ]
     },
     "metadata": {
      "needs_background": "light"
     },
     "output_type": "display_data"
    }
   ],
   "source": [
    "data.plot(y = 'floors_total', kind = 'hist', bins = 100, grid = True, figsize = (6,6), range = (1,24))\n",
    "data['floors_total'].describe()"
   ]
  },
  {
   "cell_type": "code",
   "execution_count": 32,
   "metadata": {},
   "outputs": [
    {
     "data": {
      "text/html": [
       "<div>\n",
       "<style scoped>\n",
       "    .dataframe tbody tr th:only-of-type {\n",
       "        vertical-align: middle;\n",
       "    }\n",
       "\n",
       "    .dataframe tbody tr th {\n",
       "        vertical-align: top;\n",
       "    }\n",
       "\n",
       "    .dataframe thead th {\n",
       "        text-align: right;\n",
       "    }\n",
       "</style>\n",
       "<table border=\"1\" class=\"dataframe\">\n",
       "  <thead>\n",
       "    <tr style=\"text-align: right;\">\n",
       "      <th></th>\n",
       "      <th>total_images</th>\n",
       "      <th>last_price</th>\n",
       "      <th>total_area</th>\n",
       "      <th>first_day_exposition</th>\n",
       "      <th>rooms</th>\n",
       "      <th>ceiling_height</th>\n",
       "      <th>floors_total</th>\n",
       "      <th>living_area</th>\n",
       "      <th>floor</th>\n",
       "      <th>is_apartment</th>\n",
       "      <th>studio</th>\n",
       "      <th>open_plan</th>\n",
       "      <th>kitchen_area</th>\n",
       "      <th>balcony</th>\n",
       "      <th>locality_name</th>\n",
       "      <th>airports_nearest</th>\n",
       "      <th>cityCenters_nearest</th>\n",
       "      <th>parks_around3000</th>\n",
       "      <th>parks_nearest</th>\n",
       "      <th>ponds_around3000</th>\n",
       "      <th>ponds_nearest</th>\n",
       "      <th>days_exposition</th>\n",
       "      <th>cost_1m2</th>\n",
       "      <th>day_number</th>\n",
       "      <th>week_number</th>\n",
       "      <th>month_number</th>\n",
       "      <th>year_number</th>\n",
       "      <th>floor_number</th>\n",
       "      <th>cityCentr_km</th>\n",
       "    </tr>\n",
       "  </thead>\n",
       "  <tbody>\n",
       "    <tr>\n",
       "      <th>2253</th>\n",
       "      <td>12</td>\n",
       "      <td>3800.0</td>\n",
       "      <td>45.5</td>\n",
       "      <td>2018-06-28</td>\n",
       "      <td>2</td>\n",
       "      <td>2.88</td>\n",
       "      <td>60.0</td>\n",
       "      <td>27.4</td>\n",
       "      <td>4</td>\n",
       "      <td>False</td>\n",
       "      <td>False</td>\n",
       "      <td>False</td>\n",
       "      <td>7.4</td>\n",
       "      <td>0</td>\n",
       "      <td>Кронштадт</td>\n",
       "      <td>67763.0</td>\n",
       "      <td>49488.0</td>\n",
       "      <td>2.0</td>\n",
       "      <td>342.0</td>\n",
       "      <td>3.0</td>\n",
       "      <td>614.0</td>\n",
       "      <td>166.0</td>\n",
       "      <td>83.516484</td>\n",
       "      <td>3</td>\n",
       "      <td>26</td>\n",
       "      <td>6</td>\n",
       "      <td>2018</td>\n",
       "      <td>другой</td>\n",
       "      <td>49.0</td>\n",
       "    </tr>\n",
       "  </tbody>\n",
       "</table>\n",
       "</div>"
      ],
      "text/plain": [
       "      total_images  last_price  total_area first_day_exposition  rooms  \\\n",
       "2253            12      3800.0        45.5           2018-06-28      2   \n",
       "\n",
       "      ceiling_height  floors_total  living_area  floor  is_apartment  studio  \\\n",
       "2253            2.88          60.0         27.4      4         False   False   \n",
       "\n",
       "      open_plan  kitchen_area  balcony locality_name  airports_nearest  \\\n",
       "2253      False           7.4        0     Кронштадт           67763.0   \n",
       "\n",
       "      cityCenters_nearest  parks_around3000  parks_nearest  ponds_around3000  \\\n",
       "2253              49488.0               2.0          342.0               3.0   \n",
       "\n",
       "      ponds_nearest  days_exposition   cost_1m2  day_number  week_number  \\\n",
       "2253          614.0            166.0  83.516484           3           26   \n",
       "\n",
       "      month_number  year_number floor_number  cityCentr_km  \n",
       "2253             6         2018       другой          49.0  "
      ]
     },
     "execution_count": 32,
     "metadata": {},
     "output_type": "execute_result"
    }
   ],
   "source": [
    "data.query('floors_total == 60')"
   ]
  },
  {
   "cell_type": "markdown",
   "metadata": {},
   "source": [
    "Как и говорил ранее по этажу продоваемой квартиры можно увидеть, что преобладает 1-4 этаж. Это напрямую связанно с тем, что в анализируемых районах преобладают пятиэтажные дома. Есть выброс с 60-этажным домом. Это выброс, так вряд ли в 50км от центра будет дом в 60 этажей ( но мы их опять же убрали)"
   ]
  },
  {
   "cell_type": "code",
   "execution_count": 33,
   "metadata": {},
   "outputs": [
    {
     "data": {
      "text/plain": [
       "count    18055.000000\n",
       "mean     14242.196788\n",
       "std       8602.951358\n",
       "min        181.000000\n",
       "25%       9329.000000\n",
       "50%      13141.000000\n",
       "75%      16316.000000\n",
       "max      65968.000000\n",
       "Name: cityCenters_nearest, dtype: float64"
      ]
     },
     "execution_count": 33,
     "metadata": {},
     "output_type": "execute_result"
    },
    {
     "data": {
      "image/png": "[encoded data removed]",
      "text/plain": [
       "<Figure size 432x432 with 1 Axes>"
      ]
     },
     "metadata": {
      "needs_background": "light"
     },
     "output_type": "display_data"
    }
   ],
   "source": [
    "data.plot(y = 'cityCenters_nearest', kind = 'hist', bins = 100, grid = True, figsize = (6,6), range = (10000,65000))\n",
    "data['cityCenters_nearest'].describe()"
   ]
  },
  {
   "cell_type": "markdown",
   "metadata": {},
   "source": [
    "По данным видно, что большинство продаваемых квартир в данном датафрейме расположенны в 13-15км от центра города. Так же присутствуют квартиры и в области, у которых расстояние до центра 40+ км. "
   ]
  },
  {
   "cell_type": "code",
   "execution_count": 34,
   "metadata": {},
   "outputs": [
    {
     "data": {
      "text/plain": [
       "count    18034.000000\n",
       "mean     28806.877565\n",
       "std      12656.773835\n",
       "min          0.000000\n",
       "25%      18551.000000\n",
       "50%      26765.000000\n",
       "75%      37310.000000\n",
       "max      84869.000000\n",
       "Name: airports_nearest, dtype: float64"
      ]
     },
     "execution_count": 34,
     "metadata": {},
     "output_type": "execute_result"
    },
    {
     "data": {
      "image/png": "[encoded data removed]",
      "text/plain": [
       "<Figure size 432x432 with 1 Axes>"
      ]
     },
     "metadata": {
      "needs_background": "light"
     },
     "output_type": "display_data"
    }
   ],
   "source": [
    "data.plot(y = 'airports_nearest', kind = 'hist', bins = 100, grid = True, figsize = (6,6), range = (10000,85000))\n",
    "data['airports_nearest'].describe()"
   ]
  },
  {
   "cell_type": "markdown",
   "metadata": {},
   "source": [
    "В среднем аэропорт расположен в 25км от продаваемых квартир. Думаю, что вряд ли люди, покупающие себе квартиру смотрят на этот показатель. ( Расстояние в 85км скорее всего это другой конец области от аэропорта)"
   ]
  },
  {
   "cell_type": "code",
   "execution_count": 35,
   "metadata": {},
   "outputs": [
    {
     "data": {
      "text/plain": [
       "count    7998.000000\n",
       "mean      491.693923\n",
       "std       342.898129\n",
       "min         1.000000\n",
       "25%       288.000000\n",
       "50%       455.000000\n",
       "75%       613.000000\n",
       "max      3190.000000\n",
       "Name: parks_nearest, dtype: float64"
      ]
     },
     "execution_count": 35,
     "metadata": {},
     "output_type": "execute_result"
    },
    {
     "data": {
      "image/png": "[encoded data removed]",
      "text/plain": [
       "<Figure size 432x432 with 1 Axes>"
      ]
     },
     "metadata": {
      "needs_background": "light"
     },
     "output_type": "display_data"
    }
   ],
   "source": [
    "data.plot(y = 'day_number', kind = 'hist', bins = 100, grid = True, figsize = (6,6), range = (0,6))\n",
    "data['parks_nearest'].describe()"
   ]
  },
  {
   "cell_type": "markdown",
   "metadata": {},
   "source": [
    "<div class=\"alert alert-danger\">\n",
    "<b>❌ Комментарий ревьюера v1:</b> \n",
    "<br>Поправь range\n",
    "</div>"
   ]
  },
  {
   "cell_type": "markdown",
   "metadata": {},
   "source": [
    "<div class=\"alert alert-success\">\n",
    "<b>✔️ Комментарий ревьюера v2:</b>\n",
    "<br>Правка выполнена 👍\n",
    "</div>"
   ]
  },
  {
   "cell_type": "code",
   "execution_count": 36,
   "metadata": {
    "scrolled": true
   },
   "outputs": [
    {
     "data": {
      "text/plain": [
       "count    7998.000000\n",
       "mean      491.693923\n",
       "std       342.898129\n",
       "min         1.000000\n",
       "25%       288.000000\n",
       "50%       455.000000\n",
       "75%       613.000000\n",
       "max      3190.000000\n",
       "Name: parks_nearest, dtype: float64"
      ]
     },
     "execution_count": 36,
     "metadata": {},
     "output_type": "execute_result"
    },
    {
     "data": {
      "image/png": "[encoded data removed]",
      "text/plain": [
       "<Figure size 432x432 with 1 Axes>"
      ]
     },
     "metadata": {
      "needs_background": "light"
     },
     "output_type": "display_data"
    }
   ],
   "source": [
    "data.plot(y = 'parks_nearest', kind = 'hist', bins = 100, grid = True, figsize = (6,6), range = (0,5000))\n",
    "data['parks_nearest'].describe()"
   ]
  },
  {
   "cell_type": "markdown",
   "metadata": {},
   "source": [
    "Условно говоря от каждой продаваемой квартиры в шаговой доступности (400-500м) имеется парк. Неплохой показатель , тк люди смотрят инфраструктуру рядом с приобретаемым жильем. "
   ]
  },
  {
   "cell_type": "markdown",
   "metadata": {},
   "source": [
    "Чаще всего люди выставляют объявления в четверг. Думаю, что выставляя в четверг люди расчитывают, что на выходных покупатели будут смотреть объявления. \n",
    "Обычно на площадках есть проверка объявления и тд, поэтому выставляя в четверг, как раз на выходных объявление будет выше и его посмотрит больше людей"
   ]
  },
  {
   "cell_type": "code",
   "execution_count": 37,
   "metadata": {
    "scrolled": true
   },
   "outputs": [
    {
     "data": {
      "text/plain": [
       "2     2630\n",
       "3     2570\n",
       "4     2365\n",
       "11    2360\n",
       "10    2117\n",
       "9     1968\n",
       "6     1752\n",
       "8     1741\n",
       "7     1681\n",
       "12    1631\n",
       "1     1489\n",
       "5     1268\n",
       "Name: month_number, dtype: int64"
      ]
     },
     "execution_count": 37,
     "metadata": {},
     "output_type": "execute_result"
    },
    {
     "data": {
      "image/png": "[encoded data removed]",
      "text/plain": [
       "<Figure size 432x720 with 1 Axes>"
      ]
     },
     "metadata": {
      "needs_background": "light"
     },
     "output_type": "display_data"
    }
   ],
   "source": [
    "data.plot(y = 'month_number', kind = 'hist', bins = 100, grid = True, figsize = (6,10), range = (0,12))\n",
    "data['month_number'].value_counts()"
   ]
  },
  {
   "cell_type": "markdown",
   "metadata": {},
   "source": [
    "<div class=\"alert alert-warning\">\n",
    "<b>⚠️ Комментарий ревьюера v1:</b> \n",
    "<br>Тут оптимальный range 12\n",
    "</div>"
   ]
  },
  {
   "cell_type": "markdown",
   "metadata": {},
   "source": [
    "По графику видно, что самыми популярными месяцами являются февраль-март-апрель, и предновогодний период."
   ]
  },
  {
   "cell_type": "markdown",
   "metadata": {},
   "source": [
    "#  Изучите, как быстро продавались квартиры (столбец days_exposition). Этот параметр показывает, сколько дней было размещено каждое объявление. "
   ]
  },
  {
   "cell_type": "code",
   "execution_count": 38,
   "metadata": {},
   "outputs": [
    {
     "data": {
      "text/plain": [
       "count    20418.000000\n",
       "mean       180.304878\n",
       "std        219.070031\n",
       "min          1.000000\n",
       "25%         45.000000\n",
       "50%         95.000000\n",
       "75%        231.000000\n",
       "max       1580.000000\n",
       "Name: days_exposition, dtype: float64"
      ]
     },
     "execution_count": 38,
     "metadata": {},
     "output_type": "execute_result"
    },
    {
     "data": {
      "image/png": "[encoded data removed]",
      "text/plain": [
       "<Figure size 432x432 with 1 Axes>"
      ]
     },
     "metadata": {
      "needs_background": "light"
     },
     "output_type": "display_data"
    }
   ],
   "source": [
    "data.plot(y = 'days_exposition', kind = 'hist', bins = 100, grid = True, figsize = (6,6), range = (40,60))\n",
    "data['days_exposition'].describe()"
   ]
  },
  {
   "cell_type": "code",
   "execution_count": 39,
   "metadata": {},
   "outputs": [
    {
     "data": {
      "text/plain": [
       "45.0      880\n",
       "60.0      538\n",
       "7.0       234\n",
       "30.0      207\n",
       "90.0      198\n",
       "         ... \n",
       "969.0       1\n",
       "1147.0      1\n",
       "1148.0      1\n",
       "1345.0      1\n",
       "1174.0      1\n",
       "Name: days_exposition, Length: 1138, dtype: int64"
      ]
     },
     "execution_count": 39,
     "metadata": {},
     "output_type": "execute_result"
    }
   ],
   "source": [
    "data['days_exposition'].value_counts()"
   ]
  },
  {
   "cell_type": "markdown",
   "metadata": {},
   "source": [
    "Среднее время продажи квартиры - 181 день - полгода. А медианное значения - 91 день - 3 месяца. На это влияют очень долго-продаваемые квратиры - 1000 дней и больше. Есть пик по продажам на 45 и 60 день - вероятнее всего на площадке автоматически снимаются объявления после 45 и 60 дня и они засчитываются как проданные. "
   ]
  },
  {
   "cell_type": "markdown",
   "metadata": {},
   "source": [
    "<div class=\"alert alert-success\">\n",
    "<b>✔️ Комментарий ревьюера v1:</b> \n",
    "<br>Здорово, что ты заметил эти всплески! Это действительно особенность функционирования системы размещения объявлений. Убедиться в этом можно по ссылке ниже\n",
    "\n",
    "\thttps://yandex.ru/support/realty/owner/home/add-ads-housing.html\n",
    "</div>"
   ]
  },
  {
   "cell_type": "markdown",
   "metadata": {},
   "source": [
    "# Какие факторы больше всего влияют на общую (полную) стоимость объекта? \n",
    "Изучите, зависит ли цена от:\n",
    "- общей площади;\n",
    "- жилой площади;\n",
    "- площади кухни;\n",
    "- количества комнат;\n",
    "- этажа, на котором расположена квартира (первый, последний, другой);\n",
    "- даты размещения (день недели, месяц, год).\n",
    "\n",
    "Постройте графики, которые покажут зависимость цены от указанных выше параметров. Для подготовки данных перед визуализацией вы можете использовать сводные таблицы."
   ]
  },
  {
   "cell_type": "code",
   "execution_count": 40,
   "metadata": {
    "scrolled": true
   },
   "outputs": [
    {
     "data": {
      "text/plain": [
       "0.7212303257222062"
      ]
     },
     "execution_count": 40,
     "metadata": {},
     "output_type": "execute_result"
    },
    {
     "data": {
      "image/png": "[encoded data removed]",
      "text/plain": [
       "<Figure size 432x288 with 1 Axes>"
      ]
     },
     "metadata": {
      "needs_background": "light"
     },
     "output_type": "display_data"
    }
   ],
   "source": [
    "\n",
    "area_price = data.pivot_table(index = 'total_area', values = 'last_price', aggfunc = ['mean',  'median'])\n",
    "area_price.columns = ['mean', 'median']\n",
    "area_price.plot(y = 'median', style = 'o')\n",
    "\n",
    "area_price.sort_values('median', ascending = False)\n",
    "\n",
    "data['total_area'].corr(data['last_price'])\n"
   ]
  },
  {
   "cell_type": "markdown",
   "metadata": {},
   "source": [
    "Корреляция равна 0.6. Поэтому можно сделать вывод, что зависимость между общей площадью и стоимостью есть, но не велика. Чем больше площадь, тем чуть-чуть дороже  \n",
    "Вот после того, как убрал слишком большие значения корреляция увеличилась (0.7) и уже видно, что цена зависит от площади. Чем больше площадь, больше цена!"
   ]
  },
  {
   "cell_type": "code",
   "execution_count": 41,
   "metadata": {
    "scrolled": true
   },
   "outputs": [
    {
     "data": {
      "text/plain": [
       "0.6215927377271913"
      ]
     },
     "execution_count": 41,
     "metadata": {},
     "output_type": "execute_result"
    },
    {
     "data": {
      "image/png": "[encoded data removed]",
      "text/plain": [
       "<Figure size 432x288 with 1 Axes>"
      ]
     },
     "metadata": {
      "needs_background": "light"
     },
     "output_type": "display_data"
    }
   ],
   "source": [
    "\n",
    "liv_price = data.pivot_table(index = 'living_area', values = 'last_price', aggfunc = ['mean',  'median'])\n",
    "liv_price.columns = ['mean', 'median']\n",
    "liv_price.plot(y = 'median', style = 'o')\n",
    "\n",
    "liv_price.sort_values('median', ascending = False)\n",
    "\n",
    "data['living_area'].corr(data['last_price'])\n",
    "\n",
    "\n",
    " platform_release = games_after94.pivot_table(index='platform', \n",
    "                                      values='total_sales', \n",
    "                                      columns = 'year_of_release', \n",
    "                                      aggfunc = 'count', \n",
    "                                      fill_value=0, \n",
    "                                      margins=True).reset_index()"
   ]
  },
  {
   "cell_type": "markdown",
   "metadata": {},
   "source": [
    "Корреляция равна 0.5. Поэтому можно сделать вывод, что зависимость между жилой площадью и стоимостью мала. Чем больше жилая площадь, тем чуть дороже  \n",
    "Так же после того, как убрал значения большие, корреляция увеличилась (0.6) и опять же видим зависимость цены от жилой площади))"
   ]
  },
  {
   "cell_type": "code",
   "execution_count": 42,
   "metadata": {},
   "outputs": [
    {
     "data": {
      "text/plain": [
       "0.5663941276706946"
      ]
     },
     "execution_count": 42,
     "metadata": {},
     "output_type": "execute_result"
    },
    {
     "data": {
      "image/png": "[encoded data removed]",
      "text/plain": [
       "<Figure size 432x288 with 1 Axes>"
      ]
     },
     "metadata": {
      "needs_background": "light"
     },
     "output_type": "display_data"
    }
   ],
   "source": [
    "kitch_price = data.pivot_table(index = 'kitchen_area', values = 'last_price', aggfunc = ['mean',  'median'])\n",
    "kitch_price.columns = ['mean', 'median']\n",
    "kitch_price.plot(y = 'median', style = 'o')\n",
    "\n",
    "kitch_price.sort_values('median', ascending = False)\n",
    "\n",
    "data['kitchen_area'].corr(data['last_price'])"
   ]
  },
  {
   "cell_type": "markdown",
   "metadata": {},
   "source": [
    "Корреляция опять же не высока. Площадь кухни имеет влияние на цену, но не сильное  \n",
    "\n",
    "Чудо, после изменений корреляция почти 0.6. Так же стоимость зависит и от площади кухни. "
   ]
  },
  {
   "cell_type": "code",
   "execution_count": 43,
   "metadata": {},
   "outputs": [
    {
     "data": {
      "text/plain": [
       "0.43193415405262325"
      ]
     },
     "execution_count": 43,
     "metadata": {},
     "output_type": "execute_result"
    },
    {
     "data": {
      "image/png": "[encoded data removed]",
      "text/plain": [
       "<Figure size 432x288 with 1 Axes>"
      ]
     },
     "metadata": {
      "needs_background": "light"
     },
     "output_type": "display_data"
    }
   ],
   "source": [
    "room_price = data.pivot_table(index = 'rooms', values = 'last_price', aggfunc = ['mean',  'median'])\n",
    "room_price.columns = ['mean', 'median']\n",
    "room_price.plot(y = 'median', style = 'o')\n",
    "\n",
    "room_price.sort_values('median', ascending = False)\n",
    "\n",
    "data['rooms'].corr(data['last_price'])"
   ]
  },
  {
   "cell_type": "markdown",
   "metadata": {},
   "source": [
    "Корреляция опять же не высока. Количество комнат имеет влияние на цену, но не сильное.\n",
    "\n",
    "Тут тоже выросла, но не такая сильная как в предыдущих пунктах)"
   ]
  },
  {
   "cell_type": "code",
   "execution_count": 44,
   "metadata": {},
   "outputs": [
    {
     "data": {
      "text/html": [
       "<div>\n",
       "<style scoped>\n",
       "    .dataframe tbody tr th:only-of-type {\n",
       "        vertical-align: middle;\n",
       "    }\n",
       "\n",
       "    .dataframe tbody tr th {\n",
       "        vertical-align: top;\n",
       "    }\n",
       "\n",
       "    .dataframe thead th {\n",
       "        text-align: right;\n",
       "    }\n",
       "</style>\n",
       "<table border=\"1\" class=\"dataframe\">\n",
       "  <thead>\n",
       "    <tr style=\"text-align: right;\">\n",
       "      <th></th>\n",
       "      <th>mean</th>\n",
       "      <th>median</th>\n",
       "    </tr>\n",
       "    <tr>\n",
       "      <th>floor_number</th>\n",
       "      <th></th>\n",
       "      <th></th>\n",
       "    </tr>\n",
       "  </thead>\n",
       "  <tbody>\n",
       "    <tr>\n",
       "      <th>другой</th>\n",
       "      <td>6409.369916</td>\n",
       "      <td>4800.0</td>\n",
       "    </tr>\n",
       "    <tr>\n",
       "      <th>последний</th>\n",
       "      <td>5992.645918</td>\n",
       "      <td>4300.0</td>\n",
       "    </tr>\n",
       "    <tr>\n",
       "      <th>первый</th>\n",
       "      <td>4696.227507</td>\n",
       "      <td>3900.0</td>\n",
       "    </tr>\n",
       "  </tbody>\n",
       "</table>\n",
       "</div>"
      ],
      "text/plain": [
       "                     mean  median\n",
       "floor_number                     \n",
       "другой        6409.369916  4800.0\n",
       "последний     5992.645918  4300.0\n",
       "первый        4696.227507  3900.0"
      ]
     },
     "execution_count": 44,
     "metadata": {},
     "output_type": "execute_result"
    },
    {
     "data": {
      "image/png": "[encoded data removed]",
      "text/plain": [
       "<Figure size 432x288 with 1 Axes>"
      ]
     },
     "metadata": {
      "needs_background": "light"
     },
     "output_type": "display_data"
    }
   ],
   "source": [
    "floor_price = data.pivot_table(index = 'floor_number', values = 'last_price', aggfunc = ['mean',  'median'])\n",
    "floor_price.columns = ['mean', 'median']\n",
    "floor_price.plot(y = 'median')\n",
    "\n",
    "floor_price.sort_values('median', ascending = False)\n",
    "\n"
   ]
  },
  {
   "cell_type": "markdown",
   "metadata": {},
   "source": [
    "Согласно графику  дешевле квартиры на первом и последнем этаже. "
   ]
  },
  {
   "cell_type": "markdown",
   "metadata": {},
   "source": [
    "# зависимость от дня недели, месца, года"
   ]
  },
  {
   "cell_type": "code",
   "execution_count": 45,
   "metadata": {
    "scrolled": true
   },
   "outputs": [
    {
     "data": {
      "text/plain": [
       "<AxesSubplot:xlabel='day_number'>"
      ]
     },
     "execution_count": 45,
     "metadata": {},
     "output_type": "execute_result"
    },
    {
     "data": {
      "image/png": "[encoded data removed]",
      "text/plain": [
       "<Figure size 432x288 with 1 Axes>"
      ]
     },
     "metadata": {
      "needs_background": "light"
     },
     "output_type": "display_data"
    }
   ],
   "source": [
    "day_price = data.pivot_table(index = 'day_number', values = 'last_price', aggfunc = ['mean',  'median'])\n",
    "day_price.columns = ['mean',  'median']\n",
    "day_price.plot(y = 'median')\n",
    "\n"
   ]
  },
  {
   "cell_type": "markdown",
   "metadata": {},
   "source": [
    "По графику видно, что пик цены приходится на объявления выставленные во вторник. Вероятнее всего после выходных люди более активны и это отражается и на стоимости.  "
   ]
  },
  {
   "cell_type": "code",
   "execution_count": 46,
   "metadata": {
    "scrolled": true
   },
   "outputs": [
    {
     "data": {
      "text/plain": [
       "<AxesSubplot:xlabel='month_number'>"
      ]
     },
     "execution_count": 46,
     "metadata": {},
     "output_type": "execute_result"
    },
    {
     "data": {
      "image/png": "[encoded data removed]",
      "text/plain": [
       "<Figure size 432x288 with 1 Axes>"
      ]
     },
     "metadata": {
      "needs_background": "light"
     },
     "output_type": "display_data"
    }
   ],
   "source": [
    "month_price = data.pivot_table(index = 'month_number', values = 'last_price', aggfunc = ['mean',  'median'])\n",
    "month_price.columns = ['mean',  'median']\n",
    "month_price.plot(y = 'median')"
   ]
  },
  {
   "cell_type": "markdown",
   "metadata": {},
   "source": [
    "На графике видно, что стоимость ниже всего в июне. Скорее всего стоимость летом меньше - тк летом у многих отпуска, дача и людям не до покупки квартиры. Следовательно продавцы снижают цены на квартиры. Пик цен в весенний и предновогодний сезон. Такие же данные мы получили по дате публикации объявлений. "
   ]
  },
  {
   "cell_type": "code",
   "execution_count": 47,
   "metadata": {},
   "outputs": [
    {
     "data": {
      "text/plain": [
       "<AxesSubplot:xlabel='year_number'>"
      ]
     },
     "execution_count": 47,
     "metadata": {},
     "output_type": "execute_result"
    },
    {
     "data": {
      "image/png": "[encoded data removed]",
      "text/plain": [
       "<Figure size 432x288 with 1 Axes>"
      ]
     },
     "metadata": {
      "needs_background": "light"
     },
     "output_type": "display_data"
    }
   ],
   "source": [
    "year_price = data.pivot_table(index = 'year_number', values = 'last_price', aggfunc = ['mean',  'median'])\n",
    "year_price.columns = ['mean',  'median']\n",
    "year_price.plot(y = 'median')"
   ]
  },
  {
   "cell_type": "markdown",
   "metadata": {},
   "source": [
    "Видим, что квартиры с 2014 года начали дешеветь. с 2016 по 2018 цены держались. Вероятнее всего это было связанно с подъемом курса доллара после 2014 года. Люди продавали квартиры, покупали доллары. А может просто уезжали. "
   ]
  },
  {
   "cell_type": "markdown",
   "metadata": {},
   "source": [
    "<div class=\"alert alert-success\">\n",
    "<b>✔️ Комментарий ревьюера v1:</b>\n",
    "<br>Зависимость цены изучена верно! Ещё тут можно использовать для визуализации pairplot из библиотеки seaborn \n",
    "    \n",
    "    https://seaborn.pydata.org/generated/seaborn.pairplot.html\n",
    "</div>"
   ]
  },
  {
   "cell_type": "markdown",
   "metadata": {},
   "source": [
    "#### Посчитайте среднюю цену одного квадратного метра в 10 населённых пунктах с наибольшим числом объявлений. Выделите населённые пункты с самой высокой и низкой стоимостью квадратного метра. Эти данные можно найти по имени в столбце locality_name."
   ]
  },
  {
   "cell_type": "code",
   "execution_count": 48,
   "metadata": {},
   "outputs": [
    {
     "data": {
      "text/html": [
       "<div>\n",
       "<style scoped>\n",
       "    .dataframe tbody tr th:only-of-type {\n",
       "        vertical-align: middle;\n",
       "    }\n",
       "\n",
       "    .dataframe tbody tr th {\n",
       "        vertical-align: top;\n",
       "    }\n",
       "\n",
       "    .dataframe thead th {\n",
       "        text-align: right;\n",
       "    }\n",
       "</style>\n",
       "<table border=\"1\" class=\"dataframe\">\n",
       "  <thead>\n",
       "    <tr style=\"text-align: right;\">\n",
       "      <th></th>\n",
       "      <th>count</th>\n",
       "      <th>mean</th>\n",
       "    </tr>\n",
       "    <tr>\n",
       "      <th>locality_name</th>\n",
       "      <th></th>\n",
       "      <th></th>\n",
       "    </tr>\n",
       "  </thead>\n",
       "  <tbody>\n",
       "    <tr>\n",
       "      <th>Санкт-Петербург</th>\n",
       "      <td>15598</td>\n",
       "      <td>113.756543</td>\n",
       "    </tr>\n",
       "    <tr>\n",
       "      <th>Мурино</th>\n",
       "      <td>590</td>\n",
       "      <td>86.087512</td>\n",
       "    </tr>\n",
       "    <tr>\n",
       "      <th>Кудрово</th>\n",
       "      <td>472</td>\n",
       "      <td>95.324931</td>\n",
       "    </tr>\n",
       "    <tr>\n",
       "      <th>поселок Шушары</th>\n",
       "      <td>440</td>\n",
       "      <td>78.677364</td>\n",
       "    </tr>\n",
       "    <tr>\n",
       "      <th>Всеволожск</th>\n",
       "      <td>398</td>\n",
       "      <td>68.654474</td>\n",
       "    </tr>\n",
       "    <tr>\n",
       "      <th>Пушкин</th>\n",
       "      <td>367</td>\n",
       "      <td>103.130852</td>\n",
       "    </tr>\n",
       "    <tr>\n",
       "      <th>Колпино</th>\n",
       "      <td>337</td>\n",
       "      <td>75.333296</td>\n",
       "    </tr>\n",
       "    <tr>\n",
       "      <th>поселок Парголово</th>\n",
       "      <td>327</td>\n",
       "      <td>90.175913</td>\n",
       "    </tr>\n",
       "    <tr>\n",
       "      <th>Гатчина</th>\n",
       "      <td>307</td>\n",
       "      <td>68.746147</td>\n",
       "    </tr>\n",
       "    <tr>\n",
       "      <th>Выборг</th>\n",
       "      <td>237</td>\n",
       "      <td>58.141909</td>\n",
       "    </tr>\n",
       "  </tbody>\n",
       "</table>\n",
       "</div>"
      ],
      "text/plain": [
       "                   count        mean\n",
       "locality_name                       \n",
       "Санкт-Петербург    15598  113.756543\n",
       "Мурино               590   86.087512\n",
       "Кудрово              472   95.324931\n",
       "поселок Шушары       440   78.677364\n",
       "Всеволожск           398   68.654474\n",
       "Пушкин               367  103.130852\n",
       "Колпино              337   75.333296\n",
       "поселок Парголово    327   90.175913\n",
       "Гатчина              307   68.746147\n",
       "Выборг               237   58.141909"
      ]
     },
     "execution_count": 48,
     "metadata": {},
     "output_type": "execute_result"
    }
   ],
   "source": [
    "pivot_table = data.pivot_table(index = 'locality_name', values = 'cost_1m2', aggfunc=['count', 'mean'])\n",
    "pivot_table.columns = ['count', 'mean'] \n",
    "pivot_table = pivot_table.sort_values('count', ascending = False).head(10)\n",
    "pivot_table \n"
   ]
  },
  {
   "cell_type": "code",
   "execution_count": 49,
   "metadata": {},
   "outputs": [
    {
     "data": {
      "text/plain": [
       "113.75654295756922"
      ]
     },
     "execution_count": 49,
     "metadata": {},
     "output_type": "execute_result"
    }
   ],
   "source": [
    "import seaborn\n",
    "kek = data.query('locality_name == \"Санкт-Петербург\"')\n",
    "kek['cost_1m2'].mean()\n"
   ]
  },
  {
   "cell_type": "markdown",
   "metadata": {},
   "source": [
    "Самая дорогая недвижимость по количеству объявлений , как и ожидалось, в Санкт-Петербурге. Самая дешевая недвижимость по количеству объявлений - Выборг.  "
   ]
  },
  {
   "cell_type": "markdown",
   "metadata": {},
   "source": [
    "<div class=\"alert alert-success\">\n",
    "<b>✔️ Комментарий ревьюера v1:</b> \n",
    "<br>Всё верно! Как вариант, тут можно построить барплот для топ10 по средней цене, так будет более наглядно)\n",
    "</div>"
   ]
  },
  {
   "cell_type": "markdown",
   "metadata": {},
   "source": [
    "### Ранее вы посчитали расстояние до центра в километрах. Теперь выделите квартиры в Санкт-Петербурге с помощью столбца locality_name и вычислите среднюю цену каждого километра. Опишите, как стоимость объектов зависит от расстояния до центра города."
   ]
  },
  {
   "cell_type": "code",
   "execution_count": 50,
   "metadata": {
    "scrolled": true
   },
   "outputs": [
    {
     "data": {
      "text/plain": [
       "<AxesSubplot:xlabel='cityCentr_km'>"
      ]
     },
     "execution_count": 50,
     "metadata": {},
     "output_type": "execute_result"
    },
    {
     "data": {
      "image/png": "[encoded data removed]",
      "text/plain": [
       "<Figure size 432x288 with 1 Axes>"
      ]
     },
     "metadata": {
      "needs_background": "light"
     },
     "output_type": "display_data"
    }
   ],
   "source": [
    "pivot_km_SP = data.query('locality_name == \"Санкт-Петербург\" ').pivot_table(index = 'cityCentr_km', values = 'cost_1m2', aggfunc = 'mean')\n",
    "pivot_km_SP.plot()\n",
    "\n"
   ]
  },
  {
   "cell_type": "markdown",
   "metadata": {},
   "source": [
    "    Естественно видно, что чем ближе к центру, тем цена за квадратный метр больше. Центром питера считается примерно 6 км. "
   ]
  },
  {
   "cell_type": "markdown",
   "metadata": {},
   "source": [
    "<div class=\"alert alert-success\">\n",
    "<b>✔️ Комментарий ревьюера v1:</b>\n",
    "<br>Верно 👍\n",
    "</div>"
   ]
  },
  {
   "cell_type": "markdown",
   "metadata": {},
   "source": [
    "# Вывод"
   ]
  },
  {
   "cell_type": "markdown",
   "metadata": {},
   "source": [
    "Мы обработали полученнный ДатаФрейм - обработали пропущенные значения в столбцах,где есть пропуски, заполнили эти значения, где это было возможно. Изменили типы данных в столбцах, где это было необходимо сделать. Убрали неявные дубликаты в названии населенных пунктов. Устранили выбивающиеся значения в столбцах. Добавили в датафрейм столбцы с ценой одного квадратного метра, днем, месяцем и годом публикации, типа этажа квартиры(первый, другой, последний),округленное расстояние до центра города в КМ. \n",
    "Провели анализ стобцов на наличие выбросов в них. Нашли средние и медианные значения данных столбцов. \n",
    "Изучили среднюю время продажи и нашли выброс в том, что после 45 или 60 дней на платформе объявление снимается автоматически. Следственно объявление считается проданным и делает выброс в среднее время продажи. Об этом надо сообщить разработчикам , чтобы они добавили отдельный столбец с булевым типом( True- человек снял сам, а значит продал,  False - объявление снято автоматически программой).\n",
    "Провели анализ зависимости стоимости от \n",
    "общей площади;\n",
    "жилой площади;\n",
    "площади кухни;\n",
    "количества комнат;\n",
    "этажа, на котором расположена квартира (первый, последний, другой);\n",
    "даты размещения (день недели, месяц, год). \n",
    "По итогу итоговая стоимость больше всего зависит от общей площади, жилой площади, этажа квартиры и площади кухни. \n",
    "Провели анализ по 10 самым популярным населенным пунктам по количеству объявлений и стоимости квадратного метра. Самая дорогая недвижимость по количеству объявлений , как и ожидалось, в Санкт-Петербурге. Самая дешевая недвижимость по количеству объявлений - Выборг.\n",
    "Расчитали среднюю стоимость квадратного метра в зависимости от расстояния до центра. Ествественно тут есть зависимость и чем ближе к центру , тем дороже квадратный метр. По нашим расчетам центр питера иметт длину примерно 6 км. \n",
    "Так же выявили, что квартиры летом дешевеют, а весной цены повышаются. Больше всего люди выставляют объявления в весенний и предновогодний период. "
   ]
  },
  {
   "cell_type": "markdown",
   "metadata": {},
   "source": [
    "<div class=\"alert alert-danger\">\n",
    "<b>❌ Комментарий ревьюера v1:</b> \n",
    "<br>После всех внесённых правок, обязательно перепроверь общий вывод и промежуточные выводы и поправь их по необходимости\n",
    "</div>"
   ]
  },
  {
   "cell_type": "markdown",
   "metadata": {},
   "source": [
    "<div class=\"alert alert-danger\">\n",
    "<b>❌ Итоговый комментарий ревьюера v1:</b> \n",
    "<br>Ты хорошо потрудился, большая часть работы сделана, но остаётся внести следующие правки:\n",
    "<br>- написать короткий вывод после первичного просмотра данных\n",
    "<br>- выполнить задание 1.3\n",
    "<br>- не заполнять пропуски в столбцах с картографическими данными\t\n",
    "<br>- не заполнять пропуски в столбце days_exposition\n",
    "<br>- отбросить аномальные значения \n",
    "<br>- поправить график для столбца c днем недели\n",
    "<br>- поправить выводы там, где это необходимо\n",
    "</div>"
   ]
  },
  {
   "cell_type": "markdown",
   "metadata": {},
   "source": [
    "<div class=\"alert alert-success\">\n",
    "<b>✔️ Итоговый комментарий ревьюера v2:</b>\n",
    "<br>Все правки выполнены. Молодец!\n",
    "<br>Проделана огромная работа! У тебя подробные, понятные и логичные выводы, которые ты подкрепляешь фактами. Были использованы разные графики и способы, чтобы как можно более тщательно изучить данные и у тебя это получилось! \n",
    "<br>Я рад был поработать над проверкой твоей работы) В качестве дополнительного материала для изучения могу порекомендовать следующий ресурс:\n",
    "\n",
    "\thttps://www.python-graph-gallery.com/\n",
    "<br>В нем содержится большая библиотека графиков с готовым кодом, который можно использовать при работе.\n",
    "<br>Поздравляю со сдачей проекта и желаю удачи в дальнейшем обучении! 😉    \n",
    "</div>"
   ]
  },
  {
   "cell_type": "markdown",
   "metadata": {},
   "source": [
    "- [x]  открыт файл\n",
    "- [ ]  файлы изучены (выведены первые строки, метод `info()`, гистограммы и т.д.)\n",
    "- [ ]  определены пропущенные значения\n",
    "- [ ]  заполнены пропущенные значения там, где это возможно\n",
    "- [ ]  есть пояснение, какие пропущенные значения обнаружены\n",
    "- [ ]  изменены типы данных\n",
    "- [ ]  есть пояснение, в каких столбцах изменены типы и почему\n",
    "- [ ]  устранены неявные дубликаты в названиях населённых пунктов\n",
    "- [ ]  устранены редкие и выбивающиеся значения (аномалии) во всех столбцах\n",
    "- [ ]  посчитано и добавлено в таблицу: цена одного квадратного метра\n",
    "- [ ]  посчитано и добавлено в таблицу: день публикации объявления (0 - понедельник, 1 - вторник и т.д.)\n",
    "- [ ]  посчитано и добавлено в таблицу: месяц публикации объявления\n",
    "- [ ]  посчитано и добавлено в таблицу: год публикации объявления\n",
    "- [ ]  посчитано и добавлено в таблицу: тип этажа квартиры (значения — «первый», «последний», «другой»)\n",
    "- [ ]  посчитано и добавлено в таблицу: расстояние в км до центра города\n",
    "- [ ]  изучены и описаны следующие параметры:\n",
    "        - общая площадь;\n",
    "        - жилая площадь;\n",
    "        - площадь кухни;\n",
    "        - цена объекта;\n",
    "        - количество комнат;\n",
    "        - высота потолков;\n",
    "        - этаж квартиры;\n",
    "        - тип этажа квартиры («первый», «последний», «другой»);\n",
    "        - общее количество этажей в доме;\n",
    "        - расстояние до центра города в метрах;\n",
    "        - расстояние до ближайшего аэропорта;\n",
    "        - расстояние до ближайшего парка;\n",
    "        - день и месяц публикации объявления\n",
    "- [ ]  построены гистограммы для каждого параметра\n",
    "- [ ]  выполнено задание: \"Изучите, как быстро продавались квартиры (столбец days_exposition). Этот параметр показывает, сколько дней «висело» каждое объявление.\n",
    "    - Постройте гистограмму.\n",
    "    - Посчитайте среднее и медиану.\n",
    "    - В ячейке типа markdown опишите, сколько обычно занимает продажа. Какие продажи можно считать быстрыми, а какие — необычно долгими?\"\n",
    "- [ ]  выполнено задание: \"Какие факторы больше всего влияют на общую (полную) стоимость объекта? Постройте графики, которые покажут зависимость цены от указанных ниже параметров. Для подготовки данных перед визуализацией вы можете использовать сводные таблицы.\"\n",
    "        - общей площади;\n",
    "        - жилой площади;\n",
    "        - площади кухни;\n",
    "        - количество комнат;\n",
    "        - типа этажа, на котором расположена квартира (первый, последний, другой);\n",
    "        - даты размещения (день недели, месяц, год);\n",
    "- [ ]  выполнено задание: \"Посчитайте среднюю цену одного квадратного метра в 10 населённых пунктах с наибольшим числом объявлений. Выделите населённые пункты с самой высокой и низкой стоимостью квадратного метра. Эти данные можно найти по имени в столбце `locality_name`.\"\n",
    "- [ ]  выполнено задание: \"Ранее вы посчитали расстояние до центра в километрах. Теперь выделите квартиры в Санкт-Петербурге с помощью столбца `locality_name` и вычислите среднюю цену каждого километра. Опишите, как стоимость объектов зависит от расстояния до центра города.\"\n",
    "- [ ]  в каждом этапе есть промежуточные выводы\n",
    "- [ ]  есть общий вывод"
   ]
  },
  {
   "cell_type": "code",
   "execution_count": null,
   "metadata": {},
   "outputs": [],
   "source": []
  },
  {
   "cell_type": "code",
   "execution_count": null,
   "metadata": {},
   "outputs": [],
   "source": []
  },
  {
   "cell_type": "markdown",
   "metadata": {},
   "source": []
  },
  {
   "cell_type": "markdown",
   "metadata": {},
   "source": [
    "**Чек-лист готовности проекта**\n",
    "\n",
    "Поставьте 'x' в выполненных пунктах. Далее нажмите Shift+Enter."
   ]
  },
  {
   "cell_type": "code",
   "execution_count": null,
   "metadata": {},
   "outputs": [],
   "source": []
  },
  {
   "cell_type": "code",
   "execution_count": null,
   "metadata": {},
   "outputs": [],
   "source": []
  },
  {
   "cell_type": "code",
   "execution_count": null,
   "metadata": {},
   "outputs": [],
   "source": []
  }
 ],
 "metadata": {
  "ExecuteTimeLog": [
   {
    "duration": 812,
    "start_time": "2023-04-03T13:11:37.359Z"
   },
   {
    "duration": 127,
    "start_time": "2023-04-03T13:12:00.400Z"
   },
   {
    "duration": 142,
    "start_time": "2023-04-03T13:12:26.548Z"
   },
   {
    "duration": 15,
    "start_time": "2023-04-03T13:13:53.405Z"
   },
   {
    "duration": 15,
    "start_time": "2023-04-03T13:17:00.229Z"
   },
   {
    "duration": 15,
    "start_time": "2023-04-03T13:17:48.044Z"
   },
   {
    "duration": 15,
    "start_time": "2023-04-03T13:18:00.306Z"
   },
   {
    "duration": 13,
    "start_time": "2023-04-03T13:34:00.054Z"
   },
   {
    "duration": 151,
    "start_time": "2023-04-03T13:36:05.154Z"
   },
   {
    "duration": 169,
    "start_time": "2023-04-03T13:38:33.249Z"
   },
   {
    "duration": 9,
    "start_time": "2023-04-03T13:40:01.381Z"
   },
   {
    "duration": 8,
    "start_time": "2023-04-03T13:45:39.316Z"
   },
   {
    "duration": 7,
    "start_time": "2023-04-03T13:45:58.903Z"
   },
   {
    "duration": 11,
    "start_time": "2023-04-03T13:46:42.429Z"
   },
   {
    "duration": 79,
    "start_time": "2023-04-03T13:46:59.063Z"
   },
   {
    "duration": 11,
    "start_time": "2023-04-03T13:47:01.840Z"
   },
   {
    "duration": 11,
    "start_time": "2023-04-03T13:47:05.393Z"
   },
   {
    "duration": 6,
    "start_time": "2023-04-03T13:50:24.532Z"
   },
   {
    "duration": 15,
    "start_time": "2023-04-03T13:50:34.611Z"
   },
   {
    "duration": 12,
    "start_time": "2023-04-03T13:50:39.153Z"
   },
   {
    "duration": 52,
    "start_time": "2023-04-03T13:50:52.477Z"
   },
   {
    "duration": 23,
    "start_time": "2023-04-03T13:50:59.830Z"
   },
   {
    "duration": 18,
    "start_time": "2023-04-03T13:54:01.659Z"
   },
   {
    "duration": 8,
    "start_time": "2023-04-03T13:54:24.165Z"
   },
   {
    "duration": 26,
    "start_time": "2023-04-03T13:56:37.175Z"
   },
   {
    "duration": 7,
    "start_time": "2023-04-03T13:57:04.733Z"
   },
   {
    "duration": 18,
    "start_time": "2023-04-03T14:08:23.367Z"
   },
   {
    "duration": 77,
    "start_time": "2023-04-03T14:09:00.954Z"
   },
   {
    "duration": 22,
    "start_time": "2023-04-03T14:09:07.288Z"
   },
   {
    "duration": 22,
    "start_time": "2023-04-03T14:16:05.281Z"
   },
   {
    "duration": 76,
    "start_time": "2023-04-03T14:22:21.075Z"
   },
   {
    "duration": 42,
    "start_time": "2023-04-03T14:22:57.044Z"
   },
   {
    "duration": 39,
    "start_time": "2023-04-03T14:23:28.231Z"
   },
   {
    "duration": 26,
    "start_time": "2023-04-03T14:23:49.166Z"
   },
   {
    "duration": 13,
    "start_time": "2023-04-03T14:31:22.846Z"
   },
   {
    "duration": 8,
    "start_time": "2023-04-03T14:32:03.443Z"
   },
   {
    "duration": 15,
    "start_time": "2023-04-03T14:34:45.028Z"
   },
   {
    "duration": 12,
    "start_time": "2023-04-03T14:36:00.070Z"
   },
   {
    "duration": 13,
    "start_time": "2023-04-03T14:36:12.942Z"
   },
   {
    "duration": 10,
    "start_time": "2023-04-03T14:36:20.461Z"
   },
   {
    "duration": 29,
    "start_time": "2023-04-03T15:03:00.801Z"
   },
   {
    "duration": 43,
    "start_time": "2023-04-03T15:03:08.914Z"
   },
   {
    "duration": 1519,
    "start_time": "2023-04-03T15:05:17.333Z"
   },
   {
    "duration": 1605,
    "start_time": "2023-04-03T15:05:44.647Z"
   },
   {
    "duration": 3020,
    "start_time": "2023-04-03T15:10:51.467Z"
   },
   {
    "duration": 3038,
    "start_time": "2023-04-03T15:20:40.141Z"
   },
   {
    "duration": 50,
    "start_time": "2023-04-03T16:32:59.620Z"
   },
   {
    "duration": 14,
    "start_time": "2023-04-03T16:33:08.422Z"
   },
   {
    "duration": 32,
    "start_time": "2023-04-03T16:39:15.219Z"
   },
   {
    "duration": 37,
    "start_time": "2023-04-03T16:39:56.022Z"
   },
   {
    "duration": 56,
    "start_time": "2023-04-03T16:41:23.316Z"
   },
   {
    "duration": 130,
    "start_time": "2023-04-03T16:42:27.602Z"
   },
   {
    "duration": 123,
    "start_time": "2023-04-03T16:42:37.601Z"
   },
   {
    "duration": 10,
    "start_time": "2023-04-03T16:43:27.117Z"
   },
   {
    "duration": 154,
    "start_time": "2023-04-03T16:45:53.014Z"
   },
   {
    "duration": 572,
    "start_time": "2023-04-03T16:49:31.647Z"
   },
   {
    "duration": 176,
    "start_time": "2023-04-03T16:49:58.343Z"
   },
   {
    "duration": 187,
    "start_time": "2023-04-03T16:50:22.903Z"
   },
   {
    "duration": 7,
    "start_time": "2023-04-03T16:50:57.193Z"
   },
   {
    "duration": 6,
    "start_time": "2023-04-03T16:51:07.143Z"
   },
   {
    "duration": 186,
    "start_time": "2023-04-03T16:51:13.529Z"
   },
   {
    "duration": 145,
    "start_time": "2023-04-03T16:52:11.733Z"
   },
   {
    "duration": 166,
    "start_time": "2023-04-03T16:52:24.201Z"
   },
   {
    "duration": 198,
    "start_time": "2023-04-03T16:53:02.122Z"
   },
   {
    "duration": 7,
    "start_time": "2023-04-03T16:54:02.742Z"
   },
   {
    "duration": 10,
    "start_time": "2023-04-03T16:54:10.413Z"
   },
   {
    "duration": 9,
    "start_time": "2023-04-03T16:55:19.000Z"
   },
   {
    "duration": 17,
    "start_time": "2023-04-03T16:55:33.895Z"
   },
   {
    "duration": 6,
    "start_time": "2023-04-03T16:55:53.066Z"
   },
   {
    "duration": 13,
    "start_time": "2023-04-03T16:57:43.839Z"
   },
   {
    "duration": 135,
    "start_time": "2023-04-03T17:02:26.295Z"
   },
   {
    "duration": 64,
    "start_time": "2023-04-03T17:13:05.139Z"
   },
   {
    "duration": 1599,
    "start_time": "2023-04-03T17:18:45.367Z"
   },
   {
    "duration": 88,
    "start_time": "2023-04-03T17:20:30.300Z"
   },
   {
    "duration": 117,
    "start_time": "2023-04-04T15:21:58.427Z"
   },
   {
    "duration": 86,
    "start_time": "2023-04-04T15:23:53.878Z"
   },
   {
    "duration": 85,
    "start_time": "2023-04-04T15:24:02.756Z"
   },
   {
    "duration": 75,
    "start_time": "2023-04-04T15:24:07.754Z"
   },
   {
    "duration": 89,
    "start_time": "2023-04-04T15:24:14.994Z"
   },
   {
    "duration": 59,
    "start_time": "2023-04-05T14:33:53.100Z"
   },
   {
    "duration": 1272,
    "start_time": "2023-04-05T14:34:18.339Z"
   },
   {
    "duration": 8,
    "start_time": "2023-04-05T14:35:01.210Z"
   },
   {
    "duration": 12,
    "start_time": "2023-04-05T14:35:31.838Z"
   },
   {
    "duration": 10,
    "start_time": "2023-04-05T15:42:25.829Z"
   },
   {
    "duration": 8,
    "start_time": "2023-04-05T15:42:35.268Z"
   },
   {
    "duration": 2743,
    "start_time": "2023-04-05T16:16:53.285Z"
   },
   {
    "duration": 7,
    "start_time": "2023-04-05T16:16:58.258Z"
   },
   {
    "duration": 6,
    "start_time": "2023-04-05T16:23:12.049Z"
   },
   {
    "duration": 8,
    "start_time": "2023-04-05T16:23:21.613Z"
   },
   {
    "duration": 50,
    "start_time": "2023-04-06T14:50:48.113Z"
   },
   {
    "duration": 1455,
    "start_time": "2023-04-06T14:50:58.565Z"
   },
   {
    "duration": 17,
    "start_time": "2023-04-06T14:51:00.023Z"
   },
   {
    "duration": 19,
    "start_time": "2023-04-06T14:51:00.044Z"
   },
   {
    "duration": 3261,
    "start_time": "2023-04-06T14:51:00.064Z"
   },
   {
    "duration": 8,
    "start_time": "2023-04-06T14:51:03.326Z"
   },
   {
    "duration": 245,
    "start_time": "2023-04-06T14:51:03.335Z"
   },
   {
    "duration": 84,
    "start_time": "2023-04-06T14:51:03.587Z"
   },
   {
    "duration": 25,
    "start_time": "2023-04-06T14:51:03.672Z"
   },
   {
    "duration": 43,
    "start_time": "2023-04-06T14:51:03.700Z"
   },
   {
    "duration": 27,
    "start_time": "2023-04-06T14:51:03.745Z"
   },
   {
    "duration": 6,
    "start_time": "2023-04-06T14:51:42.846Z"
   },
   {
    "duration": 9,
    "start_time": "2023-04-06T14:51:51.207Z"
   },
   {
    "duration": 27,
    "start_time": "2023-04-06T14:52:01.956Z"
   },
   {
    "duration": 81,
    "start_time": "2023-04-06T14:54:22.802Z"
   },
   {
    "duration": 32,
    "start_time": "2023-04-06T14:54:28.519Z"
   },
   {
    "duration": 41,
    "start_time": "2023-04-06T14:55:12.773Z"
   },
   {
    "duration": 808,
    "start_time": "2023-04-06T14:55:18.151Z"
   },
   {
    "duration": 17,
    "start_time": "2023-04-06T14:55:18.961Z"
   },
   {
    "duration": 15,
    "start_time": "2023-04-06T14:55:18.988Z"
   },
   {
    "duration": 3065,
    "start_time": "2023-04-06T14:55:19.006Z"
   },
   {
    "duration": 7,
    "start_time": "2023-04-06T14:55:22.073Z"
   },
   {
    "duration": 194,
    "start_time": "2023-04-06T14:55:22.082Z"
   },
   {
    "duration": 86,
    "start_time": "2023-04-06T14:55:22.278Z"
   },
   {
    "duration": 10,
    "start_time": "2023-04-06T14:55:22.366Z"
   },
   {
    "duration": 25,
    "start_time": "2023-04-06T14:55:22.387Z"
   },
   {
    "duration": 27,
    "start_time": "2023-04-06T14:55:22.415Z"
   },
   {
    "duration": 29,
    "start_time": "2023-04-06T14:55:22.444Z"
   },
   {
    "duration": 27,
    "start_time": "2023-04-06T14:55:45.715Z"
   },
   {
    "duration": 27,
    "start_time": "2023-04-06T14:56:06.946Z"
   },
   {
    "duration": 27,
    "start_time": "2023-04-06T14:56:14.732Z"
   },
   {
    "duration": 25,
    "start_time": "2023-04-06T14:56:46.407Z"
   },
   {
    "duration": 785,
    "start_time": "2023-04-06T14:56:57.344Z"
   },
   {
    "duration": 16,
    "start_time": "2023-04-06T14:56:58.131Z"
   },
   {
    "duration": 17,
    "start_time": "2023-04-06T14:56:58.149Z"
   },
   {
    "duration": 2984,
    "start_time": "2023-04-06T14:56:58.168Z"
   },
   {
    "duration": 9,
    "start_time": "2023-04-06T14:57:01.154Z"
   },
   {
    "duration": 214,
    "start_time": "2023-04-06T14:57:01.165Z"
   },
   {
    "duration": 86,
    "start_time": "2023-04-06T14:57:01.381Z"
   },
   {
    "duration": 22,
    "start_time": "2023-04-06T14:57:01.469Z"
   },
   {
    "duration": 20,
    "start_time": "2023-04-06T14:57:01.496Z"
   },
   {
    "duration": 61,
    "start_time": "2023-04-06T14:57:01.518Z"
   },
   {
    "duration": 54,
    "start_time": "2023-04-06T14:57:01.581Z"
   },
   {
    "duration": 56,
    "start_time": "2023-04-06T14:57:01.679Z"
   },
   {
    "duration": 26,
    "start_time": "2023-04-06T14:57:07.202Z"
   },
   {
    "duration": 633,
    "start_time": "2023-04-06T21:23:09.018Z"
   },
   {
    "duration": 382,
    "start_time": "2023-04-06T21:24:59.905Z"
   },
   {
    "duration": 43,
    "start_time": "2023-04-06T21:25:15.707Z"
   },
   {
    "duration": 1138,
    "start_time": "2023-04-06T21:25:41.127Z"
   },
   {
    "duration": 21,
    "start_time": "2023-04-06T21:25:42.268Z"
   },
   {
    "duration": 16,
    "start_time": "2023-04-06T21:25:42.291Z"
   },
   {
    "duration": 3037,
    "start_time": "2023-04-06T21:25:42.310Z"
   },
   {
    "duration": 20,
    "start_time": "2023-04-06T21:25:45.349Z"
   },
   {
    "duration": 176,
    "start_time": "2023-04-06T21:25:45.371Z"
   },
   {
    "duration": 79,
    "start_time": "2023-04-06T21:25:45.548Z"
   },
   {
    "duration": 7,
    "start_time": "2023-04-06T21:25:45.628Z"
   },
   {
    "duration": 6,
    "start_time": "2023-04-06T21:25:45.636Z"
   },
   {
    "duration": 45,
    "start_time": "2023-04-06T21:25:45.644Z"
   },
   {
    "duration": 25,
    "start_time": "2023-04-06T21:25:45.691Z"
   },
   {
    "duration": 26,
    "start_time": "2023-04-06T21:25:45.718Z"
   },
   {
    "duration": 65,
    "start_time": "2023-04-06T21:25:45.747Z"
   },
   {
    "duration": 146,
    "start_time": "2023-04-06T21:25:45.814Z"
   },
   {
    "duration": 750,
    "start_time": "2023-04-06T21:26:53.048Z"
   },
   {
    "duration": 8,
    "start_time": "2023-04-06T21:27:06.107Z"
   },
   {
    "duration": 24,
    "start_time": "2023-04-06T21:27:17.303Z"
   },
   {
    "duration": 30,
    "start_time": "2023-04-06T21:29:23.848Z"
   },
   {
    "duration": 38,
    "start_time": "2023-04-06T21:29:37.949Z"
   },
   {
    "duration": 32,
    "start_time": "2023-04-06T21:32:05.109Z"
   },
   {
    "duration": 27,
    "start_time": "2023-04-06T21:34:31.893Z"
   },
   {
    "duration": 32,
    "start_time": "2023-04-06T21:35:38.719Z"
   },
   {
    "duration": 2269,
    "start_time": "2023-04-06T21:36:25.656Z"
   },
   {
    "duration": 744,
    "start_time": "2023-04-06T21:36:37.122Z"
   },
   {
    "duration": 25,
    "start_time": "2023-04-06T21:36:37.868Z"
   },
   {
    "duration": 12,
    "start_time": "2023-04-06T21:36:37.902Z"
   },
   {
    "duration": 84,
    "start_time": "2023-04-06T21:36:37.916Z"
   },
   {
    "duration": 0,
    "start_time": "2023-04-06T21:36:38.006Z"
   },
   {
    "duration": 0,
    "start_time": "2023-04-06T21:36:38.007Z"
   },
   {
    "duration": 0,
    "start_time": "2023-04-06T21:36:38.008Z"
   },
   {
    "duration": 0,
    "start_time": "2023-04-06T21:36:38.009Z"
   },
   {
    "duration": 0,
    "start_time": "2023-04-06T21:36:38.011Z"
   },
   {
    "duration": 0,
    "start_time": "2023-04-06T21:36:38.012Z"
   },
   {
    "duration": 0,
    "start_time": "2023-04-06T21:36:38.014Z"
   },
   {
    "duration": 0,
    "start_time": "2023-04-06T21:36:38.015Z"
   },
   {
    "duration": 0,
    "start_time": "2023-04-06T21:36:38.016Z"
   },
   {
    "duration": 14,
    "start_time": "2023-04-06T21:36:42.441Z"
   },
   {
    "duration": 10,
    "start_time": "2023-04-06T21:36:50.922Z"
   },
   {
    "duration": 729,
    "start_time": "2023-04-06T21:37:02.819Z"
   },
   {
    "duration": 13,
    "start_time": "2023-04-06T21:37:03.550Z"
   },
   {
    "duration": 26,
    "start_time": "2023-04-06T21:37:03.565Z"
   },
   {
    "duration": 86,
    "start_time": "2023-04-06T21:37:03.592Z"
   },
   {
    "duration": 0,
    "start_time": "2023-04-06T21:37:03.682Z"
   },
   {
    "duration": 0,
    "start_time": "2023-04-06T21:37:03.684Z"
   },
   {
    "duration": 0,
    "start_time": "2023-04-06T21:37:03.686Z"
   },
   {
    "duration": 0,
    "start_time": "2023-04-06T21:37:03.687Z"
   },
   {
    "duration": 0,
    "start_time": "2023-04-06T21:37:03.688Z"
   },
   {
    "duration": 0,
    "start_time": "2023-04-06T21:37:03.690Z"
   },
   {
    "duration": 0,
    "start_time": "2023-04-06T21:37:03.691Z"
   },
   {
    "duration": 0,
    "start_time": "2023-04-06T21:37:03.693Z"
   },
   {
    "duration": 0,
    "start_time": "2023-04-06T21:37:03.694Z"
   },
   {
    "duration": 10,
    "start_time": "2023-04-06T21:37:08.314Z"
   },
   {
    "duration": 10,
    "start_time": "2023-04-06T21:37:19.746Z"
   },
   {
    "duration": 713,
    "start_time": "2023-04-06T21:37:33.532Z"
   },
   {
    "duration": 13,
    "start_time": "2023-04-06T21:37:34.247Z"
   },
   {
    "duration": 13,
    "start_time": "2023-04-06T21:37:34.274Z"
   },
   {
    "duration": 77,
    "start_time": "2023-04-06T21:37:34.288Z"
   },
   {
    "duration": 0,
    "start_time": "2023-04-06T21:37:34.367Z"
   },
   {
    "duration": 0,
    "start_time": "2023-04-06T21:37:34.369Z"
   },
   {
    "duration": 0,
    "start_time": "2023-04-06T21:37:34.370Z"
   },
   {
    "duration": 0,
    "start_time": "2023-04-06T21:37:34.371Z"
   },
   {
    "duration": 0,
    "start_time": "2023-04-06T21:37:34.374Z"
   },
   {
    "duration": 0,
    "start_time": "2023-04-06T21:37:34.377Z"
   },
   {
    "duration": 0,
    "start_time": "2023-04-06T21:37:34.378Z"
   },
   {
    "duration": 0,
    "start_time": "2023-04-06T21:37:34.378Z"
   },
   {
    "duration": 0,
    "start_time": "2023-04-06T21:37:34.379Z"
   },
   {
    "duration": 118,
    "start_time": "2023-04-06T21:37:39.714Z"
   },
   {
    "duration": 14,
    "start_time": "2023-04-06T21:37:46.907Z"
   },
   {
    "duration": 10,
    "start_time": "2023-04-06T21:37:47.137Z"
   },
   {
    "duration": 14,
    "start_time": "2023-04-06T21:37:47.315Z"
   },
   {
    "duration": 2923,
    "start_time": "2023-04-06T21:38:14.900Z"
   },
   {
    "duration": 13,
    "start_time": "2023-04-06T21:38:22.595Z"
   },
   {
    "duration": 169,
    "start_time": "2023-04-06T21:38:23.365Z"
   },
   {
    "duration": 87,
    "start_time": "2023-04-06T21:38:24.127Z"
   },
   {
    "duration": 7,
    "start_time": "2023-04-06T21:38:25.308Z"
   },
   {
    "duration": 6,
    "start_time": "2023-04-06T21:38:26.614Z"
   },
   {
    "duration": 43,
    "start_time": "2023-04-06T21:38:27.267Z"
   },
   {
    "duration": 24,
    "start_time": "2023-04-06T21:38:28.407Z"
   },
   {
    "duration": 22,
    "start_time": "2023-04-06T21:38:29.633Z"
   },
   {
    "duration": 34,
    "start_time": "2023-04-06T21:38:40.011Z"
   },
   {
    "duration": 155,
    "start_time": "2023-04-06T21:38:55.473Z"
   },
   {
    "duration": 394,
    "start_time": "2023-04-06T21:39:24.536Z"
   },
   {
    "duration": 440,
    "start_time": "2023-04-06T21:40:57.855Z"
   },
   {
    "duration": 446,
    "start_time": "2023-04-06T21:42:19.341Z"
   },
   {
    "duration": 2859,
    "start_time": "2023-04-06T21:44:17.028Z"
   },
   {
    "duration": 29,
    "start_time": "2023-04-06T21:44:24.349Z"
   },
   {
    "duration": 504,
    "start_time": "2023-04-06T21:44:42.226Z"
   },
   {
    "duration": 747,
    "start_time": "2023-04-06T21:44:55.813Z"
   },
   {
    "duration": 18,
    "start_time": "2023-04-06T21:44:56.562Z"
   },
   {
    "duration": 15,
    "start_time": "2023-04-06T21:44:56.588Z"
   },
   {
    "duration": 2528,
    "start_time": "2023-04-06T21:44:56.605Z"
   },
   {
    "duration": 10,
    "start_time": "2023-04-06T21:44:59.136Z"
   },
   {
    "duration": 184,
    "start_time": "2023-04-06T21:44:59.149Z"
   },
   {
    "duration": 95,
    "start_time": "2023-04-06T21:44:59.335Z"
   },
   {
    "duration": 8,
    "start_time": "2023-04-06T21:44:59.432Z"
   },
   {
    "duration": 7,
    "start_time": "2023-04-06T21:44:59.441Z"
   },
   {
    "duration": 50,
    "start_time": "2023-04-06T21:44:59.449Z"
   },
   {
    "duration": 45,
    "start_time": "2023-04-06T21:44:59.500Z"
   },
   {
    "duration": 25,
    "start_time": "2023-04-06T21:44:59.547Z"
   },
   {
    "duration": 605,
    "start_time": "2023-04-06T21:44:59.574Z"
   },
   {
    "duration": 2562,
    "start_time": "2023-04-06T21:46:02.919Z"
   },
   {
    "duration": 2645,
    "start_time": "2023-04-06T21:46:14.527Z"
   },
   {
    "duration": 14,
    "start_time": "2023-04-06T21:46:17.173Z"
   },
   {
    "duration": 189,
    "start_time": "2023-04-06T21:46:17.188Z"
   },
   {
    "duration": 90,
    "start_time": "2023-04-06T21:46:17.379Z"
   },
   {
    "duration": 8,
    "start_time": "2023-04-06T21:46:17.472Z"
   },
   {
    "duration": 9,
    "start_time": "2023-04-06T21:46:17.481Z"
   },
   {
    "duration": 31,
    "start_time": "2023-04-06T21:46:17.491Z"
   },
   {
    "duration": 26,
    "start_time": "2023-04-06T21:46:17.523Z"
   },
   {
    "duration": 43,
    "start_time": "2023-04-06T21:46:17.570Z"
   },
   {
    "duration": 507,
    "start_time": "2023-04-06T21:46:17.842Z"
   },
   {
    "duration": 170,
    "start_time": "2023-04-06T21:46:44.956Z"
   },
   {
    "duration": 414,
    "start_time": "2023-04-06T21:46:51.256Z"
   },
   {
    "duration": 32,
    "start_time": "2023-04-06T21:48:04.119Z"
   },
   {
    "duration": 480,
    "start_time": "2023-04-06T21:48:36.529Z"
   },
   {
    "duration": 105,
    "start_time": "2023-04-06T21:49:36.436Z"
   },
   {
    "duration": 66,
    "start_time": "2023-04-06T21:50:10.401Z"
   },
   {
    "duration": 400,
    "start_time": "2023-04-06T21:52:48.599Z"
   },
   {
    "duration": 52,
    "start_time": "2023-04-06T21:52:57.491Z"
   },
   {
    "duration": 55,
    "start_time": "2023-04-06T21:54:27.535Z"
   },
   {
    "duration": 46,
    "start_time": "2023-04-06T21:54:59.608Z"
   },
   {
    "duration": 44,
    "start_time": "2023-04-06T21:55:35.415Z"
   },
   {
    "duration": 10,
    "start_time": "2023-04-06T21:55:54.542Z"
   },
   {
    "duration": 4,
    "start_time": "2023-04-06T21:56:22.850Z"
   },
   {
    "duration": 3,
    "start_time": "2023-04-06T21:56:36.815Z"
   },
   {
    "duration": 3,
    "start_time": "2023-04-06T21:57:14.545Z"
   },
   {
    "duration": 3,
    "start_time": "2023-04-06T21:57:19.712Z"
   },
   {
    "duration": 12,
    "start_time": "2023-04-06T21:57:31.296Z"
   },
   {
    "duration": 3,
    "start_time": "2023-04-06T21:58:06.053Z"
   },
   {
    "duration": 4,
    "start_time": "2023-04-06T21:58:18.424Z"
   },
   {
    "duration": 3,
    "start_time": "2023-04-06T21:59:38.416Z"
   },
   {
    "duration": 4,
    "start_time": "2023-04-06T21:59:45.162Z"
   },
   {
    "duration": 4,
    "start_time": "2023-04-06T21:59:50.913Z"
   },
   {
    "duration": 2,
    "start_time": "2023-04-06T21:59:56.116Z"
   },
   {
    "duration": 3,
    "start_time": "2023-04-06T22:00:00.511Z"
   },
   {
    "duration": 734,
    "start_time": "2023-04-06T22:00:07.715Z"
   },
   {
    "duration": 13,
    "start_time": "2023-04-06T22:00:08.452Z"
   },
   {
    "duration": 29,
    "start_time": "2023-04-06T22:00:08.468Z"
   },
   {
    "duration": 2624,
    "start_time": "2023-04-06T22:00:08.503Z"
   },
   {
    "duration": 7,
    "start_time": "2023-04-06T22:00:11.129Z"
   },
   {
    "duration": 224,
    "start_time": "2023-04-06T22:00:11.138Z"
   },
   {
    "duration": 88,
    "start_time": "2023-04-06T22:00:11.363Z"
   },
   {
    "duration": 19,
    "start_time": "2023-04-06T22:00:11.453Z"
   },
   {
    "duration": 10,
    "start_time": "2023-04-06T22:00:11.474Z"
   },
   {
    "duration": 42,
    "start_time": "2023-04-06T22:00:11.490Z"
   },
   {
    "duration": 63,
    "start_time": "2023-04-06T22:00:11.534Z"
   },
   {
    "duration": 38,
    "start_time": "2023-04-06T22:00:11.599Z"
   },
   {
    "duration": 3,
    "start_time": "2023-04-06T22:00:11.639Z"
   },
   {
    "duration": 115,
    "start_time": "2023-04-06T22:00:58.915Z"
   },
   {
    "duration": 583,
    "start_time": "2023-04-06T22:01:03.960Z"
   },
   {
    "duration": 76,
    "start_time": "2023-04-06T22:01:23.996Z"
   },
   {
    "duration": 8,
    "start_time": "2023-04-06T22:01:39.090Z"
   },
   {
    "duration": 39,
    "start_time": "2023-04-06T22:01:45.398Z"
   },
   {
    "duration": 424,
    "start_time": "2023-04-06T22:02:00.340Z"
   },
   {
    "duration": 578,
    "start_time": "2023-04-06T22:02:14.623Z"
   },
   {
    "duration": 40,
    "start_time": "2023-04-06T22:04:58.011Z"
   },
   {
    "duration": 473,
    "start_time": "2023-04-06T22:06:22.331Z"
   },
   {
    "duration": 393,
    "start_time": "2023-04-06T22:06:31.161Z"
   },
   {
    "duration": 42,
    "start_time": "2023-04-06T22:08:45.213Z"
   },
   {
    "duration": 55,
    "start_time": "2023-04-06T22:09:07.993Z"
   },
   {
    "duration": 56,
    "start_time": "2023-04-06T22:09:25.355Z"
   },
   {
    "duration": 692,
    "start_time": "2023-04-06T22:09:48.931Z"
   },
   {
    "duration": 497,
    "start_time": "2023-04-06T22:16:02.928Z"
   },
   {
    "duration": 17,
    "start_time": "2023-04-06T22:17:55.240Z"
   },
   {
    "duration": 38,
    "start_time": "2023-04-06T22:18:45.354Z"
   },
   {
    "duration": 787,
    "start_time": "2023-04-06T22:19:29.944Z"
   },
   {
    "duration": 13,
    "start_time": "2023-04-06T22:19:30.733Z"
   },
   {
    "duration": 41,
    "start_time": "2023-04-06T22:19:30.748Z"
   },
   {
    "duration": 2660,
    "start_time": "2023-04-06T22:19:30.795Z"
   },
   {
    "duration": 7,
    "start_time": "2023-04-06T22:19:33.456Z"
   },
   {
    "duration": 177,
    "start_time": "2023-04-06T22:19:33.473Z"
   },
   {
    "duration": 76,
    "start_time": "2023-04-06T22:19:33.651Z"
   },
   {
    "duration": 7,
    "start_time": "2023-04-06T22:19:33.728Z"
   },
   {
    "duration": 6,
    "start_time": "2023-04-06T22:19:33.736Z"
   },
   {
    "duration": 56,
    "start_time": "2023-04-06T22:19:33.744Z"
   },
   {
    "duration": 44,
    "start_time": "2023-04-06T22:19:33.801Z"
   },
   {
    "duration": 45,
    "start_time": "2023-04-06T22:19:33.846Z"
   },
   {
    "duration": 84,
    "start_time": "2023-04-06T22:19:33.892Z"
   },
   {
    "duration": 17,
    "start_time": "2023-04-06T22:21:07.818Z"
   },
   {
    "duration": 18,
    "start_time": "2023-04-06T22:22:24.898Z"
   },
   {
    "duration": 14,
    "start_time": "2023-04-06T22:22:27.651Z"
   },
   {
    "duration": 19,
    "start_time": "2023-04-06T22:22:36.543Z"
   },
   {
    "duration": 21,
    "start_time": "2023-04-06T22:22:47.996Z"
   },
   {
    "duration": 15,
    "start_time": "2023-04-06T22:23:18.736Z"
   },
   {
    "duration": 21,
    "start_time": "2023-04-06T22:23:36.790Z"
   },
   {
    "duration": 19,
    "start_time": "2023-04-06T22:23:44.637Z"
   },
   {
    "duration": 7,
    "start_time": "2023-04-07T14:02:28.490Z"
   },
   {
    "duration": 40,
    "start_time": "2023-04-07T14:02:42.997Z"
   },
   {
    "duration": 962,
    "start_time": "2023-04-07T14:02:49.235Z"
   },
   {
    "duration": 13,
    "start_time": "2023-04-07T14:02:50.199Z"
   },
   {
    "duration": 8,
    "start_time": "2023-04-07T14:02:50.213Z"
   },
   {
    "duration": 2432,
    "start_time": "2023-04-07T14:02:50.222Z"
   },
   {
    "duration": 7,
    "start_time": "2023-04-07T14:02:52.656Z"
   },
   {
    "duration": 222,
    "start_time": "2023-04-07T14:02:52.669Z"
   },
   {
    "duration": 102,
    "start_time": "2023-04-07T14:02:52.893Z"
   },
   {
    "duration": 12,
    "start_time": "2023-04-07T14:02:52.997Z"
   },
   {
    "duration": 7,
    "start_time": "2023-04-07T14:02:53.011Z"
   },
   {
    "duration": 52,
    "start_time": "2023-04-07T14:02:53.021Z"
   },
   {
    "duration": 32,
    "start_time": "2023-04-07T14:02:53.075Z"
   },
   {
    "duration": 24,
    "start_time": "2023-04-07T14:02:53.109Z"
   },
   {
    "duration": 28,
    "start_time": "2023-04-07T14:02:53.204Z"
   },
   {
    "duration": 86,
    "start_time": "2023-04-07T14:03:16.655Z"
   },
   {
    "duration": 16,
    "start_time": "2023-04-07T14:04:26.287Z"
   },
   {
    "duration": 247,
    "start_time": "2023-04-07T14:09:31.082Z"
   },
   {
    "duration": 4,
    "start_time": "2023-04-07T14:12:08.918Z"
   },
   {
    "duration": 33,
    "start_time": "2023-04-07T14:12:15.888Z"
   },
   {
    "duration": 231,
    "start_time": "2023-04-07T14:12:45.248Z"
   },
   {
    "duration": 227,
    "start_time": "2023-04-07T14:12:59.796Z"
   },
   {
    "duration": 245,
    "start_time": "2023-04-07T14:13:10.165Z"
   },
   {
    "duration": 6,
    "start_time": "2023-04-07T14:13:18.457Z"
   },
   {
    "duration": 6,
    "start_time": "2023-04-07T14:13:31.482Z"
   },
   {
    "duration": 5,
    "start_time": "2023-04-07T14:13:50.380Z"
   },
   {
    "duration": 35,
    "start_time": "2023-04-07T14:16:11.383Z"
   },
   {
    "duration": 9,
    "start_time": "2023-04-07T14:16:54.176Z"
   },
   {
    "duration": 247,
    "start_time": "2023-04-07T14:17:21.370Z"
   },
   {
    "duration": 236,
    "start_time": "2023-04-07T14:17:25.627Z"
   },
   {
    "duration": 6,
    "start_time": "2023-04-07T14:17:33.931Z"
   },
   {
    "duration": 244,
    "start_time": "2023-04-07T14:18:12.076Z"
   },
   {
    "duration": 52,
    "start_time": "2023-04-07T17:58:53.894Z"
   },
   {
    "duration": 1253,
    "start_time": "2023-04-07T17:58:59.586Z"
   },
   {
    "duration": 17,
    "start_time": "2023-04-07T17:59:00.841Z"
   },
   {
    "duration": 31,
    "start_time": "2023-04-07T17:59:00.860Z"
   },
   {
    "duration": 2823,
    "start_time": "2023-04-07T17:59:00.894Z"
   },
   {
    "duration": 15,
    "start_time": "2023-04-07T17:59:03.718Z"
   },
   {
    "duration": 187,
    "start_time": "2023-04-07T17:59:03.735Z"
   },
   {
    "duration": 82,
    "start_time": "2023-04-07T17:59:03.924Z"
   },
   {
    "duration": 8,
    "start_time": "2023-04-07T17:59:04.008Z"
   },
   {
    "duration": 22,
    "start_time": "2023-04-07T17:59:04.018Z"
   },
   {
    "duration": 54,
    "start_time": "2023-04-07T17:59:04.043Z"
   },
   {
    "duration": 38,
    "start_time": "2023-04-07T17:59:04.099Z"
   },
   {
    "duration": 28,
    "start_time": "2023-04-07T17:59:04.139Z"
   },
   {
    "duration": 319,
    "start_time": "2023-04-07T17:59:04.169Z"
   },
   {
    "duration": 8,
    "start_time": "2023-04-07T17:59:04.489Z"
   },
   {
    "duration": 325,
    "start_time": "2023-04-07T17:59:04.499Z"
   },
   {
    "duration": 329,
    "start_time": "2023-04-07T17:59:31.168Z"
   },
   {
    "duration": 424,
    "start_time": "2023-04-07T18:01:04.042Z"
   },
   {
    "duration": 345,
    "start_time": "2023-04-07T18:01:11.918Z"
   },
   {
    "duration": 297,
    "start_time": "2023-04-07T18:02:02.246Z"
   },
   {
    "duration": 344,
    "start_time": "2023-04-07T18:02:22.508Z"
   },
   {
    "duration": 322,
    "start_time": "2023-04-07T18:05:25.251Z"
   },
   {
    "duration": 405,
    "start_time": "2023-04-07T18:06:07.762Z"
   },
   {
    "duration": 52,
    "start_time": "2023-04-08T11:39:10.561Z"
   },
   {
    "duration": 1149,
    "start_time": "2023-04-08T11:39:16.552Z"
   },
   {
    "duration": 15,
    "start_time": "2023-04-08T11:39:17.704Z"
   },
   {
    "duration": 17,
    "start_time": "2023-04-08T11:39:17.721Z"
   },
   {
    "duration": 2599,
    "start_time": "2023-04-08T11:39:17.740Z"
   },
   {
    "duration": 8,
    "start_time": "2023-04-08T11:39:20.341Z"
   },
   {
    "duration": 179,
    "start_time": "2023-04-08T11:39:20.350Z"
   },
   {
    "duration": 75,
    "start_time": "2023-04-08T11:39:20.531Z"
   },
   {
    "duration": 15,
    "start_time": "2023-04-08T11:39:20.608Z"
   },
   {
    "duration": 19,
    "start_time": "2023-04-08T11:39:20.625Z"
   },
   {
    "duration": 52,
    "start_time": "2023-04-08T11:39:20.647Z"
   },
   {
    "duration": 29,
    "start_time": "2023-04-08T11:39:20.701Z"
   },
   {
    "duration": 32,
    "start_time": "2023-04-08T11:39:20.732Z"
   },
   {
    "duration": 292,
    "start_time": "2023-04-08T11:39:20.766Z"
   },
   {
    "duration": 7,
    "start_time": "2023-04-08T11:39:21.060Z"
   },
   {
    "duration": 340,
    "start_time": "2023-04-08T11:39:21.068Z"
   },
   {
    "duration": 368,
    "start_time": "2023-04-08T11:39:21.410Z"
   },
   {
    "duration": 322,
    "start_time": "2023-04-08T11:39:51.612Z"
   },
   {
    "duration": 290,
    "start_time": "2023-04-08T11:42:01.341Z"
   },
   {
    "duration": 309,
    "start_time": "2023-04-08T11:42:14.198Z"
   },
   {
    "duration": 299,
    "start_time": "2023-04-08T11:42:51.921Z"
   },
   {
    "duration": 289,
    "start_time": "2023-04-08T11:42:54.501Z"
   },
   {
    "duration": 381,
    "start_time": "2023-04-08T11:50:14.181Z"
   },
   {
    "duration": 281,
    "start_time": "2023-04-08T11:55:55.810Z"
   },
   {
    "duration": 316,
    "start_time": "2023-04-08T11:56:27.611Z"
   },
   {
    "duration": 314,
    "start_time": "2023-04-08T11:56:48.271Z"
   },
   {
    "duration": 274,
    "start_time": "2023-04-08T12:01:09.584Z"
   },
   {
    "duration": 357,
    "start_time": "2023-04-08T12:01:57.623Z"
   },
   {
    "duration": 272,
    "start_time": "2023-04-08T12:03:15.193Z"
   },
   {
    "duration": 271,
    "start_time": "2023-04-08T12:03:30.464Z"
   },
   {
    "duration": 2354,
    "start_time": "2023-04-08T12:03:51.859Z"
   },
   {
    "duration": 272,
    "start_time": "2023-04-08T12:04:07.807Z"
   },
   {
    "duration": 722,
    "start_time": "2023-04-08T12:04:17.673Z"
   },
   {
    "duration": 22,
    "start_time": "2023-04-08T12:04:18.398Z"
   },
   {
    "duration": 24,
    "start_time": "2023-04-08T12:04:18.422Z"
   },
   {
    "duration": 2685,
    "start_time": "2023-04-08T12:04:18.448Z"
   },
   {
    "duration": 7,
    "start_time": "2023-04-08T12:04:21.136Z"
   },
   {
    "duration": 192,
    "start_time": "2023-04-08T12:04:21.145Z"
   },
   {
    "duration": 83,
    "start_time": "2023-04-08T12:04:21.339Z"
   },
   {
    "duration": 7,
    "start_time": "2023-04-08T12:04:21.423Z"
   },
   {
    "duration": 22,
    "start_time": "2023-04-08T12:04:21.432Z"
   },
   {
    "duration": 58,
    "start_time": "2023-04-08T12:04:21.456Z"
   },
   {
    "duration": 48,
    "start_time": "2023-04-08T12:04:21.516Z"
   },
   {
    "duration": 50,
    "start_time": "2023-04-08T12:04:21.566Z"
   },
   {
    "duration": 330,
    "start_time": "2023-04-08T12:04:21.618Z"
   },
   {
    "duration": 8,
    "start_time": "2023-04-08T12:04:21.952Z"
   },
   {
    "duration": 375,
    "start_time": "2023-04-08T12:04:21.962Z"
   },
   {
    "duration": 354,
    "start_time": "2023-04-08T12:04:22.339Z"
   },
   {
    "duration": 387,
    "start_time": "2023-04-08T12:04:22.695Z"
   },
   {
    "duration": 312,
    "start_time": "2023-04-08T12:04:23.399Z"
   },
   {
    "duration": 298,
    "start_time": "2023-04-08T12:05:34.212Z"
   },
   {
    "duration": 313,
    "start_time": "2023-04-08T12:06:00.871Z"
   },
   {
    "duration": 53,
    "start_time": "2023-04-10T09:22:39.134Z"
   },
   {
    "duration": 978,
    "start_time": "2023-04-10T09:22:47.950Z"
   },
   {
    "duration": 16,
    "start_time": "2023-04-10T09:22:48.931Z"
   },
   {
    "duration": 26,
    "start_time": "2023-04-10T09:22:48.948Z"
   },
   {
    "duration": 2524,
    "start_time": "2023-04-10T09:22:48.976Z"
   },
   {
    "duration": 8,
    "start_time": "2023-04-10T09:22:51.503Z"
   },
   {
    "duration": 174,
    "start_time": "2023-04-10T09:22:51.512Z"
   },
   {
    "duration": 87,
    "start_time": "2023-04-10T09:22:51.688Z"
   },
   {
    "duration": 9,
    "start_time": "2023-04-10T09:22:51.777Z"
   },
   {
    "duration": 24,
    "start_time": "2023-04-10T09:22:51.788Z"
   },
   {
    "duration": 33,
    "start_time": "2023-04-10T09:22:51.814Z"
   },
   {
    "duration": 55,
    "start_time": "2023-04-10T09:22:51.850Z"
   },
   {
    "duration": 34,
    "start_time": "2023-04-10T09:22:51.907Z"
   },
   {
    "duration": 343,
    "start_time": "2023-04-10T09:22:51.943Z"
   },
   {
    "duration": 15,
    "start_time": "2023-04-10T09:22:52.288Z"
   },
   {
    "duration": 354,
    "start_time": "2023-04-10T09:22:52.304Z"
   },
   {
    "duration": 320,
    "start_time": "2023-04-10T09:22:52.660Z"
   },
   {
    "duration": 404,
    "start_time": "2023-04-10T09:22:52.982Z"
   },
   {
    "duration": 321,
    "start_time": "2023-04-10T09:22:53.387Z"
   },
   {
    "duration": 298,
    "start_time": "2023-04-10T09:22:53.710Z"
   },
   {
    "duration": 317,
    "start_time": "2023-04-10T09:27:25.302Z"
   },
   {
    "duration": 302,
    "start_time": "2023-04-10T09:27:44.109Z"
   },
   {
    "duration": 409,
    "start_time": "2023-04-10T09:29:14.559Z"
   },
   {
    "duration": 327,
    "start_time": "2023-04-10T09:29:28.249Z"
   },
   {
    "duration": 339,
    "start_time": "2023-04-10T09:29:32.970Z"
   },
   {
    "duration": 309,
    "start_time": "2023-04-10T09:29:42.056Z"
   },
   {
    "duration": 326,
    "start_time": "2023-04-10T09:30:12.689Z"
   },
   {
    "duration": 294,
    "start_time": "2023-04-10T09:30:35.459Z"
   },
   {
    "duration": 395,
    "start_time": "2023-04-10T09:30:54.767Z"
   },
   {
    "duration": 318,
    "start_time": "2023-04-10T09:31:01.239Z"
   },
   {
    "duration": 343,
    "start_time": "2023-04-10T09:31:09.816Z"
   },
   {
    "duration": 339,
    "start_time": "2023-04-10T09:31:40.271Z"
   },
   {
    "duration": 331,
    "start_time": "2023-04-10T09:31:49.749Z"
   },
   {
    "duration": 399,
    "start_time": "2023-04-10T09:34:02.497Z"
   },
   {
    "duration": 335,
    "start_time": "2023-04-10T09:51:00.798Z"
   },
   {
    "duration": 325,
    "start_time": "2023-04-10T09:51:24.949Z"
   },
   {
    "duration": 311,
    "start_time": "2023-04-10T09:51:33.738Z"
   },
   {
    "duration": 344,
    "start_time": "2023-04-10T09:51:51.268Z"
   },
   {
    "duration": 60,
    "start_time": "2023-04-10T16:46:42.176Z"
   },
   {
    "duration": 1765,
    "start_time": "2023-04-10T16:46:48.285Z"
   },
   {
    "duration": 22,
    "start_time": "2023-04-10T16:46:50.052Z"
   },
   {
    "duration": 17,
    "start_time": "2023-04-10T16:46:50.077Z"
   },
   {
    "duration": 3384,
    "start_time": "2023-04-10T16:46:50.096Z"
   },
   {
    "duration": 12,
    "start_time": "2023-04-10T16:46:53.482Z"
   },
   {
    "duration": 222,
    "start_time": "2023-04-10T16:46:53.495Z"
   },
   {
    "duration": 145,
    "start_time": "2023-04-10T16:46:53.719Z"
   },
   {
    "duration": 9,
    "start_time": "2023-04-10T16:46:53.866Z"
   },
   {
    "duration": 32,
    "start_time": "2023-04-10T16:46:53.886Z"
   },
   {
    "duration": 87,
    "start_time": "2023-04-10T16:46:53.921Z"
   },
   {
    "duration": 64,
    "start_time": "2023-04-10T16:46:54.010Z"
   },
   {
    "duration": 48,
    "start_time": "2023-04-10T16:46:54.077Z"
   },
   {
    "duration": 357,
    "start_time": "2023-04-10T16:46:54.127Z"
   },
   {
    "duration": 15,
    "start_time": "2023-04-10T16:46:54.487Z"
   },
   {
    "duration": 480,
    "start_time": "2023-04-10T16:46:54.504Z"
   },
   {
    "duration": 388,
    "start_time": "2023-04-10T16:46:54.987Z"
   },
   {
    "duration": 473,
    "start_time": "2023-04-10T16:46:55.378Z"
   },
   {
    "duration": 394,
    "start_time": "2023-04-10T16:46:55.853Z"
   },
   {
    "duration": 425,
    "start_time": "2023-04-10T16:46:56.249Z"
   },
   {
    "duration": 397,
    "start_time": "2023-04-10T16:46:56.676Z"
   },
   {
    "duration": 0,
    "start_time": "2023-04-10T16:46:57.187Z"
   },
   {
    "duration": 28,
    "start_time": "2023-04-10T16:47:02.424Z"
   },
   {
    "duration": 40,
    "start_time": "2023-04-10T16:47:14.608Z"
   },
   {
    "duration": 409,
    "start_time": "2023-04-10T16:50:54.943Z"
   },
   {
    "duration": 502,
    "start_time": "2023-04-10T16:51:20.815Z"
   },
   {
    "duration": 503,
    "start_time": "2023-04-10T16:56:50.482Z"
   },
   {
    "duration": 409,
    "start_time": "2023-04-10T16:56:58.631Z"
   },
   {
    "duration": 1749,
    "start_time": "2023-04-10T17:59:41.749Z"
   },
   {
    "duration": 9,
    "start_time": "2023-04-10T18:00:02.337Z"
   },
   {
    "duration": 9,
    "start_time": "2023-04-10T18:10:41.114Z"
   },
   {
    "duration": 7,
    "start_time": "2023-04-10T18:13:09.319Z"
   },
   {
    "duration": 18,
    "start_time": "2023-04-10T18:15:44.351Z"
   },
   {
    "duration": 1037,
    "start_time": "2023-04-10T18:16:09.928Z"
   },
   {
    "duration": 17,
    "start_time": "2023-04-10T18:16:10.967Z"
   },
   {
    "duration": 29,
    "start_time": "2023-04-10T18:16:10.990Z"
   },
   {
    "duration": 3061,
    "start_time": "2023-04-10T18:16:11.021Z"
   },
   {
    "duration": 10,
    "start_time": "2023-04-10T18:16:14.089Z"
   },
   {
    "duration": 226,
    "start_time": "2023-04-10T18:16:14.101Z"
   },
   {
    "duration": 92,
    "start_time": "2023-04-10T18:16:14.330Z"
   },
   {
    "duration": 7,
    "start_time": "2023-04-10T18:16:14.424Z"
   },
   {
    "duration": 8,
    "start_time": "2023-04-10T18:16:14.433Z"
   },
   {
    "duration": 52,
    "start_time": "2023-04-10T18:16:14.443Z"
   },
   {
    "duration": 34,
    "start_time": "2023-04-10T18:16:14.496Z"
   },
   {
    "duration": 30,
    "start_time": "2023-04-10T18:16:14.532Z"
   },
   {
    "duration": 380,
    "start_time": "2023-04-10T18:16:14.564Z"
   },
   {
    "duration": 8,
    "start_time": "2023-04-10T18:16:14.948Z"
   },
   {
    "duration": 427,
    "start_time": "2023-04-10T18:16:14.957Z"
   },
   {
    "duration": 371,
    "start_time": "2023-04-10T18:16:15.394Z"
   },
   {
    "duration": 497,
    "start_time": "2023-04-10T18:16:15.767Z"
   },
   {
    "duration": 436,
    "start_time": "2023-04-10T18:16:16.267Z"
   },
   {
    "duration": 357,
    "start_time": "2023-04-10T18:16:16.707Z"
   },
   {
    "duration": 371,
    "start_time": "2023-04-10T18:16:17.066Z"
   },
   {
    "duration": 29,
    "start_time": "2023-04-10T18:16:17.438Z"
   },
   {
    "duration": 364,
    "start_time": "2023-04-10T18:16:17.469Z"
   },
   {
    "duration": 7,
    "start_time": "2023-04-10T18:16:17.835Z"
   },
   {
    "duration": 0,
    "start_time": "2023-04-10T18:16:17.975Z"
   },
   {
    "duration": 25,
    "start_time": "2023-04-10T18:16:23.903Z"
   },
   {
    "duration": 18,
    "start_time": "2023-04-10T18:16:51.808Z"
   },
   {
    "duration": 16,
    "start_time": "2023-04-10T18:16:58.323Z"
   },
   {
    "duration": 17,
    "start_time": "2023-04-10T18:17:10.813Z"
   },
   {
    "duration": 22,
    "start_time": "2023-04-10T18:19:55.253Z"
   },
   {
    "duration": 24,
    "start_time": "2023-04-10T18:20:04.973Z"
   },
   {
    "duration": 7,
    "start_time": "2023-04-10T18:20:41.443Z"
   },
   {
    "duration": 8,
    "start_time": "2023-04-10T18:21:22.331Z"
   },
   {
    "duration": 7,
    "start_time": "2023-04-10T18:21:49.753Z"
   },
   {
    "duration": 8,
    "start_time": "2023-04-10T18:22:06.225Z"
   },
   {
    "duration": 450,
    "start_time": "2023-04-10T18:24:59.925Z"
   },
   {
    "duration": 7,
    "start_time": "2023-04-10T18:25:42.110Z"
   },
   {
    "duration": 24,
    "start_time": "2023-04-10T18:28:31.946Z"
   },
   {
    "duration": 396,
    "start_time": "2023-04-10T18:39:10.781Z"
   },
   {
    "duration": 453,
    "start_time": "2023-04-10T18:39:31.660Z"
   },
   {
    "duration": 328,
    "start_time": "2023-04-10T18:41:14.472Z"
   },
   {
    "duration": 343,
    "start_time": "2023-04-10T18:42:53.060Z"
   },
   {
    "duration": 413,
    "start_time": "2023-04-10T18:43:10.407Z"
   },
   {
    "duration": 420,
    "start_time": "2023-04-10T18:45:46.959Z"
   },
   {
    "duration": 376,
    "start_time": "2023-04-10T18:46:10.122Z"
   },
   {
    "duration": 361,
    "start_time": "2023-04-10T18:46:15.779Z"
   },
   {
    "duration": 329,
    "start_time": "2023-04-10T18:49:38.590Z"
   },
   {
    "duration": 314,
    "start_time": "2023-04-10T18:49:49.530Z"
   },
   {
    "duration": 481,
    "start_time": "2023-04-10T18:50:00.983Z"
   },
   {
    "duration": 311,
    "start_time": "2023-04-10T19:13:36.933Z"
   },
   {
    "duration": 332,
    "start_time": "2023-04-10T19:13:49.380Z"
   },
   {
    "duration": 338,
    "start_time": "2023-04-10T19:17:55.215Z"
   },
   {
    "duration": 353,
    "start_time": "2023-04-10T19:18:02.356Z"
   },
   {
    "duration": 412,
    "start_time": "2023-04-10T19:19:12.102Z"
   },
   {
    "duration": 403,
    "start_time": "2023-04-10T19:45:47.028Z"
   },
   {
    "duration": 306,
    "start_time": "2023-04-10T19:45:56.807Z"
   },
   {
    "duration": 319,
    "start_time": "2023-04-10T19:46:09.036Z"
   },
   {
    "duration": 311,
    "start_time": "2023-04-10T19:47:45.754Z"
   },
   {
    "duration": 312,
    "start_time": "2023-04-10T19:47:56.444Z"
   },
   {
    "duration": 7,
    "start_time": "2023-04-10T19:48:01.276Z"
   },
   {
    "duration": 367,
    "start_time": "2023-04-10T19:48:19.193Z"
   },
   {
    "duration": 318,
    "start_time": "2023-04-10T19:51:06.015Z"
   },
   {
    "duration": 8,
    "start_time": "2023-04-10T20:05:00.536Z"
   },
   {
    "duration": 12,
    "start_time": "2023-04-10T20:05:05.816Z"
   },
   {
    "duration": 49,
    "start_time": "2023-04-10T20:05:19.677Z"
   },
   {
    "duration": 10,
    "start_time": "2023-04-10T20:05:35.186Z"
   },
   {
    "duration": 11,
    "start_time": "2023-04-10T20:05:39.666Z"
   },
   {
    "duration": 17,
    "start_time": "2023-04-10T20:05:46.936Z"
   },
   {
    "duration": 17,
    "start_time": "2023-04-10T20:06:06.716Z"
   },
   {
    "duration": 17,
    "start_time": "2023-04-10T20:08:25.305Z"
   },
   {
    "duration": 16,
    "start_time": "2023-04-10T20:08:47.813Z"
   },
   {
    "duration": 889,
    "start_time": "2023-04-10T20:15:16.394Z"
   },
   {
    "duration": 164,
    "start_time": "2023-04-10T20:17:35.464Z"
   },
   {
    "duration": 16,
    "start_time": "2023-04-10T20:19:55.196Z"
   },
   {
    "duration": 15,
    "start_time": "2023-04-10T20:20:22.636Z"
   },
   {
    "duration": 157,
    "start_time": "2023-04-10T20:20:28.436Z"
   },
   {
    "duration": 245,
    "start_time": "2023-04-10T20:20:46.877Z"
   },
   {
    "duration": 168,
    "start_time": "2023-04-10T20:20:51.485Z"
   },
   {
    "duration": 191,
    "start_time": "2023-04-10T20:26:03.865Z"
   },
   {
    "duration": 15,
    "start_time": "2023-04-10T20:26:51.346Z"
   },
   {
    "duration": 15,
    "start_time": "2023-04-10T20:26:56.336Z"
   },
   {
    "duration": 14,
    "start_time": "2023-04-10T20:27:13.694Z"
   },
   {
    "duration": 18,
    "start_time": "2023-04-10T20:28:18.727Z"
   },
   {
    "duration": 15,
    "start_time": "2023-04-10T20:28:27.226Z"
   },
   {
    "duration": 17,
    "start_time": "2023-04-10T20:28:33.476Z"
   },
   {
    "duration": 16,
    "start_time": "2023-04-10T20:28:51.826Z"
   },
   {
    "duration": 18,
    "start_time": "2023-04-10T20:28:56.476Z"
   },
   {
    "duration": 17,
    "start_time": "2023-04-10T20:29:54.896Z"
   },
   {
    "duration": 16,
    "start_time": "2023-04-10T20:29:59.375Z"
   },
   {
    "duration": 16,
    "start_time": "2023-04-10T20:30:36.627Z"
   },
   {
    "duration": 16,
    "start_time": "2023-04-10T20:30:49.045Z"
   },
   {
    "duration": 16,
    "start_time": "2023-04-10T20:31:06.364Z"
   },
   {
    "duration": 15,
    "start_time": "2023-04-10T20:31:16.294Z"
   },
   {
    "duration": 14,
    "start_time": "2023-04-10T20:31:30.526Z"
   },
   {
    "duration": 16,
    "start_time": "2023-04-10T20:31:33.116Z"
   },
   {
    "duration": 927,
    "start_time": "2023-04-10T20:32:20.591Z"
   },
   {
    "duration": 158,
    "start_time": "2023-04-10T20:32:34.791Z"
   },
   {
    "duration": 1087,
    "start_time": "2023-04-10T20:32:54.467Z"
   },
   {
    "duration": 154,
    "start_time": "2023-04-10T20:34:31.317Z"
   },
   {
    "duration": 609,
    "start_time": "2023-04-10T20:35:20.896Z"
   },
   {
    "duration": 161,
    "start_time": "2023-04-10T20:35:34.047Z"
   },
   {
    "duration": 165,
    "start_time": "2023-04-10T20:37:38.836Z"
   },
   {
    "duration": 166,
    "start_time": "2023-04-10T20:40:36.337Z"
   },
   {
    "duration": 152,
    "start_time": "2023-04-10T20:49:25.907Z"
   },
   {
    "duration": 166,
    "start_time": "2023-04-10T20:52:07.587Z"
   },
   {
    "duration": 180,
    "start_time": "2023-04-10T20:52:48.878Z"
   },
   {
    "duration": 174,
    "start_time": "2023-04-10T20:56:26.287Z"
   },
   {
    "duration": 256,
    "start_time": "2023-04-10T20:56:42.678Z"
   },
   {
    "duration": 153,
    "start_time": "2023-04-10T20:56:56.877Z"
   },
   {
    "duration": 516,
    "start_time": "2023-04-10T20:57:19.787Z"
   },
   {
    "duration": 148,
    "start_time": "2023-04-10T20:58:19.367Z"
   },
   {
    "duration": 154,
    "start_time": "2023-04-10T20:58:48.747Z"
   },
   {
    "duration": 145,
    "start_time": "2023-04-10T20:59:43.487Z"
   },
   {
    "duration": 169,
    "start_time": "2023-04-10T21:03:43.206Z"
   },
   {
    "duration": 170,
    "start_time": "2023-04-10T21:05:57.840Z"
   },
   {
    "duration": 29,
    "start_time": "2023-04-10T21:10:54.066Z"
   },
   {
    "duration": 165,
    "start_time": "2023-04-10T21:11:29.069Z"
   },
   {
    "duration": 30,
    "start_time": "2023-04-10T21:15:57.314Z"
   },
   {
    "duration": 327,
    "start_time": "2023-04-10T21:16:29.046Z"
   },
   {
    "duration": 416,
    "start_time": "2023-04-10T21:16:35.607Z"
   },
   {
    "duration": 166,
    "start_time": "2023-04-10T21:18:50.730Z"
   },
   {
    "duration": 189,
    "start_time": "2023-04-10T21:21:30.707Z"
   },
   {
    "duration": 160,
    "start_time": "2023-04-10T21:21:51.445Z"
   },
   {
    "duration": 169,
    "start_time": "2023-04-10T21:22:01.292Z"
   },
   {
    "duration": 303,
    "start_time": "2023-04-10T21:22:59.638Z"
   },
   {
    "duration": 166,
    "start_time": "2023-04-10T21:23:04.693Z"
   },
   {
    "duration": 153,
    "start_time": "2023-04-10T21:23:23.267Z"
   },
   {
    "duration": 162,
    "start_time": "2023-04-10T21:23:25.767Z"
   },
   {
    "duration": 4,
    "start_time": "2023-04-10T21:25:54.537Z"
   },
   {
    "duration": 5,
    "start_time": "2023-04-10T21:25:59.146Z"
   },
   {
    "duration": 6,
    "start_time": "2023-04-10T21:26:11.398Z"
   },
   {
    "duration": 54,
    "start_time": "2023-04-11T09:24:48.023Z"
   },
   {
    "duration": 1389,
    "start_time": "2023-04-11T09:24:54.514Z"
   },
   {
    "duration": 20,
    "start_time": "2023-04-11T09:24:55.906Z"
   },
   {
    "duration": 10,
    "start_time": "2023-04-11T09:24:55.929Z"
   },
   {
    "duration": 3117,
    "start_time": "2023-04-11T09:24:55.941Z"
   },
   {
    "duration": 7,
    "start_time": "2023-04-11T09:24:59.060Z"
   },
   {
    "duration": 209,
    "start_time": "2023-04-11T09:24:59.069Z"
   },
   {
    "duration": 85,
    "start_time": "2023-04-11T09:24:59.279Z"
   },
   {
    "duration": 30,
    "start_time": "2023-04-11T09:24:59.366Z"
   },
   {
    "duration": 32,
    "start_time": "2023-04-11T09:24:59.398Z"
   },
   {
    "duration": 101,
    "start_time": "2023-04-11T09:24:59.432Z"
   },
   {
    "duration": 80,
    "start_time": "2023-04-11T09:24:59.535Z"
   },
   {
    "duration": 37,
    "start_time": "2023-04-11T09:24:59.617Z"
   },
   {
    "duration": 53,
    "start_time": "2023-04-11T09:24:59.656Z"
   },
   {
    "duration": 349,
    "start_time": "2023-04-11T09:24:59.713Z"
   },
   {
    "duration": 8,
    "start_time": "2023-04-11T09:25:00.064Z"
   },
   {
    "duration": 461,
    "start_time": "2023-04-11T09:25:00.087Z"
   },
   {
    "duration": 402,
    "start_time": "2023-04-11T09:25:00.550Z"
   },
   {
    "duration": 452,
    "start_time": "2023-04-11T09:25:00.954Z"
   },
   {
    "duration": 395,
    "start_time": "2023-04-11T09:25:01.417Z"
   },
   {
    "duration": 332,
    "start_time": "2023-04-11T09:25:01.827Z"
   },
   {
    "duration": 367,
    "start_time": "2023-04-11T09:25:02.161Z"
   },
   {
    "duration": 25,
    "start_time": "2023-04-11T09:25:02.530Z"
   },
   {
    "duration": 392,
    "start_time": "2023-04-11T09:25:02.557Z"
   },
   {
    "duration": 6,
    "start_time": "2023-04-11T09:25:02.951Z"
   },
   {
    "duration": 20,
    "start_time": "2023-04-11T09:25:02.959Z"
   },
   {
    "duration": 469,
    "start_time": "2023-04-11T09:25:02.988Z"
   },
   {
    "duration": 47,
    "start_time": "2023-04-11T09:25:03.459Z"
   },
   {
    "duration": 366,
    "start_time": "2023-04-11T09:25:03.508Z"
   },
   {
    "duration": 359,
    "start_time": "2023-04-11T09:25:03.883Z"
   },
   {
    "duration": 334,
    "start_time": "2023-04-11T09:25:04.244Z"
   },
   {
    "duration": 374,
    "start_time": "2023-04-11T09:25:04.583Z"
   },
   {
    "duration": 113,
    "start_time": "2023-04-11T09:25:04.959Z"
   },
   {
    "duration": 0,
    "start_time": "2023-04-11T09:25:05.075Z"
   },
   {
    "duration": 0,
    "start_time": "2023-04-11T09:25:05.077Z"
   },
   {
    "duration": 0,
    "start_time": "2023-04-11T09:25:05.078Z"
   },
   {
    "duration": 0,
    "start_time": "2023-04-11T09:25:05.080Z"
   },
   {
    "duration": 0,
    "start_time": "2023-04-11T09:25:05.082Z"
   },
   {
    "duration": 0,
    "start_time": "2023-04-11T09:25:05.083Z"
   },
   {
    "duration": 0,
    "start_time": "2023-04-11T09:25:05.084Z"
   },
   {
    "duration": 0,
    "start_time": "2023-04-11T09:25:05.084Z"
   },
   {
    "duration": 0,
    "start_time": "2023-04-11T09:25:05.085Z"
   },
   {
    "duration": 0,
    "start_time": "2023-04-11T09:25:05.086Z"
   },
   {
    "duration": 0,
    "start_time": "2023-04-11T09:25:05.091Z"
   },
   {
    "duration": 0,
    "start_time": "2023-04-11T09:25:05.093Z"
   },
   {
    "duration": 43,
    "start_time": "2023-04-11T09:25:09.455Z"
   },
   {
    "duration": 99,
    "start_time": "2023-04-11T09:25:40.080Z"
   },
   {
    "duration": 33,
    "start_time": "2023-04-11T09:26:02.576Z"
   },
   {
    "duration": 25,
    "start_time": "2023-04-11T09:26:06.844Z"
   },
   {
    "duration": 9,
    "start_time": "2023-04-11T09:27:14.722Z"
   },
   {
    "duration": 6,
    "start_time": "2023-04-11T09:27:20.643Z"
   },
   {
    "duration": 8,
    "start_time": "2023-04-11T09:27:25.970Z"
   },
   {
    "duration": 7,
    "start_time": "2023-04-11T09:30:54.538Z"
   },
   {
    "duration": 9,
    "start_time": "2023-04-11T09:31:08.328Z"
   },
   {
    "duration": 20,
    "start_time": "2023-04-11T09:31:33.381Z"
   },
   {
    "duration": 28,
    "start_time": "2023-04-11T09:32:29.635Z"
   },
   {
    "duration": 31,
    "start_time": "2023-04-11T09:32:39.380Z"
   },
   {
    "duration": 14,
    "start_time": "2023-04-11T09:32:57.506Z"
   },
   {
    "duration": 27,
    "start_time": "2023-04-11T09:34:14.112Z"
   },
   {
    "duration": 56,
    "start_time": "2023-04-11T09:36:15.177Z"
   },
   {
    "duration": 52,
    "start_time": "2023-04-11T09:36:18.965Z"
   },
   {
    "duration": 73,
    "start_time": "2023-04-11T09:36:26.846Z"
   },
   {
    "duration": 55,
    "start_time": "2023-04-11T09:36:35.312Z"
   },
   {
    "duration": 36,
    "start_time": "2023-04-11T09:36:58.238Z"
   },
   {
    "duration": 63,
    "start_time": "2023-04-11T09:37:20.561Z"
   },
   {
    "duration": 98,
    "start_time": "2023-04-11T09:37:32.421Z"
   },
   {
    "duration": 9,
    "start_time": "2023-04-11T09:38:18.721Z"
   },
   {
    "duration": 38,
    "start_time": "2023-04-11T09:38:24.712Z"
   },
   {
    "duration": 10,
    "start_time": "2023-04-11T09:39:13.237Z"
   },
   {
    "duration": 11,
    "start_time": "2023-04-11T09:39:28.839Z"
   },
   {
    "duration": 23,
    "start_time": "2023-04-11T09:40:19.450Z"
   },
   {
    "duration": 30,
    "start_time": "2023-04-11T09:40:56.680Z"
   },
   {
    "duration": 47,
    "start_time": "2023-04-11T09:41:02.002Z"
   },
   {
    "duration": 10,
    "start_time": "2023-04-11T09:42:48.917Z"
   },
   {
    "duration": 29,
    "start_time": "2023-04-11T09:43:27.640Z"
   },
   {
    "duration": 24,
    "start_time": "2023-04-11T09:43:39.452Z"
   },
   {
    "duration": 22,
    "start_time": "2023-04-11T09:43:46.634Z"
   },
   {
    "duration": 55,
    "start_time": "2023-04-11T09:44:03.357Z"
   },
   {
    "duration": 49,
    "start_time": "2023-04-11T09:44:06.079Z"
   },
   {
    "duration": 22,
    "start_time": "2023-04-11T09:44:31.648Z"
   },
   {
    "duration": 42,
    "start_time": "2023-04-11T09:44:38.583Z"
   },
   {
    "duration": 32,
    "start_time": "2023-04-11T09:45:38.129Z"
   },
   {
    "duration": 21,
    "start_time": "2023-04-11T09:45:57.114Z"
   },
   {
    "duration": 20,
    "start_time": "2023-04-11T09:46:05.297Z"
   },
   {
    "duration": 23,
    "start_time": "2023-04-11T09:46:11.307Z"
   },
   {
    "duration": 12,
    "start_time": "2023-04-11T09:47:11.212Z"
   },
   {
    "duration": 14,
    "start_time": "2023-04-11T09:57:16.944Z"
   },
   {
    "duration": 17,
    "start_time": "2023-04-11T09:57:24.904Z"
   },
   {
    "duration": 14,
    "start_time": "2023-04-11T09:59:14.317Z"
   },
   {
    "duration": 30,
    "start_time": "2023-04-11T10:00:33.480Z"
   },
   {
    "duration": 26,
    "start_time": "2023-04-11T10:00:36.875Z"
   },
   {
    "duration": 21,
    "start_time": "2023-04-11T10:02:11.097Z"
   },
   {
    "duration": 159,
    "start_time": "2023-04-11T10:03:47.697Z"
   },
   {
    "duration": 162,
    "start_time": "2023-04-11T10:05:06.265Z"
   },
   {
    "duration": 236,
    "start_time": "2023-04-11T10:05:13.479Z"
   },
   {
    "duration": 162,
    "start_time": "2023-04-11T10:05:23.296Z"
   },
   {
    "duration": 150,
    "start_time": "2023-04-11T10:05:33.770Z"
   },
   {
    "duration": 158,
    "start_time": "2023-04-11T10:05:54.387Z"
   },
   {
    "duration": 147,
    "start_time": "2023-04-11T10:05:56.315Z"
   },
   {
    "duration": 314,
    "start_time": "2023-04-11T10:23:46.411Z"
   },
   {
    "duration": 6,
    "start_time": "2023-04-11T10:23:49.353Z"
   },
   {
    "duration": 147,
    "start_time": "2023-04-11T10:24:28.713Z"
   },
   {
    "duration": 164,
    "start_time": "2023-04-11T10:24:29.811Z"
   },
   {
    "duration": 147,
    "start_time": "2023-04-11T10:24:30.429Z"
   },
   {
    "duration": 147,
    "start_time": "2023-04-11T10:24:31.019Z"
   },
   {
    "duration": 236,
    "start_time": "2023-04-11T10:24:31.181Z"
   },
   {
    "duration": 159,
    "start_time": "2023-04-11T10:24:31.433Z"
   },
   {
    "duration": 158,
    "start_time": "2023-04-11T10:24:31.606Z"
   },
   {
    "duration": 152,
    "start_time": "2023-04-11T10:24:31.771Z"
   },
   {
    "duration": 25,
    "start_time": "2023-04-11T10:24:32.017Z"
   },
   {
    "duration": 10,
    "start_time": "2023-04-11T10:24:32.108Z"
   },
   {
    "duration": 157,
    "start_time": "2023-04-11T10:24:32.353Z"
   },
   {
    "duration": 940,
    "start_time": "2023-04-11T10:50:37.914Z"
   },
   {
    "duration": 16,
    "start_time": "2023-04-11T10:50:38.858Z"
   },
   {
    "duration": 24,
    "start_time": "2023-04-11T10:50:38.876Z"
   },
   {
    "duration": 2976,
    "start_time": "2023-04-11T10:50:38.905Z"
   },
   {
    "duration": 11,
    "start_time": "2023-04-11T10:50:41.889Z"
   },
   {
    "duration": 191,
    "start_time": "2023-04-11T10:50:41.902Z"
   },
   {
    "duration": 78,
    "start_time": "2023-04-11T10:50:42.094Z"
   },
   {
    "duration": 18,
    "start_time": "2023-04-11T10:50:42.173Z"
   },
   {
    "duration": 24,
    "start_time": "2023-04-11T10:50:42.193Z"
   },
   {
    "duration": 39,
    "start_time": "2023-04-11T10:50:42.220Z"
   },
   {
    "duration": 47,
    "start_time": "2023-04-11T10:50:42.260Z"
   },
   {
    "duration": 27,
    "start_time": "2023-04-11T10:50:42.309Z"
   },
   {
    "duration": 29,
    "start_time": "2023-04-11T10:50:42.337Z"
   },
   {
    "duration": 382,
    "start_time": "2023-04-11T10:50:42.368Z"
   },
   {
    "duration": 8,
    "start_time": "2023-04-11T10:50:42.751Z"
   },
   {
    "duration": 419,
    "start_time": "2023-04-11T10:50:42.760Z"
   },
   {
    "duration": 388,
    "start_time": "2023-04-11T10:50:43.181Z"
   },
   {
    "duration": 462,
    "start_time": "2023-04-11T10:50:43.571Z"
   },
   {
    "duration": 407,
    "start_time": "2023-04-11T10:50:44.035Z"
   },
   {
    "duration": 406,
    "start_time": "2023-04-11T10:50:44.443Z"
   },
   {
    "duration": 495,
    "start_time": "2023-04-11T10:50:44.851Z"
   },
   {
    "duration": 27,
    "start_time": "2023-04-11T10:50:45.347Z"
   },
   {
    "duration": 384,
    "start_time": "2023-04-11T10:50:45.388Z"
   },
   {
    "duration": 13,
    "start_time": "2023-04-11T10:50:45.774Z"
   },
   {
    "duration": 18,
    "start_time": "2023-04-11T10:50:45.789Z"
   },
   {
    "duration": 429,
    "start_time": "2023-04-11T10:50:45.809Z"
   },
   {
    "duration": 25,
    "start_time": "2023-04-11T10:50:46.239Z"
   },
   {
    "duration": 391,
    "start_time": "2023-04-11T10:50:46.268Z"
   },
   {
    "duration": 374,
    "start_time": "2023-04-11T10:50:46.661Z"
   },
   {
    "duration": 335,
    "start_time": "2023-04-11T10:50:47.038Z"
   },
   {
    "duration": 322,
    "start_time": "2023-04-11T10:50:47.375Z"
   },
   {
    "duration": 393,
    "start_time": "2023-04-11T10:50:47.699Z"
   },
   {
    "duration": 472,
    "start_time": "2023-04-11T10:50:48.095Z"
   },
   {
    "duration": 18,
    "start_time": "2023-04-11T10:50:48.569Z"
   },
   {
    "duration": 203,
    "start_time": "2023-04-11T10:50:48.590Z"
   },
   {
    "duration": 207,
    "start_time": "2023-04-11T10:50:48.795Z"
   },
   {
    "duration": 218,
    "start_time": "2023-04-11T10:50:49.004Z"
   },
   {
    "duration": 227,
    "start_time": "2023-04-11T10:50:49.224Z"
   },
   {
    "duration": 161,
    "start_time": "2023-04-11T10:50:49.453Z"
   },
   {
    "duration": 201,
    "start_time": "2023-04-11T10:50:49.615Z"
   },
   {
    "duration": 233,
    "start_time": "2023-04-11T10:50:49.818Z"
   },
   {
    "duration": 177,
    "start_time": "2023-04-11T10:50:50.053Z"
   },
   {
    "duration": 27,
    "start_time": "2023-04-11T10:50:50.232Z"
   },
   {
    "duration": 32,
    "start_time": "2023-04-11T10:50:50.261Z"
   },
   {
    "duration": 188,
    "start_time": "2023-04-11T10:50:50.295Z"
   },
   {
    "duration": 16,
    "start_time": "2023-04-11T11:44:52.127Z"
   },
   {
    "duration": 12,
    "start_time": "2023-04-11T11:45:07.699Z"
   },
   {
    "duration": 20,
    "start_time": "2023-04-11T11:45:27.193Z"
   },
   {
    "duration": 229,
    "start_time": "2023-04-11T11:45:30.831Z"
   },
   {
    "duration": 8,
    "start_time": "2023-04-11T11:45:47.747Z"
   },
   {
    "duration": 43,
    "start_time": "2023-04-11T11:52:13.665Z"
   },
   {
    "duration": 1051,
    "start_time": "2023-04-11T11:52:19.400Z"
   },
   {
    "duration": 17,
    "start_time": "2023-04-11T11:52:20.453Z"
   },
   {
    "duration": 25,
    "start_time": "2023-04-11T11:52:20.471Z"
   },
   {
    "duration": 2329,
    "start_time": "2023-04-11T11:52:20.498Z"
   },
   {
    "duration": 11,
    "start_time": "2023-04-11T11:52:22.831Z"
   },
   {
    "duration": 203,
    "start_time": "2023-04-11T11:52:22.844Z"
   },
   {
    "duration": 107,
    "start_time": "2023-04-11T11:52:23.050Z"
   },
   {
    "duration": 8,
    "start_time": "2023-04-11T11:52:23.158Z"
   },
   {
    "duration": 42,
    "start_time": "2023-04-11T11:52:23.168Z"
   },
   {
    "duration": 52,
    "start_time": "2023-04-11T11:52:23.212Z"
   },
   {
    "duration": 46,
    "start_time": "2023-04-11T11:52:23.267Z"
   },
   {
    "duration": 38,
    "start_time": "2023-04-11T11:52:23.315Z"
   },
   {
    "duration": 42,
    "start_time": "2023-04-11T11:52:23.355Z"
   },
   {
    "duration": 268,
    "start_time": "2023-04-11T11:52:23.401Z"
   },
   {
    "duration": 7,
    "start_time": "2023-04-11T11:52:23.671Z"
   },
   {
    "duration": 326,
    "start_time": "2023-04-11T11:52:23.680Z"
   },
   {
    "duration": 419,
    "start_time": "2023-04-11T11:52:24.008Z"
   },
   {
    "duration": 370,
    "start_time": "2023-04-11T11:52:24.429Z"
   },
   {
    "duration": 305,
    "start_time": "2023-04-11T11:52:24.800Z"
   },
   {
    "duration": 293,
    "start_time": "2023-04-11T11:52:25.107Z"
   },
   {
    "duration": 345,
    "start_time": "2023-04-11T11:52:25.403Z"
   },
   {
    "duration": 27,
    "start_time": "2023-04-11T11:52:25.750Z"
   },
   {
    "duration": 318,
    "start_time": "2023-04-11T11:52:25.780Z"
   },
   {
    "duration": 8,
    "start_time": "2023-04-11T11:52:26.100Z"
   },
   {
    "duration": 31,
    "start_time": "2023-04-11T11:52:26.110Z"
   },
   {
    "duration": 397,
    "start_time": "2023-04-11T11:52:26.144Z"
   },
   {
    "duration": 24,
    "start_time": "2023-04-11T11:52:26.543Z"
   },
   {
    "duration": 314,
    "start_time": "2023-04-11T11:52:26.569Z"
   },
   {
    "duration": 386,
    "start_time": "2023-04-11T11:52:26.885Z"
   },
   {
    "duration": 437,
    "start_time": "2023-04-11T11:52:27.273Z"
   },
   {
    "duration": 337,
    "start_time": "2023-04-11T11:52:27.712Z"
   },
   {
    "duration": 291,
    "start_time": "2023-04-11T11:52:28.051Z"
   },
   {
    "duration": 380,
    "start_time": "2023-04-11T11:52:28.345Z"
   },
   {
    "duration": 6,
    "start_time": "2023-04-11T11:52:28.727Z"
   },
   {
    "duration": 161,
    "start_time": "2023-04-11T11:52:28.735Z"
   },
   {
    "duration": 165,
    "start_time": "2023-04-11T11:52:28.898Z"
   },
   {
    "duration": 172,
    "start_time": "2023-04-11T11:52:29.065Z"
   },
   {
    "duration": 148,
    "start_time": "2023-04-11T11:52:29.239Z"
   },
   {
    "duration": 158,
    "start_time": "2023-04-11T11:52:29.394Z"
   },
   {
    "duration": 185,
    "start_time": "2023-04-11T11:52:29.554Z"
   },
   {
    "duration": 159,
    "start_time": "2023-04-11T11:52:29.742Z"
   },
   {
    "duration": 207,
    "start_time": "2023-04-11T11:52:29.903Z"
   },
   {
    "duration": 23,
    "start_time": "2023-04-11T11:52:30.112Z"
   },
   {
    "duration": 39,
    "start_time": "2023-04-11T11:52:30.137Z"
   },
   {
    "duration": 249,
    "start_time": "2023-04-11T11:52:30.178Z"
   },
   {
    "duration": 334,
    "start_time": "2023-04-11T11:52:40.925Z"
   },
   {
    "duration": 325,
    "start_time": "2023-04-11T11:52:48.891Z"
   },
   {
    "duration": 285,
    "start_time": "2023-04-11T11:53:06.065Z"
   },
   {
    "duration": 279,
    "start_time": "2023-04-11T11:53:12.291Z"
   },
   {
    "duration": 273,
    "start_time": "2023-04-11T11:53:38.113Z"
   },
   {
    "duration": 96,
    "start_time": "2023-04-11T12:41:29.673Z"
   },
   {
    "duration": 36,
    "start_time": "2023-04-11T12:41:29.771Z"
   },
   {
    "duration": 12,
    "start_time": "2023-04-11T12:41:29.809Z"
   },
   {
    "duration": 2402,
    "start_time": "2023-04-11T12:41:29.823Z"
   },
   {
    "duration": 8,
    "start_time": "2023-04-11T12:41:32.228Z"
   },
   {
    "duration": 171,
    "start_time": "2023-04-11T12:41:32.238Z"
   },
   {
    "duration": 83,
    "start_time": "2023-04-11T12:41:32.411Z"
   },
   {
    "duration": 6,
    "start_time": "2023-04-11T12:41:32.496Z"
   },
   {
    "duration": 9,
    "start_time": "2023-04-11T12:41:32.503Z"
   },
   {
    "duration": 24,
    "start_time": "2023-04-11T12:41:32.513Z"
   },
   {
    "duration": 26,
    "start_time": "2023-04-11T12:41:32.538Z"
   },
   {
    "duration": 52,
    "start_time": "2023-04-11T12:41:32.565Z"
   },
   {
    "duration": 25,
    "start_time": "2023-04-11T12:41:32.618Z"
   },
   {
    "duration": 276,
    "start_time": "2023-04-11T12:41:32.645Z"
   },
   {
    "duration": 6,
    "start_time": "2023-04-11T12:41:32.922Z"
   },
   {
    "duration": 304,
    "start_time": "2023-04-11T12:41:32.930Z"
   },
   {
    "duration": 285,
    "start_time": "2023-04-11T12:41:33.236Z"
   },
   {
    "duration": 338,
    "start_time": "2023-04-11T12:41:33.523Z"
   },
   {
    "duration": 334,
    "start_time": "2023-04-11T12:41:33.863Z"
   },
   {
    "duration": 301,
    "start_time": "2023-04-11T12:41:34.199Z"
   },
   {
    "duration": 299,
    "start_time": "2023-04-11T12:41:34.501Z"
   },
   {
    "duration": 25,
    "start_time": "2023-04-11T12:41:34.801Z"
   },
   {
    "duration": 291,
    "start_time": "2023-04-11T12:41:34.827Z"
   },
   {
    "duration": 5,
    "start_time": "2023-04-11T12:41:35.120Z"
   },
   {
    "duration": 17,
    "start_time": "2023-04-11T12:41:35.127Z"
   },
   {
    "duration": 367,
    "start_time": "2023-04-11T12:41:35.146Z"
   },
   {
    "duration": 20,
    "start_time": "2023-04-11T12:41:35.514Z"
   },
   {
    "duration": 272,
    "start_time": "2023-04-11T12:41:35.535Z"
   },
   {
    "duration": 270,
    "start_time": "2023-04-11T12:41:35.808Z"
   },
   {
    "duration": 258,
    "start_time": "2023-04-11T12:41:36.079Z"
   },
   {
    "duration": 312,
    "start_time": "2023-04-11T12:41:36.338Z"
   },
   {
    "duration": 281,
    "start_time": "2023-04-11T12:41:36.651Z"
   },
   {
    "duration": 366,
    "start_time": "2023-04-11T12:41:36.933Z"
   },
   {
    "duration": 6,
    "start_time": "2023-04-11T12:41:37.300Z"
   },
   {
    "duration": 153,
    "start_time": "2023-04-11T12:41:37.307Z"
   },
   {
    "duration": 163,
    "start_time": "2023-04-11T12:41:37.461Z"
   },
   {
    "duration": 151,
    "start_time": "2023-04-11T12:41:37.625Z"
   },
   {
    "duration": 147,
    "start_time": "2023-04-11T12:41:37.777Z"
   },
   {
    "duration": 133,
    "start_time": "2023-04-11T12:41:37.925Z"
   },
   {
    "duration": 144,
    "start_time": "2023-04-11T12:41:38.060Z"
   },
   {
    "duration": 145,
    "start_time": "2023-04-11T12:41:38.207Z"
   },
   {
    "duration": 141,
    "start_time": "2023-04-11T12:41:38.353Z"
   },
   {
    "duration": 20,
    "start_time": "2023-04-11T12:41:38.496Z"
   },
   {
    "duration": 11,
    "start_time": "2023-04-11T12:41:38.517Z"
   },
   {
    "duration": 149,
    "start_time": "2023-04-11T12:41:38.529Z"
   },
   {
    "duration": 3,
    "start_time": "2023-04-11T12:41:54.430Z"
   },
   {
    "duration": 111,
    "start_time": "2023-04-11T12:41:56.451Z"
   },
   {
    "duration": 629,
    "start_time": "2023-04-11T12:45:49.772Z"
   },
   {
    "duration": 110,
    "start_time": "2023-04-11T12:45:50.403Z"
   },
   {
    "duration": 13,
    "start_time": "2023-04-11T12:45:50.515Z"
   },
   {
    "duration": 20,
    "start_time": "2023-04-11T12:45:50.530Z"
   },
   {
    "duration": 35,
    "start_time": "2023-04-11T12:45:50.552Z"
   },
   {
    "duration": 10,
    "start_time": "2023-04-11T12:45:50.589Z"
   },
   {
    "duration": 153,
    "start_time": "2023-04-11T12:45:50.600Z"
   },
   {
    "duration": 70,
    "start_time": "2023-04-11T12:45:50.755Z"
   },
   {
    "duration": 6,
    "start_time": "2023-04-11T12:45:50.827Z"
   },
   {
    "duration": 22,
    "start_time": "2023-04-11T12:45:50.834Z"
   },
   {
    "duration": 32,
    "start_time": "2023-04-11T12:45:50.858Z"
   },
   {
    "duration": 29,
    "start_time": "2023-04-11T12:45:50.892Z"
   },
   {
    "duration": 21,
    "start_time": "2023-04-11T12:45:50.922Z"
   },
   {
    "duration": 21,
    "start_time": "2023-04-11T12:45:50.945Z"
   },
   {
    "duration": 279,
    "start_time": "2023-04-11T12:45:50.968Z"
   },
   {
    "duration": 7,
    "start_time": "2023-04-11T12:45:51.248Z"
   },
   {
    "duration": 345,
    "start_time": "2023-04-11T12:45:51.256Z"
   },
   {
    "duration": 287,
    "start_time": "2023-04-11T12:45:51.603Z"
   },
   {
    "duration": 355,
    "start_time": "2023-04-11T12:45:51.894Z"
   },
   {
    "duration": 293,
    "start_time": "2023-04-11T12:45:52.251Z"
   },
   {
    "duration": 289,
    "start_time": "2023-04-11T12:45:52.545Z"
   },
   {
    "duration": 307,
    "start_time": "2023-04-11T12:45:52.836Z"
   },
   {
    "duration": 26,
    "start_time": "2023-04-11T12:45:53.145Z"
   },
   {
    "duration": 345,
    "start_time": "2023-04-11T12:45:53.173Z"
   },
   {
    "duration": 6,
    "start_time": "2023-04-11T12:45:53.519Z"
   },
   {
    "duration": 12,
    "start_time": "2023-04-11T12:45:53.527Z"
   },
   {
    "duration": 369,
    "start_time": "2023-04-11T12:45:53.540Z"
   },
   {
    "duration": 24,
    "start_time": "2023-04-11T12:45:53.910Z"
   },
   {
    "duration": 355,
    "start_time": "2023-04-11T12:45:53.935Z"
   },
   {
    "duration": 324,
    "start_time": "2023-04-11T12:45:54.294Z"
   },
   {
    "duration": 267,
    "start_time": "2023-04-11T12:45:54.619Z"
   },
   {
    "duration": 277,
    "start_time": "2023-04-11T12:45:54.888Z"
   },
   {
    "duration": 287,
    "start_time": "2023-04-11T12:45:55.167Z"
   },
   {
    "duration": 354,
    "start_time": "2023-04-11T12:45:55.455Z"
   },
   {
    "duration": 6,
    "start_time": "2023-04-11T12:45:55.811Z"
   },
   {
    "duration": 137,
    "start_time": "2023-04-11T12:45:55.818Z"
   },
   {
    "duration": 165,
    "start_time": "2023-04-11T12:45:55.957Z"
   },
   {
    "duration": 143,
    "start_time": "2023-04-11T12:45:56.124Z"
   },
   {
    "duration": 139,
    "start_time": "2023-04-11T12:45:56.269Z"
   },
   {
    "duration": 135,
    "start_time": "2023-04-11T12:45:56.410Z"
   },
   {
    "duration": 158,
    "start_time": "2023-04-11T12:45:56.548Z"
   },
   {
    "duration": 150,
    "start_time": "2023-04-11T12:45:56.708Z"
   },
   {
    "duration": 143,
    "start_time": "2023-04-11T12:45:56.860Z"
   },
   {
    "duration": 22,
    "start_time": "2023-04-11T12:45:57.004Z"
   },
   {
    "duration": 11,
    "start_time": "2023-04-11T12:45:57.027Z"
   },
   {
    "duration": 162,
    "start_time": "2023-04-11T12:45:57.039Z"
   },
   {
    "duration": 2123,
    "start_time": "2023-04-11T12:47:02.419Z"
   },
   {
    "duration": 24,
    "start_time": "2023-04-11T12:47:11.871Z"
   },
   {
    "duration": 619,
    "start_time": "2023-04-11T12:47:18.271Z"
   },
   {
    "duration": 111,
    "start_time": "2023-04-11T12:47:18.892Z"
   },
   {
    "duration": 15,
    "start_time": "2023-04-11T12:47:19.005Z"
   },
   {
    "duration": 9,
    "start_time": "2023-04-11T12:47:19.022Z"
   },
   {
    "duration": 27,
    "start_time": "2023-04-11T12:47:19.032Z"
   },
   {
    "duration": 7,
    "start_time": "2023-04-11T12:47:19.061Z"
   },
   {
    "duration": 160,
    "start_time": "2023-04-11T12:47:19.069Z"
   },
   {
    "duration": 68,
    "start_time": "2023-04-11T12:47:19.231Z"
   },
   {
    "duration": 6,
    "start_time": "2023-04-11T12:47:19.301Z"
   },
   {
    "duration": 6,
    "start_time": "2023-04-11T12:47:19.309Z"
   },
   {
    "duration": 24,
    "start_time": "2023-04-11T12:47:19.317Z"
   },
   {
    "duration": 24,
    "start_time": "2023-04-11T12:47:19.342Z"
   },
   {
    "duration": 45,
    "start_time": "2023-04-11T12:47:19.368Z"
   },
   {
    "duration": 23,
    "start_time": "2023-04-11T12:47:19.415Z"
   },
   {
    "duration": 270,
    "start_time": "2023-04-11T12:47:19.440Z"
   },
   {
    "duration": 6,
    "start_time": "2023-04-11T12:47:19.711Z"
   },
   {
    "duration": 305,
    "start_time": "2023-04-11T12:47:19.719Z"
   },
   {
    "duration": 277,
    "start_time": "2023-04-11T12:47:20.025Z"
   },
   {
    "duration": 339,
    "start_time": "2023-04-11T12:47:20.304Z"
   },
   {
    "duration": 286,
    "start_time": "2023-04-11T12:47:20.645Z"
   },
   {
    "duration": 268,
    "start_time": "2023-04-11T12:47:20.932Z"
   },
   {
    "duration": 329,
    "start_time": "2023-04-11T12:47:21.201Z"
   },
   {
    "duration": 26,
    "start_time": "2023-04-11T12:47:21.532Z"
   },
   {
    "duration": 289,
    "start_time": "2023-04-11T12:47:21.560Z"
   },
   {
    "duration": 6,
    "start_time": "2023-04-11T12:47:21.850Z"
   },
   {
    "duration": 16,
    "start_time": "2023-04-11T12:47:21.857Z"
   },
   {
    "duration": 358,
    "start_time": "2023-04-11T12:47:21.874Z"
   },
   {
    "duration": 23,
    "start_time": "2023-04-11T12:47:22.236Z"
   },
   {
    "duration": 279,
    "start_time": "2023-04-11T12:47:22.260Z"
   },
   {
    "duration": 273,
    "start_time": "2023-04-11T12:47:22.541Z"
   },
   {
    "duration": 258,
    "start_time": "2023-04-11T12:47:22.816Z"
   },
   {
    "duration": 277,
    "start_time": "2023-04-11T12:47:23.076Z"
   },
   {
    "duration": 270,
    "start_time": "2023-04-11T12:47:23.354Z"
   },
   {
    "duration": 389,
    "start_time": "2023-04-11T12:47:23.626Z"
   },
   {
    "duration": 6,
    "start_time": "2023-04-11T12:47:24.016Z"
   },
   {
    "duration": 185,
    "start_time": "2023-04-11T12:47:24.023Z"
   },
   {
    "duration": 178,
    "start_time": "2023-04-11T12:47:24.210Z"
   },
   {
    "duration": 140,
    "start_time": "2023-04-11T12:47:24.389Z"
   },
   {
    "duration": 140,
    "start_time": "2023-04-11T12:47:24.531Z"
   },
   {
    "duration": 142,
    "start_time": "2023-04-11T12:47:24.673Z"
   },
   {
    "duration": 147,
    "start_time": "2023-04-11T12:47:24.817Z"
   },
   {
    "duration": 151,
    "start_time": "2023-04-11T12:47:24.966Z"
   },
   {
    "duration": 144,
    "start_time": "2023-04-11T12:47:25.119Z"
   },
   {
    "duration": 29,
    "start_time": "2023-04-11T12:47:25.266Z"
   },
   {
    "duration": 11,
    "start_time": "2023-04-11T12:47:25.296Z"
   },
   {
    "duration": 162,
    "start_time": "2023-04-11T12:47:25.309Z"
   },
   {
    "duration": 25,
    "start_time": "2023-04-11T12:47:42.431Z"
   },
   {
    "duration": 77,
    "start_time": "2023-04-11T12:48:01.060Z"
   },
   {
    "duration": 2531,
    "start_time": "2023-04-11T12:48:03.432Z"
   },
   {
    "duration": 2642,
    "start_time": "2023-04-11T12:53:04.300Z"
   },
   {
    "duration": 2628,
    "start_time": "2023-04-11T12:53:36.743Z"
   },
   {
    "duration": 2631,
    "start_time": "2023-04-11T12:54:02.722Z"
   },
   {
    "duration": 76,
    "start_time": "2023-04-11T12:56:16.652Z"
   },
   {
    "duration": 30,
    "start_time": "2023-04-11T12:56:26.453Z"
   },
   {
    "duration": 34,
    "start_time": "2023-04-11T12:56:47.518Z"
   },
   {
    "duration": 695,
    "start_time": "2023-04-11T12:57:03.800Z"
   },
   {
    "duration": 146,
    "start_time": "2023-04-11T12:57:04.497Z"
   },
   {
    "duration": 1955,
    "start_time": "2023-04-11T12:57:04.645Z"
   },
   {
    "duration": 15,
    "start_time": "2023-04-11T12:57:06.601Z"
   },
   {
    "duration": 8,
    "start_time": "2023-04-11T12:57:06.618Z"
   },
   {
    "duration": 97,
    "start_time": "2023-04-11T12:57:06.628Z"
   },
   {
    "duration": 0,
    "start_time": "2023-04-11T12:57:06.728Z"
   },
   {
    "duration": 0,
    "start_time": "2023-04-11T12:57:06.729Z"
   },
   {
    "duration": 0,
    "start_time": "2023-04-11T12:57:06.730Z"
   },
   {
    "duration": 0,
    "start_time": "2023-04-11T12:57:06.731Z"
   },
   {
    "duration": 0,
    "start_time": "2023-04-11T12:57:06.732Z"
   },
   {
    "duration": 0,
    "start_time": "2023-04-11T12:57:06.733Z"
   },
   {
    "duration": 0,
    "start_time": "2023-04-11T12:57:06.734Z"
   },
   {
    "duration": 0,
    "start_time": "2023-04-11T12:57:06.735Z"
   },
   {
    "duration": 0,
    "start_time": "2023-04-11T12:57:06.736Z"
   },
   {
    "duration": 0,
    "start_time": "2023-04-11T12:57:06.737Z"
   },
   {
    "duration": 0,
    "start_time": "2023-04-11T12:57:06.737Z"
   },
   {
    "duration": 0,
    "start_time": "2023-04-11T12:57:06.739Z"
   },
   {
    "duration": 0,
    "start_time": "2023-04-11T12:57:06.739Z"
   },
   {
    "duration": 0,
    "start_time": "2023-04-11T12:57:06.741Z"
   },
   {
    "duration": 0,
    "start_time": "2023-04-11T12:57:06.741Z"
   },
   {
    "duration": 0,
    "start_time": "2023-04-11T12:57:06.742Z"
   },
   {
    "duration": 0,
    "start_time": "2023-04-11T12:57:06.743Z"
   },
   {
    "duration": 0,
    "start_time": "2023-04-11T12:57:06.744Z"
   },
   {
    "duration": 0,
    "start_time": "2023-04-11T12:57:06.745Z"
   },
   {
    "duration": 0,
    "start_time": "2023-04-11T12:57:06.746Z"
   },
   {
    "duration": 0,
    "start_time": "2023-04-11T12:57:06.748Z"
   },
   {
    "duration": 0,
    "start_time": "2023-04-11T12:57:06.749Z"
   },
   {
    "duration": 0,
    "start_time": "2023-04-11T12:57:06.750Z"
   },
   {
    "duration": 0,
    "start_time": "2023-04-11T12:57:06.752Z"
   },
   {
    "duration": 0,
    "start_time": "2023-04-11T12:57:06.752Z"
   },
   {
    "duration": 0,
    "start_time": "2023-04-11T12:57:06.754Z"
   },
   {
    "duration": 0,
    "start_time": "2023-04-11T12:57:06.794Z"
   },
   {
    "duration": 0,
    "start_time": "2023-04-11T12:57:06.796Z"
   },
   {
    "duration": 0,
    "start_time": "2023-04-11T12:57:06.797Z"
   },
   {
    "duration": 0,
    "start_time": "2023-04-11T12:57:06.799Z"
   },
   {
    "duration": 0,
    "start_time": "2023-04-11T12:57:06.801Z"
   },
   {
    "duration": 0,
    "start_time": "2023-04-11T12:57:06.803Z"
   },
   {
    "duration": 0,
    "start_time": "2023-04-11T12:57:06.803Z"
   },
   {
    "duration": 0,
    "start_time": "2023-04-11T12:57:06.805Z"
   },
   {
    "duration": 0,
    "start_time": "2023-04-11T12:57:06.806Z"
   },
   {
    "duration": 0,
    "start_time": "2023-04-11T12:57:06.807Z"
   },
   {
    "duration": 0,
    "start_time": "2023-04-11T12:57:06.808Z"
   },
   {
    "duration": 0,
    "start_time": "2023-04-11T12:57:06.809Z"
   },
   {
    "duration": 0,
    "start_time": "2023-04-11T12:57:06.810Z"
   },
   {
    "duration": 0,
    "start_time": "2023-04-11T12:57:06.811Z"
   },
   {
    "duration": 0,
    "start_time": "2023-04-11T12:57:06.812Z"
   },
   {
    "duration": 29,
    "start_time": "2023-04-11T12:57:57.253Z"
   },
   {
    "duration": 270,
    "start_time": "2023-04-11T12:58:09.653Z"
   },
   {
    "duration": 656,
    "start_time": "2023-04-11T12:58:27.373Z"
   },
   {
    "duration": 129,
    "start_time": "2023-04-11T12:58:28.032Z"
   },
   {
    "duration": 1829,
    "start_time": "2023-04-11T12:58:28.163Z"
   },
   {
    "duration": 15,
    "start_time": "2023-04-11T12:58:29.994Z"
   },
   {
    "duration": 39,
    "start_time": "2023-04-11T12:58:30.012Z"
   },
   {
    "duration": 49,
    "start_time": "2023-04-11T12:58:30.053Z"
   },
   {
    "duration": 21,
    "start_time": "2023-04-11T12:58:30.104Z"
   },
   {
    "duration": 174,
    "start_time": "2023-04-11T12:58:30.127Z"
   },
   {
    "duration": 71,
    "start_time": "2023-04-11T12:58:30.303Z"
   },
   {
    "duration": 21,
    "start_time": "2023-04-11T12:58:30.376Z"
   },
   {
    "duration": 22,
    "start_time": "2023-04-11T12:58:30.398Z"
   },
   {
    "duration": 53,
    "start_time": "2023-04-11T12:58:30.422Z"
   },
   {
    "duration": 27,
    "start_time": "2023-04-11T12:58:30.476Z"
   },
   {
    "duration": 53,
    "start_time": "2023-04-11T12:58:30.507Z"
   },
   {
    "duration": 45,
    "start_time": "2023-04-11T12:58:30.563Z"
   },
   {
    "duration": 303,
    "start_time": "2023-04-11T12:58:30.610Z"
   },
   {
    "duration": 8,
    "start_time": "2023-04-11T12:58:30.914Z"
   },
   {
    "duration": 350,
    "start_time": "2023-04-11T12:58:30.924Z"
   },
   {
    "duration": 357,
    "start_time": "2023-04-11T12:58:31.276Z"
   },
   {
    "duration": 449,
    "start_time": "2023-04-11T12:58:31.635Z"
   },
   {
    "duration": 344,
    "start_time": "2023-04-11T12:58:32.086Z"
   },
   {
    "duration": 317,
    "start_time": "2023-04-11T12:58:32.432Z"
   },
   {
    "duration": 323,
    "start_time": "2023-04-11T12:58:32.750Z"
   },
   {
    "duration": 38,
    "start_time": "2023-04-11T12:58:33.075Z"
   },
   {
    "duration": 312,
    "start_time": "2023-04-11T12:58:33.115Z"
   },
   {
    "duration": 8,
    "start_time": "2023-04-11T12:58:33.429Z"
   },
   {
    "duration": 14,
    "start_time": "2023-04-11T12:58:33.439Z"
   },
   {
    "duration": 322,
    "start_time": "2023-04-11T12:58:33.455Z"
   },
   {
    "duration": 32,
    "start_time": "2023-04-11T12:58:33.779Z"
   },
   {
    "duration": 445,
    "start_time": "2023-04-11T12:58:33.812Z"
   },
   {
    "duration": 340,
    "start_time": "2023-04-11T12:58:34.259Z"
   },
   {
    "duration": 295,
    "start_time": "2023-04-11T12:58:34.601Z"
   },
   {
    "duration": 312,
    "start_time": "2023-04-11T12:58:34.898Z"
   },
   {
    "duration": 293,
    "start_time": "2023-04-11T12:58:35.212Z"
   },
   {
    "duration": 414,
    "start_time": "2023-04-11T12:58:35.507Z"
   },
   {
    "duration": 7,
    "start_time": "2023-04-11T12:58:35.922Z"
   },
   {
    "duration": 151,
    "start_time": "2023-04-11T12:58:35.931Z"
   },
   {
    "duration": 164,
    "start_time": "2023-04-11T12:58:36.084Z"
   },
   {
    "duration": 148,
    "start_time": "2023-04-11T12:58:36.249Z"
   },
   {
    "duration": 155,
    "start_time": "2023-04-11T12:58:36.399Z"
   },
   {
    "duration": 147,
    "start_time": "2023-04-11T12:58:36.557Z"
   },
   {
    "duration": 197,
    "start_time": "2023-04-11T12:58:36.707Z"
   },
   {
    "duration": 169,
    "start_time": "2023-04-11T12:58:36.906Z"
   },
   {
    "duration": 158,
    "start_time": "2023-04-11T12:58:37.077Z"
   },
   {
    "duration": 34,
    "start_time": "2023-04-11T12:58:37.237Z"
   },
   {
    "duration": 30,
    "start_time": "2023-04-11T12:58:37.273Z"
   },
   {
    "duration": 165,
    "start_time": "2023-04-11T12:58:37.305Z"
   },
   {
    "duration": 42,
    "start_time": "2023-04-11T13:00:54.174Z"
   },
   {
    "duration": 133,
    "start_time": "2023-04-11T13:01:27.906Z"
   },
   {
    "duration": 34,
    "start_time": "2023-04-11T13:01:37.400Z"
   },
   {
    "duration": 96,
    "start_time": "2023-04-11T13:01:48.857Z"
   },
   {
    "duration": 36,
    "start_time": "2023-04-11T13:03:43.073Z"
   },
   {
    "duration": 27,
    "start_time": "2023-04-11T13:03:49.014Z"
   },
   {
    "duration": 25,
    "start_time": "2023-04-11T13:05:02.532Z"
   },
   {
    "duration": 27,
    "start_time": "2023-04-11T13:05:06.833Z"
   },
   {
    "duration": 18,
    "start_time": "2023-04-11T13:07:22.671Z"
   },
   {
    "duration": 39,
    "start_time": "2023-04-11T13:07:30.809Z"
   },
   {
    "duration": 27,
    "start_time": "2023-04-11T13:10:27.736Z"
   },
   {
    "duration": 95,
    "start_time": "2023-04-11T13:10:58.352Z"
   },
   {
    "duration": 300,
    "start_time": "2023-04-11T13:11:15.880Z"
   },
   {
    "duration": 13,
    "start_time": "2023-04-11T13:11:45.480Z"
   },
   {
    "duration": 31,
    "start_time": "2023-04-11T13:13:12.224Z"
   },
   {
    "duration": 26,
    "start_time": "2023-04-11T13:14:54.583Z"
   },
   {
    "duration": 27,
    "start_time": "2023-04-11T13:15:07.843Z"
   },
   {
    "duration": 25,
    "start_time": "2023-04-11T13:15:50.323Z"
   },
   {
    "duration": 627,
    "start_time": "2023-04-11T13:15:57.784Z"
   },
   {
    "duration": 116,
    "start_time": "2023-04-11T13:15:58.413Z"
   },
   {
    "duration": 1841,
    "start_time": "2023-04-11T13:15:58.531Z"
   },
   {
    "duration": 15,
    "start_time": "2023-04-11T13:16:00.373Z"
   },
   {
    "duration": 17,
    "start_time": "2023-04-11T13:16:00.391Z"
   },
   {
    "duration": 54,
    "start_time": "2023-04-11T13:16:00.410Z"
   },
   {
    "duration": 32,
    "start_time": "2023-04-11T13:16:00.465Z"
   },
   {
    "duration": 179,
    "start_time": "2023-04-11T13:16:00.498Z"
   },
   {
    "duration": 83,
    "start_time": "2023-04-11T13:16:00.679Z"
   },
   {
    "duration": 8,
    "start_time": "2023-04-11T13:16:00.764Z"
   },
   {
    "duration": 39,
    "start_time": "2023-04-11T13:16:00.774Z"
   },
   {
    "duration": 70,
    "start_time": "2023-04-11T13:16:00.815Z"
   },
   {
    "duration": 37,
    "start_time": "2023-04-11T13:16:00.888Z"
   },
   {
    "duration": 23,
    "start_time": "2023-04-11T13:16:00.928Z"
   },
   {
    "duration": 48,
    "start_time": "2023-04-11T13:16:00.953Z"
   },
   {
    "duration": 314,
    "start_time": "2023-04-11T13:16:01.003Z"
   },
   {
    "duration": 8,
    "start_time": "2023-04-11T13:16:01.319Z"
   },
   {
    "duration": 448,
    "start_time": "2023-04-11T13:16:01.328Z"
   },
   {
    "duration": 293,
    "start_time": "2023-04-11T13:16:01.779Z"
   },
   {
    "duration": 398,
    "start_time": "2023-04-11T13:16:02.074Z"
   },
   {
    "duration": 306,
    "start_time": "2023-04-11T13:16:02.474Z"
   },
   {
    "duration": 314,
    "start_time": "2023-04-11T13:16:02.782Z"
   },
   {
    "duration": 306,
    "start_time": "2023-04-11T13:16:03.098Z"
   },
   {
    "duration": 30,
    "start_time": "2023-04-11T13:16:03.406Z"
   },
   {
    "duration": 312,
    "start_time": "2023-04-11T13:16:03.437Z"
   },
   {
    "duration": 7,
    "start_time": "2023-04-11T13:16:03.750Z"
   },
   {
    "duration": 23,
    "start_time": "2023-04-11T13:16:03.758Z"
   },
   {
    "duration": 288,
    "start_time": "2023-04-11T13:16:03.782Z"
   },
   {
    "duration": 31,
    "start_time": "2023-04-11T13:16:04.072Z"
   },
   {
    "duration": 452,
    "start_time": "2023-04-11T13:16:04.104Z"
   },
   {
    "duration": 307,
    "start_time": "2023-04-11T13:16:04.558Z"
   },
   {
    "duration": 282,
    "start_time": "2023-04-11T13:16:04.866Z"
   },
   {
    "duration": 282,
    "start_time": "2023-04-11T13:16:05.149Z"
   },
   {
    "duration": 284,
    "start_time": "2023-04-11T13:16:05.433Z"
   },
   {
    "duration": 381,
    "start_time": "2023-04-11T13:16:05.718Z"
   },
   {
    "duration": 6,
    "start_time": "2023-04-11T13:16:06.101Z"
   },
   {
    "duration": 144,
    "start_time": "2023-04-11T13:16:06.109Z"
   },
   {
    "duration": 151,
    "start_time": "2023-04-11T13:16:06.254Z"
   },
   {
    "duration": 139,
    "start_time": "2023-04-11T13:16:06.407Z"
   },
   {
    "duration": 135,
    "start_time": "2023-04-11T13:16:06.547Z"
   },
   {
    "duration": 134,
    "start_time": "2023-04-11T13:16:06.693Z"
   },
   {
    "duration": 157,
    "start_time": "2023-04-11T13:16:06.829Z"
   },
   {
    "duration": 150,
    "start_time": "2023-04-11T13:16:06.987Z"
   },
   {
    "duration": 147,
    "start_time": "2023-04-11T13:16:07.139Z"
   },
   {
    "duration": 21,
    "start_time": "2023-04-11T13:16:07.293Z"
   },
   {
    "duration": 9,
    "start_time": "2023-04-11T13:16:07.315Z"
   },
   {
    "duration": 171,
    "start_time": "2023-04-11T13:16:07.326Z"
   },
   {
    "duration": 26,
    "start_time": "2023-04-11T13:16:42.192Z"
   },
   {
    "duration": 132,
    "start_time": "2023-04-11T13:17:01.443Z"
   },
   {
    "duration": 27,
    "start_time": "2023-04-11T13:17:50.182Z"
   },
   {
    "duration": 585,
    "start_time": "2023-04-11T13:18:04.423Z"
   },
   {
    "duration": 119,
    "start_time": "2023-04-11T13:18:05.010Z"
   },
   {
    "duration": 1888,
    "start_time": "2023-04-11T13:18:05.131Z"
   },
   {
    "duration": 15,
    "start_time": "2023-04-11T13:18:07.021Z"
   },
   {
    "duration": 7,
    "start_time": "2023-04-11T13:18:07.038Z"
   },
   {
    "duration": 29,
    "start_time": "2023-04-11T13:18:07.046Z"
   },
   {
    "duration": 6,
    "start_time": "2023-04-11T13:18:07.076Z"
   },
   {
    "duration": 160,
    "start_time": "2023-04-11T13:18:07.094Z"
   },
   {
    "duration": 76,
    "start_time": "2023-04-11T13:18:07.255Z"
   },
   {
    "duration": 6,
    "start_time": "2023-04-11T13:18:07.333Z"
   },
   {
    "duration": 25,
    "start_time": "2023-04-11T13:18:07.340Z"
   },
   {
    "duration": 33,
    "start_time": "2023-04-11T13:18:07.367Z"
   },
   {
    "duration": 30,
    "start_time": "2023-04-11T13:18:07.401Z"
   },
   {
    "duration": 31,
    "start_time": "2023-04-11T13:18:07.435Z"
   },
   {
    "duration": 39,
    "start_time": "2023-04-11T13:18:07.468Z"
   },
   {
    "duration": 259,
    "start_time": "2023-04-11T13:18:07.509Z"
   },
   {
    "duration": 6,
    "start_time": "2023-04-11T13:18:07.769Z"
   },
   {
    "duration": 299,
    "start_time": "2023-04-11T13:18:07.777Z"
   },
   {
    "duration": 275,
    "start_time": "2023-04-11T13:18:08.077Z"
   },
   {
    "duration": 373,
    "start_time": "2023-04-11T13:18:08.353Z"
   },
   {
    "duration": 286,
    "start_time": "2023-04-11T13:18:08.728Z"
   },
   {
    "duration": 281,
    "start_time": "2023-04-11T13:18:09.015Z"
   },
   {
    "duration": 286,
    "start_time": "2023-04-11T13:18:09.298Z"
   },
   {
    "duration": 30,
    "start_time": "2023-04-11T13:18:09.586Z"
   },
   {
    "duration": 276,
    "start_time": "2023-04-11T13:18:09.618Z"
   },
   {
    "duration": 7,
    "start_time": "2023-04-11T13:18:09.896Z"
   },
   {
    "duration": 9,
    "start_time": "2023-04-11T13:18:09.904Z"
   },
   {
    "duration": 280,
    "start_time": "2023-04-11T13:18:09.914Z"
   },
   {
    "duration": 21,
    "start_time": "2023-04-11T13:18:10.195Z"
   },
   {
    "duration": 364,
    "start_time": "2023-04-11T13:18:10.218Z"
   },
   {
    "duration": 277,
    "start_time": "2023-04-11T13:18:10.584Z"
   },
   {
    "duration": 266,
    "start_time": "2023-04-11T13:18:10.863Z"
   },
   {
    "duration": 294,
    "start_time": "2023-04-11T13:18:11.131Z"
   },
   {
    "duration": 284,
    "start_time": "2023-04-11T13:18:11.426Z"
   },
   {
    "duration": 377,
    "start_time": "2023-04-11T13:18:11.711Z"
   },
   {
    "duration": 6,
    "start_time": "2023-04-11T13:18:12.093Z"
   },
   {
    "duration": 138,
    "start_time": "2023-04-11T13:18:12.101Z"
   },
   {
    "duration": 144,
    "start_time": "2023-04-11T13:18:12.240Z"
   },
   {
    "duration": 146,
    "start_time": "2023-04-11T13:18:12.386Z"
   },
   {
    "duration": 137,
    "start_time": "2023-04-11T13:18:12.533Z"
   },
   {
    "duration": 132,
    "start_time": "2023-04-11T13:18:12.673Z"
   },
   {
    "duration": 147,
    "start_time": "2023-04-11T13:18:12.807Z"
   },
   {
    "duration": 151,
    "start_time": "2023-04-11T13:18:12.956Z"
   },
   {
    "duration": 148,
    "start_time": "2023-04-11T13:18:13.109Z"
   },
   {
    "duration": 22,
    "start_time": "2023-04-11T13:18:13.258Z"
   },
   {
    "duration": 20,
    "start_time": "2023-04-11T13:18:13.282Z"
   },
   {
    "duration": 154,
    "start_time": "2023-04-11T13:18:13.303Z"
   },
   {
    "duration": 615,
    "start_time": "2023-04-11T13:23:30.045Z"
   },
   {
    "duration": 131,
    "start_time": "2023-04-11T13:23:30.663Z"
   },
   {
    "duration": 1936,
    "start_time": "2023-04-11T13:23:30.796Z"
   },
   {
    "duration": 16,
    "start_time": "2023-04-11T13:23:32.734Z"
   },
   {
    "duration": 9,
    "start_time": "2023-04-11T13:23:32.753Z"
   },
   {
    "duration": 49,
    "start_time": "2023-04-11T13:23:32.763Z"
   },
   {
    "duration": 8,
    "start_time": "2023-04-11T13:23:32.814Z"
   },
   {
    "duration": 192,
    "start_time": "2023-04-11T13:23:32.823Z"
   },
   {
    "duration": 79,
    "start_time": "2023-04-11T13:23:33.016Z"
   },
   {
    "duration": 7,
    "start_time": "2023-04-11T13:23:33.096Z"
   },
   {
    "duration": 10,
    "start_time": "2023-04-11T13:23:33.105Z"
   },
   {
    "duration": 31,
    "start_time": "2023-04-11T13:23:33.116Z"
   },
   {
    "duration": 47,
    "start_time": "2023-04-11T13:23:33.148Z"
   },
   {
    "duration": 27,
    "start_time": "2023-04-11T13:23:33.198Z"
   },
   {
    "duration": 26,
    "start_time": "2023-04-11T13:23:33.226Z"
   },
   {
    "duration": 314,
    "start_time": "2023-04-11T13:23:33.254Z"
   },
   {
    "duration": 7,
    "start_time": "2023-04-11T13:23:33.569Z"
   },
   {
    "duration": 339,
    "start_time": "2023-04-11T13:23:33.578Z"
   },
   {
    "duration": 369,
    "start_time": "2023-04-11T13:23:33.919Z"
   },
   {
    "duration": 407,
    "start_time": "2023-04-11T13:23:34.290Z"
   },
   {
    "duration": 329,
    "start_time": "2023-04-11T13:23:34.698Z"
   },
   {
    "duration": 299,
    "start_time": "2023-04-11T13:23:35.029Z"
   },
   {
    "duration": 313,
    "start_time": "2023-04-11T13:23:35.330Z"
   },
   {
    "duration": 25,
    "start_time": "2023-04-11T13:23:35.645Z"
   },
   {
    "duration": 293,
    "start_time": "2023-04-11T13:23:35.672Z"
   },
   {
    "duration": 6,
    "start_time": "2023-04-11T13:23:35.967Z"
   },
   {
    "duration": 21,
    "start_time": "2023-04-11T13:23:35.975Z"
   },
   {
    "duration": 287,
    "start_time": "2023-04-11T13:23:35.999Z"
   },
   {
    "duration": 26,
    "start_time": "2023-04-11T13:23:36.288Z"
   },
   {
    "duration": 400,
    "start_time": "2023-04-11T13:23:36.316Z"
   },
   {
    "duration": 293,
    "start_time": "2023-04-11T13:23:36.717Z"
   },
   {
    "duration": 282,
    "start_time": "2023-04-11T13:23:37.012Z"
   },
   {
    "duration": 282,
    "start_time": "2023-04-11T13:23:37.295Z"
   },
   {
    "duration": 288,
    "start_time": "2023-04-11T13:23:37.579Z"
   },
   {
    "duration": 415,
    "start_time": "2023-04-11T13:23:37.869Z"
   },
   {
    "duration": 13,
    "start_time": "2023-04-11T13:23:38.286Z"
   },
   {
    "duration": 141,
    "start_time": "2023-04-11T13:23:38.300Z"
   },
   {
    "duration": 162,
    "start_time": "2023-04-11T13:23:38.443Z"
   },
   {
    "duration": 150,
    "start_time": "2023-04-11T13:23:38.607Z"
   },
   {
    "duration": 143,
    "start_time": "2023-04-11T13:23:38.759Z"
   },
   {
    "duration": 142,
    "start_time": "2023-04-11T13:23:38.905Z"
   },
   {
    "duration": 149,
    "start_time": "2023-04-11T13:23:39.049Z"
   },
   {
    "duration": 157,
    "start_time": "2023-04-11T13:23:39.199Z"
   },
   {
    "duration": 159,
    "start_time": "2023-04-11T13:23:39.357Z"
   },
   {
    "duration": 21,
    "start_time": "2023-04-11T13:23:39.518Z"
   },
   {
    "duration": 10,
    "start_time": "2023-04-11T13:23:39.540Z"
   },
   {
    "duration": 161,
    "start_time": "2023-04-11T13:23:39.551Z"
   },
   {
    "duration": 625,
    "start_time": "2023-04-11T13:27:39.511Z"
   },
   {
    "duration": 9,
    "start_time": "2023-04-11T13:27:56.179Z"
   },
   {
    "duration": 11,
    "start_time": "2023-04-11T13:28:14.142Z"
   },
   {
    "duration": 11,
    "start_time": "2023-04-11T13:29:25.397Z"
   },
   {
    "duration": 9,
    "start_time": "2023-04-11T13:29:41.669Z"
   },
   {
    "duration": 10,
    "start_time": "2023-04-11T13:29:45.870Z"
   },
   {
    "duration": 9,
    "start_time": "2023-04-11T13:30:02.651Z"
   },
   {
    "duration": 14,
    "start_time": "2023-04-11T13:35:04.541Z"
   },
   {
    "duration": 16,
    "start_time": "2023-04-11T13:35:24.141Z"
   },
   {
    "duration": 9,
    "start_time": "2023-04-11T13:35:58.961Z"
   },
   {
    "duration": 9,
    "start_time": "2023-04-11T13:36:05.257Z"
   },
   {
    "duration": 615,
    "start_time": "2023-04-11T13:36:24.922Z"
   },
   {
    "duration": 112,
    "start_time": "2023-04-11T13:36:25.539Z"
   },
   {
    "duration": 1879,
    "start_time": "2023-04-11T13:36:25.652Z"
   },
   {
    "duration": 14,
    "start_time": "2023-04-11T13:36:27.533Z"
   },
   {
    "duration": 13,
    "start_time": "2023-04-11T13:36:27.549Z"
   },
   {
    "duration": 37,
    "start_time": "2023-04-11T13:36:27.563Z"
   },
   {
    "duration": 8,
    "start_time": "2023-04-11T13:36:27.602Z"
   },
   {
    "duration": 151,
    "start_time": "2023-04-11T13:36:27.611Z"
   },
   {
    "duration": 89,
    "start_time": "2023-04-11T13:36:27.764Z"
   },
   {
    "duration": 7,
    "start_time": "2023-04-11T13:36:27.854Z"
   },
   {
    "duration": 76,
    "start_time": "2023-04-11T13:36:27.863Z"
   },
   {
    "duration": 0,
    "start_time": "2023-04-11T13:36:27.941Z"
   },
   {
    "duration": 0,
    "start_time": "2023-04-11T13:36:27.943Z"
   },
   {
    "duration": 0,
    "start_time": "2023-04-11T13:36:27.944Z"
   },
   {
    "duration": 0,
    "start_time": "2023-04-11T13:36:27.945Z"
   },
   {
    "duration": 0,
    "start_time": "2023-04-11T13:36:27.946Z"
   },
   {
    "duration": 0,
    "start_time": "2023-04-11T13:36:27.947Z"
   },
   {
    "duration": 0,
    "start_time": "2023-04-11T13:36:27.948Z"
   },
   {
    "duration": 0,
    "start_time": "2023-04-11T13:36:27.948Z"
   },
   {
    "duration": 0,
    "start_time": "2023-04-11T13:36:27.949Z"
   },
   {
    "duration": 0,
    "start_time": "2023-04-11T13:36:27.950Z"
   },
   {
    "duration": 0,
    "start_time": "2023-04-11T13:36:27.951Z"
   },
   {
    "duration": 0,
    "start_time": "2023-04-11T13:36:27.951Z"
   },
   {
    "duration": 0,
    "start_time": "2023-04-11T13:36:27.953Z"
   },
   {
    "duration": 0,
    "start_time": "2023-04-11T13:36:27.953Z"
   },
   {
    "duration": 0,
    "start_time": "2023-04-11T13:36:27.954Z"
   },
   {
    "duration": 0,
    "start_time": "2023-04-11T13:36:27.955Z"
   },
   {
    "duration": 0,
    "start_time": "2023-04-11T13:36:27.957Z"
   },
   {
    "duration": 0,
    "start_time": "2023-04-11T13:36:27.957Z"
   },
   {
    "duration": 0,
    "start_time": "2023-04-11T13:36:27.958Z"
   },
   {
    "duration": 0,
    "start_time": "2023-04-11T13:36:27.959Z"
   },
   {
    "duration": 0,
    "start_time": "2023-04-11T13:36:27.961Z"
   },
   {
    "duration": 0,
    "start_time": "2023-04-11T13:36:27.961Z"
   },
   {
    "duration": 0,
    "start_time": "2023-04-11T13:36:27.962Z"
   },
   {
    "duration": 0,
    "start_time": "2023-04-11T13:36:27.994Z"
   },
   {
    "duration": 0,
    "start_time": "2023-04-11T13:36:27.995Z"
   },
   {
    "duration": 0,
    "start_time": "2023-04-11T13:36:27.996Z"
   },
   {
    "duration": 0,
    "start_time": "2023-04-11T13:36:27.997Z"
   },
   {
    "duration": 0,
    "start_time": "2023-04-11T13:36:27.998Z"
   },
   {
    "duration": 0,
    "start_time": "2023-04-11T13:36:28.000Z"
   },
   {
    "duration": 0,
    "start_time": "2023-04-11T13:36:28.001Z"
   },
   {
    "duration": 0,
    "start_time": "2023-04-11T13:36:28.002Z"
   },
   {
    "duration": 0,
    "start_time": "2023-04-11T13:36:28.003Z"
   },
   {
    "duration": 0,
    "start_time": "2023-04-11T13:36:28.004Z"
   },
   {
    "duration": 0,
    "start_time": "2023-04-11T13:36:28.005Z"
   },
   {
    "duration": 0,
    "start_time": "2023-04-11T13:36:28.006Z"
   },
   {
    "duration": 0,
    "start_time": "2023-04-11T13:36:28.007Z"
   },
   {
    "duration": 0,
    "start_time": "2023-04-11T13:36:28.008Z"
   },
   {
    "duration": 25,
    "start_time": "2023-04-11T13:36:56.941Z"
   },
   {
    "duration": 23,
    "start_time": "2023-04-11T13:37:30.201Z"
   },
   {
    "duration": 9,
    "start_time": "2023-04-11T13:37:41.691Z"
   },
   {
    "duration": 11,
    "start_time": "2023-04-11T13:38:43.082Z"
   },
   {
    "duration": 9,
    "start_time": "2023-04-11T13:38:50.556Z"
   },
   {
    "duration": 582,
    "start_time": "2023-04-11T13:39:12.346Z"
   },
   {
    "duration": 115,
    "start_time": "2023-04-11T13:39:12.930Z"
   },
   {
    "duration": 1821,
    "start_time": "2023-04-11T13:39:13.047Z"
   },
   {
    "duration": 13,
    "start_time": "2023-04-11T13:39:14.869Z"
   },
   {
    "duration": 8,
    "start_time": "2023-04-11T13:39:14.884Z"
   },
   {
    "duration": 27,
    "start_time": "2023-04-11T13:39:14.893Z"
   },
   {
    "duration": 7,
    "start_time": "2023-04-11T13:39:14.921Z"
   },
   {
    "duration": 149,
    "start_time": "2023-04-11T13:39:14.929Z"
   },
   {
    "duration": 72,
    "start_time": "2023-04-11T13:39:15.080Z"
   },
   {
    "duration": 7,
    "start_time": "2023-04-11T13:39:15.153Z"
   },
   {
    "duration": 9,
    "start_time": "2023-04-11T13:39:15.161Z"
   },
   {
    "duration": 22,
    "start_time": "2023-04-11T13:39:15.172Z"
   },
   {
    "duration": 23,
    "start_time": "2023-04-11T13:39:15.196Z"
   },
   {
    "duration": 23,
    "start_time": "2023-04-11T13:39:15.222Z"
   },
   {
    "duration": 20,
    "start_time": "2023-04-11T13:39:15.247Z"
   },
   {
    "duration": 45,
    "start_time": "2023-04-11T13:39:15.268Z"
   },
   {
    "duration": 261,
    "start_time": "2023-04-11T13:39:15.314Z"
   },
   {
    "duration": 6,
    "start_time": "2023-04-11T13:39:15.576Z"
   },
   {
    "duration": 293,
    "start_time": "2023-04-11T13:39:15.583Z"
   },
   {
    "duration": 262,
    "start_time": "2023-04-11T13:39:15.878Z"
   },
   {
    "duration": 380,
    "start_time": "2023-04-11T13:39:16.142Z"
   },
   {
    "duration": 310,
    "start_time": "2023-04-11T13:39:16.524Z"
   },
   {
    "duration": 284,
    "start_time": "2023-04-11T13:39:16.836Z"
   },
   {
    "duration": 302,
    "start_time": "2023-04-11T13:39:17.121Z"
   },
   {
    "duration": 32,
    "start_time": "2023-04-11T13:39:17.425Z"
   },
   {
    "duration": 282,
    "start_time": "2023-04-11T13:39:17.458Z"
   },
   {
    "duration": 7,
    "start_time": "2023-04-11T13:39:17.741Z"
   },
   {
    "duration": 21,
    "start_time": "2023-04-11T13:39:17.749Z"
   },
   {
    "duration": 280,
    "start_time": "2023-04-11T13:39:17.771Z"
   },
   {
    "duration": 22,
    "start_time": "2023-04-11T13:39:18.053Z"
   },
   {
    "duration": 373,
    "start_time": "2023-04-11T13:39:18.076Z"
   },
   {
    "duration": 277,
    "start_time": "2023-04-11T13:39:18.451Z"
   },
   {
    "duration": 265,
    "start_time": "2023-04-11T13:39:18.729Z"
   },
   {
    "duration": 260,
    "start_time": "2023-04-11T13:39:18.995Z"
   },
   {
    "duration": 272,
    "start_time": "2023-04-11T13:39:19.257Z"
   },
   {
    "duration": 370,
    "start_time": "2023-04-11T13:39:19.531Z"
   },
   {
    "duration": 6,
    "start_time": "2023-04-11T13:39:19.903Z"
   },
   {
    "duration": 169,
    "start_time": "2023-04-11T13:39:19.911Z"
   },
   {
    "duration": 165,
    "start_time": "2023-04-11T13:39:20.082Z"
   },
   {
    "duration": 146,
    "start_time": "2023-04-11T13:39:20.249Z"
   },
   {
    "duration": 148,
    "start_time": "2023-04-11T13:39:20.399Z"
   },
   {
    "duration": 132,
    "start_time": "2023-04-11T13:39:20.548Z"
   },
   {
    "duration": 149,
    "start_time": "2023-04-11T13:39:20.681Z"
   },
   {
    "duration": 147,
    "start_time": "2023-04-11T13:39:20.831Z"
   },
   {
    "duration": 140,
    "start_time": "2023-04-11T13:39:20.980Z"
   },
   {
    "duration": 20,
    "start_time": "2023-04-11T13:39:21.122Z"
   },
   {
    "duration": 27,
    "start_time": "2023-04-11T13:39:21.144Z"
   },
   {
    "duration": 147,
    "start_time": "2023-04-11T13:39:21.173Z"
   },
   {
    "duration": 22,
    "start_time": "2023-04-11T13:40:53.815Z"
   },
   {
    "duration": 14,
    "start_time": "2023-04-11T13:41:47.047Z"
   },
   {
    "duration": 11,
    "start_time": "2023-04-11T13:45:10.979Z"
   },
   {
    "duration": 19,
    "start_time": "2023-04-11T13:45:18.486Z"
   },
   {
    "duration": 10,
    "start_time": "2023-04-11T13:45:51.267Z"
   },
   {
    "duration": 640,
    "start_time": "2023-04-11T13:45:59.048Z"
   },
   {
    "duration": 114,
    "start_time": "2023-04-11T13:45:59.690Z"
   },
   {
    "duration": 1935,
    "start_time": "2023-04-11T13:45:59.805Z"
   },
   {
    "duration": 14,
    "start_time": "2023-04-11T13:46:01.742Z"
   },
   {
    "duration": 36,
    "start_time": "2023-04-11T13:46:01.758Z"
   },
   {
    "duration": 69,
    "start_time": "2023-04-11T13:46:01.796Z"
   },
   {
    "duration": 18,
    "start_time": "2023-04-11T13:46:01.866Z"
   },
   {
    "duration": 197,
    "start_time": "2023-04-11T13:46:01.885Z"
   },
   {
    "duration": 78,
    "start_time": "2023-04-11T13:46:02.084Z"
   },
   {
    "duration": 6,
    "start_time": "2023-04-11T13:46:02.164Z"
   },
   {
    "duration": 26,
    "start_time": "2023-04-11T13:46:02.172Z"
   },
   {
    "duration": 25,
    "start_time": "2023-04-11T13:46:02.199Z"
   },
   {
    "duration": 50,
    "start_time": "2023-04-11T13:46:02.226Z"
   },
   {
    "duration": 36,
    "start_time": "2023-04-11T13:46:02.279Z"
   },
   {
    "duration": 24,
    "start_time": "2023-04-11T13:46:02.317Z"
   },
   {
    "duration": 27,
    "start_time": "2023-04-11T13:46:02.342Z"
   },
   {
    "duration": 278,
    "start_time": "2023-04-11T13:46:02.370Z"
   },
   {
    "duration": 6,
    "start_time": "2023-04-11T13:46:02.650Z"
   },
   {
    "duration": 303,
    "start_time": "2023-04-11T13:46:02.657Z"
   },
   {
    "duration": 275,
    "start_time": "2023-04-11T13:46:02.962Z"
   },
   {
    "duration": 402,
    "start_time": "2023-04-11T13:46:03.239Z"
   },
   {
    "duration": 312,
    "start_time": "2023-04-11T13:46:03.642Z"
   },
   {
    "duration": 298,
    "start_time": "2023-04-11T13:46:03.958Z"
   },
   {
    "duration": 351,
    "start_time": "2023-04-11T13:46:04.257Z"
   },
   {
    "duration": 24,
    "start_time": "2023-04-11T13:46:04.610Z"
   },
   {
    "duration": 285,
    "start_time": "2023-04-11T13:46:04.635Z"
   },
   {
    "duration": 7,
    "start_time": "2023-04-11T13:46:04.922Z"
   },
   {
    "duration": 9,
    "start_time": "2023-04-11T13:46:04.930Z"
   },
   {
    "duration": 280,
    "start_time": "2023-04-11T13:46:04.940Z"
   },
   {
    "duration": 24,
    "start_time": "2023-04-11T13:46:05.221Z"
   },
   {
    "duration": 385,
    "start_time": "2023-04-11T13:46:05.247Z"
   },
   {
    "duration": 279,
    "start_time": "2023-04-11T13:46:05.633Z"
   },
   {
    "duration": 265,
    "start_time": "2023-04-11T13:46:05.913Z"
   },
   {
    "duration": 279,
    "start_time": "2023-04-11T13:46:06.179Z"
   },
   {
    "duration": 277,
    "start_time": "2023-04-11T13:46:06.460Z"
   },
   {
    "duration": 373,
    "start_time": "2023-04-11T13:46:06.739Z"
   },
   {
    "duration": 8,
    "start_time": "2023-04-11T13:46:07.114Z"
   },
   {
    "duration": 194,
    "start_time": "2023-04-11T13:46:07.123Z"
   },
   {
    "duration": 173,
    "start_time": "2023-04-11T13:46:07.318Z"
   },
   {
    "duration": 145,
    "start_time": "2023-04-11T13:46:07.494Z"
   },
   {
    "duration": 153,
    "start_time": "2023-04-11T13:46:07.643Z"
   },
   {
    "duration": 133,
    "start_time": "2023-04-11T13:46:07.798Z"
   },
   {
    "duration": 144,
    "start_time": "2023-04-11T13:46:07.933Z"
   },
   {
    "duration": 147,
    "start_time": "2023-04-11T13:46:08.079Z"
   },
   {
    "duration": 142,
    "start_time": "2023-04-11T13:46:08.228Z"
   },
   {
    "duration": 28,
    "start_time": "2023-04-11T13:46:08.372Z"
   },
   {
    "duration": 9,
    "start_time": "2023-04-11T13:46:08.401Z"
   },
   {
    "duration": 149,
    "start_time": "2023-04-11T13:46:08.412Z"
   },
   {
    "duration": 13,
    "start_time": "2023-04-11T14:24:10.599Z"
   },
   {
    "duration": 599,
    "start_time": "2023-04-11T14:24:14.921Z"
   },
   {
    "duration": 115,
    "start_time": "2023-04-11T14:24:15.522Z"
   },
   {
    "duration": 1892,
    "start_time": "2023-04-11T14:24:15.639Z"
   },
   {
    "duration": 14,
    "start_time": "2023-04-11T14:24:17.534Z"
   },
   {
    "duration": 10,
    "start_time": "2023-04-11T14:24:17.550Z"
   },
   {
    "duration": 33,
    "start_time": "2023-04-11T14:24:17.562Z"
   },
   {
    "duration": 7,
    "start_time": "2023-04-11T14:24:17.597Z"
   },
   {
    "duration": 194,
    "start_time": "2023-04-11T14:24:17.606Z"
   },
   {
    "duration": 69,
    "start_time": "2023-04-11T14:24:17.801Z"
   },
   {
    "duration": 22,
    "start_time": "2023-04-11T14:24:17.872Z"
   },
   {
    "duration": 15,
    "start_time": "2023-04-11T14:24:17.896Z"
   },
   {
    "duration": 7,
    "start_time": "2023-04-11T14:24:17.913Z"
   },
   {
    "duration": 33,
    "start_time": "2023-04-11T14:24:17.922Z"
   },
   {
    "duration": 59,
    "start_time": "2023-04-11T14:24:17.957Z"
   },
   {
    "duration": 25,
    "start_time": "2023-04-11T14:24:18.018Z"
   },
   {
    "duration": 24,
    "start_time": "2023-04-11T14:24:18.044Z"
   },
   {
    "duration": 274,
    "start_time": "2023-04-11T14:24:18.070Z"
   },
   {
    "duration": 7,
    "start_time": "2023-04-11T14:24:18.346Z"
   },
   {
    "duration": 308,
    "start_time": "2023-04-11T14:24:18.354Z"
   },
   {
    "duration": 284,
    "start_time": "2023-04-11T14:24:18.663Z"
   },
   {
    "duration": 387,
    "start_time": "2023-04-11T14:24:18.949Z"
   },
   {
    "duration": 356,
    "start_time": "2023-04-11T14:24:19.338Z"
   },
   {
    "duration": 278,
    "start_time": "2023-04-11T14:24:19.696Z"
   },
   {
    "duration": 301,
    "start_time": "2023-04-11T14:24:19.976Z"
   },
   {
    "duration": 33,
    "start_time": "2023-04-11T14:24:20.279Z"
   },
   {
    "duration": 300,
    "start_time": "2023-04-11T14:24:20.314Z"
   },
   {
    "duration": 8,
    "start_time": "2023-04-11T14:24:20.616Z"
   },
   {
    "duration": 23,
    "start_time": "2023-04-11T14:24:20.628Z"
   },
   {
    "duration": 329,
    "start_time": "2023-04-11T14:24:20.653Z"
   },
   {
    "duration": 32,
    "start_time": "2023-04-11T14:24:20.983Z"
   },
   {
    "duration": 445,
    "start_time": "2023-04-11T14:24:21.017Z"
   },
   {
    "duration": 282,
    "start_time": "2023-04-11T14:24:21.466Z"
   },
   {
    "duration": 274,
    "start_time": "2023-04-11T14:24:21.750Z"
   },
   {
    "duration": 279,
    "start_time": "2023-04-11T14:24:22.026Z"
   },
   {
    "duration": 290,
    "start_time": "2023-04-11T14:24:22.306Z"
   },
   {
    "duration": 383,
    "start_time": "2023-04-11T14:24:22.597Z"
   },
   {
    "duration": 17,
    "start_time": "2023-04-11T14:24:22.981Z"
   },
   {
    "duration": 146,
    "start_time": "2023-04-11T14:24:22.999Z"
   },
   {
    "duration": 154,
    "start_time": "2023-04-11T14:24:23.148Z"
   },
   {
    "duration": 143,
    "start_time": "2023-04-11T14:24:23.304Z"
   },
   {
    "duration": 148,
    "start_time": "2023-04-11T14:24:23.449Z"
   },
   {
    "duration": 138,
    "start_time": "2023-04-11T14:24:23.599Z"
   },
   {
    "duration": 186,
    "start_time": "2023-04-11T14:24:23.738Z"
   },
   {
    "duration": 230,
    "start_time": "2023-04-11T14:24:23.927Z"
   },
   {
    "duration": 183,
    "start_time": "2023-04-11T14:24:24.161Z"
   },
   {
    "duration": 30,
    "start_time": "2023-04-11T14:24:24.346Z"
   },
   {
    "duration": 23,
    "start_time": "2023-04-11T14:24:24.378Z"
   },
   {
    "duration": 157,
    "start_time": "2023-04-11T14:24:24.403Z"
   },
   {
    "duration": 16,
    "start_time": "2023-04-11T14:25:26.559Z"
   },
   {
    "duration": 10,
    "start_time": "2023-04-11T14:26:13.438Z"
   },
   {
    "duration": 22,
    "start_time": "2023-04-11T14:26:29.899Z"
   },
   {
    "duration": 12,
    "start_time": "2023-04-11T14:26:37.919Z"
   },
   {
    "duration": 10,
    "start_time": "2023-04-11T14:26:58.479Z"
   },
   {
    "duration": 26,
    "start_time": "2023-04-11T14:27:05.380Z"
   },
   {
    "duration": 7,
    "start_time": "2023-04-11T14:28:26.151Z"
   },
   {
    "duration": 11,
    "start_time": "2023-04-11T14:28:53.651Z"
   },
   {
    "duration": 19,
    "start_time": "2023-04-11T14:29:01.159Z"
   },
   {
    "duration": 56,
    "start_time": "2023-04-11T17:08:43.068Z"
   },
   {
    "duration": 883,
    "start_time": "2023-04-11T17:08:48.573Z"
   },
   {
    "duration": 392,
    "start_time": "2023-04-11T17:08:49.458Z"
   },
   {
    "duration": 2234,
    "start_time": "2023-04-11T17:08:49.852Z"
   },
   {
    "duration": 20,
    "start_time": "2023-04-11T17:08:52.089Z"
   },
   {
    "duration": 13,
    "start_time": "2023-04-11T17:08:52.111Z"
   },
   {
    "duration": 32,
    "start_time": "2023-04-11T17:08:52.126Z"
   },
   {
    "duration": 37,
    "start_time": "2023-04-11T17:08:52.160Z"
   },
   {
    "duration": 181,
    "start_time": "2023-04-11T17:08:52.198Z"
   },
   {
    "duration": 90,
    "start_time": "2023-04-11T17:08:52.381Z"
   },
   {
    "duration": 6,
    "start_time": "2023-04-11T17:08:52.474Z"
   },
   {
    "duration": 15,
    "start_time": "2023-04-11T17:08:52.482Z"
   },
   {
    "duration": 40,
    "start_time": "2023-04-11T17:08:52.500Z"
   },
   {
    "duration": 12,
    "start_time": "2023-04-11T17:08:52.542Z"
   },
   {
    "duration": 28,
    "start_time": "2023-04-11T17:08:52.556Z"
   },
   {
    "duration": 34,
    "start_time": "2023-04-11T17:08:52.585Z"
   },
   {
    "duration": 27,
    "start_time": "2023-04-11T17:08:52.621Z"
   },
   {
    "duration": 54,
    "start_time": "2023-04-11T17:08:52.650Z"
   },
   {
    "duration": 328,
    "start_time": "2023-04-11T17:08:52.706Z"
   },
   {
    "duration": 8,
    "start_time": "2023-04-11T17:08:53.035Z"
   },
   {
    "duration": 360,
    "start_time": "2023-04-11T17:08:53.044Z"
   },
   {
    "duration": 324,
    "start_time": "2023-04-11T17:08:53.406Z"
   },
   {
    "duration": 423,
    "start_time": "2023-04-11T17:08:53.732Z"
   },
   {
    "duration": 351,
    "start_time": "2023-04-11T17:08:54.157Z"
   },
   {
    "duration": 355,
    "start_time": "2023-04-11T17:08:54.510Z"
   },
   {
    "duration": 345,
    "start_time": "2023-04-11T17:08:54.867Z"
   },
   {
    "duration": 27,
    "start_time": "2023-04-11T17:08:55.214Z"
   },
   {
    "duration": 339,
    "start_time": "2023-04-11T17:08:55.243Z"
   },
   {
    "duration": 18,
    "start_time": "2023-04-11T17:08:55.588Z"
   },
   {
    "duration": 9,
    "start_time": "2023-04-11T17:08:55.608Z"
   },
   {
    "duration": 364,
    "start_time": "2023-04-11T17:08:55.618Z"
   },
   {
    "duration": 31,
    "start_time": "2023-04-11T17:08:55.986Z"
   },
   {
    "duration": 516,
    "start_time": "2023-04-11T17:08:56.019Z"
   },
   {
    "duration": 343,
    "start_time": "2023-04-11T17:08:56.537Z"
   },
   {
    "duration": 326,
    "start_time": "2023-04-11T17:08:56.882Z"
   },
   {
    "duration": 339,
    "start_time": "2023-04-11T17:08:57.210Z"
   },
   {
    "duration": 328,
    "start_time": "2023-04-11T17:08:57.551Z"
   },
   {
    "duration": 437,
    "start_time": "2023-04-11T17:08:57.881Z"
   },
   {
    "duration": 7,
    "start_time": "2023-04-11T17:08:58.320Z"
   },
   {
    "duration": 198,
    "start_time": "2023-04-11T17:08:58.329Z"
   },
   {
    "duration": 204,
    "start_time": "2023-04-11T17:08:58.530Z"
   },
   {
    "duration": 193,
    "start_time": "2023-04-11T17:08:58.736Z"
   },
   {
    "duration": 175,
    "start_time": "2023-04-11T17:08:58.930Z"
   },
   {
    "duration": 160,
    "start_time": "2023-04-11T17:08:59.107Z"
   },
   {
    "duration": 178,
    "start_time": "2023-04-11T17:08:59.269Z"
   },
   {
    "duration": 191,
    "start_time": "2023-04-11T17:08:59.449Z"
   },
   {
    "duration": 179,
    "start_time": "2023-04-11T17:08:59.642Z"
   },
   {
    "duration": 33,
    "start_time": "2023-04-11T17:08:59.824Z"
   },
   {
    "duration": 41,
    "start_time": "2023-04-11T17:08:59.860Z"
   },
   {
    "duration": 163,
    "start_time": "2023-04-11T17:08:59.903Z"
   },
   {
    "duration": 30,
    "start_time": "2023-04-11T17:09:24.312Z"
   },
   {
    "duration": 25,
    "start_time": "2023-04-11T17:09:38.994Z"
   },
   {
    "duration": 25,
    "start_time": "2023-04-11T17:09:51.277Z"
   },
   {
    "duration": 780,
    "start_time": "2023-04-11T17:10:01.220Z"
   },
   {
    "duration": 149,
    "start_time": "2023-04-11T17:10:02.003Z"
   },
   {
    "duration": 2196,
    "start_time": "2023-04-11T17:10:02.154Z"
   },
   {
    "duration": 17,
    "start_time": "2023-04-11T17:10:04.353Z"
   },
   {
    "duration": 11,
    "start_time": "2023-04-11T17:10:04.372Z"
   },
   {
    "duration": 40,
    "start_time": "2023-04-11T17:10:04.385Z"
   },
   {
    "duration": 8,
    "start_time": "2023-04-11T17:10:04.427Z"
   },
   {
    "duration": 232,
    "start_time": "2023-04-11T17:10:04.437Z"
   },
   {
    "duration": 89,
    "start_time": "2023-04-11T17:10:04.671Z"
   },
   {
    "duration": 7,
    "start_time": "2023-04-11T17:10:04.764Z"
   },
   {
    "duration": 52,
    "start_time": "2023-04-11T17:10:04.773Z"
   },
   {
    "duration": 9,
    "start_time": "2023-04-11T17:10:04.827Z"
   },
   {
    "duration": 35,
    "start_time": "2023-04-11T17:10:04.839Z"
   },
   {
    "duration": 32,
    "start_time": "2023-04-11T17:10:04.876Z"
   },
   {
    "duration": 25,
    "start_time": "2023-04-11T17:10:04.910Z"
   },
   {
    "duration": 26,
    "start_time": "2023-04-11T17:10:04.937Z"
   },
   {
    "duration": 339,
    "start_time": "2023-04-11T17:10:04.965Z"
   },
   {
    "duration": 7,
    "start_time": "2023-04-11T17:10:05.306Z"
   },
   {
    "duration": 357,
    "start_time": "2023-04-11T17:10:05.314Z"
   },
   {
    "duration": 342,
    "start_time": "2023-04-11T17:10:05.673Z"
   },
   {
    "duration": 452,
    "start_time": "2023-04-11T17:10:06.016Z"
   },
   {
    "duration": 373,
    "start_time": "2023-04-11T17:10:06.470Z"
   },
   {
    "duration": 341,
    "start_time": "2023-04-11T17:10:06.845Z"
   },
   {
    "duration": 361,
    "start_time": "2023-04-11T17:10:07.188Z"
   },
   {
    "duration": 42,
    "start_time": "2023-04-11T17:10:07.551Z"
   },
   {
    "duration": 361,
    "start_time": "2023-04-11T17:10:07.602Z"
   },
   {
    "duration": 7,
    "start_time": "2023-04-11T17:10:07.964Z"
   },
   {
    "duration": 14,
    "start_time": "2023-04-11T17:10:07.975Z"
   },
   {
    "duration": 478,
    "start_time": "2023-04-11T17:10:07.996Z"
   },
   {
    "duration": 34,
    "start_time": "2023-04-11T17:10:08.476Z"
   },
   {
    "duration": 512,
    "start_time": "2023-04-11T17:10:08.512Z"
   },
   {
    "duration": 411,
    "start_time": "2023-04-11T17:10:09.026Z"
   },
   {
    "duration": 325,
    "start_time": "2023-04-11T17:10:09.439Z"
   },
   {
    "duration": 341,
    "start_time": "2023-04-11T17:10:09.766Z"
   },
   {
    "duration": 382,
    "start_time": "2023-04-11T17:10:10.109Z"
   },
   {
    "duration": 518,
    "start_time": "2023-04-11T17:10:10.494Z"
   },
   {
    "duration": 8,
    "start_time": "2023-04-11T17:10:11.015Z"
   },
   {
    "duration": 214,
    "start_time": "2023-04-11T17:10:11.025Z"
   },
   {
    "duration": 203,
    "start_time": "2023-04-11T17:10:11.242Z"
   },
   {
    "duration": 176,
    "start_time": "2023-04-11T17:10:11.447Z"
   },
   {
    "duration": 181,
    "start_time": "2023-04-11T17:10:11.625Z"
   },
   {
    "duration": 152,
    "start_time": "2023-04-11T17:10:11.808Z"
   },
   {
    "duration": 175,
    "start_time": "2023-04-11T17:10:11.962Z"
   },
   {
    "duration": 179,
    "start_time": "2023-04-11T17:10:12.140Z"
   },
   {
    "duration": 163,
    "start_time": "2023-04-11T17:10:12.320Z"
   },
   {
    "duration": 33,
    "start_time": "2023-04-11T17:10:12.485Z"
   },
   {
    "duration": 22,
    "start_time": "2023-04-11T17:10:12.520Z"
   },
   {
    "duration": 176,
    "start_time": "2023-04-11T17:10:12.544Z"
   },
   {
    "duration": 30,
    "start_time": "2023-04-11T17:10:16.682Z"
   },
   {
    "duration": 9,
    "start_time": "2023-04-11T17:11:15.300Z"
   },
   {
    "duration": 15,
    "start_time": "2023-04-11T17:11:24.098Z"
   },
   {
    "duration": 15,
    "start_time": "2023-04-11T17:12:31.255Z"
   },
   {
    "duration": 13,
    "start_time": "2023-04-11T17:12:39.324Z"
   },
   {
    "duration": 122,
    "start_time": "2023-04-11T17:12:48.045Z"
   },
   {
    "duration": 25,
    "start_time": "2023-04-11T17:12:53.421Z"
   },
   {
    "duration": 24,
    "start_time": "2023-04-11T17:13:55.178Z"
   },
   {
    "duration": 732,
    "start_time": "2023-04-11T17:14:02.827Z"
   },
   {
    "duration": 149,
    "start_time": "2023-04-11T17:14:03.561Z"
   },
   {
    "duration": 2238,
    "start_time": "2023-04-11T17:14:03.713Z"
   },
   {
    "duration": 15,
    "start_time": "2023-04-11T17:14:05.953Z"
   },
   {
    "duration": 15,
    "start_time": "2023-04-11T17:14:05.970Z"
   },
   {
    "duration": 48,
    "start_time": "2023-04-11T17:14:05.988Z"
   },
   {
    "duration": 9,
    "start_time": "2023-04-11T17:14:06.037Z"
   },
   {
    "duration": 196,
    "start_time": "2023-04-11T17:14:06.048Z"
   },
   {
    "duration": 89,
    "start_time": "2023-04-11T17:14:06.245Z"
   },
   {
    "duration": 8,
    "start_time": "2023-04-11T17:14:06.336Z"
   },
   {
    "duration": 26,
    "start_time": "2023-04-11T17:14:06.346Z"
   },
   {
    "duration": 41,
    "start_time": "2023-04-11T17:14:06.374Z"
   },
   {
    "duration": 23,
    "start_time": "2023-04-11T17:14:06.417Z"
   },
   {
    "duration": 8,
    "start_time": "2023-04-11T17:14:06.442Z"
   },
   {
    "duration": 55,
    "start_time": "2023-04-11T17:14:06.452Z"
   },
   {
    "duration": 36,
    "start_time": "2023-04-11T17:14:06.509Z"
   },
   {
    "duration": 59,
    "start_time": "2023-04-11T17:14:06.546Z"
   },
   {
    "duration": 31,
    "start_time": "2023-04-11T17:14:06.607Z"
   },
   {
    "duration": 314,
    "start_time": "2023-04-11T17:14:06.640Z"
   },
   {
    "duration": 8,
    "start_time": "2023-04-11T17:14:06.956Z"
   },
   {
    "duration": 362,
    "start_time": "2023-04-11T17:14:06.966Z"
   },
   {
    "duration": 396,
    "start_time": "2023-04-11T17:14:07.329Z"
   },
   {
    "duration": 678,
    "start_time": "2023-04-11T17:14:07.727Z"
   },
   {
    "duration": 435,
    "start_time": "2023-04-11T17:14:08.409Z"
   },
   {
    "duration": 359,
    "start_time": "2023-04-11T17:14:08.846Z"
   },
   {
    "duration": 341,
    "start_time": "2023-04-11T17:14:09.207Z"
   },
   {
    "duration": 29,
    "start_time": "2023-04-11T17:14:09.549Z"
   },
   {
    "duration": 346,
    "start_time": "2023-04-11T17:14:09.590Z"
   },
   {
    "duration": 8,
    "start_time": "2023-04-11T17:14:09.938Z"
   },
   {
    "duration": 9,
    "start_time": "2023-04-11T17:14:09.948Z"
   },
   {
    "duration": 352,
    "start_time": "2023-04-11T17:14:09.959Z"
   },
   {
    "duration": 24,
    "start_time": "2023-04-11T17:14:10.313Z"
   },
   {
    "duration": 572,
    "start_time": "2023-04-11T17:14:10.339Z"
   },
   {
    "duration": 366,
    "start_time": "2023-04-11T17:14:10.914Z"
   },
   {
    "duration": 359,
    "start_time": "2023-04-11T17:14:11.282Z"
   },
   {
    "duration": 332,
    "start_time": "2023-04-11T17:14:11.642Z"
   },
   {
    "duration": 343,
    "start_time": "2023-04-11T17:14:11.976Z"
   },
   {
    "duration": 435,
    "start_time": "2023-04-11T17:14:12.321Z"
   },
   {
    "duration": 7,
    "start_time": "2023-04-11T17:14:12.758Z"
   },
   {
    "duration": 187,
    "start_time": "2023-04-11T17:14:12.766Z"
   },
   {
    "duration": 200,
    "start_time": "2023-04-11T17:14:12.955Z"
   },
   {
    "duration": 170,
    "start_time": "2023-04-11T17:14:13.156Z"
   },
   {
    "duration": 191,
    "start_time": "2023-04-11T17:14:13.328Z"
   },
   {
    "duration": 157,
    "start_time": "2023-04-11T17:14:13.521Z"
   },
   {
    "duration": 180,
    "start_time": "2023-04-11T17:14:13.680Z"
   },
   {
    "duration": 181,
    "start_time": "2023-04-11T17:14:13.861Z"
   },
   {
    "duration": 175,
    "start_time": "2023-04-11T17:14:14.044Z"
   },
   {
    "duration": 25,
    "start_time": "2023-04-11T17:14:14.220Z"
   },
   {
    "duration": 11,
    "start_time": "2023-04-11T17:14:14.246Z"
   },
   {
    "duration": 192,
    "start_time": "2023-04-11T17:14:14.258Z"
   },
   {
    "duration": 1026,
    "start_time": "2023-04-11T17:19:30.108Z"
   },
   {
    "duration": 175,
    "start_time": "2023-04-11T17:19:31.137Z"
   },
   {
    "duration": 2386,
    "start_time": "2023-04-11T17:19:31.316Z"
   },
   {
    "duration": 16,
    "start_time": "2023-04-11T17:19:33.706Z"
   },
   {
    "duration": 10,
    "start_time": "2023-04-11T17:19:33.724Z"
   },
   {
    "duration": 36,
    "start_time": "2023-04-11T17:19:33.736Z"
   },
   {
    "duration": 17,
    "start_time": "2023-04-11T17:19:33.773Z"
   },
   {
    "duration": 186,
    "start_time": "2023-04-11T17:19:33.794Z"
   },
   {
    "duration": 83,
    "start_time": "2023-04-11T17:19:33.989Z"
   },
   {
    "duration": 26,
    "start_time": "2023-04-11T17:19:34.075Z"
   },
   {
    "duration": 26,
    "start_time": "2023-04-11T17:19:34.103Z"
   },
   {
    "duration": 18,
    "start_time": "2023-04-11T17:19:34.131Z"
   },
   {
    "duration": 17,
    "start_time": "2023-04-11T17:19:34.151Z"
   },
   {
    "duration": 23,
    "start_time": "2023-04-11T17:19:34.170Z"
   },
   {
    "duration": 42,
    "start_time": "2023-04-11T17:19:34.196Z"
   },
   {
    "duration": 28,
    "start_time": "2023-04-11T17:19:34.240Z"
   },
   {
    "duration": 32,
    "start_time": "2023-04-11T17:19:34.269Z"
   },
   {
    "duration": 26,
    "start_time": "2023-04-11T17:19:34.303Z"
   },
   {
    "duration": 343,
    "start_time": "2023-04-11T17:19:34.331Z"
   },
   {
    "duration": 18,
    "start_time": "2023-04-11T17:19:34.676Z"
   },
   {
    "duration": 347,
    "start_time": "2023-04-11T17:19:34.702Z"
   },
   {
    "duration": 327,
    "start_time": "2023-04-11T17:19:35.050Z"
   },
   {
    "duration": 480,
    "start_time": "2023-04-11T17:19:35.379Z"
   },
   {
    "duration": 373,
    "start_time": "2023-04-11T17:19:35.862Z"
   },
   {
    "duration": 395,
    "start_time": "2023-04-11T17:19:36.237Z"
   },
   {
    "duration": 388,
    "start_time": "2023-04-11T17:19:36.634Z"
   },
   {
    "duration": 33,
    "start_time": "2023-04-11T17:19:37.024Z"
   },
   {
    "duration": 382,
    "start_time": "2023-04-11T17:19:37.061Z"
   },
   {
    "duration": 8,
    "start_time": "2023-04-11T17:19:37.445Z"
   },
   {
    "duration": 10,
    "start_time": "2023-04-11T17:19:37.455Z"
   },
   {
    "duration": 403,
    "start_time": "2023-04-11T17:19:37.467Z"
   },
   {
    "duration": 38,
    "start_time": "2023-04-11T17:19:37.871Z"
   },
   {
    "duration": 446,
    "start_time": "2023-04-11T17:19:37.911Z"
   },
   {
    "duration": 355,
    "start_time": "2023-04-11T17:19:38.359Z"
   },
   {
    "duration": 391,
    "start_time": "2023-04-11T17:19:38.717Z"
   },
   {
    "duration": 318,
    "start_time": "2023-04-11T17:19:39.110Z"
   },
   {
    "duration": 326,
    "start_time": "2023-04-11T17:19:39.430Z"
   },
   {
    "duration": 443,
    "start_time": "2023-04-11T17:19:39.758Z"
   },
   {
    "duration": 8,
    "start_time": "2023-04-11T17:19:40.203Z"
   },
   {
    "duration": 198,
    "start_time": "2023-04-11T17:19:40.213Z"
   },
   {
    "duration": 268,
    "start_time": "2023-04-11T17:19:40.413Z"
   },
   {
    "duration": 204,
    "start_time": "2023-04-11T17:19:40.683Z"
   },
   {
    "duration": 179,
    "start_time": "2023-04-11T17:19:40.894Z"
   },
   {
    "duration": 174,
    "start_time": "2023-04-11T17:19:41.075Z"
   },
   {
    "duration": 181,
    "start_time": "2023-04-11T17:19:41.251Z"
   },
   {
    "duration": 176,
    "start_time": "2023-04-11T17:19:41.434Z"
   },
   {
    "duration": 166,
    "start_time": "2023-04-11T17:19:41.612Z"
   },
   {
    "duration": 36,
    "start_time": "2023-04-11T17:19:41.780Z"
   },
   {
    "duration": 33,
    "start_time": "2023-04-11T17:19:41.817Z"
   },
   {
    "duration": 194,
    "start_time": "2023-04-11T17:19:41.852Z"
   },
   {
    "duration": 298,
    "start_time": "2023-04-11T17:21:12.039Z"
   },
   {
    "duration": 453,
    "start_time": "2023-04-11T17:23:06.403Z"
   },
   {
    "duration": 344,
    "start_time": "2023-04-11T17:23:12.825Z"
   },
   {
    "duration": 12,
    "start_time": "2023-04-11T18:12:00.540Z"
   },
   {
    "duration": 735,
    "start_time": "2023-04-11T18:14:11.930Z"
   },
   {
    "duration": 35,
    "start_time": "2023-04-11T18:14:27.628Z"
   },
   {
    "duration": 20,
    "start_time": "2023-04-11T18:14:37.255Z"
   },
   {
    "duration": 702,
    "start_time": "2023-04-11T18:14:49.130Z"
   },
   {
    "duration": 141,
    "start_time": "2023-04-11T18:14:49.834Z"
   },
   {
    "duration": 2373,
    "start_time": "2023-04-11T18:14:49.977Z"
   },
   {
    "duration": 19,
    "start_time": "2023-04-11T18:14:52.352Z"
   },
   {
    "duration": 12,
    "start_time": "2023-04-11T18:14:52.373Z"
   },
   {
    "duration": 59,
    "start_time": "2023-04-11T18:14:52.386Z"
   },
   {
    "duration": 10,
    "start_time": "2023-04-11T18:14:52.446Z"
   },
   {
    "duration": 203,
    "start_time": "2023-04-11T18:14:52.459Z"
   },
   {
    "duration": 88,
    "start_time": "2023-04-11T18:14:52.664Z"
   },
   {
    "duration": 7,
    "start_time": "2023-04-11T18:14:52.754Z"
   },
   {
    "duration": 43,
    "start_time": "2023-04-11T18:14:52.763Z"
   },
   {
    "duration": 22,
    "start_time": "2023-04-11T18:14:52.808Z"
   },
   {
    "duration": 21,
    "start_time": "2023-04-11T18:14:52.831Z"
   },
   {
    "duration": 22,
    "start_time": "2023-04-11T18:14:52.855Z"
   },
   {
    "duration": 37,
    "start_time": "2023-04-11T18:14:52.878Z"
   },
   {
    "duration": 38,
    "start_time": "2023-04-11T18:14:52.916Z"
   },
   {
    "duration": 57,
    "start_time": "2023-04-11T18:14:52.956Z"
   },
   {
    "duration": 32,
    "start_time": "2023-04-11T18:14:53.015Z"
   },
   {
    "duration": 357,
    "start_time": "2023-04-11T18:14:53.049Z"
   },
   {
    "duration": 8,
    "start_time": "2023-04-11T18:14:53.407Z"
   },
   {
    "duration": 405,
    "start_time": "2023-04-11T18:14:53.416Z"
   },
   {
    "duration": 381,
    "start_time": "2023-04-11T18:14:53.823Z"
   },
   {
    "duration": 452,
    "start_time": "2023-04-11T18:14:54.206Z"
   },
   {
    "duration": 371,
    "start_time": "2023-04-11T18:14:54.660Z"
   },
   {
    "duration": 369,
    "start_time": "2023-04-11T18:14:55.034Z"
   },
   {
    "duration": 356,
    "start_time": "2023-04-11T18:14:55.405Z"
   },
   {
    "duration": 38,
    "start_time": "2023-04-11T18:14:55.763Z"
   },
   {
    "duration": 342,
    "start_time": "2023-04-11T18:14:55.803Z"
   },
   {
    "duration": 8,
    "start_time": "2023-04-11T18:14:56.147Z"
   },
   {
    "duration": 10,
    "start_time": "2023-04-11T18:14:56.156Z"
   },
   {
    "duration": 373,
    "start_time": "2023-04-11T18:14:56.168Z"
   },
   {
    "duration": 26,
    "start_time": "2023-04-11T18:14:56.543Z"
   },
   {
    "duration": 457,
    "start_time": "2023-04-11T18:14:56.571Z"
   },
   {
    "duration": 335,
    "start_time": "2023-04-11T18:14:57.030Z"
   },
   {
    "duration": 359,
    "start_time": "2023-04-11T18:14:57.367Z"
   },
   {
    "duration": 355,
    "start_time": "2023-04-11T18:14:57.728Z"
   },
   {
    "duration": 347,
    "start_time": "2023-04-11T18:14:58.087Z"
   },
   {
    "duration": 471,
    "start_time": "2023-04-11T18:14:58.436Z"
   },
   {
    "duration": 7,
    "start_time": "2023-04-11T18:14:58.909Z"
   },
   {
    "duration": 187,
    "start_time": "2023-04-11T18:14:58.918Z"
   },
   {
    "duration": 186,
    "start_time": "2023-04-11T18:14:59.109Z"
   },
   {
    "duration": 159,
    "start_time": "2023-04-11T18:14:59.306Z"
   },
   {
    "duration": 200,
    "start_time": "2023-04-11T18:14:59.466Z"
   },
   {
    "duration": 171,
    "start_time": "2023-04-11T18:14:59.668Z"
   },
   {
    "duration": 192,
    "start_time": "2023-04-11T18:14:59.841Z"
   },
   {
    "duration": 182,
    "start_time": "2023-04-11T18:15:00.035Z"
   },
   {
    "duration": 178,
    "start_time": "2023-04-11T18:15:00.219Z"
   },
   {
    "duration": 35,
    "start_time": "2023-04-11T18:15:00.399Z"
   },
   {
    "duration": 817,
    "start_time": "2023-04-11T18:15:00.436Z"
   },
   {
    "duration": 0,
    "start_time": "2023-04-11T18:15:01.255Z"
   },
   {
    "duration": 28,
    "start_time": "2023-04-11T18:15:10.391Z"
   },
   {
    "duration": 12,
    "start_time": "2023-04-11T18:15:19.533Z"
   },
   {
    "duration": 169,
    "start_time": "2023-04-11T18:15:28.104Z"
   },
   {
    "duration": 643,
    "start_time": "2023-04-11T18:16:15.037Z"
   },
   {
    "duration": 145,
    "start_time": "2023-04-11T18:16:15.682Z"
   },
   {
    "duration": 2218,
    "start_time": "2023-04-11T18:16:15.828Z"
   },
   {
    "duration": 16,
    "start_time": "2023-04-11T18:16:18.049Z"
   },
   {
    "duration": 12,
    "start_time": "2023-04-11T18:16:18.067Z"
   },
   {
    "duration": 36,
    "start_time": "2023-04-11T18:16:18.090Z"
   },
   {
    "duration": 9,
    "start_time": "2023-04-11T18:16:18.127Z"
   },
   {
    "duration": 198,
    "start_time": "2023-04-11T18:16:18.138Z"
   },
   {
    "duration": 94,
    "start_time": "2023-04-11T18:16:18.339Z"
   },
   {
    "duration": 7,
    "start_time": "2023-04-11T18:16:18.436Z"
   },
   {
    "duration": 30,
    "start_time": "2023-04-11T18:16:18.445Z"
   },
   {
    "duration": 30,
    "start_time": "2023-04-11T18:16:18.489Z"
   },
   {
    "duration": 21,
    "start_time": "2023-04-11T18:16:18.521Z"
   },
   {
    "duration": 7,
    "start_time": "2023-04-11T18:16:18.543Z"
   },
   {
    "duration": 60,
    "start_time": "2023-04-11T18:16:18.552Z"
   },
   {
    "duration": 43,
    "start_time": "2023-04-11T18:16:18.614Z"
   },
   {
    "duration": 52,
    "start_time": "2023-04-11T18:16:18.659Z"
   },
   {
    "duration": 27,
    "start_time": "2023-04-11T18:16:18.712Z"
   },
   {
    "duration": 332,
    "start_time": "2023-04-11T18:16:18.740Z"
   },
   {
    "duration": 24,
    "start_time": "2023-04-11T18:16:19.074Z"
   },
   {
    "duration": 338,
    "start_time": "2023-04-11T18:16:19.100Z"
   },
   {
    "duration": 311,
    "start_time": "2023-04-11T18:16:19.440Z"
   },
   {
    "duration": 450,
    "start_time": "2023-04-11T18:16:19.753Z"
   },
   {
    "duration": 421,
    "start_time": "2023-04-11T18:16:20.205Z"
   },
   {
    "duration": 401,
    "start_time": "2023-04-11T18:16:20.628Z"
   },
   {
    "duration": 344,
    "start_time": "2023-04-11T18:16:21.031Z"
   },
   {
    "duration": 35,
    "start_time": "2023-04-11T18:16:21.377Z"
   },
   {
    "duration": 345,
    "start_time": "2023-04-11T18:16:21.417Z"
   },
   {
    "duration": 7,
    "start_time": "2023-04-11T18:16:21.764Z"
   },
   {
    "duration": 36,
    "start_time": "2023-04-11T18:16:21.772Z"
   },
   {
    "duration": 330,
    "start_time": "2023-04-11T18:16:21.810Z"
   },
   {
    "duration": 25,
    "start_time": "2023-04-11T18:16:22.142Z"
   },
   {
    "duration": 451,
    "start_time": "2023-04-11T18:16:22.169Z"
   },
   {
    "duration": 349,
    "start_time": "2023-04-11T18:16:22.622Z"
   },
   {
    "duration": 344,
    "start_time": "2023-04-11T18:16:22.973Z"
   },
   {
    "duration": 338,
    "start_time": "2023-04-11T18:16:23.319Z"
   },
   {
    "duration": 370,
    "start_time": "2023-04-11T18:16:23.659Z"
   },
   {
    "duration": 431,
    "start_time": "2023-04-11T18:16:24.031Z"
   },
   {
    "duration": 7,
    "start_time": "2023-04-11T18:16:24.464Z"
   },
   {
    "duration": 200,
    "start_time": "2023-04-11T18:16:24.472Z"
   },
   {
    "duration": 218,
    "start_time": "2023-04-11T18:16:24.674Z"
   },
   {
    "duration": 180,
    "start_time": "2023-04-11T18:16:24.894Z"
   },
   {
    "duration": 200,
    "start_time": "2023-04-11T18:16:25.076Z"
   },
   {
    "duration": 157,
    "start_time": "2023-04-11T18:16:25.278Z"
   },
   {
    "duration": 179,
    "start_time": "2023-04-11T18:16:25.436Z"
   },
   {
    "duration": 188,
    "start_time": "2023-04-11T18:16:25.618Z"
   },
   {
    "duration": 160,
    "start_time": "2023-04-11T18:16:25.808Z"
   },
   {
    "duration": 37,
    "start_time": "2023-04-11T18:16:25.970Z"
   },
   {
    "duration": 634,
    "start_time": "2023-04-11T18:16:26.008Z"
   },
   {
    "duration": 177,
    "start_time": "2023-04-11T18:16:26.644Z"
   },
   {
    "duration": 1221,
    "start_time": "2023-04-12T11:12:42.233Z"
   },
   {
    "duration": 294,
    "start_time": "2023-04-12T11:12:43.456Z"
   },
   {
    "duration": 5699,
    "start_time": "2023-04-12T11:12:43.751Z"
   },
   {
    "duration": 18,
    "start_time": "2023-04-12T11:12:49.452Z"
   },
   {
    "duration": 104,
    "start_time": "2023-04-12T11:12:49.472Z"
   },
   {
    "duration": 96,
    "start_time": "2023-04-12T11:12:49.578Z"
   },
   {
    "duration": 79,
    "start_time": "2023-04-12T11:12:49.676Z"
   },
   {
    "duration": 806,
    "start_time": "2023-04-12T11:12:49.757Z"
   },
   {
    "duration": 211,
    "start_time": "2023-04-12T11:12:50.564Z"
   },
   {
    "duration": 7,
    "start_time": "2023-04-12T11:12:50.848Z"
   },
   {
    "duration": 103,
    "start_time": "2023-04-12T11:12:50.856Z"
   },
   {
    "duration": 102,
    "start_time": "2023-04-12T11:12:50.962Z"
   },
   {
    "duration": 101,
    "start_time": "2023-04-12T11:12:51.066Z"
   },
   {
    "duration": 83,
    "start_time": "2023-04-12T11:12:51.169Z"
   },
   {
    "duration": 122,
    "start_time": "2023-04-12T11:12:51.253Z"
   },
   {
    "duration": 177,
    "start_time": "2023-04-12T11:12:51.376Z"
   },
   {
    "duration": 104,
    "start_time": "2023-04-12T11:12:51.555Z"
   },
   {
    "duration": 91,
    "start_time": "2023-04-12T11:12:51.661Z"
   },
   {
    "duration": 1025,
    "start_time": "2023-04-12T11:12:51.754Z"
   },
   {
    "duration": 10,
    "start_time": "2023-04-12T11:12:52.850Z"
   },
   {
    "duration": 1298,
    "start_time": "2023-04-12T11:12:52.862Z"
   },
   {
    "duration": 887,
    "start_time": "2023-04-12T11:12:54.162Z"
   },
   {
    "duration": 1118,
    "start_time": "2023-04-12T11:12:55.051Z"
   },
   {
    "duration": 1087,
    "start_time": "2023-04-12T11:12:56.171Z"
   },
   {
    "duration": 904,
    "start_time": "2023-04-12T11:12:57.259Z"
   },
   {
    "duration": 899,
    "start_time": "2023-04-12T11:12:58.164Z"
   },
   {
    "duration": 93,
    "start_time": "2023-04-12T11:12:59.065Z"
   },
   {
    "duration": 1013,
    "start_time": "2023-04-12T11:12:59.162Z"
   },
   {
    "duration": 79,
    "start_time": "2023-04-12T11:13:00.176Z"
   },
   {
    "duration": 99,
    "start_time": "2023-04-12T11:13:00.257Z"
   },
   {
    "duration": 1009,
    "start_time": "2023-04-12T11:13:00.358Z"
   },
   {
    "duration": 97,
    "start_time": "2023-04-12T11:13:01.369Z"
   },
   {
    "duration": 1197,
    "start_time": "2023-04-12T11:13:01.468Z"
   },
   {
    "duration": 787,
    "start_time": "2023-04-12T11:13:02.666Z"
   },
   {
    "duration": 1002,
    "start_time": "2023-04-12T11:13:03.455Z"
   },
   {
    "duration": 1090,
    "start_time": "2023-04-12T11:13:04.459Z"
   },
   {
    "duration": 1100,
    "start_time": "2023-04-12T11:13:05.551Z"
   },
   {
    "duration": 1203,
    "start_time": "2023-04-12T11:13:06.653Z"
   },
   {
    "duration": 7,
    "start_time": "2023-04-12T11:13:07.858Z"
   },
   {
    "duration": 708,
    "start_time": "2023-04-12T11:13:07.867Z"
   },
   {
    "duration": 875,
    "start_time": "2023-04-12T11:13:08.576Z"
   },
   {
    "duration": 700,
    "start_time": "2023-04-12T11:13:09.453Z"
   },
   {
    "duration": 722,
    "start_time": "2023-04-12T11:13:10.155Z"
   },
   {
    "duration": 426,
    "start_time": "2023-04-12T11:13:10.950Z"
   },
   {
    "duration": 421,
    "start_time": "2023-04-12T11:13:11.448Z"
   },
   {
    "duration": 488,
    "start_time": "2023-04-12T11:13:11.872Z"
   },
   {
    "duration": 609,
    "start_time": "2023-04-12T11:13:12.362Z"
   },
   {
    "duration": 98,
    "start_time": "2023-04-12T11:13:12.972Z"
   },
   {
    "duration": 1290,
    "start_time": "2023-04-12T11:13:13.072Z"
   },
   {
    "duration": 496,
    "start_time": "2023-04-12T11:13:14.364Z"
   },
   {
    "duration": 13,
    "start_time": "2023-04-12T11:46:51.891Z"
   },
   {
    "duration": 86,
    "start_time": "2023-04-12T11:46:54.949Z"
   },
   {
    "duration": 234,
    "start_time": "2023-04-12T11:48:49.542Z"
   }
  ],
  "kernelspec": {
   "display_name": "Python 3 (ipykernel)",
   "language": "python",
   "name": "python3"
  },
  "language_info": {
   "codemirror_mode": {
    "name": "ipython",
    "version": 3
   },
   "file_extension": ".py",
   "mimetype": "text/x-python",
   "name": "python",
   "nbconvert_exporter": "python",
   "pygments_lexer": "ipython3",
   "version": "3.9.5"
  },
  "toc": {
   "base_numbering": 1,
   "nav_menu": {},
   "number_sections": true,
   "sideBar": true,
   "skip_h1_title": true,
   "title_cell": "Table of Contents",
   "title_sidebar": "Contents",
   "toc_cell": false,
   "toc_position": {},
   "toc_section_display": true,
   "toc_window_display": false
  }
 },
 "nbformat": 4,
 "nbformat_minor": 2
}
