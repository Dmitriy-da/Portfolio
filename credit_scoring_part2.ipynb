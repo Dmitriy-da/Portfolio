{
 "cells": [
  {
   "cell_type": "markdown",
   "id": "d6cf5f98",
   "metadata": {},
   "source": [
    "<div style=\"border:solid Chocolate 2px; padding: 40px\">\n",
    "\n",
    "<b>Дмитрий, приветствую!</b>\n",
    "\n",
    "Буду рада с тобой познакомиться. Меня зовут Евгения Маракова и я буду ревьюером твоего проекта. Если ты не против, то предлагаю общаться на \"ты\":) Если удобнее на \"вы\", то нет проблем, только скажи об этом.\n",
    "\n",
    "В процессе работы ты встретишь комментарии <font color='green'>зеленого</font>, <font color='gold'>желтого</font> и <font color='red'>красного</font> цветов. Что они значат, смотри ниже:\n",
    "    <br/>\n",
    "\n",
    "<div class=\"alert alert-success\">\n",
    "<h2> Комментарий ревьюера <a class=\"tocSkip\"> </h2>\n",
    "\n",
    "<b>Отлично!✅:</b> Решение на этом шаге является полностью правильным.\n",
    "</div>\n",
    "\n",
    "<br/>\n",
    "\n",
    "<div class=\"alert alert-warning\">\n",
    "    <h2> Комментарий ревьюера <a class=\"tocSkip\"> </h2>\n",
    "    \n",
    "<b>Можно лучше⚠️:</b> Решение на этом шаге станет еще лучше, если внести небольшие коррективы.\n",
    "</div>\n",
    "\n",
    "\n",
    "<br/>\n",
    "<div class=\"alert alert-block alert-danger\">\n",
    "<h2> Комментарий ревьюера <a class=\"tocSkip\"></h2>\n",
    "\n",
    "    \n",
    "<b>Необходимо исправить❌:</b>\n",
    " Решение на этом шаге требует существенной переработки и внесения правок. Напоминаю, что проект не может быть принят с первого раза, если ревью содержит комментарии, рекомендующие доработать шаги.\n",
    "</div>\n",
    "    \n",
    "Увидев мой комментарий, не удаляй его, он будет очень полезен в случае повторной проверки работы😊\n",
    "    \n",
    "Свой комментарий помечай так, как показано ниже, тогда нам будет легче вести диалог, а мне выполнить повторную проверку проекта.\n",
    "    <div class=\"alert alert-info\"> <b>Комментарий студента: </b> </div>\n",
    "    \n"
   ]
  },
  {
   "cell_type": "markdown",
   "id": "386f2ae7",
   "metadata": {
    "deletable": false,
    "editable": false,
    "id": "386f2ae7"
   },
   "source": [
    "# Исследование надежности заемщиков\n"
   ]
  },
  {
   "cell_type": "markdown",
   "id": "ffe86f65",
   "metadata": {
    "deletable": false,
    "editable": false,
    "id": "ffe86f65"
   },
   "source": [
    "Во второй части проекта вы выполните шаги 3 и 4. Их вручную проверит ревьюер.\n",
    "Чтобы вам не пришлось писать код заново для шагов 1 и 2, мы добавили авторские решения в ячейки с кодом. \n",
    "\n"
   ]
  },
  {
   "cell_type": "markdown",
   "id": "26613308",
   "metadata": {
    "deletable": false,
    "editable": false,
    "id": "26613308"
   },
   "source": [
    "## Откройте таблицу и изучите общую информацию о данных"
   ]
  },
  {
   "cell_type": "markdown",
   "id": "3c9f838e",
   "metadata": {
    "deletable": false,
    "editable": false,
    "id": "3c9f838e"
   },
   "source": [
    "**Задание 1. Импортируйте библиотеку pandas. Считайте данные из csv-файла в датафрейм и сохраните в переменную `data`. Путь к файлу:**\n",
    "\n",
    "`/datasets/data.csv`"
   ]
  },
  {
   "cell_type": "code",
   "execution_count": 1,
   "id": "77a68a90",
   "metadata": {
    "deletable": false,
    "id": "77a68a90"
   },
   "outputs": [],
   "source": [
    "import pandas as pd\n",
    "data = pd.read_csv('/datasets/data.csv')\n"
   ]
  },
  {
   "cell_type": "markdown",
   "id": "45365635",
   "metadata": {
    "deletable": false,
    "editable": false,
    "id": "45365635"
   },
   "source": [
    "**Задание 2. Выведите первые 20 строчек датафрейма `data` на экран.**"
   ]
  },
  {
   "cell_type": "code",
   "execution_count": 2,
   "id": "b0451a9a",
   "metadata": {
    "deletable": false,
    "id": "b0451a9a",
    "outputId": "1a8f3ef2-d323-4ec2-ddf7-89670b5944c4"
   },
   "outputs": [
    {
     "data": {
      "text/html": [
       "<div>\n",
       "<style scoped>\n",
       "    .dataframe tbody tr th:only-of-type {\n",
       "        vertical-align: middle;\n",
       "    }\n",
       "\n",
       "    .dataframe tbody tr th {\n",
       "        vertical-align: top;\n",
       "    }\n",
       "\n",
       "    .dataframe thead th {\n",
       "        text-align: right;\n",
       "    }\n",
       "</style>\n",
       "<table border=\"1\" class=\"dataframe\">\n",
       "  <thead>\n",
       "    <tr style=\"text-align: right;\">\n",
       "      <th></th>\n",
       "      <th>children</th>\n",
       "      <th>days_employed</th>\n",
       "      <th>dob_years</th>\n",
       "      <th>education</th>\n",
       "      <th>education_id</th>\n",
       "      <th>family_status</th>\n",
       "      <th>family_status_id</th>\n",
       "      <th>gender</th>\n",
       "      <th>income_type</th>\n",
       "      <th>debt</th>\n",
       "      <th>total_income</th>\n",
       "      <th>purpose</th>\n",
       "    </tr>\n",
       "  </thead>\n",
       "  <tbody>\n",
       "    <tr>\n",
       "      <th>0</th>\n",
       "      <td>1</td>\n",
       "      <td>-8437.673028</td>\n",
       "      <td>42</td>\n",
       "      <td>высшее</td>\n",
       "      <td>0</td>\n",
       "      <td>женат / замужем</td>\n",
       "      <td>0</td>\n",
       "      <td>F</td>\n",
       "      <td>сотрудник</td>\n",
       "      <td>0</td>\n",
       "      <td>253875.639453</td>\n",
       "      <td>покупка жилья</td>\n",
       "    </tr>\n",
       "    <tr>\n",
       "      <th>1</th>\n",
       "      <td>1</td>\n",
       "      <td>-4024.803754</td>\n",
       "      <td>36</td>\n",
       "      <td>среднее</td>\n",
       "      <td>1</td>\n",
       "      <td>женат / замужем</td>\n",
       "      <td>0</td>\n",
       "      <td>F</td>\n",
       "      <td>сотрудник</td>\n",
       "      <td>0</td>\n",
       "      <td>112080.014102</td>\n",
       "      <td>приобретение автомобиля</td>\n",
       "    </tr>\n",
       "    <tr>\n",
       "      <th>2</th>\n",
       "      <td>0</td>\n",
       "      <td>-5623.422610</td>\n",
       "      <td>33</td>\n",
       "      <td>Среднее</td>\n",
       "      <td>1</td>\n",
       "      <td>женат / замужем</td>\n",
       "      <td>0</td>\n",
       "      <td>M</td>\n",
       "      <td>сотрудник</td>\n",
       "      <td>0</td>\n",
       "      <td>145885.952297</td>\n",
       "      <td>покупка жилья</td>\n",
       "    </tr>\n",
       "    <tr>\n",
       "      <th>3</th>\n",
       "      <td>3</td>\n",
       "      <td>-4124.747207</td>\n",
       "      <td>32</td>\n",
       "      <td>среднее</td>\n",
       "      <td>1</td>\n",
       "      <td>женат / замужем</td>\n",
       "      <td>0</td>\n",
       "      <td>M</td>\n",
       "      <td>сотрудник</td>\n",
       "      <td>0</td>\n",
       "      <td>267628.550329</td>\n",
       "      <td>дополнительное образование</td>\n",
       "    </tr>\n",
       "    <tr>\n",
       "      <th>4</th>\n",
       "      <td>0</td>\n",
       "      <td>340266.072047</td>\n",
       "      <td>53</td>\n",
       "      <td>среднее</td>\n",
       "      <td>1</td>\n",
       "      <td>гражданский брак</td>\n",
       "      <td>1</td>\n",
       "      <td>F</td>\n",
       "      <td>пенсионер</td>\n",
       "      <td>0</td>\n",
       "      <td>158616.077870</td>\n",
       "      <td>сыграть свадьбу</td>\n",
       "    </tr>\n",
       "    <tr>\n",
       "      <th>5</th>\n",
       "      <td>0</td>\n",
       "      <td>-926.185831</td>\n",
       "      <td>27</td>\n",
       "      <td>высшее</td>\n",
       "      <td>0</td>\n",
       "      <td>гражданский брак</td>\n",
       "      <td>1</td>\n",
       "      <td>M</td>\n",
       "      <td>компаньон</td>\n",
       "      <td>0</td>\n",
       "      <td>255763.565419</td>\n",
       "      <td>покупка жилья</td>\n",
       "    </tr>\n",
       "    <tr>\n",
       "      <th>6</th>\n",
       "      <td>0</td>\n",
       "      <td>-2879.202052</td>\n",
       "      <td>43</td>\n",
       "      <td>высшее</td>\n",
       "      <td>0</td>\n",
       "      <td>женат / замужем</td>\n",
       "      <td>0</td>\n",
       "      <td>F</td>\n",
       "      <td>компаньон</td>\n",
       "      <td>0</td>\n",
       "      <td>240525.971920</td>\n",
       "      <td>операции с жильем</td>\n",
       "    </tr>\n",
       "    <tr>\n",
       "      <th>7</th>\n",
       "      <td>0</td>\n",
       "      <td>-152.779569</td>\n",
       "      <td>50</td>\n",
       "      <td>СРЕДНЕЕ</td>\n",
       "      <td>1</td>\n",
       "      <td>женат / замужем</td>\n",
       "      <td>0</td>\n",
       "      <td>M</td>\n",
       "      <td>сотрудник</td>\n",
       "      <td>0</td>\n",
       "      <td>135823.934197</td>\n",
       "      <td>образование</td>\n",
       "    </tr>\n",
       "    <tr>\n",
       "      <th>8</th>\n",
       "      <td>2</td>\n",
       "      <td>-6929.865299</td>\n",
       "      <td>35</td>\n",
       "      <td>ВЫСШЕЕ</td>\n",
       "      <td>0</td>\n",
       "      <td>гражданский брак</td>\n",
       "      <td>1</td>\n",
       "      <td>F</td>\n",
       "      <td>сотрудник</td>\n",
       "      <td>0</td>\n",
       "      <td>95856.832424</td>\n",
       "      <td>на проведение свадьбы</td>\n",
       "    </tr>\n",
       "    <tr>\n",
       "      <th>9</th>\n",
       "      <td>0</td>\n",
       "      <td>-2188.756445</td>\n",
       "      <td>41</td>\n",
       "      <td>среднее</td>\n",
       "      <td>1</td>\n",
       "      <td>женат / замужем</td>\n",
       "      <td>0</td>\n",
       "      <td>M</td>\n",
       "      <td>сотрудник</td>\n",
       "      <td>0</td>\n",
       "      <td>144425.938277</td>\n",
       "      <td>покупка жилья для семьи</td>\n",
       "    </tr>\n",
       "    <tr>\n",
       "      <th>10</th>\n",
       "      <td>2</td>\n",
       "      <td>-4171.483647</td>\n",
       "      <td>36</td>\n",
       "      <td>высшее</td>\n",
       "      <td>0</td>\n",
       "      <td>женат / замужем</td>\n",
       "      <td>0</td>\n",
       "      <td>M</td>\n",
       "      <td>компаньон</td>\n",
       "      <td>0</td>\n",
       "      <td>113943.491460</td>\n",
       "      <td>покупка недвижимости</td>\n",
       "    </tr>\n",
       "    <tr>\n",
       "      <th>11</th>\n",
       "      <td>0</td>\n",
       "      <td>-792.701887</td>\n",
       "      <td>40</td>\n",
       "      <td>среднее</td>\n",
       "      <td>1</td>\n",
       "      <td>женат / замужем</td>\n",
       "      <td>0</td>\n",
       "      <td>F</td>\n",
       "      <td>сотрудник</td>\n",
       "      <td>0</td>\n",
       "      <td>77069.234271</td>\n",
       "      <td>покупка коммерческой недвижимости</td>\n",
       "    </tr>\n",
       "    <tr>\n",
       "      <th>12</th>\n",
       "      <td>0</td>\n",
       "      <td>NaN</td>\n",
       "      <td>65</td>\n",
       "      <td>среднее</td>\n",
       "      <td>1</td>\n",
       "      <td>гражданский брак</td>\n",
       "      <td>1</td>\n",
       "      <td>M</td>\n",
       "      <td>пенсионер</td>\n",
       "      <td>0</td>\n",
       "      <td>NaN</td>\n",
       "      <td>сыграть свадьбу</td>\n",
       "    </tr>\n",
       "    <tr>\n",
       "      <th>13</th>\n",
       "      <td>0</td>\n",
       "      <td>-1846.641941</td>\n",
       "      <td>54</td>\n",
       "      <td>неоконченное высшее</td>\n",
       "      <td>2</td>\n",
       "      <td>женат / замужем</td>\n",
       "      <td>0</td>\n",
       "      <td>F</td>\n",
       "      <td>сотрудник</td>\n",
       "      <td>0</td>\n",
       "      <td>130458.228857</td>\n",
       "      <td>приобретение автомобиля</td>\n",
       "    </tr>\n",
       "    <tr>\n",
       "      <th>14</th>\n",
       "      <td>0</td>\n",
       "      <td>-1844.956182</td>\n",
       "      <td>56</td>\n",
       "      <td>высшее</td>\n",
       "      <td>0</td>\n",
       "      <td>гражданский брак</td>\n",
       "      <td>1</td>\n",
       "      <td>F</td>\n",
       "      <td>компаньон</td>\n",
       "      <td>1</td>\n",
       "      <td>165127.911772</td>\n",
       "      <td>покупка жилой недвижимости</td>\n",
       "    </tr>\n",
       "    <tr>\n",
       "      <th>15</th>\n",
       "      <td>1</td>\n",
       "      <td>-972.364419</td>\n",
       "      <td>26</td>\n",
       "      <td>среднее</td>\n",
       "      <td>1</td>\n",
       "      <td>женат / замужем</td>\n",
       "      <td>0</td>\n",
       "      <td>F</td>\n",
       "      <td>сотрудник</td>\n",
       "      <td>0</td>\n",
       "      <td>116820.904450</td>\n",
       "      <td>строительство собственной недвижимости</td>\n",
       "    </tr>\n",
       "    <tr>\n",
       "      <th>16</th>\n",
       "      <td>0</td>\n",
       "      <td>-1719.934226</td>\n",
       "      <td>35</td>\n",
       "      <td>среднее</td>\n",
       "      <td>1</td>\n",
       "      <td>женат / замужем</td>\n",
       "      <td>0</td>\n",
       "      <td>F</td>\n",
       "      <td>сотрудник</td>\n",
       "      <td>0</td>\n",
       "      <td>289202.704229</td>\n",
       "      <td>недвижимость</td>\n",
       "    </tr>\n",
       "    <tr>\n",
       "      <th>17</th>\n",
       "      <td>0</td>\n",
       "      <td>-2369.999720</td>\n",
       "      <td>33</td>\n",
       "      <td>высшее</td>\n",
       "      <td>0</td>\n",
       "      <td>гражданский брак</td>\n",
       "      <td>1</td>\n",
       "      <td>M</td>\n",
       "      <td>сотрудник</td>\n",
       "      <td>0</td>\n",
       "      <td>90410.586745</td>\n",
       "      <td>строительство недвижимости</td>\n",
       "    </tr>\n",
       "    <tr>\n",
       "      <th>18</th>\n",
       "      <td>0</td>\n",
       "      <td>400281.136913</td>\n",
       "      <td>53</td>\n",
       "      <td>среднее</td>\n",
       "      <td>1</td>\n",
       "      <td>вдовец / вдова</td>\n",
       "      <td>2</td>\n",
       "      <td>F</td>\n",
       "      <td>пенсионер</td>\n",
       "      <td>0</td>\n",
       "      <td>56823.777243</td>\n",
       "      <td>на покупку подержанного автомобиля</td>\n",
       "    </tr>\n",
       "    <tr>\n",
       "      <th>19</th>\n",
       "      <td>0</td>\n",
       "      <td>-10038.818549</td>\n",
       "      <td>48</td>\n",
       "      <td>СРЕДНЕЕ</td>\n",
       "      <td>1</td>\n",
       "      <td>в разводе</td>\n",
       "      <td>3</td>\n",
       "      <td>F</td>\n",
       "      <td>сотрудник</td>\n",
       "      <td>0</td>\n",
       "      <td>242831.107982</td>\n",
       "      <td>на покупку своего автомобиля</td>\n",
       "    </tr>\n",
       "  </tbody>\n",
       "</table>\n",
       "</div>"
      ],
      "text/plain": [
       "    children  days_employed  dob_years            education  education_id  \\\n",
       "0          1   -8437.673028         42               высшее             0   \n",
       "1          1   -4024.803754         36              среднее             1   \n",
       "2          0   -5623.422610         33              Среднее             1   \n",
       "3          3   -4124.747207         32              среднее             1   \n",
       "4          0  340266.072047         53              среднее             1   \n",
       "5          0    -926.185831         27               высшее             0   \n",
       "6          0   -2879.202052         43               высшее             0   \n",
       "7          0    -152.779569         50              СРЕДНЕЕ             1   \n",
       "8          2   -6929.865299         35               ВЫСШЕЕ             0   \n",
       "9          0   -2188.756445         41              среднее             1   \n",
       "10         2   -4171.483647         36               высшее             0   \n",
       "11         0    -792.701887         40              среднее             1   \n",
       "12         0            NaN         65              среднее             1   \n",
       "13         0   -1846.641941         54  неоконченное высшее             2   \n",
       "14         0   -1844.956182         56               высшее             0   \n",
       "15         1    -972.364419         26              среднее             1   \n",
       "16         0   -1719.934226         35              среднее             1   \n",
       "17         0   -2369.999720         33               высшее             0   \n",
       "18         0  400281.136913         53              среднее             1   \n",
       "19         0  -10038.818549         48              СРЕДНЕЕ             1   \n",
       "\n",
       "       family_status  family_status_id gender income_type  debt  \\\n",
       "0    женат / замужем                 0      F   сотрудник     0   \n",
       "1    женат / замужем                 0      F   сотрудник     0   \n",
       "2    женат / замужем                 0      M   сотрудник     0   \n",
       "3    женат / замужем                 0      M   сотрудник     0   \n",
       "4   гражданский брак                 1      F   пенсионер     0   \n",
       "5   гражданский брак                 1      M   компаньон     0   \n",
       "6    женат / замужем                 0      F   компаньон     0   \n",
       "7    женат / замужем                 0      M   сотрудник     0   \n",
       "8   гражданский брак                 1      F   сотрудник     0   \n",
       "9    женат / замужем                 0      M   сотрудник     0   \n",
       "10   женат / замужем                 0      M   компаньон     0   \n",
       "11   женат / замужем                 0      F   сотрудник     0   \n",
       "12  гражданский брак                 1      M   пенсионер     0   \n",
       "13   женат / замужем                 0      F   сотрудник     0   \n",
       "14  гражданский брак                 1      F   компаньон     1   \n",
       "15   женат / замужем                 0      F   сотрудник     0   \n",
       "16   женат / замужем                 0      F   сотрудник     0   \n",
       "17  гражданский брак                 1      M   сотрудник     0   \n",
       "18    вдовец / вдова                 2      F   пенсионер     0   \n",
       "19         в разводе                 3      F   сотрудник     0   \n",
       "\n",
       "     total_income                                 purpose  \n",
       "0   253875.639453                           покупка жилья  \n",
       "1   112080.014102                 приобретение автомобиля  \n",
       "2   145885.952297                           покупка жилья  \n",
       "3   267628.550329              дополнительное образование  \n",
       "4   158616.077870                         сыграть свадьбу  \n",
       "5   255763.565419                           покупка жилья  \n",
       "6   240525.971920                       операции с жильем  \n",
       "7   135823.934197                             образование  \n",
       "8    95856.832424                   на проведение свадьбы  \n",
       "9   144425.938277                 покупка жилья для семьи  \n",
       "10  113943.491460                    покупка недвижимости  \n",
       "11   77069.234271       покупка коммерческой недвижимости  \n",
       "12            NaN                         сыграть свадьбу  \n",
       "13  130458.228857                 приобретение автомобиля  \n",
       "14  165127.911772              покупка жилой недвижимости  \n",
       "15  116820.904450  строительство собственной недвижимости  \n",
       "16  289202.704229                            недвижимость  \n",
       "17   90410.586745              строительство недвижимости  \n",
       "18   56823.777243      на покупку подержанного автомобиля  \n",
       "19  242831.107982            на покупку своего автомобиля  "
      ]
     },
     "execution_count": 2,
     "metadata": {},
     "output_type": "execute_result"
    }
   ],
   "source": [
    "data.head(20)"
   ]
  },
  {
   "cell_type": "markdown",
   "id": "0ed8f27f",
   "metadata": {
    "deletable": false,
    "editable": false,
    "id": "0ed8f27f"
   },
   "source": [
    "**Задание 3. Выведите основную информацию о датафрейме с помощью метода `info()`.**"
   ]
  },
  {
   "cell_type": "code",
   "execution_count": 3,
   "id": "ab3f863b",
   "metadata": {
    "deletable": false,
    "id": "ab3f863b",
    "outputId": "15376089-8dad-46c9-b520-c05248d43158"
   },
   "outputs": [
    {
     "name": "stdout",
     "output_type": "stream",
     "text": [
      "<class 'pandas.core.frame.DataFrame'>\n",
      "RangeIndex: 21525 entries, 0 to 21524\n",
      "Data columns (total 12 columns):\n",
      " #   Column            Non-Null Count  Dtype  \n",
      "---  ------            --------------  -----  \n",
      " 0   children          21525 non-null  int64  \n",
      " 1   days_employed     19351 non-null  float64\n",
      " 2   dob_years         21525 non-null  int64  \n",
      " 3   education         21525 non-null  object \n",
      " 4   education_id      21525 non-null  int64  \n",
      " 5   family_status     21525 non-null  object \n",
      " 6   family_status_id  21525 non-null  int64  \n",
      " 7   gender            21525 non-null  object \n",
      " 8   income_type       21525 non-null  object \n",
      " 9   debt              21525 non-null  int64  \n",
      " 10  total_income      19351 non-null  float64\n",
      " 11  purpose           21525 non-null  object \n",
      "dtypes: float64(2), int64(5), object(5)\n",
      "memory usage: 2.0+ MB\n"
     ]
    }
   ],
   "source": [
    "data.info()"
   ]
  },
  {
   "cell_type": "markdown",
   "id": "60e3e22d",
   "metadata": {
    "deletable": false,
    "editable": false,
    "id": "60e3e22d"
   },
   "source": [
    "## Предобработка данных"
   ]
  },
  {
   "cell_type": "markdown",
   "id": "03dc170c",
   "metadata": {
    "deletable": false,
    "editable": false,
    "id": "03dc170c"
   },
   "source": [
    "### Удаление пропусков"
   ]
  },
  {
   "cell_type": "markdown",
   "id": "a4f54eef",
   "metadata": {
    "deletable": false,
    "editable": false,
    "id": "a4f54eef"
   },
   "source": [
    "**Задание 4. Выведите количество пропущенных значений для каждого столбца. Используйте комбинацию двух методов.**"
   ]
  },
  {
   "cell_type": "code",
   "execution_count": 4,
   "id": "2dc372b2",
   "metadata": {
    "deletable": false,
    "id": "2dc372b2",
    "outputId": "81f4d817-781c-465c-ed15-91ce4446810d"
   },
   "outputs": [
    {
     "data": {
      "text/plain": [
       "children               0\n",
       "days_employed       2174\n",
       "dob_years              0\n",
       "education              0\n",
       "education_id           0\n",
       "family_status          0\n",
       "family_status_id       0\n",
       "gender                 0\n",
       "income_type            0\n",
       "debt                   0\n",
       "total_income        2174\n",
       "purpose                0\n",
       "dtype: int64"
      ]
     },
     "execution_count": 4,
     "metadata": {},
     "output_type": "execute_result"
    }
   ],
   "source": [
    "data.isna().sum()"
   ]
  },
  {
   "cell_type": "markdown",
   "id": "14f011b1",
   "metadata": {
    "deletable": false,
    "editable": false,
    "id": "14f011b1"
   },
   "source": [
    "**Задание 5. В двух столбцах есть пропущенные значения. Один из них — `days_employed`. Пропуски в этом столбце вы обработаете на следующем этапе. Другой столбец с пропущенными значениями — `total_income` — хранит данные о доходах. На сумму дохода сильнее всего влияет тип занятости, поэтому заполнить пропуски в этом столбце нужно медианным значением по каждому типу из столбца `income_type`. Например, у человека с типом занятости `сотрудник` пропуск в столбце `total_income` должен быть заполнен медианным доходом среди всех записей с тем же типом.**"
   ]
  },
  {
   "cell_type": "code",
   "execution_count": 5,
   "id": "bdabfb6e",
   "metadata": {
    "deletable": false,
    "id": "bdabfb6e"
   },
   "outputs": [],
   "source": [
    "for t in data['income_type'].unique():\n",
    "    data.loc[(data['income_type'] == t) & (data['total_income'].isna()), 'total_income'] = \\\n",
    "    data.loc[(data['income_type'] == t), 'total_income'].median()"
   ]
  },
  {
   "cell_type": "markdown",
   "id": "5be34059",
   "metadata": {
    "deletable": false,
    "editable": false,
    "id": "5be34059"
   },
   "source": [
    "### Обработка аномальных значений"
   ]
  },
  {
   "cell_type": "markdown",
   "id": "a87606cb",
   "metadata": {
    "deletable": false,
    "editable": false,
    "id": "a87606cb"
   },
   "source": [
    "**Задание 6. В данных могут встречаться артефакты (аномалии) — значения, которые не отражают действительность и появились по какой-то ошибке. таким артефактом будет отрицательное количество дней трудового стажа в столбце `days_employed`. Для реальных данных это нормально. Обработайте значения в этом столбце: замените все отрицательные значения положительными с помощью метода `abs()`.**"
   ]
  },
  {
   "cell_type": "code",
   "execution_count": 6,
   "id": "020c46cc",
   "metadata": {
    "deletable": false,
    "id": "020c46cc"
   },
   "outputs": [],
   "source": [
    "data['days_employed'] = data['days_employed'].abs()"
   ]
  },
  {
   "cell_type": "markdown",
   "id": "45538a3a",
   "metadata": {
    "deletable": false,
    "editable": false,
    "id": "45538a3a"
   },
   "source": [
    "**Задание 7. Для каждого типа занятости выведите медианное значение трудового стажа `days_employed` в днях.**"
   ]
  },
  {
   "cell_type": "code",
   "execution_count": 7,
   "id": "cd3e6328",
   "metadata": {
    "deletable": false,
    "id": "cd3e6328",
    "outputId": "801ef80e-522b-4668-f34e-565af7432bcf"
   },
   "outputs": [
    {
     "data": {
      "text/plain": [
       "income_type\n",
       "безработный        366413.652744\n",
       "в декрете            3296.759962\n",
       "госслужащий          2689.368353\n",
       "компаньон            1547.382223\n",
       "пенсионер          365213.306266\n",
       "предприниматель       520.848083\n",
       "сотрудник            1574.202821\n",
       "студент               578.751554\n",
       "Name: days_employed, dtype: float64"
      ]
     },
     "execution_count": 7,
     "metadata": {},
     "output_type": "execute_result"
    }
   ],
   "source": [
    "data.groupby('income_type')['days_employed'].agg('median')"
   ]
  },
  {
   "cell_type": "markdown",
   "id": "90c5f058",
   "metadata": {
    "deletable": false,
    "editable": false,
    "id": "90c5f058"
   },
   "source": [
    "У двух типов (безработные и пенсионеры) получатся аномально большие значения. Исправить такие значения сложно, поэтому оставьте их как есть."
   ]
  },
  {
   "cell_type": "markdown",
   "id": "9652e50d",
   "metadata": {
    "deletable": false,
    "editable": false,
    "id": "9652e50d"
   },
   "source": [
    "**Задание 8. Выведите перечень уникальных значений столбца `children`.**"
   ]
  },
  {
   "cell_type": "code",
   "execution_count": 8,
   "id": "dbb37b8e",
   "metadata": {
    "deletable": false,
    "id": "dbb37b8e",
    "outputId": "6975b15c-7f95-4697-d16d-a0c79b657b03"
   },
   "outputs": [
    {
     "data": {
      "text/plain": [
       "array([ 1,  0,  3,  2, -1,  4, 20,  5])"
      ]
     },
     "execution_count": 8,
     "metadata": {},
     "output_type": "execute_result"
    }
   ],
   "source": [
    "data['children'].unique()"
   ]
  },
  {
   "cell_type": "markdown",
   "id": "2b8b0715",
   "metadata": {
    "deletable": false,
    "editable": false,
    "id": "2b8b0715"
   },
   "source": [
    "**Задание 9. В столбце `children` есть два аномальных значения. Удалите строки, в которых встречаются такие аномальные значения из датафрейма `data`.**"
   ]
  },
  {
   "cell_type": "code",
   "execution_count": 9,
   "id": "20009df8",
   "metadata": {
    "deletable": false,
    "id": "20009df8"
   },
   "outputs": [],
   "source": [
    "data = data[(data['children'] != -1) & (data['children'] != 20)]"
   ]
  },
  {
   "cell_type": "markdown",
   "id": "8c6ac9f1",
   "metadata": {
    "deletable": false,
    "editable": false,
    "id": "8c6ac9f1"
   },
   "source": [
    "**Задание 10. Ещё раз выведите перечень уникальных значений столбца `children`, чтобы убедиться, что артефакты удалены.**"
   ]
  },
  {
   "cell_type": "code",
   "execution_count": 10,
   "id": "07337b81",
   "metadata": {
    "deletable": false,
    "id": "07337b81",
    "outputId": "b2097101-d49d-44d9-901b-32a65c9463d1"
   },
   "outputs": [
    {
     "data": {
      "text/plain": [
       "array([1, 0, 3, 2, 4, 5])"
      ]
     },
     "execution_count": 10,
     "metadata": {},
     "output_type": "execute_result"
    }
   ],
   "source": [
    "data['children'].unique()"
   ]
  },
  {
   "cell_type": "markdown",
   "id": "ee3f52d4",
   "metadata": {
    "deletable": false,
    "editable": false,
    "id": "ee3f52d4"
   },
   "source": [
    "### Удаление пропусков (продолжение)"
   ]
  },
  {
   "cell_type": "markdown",
   "id": "a700b0e4",
   "metadata": {
    "deletable": false,
    "editable": false,
    "id": "a700b0e4"
   },
   "source": [
    "**Задание 11. Заполните пропуски в столбце `days_employed` медианными значениями по каждого типа занятости `income_type`.**"
   ]
  },
  {
   "cell_type": "code",
   "execution_count": 11,
   "id": "61946b83",
   "metadata": {
    "deletable": false,
    "id": "61946b83"
   },
   "outputs": [],
   "source": [
    "for t in data['income_type'].unique():\n",
    "    data.loc[(data['income_type'] == t) & (data['days_employed'].isna()), 'days_employed'] = \\\n",
    "    data.loc[(data['income_type'] == t), 'days_employed'].median()"
   ]
  },
  {
   "cell_type": "markdown",
   "id": "550dcd9b",
   "metadata": {
    "deletable": false,
    "editable": false,
    "id": "550dcd9b"
   },
   "source": [
    "**Задание 12. Убедитесь, что все пропуски заполнены. Проверьте себя и ещё раз выведите количество пропущенных значений для каждого столбца с помощью двух методов.**"
   ]
  },
  {
   "cell_type": "code",
   "execution_count": 12,
   "id": "937c7014",
   "metadata": {
    "deletable": false,
    "id": "937c7014",
    "outputId": "8da1e4e1-358e-4e87-98c9-f261bce0a7b2"
   },
   "outputs": [
    {
     "data": {
      "text/plain": [
       "children            0\n",
       "days_employed       0\n",
       "dob_years           0\n",
       "education           0\n",
       "education_id        0\n",
       "family_status       0\n",
       "family_status_id    0\n",
       "gender              0\n",
       "income_type         0\n",
       "debt                0\n",
       "total_income        0\n",
       "purpose             0\n",
       "dtype: int64"
      ]
     },
     "execution_count": 12,
     "metadata": {},
     "output_type": "execute_result"
    }
   ],
   "source": [
    "data.isna().sum()"
   ]
  },
  {
   "cell_type": "markdown",
   "id": "d522e295",
   "metadata": {
    "deletable": false,
    "editable": false,
    "id": "d522e295"
   },
   "source": [
    "### Изменение типов данных"
   ]
  },
  {
   "cell_type": "markdown",
   "id": "c229c581",
   "metadata": {
    "deletable": false,
    "editable": false,
    "id": "c229c581"
   },
   "source": [
    "**Задание 13. Замените вещественный тип данных в столбце `total_income` на целочисленный с помощью метода `astype()`.**"
   ]
  },
  {
   "cell_type": "code",
   "execution_count": 13,
   "id": "31036462",
   "metadata": {
    "deletable": false,
    "id": "31036462"
   },
   "outputs": [],
   "source": [
    "data['total_income'] = data['total_income'].astype(int)"
   ]
  },
  {
   "cell_type": "markdown",
   "id": "b8e3d1d9",
   "metadata": {
    "deletable": false,
    "editable": false,
    "id": "b8e3d1d9"
   },
   "source": [
    "### Обработка дубликатов"
   ]
  },
  {
   "cell_type": "markdown",
   "id": "9be53c49",
   "metadata": {
    "deletable": false,
    "editable": false,
    "id": "9be53c49"
   },
   "source": [
    "**Задание 14. Обработайте неявные дубликаты в столбце `education`. В этом столбце есть одни и те же значения, но записанные по-разному: с использованием заглавных и строчных букв. Приведите их к нижнему регистру.**"
   ]
  },
  {
   "cell_type": "code",
   "execution_count": 14,
   "id": "d89e73e1",
   "metadata": {
    "deletable": false,
    "id": "d89e73e1"
   },
   "outputs": [],
   "source": [
    "data['education'] = data['education'].str.lower()"
   ]
  },
  {
   "cell_type": "markdown",
   "id": "01d4500e",
   "metadata": {
    "deletable": false,
    "editable": false,
    "id": "01d4500e"
   },
   "source": [
    "**Задание 15. Выведите на экран количество строк-дубликатов в данных. Если такие строки присутствуют, удалите их.**"
   ]
  },
  {
   "cell_type": "code",
   "execution_count": 15,
   "id": "e10efb23",
   "metadata": {
    "deletable": false,
    "id": "e10efb23",
    "outputId": "9684deba-1934-42d1-99e1-cda61740f822"
   },
   "outputs": [
    {
     "data": {
      "text/plain": [
       "71"
      ]
     },
     "execution_count": 15,
     "metadata": {},
     "output_type": "execute_result"
    }
   ],
   "source": [
    "data.duplicated().sum()"
   ]
  },
  {
   "cell_type": "code",
   "execution_count": 16,
   "id": "df853f20",
   "metadata": {
    "deletable": false,
    "id": "df853f20"
   },
   "outputs": [],
   "source": [
    "data = data.drop_duplicates()"
   ]
  },
  {
   "cell_type": "markdown",
   "id": "627be38f",
   "metadata": {
    "deletable": false,
    "editable": false,
    "id": "627be38f"
   },
   "source": [
    "### Категоризация данных"
   ]
  },
  {
   "cell_type": "markdown",
   "id": "4684c3e0",
   "metadata": {
    "deletable": false,
    "editable": false,
    "id": "4684c3e0"
   },
   "source": [
    "**Задание 16. На основании диапазонов, указанных ниже, создайте в датафрейме `data` столбец `total_income_category` с категориями:**\n",
    "\n",
    "- 0–30000 — `'E'`;\n",
    "- 30001–50000 — `'D'`;\n",
    "- 50001–200000 — `'C'`;\n",
    "- 200001–1000000 — `'B'`;\n",
    "- 1000001 и выше — `'A'`.\n",
    "\n",
    "\n",
    "**Например, кредитополучателю с доходом 25000 нужно назначить категорию `'E'`, а клиенту, получающему 235000, — `'B'`. Используйте собственную функцию с именем `categorize_income()` и метод `apply()`.**"
   ]
  },
  {
   "cell_type": "code",
   "execution_count": 17,
   "id": "78965238",
   "metadata": {
    "deletable": false,
    "id": "78965238"
   },
   "outputs": [
    {
     "data": {
      "text/html": [
       "<div>\n",
       "<style scoped>\n",
       "    .dataframe tbody tr th:only-of-type {\n",
       "        vertical-align: middle;\n",
       "    }\n",
       "\n",
       "    .dataframe tbody tr th {\n",
       "        vertical-align: top;\n",
       "    }\n",
       "\n",
       "    .dataframe thead th {\n",
       "        text-align: right;\n",
       "    }\n",
       "</style>\n",
       "<table border=\"1\" class=\"dataframe\">\n",
       "  <thead>\n",
       "    <tr style=\"text-align: right;\">\n",
       "      <th></th>\n",
       "      <th>children</th>\n",
       "      <th>days_employed</th>\n",
       "      <th>dob_years</th>\n",
       "      <th>education</th>\n",
       "      <th>education_id</th>\n",
       "      <th>family_status</th>\n",
       "      <th>family_status_id</th>\n",
       "      <th>gender</th>\n",
       "      <th>income_type</th>\n",
       "      <th>debt</th>\n",
       "      <th>total_income</th>\n",
       "      <th>purpose</th>\n",
       "    </tr>\n",
       "  </thead>\n",
       "  <tbody>\n",
       "    <tr>\n",
       "      <th>0</th>\n",
       "      <td>1</td>\n",
       "      <td>8437.673028</td>\n",
       "      <td>42</td>\n",
       "      <td>высшее</td>\n",
       "      <td>0</td>\n",
       "      <td>женат / замужем</td>\n",
       "      <td>0</td>\n",
       "      <td>F</td>\n",
       "      <td>сотрудник</td>\n",
       "      <td>0</td>\n",
       "      <td>253875</td>\n",
       "      <td>покупка жилья</td>\n",
       "    </tr>\n",
       "    <tr>\n",
       "      <th>1</th>\n",
       "      <td>1</td>\n",
       "      <td>4024.803754</td>\n",
       "      <td>36</td>\n",
       "      <td>среднее</td>\n",
       "      <td>1</td>\n",
       "      <td>женат / замужем</td>\n",
       "      <td>0</td>\n",
       "      <td>F</td>\n",
       "      <td>сотрудник</td>\n",
       "      <td>0</td>\n",
       "      <td>112080</td>\n",
       "      <td>приобретение автомобиля</td>\n",
       "    </tr>\n",
       "    <tr>\n",
       "      <th>2</th>\n",
       "      <td>0</td>\n",
       "      <td>5623.422610</td>\n",
       "      <td>33</td>\n",
       "      <td>среднее</td>\n",
       "      <td>1</td>\n",
       "      <td>женат / замужем</td>\n",
       "      <td>0</td>\n",
       "      <td>M</td>\n",
       "      <td>сотрудник</td>\n",
       "      <td>0</td>\n",
       "      <td>145885</td>\n",
       "      <td>покупка жилья</td>\n",
       "    </tr>\n",
       "    <tr>\n",
       "      <th>3</th>\n",
       "      <td>3</td>\n",
       "      <td>4124.747207</td>\n",
       "      <td>32</td>\n",
       "      <td>среднее</td>\n",
       "      <td>1</td>\n",
       "      <td>женат / замужем</td>\n",
       "      <td>0</td>\n",
       "      <td>M</td>\n",
       "      <td>сотрудник</td>\n",
       "      <td>0</td>\n",
       "      <td>267628</td>\n",
       "      <td>дополнительное образование</td>\n",
       "    </tr>\n",
       "    <tr>\n",
       "      <th>4</th>\n",
       "      <td>0</td>\n",
       "      <td>340266.072047</td>\n",
       "      <td>53</td>\n",
       "      <td>среднее</td>\n",
       "      <td>1</td>\n",
       "      <td>гражданский брак</td>\n",
       "      <td>1</td>\n",
       "      <td>F</td>\n",
       "      <td>пенсионер</td>\n",
       "      <td>0</td>\n",
       "      <td>158616</td>\n",
       "      <td>сыграть свадьбу</td>\n",
       "    </tr>\n",
       "  </tbody>\n",
       "</table>\n",
       "</div>"
      ],
      "text/plain": [
       "   children  days_employed  dob_years education  education_id  \\\n",
       "0         1    8437.673028         42    высшее             0   \n",
       "1         1    4024.803754         36   среднее             1   \n",
       "2         0    5623.422610         33   среднее             1   \n",
       "3         3    4124.747207         32   среднее             1   \n",
       "4         0  340266.072047         53   среднее             1   \n",
       "\n",
       "      family_status  family_status_id gender income_type  debt  total_income  \\\n",
       "0   женат / замужем                 0      F   сотрудник     0        253875   \n",
       "1   женат / замужем                 0      F   сотрудник     0        112080   \n",
       "2   женат / замужем                 0      M   сотрудник     0        145885   \n",
       "3   женат / замужем                 0      M   сотрудник     0        267628   \n",
       "4  гражданский брак                 1      F   пенсионер     0        158616   \n",
       "\n",
       "                      purpose  \n",
       "0               покупка жилья  \n",
       "1     приобретение автомобиля  \n",
       "2               покупка жилья  \n",
       "3  дополнительное образование  \n",
       "4             сыграть свадьбу  "
      ]
     },
     "execution_count": 17,
     "metadata": {},
     "output_type": "execute_result"
    }
   ],
   "source": [
    "def categorize_income(income):\n",
    "    try:\n",
    "        if 0 <= income <= 30000:\n",
    "            return 'E'\n",
    "        elif 30001 <= income <= 50000:\n",
    "            return 'D'\n",
    "        elif 50001 <= income <= 200000:\n",
    "            return 'C'\n",
    "        elif 200001 <= income <= 1000000:\n",
    "            return 'B'\n",
    "        elif income >= 1000001:\n",
    "            return 'A'\n",
    "    except:\n",
    "        pass\n",
    "data.head()"
   ]
  },
  {
   "cell_type": "code",
   "execution_count": 18,
   "id": "0980ada1",
   "metadata": {
    "deletable": false,
    "id": "0980ada1"
   },
   "outputs": [
    {
     "data": {
      "text/html": [
       "<div>\n",
       "<style scoped>\n",
       "    .dataframe tbody tr th:only-of-type {\n",
       "        vertical-align: middle;\n",
       "    }\n",
       "\n",
       "    .dataframe tbody tr th {\n",
       "        vertical-align: top;\n",
       "    }\n",
       "\n",
       "    .dataframe thead th {\n",
       "        text-align: right;\n",
       "    }\n",
       "</style>\n",
       "<table border=\"1\" class=\"dataframe\">\n",
       "  <thead>\n",
       "    <tr style=\"text-align: right;\">\n",
       "      <th></th>\n",
       "      <th>children</th>\n",
       "      <th>days_employed</th>\n",
       "      <th>dob_years</th>\n",
       "      <th>education</th>\n",
       "      <th>education_id</th>\n",
       "      <th>family_status</th>\n",
       "      <th>family_status_id</th>\n",
       "      <th>gender</th>\n",
       "      <th>income_type</th>\n",
       "      <th>debt</th>\n",
       "      <th>total_income</th>\n",
       "      <th>purpose</th>\n",
       "      <th>total_income_category</th>\n",
       "    </tr>\n",
       "  </thead>\n",
       "  <tbody>\n",
       "    <tr>\n",
       "      <th>0</th>\n",
       "      <td>1</td>\n",
       "      <td>8437.673028</td>\n",
       "      <td>42</td>\n",
       "      <td>высшее</td>\n",
       "      <td>0</td>\n",
       "      <td>женат / замужем</td>\n",
       "      <td>0</td>\n",
       "      <td>F</td>\n",
       "      <td>сотрудник</td>\n",
       "      <td>0</td>\n",
       "      <td>253875</td>\n",
       "      <td>покупка жилья</td>\n",
       "      <td>B</td>\n",
       "    </tr>\n",
       "    <tr>\n",
       "      <th>1</th>\n",
       "      <td>1</td>\n",
       "      <td>4024.803754</td>\n",
       "      <td>36</td>\n",
       "      <td>среднее</td>\n",
       "      <td>1</td>\n",
       "      <td>женат / замужем</td>\n",
       "      <td>0</td>\n",
       "      <td>F</td>\n",
       "      <td>сотрудник</td>\n",
       "      <td>0</td>\n",
       "      <td>112080</td>\n",
       "      <td>приобретение автомобиля</td>\n",
       "      <td>C</td>\n",
       "    </tr>\n",
       "    <tr>\n",
       "      <th>2</th>\n",
       "      <td>0</td>\n",
       "      <td>5623.422610</td>\n",
       "      <td>33</td>\n",
       "      <td>среднее</td>\n",
       "      <td>1</td>\n",
       "      <td>женат / замужем</td>\n",
       "      <td>0</td>\n",
       "      <td>M</td>\n",
       "      <td>сотрудник</td>\n",
       "      <td>0</td>\n",
       "      <td>145885</td>\n",
       "      <td>покупка жилья</td>\n",
       "      <td>C</td>\n",
       "    </tr>\n",
       "    <tr>\n",
       "      <th>3</th>\n",
       "      <td>3</td>\n",
       "      <td>4124.747207</td>\n",
       "      <td>32</td>\n",
       "      <td>среднее</td>\n",
       "      <td>1</td>\n",
       "      <td>женат / замужем</td>\n",
       "      <td>0</td>\n",
       "      <td>M</td>\n",
       "      <td>сотрудник</td>\n",
       "      <td>0</td>\n",
       "      <td>267628</td>\n",
       "      <td>дополнительное образование</td>\n",
       "      <td>B</td>\n",
       "    </tr>\n",
       "    <tr>\n",
       "      <th>4</th>\n",
       "      <td>0</td>\n",
       "      <td>340266.072047</td>\n",
       "      <td>53</td>\n",
       "      <td>среднее</td>\n",
       "      <td>1</td>\n",
       "      <td>гражданский брак</td>\n",
       "      <td>1</td>\n",
       "      <td>F</td>\n",
       "      <td>пенсионер</td>\n",
       "      <td>0</td>\n",
       "      <td>158616</td>\n",
       "      <td>сыграть свадьбу</td>\n",
       "      <td>C</td>\n",
       "    </tr>\n",
       "  </tbody>\n",
       "</table>\n",
       "</div>"
      ],
      "text/plain": [
       "   children  days_employed  dob_years education  education_id  \\\n",
       "0         1    8437.673028         42    высшее             0   \n",
       "1         1    4024.803754         36   среднее             1   \n",
       "2         0    5623.422610         33   среднее             1   \n",
       "3         3    4124.747207         32   среднее             1   \n",
       "4         0  340266.072047         53   среднее             1   \n",
       "\n",
       "      family_status  family_status_id gender income_type  debt  total_income  \\\n",
       "0   женат / замужем                 0      F   сотрудник     0        253875   \n",
       "1   женат / замужем                 0      F   сотрудник     0        112080   \n",
       "2   женат / замужем                 0      M   сотрудник     0        145885   \n",
       "3   женат / замужем                 0      M   сотрудник     0        267628   \n",
       "4  гражданский брак                 1      F   пенсионер     0        158616   \n",
       "\n",
       "                      purpose total_income_category  \n",
       "0               покупка жилья                     B  \n",
       "1     приобретение автомобиля                     C  \n",
       "2               покупка жилья                     C  \n",
       "3  дополнительное образование                     B  \n",
       "4             сыграть свадьбу                     C  "
      ]
     },
     "execution_count": 18,
     "metadata": {},
     "output_type": "execute_result"
    }
   ],
   "source": [
    "data['total_income_category'] = data['total_income'].apply(categorize_income)\n",
    "data.head()"
   ]
  },
  {
   "cell_type": "markdown",
   "id": "9917bba0",
   "metadata": {
    "deletable": false,
    "editable": false,
    "id": "9917bba0"
   },
   "source": [
    "**Задание 17. Выведите на экран перечень уникальных целей взятия кредита из столбца `purpose`.**"
   ]
  },
  {
   "cell_type": "code",
   "execution_count": 19,
   "id": "ee07b65e",
   "metadata": {
    "deletable": false,
    "id": "ee07b65e",
    "outputId": "673c12d9-7d7e-4ae0-9812-c622c89dd244"
   },
   "outputs": [
    {
     "data": {
      "text/plain": [
       "array(['покупка жилья', 'приобретение автомобиля',\n",
       "       'дополнительное образование', 'сыграть свадьбу',\n",
       "       'операции с жильем', 'образование', 'на проведение свадьбы',\n",
       "       'покупка жилья для семьи', 'покупка недвижимости',\n",
       "       'покупка коммерческой недвижимости', 'покупка жилой недвижимости',\n",
       "       'строительство собственной недвижимости', 'недвижимость',\n",
       "       'строительство недвижимости', 'на покупку подержанного автомобиля',\n",
       "       'на покупку своего автомобиля',\n",
       "       'операции с коммерческой недвижимостью',\n",
       "       'строительство жилой недвижимости', 'жилье',\n",
       "       'операции со своей недвижимостью', 'автомобили',\n",
       "       'заняться образованием', 'сделка с подержанным автомобилем',\n",
       "       'получение образования', 'автомобиль', 'свадьба',\n",
       "       'получение дополнительного образования', 'покупка своего жилья',\n",
       "       'операции с недвижимостью', 'получение высшего образования',\n",
       "       'свой автомобиль', 'сделка с автомобилем',\n",
       "       'профильное образование', 'высшее образование',\n",
       "       'покупка жилья для сдачи', 'на покупку автомобиля', 'ремонт жилью',\n",
       "       'заняться высшим образованием'], dtype=object)"
      ]
     },
     "execution_count": 19,
     "metadata": {},
     "output_type": "execute_result"
    }
   ],
   "source": [
    "data['purpose'].unique()"
   ]
  },
  {
   "cell_type": "markdown",
   "id": "52b79d56",
   "metadata": {
    "deletable": false,
    "editable": false,
    "id": "52b79d56"
   },
   "source": [
    "**Задание 18. Создайте функцию, которая на основании данных из столбца `purpose` сформирует новый столбец `purpose_category`, в который войдут следующие категории:**\n",
    "\n",
    "- `'операции с автомобилем'`,\n",
    "- `'операции с недвижимостью'`,\n",
    "- `'проведение свадьбы'`,\n",
    "- `'получение образования'`.\n",
    "\n",
    "**Например, если в столбце `purpose` находится подстрока `'на покупку автомобиля'`, то в столбце `purpose_category` должна появиться строка `'операции с автомобилем'`.**\n",
    "\n",
    "**Используйте собственную функцию с именем `categorize_purpose()` и метод `apply()`. Изучите данные в столбце `purpose` и определите, какие подстроки помогут вам правильно определить категорию.**"
   ]
  },
  {
   "cell_type": "code",
   "execution_count": 20,
   "id": "be41da5d",
   "metadata": {
    "deletable": false,
    "id": "be41da5d"
   },
   "outputs": [],
   "source": [
    "def categorize_purpose(row):\n",
    "    try:\n",
    "        if 'автом' in row:\n",
    "            return 'операции с автомобилем'\n",
    "        elif 'жил' in row or 'недвиж' in row:\n",
    "            return 'операции с недвижимостью'\n",
    "        elif 'свад' in row:\n",
    "            return 'проведение свадьбы'\n",
    "        elif 'образов' in row:\n",
    "            return 'получение образования'\n",
    "    except:\n",
    "        return 'нет категории'"
   ]
  },
  {
   "cell_type": "code",
   "execution_count": 21,
   "id": "94c4a19a",
   "metadata": {
    "deletable": false,
    "id": "94c4a19a"
   },
   "outputs": [],
   "source": [
    "data['purpose_category'] = data['purpose'].apply(categorize_purpose)"
   ]
  },
  {
   "cell_type": "markdown",
   "id": "3d596c34",
   "metadata": {
    "deletable": false,
    "editable": false,
    "id": "3d596c34"
   },
   "source": [
    "### Шаг 3. Исследуйте данные и ответьте на вопросы"
   ]
  },
  {
   "cell_type": "markdown",
   "id": "648db036",
   "metadata": {
    "deletable": false,
    "editable": false,
    "id": "648db036"
   },
   "source": [
    "#### 3.1 Есть ли зависимость между количеством детей и возвратом кредита в срок?"
   ]
  },
  {
   "cell_type": "code",
   "execution_count": 22,
   "id": "7fcff25e",
   "metadata": {
    "deletable": false,
    "id": "7fcff25e",
    "scrolled": true
   },
   "outputs": [
    {
     "data": {
      "text/plain": [
       "array([1, 0, 3, 2, 4, 5])"
      ]
     },
     "execution_count": 22,
     "metadata": {},
     "output_type": "execute_result"
    }
   ],
   "source": [
    "data['children'].unique()  # Проверим еще раз столбец \"дети\" на уникальные значения."
   ]
  },
  {
   "cell_type": "code",
   "execution_count": 23,
   "id": "19420d00",
   "metadata": {},
   "outputs": [
    {
     "data": {
      "text/plain": [
       "array([0, 1])"
      ]
     },
     "execution_count": 23,
     "metadata": {},
     "output_type": "execute_result"
    }
   ],
   "source": [
    "data['debt'].unique() # Проверим столбец по задолженностям на наличие уникальный значений"
   ]
  },
  {
   "cell_type": "code",
   "execution_count": 24,
   "id": "e77452da",
   "metadata": {},
   "outputs": [
    {
     "name": "stdout",
     "output_type": "stream",
     "text": [
      "<class 'pandas.core.frame.DataFrame'>\n",
      "Int64Index: 21331 entries, 0 to 21524\n",
      "Data columns (total 14 columns):\n",
      " #   Column                 Non-Null Count  Dtype  \n",
      "---  ------                 --------------  -----  \n",
      " 0   children               21331 non-null  int64  \n",
      " 1   days_employed          21331 non-null  float64\n",
      " 2   dob_years              21331 non-null  int64  \n",
      " 3   education              21331 non-null  object \n",
      " 4   education_id           21331 non-null  int64  \n",
      " 5   family_status          21331 non-null  object \n",
      " 6   family_status_id       21331 non-null  int64  \n",
      " 7   gender                 21331 non-null  object \n",
      " 8   income_type            21331 non-null  object \n",
      " 9   debt                   21331 non-null  int64  \n",
      " 10  total_income           21331 non-null  int64  \n",
      " 11  purpose                21331 non-null  object \n",
      " 12  total_income_category  21331 non-null  object \n",
      " 13  purpose_category       21331 non-null  object \n",
      "dtypes: float64(1), int64(6), object(7)\n",
      "memory usage: 2.4+ MB\n"
     ]
    }
   ],
   "source": [
    "data.info() # проверим еще раз таблицу на нулевые значения"
   ]
  },
  {
   "cell_type": "code",
   "execution_count": 25,
   "id": "b2aaafd7",
   "metadata": {},
   "outputs": [
    {
     "data": {
      "text/plain": [
       "0    19599\n",
       "1     1732\n",
       "Name: debt, dtype: int64"
      ]
     },
     "execution_count": 25,
     "metadata": {},
     "output_type": "execute_result"
    }
   ],
   "source": [
    "data['debt'].value_counts()"
   ]
  },
  {
   "cell_type": "code",
   "execution_count": 26,
   "id": "e2dc550c",
   "metadata": {},
   "outputs": [
    {
     "data": {
      "text/plain": [
       "children\n",
       "0    1063\n",
       "1     444\n",
       "2     194\n",
       "3      27\n",
       "4       4\n",
       "5       0\n",
       "Name: debt, dtype: int64"
      ]
     },
     "execution_count": 26,
     "metadata": {},
     "output_type": "execute_result"
    }
   ],
   "source": [
    "children_group_sum = data.groupby('children')['debt'].sum() # проверим количество людей, имеющих задолженность в зависимости от количества детей\n",
    "children_group_sum"
   ]
  },
  {
   "cell_type": "code",
   "execution_count": 27,
   "id": "46e52285",
   "metadata": {},
   "outputs": [
    {
     "data": {
      "text/plain": [
       "children\n",
       "0    14091\n",
       "1     4808\n",
       "2     2052\n",
       "3      330\n",
       "4       41\n",
       "5        9\n",
       "Name: debt, dtype: int64"
      ]
     },
     "execution_count": 27,
     "metadata": {},
     "output_type": "execute_result"
    }
   ],
   "source": [
    "children_group_count = data.groupby('children')['debt'].count() # количество людей, имеющих 0-5 детей \n",
    "children_group_count"
   ]
  },
  {
   "cell_type": "markdown",
   "id": "f88d6a68",
   "metadata": {},
   "source": [
    "Найдем отношение количества должников от общего количества людей в процентах, сгруппированных по  количеству детей "
   ]
  },
  {
   "cell_type": "code",
   "execution_count": 28,
   "id": "27d7e9c6",
   "metadata": {},
   "outputs": [
    {
     "data": {
      "text/plain": [
       "children\n",
       "0    7.543822\n",
       "1    9.234609\n",
       "2    9.454191\n",
       "3    8.181818\n",
       "4    9.756098\n",
       "5    0.000000\n",
       "Name: debt, dtype: float64"
      ]
     },
     "execution_count": 28,
     "metadata": {},
     "output_type": "execute_result"
    }
   ],
   "source": [
    "children_debt =  (children_group_sum / children_group_count) *100 \n",
    "children_debt"
   ]
  },
  {
   "cell_type": "code",
   "execution_count": 29,
   "id": "ea4d2a32",
   "metadata": {},
   "outputs": [
    {
     "data": {
      "text/plain": [
       "<AxesSubplot:xlabel='children', ylabel='debt'>"
      ]
     },
     "execution_count": 29,
     "metadata": {},
     "output_type": "execute_result"
    },
    {
     "data": {
      "image/png": "[encoded data removed]",
      "text/plain": [
       "<Figure size 432x288 with 1 Axes>"
      ]
     },
     "metadata": {
      "needs_background": "light"
     },
     "output_type": "display_data"
    }
   ],
   "source": [
    "import seaborn\n",
    "x = data['children']\n",
    "y = children_debt\n",
    "seaborn.barplot(x = x, y=y)"
   ]
  },
  {
   "cell_type": "markdown",
   "id": "da68778a",
   "metadata": {},
   "source": [
    "<div class=\"alert alert-success\">\n",
    "<h2> Комментарий ревьюера <a class=\"tocSkip\"> </h2>\n",
    "\n",
    "<b>Отлично!✅:</b> Дима, а ты когда-нибудь строил графики уже? Или решил попробовать?) Как легко строить, можешь посмотреть здесь: https://pythonru.com/biblioteki/seaborn-plot\n",
    "\n",
    "</div>"
   ]
  },
  {
   "cell_type": "markdown",
   "id": "ca7e4d78",
   "metadata": {},
   "source": [
    "Хотел построить диаграмму с итоговыми данными, но почему то не получается. Оставлю как получилось и надеюсь мне подскажут как это сделать правильно и в чем ошибка построения, и я с удовольствием переделаю диаграмму. Спасибо. "
   ]
  },
  {
   "cell_type": "markdown",
   "id": "f4a4c5fd",
   "metadata": {},
   "source": [
    "Поэтому создам сводную таблицу по количеству детей, имел ли задолженность и процент должников. "
   ]
  },
  {
   "cell_type": "code",
   "execution_count": 30,
   "id": "e729f78d",
   "metadata": {},
   "outputs": [
    {
     "data": {
      "text/html": [
       "<div>\n",
       "<style scoped>\n",
       "    .dataframe tbody tr th:only-of-type {\n",
       "        vertical-align: middle;\n",
       "    }\n",
       "\n",
       "    .dataframe tbody tr th {\n",
       "        vertical-align: top;\n",
       "    }\n",
       "\n",
       "    .dataframe thead th {\n",
       "        text-align: right;\n",
       "    }\n",
       "</style>\n",
       "<table border=\"1\" class=\"dataframe\">\n",
       "  <thead>\n",
       "    <tr style=\"text-align: right;\">\n",
       "      <th></th>\n",
       "      <th>count</th>\n",
       "      <th>sum</th>\n",
       "      <th>ratio</th>\n",
       "    </tr>\n",
       "    <tr>\n",
       "      <th>children</th>\n",
       "      <th></th>\n",
       "      <th></th>\n",
       "      <th></th>\n",
       "    </tr>\n",
       "  </thead>\n",
       "  <tbody>\n",
       "    <tr>\n",
       "      <th>5</th>\n",
       "      <td>9</td>\n",
       "      <td>0</td>\n",
       "      <td>0.000000</td>\n",
       "    </tr>\n",
       "    <tr>\n",
       "      <th>0</th>\n",
       "      <td>14091</td>\n",
       "      <td>1063</td>\n",
       "      <td>7.543822</td>\n",
       "    </tr>\n",
       "    <tr>\n",
       "      <th>3</th>\n",
       "      <td>330</td>\n",
       "      <td>27</td>\n",
       "      <td>8.181818</td>\n",
       "    </tr>\n",
       "    <tr>\n",
       "      <th>1</th>\n",
       "      <td>4808</td>\n",
       "      <td>444</td>\n",
       "      <td>9.234609</td>\n",
       "    </tr>\n",
       "    <tr>\n",
       "      <th>2</th>\n",
       "      <td>2052</td>\n",
       "      <td>194</td>\n",
       "      <td>9.454191</td>\n",
       "    </tr>\n",
       "    <tr>\n",
       "      <th>4</th>\n",
       "      <td>41</td>\n",
       "      <td>4</td>\n",
       "      <td>9.756098</td>\n",
       "    </tr>\n",
       "  </tbody>\n",
       "</table>\n",
       "</div>"
      ],
      "text/plain": [
       "          count   sum     ratio\n",
       "children                       \n",
       "5             9     0  0.000000\n",
       "0         14091  1063  7.543822\n",
       "3           330    27  8.181818\n",
       "1          4808   444  9.234609\n",
       "2          2052   194  9.454191\n",
       "4            41     4  9.756098"
      ]
     },
     "execution_count": 30,
     "metadata": {},
     "output_type": "execute_result"
    }
   ],
   "source": [
    "pivot_child = data.pivot_table(index = ['children'], values = 'debt', aggfunc = {'sum','count'})\n",
    "pivot_child['ratio'] = children_debt\n",
    "pivot_child = pivot_child.sort_values(by = 'ratio')\n",
    "pivot_child"
   ]
  },
  {
   "cell_type": "markdown",
   "id": "b82cebcd",
   "metadata": {},
   "source": []
  },
  {
   "cell_type": "markdown",
   "id": "2f811e80",
   "metadata": {},
   "source": [
    "<div class=\"alert alert-success\">\n",
    "<h2> Комментарий ревьюера <a class=\"tocSkip\"> </h2>\n",
    "\n",
    "<b>Отлично!✅:</b> Сводная таблица добавлена верно!\n",
    "\n",
    "</div>"
   ]
  },
  {
   "cell_type": "markdown",
   "id": "2eb9088e",
   "metadata": {
    "deletable": false,
    "id": "2eb9088e"
   },
   "source": [
    "**Вывод: По итогу исследования видно, мы можем категоризировать людей, у которых есть дети и нет детей. Люди, у которых нет детей платят внимательнее и имеют меньше должников. А люди у которых есть дети - платят хуже и не в срок. Это можно объяснить тем, что у людей с детьми больше расходов и люди больше отвлекаются на детей.**\n"
   ]
  },
  {
   "cell_type": "markdown",
   "id": "6cbb66ce",
   "metadata": {},
   "source": [
    "<div class=\"alert alert-success\">\n",
    "<h2> Комментарий ревьюера <a class=\"tocSkip\"> </h2>\n",
    "\n",
    "<b>Отлично!✅:</b> Все верно, благодарю за пояснение!\n",
    "\n",
    "</div>"
   ]
  },
  {
   "cell_type": "markdown",
   "id": "74c9b3a7",
   "metadata": {
    "deletable": false,
    "editable": false,
    "id": "74c9b3a7"
   },
   "source": [
    "#### 3.2 Есть ли зависимость между семейным положением и возвратом кредита в срок?"
   ]
  },
  {
   "cell_type": "code",
   "execution_count": 31,
   "id": "8098ab3b",
   "metadata": {
    "deletable": false,
    "id": "8098ab3b"
   },
   "outputs": [
    {
     "data": {
      "text/plain": [
       "0"
      ]
     },
     "execution_count": 31,
     "metadata": {},
     "output_type": "execute_result"
    }
   ],
   "source": [
    "data['family_status'].isna().sum() # посмотрим есть ли строчки с пропусками\n"
   ]
  },
  {
   "cell_type": "code",
   "execution_count": 32,
   "id": "f9147747",
   "metadata": {},
   "outputs": [
    {
     "data": {
      "text/plain": [
       "array(['женат / замужем', 'гражданский брак', 'вдовец / вдова',\n",
       "       'в разводе', 'Не женат / не замужем'], dtype=object)"
      ]
     },
     "execution_count": 32,
     "metadata": {},
     "output_type": "execute_result"
    }
   ],
   "source": [
    "data['family_status'].unique() # посмотрим все уникальные значения столбца"
   ]
  },
  {
   "cell_type": "code",
   "execution_count": 33,
   "id": "f9bed4aa",
   "metadata": {},
   "outputs": [
    {
     "data": {
      "text/plain": [
       "family_status\n",
       "Не женат / не замужем     2796\n",
       "в разводе                 1189\n",
       "вдовец / вдова             951\n",
       "гражданский брак          4134\n",
       "женат / замужем          12261\n",
       "Name: debt, dtype: int64"
      ]
     },
     "execution_count": 33,
     "metadata": {},
     "output_type": "execute_result"
    }
   ],
   "source": [
    "status_debt_count = data.groupby('family_status')['debt'].count() # количество людей сгруппированных по семейному положению\n",
    "status_debt_count"
   ]
  },
  {
   "cell_type": "code",
   "execution_count": 34,
   "id": "7dbead6e",
   "metadata": {},
   "outputs": [
    {
     "data": {
      "text/plain": [
       "family_status\n",
       "Не женат / не замужем    273\n",
       "в разводе                 84\n",
       "вдовец / вдова            63\n",
       "гражданский брак         385\n",
       "женат / замужем          927\n",
       "Name: debt, dtype: int64"
      ]
     },
     "execution_count": 34,
     "metadata": {},
     "output_type": "execute_result"
    }
   ],
   "source": [
    "status_debt_sum = data.groupby('family_status')['debt'].sum() # количество людей , которые не возвращали деньги в срок\n",
    "status_debt_sum"
   ]
  },
  {
   "cell_type": "code",
   "execution_count": 35,
   "id": "27d4ab68",
   "metadata": {},
   "outputs": [
    {
     "data": {
      "text/plain": [
       "family_status\n",
       "Не женат / не замужем    9.763948\n",
       "в разводе                7.064760\n",
       "вдовец / вдова           6.624606\n",
       "гражданский брак         9.313014\n",
       "женат / замужем          7.560558\n",
       "Name: debt, dtype: float64"
      ]
     },
     "execution_count": 35,
     "metadata": {},
     "output_type": "execute_result"
    }
   ],
   "source": [
    "status_debt_ratio = (status_debt_sum / status_debt_count) *100 # найдем отношение людей должников в общему количеству людей,\n",
    "                                                                  # сгруппированных по семейному положению\n",
    "status_debt_ratio"
   ]
  },
  {
   "cell_type": "code",
   "execution_count": 36,
   "id": "ec08708e",
   "metadata": {},
   "outputs": [
    {
     "data": {
      "text/html": [
       "<div>\n",
       "<style scoped>\n",
       "    .dataframe tbody tr th:only-of-type {\n",
       "        vertical-align: middle;\n",
       "    }\n",
       "\n",
       "    .dataframe tbody tr th {\n",
       "        vertical-align: top;\n",
       "    }\n",
       "\n",
       "    .dataframe thead th {\n",
       "        text-align: right;\n",
       "    }\n",
       "</style>\n",
       "<table border=\"1\" class=\"dataframe\">\n",
       "  <thead>\n",
       "    <tr style=\"text-align: right;\">\n",
       "      <th></th>\n",
       "      <th>count</th>\n",
       "      <th>sum</th>\n",
       "      <th>ratio</th>\n",
       "    </tr>\n",
       "    <tr>\n",
       "      <th>family_status</th>\n",
       "      <th></th>\n",
       "      <th></th>\n",
       "      <th></th>\n",
       "    </tr>\n",
       "  </thead>\n",
       "  <tbody>\n",
       "    <tr>\n",
       "      <th>вдовец / вдова</th>\n",
       "      <td>951</td>\n",
       "      <td>63</td>\n",
       "      <td>6.624606</td>\n",
       "    </tr>\n",
       "    <tr>\n",
       "      <th>в разводе</th>\n",
       "      <td>1189</td>\n",
       "      <td>84</td>\n",
       "      <td>7.064760</td>\n",
       "    </tr>\n",
       "    <tr>\n",
       "      <th>женат / замужем</th>\n",
       "      <td>12261</td>\n",
       "      <td>927</td>\n",
       "      <td>7.560558</td>\n",
       "    </tr>\n",
       "    <tr>\n",
       "      <th>гражданский брак</th>\n",
       "      <td>4134</td>\n",
       "      <td>385</td>\n",
       "      <td>9.313014</td>\n",
       "    </tr>\n",
       "    <tr>\n",
       "      <th>Не женат / не замужем</th>\n",
       "      <td>2796</td>\n",
       "      <td>273</td>\n",
       "      <td>9.763948</td>\n",
       "    </tr>\n",
       "  </tbody>\n",
       "</table>\n",
       "</div>"
      ],
      "text/plain": [
       "                       count  sum     ratio\n",
       "family_status                              \n",
       "вдовец / вдова           951   63  6.624606\n",
       "в разводе               1189   84  7.064760\n",
       "женат / замужем        12261  927  7.560558\n",
       "гражданский брак        4134  385  9.313014\n",
       "Не женат / не замужем   2796  273  9.763948"
      ]
     },
     "execution_count": 36,
     "metadata": {},
     "output_type": "execute_result"
    }
   ],
   "source": [
    "family_debt_pivot = data.pivot_table(index = ['family_status'], values ='debt', aggfunc = {'sum','count'})\n",
    "family_debt_pivot['ratio'] = status_debt_ratio\n",
    "family_debt_pivot = family_debt_pivot.sort_values(by = 'ratio')\n",
    "family_debt_pivot"
   ]
  },
  {
   "cell_type": "markdown",
   "id": "c389ca63",
   "metadata": {
    "deletable": false,
    "id": "c389ca63"
   },
   "source": [
    "**Вывод: В ходе исследования видно, что люди имеющие семейное положения \"вдовец/вдова\" и в \"разводе\" отдают кредит в срок лучше, нежели все остальные. Больше всего просрочек по выплате кредита  имеют люди с семейным положением \"Не женат / не замужем\" и \"гражданский брак\". Можно предположить, что люди потерявшие мужа/жену и разведенные относятся к оплате внимательнее, чем остальные, из-за большей отвественности.**\n"
   ]
  },
  {
   "cell_type": "markdown",
   "id": "3158552d",
   "metadata": {},
   "source": [
    "<div class=\"alert alert-success\">\n",
    "<h2> Комментарий ревьюера <a class=\"tocSkip\"> </h2>\n",
    "\n",
    "<b>Отлично!✅:</b> Согласна, заемщики состоящие или когда-либо состоявшие в браке более ответственные!\n",
    "\n",
    "</div>"
   ]
  },
  {
   "cell_type": "markdown",
   "id": "9529de68",
   "metadata": {
    "deletable": false,
    "editable": false,
    "id": "9529de68"
   },
   "source": [
    "#### 3.3 Есть ли зависимость между уровнем дохода и возвратом кредита в срок?"
   ]
  },
  {
   "cell_type": "code",
   "execution_count": 37,
   "id": "8787f44a",
   "metadata": {
    "deletable": false,
    "id": "8787f44a"
   },
   "outputs": [
    {
     "data": {
      "text/plain": [
       "0"
      ]
     },
     "execution_count": 37,
     "metadata": {},
     "output_type": "execute_result"
    }
   ],
   "source": [
    "data['total_income'].isna().sum() # проверка на нулевые значения"
   ]
  },
  {
   "cell_type": "markdown",
   "id": "0f89e374",
   "metadata": {},
   "source": [
    "**Создадим категоризацию данных по уровню дохода человека, где А - высокий, а Е - низкий.**\n",
    "\n",
    "\n",
    "**Так же добавим в таблицу данный столбец методом apply.**\n"
   ]
  },
  {
   "cell_type": "code",
   "execution_count": 38,
   "id": "7f8cc643",
   "metadata": {},
   "outputs": [
    {
     "ename": "NameError",
     "evalue": "name 'plt' is not defined",
     "output_type": "error",
     "traceback": [
      "\u001b[0;31m---------------------------------------------------------------------------\u001b[0m",
      "\u001b[0;31mNameError\u001b[0m                                 Traceback (most recent call last)",
      "\u001b[0;32m/tmp/ipykernel_93/1476860812.py\u001b[0m in \u001b[0;36m<module>\u001b[0;34m\u001b[0m\n\u001b[1;32m     13\u001b[0m \u001b[0;34m\u001b[0m\u001b[0m\n\u001b[1;32m     14\u001b[0m \u001b[0;34m\u001b[0m\u001b[0m\n\u001b[0;32m---> 15\u001b[0;31m \u001b[0mplt\u001b[0m\u001b[0;34m.\u001b[0m\u001b[0mxlabel\u001b[0m\u001b[0;34m(\u001b[0m\u001b[0;34m'Годы'\u001b[0m\u001b[0;34m)\u001b[0m\u001b[0;34m\u001b[0m\u001b[0;34m\u001b[0m\u001b[0m\n\u001b[0m\u001b[1;32m     16\u001b[0m \u001b[0mplt\u001b[0m\u001b[0;34m.\u001b[0m\u001b[0mylabel\u001b[0m\u001b[0;34m(\u001b[0m\u001b[0;34m'Количество игр'\u001b[0m\u001b[0;34m)\u001b[0m\u001b[0;34m\u001b[0m\u001b[0;34m\u001b[0m\u001b[0m\n\u001b[1;32m     17\u001b[0m \u001b[0mplt\u001b[0m\u001b[0;34m.\u001b[0m\u001b[0mgrid\u001b[0m\u001b[0;34m(\u001b[0m\u001b[0;34m)\u001b[0m\u001b[0;34m\u001b[0m\u001b[0;34m\u001b[0m\u001b[0m\n",
      "\u001b[0;31mNameError\u001b[0m: name 'plt' is not defined"
     ]
    }
   ],
   "source": [
    "def categorize_income(category):\n",
    "    if category <= 30000:\n",
    "        return 'Низкий уровень дохода'\n",
    "    elif category > 30000 and category <= 50000:\n",
    "        return 'Средний уровень дохода'\n",
    "    elif category >= 50001 and category <= 200000:\n",
    "        return 'Хороший уровень дохода'\n",
    "    elif category >= 200001 and category <= 1000000:\n",
    "        return 'Высокий уровень дохода'\n",
    "    return 'Очень высокий уровень дохода'\n",
    "data['total_income_category'] = data['total_income'].apply(categorize_income)\n",
    "data.head()\n",
    "\n",
    "\n",
    "plt.xlabel('Годы')\n",
    "plt.ylabel('Количество игр')\n",
    "plt.grid()\n",
    "plt.legend(loc='upper left')\n",
    "plt.show()\n"
   ]
  },
  {
   "cell_type": "code",
   "execution_count": null,
   "id": "c9181958",
   "metadata": {},
   "outputs": [],
   "source": [
    "income_debt_count = data.groupby('total_income_category')['debt'].count() # количество людей в группах по уроквню дохода\n",
    "income_debt_count"
   ]
  },
  {
   "cell_type": "code",
   "execution_count": null,
   "id": "ca4be685",
   "metadata": {},
   "outputs": [],
   "source": [
    "income_debt_sum = data.groupby('total_income_category')['debt'].sum() # количество людей имеющих задолжности в группах\n",
    "income_debt_sum"
   ]
  },
  {
   "cell_type": "code",
   "execution_count": null,
   "id": "278f14f3",
   "metadata": {
    "scrolled": true
   },
   "outputs": [],
   "source": [
    "income_debt_ratio = (income_debt_sum / income_debt_count) * 100\n",
    "income_debt_ratio"
   ]
  },
  {
   "cell_type": "code",
   "execution_count": null,
   "id": "cc580f78",
   "metadata": {},
   "outputs": [],
   "source": [
    "income_debt_pivot = data.pivot_table(index = ['total_income_category'], values = 'debt', aggfunc = {'sum', 'count'})\n",
    "income_debt_pivot['ratio'] = income_debt_ratio\n",
    "income_debt_pivot = income_debt_pivot.sort_values(by = 'ratio')\n",
    "income_debt_pivot"
   ]
  },
  {
   "cell_type": "markdown",
   "id": "6dd14b57",
   "metadata": {
    "deletable": false,
    "id": "6dd14b57"
   },
   "source": [
    "**Вывод: Так как количество людей в разных группах сильно отличается, то будем сравнивать людей с низким и очень высоким уровнем дохода, и всех остальных. У людей с низким доходом понятно почему могут быть задолженности, но у людей с очень высоким доходом - непонятно. Самый лучший показатель у людей с средним уровнем дохода. Это может быть обосновано тем, что люди более внимательно относятся к выплате кредитов и имеют особенность распределять свои траты. Так как у людей с хорошим и высоким доходом самые высокие показатели , то можно утверждать, что доход влияет на возврат кредита в долг.** "
   ]
  },
  {
   "cell_type": "markdown",
   "id": "10f86792",
   "metadata": {},
   "source": [
    "<div class=\"alert alert-success\">\n",
    "<h2> Комментарий ревьюера <a class=\"tocSkip\"> </h2>\n",
    "\n",
    "<b>Отлично!✅:</b> Верно! Молодец, что обратил внимание на несбалансированность выборок!\n",
    "\n",
    "</div>"
   ]
  },
  {
   "cell_type": "markdown",
   "id": "1dcc9b12",
   "metadata": {
    "deletable": false,
    "editable": false,
    "id": "1dcc9b12"
   },
   "source": [
    "#### 3.4 Как разные цели кредита влияют на его возврат в срок?"
   ]
  },
  {
   "cell_type": "markdown",
   "id": "4e7dbe13",
   "metadata": {
    "deletable": false,
    "id": "c602bc8b"
   },
   "source": [
    "Так как мы уже категоризировали данные по обоснованию на взятие кредита, то у нас эти данные уже есть и добавлены в таблицу в столбце purpose_category"
   ]
  },
  {
   "cell_type": "code",
   "execution_count": null,
   "id": "c03a3e12",
   "metadata": {},
   "outputs": [],
   "source": [
    "category_debt_count = data.groupby('purpose_category')['debt'].count() # количество людей в группах по целям кредита\n",
    "category_debt_count\n",
    "\n"
   ]
  },
  {
   "cell_type": "code",
   "execution_count": null,
   "id": "5d287e8d",
   "metadata": {},
   "outputs": [],
   "source": [
    "category_debt_sum = data.groupby('purpose_category')['debt'].sum() # количество людей имеющих задолжности в группах\n",
    "category_debt_sum"
   ]
  },
  {
   "cell_type": "code",
   "execution_count": null,
   "id": "f910c80c",
   "metadata": {},
   "outputs": [],
   "source": [
    "category_debt_ratio = (category_debt_sum / category_debt_count) * 100\n",
    "category_debt_ratio = category_debt_ratio.sort_values()\n",
    "category_debt_ratio"
   ]
  },
  {
   "cell_type": "code",
   "execution_count": null,
   "id": "8717dbc0",
   "metadata": {},
   "outputs": [],
   "source": [
    "category_debt_pivot = data.pivot_table(index = ['purpose_category'], values = 'debt', aggfunc = {'sum','count'})\n",
    "category_debt_pivot['ratio'] = category_debt_ratio\n",
    "category_debt_pivot = category_debt_pivot.sort_values(by = 'ratio')\n",
    "category_debt_pivot"
   ]
  },
  {
   "cell_type": "markdown",
   "id": "cf05ed63",
   "metadata": {
    "deletable": false,
    "id": "cf05ed63"
   },
   "source": [
    "**Вывод: Люди берущие кредит на операции с недвижимостью и на проведение свадьбы имеют меньше должников. Хуже всего дела обстоят у людей с машинами и студентов. Студенты не в силах стабильно платить кредиты и поэтому имеют задолженности. Люди с автомобилями вероятнее всего  тратят слишком много на обслуживание авто и тем самым не платят вовремя кредит.** "
   ]
  },
  {
   "cell_type": "markdown",
   "id": "457d8d0e",
   "metadata": {},
   "source": [
    "<div class=\"alert alert-success\">\n",
    "<h2> Комментарий ревьюера <a class=\"tocSkip\"> </h2>\n",
    "\n",
    "<b>Отлично!✅:</b> Отлично! Обоснованный вывод!\n",
    "\n",
    "</div>"
   ]
  },
  {
   "cell_type": "markdown",
   "id": "46c1f10b",
   "metadata": {
    "deletable": false,
    "editable": false,
    "id": "46c1f10b"
   },
   "source": [
    "#### 3.5 Приведите возможные причины появления пропусков в исходных данных."
   ]
  },
  {
   "cell_type": "markdown",
   "id": "3697d2a9",
   "metadata": {
    "deletable": false,
    "id": "3697d2a9"
   },
   "source": [
    "**Ответ: пропуски в данных могут появляться по 2 причинам:**\n",
    "- 1 причина это ошибка в сборе данных на этапе разработки базы данных,\n",
    "- 2 причина - это люди, которые оставляют пропуски и не заполняют данные о себе. Чтобы заставить людей оставлять данные, нужно сделать заполняемы колонки обязательными."
   ]
  },
  {
   "cell_type": "markdown",
   "id": "6bc96d05",
   "metadata": {},
   "source": [
    "\n",
    "<div class=\"alert alert-success\">\n",
    "<h2> Комментарий ревьюера <a class=\"tocSkip\"> </h2>\n",
    "\n",
    "<b>Отлично!✅:</b> Верно! Действительно, в основном, на пропуски влияют человеческий фактор и техническая ошибка!\n",
    "\n",
    "</div>"
   ]
  },
  {
   "cell_type": "markdown",
   "id": "3137d257",
   "metadata": {
    "deletable": false,
    "editable": false,
    "id": "3137d257"
   },
   "source": [
    "#### 3.6 Объясните, почему заполнить пропуски медианным значением — лучшее решение для количественных переменных."
   ]
  },
  {
   "cell_type": "markdown",
   "id": "cf40012a",
   "metadata": {
    "deletable": false,
    "id": "cf40012a"
   },
   "source": [
    "*Ответ: заполнение пропусков медианным значением является лучшим решением , так как удаление или заполнение пропуска \"0\" может сильно повлиять и исказить данные по всей таблице. Так же среднее значение неккоректно показывает данные, когда некоторые значения сильно отличаются от других. В примере стоимости продуктов. Допустим взять молоко среднего качества 5 бутылок стоимостью 70 рублей и взять бутылку отборного молока из-под коровы за 300. Если взять среднее значение после добавления бутылки за 300р, то получается, что средняя стоимость выросла на 54%. Поэтому лучше брать медианное значение, чтобы один выброс не влиял на итоговое решение.* "
   ]
  },
  {
   "cell_type": "markdown",
   "id": "909c492d",
   "metadata": {},
   "source": [
    "<div class=\"alert alert-warning\">\n",
    "    <h2> Комментарий ревьюера <a class=\"tocSkip\"> </h2>\n",
    "    \n",
    "<b>Можно лучше⚠️:</b> Здесь важно рассмотреть с точки зрения выбросов. Как они вляют на медиану и среднее значение?\n",
    "</div>"
   ]
  },
  {
   "cell_type": "markdown",
   "id": "84796239",
   "metadata": {},
   "source": [
    "<div class=\"alert alert-success\">\n",
    "<h2> Комментарий ревьюера v2<a class=\"tocSkip\"> </h2>\n",
    "\n",
    "<b>Отлично!✅:</b> Хорошо, медиана менее чувствительна к выбросам!\n",
    "\n",
    "</div>"
   ]
  },
  {
   "cell_type": "markdown",
   "id": "57bc304e",
   "metadata": {
    "deletable": false,
    "editable": false,
    "id": "57bc304e"
   },
   "source": [
    "### Шаг 4: общий вывод."
   ]
  },
  {
   "cell_type": "markdown",
   "id": "1ab75d1c",
   "metadata": {
    "deletable": false,
    "id": "1ab75d1c"
   },
   "source": [
    "В ходе исследования мы работали с данными по людям, имеющим кредиты в банке. На этапе предобработки данных мы выявили, что есть некоторые проблемы в сборе информации. \n",
    "1. В столбцах days_employed  и total_income были выявлены нулевые значения. Нам пришлось брать медианное значение и дозаполнять данные. \n",
    "2. Так же в столбце children были аномальные значения с отрицательными значениями. \n",
    "3. В столбце education был разный регистр, и 71 дубликат.  Исправили регистр и  удалили дубликаты.\n",
    "4. Категоризировали данные по доходу человека и по цели кредита. Данная операция помогла нам для более структурированного анализа. \n",
    "\n",
    "После предобработки данных мы выявляли зависимость между количеством детей, семейным положением , уровнем дохода, цели кредита и возвратом кредита в срок. \n",
    "\n",
    "По итогу исследования выявлено, что зависимость между всеми показателями есть. В данной таблице зависимость не особо критична, так как отличия <2%. С данными, где количество человек будет больше это может показать отличия. В таблице лучше всего обратить внимание на людей в гражданском браке и тех, кто не замужем/не женат, а так же на людей с кредитами на образование и на автомобиль, так как у них самый худший показатель по количеству должников. \n",
    "\n",
    "Хотелось бы улучшить сбор данных, для более точного, быстрого и качественного анализа.  Обратить внимание на сбор информации в столбцах days_employed, total_income, children, education.  "
   ]
  },
  {
   "cell_type": "markdown",
   "id": "5823b314",
   "metadata": {},
   "source": [
    "<br/>\n",
    "<div class=\"alert alert-block alert-danger\">\n",
    "<h2> Комментарий ревьюера <a class=\"tocSkip\"></h2>\n",
    "<b>Необходимо исправить❌:</b>\n",
    "Дмитрий, общий вывод - обязательный и важный элемент работы. Его нужно сформулировать, взяв основные результаты из всех шагов проекта. Начать нужно с того, с какими данными мы работали и какие действия провели на этапе предобработки, а закончить выявленными при ответе на вопросы зависимостями и рекомендациями заказчику по улучшению сбора данных и скоринга. Заказчик, зачастую, читает только общий вывод исследования - поэтому он должен быть максимально информативным. \n",
    "</div>"
   ]
  },
  {
   "cell_type": "markdown",
   "id": "232a8967",
   "metadata": {},
   "source": [
    "<div class=\"alert alert-success\">\n",
    "<h2> Комментарий ревьюера v2<a class=\"tocSkip\"> </h2>\n",
    "\n",
    "    \n",
    "<b>Отлично!✅:</b> Дима, молодец! Оперативно откорректировал проект. Работа принята, хорошего дня:)\n",
    "\n",
    "</div>"
   ]
  },
  {
   "cell_type": "markdown",
   "id": "0ed8c14f",
   "metadata": {},
   "source": [
    "<div style=\"border:solid Chocolate 2px; padding: 40px\">\n",
    "Дима, давай подведем итоги. Ты большой молодец, что старался и проделал такую большую работу. Шаг 1 и 2 ты выполнил без проблем, что очень хорошо:)\n",
    "    \n",
    "    Разберем над чем стоит поработать:\n",
    "\n",
    "    1. Необходимо более детально раскрыть общий вывод.\n",
    "    \n",
    "    Пересмотри работу и исправь ошибки. Обязательно пиши, если я могу тебе еще чем-то помочь. Удачи!)\n",
    "  "
   ]
  }
 ],
 "metadata": {
  "ExecuteTimeLog": [
   {
    "duration": 56,
    "start_time": "2023-03-12T12:07:34.329Z"
   },
   {
    "duration": 6,
    "start_time": "2023-03-12T12:07:53.217Z"
   },
   {
    "duration": 745,
    "start_time": "2023-03-12T12:08:03.906Z"
   },
   {
    "duration": 30,
    "start_time": "2023-03-12T12:08:04.653Z"
   },
   {
    "duration": 45,
    "start_time": "2023-03-12T12:08:04.685Z"
   },
   {
    "duration": 17,
    "start_time": "2023-03-12T12:08:04.732Z"
   },
   {
    "duration": 53,
    "start_time": "2023-03-12T12:08:04.751Z"
   },
   {
    "duration": 5,
    "start_time": "2023-03-12T12:08:04.806Z"
   },
   {
    "duration": 19,
    "start_time": "2023-03-12T12:08:04.812Z"
   },
   {
    "duration": 5,
    "start_time": "2023-03-12T12:08:04.834Z"
   },
   {
    "duration": 27,
    "start_time": "2023-03-12T12:08:04.841Z"
   },
   {
    "duration": 9,
    "start_time": "2023-03-12T12:08:04.873Z"
   },
   {
    "duration": 41,
    "start_time": "2023-03-12T12:08:04.883Z"
   },
   {
    "duration": 13,
    "start_time": "2023-03-12T12:08:04.926Z"
   },
   {
    "duration": 6,
    "start_time": "2023-03-12T12:08:04.941Z"
   },
   {
    "duration": 20,
    "start_time": "2023-03-12T12:08:04.958Z"
   },
   {
    "duration": 20,
    "start_time": "2023-03-12T12:08:04.980Z"
   },
   {
    "duration": 18,
    "start_time": "2023-03-12T12:08:05.002Z"
   },
   {
    "duration": 6,
    "start_time": "2023-03-12T12:08:05.022Z"
   },
   {
    "duration": 57,
    "start_time": "2023-03-12T12:08:05.031Z"
   },
   {
    "duration": 6,
    "start_time": "2023-03-12T12:08:05.089Z"
   },
   {
    "duration": 8,
    "start_time": "2023-03-12T12:08:05.097Z"
   },
   {
    "duration": 42,
    "start_time": "2023-03-12T12:08:05.107Z"
   },
   {
    "duration": 10,
    "start_time": "2023-03-12T12:08:05.151Z"
   },
   {
    "duration": 24,
    "start_time": "2023-03-12T12:08:05.166Z"
   },
   {
    "duration": 13,
    "start_time": "2023-03-12T12:08:05.191Z"
   },
   {
    "duration": 8,
    "start_time": "2023-03-12T12:08:05.207Z"
   },
   {
    "duration": 4,
    "start_time": "2023-03-12T12:08:20.738Z"
   },
   {
    "duration": 5,
    "start_time": "2023-03-12T12:13:47.833Z"
   },
   {
    "duration": 6,
    "start_time": "2023-03-12T12:15:25.129Z"
   },
   {
    "duration": 9,
    "start_time": "2023-03-12T12:15:35.151Z"
   },
   {
    "duration": 19,
    "start_time": "2023-03-12T12:16:08.275Z"
   },
   {
    "duration": 4,
    "start_time": "2023-03-12T12:18:06.832Z"
   },
   {
    "duration": 7,
    "start_time": "2023-03-12T12:18:14.573Z"
   },
   {
    "duration": 7,
    "start_time": "2023-03-12T12:19:32.101Z"
   },
   {
    "duration": 6,
    "start_time": "2023-03-12T12:21:20.774Z"
   },
   {
    "duration": 6,
    "start_time": "2023-03-12T12:21:28.468Z"
   },
   {
    "duration": 8,
    "start_time": "2023-03-12T12:28:18.511Z"
   },
   {
    "duration": 6,
    "start_time": "2023-03-12T12:30:33.209Z"
   },
   {
    "duration": 8,
    "start_time": "2023-03-12T12:30:34.874Z"
   },
   {
    "duration": 5,
    "start_time": "2023-03-12T12:40:54.490Z"
   },
   {
    "duration": 80,
    "start_time": "2023-03-12T12:40:58.656Z"
   },
   {
    "duration": 14,
    "start_time": "2023-03-12T12:41:05.363Z"
   },
   {
    "duration": 7,
    "start_time": "2023-03-12T12:41:25.547Z"
   },
   {
    "duration": 8,
    "start_time": "2023-03-12T12:44:31.374Z"
   },
   {
    "duration": 4,
    "start_time": "2023-03-12T12:44:34.447Z"
   },
   {
    "duration": 8,
    "start_time": "2023-03-12T12:44:40.201Z"
   },
   {
    "duration": 9,
    "start_time": "2023-03-12T12:44:45.310Z"
   },
   {
    "duration": 4,
    "start_time": "2023-03-12T12:44:47.499Z"
   },
   {
    "duration": 6,
    "start_time": "2023-03-12T12:44:59.476Z"
   },
   {
    "duration": 8,
    "start_time": "2023-03-12T12:45:22.500Z"
   },
   {
    "duration": 6,
    "start_time": "2023-03-12T12:45:26.369Z"
   },
   {
    "duration": 7,
    "start_time": "2023-03-12T12:45:45.310Z"
   },
   {
    "duration": 8,
    "start_time": "2023-03-12T12:48:33.780Z"
   },
   {
    "duration": 8,
    "start_time": "2023-03-12T12:50:49.980Z"
   },
   {
    "duration": 1096,
    "start_time": "2023-03-12T12:50:55.591Z"
   },
   {
    "duration": 9,
    "start_time": "2023-03-12T12:51:09.930Z"
   },
   {
    "duration": 14,
    "start_time": "2023-03-12T12:51:21.049Z"
   },
   {
    "duration": 8,
    "start_time": "2023-03-12T12:51:28.419Z"
   },
   {
    "duration": 17,
    "start_time": "2023-03-12T12:51:31.749Z"
   },
   {
    "duration": 234,
    "start_time": "2023-03-12T12:51:37.371Z"
   },
   {
    "duration": 19,
    "start_time": "2023-03-12T12:55:18.280Z"
   },
   {
    "duration": 751,
    "start_time": "2023-03-12T12:55:49.650Z"
   },
   {
    "duration": 6,
    "start_time": "2023-03-12T12:55:54.840Z"
   },
   {
    "duration": 149,
    "start_time": "2023-03-12T12:56:46.029Z"
   },
   {
    "duration": 173,
    "start_time": "2023-03-12T12:56:57.753Z"
   },
   {
    "duration": 10,
    "start_time": "2023-03-12T12:57:42.131Z"
   },
   {
    "duration": 192,
    "start_time": "2023-03-12T12:57:47.277Z"
   },
   {
    "duration": 52,
    "start_time": "2023-03-12T12:58:46.730Z"
   },
   {
    "duration": 173,
    "start_time": "2023-03-12T13:00:21.260Z"
   },
   {
    "duration": 234,
    "start_time": "2023-03-12T13:00:31.657Z"
   },
   {
    "duration": 892,
    "start_time": "2023-03-12T13:01:46.440Z"
   },
   {
    "duration": 770,
    "start_time": "2023-03-12T13:01:53.649Z"
   },
   {
    "duration": 3,
    "start_time": "2023-03-12T13:05:29.185Z"
   },
   {
    "duration": 244,
    "start_time": "2023-03-12T13:08:54.046Z"
   },
   {
    "duration": 26,
    "start_time": "2023-03-12T13:13:10.160Z"
   },
   {
    "duration": 316,
    "start_time": "2023-03-12T13:13:23.640Z"
   },
   {
    "duration": 19,
    "start_time": "2023-03-12T13:14:18.851Z"
   },
   {
    "duration": 62,
    "start_time": "2023-03-12T13:14:32.140Z"
   },
   {
    "duration": 7,
    "start_time": "2023-03-12T13:16:30.610Z"
   },
   {
    "duration": 223,
    "start_time": "2023-03-12T13:16:57.904Z"
   },
   {
    "duration": 190,
    "start_time": "2023-03-12T13:23:29.189Z"
   },
   {
    "duration": 41,
    "start_time": "2023-03-12T13:23:41.750Z"
   },
   {
    "duration": 209,
    "start_time": "2023-03-12T13:23:48.054Z"
   },
   {
    "duration": 49,
    "start_time": "2023-03-12T14:02:42.068Z"
   },
   {
    "duration": 22,
    "start_time": "2023-03-12T14:03:16.777Z"
   },
   {
    "duration": 20,
    "start_time": "2023-03-12T14:03:25.176Z"
   },
   {
    "duration": 25,
    "start_time": "2023-03-12T14:03:27.736Z"
   },
   {
    "duration": 23,
    "start_time": "2023-03-12T14:04:22.996Z"
   },
   {
    "duration": 42,
    "start_time": "2023-03-12T14:04:41.294Z"
   },
   {
    "duration": 15,
    "start_time": "2023-03-12T14:07:01.089Z"
   },
   {
    "duration": 20,
    "start_time": "2023-03-12T14:08:00.774Z"
   },
   {
    "duration": 45,
    "start_time": "2023-03-12T14:08:14.904Z"
   },
   {
    "duration": 53,
    "start_time": "2023-03-12T14:08:35.293Z"
   },
   {
    "duration": 44,
    "start_time": "2023-03-12T14:09:23.904Z"
   },
   {
    "duration": 50,
    "start_time": "2023-03-12T14:09:34.535Z"
   },
   {
    "duration": 20,
    "start_time": "2023-03-12T14:10:25.504Z"
   },
   {
    "duration": 23,
    "start_time": "2023-03-12T14:11:55.768Z"
   },
   {
    "duration": 20,
    "start_time": "2023-03-12T14:12:02.097Z"
   },
   {
    "duration": 24,
    "start_time": "2023-03-12T14:12:16.397Z"
   },
   {
    "duration": 16,
    "start_time": "2023-03-12T14:12:38.296Z"
   },
   {
    "duration": 684,
    "start_time": "2023-03-12T14:13:24.013Z"
   },
   {
    "duration": 16,
    "start_time": "2023-03-12T14:13:39.186Z"
   },
   {
    "duration": 707,
    "start_time": "2023-03-12T14:14:19.640Z"
   },
   {
    "duration": 774,
    "start_time": "2023-03-12T14:14:29.427Z"
   },
   {
    "duration": 19,
    "start_time": "2023-03-12T14:14:51.505Z"
   },
   {
    "duration": 26,
    "start_time": "2023-03-12T14:19:40.983Z"
   },
   {
    "duration": 19,
    "start_time": "2023-03-12T14:19:56.486Z"
   },
   {
    "duration": 20,
    "start_time": "2023-03-12T14:20:09.434Z"
   },
   {
    "duration": 19,
    "start_time": "2023-03-12T14:20:12.345Z"
   },
   {
    "duration": 17,
    "start_time": "2023-03-12T14:20:21.995Z"
   },
   {
    "duration": 6,
    "start_time": "2023-03-12T14:28:21.034Z"
   },
   {
    "duration": 6,
    "start_time": "2023-03-12T14:30:06.584Z"
   },
   {
    "duration": 6,
    "start_time": "2023-03-12T14:31:08.641Z"
   },
   {
    "duration": 5,
    "start_time": "2023-03-12T14:35:10.171Z"
   },
   {
    "duration": 6,
    "start_time": "2023-03-12T14:35:20.544Z"
   },
   {
    "duration": 9,
    "start_time": "2023-03-12T14:37:35.972Z"
   },
   {
    "duration": 8,
    "start_time": "2023-03-12T14:39:49.982Z"
   },
   {
    "duration": 9,
    "start_time": "2023-03-12T14:39:55.968Z"
   },
   {
    "duration": 7,
    "start_time": "2023-03-12T14:39:58.903Z"
   },
   {
    "duration": 4,
    "start_time": "2023-03-12T14:39:59.747Z"
   },
   {
    "duration": 7,
    "start_time": "2023-03-12T14:40:06.073Z"
   },
   {
    "duration": 7,
    "start_time": "2023-03-12T14:40:15.453Z"
   },
   {
    "duration": 14,
    "start_time": "2023-03-12T14:43:53.123Z"
   },
   {
    "duration": 15,
    "start_time": "2023-03-12T14:44:15.790Z"
   },
   {
    "duration": 24,
    "start_time": "2023-03-12T14:44:20.952Z"
   },
   {
    "duration": 53,
    "start_time": "2023-03-12T15:12:26.133Z"
   },
   {
    "duration": 35,
    "start_time": "2023-03-12T15:12:38.123Z"
   },
   {
    "duration": 20,
    "start_time": "2023-03-12T15:15:07.052Z"
   },
   {
    "duration": 5,
    "start_time": "2023-03-12T15:16:46.592Z"
   },
   {
    "duration": 25,
    "start_time": "2023-03-12T15:17:05.523Z"
   },
   {
    "duration": 20,
    "start_time": "2023-03-12T15:17:16.423Z"
   },
   {
    "duration": 21,
    "start_time": "2023-03-12T15:17:23.162Z"
   },
   {
    "duration": 6,
    "start_time": "2023-03-12T15:19:49.822Z"
   },
   {
    "duration": 5,
    "start_time": "2023-03-12T15:19:59.482Z"
   },
   {
    "duration": 21,
    "start_time": "2023-03-12T15:26:22.033Z"
   },
   {
    "duration": 22,
    "start_time": "2023-03-12T15:27:39.556Z"
   },
   {
    "duration": 24,
    "start_time": "2023-03-12T15:28:02.661Z"
   },
   {
    "duration": 29,
    "start_time": "2023-03-12T15:28:15.648Z"
   },
   {
    "duration": 32,
    "start_time": "2023-03-12T15:28:24.610Z"
   },
   {
    "duration": 20,
    "start_time": "2023-03-12T15:28:55.252Z"
   },
   {
    "duration": 17,
    "start_time": "2023-03-12T15:29:30.282Z"
   },
   {
    "duration": 25,
    "start_time": "2023-03-12T15:31:15.372Z"
   },
   {
    "duration": 30,
    "start_time": "2023-03-12T15:31:41.312Z"
   },
   {
    "duration": 10,
    "start_time": "2023-03-12T15:42:08.412Z"
   },
   {
    "duration": 5,
    "start_time": "2023-03-12T15:43:57.042Z"
   },
   {
    "duration": 4,
    "start_time": "2023-03-12T15:44:00.291Z"
   },
   {
    "duration": 7,
    "start_time": "2023-03-12T15:45:10.901Z"
   },
   {
    "duration": 8,
    "start_time": "2023-03-12T15:45:19.181Z"
   },
   {
    "duration": 13,
    "start_time": "2023-03-12T15:46:25.605Z"
   },
   {
    "duration": 8,
    "start_time": "2023-03-12T15:49:51.428Z"
   },
   {
    "duration": 4,
    "start_time": "2023-03-12T15:50:09.197Z"
   },
   {
    "duration": 9,
    "start_time": "2023-03-12T15:50:15.554Z"
   },
   {
    "duration": 18,
    "start_time": "2023-03-12T15:52:08.420Z"
   },
   {
    "duration": 23,
    "start_time": "2023-03-12T15:52:17.998Z"
   },
   {
    "duration": 9,
    "start_time": "2023-03-12T15:52:42.389Z"
   },
   {
    "duration": 8,
    "start_time": "2023-03-12T15:52:44.411Z"
   },
   {
    "duration": 7,
    "start_time": "2023-03-12T15:52:47.401Z"
   },
   {
    "duration": 28,
    "start_time": "2023-03-12T15:54:55.589Z"
   },
   {
    "duration": 26,
    "start_time": "2023-03-12T16:36:04.231Z"
   },
   {
    "duration": 20,
    "start_time": "2023-03-12T16:36:39.777Z"
   },
   {
    "duration": 21,
    "start_time": "2023-03-12T16:36:57.891Z"
   },
   {
    "duration": 21,
    "start_time": "2023-03-12T16:37:35.678Z"
   },
   {
    "duration": 19,
    "start_time": "2023-03-12T16:38:18.377Z"
   },
   {
    "duration": 30,
    "start_time": "2023-03-12T16:44:15.185Z"
   },
   {
    "duration": 19,
    "start_time": "2023-03-12T16:44:31.593Z"
   },
   {
    "duration": 34,
    "start_time": "2023-03-12T17:07:12.701Z"
   },
   {
    "duration": 23,
    "start_time": "2023-03-12T17:08:37.173Z"
   },
   {
    "duration": 7,
    "start_time": "2023-03-12T17:10:41.104Z"
   },
   {
    "duration": 9,
    "start_time": "2023-03-12T17:10:51.386Z"
   },
   {
    "duration": 8,
    "start_time": "2023-03-12T17:13:56.978Z"
   },
   {
    "duration": 11,
    "start_time": "2023-03-12T17:15:25.580Z"
   },
   {
    "duration": 6,
    "start_time": "2023-03-12T17:15:56.024Z"
   },
   {
    "duration": 7,
    "start_time": "2023-03-12T17:16:01.041Z"
   },
   {
    "duration": 18,
    "start_time": "2023-03-12T17:18:45.985Z"
   },
   {
    "duration": 42,
    "start_time": "2023-03-12T17:19:08.048Z"
   },
   {
    "duration": 37,
    "start_time": "2023-03-12T17:19:15.741Z"
   },
   {
    "duration": 21,
    "start_time": "2023-03-12T17:19:48.596Z"
   },
   {
    "duration": 38,
    "start_time": "2023-03-12T17:19:53.444Z"
   },
   {
    "duration": 1205,
    "start_time": "2023-03-13T08:20:21.677Z"
   },
   {
    "duration": 702,
    "start_time": "2023-03-13T08:20:48.480Z"
   },
   {
    "duration": 22,
    "start_time": "2023-03-13T08:20:49.184Z"
   },
   {
    "duration": 16,
    "start_time": "2023-03-13T08:20:49.208Z"
   },
   {
    "duration": 9,
    "start_time": "2023-03-13T08:20:49.226Z"
   },
   {
    "duration": 50,
    "start_time": "2023-03-13T08:20:49.238Z"
   },
   {
    "duration": 5,
    "start_time": "2023-03-13T08:20:49.289Z"
   },
   {
    "duration": 13,
    "start_time": "2023-03-13T08:20:49.296Z"
   },
   {
    "duration": 7,
    "start_time": "2023-03-13T08:20:49.310Z"
   },
   {
    "duration": 12,
    "start_time": "2023-03-13T08:20:49.318Z"
   },
   {
    "duration": 26,
    "start_time": "2023-03-13T08:20:49.332Z"
   },
   {
    "duration": 37,
    "start_time": "2023-03-13T08:20:49.360Z"
   },
   {
    "duration": 11,
    "start_time": "2023-03-13T08:20:49.399Z"
   },
   {
    "duration": 4,
    "start_time": "2023-03-13T08:20:49.412Z"
   },
   {
    "duration": 17,
    "start_time": "2023-03-13T08:20:49.419Z"
   },
   {
    "duration": 38,
    "start_time": "2023-03-13T08:20:49.438Z"
   },
   {
    "duration": 17,
    "start_time": "2023-03-13T08:20:49.477Z"
   },
   {
    "duration": 4,
    "start_time": "2023-03-13T08:20:49.496Z"
   },
   {
    "duration": 16,
    "start_time": "2023-03-13T08:20:49.501Z"
   },
   {
    "duration": 9,
    "start_time": "2023-03-13T08:20:49.519Z"
   },
   {
    "duration": 6,
    "start_time": "2023-03-13T08:20:49.529Z"
   },
   {
    "duration": 28,
    "start_time": "2023-03-13T08:20:49.536Z"
   },
   {
    "duration": 8,
    "start_time": "2023-03-13T08:20:49.565Z"
   },
   {
    "duration": 7,
    "start_time": "2023-03-13T08:20:49.574Z"
   },
   {
    "duration": 27,
    "start_time": "2023-03-13T08:20:49.582Z"
   },
   {
    "duration": 5,
    "start_time": "2023-03-13T08:20:49.610Z"
   },
   {
    "duration": 86,
    "start_time": "2023-03-13T08:20:49.616Z"
   },
   {
    "duration": 0,
    "start_time": "2023-03-13T08:20:49.704Z"
   },
   {
    "duration": 0,
    "start_time": "2023-03-13T08:20:49.705Z"
   },
   {
    "duration": 0,
    "start_time": "2023-03-13T08:20:49.706Z"
   },
   {
    "duration": 0,
    "start_time": "2023-03-13T08:20:49.708Z"
   },
   {
    "duration": 0,
    "start_time": "2023-03-13T08:20:49.709Z"
   },
   {
    "duration": 0,
    "start_time": "2023-03-13T08:20:49.711Z"
   },
   {
    "duration": 0,
    "start_time": "2023-03-13T08:20:49.712Z"
   },
   {
    "duration": 0,
    "start_time": "2023-03-13T08:20:49.713Z"
   },
   {
    "duration": 0,
    "start_time": "2023-03-13T08:20:49.714Z"
   },
   {
    "duration": 0,
    "start_time": "2023-03-13T08:20:49.716Z"
   },
   {
    "duration": 0,
    "start_time": "2023-03-13T08:20:49.717Z"
   },
   {
    "duration": 0,
    "start_time": "2023-03-13T08:20:49.718Z"
   },
   {
    "duration": 0,
    "start_time": "2023-03-13T08:20:49.720Z"
   },
   {
    "duration": 0,
    "start_time": "2023-03-13T08:20:49.721Z"
   },
   {
    "duration": 1,
    "start_time": "2023-03-13T08:20:49.722Z"
   },
   {
    "duration": 0,
    "start_time": "2023-03-13T08:20:49.758Z"
   },
   {
    "duration": 0,
    "start_time": "2023-03-13T08:20:49.759Z"
   },
   {
    "duration": 0,
    "start_time": "2023-03-13T08:20:49.761Z"
   },
   {
    "duration": 0,
    "start_time": "2023-03-13T08:20:49.762Z"
   },
   {
    "duration": 0,
    "start_time": "2023-03-13T08:20:49.763Z"
   },
   {
    "duration": 460,
    "start_time": "2023-03-13T08:29:07.008Z"
   },
   {
    "duration": 22,
    "start_time": "2023-03-13T08:29:07.469Z"
   },
   {
    "duration": 15,
    "start_time": "2023-03-13T08:29:07.492Z"
   },
   {
    "duration": 11,
    "start_time": "2023-03-13T08:29:07.509Z"
   },
   {
    "duration": 58,
    "start_time": "2023-03-13T08:29:07.522Z"
   },
   {
    "duration": 4,
    "start_time": "2023-03-13T08:29:07.582Z"
   },
   {
    "duration": 22,
    "start_time": "2023-03-13T08:29:07.588Z"
   },
   {
    "duration": 6,
    "start_time": "2023-03-13T08:29:07.612Z"
   },
   {
    "duration": 8,
    "start_time": "2023-03-13T08:29:07.619Z"
   },
   {
    "duration": 4,
    "start_time": "2023-03-13T08:29:07.631Z"
   },
   {
    "duration": 51,
    "start_time": "2023-03-13T08:29:07.637Z"
   },
   {
    "duration": 11,
    "start_time": "2023-03-13T08:29:07.689Z"
   },
   {
    "duration": 12,
    "start_time": "2023-03-13T08:29:07.701Z"
   },
   {
    "duration": 28,
    "start_time": "2023-03-13T08:29:07.714Z"
   },
   {
    "duration": 21,
    "start_time": "2023-03-13T08:29:07.743Z"
   },
   {
    "duration": 20,
    "start_time": "2023-03-13T08:29:07.766Z"
   },
   {
    "duration": 4,
    "start_time": "2023-03-13T08:29:07.788Z"
   },
   {
    "duration": 25,
    "start_time": "2023-03-13T08:29:07.795Z"
   },
   {
    "duration": 18,
    "start_time": "2023-03-13T08:29:07.821Z"
   },
   {
    "duration": 10,
    "start_time": "2023-03-13T08:29:07.840Z"
   },
   {
    "duration": 24,
    "start_time": "2023-03-13T08:29:07.852Z"
   },
   {
    "duration": 16,
    "start_time": "2023-03-13T08:29:07.877Z"
   },
   {
    "duration": 6,
    "start_time": "2023-03-13T08:29:07.895Z"
   },
   {
    "duration": 36,
    "start_time": "2023-03-13T08:29:07.903Z"
   },
   {
    "duration": 5,
    "start_time": "2023-03-13T08:29:07.940Z"
   },
   {
    "duration": 66,
    "start_time": "2023-03-13T08:29:07.946Z"
   },
   {
    "duration": 0,
    "start_time": "2023-03-13T08:29:08.014Z"
   },
   {
    "duration": 0,
    "start_time": "2023-03-13T08:29:08.015Z"
   },
   {
    "duration": 0,
    "start_time": "2023-03-13T08:29:08.017Z"
   },
   {
    "duration": 0,
    "start_time": "2023-03-13T08:29:08.018Z"
   },
   {
    "duration": 0,
    "start_time": "2023-03-13T08:29:08.019Z"
   },
   {
    "duration": 0,
    "start_time": "2023-03-13T08:29:08.020Z"
   },
   {
    "duration": 0,
    "start_time": "2023-03-13T08:29:08.021Z"
   },
   {
    "duration": 0,
    "start_time": "2023-03-13T08:29:08.022Z"
   },
   {
    "duration": 0,
    "start_time": "2023-03-13T08:29:08.023Z"
   },
   {
    "duration": 0,
    "start_time": "2023-03-13T08:29:08.024Z"
   },
   {
    "duration": 0,
    "start_time": "2023-03-13T08:29:08.025Z"
   },
   {
    "duration": 0,
    "start_time": "2023-03-13T08:29:08.027Z"
   },
   {
    "duration": 0,
    "start_time": "2023-03-13T08:29:08.027Z"
   },
   {
    "duration": 0,
    "start_time": "2023-03-13T08:29:08.028Z"
   },
   {
    "duration": 0,
    "start_time": "2023-03-13T08:29:08.029Z"
   },
   {
    "duration": 0,
    "start_time": "2023-03-13T08:29:08.030Z"
   },
   {
    "duration": 0,
    "start_time": "2023-03-13T08:29:08.032Z"
   },
   {
    "duration": 0,
    "start_time": "2023-03-13T08:29:08.057Z"
   },
   {
    "duration": 0,
    "start_time": "2023-03-13T08:29:08.058Z"
   },
   {
    "duration": 0,
    "start_time": "2023-03-13T08:29:08.059Z"
   },
   {
    "duration": 50,
    "start_time": "2023-04-06T21:15:42.217Z"
   },
   {
    "duration": 499,
    "start_time": "2023-04-06T21:15:51.718Z"
   },
   {
    "duration": 24,
    "start_time": "2023-04-06T21:15:52.219Z"
   },
   {
    "duration": 15,
    "start_time": "2023-04-06T21:15:52.244Z"
   },
   {
    "duration": 13,
    "start_time": "2023-04-06T21:15:52.261Z"
   },
   {
    "duration": 34,
    "start_time": "2023-04-06T21:15:52.283Z"
   },
   {
    "duration": 4,
    "start_time": "2023-04-06T21:15:52.319Z"
   },
   {
    "duration": 10,
    "start_time": "2023-04-06T21:15:52.324Z"
   },
   {
    "duration": 5,
    "start_time": "2023-04-06T21:15:52.336Z"
   },
   {
    "duration": 9,
    "start_time": "2023-04-06T21:15:52.342Z"
   },
   {
    "duration": 6,
    "start_time": "2023-04-06T21:15:52.374Z"
   },
   {
    "duration": 36,
    "start_time": "2023-04-06T21:15:52.383Z"
   },
   {
    "duration": 9,
    "start_time": "2023-04-06T21:15:52.420Z"
   },
   {
    "duration": 3,
    "start_time": "2023-04-06T21:15:52.430Z"
   },
   {
    "duration": 9,
    "start_time": "2023-04-06T21:15:52.436Z"
   },
   {
    "duration": 40,
    "start_time": "2023-04-06T21:15:52.446Z"
   },
   {
    "duration": 15,
    "start_time": "2023-04-06T21:15:52.488Z"
   },
   {
    "duration": 4,
    "start_time": "2023-04-06T21:15:52.504Z"
   },
   {
    "duration": 13,
    "start_time": "2023-04-06T21:15:52.509Z"
   },
   {
    "duration": 5,
    "start_time": "2023-04-06T21:15:52.523Z"
   },
   {
    "duration": 3,
    "start_time": "2023-04-06T21:15:52.530Z"
   },
   {
    "duration": 41,
    "start_time": "2023-04-06T21:15:52.534Z"
   },
   {
    "duration": 4,
    "start_time": "2023-04-06T21:15:52.580Z"
   },
   {
    "duration": 6,
    "start_time": "2023-04-06T21:15:52.586Z"
   },
   {
    "duration": 14,
    "start_time": "2023-04-06T21:15:52.593Z"
   },
   {
    "duration": 4,
    "start_time": "2023-04-06T21:15:52.609Z"
   },
   {
    "duration": 86,
    "start_time": "2023-04-06T21:15:52.615Z"
   },
   {
    "duration": 0,
    "start_time": "2023-04-06T21:15:52.702Z"
   },
   {
    "duration": 0,
    "start_time": "2023-04-06T21:15:52.704Z"
   },
   {
    "duration": 0,
    "start_time": "2023-04-06T21:15:52.705Z"
   },
   {
    "duration": 0,
    "start_time": "2023-04-06T21:15:52.706Z"
   },
   {
    "duration": 0,
    "start_time": "2023-04-06T21:15:52.708Z"
   },
   {
    "duration": 0,
    "start_time": "2023-04-06T21:15:52.709Z"
   },
   {
    "duration": 0,
    "start_time": "2023-04-06T21:15:52.710Z"
   },
   {
    "duration": 0,
    "start_time": "2023-04-06T21:15:52.711Z"
   },
   {
    "duration": 0,
    "start_time": "2023-04-06T21:15:52.712Z"
   },
   {
    "duration": 0,
    "start_time": "2023-04-06T21:15:52.713Z"
   },
   {
    "duration": 0,
    "start_time": "2023-04-06T21:15:52.713Z"
   },
   {
    "duration": 0,
    "start_time": "2023-04-06T21:15:52.714Z"
   },
   {
    "duration": 0,
    "start_time": "2023-04-06T21:15:52.715Z"
   },
   {
    "duration": 0,
    "start_time": "2023-04-06T21:15:52.716Z"
   },
   {
    "duration": 0,
    "start_time": "2023-04-06T21:15:52.717Z"
   },
   {
    "duration": 0,
    "start_time": "2023-04-06T21:15:52.718Z"
   },
   {
    "duration": 0,
    "start_time": "2023-04-06T21:15:52.720Z"
   },
   {
    "duration": 0,
    "start_time": "2023-04-06T21:15:52.721Z"
   },
   {
    "duration": 0,
    "start_time": "2023-04-06T21:15:52.722Z"
   },
   {
    "duration": 0,
    "start_time": "2023-04-06T21:15:52.723Z"
   },
   {
    "duration": 20,
    "start_time": "2023-04-06T21:15:58.782Z"
   },
   {
    "duration": 3,
    "start_time": "2023-04-06T21:17:28.946Z"
   },
   {
    "duration": 13,
    "start_time": "2023-04-06T21:17:40.404Z"
   },
   {
    "duration": 30,
    "start_time": "2023-04-06T21:17:59.323Z"
   },
   {
    "duration": 747,
    "start_time": "2023-09-26T19:27:33.436Z"
   },
   {
    "duration": 24,
    "start_time": "2023-09-26T19:27:34.185Z"
   },
   {
    "duration": 18,
    "start_time": "2023-09-26T19:27:34.210Z"
   },
   {
    "duration": 11,
    "start_time": "2023-09-26T19:27:34.229Z"
   },
   {
    "duration": 40,
    "start_time": "2023-09-26T19:27:34.247Z"
   },
   {
    "duration": 4,
    "start_time": "2023-09-26T19:27:34.289Z"
   },
   {
    "duration": 12,
    "start_time": "2023-09-26T19:27:34.295Z"
   },
   {
    "duration": 9,
    "start_time": "2023-09-26T19:27:34.309Z"
   },
   {
    "duration": 32,
    "start_time": "2023-09-26T19:27:34.320Z"
   },
   {
    "duration": 11,
    "start_time": "2023-09-26T19:27:34.354Z"
   },
   {
    "duration": 40,
    "start_time": "2023-09-26T19:27:34.366Z"
   },
   {
    "duration": 11,
    "start_time": "2023-09-26T19:27:34.408Z"
   },
   {
    "duration": 10,
    "start_time": "2023-09-26T19:27:34.421Z"
   },
   {
    "duration": 13,
    "start_time": "2023-09-26T19:27:34.446Z"
   },
   {
    "duration": 30,
    "start_time": "2023-09-26T19:27:34.461Z"
   },
   {
    "duration": 18,
    "start_time": "2023-09-26T19:27:34.493Z"
   },
   {
    "duration": 13,
    "start_time": "2023-09-26T19:27:34.513Z"
   },
   {
    "duration": 37,
    "start_time": "2023-09-26T19:27:34.528Z"
   },
   {
    "duration": 6,
    "start_time": "2023-09-26T19:27:34.567Z"
   },
   {
    "duration": 4,
    "start_time": "2023-09-26T19:27:34.575Z"
   },
   {
    "duration": 15,
    "start_time": "2023-09-26T19:27:34.580Z"
   },
   {
    "duration": 8,
    "start_time": "2023-09-26T19:27:34.596Z"
   },
   {
    "duration": 6,
    "start_time": "2023-09-26T19:27:34.606Z"
   },
   {
    "duration": 50,
    "start_time": "2023-09-26T19:27:34.614Z"
   },
   {
    "duration": 5,
    "start_time": "2023-09-26T19:27:34.666Z"
   },
   {
    "duration": 98,
    "start_time": "2023-09-26T19:27:34.672Z"
   },
   {
    "duration": 0,
    "start_time": "2023-09-26T19:27:34.772Z"
   },
   {
    "duration": 0,
    "start_time": "2023-09-26T19:27:34.773Z"
   },
   {
    "duration": 0,
    "start_time": "2023-09-26T19:27:34.774Z"
   },
   {
    "duration": 0,
    "start_time": "2023-09-26T19:27:34.775Z"
   },
   {
    "duration": 0,
    "start_time": "2023-09-26T19:27:34.776Z"
   },
   {
    "duration": 0,
    "start_time": "2023-09-26T19:27:34.777Z"
   },
   {
    "duration": 0,
    "start_time": "2023-09-26T19:27:34.778Z"
   },
   {
    "duration": 0,
    "start_time": "2023-09-26T19:27:34.779Z"
   },
   {
    "duration": 0,
    "start_time": "2023-09-26T19:27:34.781Z"
   },
   {
    "duration": 0,
    "start_time": "2023-09-26T19:27:34.782Z"
   },
   {
    "duration": 0,
    "start_time": "2023-09-26T19:27:34.782Z"
   },
   {
    "duration": 0,
    "start_time": "2023-09-26T19:27:34.784Z"
   },
   {
    "duration": 0,
    "start_time": "2023-09-26T19:27:34.785Z"
   },
   {
    "duration": 0,
    "start_time": "2023-09-26T19:27:34.786Z"
   },
   {
    "duration": 0,
    "start_time": "2023-09-26T19:27:34.787Z"
   },
   {
    "duration": 0,
    "start_time": "2023-09-26T19:27:34.788Z"
   },
   {
    "duration": 0,
    "start_time": "2023-09-26T19:27:34.789Z"
   },
   {
    "duration": 0,
    "start_time": "2023-09-26T19:27:34.790Z"
   },
   {
    "duration": 0,
    "start_time": "2023-09-26T19:27:34.791Z"
   },
   {
    "duration": 0,
    "start_time": "2023-09-26T19:27:34.792Z"
   },
   {
    "duration": 15,
    "start_time": "2023-09-26T19:28:27.716Z"
   },
   {
    "duration": 22,
    "start_time": "2023-09-26T19:30:32.978Z"
   },
   {
    "duration": 79,
    "start_time": "2023-09-26T19:30:41.800Z"
   },
   {
    "duration": 17,
    "start_time": "2023-09-26T19:30:41.881Z"
   },
   {
    "duration": 27,
    "start_time": "2023-09-26T19:30:41.899Z"
   },
   {
    "duration": 22,
    "start_time": "2023-09-26T19:30:41.928Z"
   },
   {
    "duration": 52,
    "start_time": "2023-09-26T19:30:41.952Z"
   },
   {
    "duration": 3,
    "start_time": "2023-09-26T19:30:42.006Z"
   },
   {
    "duration": 10,
    "start_time": "2023-09-26T19:30:42.011Z"
   },
   {
    "duration": 6,
    "start_time": "2023-09-26T19:30:42.023Z"
   },
   {
    "duration": 18,
    "start_time": "2023-09-26T19:30:42.031Z"
   },
   {
    "duration": 5,
    "start_time": "2023-09-26T19:30:42.051Z"
   },
   {
    "duration": 66,
    "start_time": "2023-09-26T19:30:42.057Z"
   },
   {
    "duration": 12,
    "start_time": "2023-09-26T19:30:42.125Z"
   },
   {
    "duration": 11,
    "start_time": "2023-09-26T19:30:42.139Z"
   },
   {
    "duration": 43,
    "start_time": "2023-09-26T19:30:42.154Z"
   },
   {
    "duration": 35,
    "start_time": "2023-09-26T19:30:42.199Z"
   },
   {
    "duration": 19,
    "start_time": "2023-09-26T19:30:42.236Z"
   },
   {
    "duration": 15,
    "start_time": "2023-09-26T19:30:42.257Z"
   },
   {
    "duration": 31,
    "start_time": "2023-09-26T19:30:42.273Z"
   },
   {
    "duration": 6,
    "start_time": "2023-09-26T19:30:42.305Z"
   },
   {
    "duration": 17,
    "start_time": "2023-09-26T19:30:42.312Z"
   },
   {
    "duration": 16,
    "start_time": "2023-09-26T19:30:42.331Z"
   },
   {
    "duration": 16,
    "start_time": "2023-09-26T19:30:42.348Z"
   },
   {
    "duration": 28,
    "start_time": "2023-09-26T19:30:42.365Z"
   },
   {
    "duration": 21,
    "start_time": "2023-09-26T19:30:42.395Z"
   },
   {
    "duration": 5,
    "start_time": "2023-09-26T19:30:42.417Z"
   },
   {
    "duration": 12,
    "start_time": "2023-09-26T19:30:42.424Z"
   },
   {
    "duration": 0,
    "start_time": "2023-09-26T19:30:42.437Z"
   },
   {
    "duration": 0,
    "start_time": "2023-09-26T19:30:42.439Z"
   },
   {
    "duration": 0,
    "start_time": "2023-09-26T19:30:42.439Z"
   },
   {
    "duration": 0,
    "start_time": "2023-09-26T19:30:42.440Z"
   },
   {
    "duration": 0,
    "start_time": "2023-09-26T19:30:42.442Z"
   },
   {
    "duration": 0,
    "start_time": "2023-09-26T19:30:42.446Z"
   },
   {
    "duration": 0,
    "start_time": "2023-09-26T19:30:42.447Z"
   },
   {
    "duration": 0,
    "start_time": "2023-09-26T19:30:42.448Z"
   },
   {
    "duration": 0,
    "start_time": "2023-09-26T19:30:42.449Z"
   },
   {
    "duration": 24,
    "start_time": "2023-09-26T19:30:43.412Z"
   },
   {
    "duration": 0,
    "start_time": "2023-09-26T19:30:43.438Z"
   },
   {
    "duration": 0,
    "start_time": "2023-09-26T19:30:43.439Z"
   },
   {
    "duration": 0,
    "start_time": "2023-09-26T19:30:43.440Z"
   },
   {
    "duration": 0,
    "start_time": "2023-09-26T19:30:43.442Z"
   },
   {
    "duration": 0,
    "start_time": "2023-09-26T19:30:43.443Z"
   },
   {
    "duration": 0,
    "start_time": "2023-09-26T19:30:43.444Z"
   },
   {
    "duration": 0,
    "start_time": "2023-09-26T19:30:43.446Z"
   },
   {
    "duration": 0,
    "start_time": "2023-09-26T19:30:43.447Z"
   },
   {
    "duration": 8,
    "start_time": "2023-09-26T19:30:43.496Z"
   },
   {
    "duration": 0,
    "start_time": "2023-09-26T19:30:43.505Z"
   },
   {
    "duration": 18,
    "start_time": "2023-09-26T19:36:10.453Z"
   },
   {
    "duration": 38,
    "start_time": "2023-09-26T19:36:17.505Z"
   },
   {
    "duration": 3,
    "start_time": "2023-09-26T19:36:21.575Z"
   },
   {
    "duration": 8,
    "start_time": "2023-09-26T19:36:22.395Z"
   },
   {
    "duration": 5,
    "start_time": "2023-09-26T19:36:24.014Z"
   },
   {
    "duration": 8,
    "start_time": "2023-09-26T19:36:24.675Z"
   },
   {
    "duration": 5,
    "start_time": "2023-09-26T19:36:25.746Z"
   },
   {
    "duration": 37,
    "start_time": "2023-09-26T19:36:27.641Z"
   },
   {
    "duration": 14,
    "start_time": "2023-09-26T19:36:28.985Z"
   },
   {
    "duration": 4,
    "start_time": "2023-09-26T19:36:31.975Z"
   },
   {
    "duration": 14,
    "start_time": "2023-09-26T19:36:34.056Z"
   },
   {
    "duration": 23,
    "start_time": "2023-09-26T19:36:34.707Z"
   },
   {
    "duration": 24,
    "start_time": "2023-09-26T19:36:34.986Z"
   },
   {
    "duration": 16,
    "start_time": "2023-09-26T19:36:36.057Z"
   },
   {
    "duration": 22,
    "start_time": "2023-09-26T19:36:36.566Z"
   },
   {
    "duration": 7,
    "start_time": "2023-09-26T19:36:38.056Z"
   },
   {
    "duration": 3,
    "start_time": "2023-09-26T19:36:41.676Z"
   },
   {
    "duration": 9,
    "start_time": "2023-09-26T19:36:42.346Z"
   },
   {
    "duration": 5,
    "start_time": "2023-09-26T19:36:46.017Z"
   },
   {
    "duration": 5,
    "start_time": "2023-09-26T19:36:46.655Z"
   },
   {
    "duration": 20,
    "start_time": "2023-09-26T19:36:47.186Z"
   },
   {
    "duration": 5,
    "start_time": "2023-09-26T19:36:47.646Z"
   },
   {
    "duration": 8,
    "start_time": "2023-09-26T19:37:12.422Z"
   },
   {
    "duration": 7,
    "start_time": "2023-09-26T19:37:26.396Z"
   },
   {
    "duration": 10,
    "start_time": "2023-09-26T19:38:05.196Z"
   },
   {
    "duration": 20,
    "start_time": "2023-09-26T19:38:30.316Z"
   },
   {
    "duration": 583,
    "start_time": "2024-07-22T16:46:46.060Z"
   },
   {
    "duration": 23,
    "start_time": "2024-07-22T16:46:46.645Z"
   },
   {
    "duration": 20,
    "start_time": "2024-07-22T16:46:46.670Z"
   },
   {
    "duration": 11,
    "start_time": "2024-07-22T16:46:46.693Z"
   },
   {
    "duration": 40,
    "start_time": "2024-07-22T16:46:46.706Z"
   },
   {
    "duration": 3,
    "start_time": "2024-07-22T16:46:46.748Z"
   },
   {
    "duration": 20,
    "start_time": "2024-07-22T16:46:46.752Z"
   },
   {
    "duration": 4,
    "start_time": "2024-07-22T16:46:46.774Z"
   },
   {
    "duration": 15,
    "start_time": "2024-07-22T16:46:46.780Z"
   },
   {
    "duration": 5,
    "start_time": "2024-07-22T16:46:46.799Z"
   },
   {
    "duration": 71,
    "start_time": "2024-07-22T16:46:46.805Z"
   },
   {
    "duration": 11,
    "start_time": "2024-07-22T16:46:46.877Z"
   },
   {
    "duration": 4,
    "start_time": "2024-07-22T16:46:46.889Z"
   },
   {
    "duration": 11,
    "start_time": "2024-07-22T16:46:46.895Z"
   },
   {
    "duration": 50,
    "start_time": "2024-07-22T16:46:46.908Z"
   },
   {
    "duration": 18,
    "start_time": "2024-07-22T16:46:46.965Z"
   },
   {
    "duration": 14,
    "start_time": "2024-07-22T16:46:46.985Z"
   },
   {
    "duration": 23,
    "start_time": "2024-07-22T16:46:47.000Z"
   },
   {
    "duration": 13,
    "start_time": "2024-07-22T16:46:47.024Z"
   },
   {
    "duration": 3,
    "start_time": "2024-07-22T16:46:47.039Z"
   },
   {
    "duration": 10,
    "start_time": "2024-07-22T16:46:47.065Z"
   },
   {
    "duration": 4,
    "start_time": "2024-07-22T16:46:47.077Z"
   },
   {
    "duration": 10,
    "start_time": "2024-07-22T16:46:47.082Z"
   },
   {
    "duration": 32,
    "start_time": "2024-07-22T16:46:47.094Z"
   },
   {
    "duration": 5,
    "start_time": "2024-07-22T16:46:47.128Z"
   },
   {
    "duration": 8,
    "start_time": "2024-07-22T16:46:47.135Z"
   },
   {
    "duration": 21,
    "start_time": "2024-07-22T16:46:47.145Z"
   },
   {
    "duration": 4,
    "start_time": "2024-07-22T16:46:47.169Z"
   },
   {
    "duration": 1108,
    "start_time": "2024-07-22T16:46:47.175Z"
   },
   {
    "duration": 25,
    "start_time": "2024-07-22T16:46:48.285Z"
   },
   {
    "duration": 5,
    "start_time": "2024-07-22T16:46:48.312Z"
   },
   {
    "duration": 7,
    "start_time": "2024-07-22T16:46:48.319Z"
   },
   {
    "duration": 39,
    "start_time": "2024-07-22T16:46:48.327Z"
   },
   {
    "duration": 9,
    "start_time": "2024-07-22T16:46:48.367Z"
   },
   {
    "duration": 6,
    "start_time": "2024-07-22T16:46:48.377Z"
   },
   {
    "duration": 22,
    "start_time": "2024-07-22T16:46:48.385Z"
   },
   {
    "duration": 4,
    "start_time": "2024-07-22T16:46:48.409Z"
   },
   {
    "duration": 142,
    "start_time": "2024-07-22T16:46:48.415Z"
   },
   {
    "duration": 0,
    "start_time": "2024-07-22T16:46:48.565Z"
   },
   {
    "duration": 0,
    "start_time": "2024-07-22T16:46:48.566Z"
   },
   {
    "duration": 0,
    "start_time": "2024-07-22T16:46:48.567Z"
   },
   {
    "duration": 0,
    "start_time": "2024-07-22T16:46:48.568Z"
   },
   {
    "duration": 0,
    "start_time": "2024-07-22T16:46:48.569Z"
   },
   {
    "duration": 0,
    "start_time": "2024-07-22T16:46:48.570Z"
   },
   {
    "duration": 0,
    "start_time": "2024-07-22T16:46:48.572Z"
   },
   {
    "duration": 0,
    "start_time": "2024-07-22T16:46:48.572Z"
   }
  ],
  "colab": {
   "provenance": []
  },
  "kernelspec": {
   "display_name": "Python 3 (ipykernel)",
   "language": "python",
   "name": "python3"
  },
  "language_info": {
   "codemirror_mode": {
    "name": "ipython",
    "version": 3
   },
   "file_extension": ".py",
   "mimetype": "text/x-python",
   "name": "python",
   "nbconvert_exporter": "python",
   "pygments_lexer": "ipython3",
   "version": "3.9.5"
  },
  "toc": {
   "base_numbering": 1,
   "nav_menu": {},
   "number_sections": true,
   "sideBar": true,
   "skip_h1_title": true,
   "title_cell": "Table of Contents",
   "title_sidebar": "Contents",
   "toc_cell": false,
   "toc_position": {},
   "toc_section_display": true,
   "toc_window_display": false
  }
 },
 "nbformat": 4,
 "nbformat_minor": 5
}
